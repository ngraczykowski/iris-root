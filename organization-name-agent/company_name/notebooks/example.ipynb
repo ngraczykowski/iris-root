{
 "cells": [
  {
   "cell_type": "code",
   "execution_count": 1,
   "id": "changing-beads",
   "metadata": {},
   "outputs": [],
   "source": [
    "from compare import compare"
   ]
  },
  {
   "cell_type": "code",
   "execution_count": 2,
   "id": "present-hardwood",
   "metadata": {},
   "outputs": [
    {
     "data": {
      "text/plain": [
       "({'parenthesis_match': 0.0,\n",
       "  'abbreviation': 0,\n",
       "  'fuzzy_on_base': 1.0,\n",
       "  'fuzzy': 1.0,\n",
       "  'partial_fuzzy': 1.0,\n",
       "  'sorted_fuzzy': 1.0,\n",
       "  'legal_terms': 0.5,\n",
       "  'tokenization': 1.0,\n",
       "  'absolute_tokenization': 1,\n",
       "  'blacklisted': 0.0,\n",
       "  'country': 0.5,\n",
       "  'phonetics_on_base': 1.0,\n",
       "  'phonetics': 1.0},\n",
       " (OrderedDict([('common_prefixes', ()),\n",
       "               ('base', ('alphabet',)),\n",
       "               ('common_suffixes', ()),\n",
       "               ('legal', ()),\n",
       "               ('countries', ()),\n",
       "               ('parenthesis', ())]),\n",
       "  OrderedDict([('common_prefixes', ()),\n",
       "               ('base', ('alphabet',)),\n",
       "               ('common_suffixes', ()),\n",
       "               ('legal', ('inc',)),\n",
       "               ('countries', ()),\n",
       "               ('parenthesis', ())])))"
      ]
     },
     "execution_count": 2,
     "metadata": {},
     "output_type": "execute_result"
    }
   ],
   "source": [
    "compare(\"alphabet\", \"Alphabet inc.\")"
   ]
  },
  {
   "cell_type": "code",
   "execution_count": null,
   "id": "drawn-gibson",
   "metadata": {},
   "outputs": [],
   "source": []
  }
 ],
 "metadata": {
  "kernelspec": {
   "display_name": "Python 3",
   "language": "python",
   "name": "python3"
  },
  "language_info": {
   "codemirror_mode": {
    "name": "ipython",
    "version": 3
   },
   "file_extension": ".py",
   "mimetype": "text/x-python",
   "name": "python",
   "nbconvert_exporter": "python",
   "pygments_lexer": "ipython3",
   "version": "3.7.6"
  }
 },
 "nbformat": 4,
 "nbformat_minor": 5
}