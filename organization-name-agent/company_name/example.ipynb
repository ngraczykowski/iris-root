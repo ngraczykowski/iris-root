{
 "cells": [
  {
   "cell_type": "code",
   "execution_count": 1,
   "id": "changing-beads",
   "metadata": {},
   "outputs": [],
   "source": [
    "from compare import compare, score"
   ]
  },
  {
   "cell_type": "code",
   "execution_count": 2,
   "id": "present-hardwood",
   "metadata": {},
   "outputs": [
    {
     "data": {
      "text/plain": [
       "True"
      ]
     },
     "execution_count": 2,
     "metadata": {},
     "output_type": "execute_result"
    }
   ],
   "source": [
    "compare(\"Google\", \"gooogle\")"
   ]
  },
  {
   "cell_type": "code",
   "execution_count": 3,
   "id": "european-programmer",
   "metadata": {},
   "outputs": [
    {
     "data": {
      "text/plain": [
       "False"
      ]
     },
     "execution_count": 3,
     "metadata": {},
     "output_type": "execute_result"
    }
   ],
   "source": [
    "compare(\"Google\", \"gooogle\", fuzzy_match_threshold=1, abbreviate_threshold=0.8, tokenization_threshold=0.8)"
   ]
  },
  {
   "cell_type": "code",
   "execution_count": 4,
   "id": "aggregate-bahamas",
   "metadata": {},
   "outputs": [
    {
     "data": {
      "text/plain": [
       "{'parenthesis_match': 0.0,\n",
       " 'abbreviation': 0,\n",
       " 'fuzzy': 0.92,\n",
       " 'legal_terms': 0.5,\n",
       " 'tokenization': 0.0}"
      ]
     },
     "execution_count": 4,
     "metadata": {},
     "output_type": "execute_result"
    }
   ],
   "source": [
    "score(\"Google\", \"gooogle\")"
   ]
  },
  {
   "cell_type": "code",
   "execution_count": null,
   "id": "drawn-gibson",
   "metadata": {},
   "outputs": [],
   "source": []
  }
 ],
 "metadata": {
  "kernelspec": {
   "display_name": "Python 3",
   "language": "python",
   "name": "python3"
  },
  "language_info": {
   "codemirror_mode": {
    "name": "ipython",
    "version": 3
   },
   "file_extension": ".py",
   "mimetype": "text/x-python",
   "name": "python",
   "nbconvert_exporter": "python",
   "pygments_lexer": "ipython3",
   "version": "3.7.6"
  }
 },
 "nbformat": 4,
 "nbformat_minor": 5
}
