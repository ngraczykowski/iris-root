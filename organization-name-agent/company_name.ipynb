{
 "cells": [
  {
   "cell_type": "code",
   "execution_count": 1,
   "metadata": {},
   "outputs": [],
   "source": [
    "import itertools\n",
    "import re\n",
    "from typing import *"
   ]
  },
  {
   "cell_type": "code",
   "execution_count": 2,
   "metadata": {},
   "outputs": [],
   "source": [
    "LEGAL_TERMS = {\n",
    "    \"company\": (\"Co\", ),\n",
    "    \"limited partnership\": (\"lp\", ),\n",
    "    \"limited liability partnership\": (\"llp\", ),\n",
    "    \"limited liability limited partnership\": (\"lllp\",),\n",
    "    \"limited liability company\": (\"llc\", \"lc\", \"ltd co\", \"ltd\"),\n",
    "    \"professional limited liability company\": (\"pplc\", ),\n",
    "    'public limited company': ('plc', ),\n",
    "    'limited': ('ltd', ),\n",
    "    'corporation': ('corp', ),\n",
    "    'private': ('pvt', ),\n",
    "    'incorporated': ('inc', ),\n",
    "    'incorporation': ('inc', ),\n",
    "    'gesellschaft mit beschränkter haftung': ('gmbh', ),\n",
    "    'aktiengesellschaft': ('AG', ),\n",
    "}\n",
    "\n",
    "\n",
    "OTHER_SUFFIXES = {\n",
    "    \"association\",\n",
    "    \"organization\"\n",
    "}\n",
    "\n",
    "ALREADY_ABBREVIATIONS = set(itertools.chain(*LEGAL_TERMS.values()))\n",
    "\n",
    "WEAK_WORDS = {\"of\", \"the\", \"for\"}\n",
    "\n",
    "EXTRA_INFORMATION_REGEX = re.compile(r\"\\((.+)\\)\")"
   ]
  },
  {
   "cell_type": "code",
   "execution_count": 3,
   "metadata": {},
   "outputs": [],
   "source": [
    "#basic abbreviation - first letters, and, WEAK_WORDS\n",
    "def abbreviations_as_first_letters(words: List[str]):\n",
    "    if not words:\n",
    "        yield \"\"\n",
    "        return\n",
    "\n",
    "    for abbr in abbreviations_as_first_letters(words[1:]):\n",
    "        word = words[0]\n",
    "        if word in WEAK_WORDS:\n",
    "            yield abbr\n",
    "        if word == \"and\":\n",
    "            yield abbr\n",
    "            yield \"&\" + abbr\n",
    "        yield word[0].upper() + abbr"
   ]
  },
  {
   "cell_type": "code",
   "execution_count": 4,
   "metadata": {},
   "outputs": [],
   "source": [
    "#popular suffixes that sometimes are abbreviated and sometimes not\n",
    "\n",
    "def _split_other_suffixes(name: str) -> Tuple[str, Sequence[str]]:\n",
    "    for suffix in OTHER_SUFFIXES:\n",
    "        if name.endswith(suffix):\n",
    "            new_name = name[:-len(suffix)].strip()\n",
    "            even_shorter_name, other_suffixes = _split_other_suffixes(new_name)\n",
    "            return even_shorter_name, other_suffixes + [suffix]\n",
    "    return name, []\n",
    "\n",
    "def take_care_of_other_suffixes(name):\n",
    "    name, other_suffixes = _split_other_suffixes(name)\n",
    "    abbrv = list(abbreviations_as_first_letters(name.split()))\n",
    "    \n",
    "    all_results, whole_results = [], []\n",
    "    for abbr in abbrv:\n",
    "        for drop_limit in range(len(other_suffixes) + 1):\n",
    "            for abbreviation_limit in range(drop_limit + 1):\n",
    "                for abbr2 in abbreviations_as_first_letters(other_suffixes[:abbreviation_limit]):\n",
    "                    value = \" \".join((abbr + abbr2, *other_suffixes[abbreviation_limit:drop_limit])).strip()\n",
    "                    all_results.append(value)\n",
    "                    if drop_limit == len(other_suffixes):\n",
    "                        whole_results.append(value)\n",
    "    \n",
    "    return all_results, whole_results"
   ]
  },
  {
   "cell_type": "code",
   "execution_count": 5,
   "metadata": {},
   "outputs": [],
   "source": [
    "# legal suffixes\n",
    "\n",
    "def _split_legal_terms(name: str) -> Tuple[str, Sequence[str]]:\n",
    "    possible_splits = []\n",
    "    for legal_term in LEGAL_TERMS:\n",
    "        if name.endswith(legal_term):\n",
    "            possible_splits.append((name[:-len(legal_term)].strip(), legal_term))\n",
    "    \n",
    "    for legal_abbreviation in ALREADY_ABBREVIATIONS:\n",
    "        if name.endswith(legal_abbreviation):\n",
    "            possible_splits.append((name[:-len(legal_abbreviation)].strip(), legal_abbreviation))\n",
    "\n",
    "    if not possible_splits:\n",
    "        return name, []\n",
    "    \n",
    "    best_split = sorted((len(x[0]), x) for x in possible_splits)[0][1]\n",
    "\n",
    "    main_name, new_legal_terms = _split_legal_terms(best_split[0])\n",
    "    return main_name, new_legal_terms + [best_split[1]]\n",
    "\n",
    "def _generate_all_legal_suffixes(legal_suffixes):\n",
    "    legal_suffixes_possibilities = [(legal_suffix, *LEGAL_TERMS.get(legal_suffix, [])) for legal_suffix in legal_suffixes]\n",
    "    return  [\n",
    "        \" \".join(legal_abbreviations) for legal_abbreviations\n",
    "        in itertools.product(*legal_suffixes_possibilities)\n",
    "    ]\n",
    "\n",
    "def take_care_of_legal(name):\n",
    "    name, legal_suffixes = _split_legal_terms(name)\n",
    "    all_results, whole_results = take_care_of_other_suffixes(name)\n",
    "    \n",
    "    legal_results = [\n",
    "        (i + \" \" + j).strip()\n",
    "        for i, j in itertools.product(whole_results, _generate_all_legal_suffixes(legal_suffixes)) if j\n",
    "    ]\n",
    "    \n",
    "    legal_results += [\n",
    "        i + legal_suffixes[0][0].upper() \n",
    "        for i in whole_results if \" \" not in i and len(i) > 1\n",
    "    ] if len(legal_suffixes) == 1 else []\n",
    "    \n",
    "    all_results = all_results + legal_results\n",
    "    whole_results = legal_results if legal_suffixes else whole_results\n",
    "\n",
    "    return all_results, whole_results\n"
   ]
  },
  {
   "cell_type": "code",
   "execution_count": 6,
   "metadata": {},
   "outputs": [],
   "source": [
    "# extra information in parenthesis\n",
    "def _extract_extra_information(name):\n",
    "    found = list(EXTRA_INFORMATION_REGEX.finditer(name))\n",
    "    if found:\n",
    "        span = found[-1].span()\n",
    "        return name[:span[0]].strip(), name[span[0]:span[1]].strip(), name[span[1]:].strip()\n",
    "    else:\n",
    "        return name, None, None\n",
    "\n",
    "def take_care_of_extra(name):\n",
    "    all_results, whole_results = [], []\n",
    "    \n",
    "    left_part, extra_information_group, right_part = _extract_extra_information(name)\n",
    "    if extra_information_group:\n",
    "        left_result = take_care_of_extra(left_part)\n",
    "        right_result = take_care_of_legal(right_part)\n",
    "        for left_abbr, right_abbr in itertools.product(left_result[1], right_result[0]):\n",
    "            all_results += [\n",
    "                \" \".join((left_abbr, extra_information_group, right_abbr)).strip(),\n",
    "                \" \".join((left_abbr, right_abbr)).strip()\n",
    "            ]\n",
    "        for left_abbr, right_abbr in itertools.product(left_result[1], right_result[1]):\n",
    "            whole_results += [\n",
    "                \" \".join((left_abbr, extra_information_group, right_abbr)).strip(),\n",
    "                \" \".join((left_abbr, right_abbr)).strip()\n",
    "            ]\n",
    "        return all_results, whole_results\n",
    "    else:\n",
    "        return take_care_of_legal(name)\n",
    "    "
   ]
  },
  {
   "cell_type": "code",
   "execution_count": 7,
   "metadata": {},
   "outputs": [],
   "source": [
    "\n",
    "   \n",
    "def generate(name: str) -> Generator[str, None, None]:\n",
    "    name = name.lower().replace(\",\", \" \").replace(\".\", \"\")\n",
    "    abbreviations = take_care_of_extra(name)[0]\n",
    "            \n",
    "    for abbreviation in abbreviations:\n",
    "        if len(abbreviation) < 2 or len(abbreviation.split()[0]) < 2:\n",
    "            continue\n",
    "\n",
    "        yield abbreviation.lower()\n",
    "        if len(set(abbreviation)) == 1:\n",
    "            yield str(len(abbreviation)) + abbreviation[0].lower()\n",
    "        \n",
    "    "
   ]
  },
  {
   "cell_type": "code",
   "execution_count": 8,
   "metadata": {},
   "outputs": [],
   "source": [
    "test_cases = {\n",
    "    \"Government Employees Insurance Company\": \"GEICO\",  #maybe special case?\n",
    "    \"Head, Heart, Hands, Health\": \"4H\",\n",
    "    \"American Consultants League\": \"ACL\",\n",
    "    \"Amyotrophic Lateral Sclerosis Association\": \"ALS Association\",\n",
    "    \"Council of Actions United for Service Efforts\": \"CAUSE\",\n",
    "    \"Conference of Minority Public Administrators\": \"COMPA\",\n",
    "    \"The Minnesota Mining and Manufacturing Company\": \"3M\",\n",
    "    \"Creative Information Technology, Inc.\": \"CITI\", #https://pl.linkedin.com/company/creative-information-techology-inc\n",
    "    \"International Business Machines Corporation\": \"IBM\",\n",
    "    \"British Overseas Airways Corporation\": \"BOAC\"\n",
    "}\n",
    "\n",
    "special_cases = {\n",
    "    \"International Crime Police Organization\": \"INTERPOL\",\n",
    "    \"United Nations Children’s Fund\": \"UNICEF\",\n",
    "    \"Henry and Richard Block\": \"H&R Block\",\n",
    "    \"Shoulder of Pork and Ham\": \"SPAM\",\n",
    "    \"Transport for Elderly and Disabled Persons\": \"TRANSED\",\n",
    "}"
   ]
  },
  {
   "cell_type": "code",
   "execution_count": 9,
   "metadata": {},
   "outputs": [
    {
     "name": "stdout",
     "output_type": "stream",
     "text": [
      "Government Employees Insurance Company                       geic,gei co,gei company,gei\n",
      "Head, Heart, Hands, Health                                   hhhh,4h\n",
      "American Consultants League                                  acl\n",
      "Amyotrophic Lateral Sclerosis Association                    als association,als,alsa\n",
      "Council of Actions United for Service Efforts                coause,coaufse,caufse,cause\n",
      "Conference of Minority Public Administrators                 compa,cmpa\n",
      "The Minnesota Mining and Manufacturing Company               mmamc,3m,mmam company,mmm co,tmm&m company,mm&m co,tmmm,tmmmc,mmam,tmmam,tmmamc,tmmm company,mmm,mmmc,tmmam co,mm&m company,mm&m,tmm&m,mmm company,mm&mc,tmmm co,tmm&mc,mmam co,tmmam company,tmm&m co\n",
      "Creative Information Technology, Inc.                        citi,cit,cit inc\n",
      "International Business Machines Corporation                  ibm corporation,ibm,ibm corp,ibmc\n",
      "British Overseas Airways Corporation                         boa,boac,boa corp,boa corporation\n"
     ]
    }
   ],
   "source": [
    "ALL = True\n",
    "\n",
    "for test in test_cases:\n",
    "    possibilities = set(generate(test))\n",
    "    should_be = test_cases[test].lower()\n",
    "    if ALL or not should_be in possibilities:\n",
    "        print(test.ljust(60), \",\".join(possibilities))"
   ]
  },
  {
   "cell_type": "code",
   "execution_count": 10,
   "metadata": {},
   "outputs": [
    {
     "name": "stdout",
     "output_type": "stream",
     "text": [
      "International Crime Police Organization                      interpol             icp,icp organization,icpo\n",
      "United Nations Children’s Fund                               unicef               uncf\n",
      "Henry and Richard Block                                      h&r block            hrb,harb,h&rb\n",
      "Shoulder of Pork and Ham                                     spam                 sopah,sop&h,sph,soph,spah,sp&h\n",
      "Transport for Elderly and Disabled Persons                   transed              tfe&dp,tedp,tfeadp,te&dp,tfedp,teadp\n"
     ]
    }
   ],
   "source": [
    "for test in special_cases:\n",
    "    possibilities = set(generate(test))\n",
    "    should_be = special_cases[test].lower()\n",
    "    print(test.ljust(60), should_be.ljust(20), \",\".join(possibilities))"
   ]
  },
  {
   "cell_type": "code",
   "execution_count": 11,
   "metadata": {},
   "outputs": [],
   "source": [
    "assert list(generate(\"GOOGLE\")) == [], list(generate(\"GOOGLE\"))\n",
    "assert list(generate(\"nordia, inc.\")) == [], list(generate(\"nordia, inc\"))"
   ]
  },
  {
   "cell_type": "code",
   "execution_count": 12,
   "metadata": {},
   "outputs": [
    {
     "data": {
      "text/plain": [
       "{'tmf',\n",
       " 'tmf (china)',\n",
       " 'tmf (china) co limited',\n",
       " 'tmf (china) co ltd',\n",
       " 'tmf (china) company limited',\n",
       " 'tmf (china) company ltd',\n",
       " 'tmf co limited',\n",
       " 'tmf co ltd',\n",
       " 'tmf company limited',\n",
       " 'tmf company ltd'}"
      ]
     },
     "execution_count": 12,
     "metadata": {},
     "output_type": "execute_result"
    }
   ],
   "source": [
    "set(generate(\"TOYOTA MOTOR FINANCE (CHINA) COMPANY LIMITED\"))"
   ]
  },
  {
   "cell_type": "code",
   "execution_count": null,
   "metadata": {},
   "outputs": [],
   "source": []
  },
  {
   "cell_type": "code",
   "execution_count": null,
   "metadata": {},
   "outputs": [],
   "source": []
  }
 ],
 "metadata": {
  "kernelspec": {
   "display_name": "Python 3",
   "language": "python",
   "name": "python3"
  },
  "language_info": {
   "codemirror_mode": {
    "name": "ipython",
    "version": 3
   },
   "file_extension": ".py",
   "mimetype": "text/x-python",
   "name": "python",
   "nbconvert_exporter": "python",
   "pygments_lexer": "ipython3",
   "version": "3.9.1"
  }
 },
 "nbformat": 4,
 "nbformat_minor": 4
}
