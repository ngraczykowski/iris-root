{
 "cells": [
  {
   "cell_type": "code",
   "execution_count": 1,
   "metadata": {},
   "outputs": [],
   "source": [
    "from typing import *"
   ]
  },
  {
   "cell_type": "code",
   "execution_count": 2,
   "metadata": {},
   "outputs": [],
   "source": [
    "import itertools\n",
    "\n",
    "LEGAL_TERMS = {\n",
    "    \"company\": (\"Co\", ),\n",
    "    \"limited partnership\": (\"lp\", ),\n",
    "    \"limited liability partnership\": (\"llp\", ),\n",
    "    \"limited liability limited partnership\": (\"lllp\",),\n",
    "    \"limited liability company\": (\"llc\", \"lc\", \"ltd co\", \"ltd\"),\n",
    "    \"professional limited liability company\": (\"pplc\", ),\n",
    "    'public limited company': ('plc', ),\n",
    "    'limited': ('ltd', ),\n",
    "    'corporation': ('corp', ),\n",
    "    'private': ('pvt', ),\n",
    "    'incorporated': ('inc', ),\n",
    "    'incorporation': ('inc', ),\n",
    "    'gesellschaft mit beschränkter haftung': ('gmbh', ),\n",
    "    'aktiengesellschaft': ('AG', ),\n",
    "    \n",
    "\n",
    "    \"association\": (),\n",
    "    \"organization\": (),\n",
    "}\n",
    "ALREADY_ABBREVIATIONS = set(itertools.chain(*LEGAL_TERMS.values()))\n",
    "\n",
    "WEAK_WORDS = {\"of\", \"the\", \"for\"}"
   ]
  },
  {
   "cell_type": "code",
   "execution_count": 3,
   "metadata": {},
   "outputs": [],
   "source": [
    "def abbreviations_as_first_letters(words: List[str]):\n",
    "    if not words:\n",
    "        yield \"\"\n",
    "        return\n",
    "\n",
    "    for abbr in abbreviations_as_first_letters(words[1:]):\n",
    "        word = words[0]\n",
    "        if word.strip(\".\") in ALREADY_ABBREVIATIONS:\n",
    "            yield abbr\n",
    "            continue\n",
    "        if word in WEAK_WORDS:\n",
    "            yield abbr\n",
    "        if word == \"and\":\n",
    "            yield abbr\n",
    "            yield \"&\" + abbr\n",
    "        yield word[0].upper() + abbr\n",
    "\n",
    "\n",
    "def split_legal_terms(name: str) -> Generator[str, None, None]:\n",
    "    for legal_term in LEGAL_TERMS:\n",
    "        if name.endswith(legal_term):\n",
    "            yield name[:-len(legal_term)], legal_term\n",
    "\n",
    "            \n",
    "def abbreviations_with_legal_terms(name: str) -> Generator[str, None, None]:\n",
    "    for main_name, suffix in split_legal_terms(name):\n",
    "        for abbreviation in abbreviations_as_first_letters(main_name.split()):\n",
    "            yield abbreviation\n",
    "            yield abbreviation + \" \" + suffix\n",
    "            for possible_suffix in LEGAL_TERMS[suffix]:\n",
    "                yield abbreviation + \" \" + possible_suffix\n",
    "    yield from abbreviations_as_first_letters(name.split())\n",
    "    \n",
    "    \n",
    "def generate(name: str) -> Generator[str, None, None]:\n",
    "    for abbreviation in abbreviations_with_legal_terms(name.lower()):\n",
    "        if len(abbreviation) < 2:\n",
    "            continue\n",
    "\n",
    "        yield abbreviation.lower()\n",
    "        if len(set(abbreviation)) == 1:\n",
    "            yield str(len(abbreviation)) + abbreviation[0].lower()\n",
    "        \n",
    "    "
   ]
  },
  {
   "cell_type": "code",
   "execution_count": 4,
   "metadata": {},
   "outputs": [],
   "source": [
    "test_cases = {\n",
    "    \"Government Employees Insurance Company\": \"GEICO\",  #maybe special case?\n",
    "    \"Head, Heart, Hands, Health\": \"4H\",\n",
    "    \"American Consultants League\": \"ACL\",\n",
    "    \"Amyotrophic Lateral Sclerosis Association\": \"ALS Association\",\n",
    "    \"Council of Actions United for Service Efforts\": \"CAUSE\",\n",
    "    \"Conference of Minority Public Administrators\": \"COMPA\",\n",
    "    \"The Minnesota Mining and Manufacturing Company\": \"3M\",\n",
    "}\n",
    "\n",
    "special_cases = {\n",
    "    \"International Crime Police Organization\": \"INTERPOL\",\n",
    "    \"United Nations Children’s Fund\": \"UNICEF\",\n",
    "    \"Henry and Richard Block\": \"H&R Block\",\n",
    "    \"Shoulder of Pork and Ham\": \"SPAM\",\n",
    "    \"Transport for Elderly and Disabled Persons\": \"TRANSED\",\n",
    "}"
   ]
  },
  {
   "cell_type": "code",
   "execution_count": 5,
   "metadata": {},
   "outputs": [
    {
     "name": "stdout",
     "output_type": "stream",
     "text": [
      "Government Employees Insurance Company                       geic,gei,gei co,gei company\n",
      "Head, Heart, Hands, Health                                   4h,hhhh\n",
      "American Consultants League                                  acl\n",
      "Amyotrophic Lateral Sclerosis Association                    als association,alsa,als\n",
      "Council of Actions United for Service Efforts                coause,caufse,coaufse,cause\n",
      "Conference of Minority Public Administrators                 cmpa,compa\n",
      "The Minnesota Mining and Manufacturing Company               tmm&mc,mm&m company,tmmm company,mmam,mmam company,tmm&m co,mmm co,3m,tmm&m,mm&mc,tmmam,tmmam company,tmmam co,tmmm co,mmm company,mm&m,mmm,tmmmc,mmam co,tmmamc,tmmm,tmm&m company,mm&m co,mmmc,mmamc\n"
     ]
    }
   ],
   "source": [
    "ALL = True\n",
    "\n",
    "for test in test_cases:\n",
    "    possibilities = set(generate(test))\n",
    "    should_be = test_cases[test].lower()\n",
    "    if ALL or not should_be in possibilities:\n",
    "        print(test.ljust(60), \",\".join(possibilities))"
   ]
  },
  {
   "cell_type": "code",
   "execution_count": 6,
   "metadata": {},
   "outputs": [
    {
     "name": "stdout",
     "output_type": "stream",
     "text": [
      "International Crime Police Organization                      interpol             icp organization,icp,icpo\n",
      "United Nations Children’s Fund                               unicef               uncf\n",
      "Henry and Richard Block                                      h&r block            hrb,h&rb,harb\n",
      "Shoulder of Pork and Ham                                     spam                 sop&h,sph,spah,sp&h,sopah,soph\n",
      "Transport for Elderly and Disabled Persons                   transed              tfe&dp,tfedp,teadp,te&dp,tedp,tfeadp\n"
     ]
    }
   ],
   "source": [
    "for test in special_cases:\n",
    "    possibilities = set(generate(test))\n",
    "    should_be = special_cases[test].lower()\n",
    "    print(test.ljust(60), should_be.ljust(20), \",\".join(possibilities))"
   ]
  },
  {
   "cell_type": "code",
   "execution_count": 7,
   "metadata": {},
   "outputs": [],
   "source": [
    "assert list(generate(\"GOOGLE\")) == []\n",
    "assert list(generate(\"nordia inc.\")) == [], list(generate(\"nordia inc.\"))"
   ]
  },
  {
   "cell_type": "code",
   "execution_count": null,
   "metadata": {},
   "outputs": [],
   "source": []
  }
 ],
 "metadata": {
  "kernelspec": {
   "display_name": "Python 3",
   "language": "python",
   "name": "python3"
  },
  "language_info": {
   "codemirror_mode": {
    "name": "ipython",
    "version": 3
   },
   "file_extension": ".py",
   "mimetype": "text/x-python",
   "name": "python",
   "nbconvert_exporter": "python",
   "pygments_lexer": "ipython3",
   "version": "3.9.1"
  }
 },
 "nbformat": 4,
 "nbformat_minor": 4
}
