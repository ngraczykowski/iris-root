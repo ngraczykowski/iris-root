{
 "cells": [
  {
   "cell_type": "code",
   "execution_count": 1,
   "metadata": {},
   "outputs": [],
   "source": [
    "from typing import *"
   ]
  },
  {
   "cell_type": "code",
   "execution_count": 2,
   "metadata": {},
   "outputs": [],
   "source": [
    "import itertools\n",
    "\n",
    "LEGAL_TERMS = {\n",
    "    \"company\": (\"Co\", ),\n",
    "    \"limited partnership\": (\"LP\", ),\n",
    "    \"limited liability partnership\": (\"LLP\", ),\n",
    "    \"limited liability limited partnership\": (\"LLLP\",),\n",
    "    \"limited liability companies\": (\"LLC\", \"LC\", \"Ltd. Co.\", \"Ltd.\"),\n",
    "    \"limited liability company\": (\"LLC\", \"LC\", \"Ltd. Co.\", \"Ltd.\"),\n",
    "    \"professional limited liability company\": (\"PPLC\", ),\n",
    "    \"association\": (),\n",
    "    \"organization\": (),\n",
    "}\n",
    "ALREADY_ABBREVIATIONS = set(itertools.chain(*LEGAL_TERMS.values()))\n",
    "\n",
    "WEAK_WORDS = {\"of\", \"the\", \"for\"}"
   ]
  },
  {
   "cell_type": "code",
   "execution_count": 3,
   "metadata": {},
   "outputs": [],
   "source": [
    "def abbreviations_as_first_letters(words: List[str]):\n",
    "    if not words:\n",
    "        yield \"\"\n",
    "        return\n",
    "\n",
    "    for abbr in abbreviations_as_first_letters(words[1:]):\n",
    "        word = words[0]\n",
    "        if word in ALREADY_ABBREVIATIONS:\n",
    "            yield abbr\n",
    "            continue\n",
    "        if word in WEAK_WORDS:\n",
    "            yield abbr\n",
    "        if word == \"and\":\n",
    "            yield abbr\n",
    "            yield \"&\" + abbr\n",
    "        yield word[0].upper() + abbr\n",
    "\n",
    "\n",
    "def split_legal_terms(name: str) -> Generator[str, None, None]:\n",
    "    for legal_term in LEGAL_TERMS:\n",
    "        if name.endswith(legal_term):\n",
    "            yield name[:-len(legal_term)], legal_term\n",
    "\n",
    "            \n",
    "def abbreviations_with_legal_terms(name: str) -> Generator[str, None, None]:\n",
    "    for main_name, suffix in split_legal_terms(name):\n",
    "        for abbreviation in abbreviations_as_first_letters(main_name.split()):\n",
    "            yield abbreviation\n",
    "            yield abbreviation + \" \" + suffix\n",
    "            for possible_suffix in LEGAL_TERMS[suffix]:\n",
    "                yield abbreviation + \" \" + possible_suffix\n",
    "    yield from abbreviations_as_first_letters(name.split())\n",
    "    \n",
    "    \n",
    "def generate(name: str) -> Generator[str, None, None]:\n",
    "    for abbreviation in abbreviations_with_legal_terms(name.lower()):\n",
    "        if len(abbreviation) < 2:\n",
    "            continue\n",
    "\n",
    "        yield abbreviation.lower()\n",
    "        if len(set(abbreviation)) == 1:\n",
    "            yield str(len(abbreviation)) + abbreviation[0].lower()\n",
    "        \n",
    "    "
   ]
  },
  {
   "cell_type": "code",
   "execution_count": 4,
   "metadata": {},
   "outputs": [],
   "source": [
    "test_cases = {\n",
    "    \"Government Employees Insurance Company\": \"GEICO\",  #maybe special case?\n",
    "    \"Head, Heart, Hands, Health\": \"4H\",\n",
    "    \"American Consultants League\": \"ACL\",\n",
    "    \"Amyotrophic Lateral Sclerosis Association\": \"ALS Association\",\n",
    "    \"Council of Actions United for Service Efforts\": \"CAUSE\",\n",
    "    \"Conference of Minority Public Administrators\": \"COMPA\",\n",
    "    \"The Minnesota Mining and Manufacturing Company\": \"3M\",\n",
    "}\n",
    "\n",
    "special_cases = {\n",
    "    \"International Crime Police Organization\": \"INTERPOL\",\n",
    "    \"United Nations Children’s Fund\": \"UNICEF\",\n",
    "    \"Henry and Richard Block\": \"H&R Block\",\n",
    "    \"Shoulder of Pork and Ham\": \"SPAM\",\n",
    "    \"Transport for Elderly and Disabled Persons\": \"TRANSED\",\n",
    "}"
   ]
  },
  {
   "cell_type": "code",
   "execution_count": 5,
   "metadata": {},
   "outputs": [
    {
     "name": "stdout",
     "output_type": "stream",
     "text": [
      "Government Employees Insurance Company                       gei company,gei co,gei,geic\n",
      "Head, Heart, Hands, Health                                   hhhh,4h\n",
      "American Consultants League                                  acl\n",
      "Amyotrophic Lateral Sclerosis Association                    alsa,als association,als\n",
      "Council of Actions United for Service Efforts                caufse,coause,coaufse,cause\n",
      "Conference of Minority Public Administrators                 compa,cmpa\n",
      "The Minnesota Mining and Manufacturing Company               tmmam co,mmm co,tmm&m company,tmm&m co,tmmmc,mm&mc,mmm,mm&m company,mmamc,3m,mmmc,tmmm company,mmm company,tmmam company,mm&m co,tmmam,tmm&mc,mmam,tmmm co,tmmamc,tmm&m,tmmm,mmam company,mm&m,mmam co\n"
     ]
    }
   ],
   "source": [
    "ALL = True\n",
    "\n",
    "for test in test_cases:\n",
    "    possibilities = set(generate(test))\n",
    "    should_be = test_cases[test].lower()\n",
    "    if ALL or not should_be in possibilities:\n",
    "        print(test.ljust(60), \",\".join(possibilities))"
   ]
  },
  {
   "cell_type": "code",
   "execution_count": 6,
   "metadata": {},
   "outputs": [
    {
     "name": "stdout",
     "output_type": "stream",
     "text": [
      "International Crime Police Organization                      interpol             icpo,icp,icp organization\n",
      "United Nations Children’s Fund                               unicef               uncf\n",
      "Henry and Richard Block                                      h&r block            h&rb,hrb,harb\n",
      "Shoulder of Pork and Ham                                     spam                 soph,sp&h,sph,sop&h,sopah,spah\n",
      "Transport for Elderly and Disabled Persons                   transed              tedp,tfe&dp,tfedp,te&dp,teadp,tfeadp\n"
     ]
    }
   ],
   "source": [
    "for test in special_cases:\n",
    "    possibilities = set(generate(test))\n",
    "    should_be = special_cases[test].lower()\n",
    "    print(test.ljust(60), should_be.ljust(20), \",\".join(possibilities))"
   ]
  },
  {
   "cell_type": "code",
   "execution_count": 7,
   "metadata": {},
   "outputs": [
    {
     "name": "stdout",
     "output_type": "stream",
     "text": [
      "[]\n"
     ]
    }
   ],
   "source": [
    "print(list(generate(\"GOOGLE\")))   #no sensible abbreviation"
   ]
  },
  {
   "cell_type": "code",
   "execution_count": null,
   "metadata": {},
   "outputs": [],
   "source": []
  }
 ],
 "metadata": {
  "kernelspec": {
   "display_name": "Python 3",
   "language": "python",
   "name": "python3"
  },
  "language_info": {
   "codemirror_mode": {
    "name": "ipython",
    "version": 3
   },
   "file_extension": ".py",
   "mimetype": "text/x-python",
   "name": "python",
   "nbconvert_exporter": "python",
   "pygments_lexer": "ipython3",
   "version": "3.9.1"
  }
 },
 "nbformat": 4,
 "nbformat_minor": 4
}
