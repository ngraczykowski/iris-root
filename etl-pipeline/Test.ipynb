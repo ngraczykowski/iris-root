{
 "cells": [
  {
   "cell_type": "code",
   "execution_count": 1,
   "id": "9ad13c1f",
   "metadata": {},
   "outputs": [
    {
     "name": "stdout",
     "output_type": "stream",
     "text": [
      "Traceback (most recent call last):\r\n",
      "  File \"test.py\", line 5, in <module>\r\n",
      "    from pipeline.spark import spark\r\n",
      "  File \"/app/pipeline/spark.py\", line 10, in <module>\r\n",
      "    import utils.config_service as configservice\r\n",
      "  File \"/app/utils/config_service.py\", line 39, in <module>\r\n",
      "    config = YamlLoader.get_instance().load(file)\r\n",
      "  File \"/env/ds/anaconda/envs/pipeline/lib/python3.7/site-packages/serppythonclient/yml.py\", line 27, in load\r\n",
      "    return self.yaml.safe_load(stream)\r\n",
      "  File \"/env/ds/anaconda/envs/pipeline/lib/python3.7/site-packages/yaml/__init__.py\", line 162, in safe_load\r\n",
      "    return load(stream, SafeLoader)\r\n",
      "  File \"/env/ds/anaconda/envs/pipeline/lib/python3.7/site-packages/yaml/__init__.py\", line 114, in load\r\n",
      "    return loader.get_single_data()\r\n",
      "  File \"/env/ds/anaconda/envs/pipeline/lib/python3.7/site-packages/yaml/constructor.py\", line 51, in get_single_data\r\n",
      "    return self.construct_document(node)\r\n",
      "  File \"/env/ds/anaconda/envs/pipeline/lib/python3.7/site-packages/yaml/constructor.py\", line 60, in construct_document\r\n",
      "    for dummy in generator:\r\n",
      "  File \"/env/ds/anaconda/envs/pipeline/lib/python3.7/site-packages/yaml/constructor.py\", line 413, in construct_yaml_map\r\n",
      "    value = self.construct_mapping(node)\r\n",
      "  File \"/env/ds/anaconda/envs/pipeline/lib/python3.7/site-packages/yaml/constructor.py\", line 218, in construct_mapping\r\n",
      "    return super().construct_mapping(node, deep=deep)\r\n",
      "  File \"/env/ds/anaconda/envs/pipeline/lib/python3.7/site-packages/yaml/constructor.py\", line 143, in construct_mapping\r\n",
      "    value = self.construct_object(value_node, deep=deep)\r\n",
      "  File \"/env/ds/anaconda/envs/pipeline/lib/python3.7/site-packages/yaml/constructor.py\", line 100, in construct_object\r\n",
      "    data = constructor(self, node)\r\n",
      "  File \"/env/ds/anaconda/envs/pipeline/lib/python3.7/site-packages/serppythonclient/yml.py\", line 33, in _env_variable_constructor\r\n",
      "    return replacer.replace()\r\n",
      "  File \"/env/ds/anaconda/envs/pipeline/lib/python3.7/site-packages/serppythonclient/yml.py\", line 48, in replace\r\n",
      "    env_variable_name=m.group(2), default=m.group(4)\r\n",
      "  File \"/env/ds/anaconda/envs/pipeline/lib/python3.7/site-packages/serppythonclient/yml.py\", line 71, in _get_env_variable_value\r\n",
      "    raise Exception(\"Missing env variable: {}\".format(env_variable_name))\r\n",
      "Exception: Missing env variable: SERP_HOME\r\n"
     ]
    }
   ],
   "source": [
    "!python3 test.py"
   ]
  },
  {
   "cell_type": "code",
   "execution_count": 59,
   "id": "f215c435",
   "metadata": {},
   "outputs": [],
   "source": [
    "!rm -R data/3.cleansed/\n"
   ]
  },
  {
   "cell_type": "code",
   "execution_count": null,
   "id": "9f3f6c1f",
   "metadata": {},
   "outputs": [],
   "source": []
  }
 ],
 "metadata": {
  "kernelspec": {
   "display_name": "Python 3 (ipykernel)",
   "language": "python",
   "name": "python3"
  },
  "language_info": {
   "codemirror_mode": {
    "name": "ipython",
    "version": 3
   },
   "file_extension": ".py",
   "mimetype": "text/x-python",
   "name": "python",
   "nbconvert_exporter": "python",
   "pygments_lexer": "ipython3",
   "version": "3.7.11"
  }
 },
 "nbformat": 4,
 "nbformat_minor": 5
}
