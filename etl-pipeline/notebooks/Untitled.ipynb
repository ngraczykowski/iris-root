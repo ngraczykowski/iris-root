{
 "cells": [
  {
   "cell_type": "code",
   "execution_count": null,
   "id": "7dfa0cab",
   "metadata": {},
   "outputs": [],
   "source": [
    "import grpc\n",
    "\n",
    "from silenteight.datasource.categories.api.v2.category_service_pb2 import BatchCreateCategoriesRequest\n",
    "from silenteight.datasource.categories.api.v2.category_service_pb2_grpc import CategoryServiceStub\n",
    "from silenteight.datasource.categories.api.v2.category_pb2 import Category, CategoryType\n",
    "\n",
    "from silenteight.datasource.categories.api.v2.category_pb2 import Category, CategoryType\n",
    "\n",
    "from omegaconf import OmegaConf\n",
    "from etl_pipeline.config import service_config\n",
    "date_input_config = OmegaConf.load(os.path.join(\"config\", \"dummy.yaml\"))\n",
    "\n",
    "categories = []\n",
    "for feature, params in date_input_config.items():\n",
    "    if params[\"feature_type\"] == \"category\":\n",
    "        category = Category(name=f\"categories/{feature}\", \n",
    "                            display_name=params.display_name,\n",
    "                            type=getattr(CategoryType, params.category_type),\n",
    "                            allowed_values=list(params.allowed_values),\n",
    "                            multi_value=False)\n",
    "        categories.append(category)\n",
    "\n",
    "categories\n",
    "\n",
    "channel = grpc.insecure_channel(\"10.8.0.4:26740\")\n",
    "\n",
    "category_input_stub = CategoryServiceStub(channel)\n",
    "\n",
    "BatchCreateCategoriesRequest(categories=categories)\n",
    "\n",
    "category_input_stub.BatchCreateCategories(BatchCreateCategoriesRequest(categories=categories))\n",
    "\n",
    "\n",
    "\n",
    "name = \"categories/ok\"\n",
    "display_name=\"ok\"\n",
    "type_ = CategoryType.ANY_STRING\n",
    "allowed_values = [\"I\", \"C\"]\n",
    "category = Category(name=name, display_name=display_name, type=CategoryType.ANY_STRING, allowed_values=allowed_values, multi_value=False)\n",
    "categories = [category]\n",
    "\n",
    "\n",
    "from "
   ]
  }
 ],
 "metadata": {
  "kernelspec": {
   "display_name": "Python 3",
   "language": "python",
   "name": "python3"
  },
  "language_info": {
   "codemirror_mode": {
    "name": "ipython",
    "version": 3
   },
   "file_extension": ".py",
   "mimetype": "text/x-python",
   "name": "python",
   "nbconvert_exporter": "python",
   "pygments_lexer": "ipython3",
   "version": "3.6.13"
  }
 },
 "nbformat": 4,
 "nbformat_minor": 5
}
