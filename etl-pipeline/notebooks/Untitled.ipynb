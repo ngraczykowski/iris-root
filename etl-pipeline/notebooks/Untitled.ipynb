{
 "cells": [
  {
   "cell_type": "code",
   "execution_count": 3,
   "id": "25d4b089",
   "metadata": {},
   "outputs": [],
   "source": [
    "import sys\n",
    "sys.path.append(\"/app\")"
   ]
  },
  {
   "cell_type": "code",
   "execution_count": 4,
   "id": "1a8b7e84",
   "metadata": {},
   "outputs": [],
   "source": [
    "from etl_pipeline.service.proto.api.etl_pipeline_pb2_grpc import EtlPipelineServiceStub"
   ]
  },
  {
   "cell_type": "code",
   "execution_count": null,
   "id": "6a7d7f45",
   "metadata": {},
   "outputs": [],
   "source": []
  },
  {
   "cell_type": "code",
   "execution_count": 8,
   "id": "b50476d7",
   "metadata": {},
   "outputs": [],
   "source": [
    "import os\n",
    "os.environ[\"CONFIG_APP_DIR\"] = \"/app/config\""
   ]
  },
  {
   "cell_type": "code",
   "execution_count": 11,
   "id": "b27388ff",
   "metadata": {},
   "outputs": [],
   "source": [
    "import grpc\n",
    "\n",
    "from silenteight.datasource.categories.api.v2.category_service_pb2_grpc import CategoryServiceStub\n",
    "from silenteight.datasource.categories.api.v2.category_pb2 import Category, CategoryType\n",
    "\n",
    "from silenteight.datasource.categories.api.v2.category_pb2 import Category, CategoryType\n",
    "\n",
    "from omegaconf import OmegaConf\n",
    "from etl_pipeline.config import service_config\n",
    "date_input_config = OmegaConf.load(os.path.join(\"/app/config/agents/features_and_categories.yaml\"))\n",
    "\n",
    "categories = []\n",
    "for feature, params in date_input_config.items():\n",
    "    if params[\"feature_type\"] == \"category\":\n",
    "        category = Category(name=f\"categories/{feature}\", \n",
    "                            display_name=params.display_name,\n",
    "                            type=getattr(CategoryType, params.category_type),\n",
    "                            allowed_values=list(params.allowed_values),\n",
    "                            multi_value=False)\n",
    "        categories.append(category)\n",
    "\n",
    "categories\n",
    "\n",
    "channel = grpc.insecure_channel(\"10.8.0.4:27899\")\n",
    "\n",
    "category_input_stub = CategoryServiceStub(channel)"
   ]
  },
  {
   "cell_type": "code",
   "execution_count": 18,
   "id": "ac253376",
   "metadata": {},
   "outputs": [],
   "source": [
    "import grpc\n",
    "\n",
    "from silenteight.datasource.categories.api.v2.category_value_service_pb2_grpc import CategoryValueServiceStub\n",
    "from silenteight.datasource.categories.api.v2.category_value_pb2 import CategoryValue\n",
    "from silenteight.datasource.categories.api.v2.category_value_service_pb2 import CreateCategoryValuesRequest, BatchCreateCategoryValuesRequest"
   ]
  },
  {
   "cell_type": "code",
   "execution_count": null,
   "id": "4e78238b",
   "metadata": {},
   "outputs": [],
   "source": []
  },
  {
   "cell_type": "code",
   "execution_count": 48,
   "id": "8b955a9c",
   "metadata": {},
   "outputs": [],
   "source": [
    "batch = BatchCreateCategoryValuesRequest(requests = [CreateCategoryValuesRequest(category=\"categories/customerType\", category_values=[CategoryValue(match=\"alerts/2/matches/0\", single_value='C',  name= \"alerts/2\")])])"
   ]
  },
  {
   "cell_type": "code",
   "execution_count": 49,
   "id": "18df4130",
   "metadata": {},
   "outputs": [],
   "source": [
    "channel = grpc.insecure_channel(\"10.8.0.4:27899\")\n",
    "\n",
    "category_input_stub = CategoryValueServiceStub(channel)"
   ]
  },
  {
   "cell_type": "code",
   "execution_count": 50,
   "id": "77c21147",
   "metadata": {},
   "outputs": [
    {
     "ename": "_InactiveRpcError",
     "evalue": "<_InactiveRpcError of RPC that terminated with:\n\tstatus = StatusCode.INVALID_ARGUMENT\n\tdetails = \"Invalid category given for CategoryValues: categories/customerType\"\n\tdebug_error_string = \"{\"created\":\"@1649424761.723121229\",\"description\":\"Error received from peer ipv4:10.8.0.4:27899\",\"file\":\"src/core/lib/surface/call.cc\",\"file_line\":903,\"grpc_message\":\"Invalid category given for CategoryValues: categories/customerType\",\"grpc_status\":3}\"\n>",
     "output_type": "error",
     "traceback": [
      "\u001b[0;31m---------------------------------------------------------------------------\u001b[0m",
      "\u001b[0;31m_InactiveRpcError\u001b[0m                         Traceback (most recent call last)",
      "\u001b[0;32m<ipython-input-50-93cff55c1c9f>\u001b[0m in \u001b[0;36m<module>\u001b[0;34m\u001b[0m\n\u001b[0;32m----> 1\u001b[0;31m \u001b[0mcategory_input_stub\u001b[0m\u001b[0;34m.\u001b[0m\u001b[0mBatchCreateCategoryValues\u001b[0m\u001b[0;34m(\u001b[0m\u001b[0mbatch\u001b[0m\u001b[0;34m)\u001b[0m\u001b[0;34m\u001b[0m\u001b[0;34m\u001b[0m\u001b[0m\n\u001b[0m",
      "\u001b[0;32m/env/ds/anaconda/envs/pipeline/lib/python3.6/site-packages/grpc/_channel.py\u001b[0m in \u001b[0;36m__call__\u001b[0;34m(self, request, timeout, metadata, credentials, wait_for_ready, compression)\u001b[0m\n\u001b[1;32m    944\u001b[0m         state, call, = self._blocking(request, timeout, metadata, credentials,\n\u001b[1;32m    945\u001b[0m                                       wait_for_ready, compression)\n\u001b[0;32m--> 946\u001b[0;31m         \u001b[0;32mreturn\u001b[0m \u001b[0m_end_unary_response_blocking\u001b[0m\u001b[0;34m(\u001b[0m\u001b[0mstate\u001b[0m\u001b[0;34m,\u001b[0m \u001b[0mcall\u001b[0m\u001b[0;34m,\u001b[0m \u001b[0;32mFalse\u001b[0m\u001b[0;34m,\u001b[0m \u001b[0;32mNone\u001b[0m\u001b[0;34m)\u001b[0m\u001b[0;34m\u001b[0m\u001b[0;34m\u001b[0m\u001b[0m\n\u001b[0m\u001b[1;32m    947\u001b[0m \u001b[0;34m\u001b[0m\u001b[0m\n\u001b[1;32m    948\u001b[0m     def with_call(self,\n",
      "\u001b[0;32m/env/ds/anaconda/envs/pipeline/lib/python3.6/site-packages/grpc/_channel.py\u001b[0m in \u001b[0;36m_end_unary_response_blocking\u001b[0;34m(state, call, with_call, deadline)\u001b[0m\n\u001b[1;32m    847\u001b[0m             \u001b[0;32mreturn\u001b[0m \u001b[0mstate\u001b[0m\u001b[0;34m.\u001b[0m\u001b[0mresponse\u001b[0m\u001b[0;34m\u001b[0m\u001b[0;34m\u001b[0m\u001b[0m\n\u001b[1;32m    848\u001b[0m     \u001b[0;32melse\u001b[0m\u001b[0;34m:\u001b[0m\u001b[0;34m\u001b[0m\u001b[0;34m\u001b[0m\u001b[0m\n\u001b[0;32m--> 849\u001b[0;31m         \u001b[0;32mraise\u001b[0m \u001b[0m_InactiveRpcError\u001b[0m\u001b[0;34m(\u001b[0m\u001b[0mstate\u001b[0m\u001b[0;34m)\u001b[0m\u001b[0;34m\u001b[0m\u001b[0;34m\u001b[0m\u001b[0m\n\u001b[0m\u001b[1;32m    850\u001b[0m \u001b[0;34m\u001b[0m\u001b[0m\n\u001b[1;32m    851\u001b[0m \u001b[0;34m\u001b[0m\u001b[0m\n",
      "\u001b[0;31m_InactiveRpcError\u001b[0m: <_InactiveRpcError of RPC that terminated with:\n\tstatus = StatusCode.INVALID_ARGUMENT\n\tdetails = \"Invalid category given for CategoryValues: categories/customerType\"\n\tdebug_error_string = \"{\"created\":\"@1649424761.723121229\",\"description\":\"Error received from peer ipv4:10.8.0.4:27899\",\"file\":\"src/core/lib/surface/call.cc\",\"file_line\":903,\"grpc_message\":\"Invalid category given for CategoryValues: categories/customerType\",\"grpc_status\":3}\"\n>"
     ]
    }
   ],
   "source": [
    "category_input_stub.BatchCreateCategoryValues(batch)"
   ]
  },
  {
   "cell_type": "code",
   "execution_count": null,
   "id": "e51beb71",
   "metadata": {},
   "outputs": [],
   "source": [
    "\n",
    "date_input_config = OmegaConf.load(os.path.join(\"config\", \"dummy.yaml\"))\n",
    "\n",
    "categories = []\n",
    "for feature, params in date_input_config.items():\n",
    "    if params[\"feature_type\"] == \"category\":\n",
    "        category = Category(name=f\"categories/{feature}\", \n",
    "                            display_name=params.display_name,\n",
    "                            type=getattr(CategoryType, params.category_type),\n",
    "                            allowed_values=list(params.allowed_values),\n",
    "                            multi_value=False)\n",
    "        categories.append(category)\n",
    "\n",
    "categories\n",
    "\n",
    "channel = grpc.insecure_channel(\"10.8.0.4:26740\")\n",
    "\n",
    "category_input_stub = CategoryServiceStub(channel)\n",
    "\n",
    "BatchCreateCategoriesRequest(categories=categories)\n",
    "\n",
    "category_input_stub.BatchCreateCategories(BatchCreateCategoriesRequest(categories=categories))\n",
    "\n",
    "\n",
    "\n",
    "name = \"categories/ok\"\n",
    "display_name=\"ok\"\n",
    "type_ = CategoryType.ANY_STRING\n",
    "allowed_values = [\"I\", \"C\"]\n",
    "category = Category(name=name, display_name=display_name, type=CategoryType.ANY_STRING, allowed_values=allowed_values, multi_value=False)\n",
    "categories = [category]\n",
    "\n",
    "\n",
    "from "
   ]
  },
  {
   "cell_type": "code",
   "execution_count": null,
   "id": "7dfa0cab",
   "metadata": {},
   "outputs": [],
   "source": [
    "import grpc\n",
    "\n",
    "from silenteight.datasource.categories.api.v2.category_service_pb2 import BatchCreateCategoriesRequest\n",
    "from silenteight.datasource.categories.api.v2.category_service_pb2_grpc import CategoryServiceStub\n",
    "from silenteight.datasource.categories.api.v2.category_pb2 import Category, CategoryType\n",
    "\n",
    "from silenteight.datasource.categories.api.v2.category_pb2 import Category, CategoryType\n",
    "\n",
    "from omegaconf import OmegaConf\n",
    "from etl_pipeline.config import service_config\n",
    "date_input_config = OmegaConf.load(os.path.join(\"config\", \"dummy.yaml\"))\n",
    "\n",
    "categories = []\n",
    "for feature, params in date_input_config.items():\n",
    "    if params[\"feature_type\"] == \"category\":\n",
    "        category = Category(name=f\"categories/{feature}\", \n",
    "                            display_name=params.display_name,\n",
    "                            type=getattr(CategoryType, params.category_type),\n",
    "                            allowed_values=list(params.allowed_values),\n",
    "                            multi_value=False)\n",
    "        categories.append(category)\n",
    "\n",
    "categories\n",
    "\n",
    "channel = grpc.insecure_channel(\"10.8.0.4:26740\")\n",
    "\n",
    "category_input_stub = CategoryServiceStub(channel)\n",
    "\n",
    "BatchCreateCategoriesRequest(categories=categories)\n",
    "\n",
    "category_input_stub.BatchCreateCategories(BatchCreateCategoriesRequest(categories=categories))\n",
    "\n",
    "\n",
    "\n",
    "name = \"categories/ok\"\n",
    "display_name=\"ok\"\n",
    "type_ = CategoryType.ANY_STRING\n",
    "allowed_values = [\"I\", \"C\"]\n",
    "category = Category(name=name, display_name=display_name, type=CategoryType.ANY_STRING, allowed_values=allowed_values, multi_value=False)\n",
    "categories = [category]\n",
    "\n",
    "\n",
    "from "
   ]
  }
 ],
 "metadata": {
  "kernelspec": {
   "display_name": "Python 3",
   "language": "python",
   "name": "python3"
  },
  "language_info": {
   "codemirror_mode": {
    "name": "ipython",
    "version": 3
   },
   "file_extension": ".py",
   "mimetype": "text/x-python",
   "name": "python",
   "nbconvert_exporter": "python",
   "pygments_lexer": "ipython3",
   "version": "3.6.13"
  }
 },
 "nbformat": 4,
 "nbformat_minor": 5
}
