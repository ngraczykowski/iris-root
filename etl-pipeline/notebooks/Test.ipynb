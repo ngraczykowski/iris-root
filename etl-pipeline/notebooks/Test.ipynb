{
 "cells": [
  {
   "cell_type": "code",
   "execution_count": 5,
   "id": "f80a1e1b",
   "metadata": {},
   "outputs": [],
   "source": [
    "import os\n",
    "os.chdir('/app')"
   ]
  },
  {
   "cell_type": "code",
   "execution_count": 37,
   "id": "9ad13c1f",
   "metadata": {},
   "outputs": [
    {
     "name": "stdout",
     "output_type": "stream",
     "text": [
      ":: loading settings :: url = jar:file:/env/ds/anaconda/envs/pipeline/lib/python3.8/site-packages/pyspark/jars/ivy-2.4.0.jar!/org/apache/ivy/core/settings/ivysettings.xml\n",
      "converted\n",
      "converted\n",
      "converted\n",
      "tests/data/3.cleansed/*delta\n",
      "tests/data/3.cleansed/ACM_ALERT_NOTES.delta\n",
      "data/3.cleansed/ACM_ALERT_NOTES.delta\n",
      "PASSED for \n",
      "- data/3.cleansed/ACM_ALERT_NOTES.delta \n",
      " -tests/data/3.cleansed/ACM_ALERT_NOTES.delta\n",
      "\n",
      "tests/data/3.cleansed/ACM_ITEM_STATUS_HISTORY.delta\n",
      "data/3.cleansed/ACM_ITEM_STATUS_HISTORY.delta\n",
      "PASSED for \n",
      "- data/3.cleansed/ACM_ITEM_STATUS_HISTORY.delta \n",
      " -tests/data/3.cleansed/ACM_ITEM_STATUS_HISTORY.delta\n",
      "\n",
      "tests/data/3.cleansed/ALERTS.delta\n",
      "data/3.cleansed/ALERTS.delta\n",
      "PASSED for \n",
      "- data/3.cleansed/ALERTS.delta \n",
      " -tests/data/3.cleansed/ALERTS.delta\n",
      "\n",
      "tests/data/4.application/*delta\n",
      "tests/data/2.standardized/*delta\n",
      "tests/data/2.standardized/ACM_ALERT_NOTES.delta\n",
      "data/2.standardized/ACM_ALERT_NOTES.delta\n",
      "PASSED for \n",
      "- data/2.standardized/ACM_ALERT_NOTES.delta \n",
      " -tests/data/2.standardized/ACM_ALERT_NOTES.delta\n",
      "\n",
      "tests/data/2.standardized/ACM_ITEM_STATUS_HISTORY.delta\n",
      "data/2.standardized/ACM_ITEM_STATUS_HISTORY.delta\n",
      "PASSED for \n",
      "- data/2.standardized/ACM_ITEM_STATUS_HISTORY.delta \n",
      " -tests/data/2.standardized/ACM_ITEM_STATUS_HISTORY.delta\n",
      "\n",
      "tests/data/2.standardized/ALERTS.delta\n",
      "data/2.standardized/ALERTS.delta\n",
      "PASSED for \n",
      "- data/2.standardized/ALERTS.delta \n",
      " -tests/data/2.standardized/ALERTS.delta\n",
      "\n",
      "tests/data/2.standardized/ACM_MD_ALERT_STATUSES.delta\n",
      "data/2.standardized/ACM_MD_ALERT_STATUSES.delta\n",
      "PASSED for \n",
      "- data/2.standardized/ACM_MD_ALERT_STATUSES.delta \n",
      " -tests/data/2.standardized/ACM_MD_ALERT_STATUSES.delta\n",
      "\n",
      "tests/data/1.raw/*delta\n",
      "data/4.application/agent-input/pob_agent_input.delta\n",
      "PASSED for \n",
      "- data/4.application/agent-input/pob_agent_input.delta \n",
      " -tests/data/4.application/agent-input/pob_agent_input.delta\n",
      "\n",
      "data/4.application/agent-input/document_number_agent_input.delta\n",
      "PASSED for \n",
      "- data/4.application/agent-input/document_number_agent_input.delta \n",
      " -tests/data/4.application/agent-input/document_number_agent_input.delta\n",
      "\n",
      "data/4.application/agent-input/rba_agent_input.delta\n",
      "PASSED for \n",
      "- data/4.application/agent-input/rba_agent_input.delta \n",
      " -tests/data/4.application/agent-input/rba_agent_input.delta\n",
      "\n",
      "data/4.application/agent-input/gender_agent_input.delta\n",
      "PASSED for \n",
      "- data/4.application/agent-input/gender_agent_input.delta \n",
      " -tests/data/4.application/agent-input/gender_agent_input.delta\n",
      "\n",
      "data/4.application/agent-input/hit_has_dob_id_address_agent_input.delta\n",
      "PASSED for \n",
      "- data/4.application/agent-input/hit_has_dob_id_address_agent_input.delta \n",
      " -tests/data/4.application/agent-input/hit_has_dob_id_address_agent_input.delta\n",
      "\n",
      "data/4.application/agent-input/name_agent_input.delta\n",
      "PASSED for \n",
      "- data/4.application/agent-input/name_agent_input.delta \n",
      " -tests/data/4.application/agent-input/name_agent_input.delta\n",
      "\n",
      "data/4.application/agent-input/hit_is_deceased_agent_input.delta\n",
      "PASSED for \n",
      "- data/4.application/agent-input/hit_is_deceased_agent_input.delta \n",
      " -tests/data/4.application/agent-input/hit_is_deceased_agent_input.delta\n",
      "\n",
      "data/4.application/agent-input/pep_payment_agent_input.delta\n",
      "PASSED for \n",
      "- data/4.application/agent-input/pep_payment_agent_input.delta \n",
      " -tests/data/4.application/agent-input/pep_payment_agent_input.delta\n",
      "\n",
      "data/4.application/agent-input/historical_decision_name_agent_input.delta\n",
      "PASSED for \n",
      "- data/4.application/agent-input/historical_decision_name_agent_input.delta \n",
      " -tests/data/4.application/agent-input/historical_decision_name_agent_input.delta\n",
      "\n",
      "data/4.application/agent-input/party_type_agent_input.delta\n",
      "PASSED for \n",
      "- data/4.application/agent-input/party_type_agent_input.delta \n",
      " -tests/data/4.application/agent-input/party_type_agent_input.delta\n",
      "\n",
      "data/4.application/agent-input/dob_agent_input.delta\n",
      "PASSED for \n",
      "- data/4.application/agent-input/dob_agent_input.delta \n",
      " -tests/data/4.application/agent-input/dob_agent_input.delta\n",
      "\n",
      "data/4.application/agent-input/national_id_agent_input.delta\n",
      "PASSED for \n",
      "- data/4.application/agent-input/national_id_agent_input.delta \n",
      " -tests/data/4.application/agent-input/national_id_agent_input.delta\n",
      "\n",
      "data/4.application/agent-input/hit_is_san_agent_input.delta\n",
      "PASSED for \n",
      "- data/4.application/agent-input/hit_is_san_agent_input.delta \n",
      " -tests/data/4.application/agent-input/hit_is_san_agent_input.delta\n",
      "\n",
      "data/4.application/agent-input/nationality_agent_input.delta\n",
      "PASSED for \n",
      "- data/4.application/agent-input/nationality_agent_input.delta \n",
      " -tests/data/4.application/agent-input/nationality_agent_input.delta\n",
      "\n"
     ]
    }
   ],
   "source": [
    "!export PYTHONPATH=$PYTHONPATH:/app/spark_manager; python3 tests/test_notebook_output/test.py 2> logs/test.log"
   ]
  },
  {
   "cell_type": "code",
   "execution_count": 34,
   "id": "1a97ac06",
   "metadata": {},
   "outputs": [],
   "source": [
    "!rm -R data/3.cleansed/ data/4.application/ data/2.standardized/ "
   ]
  },
  {
   "cell_type": "code",
   "execution_count": 4,
   "id": "4c70cac3",
   "metadata": {},
   "outputs": [
    {
     "name": "stdout",
     "output_type": "stream",
     "text": [
      "s\n"
     ]
    }
   ],
   "source": [
    "print('s')"
   ]
  },
  {
   "cell_type": "code",
   "execution_count": 12,
   "id": "4ef2a440",
   "metadata": {},
   "outputs": [
    {
     "data": {
      "text/plain": [
       "['ACM_ALERT_NOTES.delta',\n",
       " 'ACM_ITEM_STATUS_HISTORY.delta',\n",
       " 'ALERTS.delta',\n",
       " 'ACM_MD_ALERT_STATUSES.delta']"
      ]
     },
     "execution_count": 12,
     "metadata": {},
     "output_type": "execute_result"
    }
   ],
   "source": [
    "import os\n",
    "\n",
    "os.listdir(f\"data/2.standardized/\")"
   ]
  },
  {
   "cell_type": "code",
   "execution_count": 24,
   "id": "253dee65",
   "metadata": {},
   "outputs": [],
   "source": [
    "from pipeline.preprocessors import transform_standardized_to_cleansed\n",
    "from pipeline.spark import spark_instance\n",
    "from customized.xml_pipeline import AIAXMLPipeline\n"
   ]
  },
  {
   "cell_type": "code",
   "execution_count": 25,
   "id": "4d7b581e",
   "metadata": {},
   "outputs": [],
   "source": [
    "pipeline = AIAXMLPipeline(spark_instance=spark_instance)\n",
    "\n",
    "file_name = \"ALERTS.delta\"\n",
    "\n",
    "alert_ap_wl_hit_names_df = pipeline.pipeline(\"data/2.standardized/\" + (file_name))"
   ]
  },
  {
   "cell_type": "code",
   "execution_count": 29,
   "id": "e11a098f",
   "metadata": {},
   "outputs": [
    {
     "data": {
      "text/plain": [
       "0    []\n",
       "1    []\n",
       "2    []\n",
       "Name: ap_hit_names, dtype: object"
      ]
     },
     "execution_count": 29,
     "metadata": {},
     "output_type": "execute_result"
    }
   ],
   "source": [
    "alert_ap_wl_hit_names_df.toPandas()['ap_hit_names']"
   ]
  },
  {
   "cell_type": "code",
   "execution_count": null,
   "id": "f54fe24c",
   "metadata": {},
   "outputs": [],
   "source": []
  }
 ],
 "metadata": {
  "kernelspec": {
   "display_name": "Python 3 (ipykernel)",
   "language": "python",
   "name": "python3"
  },
  "language_info": {
   "codemirror_mode": {
    "name": "ipython",
    "version": 3
   },
   "file_extension": ".py",
   "mimetype": "text/x-python",
   "name": "python",
   "nbconvert_exporter": "python",
   "pygments_lexer": "ipython3",
   "version": "3.8.8"
  }
 },
 "nbformat": 4,
 "nbformat_minor": 5
}
