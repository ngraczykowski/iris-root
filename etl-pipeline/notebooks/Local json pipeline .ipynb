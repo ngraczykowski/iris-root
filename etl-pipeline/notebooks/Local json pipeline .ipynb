{
 "cells": [
  {
   "cell_type": "code",
   "execution_count": 1,
   "id": "3bd69b4c-19cf-48f7-a810-a4890e66302f",
   "metadata": {},
   "outputs": [],
   "source": [
    "import os\n",
    "\n",
    "os.environ[\"CONFIG_APP_DIR\"] = \"config_xml\""
   ]
  },
  {
   "cell_type": "code",
   "execution_count": 2,
   "id": "3c549e53",
   "metadata": {},
   "outputs": [
    {
     "name": "stderr",
     "output_type": "stream",
     "text": [
      "/env/ds/anaconda/envs/pipeline/lib/python3.7/site-packages/fuzzywuzzy/fuzz.py:11: UserWarning: Using slow pure-python SequenceMatcher. Install python-Levenshtein to remove this warning\n",
      "  warnings.warn('Using slow pure-python SequenceMatcher. Install python-Levenshtein to remove this warning')\n"
     ]
    }
   ],
   "source": [
    "import sys\n",
    "import os\n",
    "import pickle\n",
    "os.chdir(\"..\")\n",
    "from omegaconf import OmegaConf\n",
    "from etl_pipeline.config import columns_namespace, pipeline_config\n",
    "from service.proto.etl_pipeline_pb2 import Alert, Match\n",
    "from etl_pipeline.config import columns_namespace\n",
    "from etl_pipeline.custom.ms.datatypes.field import InputRecordField\n",
    "from etl_pipeline.custom.ms.payload_loader import PayloadLoader\n",
    "from etl_pipeline.custom.ms.transformations import (\n",
    "    create_agent_input_agg_col_config,\n",
    "    prepend_agent_name_to_ap_or_wl_or_aliases_key,\n",
    ")\n",
    "from etl_pipeline.custom.ms.watchlist_extractor import WatchlistExtractor\n",
    "from etl_pipeline.pipeline import ETLPipeline\n",
    "from pipelines.ms.json_pipeline import MSPipeline\n",
    "\n",
    "import json\n",
    "from etl_pipeline.data_processor_engine.json_engine.json_engine import JsonProcessingEngine\n"
   ]
  },
  {
   "cell_type": "code",
   "execution_count": 3,
   "id": "522650c7-af7a-4824-8d36-bf62f558577d",
   "metadata": {},
   "outputs": [],
   "source": [
    "from etl_pipeline.config import columns_namespace as cn"
   ]
  },
  {
   "cell_type": "code",
   "execution_count": 4,
   "id": "40c16dfc",
   "metadata": {},
   "outputs": [],
   "source": [
    "def load_alert():\n",
    "    with open(\"notebooks/sample/alert.json\", \"r\") as f:\n",
    "        text = json.loads(f.read())\n",
    "        match1 = Match(match_id=\"0\", match_name=\"1\")\n",
    "        match2 = Match(match_id=\"1\", match_name=\"2\")\n",
    "        alert = Alert(batch_id=\"1\", alert_name=\"2\", matches=[match1, match2])\n",
    "        for key, value in text.items():\n",
    "            alert.flat_payload[str(key)] = value\n",
    "    return alert"
   ]
  },
  {
   "cell_type": "code",
   "execution_count": 5,
   "id": "565d811d",
   "metadata": {},
   "outputs": [],
   "source": [
    "# alert = load_alert()"
   ]
  },
  {
   "cell_type": "code",
   "execution_count": 6,
   "id": "c804420b-9569-449e-99b4-8d707bc9b956",
   "metadata": {
    "tags": []
   },
   "outputs": [],
   "source": [
    "# payload = load_alert()\n"
   ]
  },
  {
   "cell_type": "markdown",
   "id": "82153271-8b29-42f9-9ca8-4d3f7ba2b721",
   "metadata": {},
   "source": [
    "# Definition"
   ]
  },
  {
   "cell_type": "code",
   "execution_count": 7,
   "id": "f813cf33-f0e2-48d6-92ff-3163cf5db3f2",
   "metadata": {},
   "outputs": [],
   "source": [
    "from etl_pipeline.config import agents_config\n",
    "from etl_pipeline.config import columns_namespace as cn\n",
    "from etl_pipeline.custom.ms.datatypes.field import InputRecordField\n",
    "from etl_pipeline.custom.ms.payload_loader import PayloadLoader\n",
    "from etl_pipeline.custom.ms.transformations import (\n",
    "    create_agent_input_agg_col_config,\n",
    "    prepend_agent_name_to_ap_or_wl_or_aliases_key,\n",
    ")\n",
    "from etl_pipeline.custom.ms.watchlist_extractor import WatchlistExtractor\n",
    "from etl_pipeline.pipeline import ETLPipeline\n",
    "\n",
    "\n",
    "class MSPipeline(ETLPipeline):\n",
    "    def convert_raw_to_standardized(self, df):\n",
    "        return df\n",
    "\n",
    "    def transform_standardized_to_cleansed(self, payload):\n",
    "        match_ids = payload[cn.MATCH_IDS]\n",
    "        matches = payload[cn.ALERT_FIELD][cn.MATCH_RECORDS]\n",
    "        parties = payload[cn.ALERT_FIELD][cn.SUPPLEMENTAL_INFO][cn.PARTIES]\n",
    "        payload[cn.ALERT_FIELD][cn.INPUT_RECORD_HIST][cn.INPUT_RECORD][cn.FIELDS] = {\n",
    "            i[\"name\"]: InputRecordField(**i)\n",
    "            for i in payload[cn.ALERT_FIELD][cn.INPUT_RECORD_HIST][cn.INPUT_RECORD][cn.FIELDS]\n",
    "        }\n",
    "        fields = payload[cn.ALERT_FIELD][cn.INPUT_RECORD_HIST][cn.INPUT_RECORD][cn.FIELDS]\n",
    "\n",
    "        for match_id in match_ids:\n",
    "            match = matches[match_id]\n",
    "            WatchlistExtractor().update_match_with_wl_values(match)\n",
    "            match[cn.TRIGGERED_BY] = self.engine.set_trigger_reasons(\n",
    "                match, self.pipeline_config.FUZZINESS_LEVEL\n",
    "            )\n",
    "            self.engine.set_beneficiary_hits(match)\n",
    "        self.engine.connect_full_names(parties)\n",
    "        self.engine.collect_party_values(parties, payload)\n",
    "        payload[cn.ALL_CONNECTED_PARTY_TYPES] = payload[cn.ALL_PARTY_TYPES]\n",
    "        names_source_cols = [\n",
    "            cn.ALL_PARTY_NAMES,\n",
    "            cn.ALL_CONNECTED_PARTIES_NAMES,\n",
    "        ]\n",
    "\n",
    "        payload.update(\n",
    "            {\n",
    "                cn.CLEANED_NAMES: self.engine.get_clean_names_from_concat_name(\n",
    "                    fields.get(fields.get(cn.CONCAT_ADDRESS, \"\")),\n",
    "                    {key: payload[key] for key in names_source_cols},\n",
    "                )\n",
    "            }\n",
    "        )\n",
    "        payload.update({cn.CONCAT_RESIDUE: payload[cn.CLEANED_NAMES][cn.CONCAT_RESIDUE]})\n",
    "        concat_residue = payload[cn.CONCAT_RESIDUE]\n",
    "        concat_address = fields.get(\n",
    "            fields.get(cn.CONCAT_ADDRESS, \"\"),\n",
    "            \"\",\n",
    "        )\n",
    "\n",
    "        payload.update({cn.CONCAT_ADDRESS_NO_CHANGES: concat_residue == concat_address})\n",
    "        for match_id in match_ids:\n",
    "            match = matches[match_id]\n",
    "            match[cn.AP_TRIGGERS] = self.engine.set_triggered_tokens_discovery(\n",
    "                payload, match, fields\n",
    "            )\n",
    "\n",
    "        return payload\n",
    "\n",
    "    def get_key(self, payload, match, conf):\n",
    "        new_config = {}\n",
    "        for key, value in dict(conf).items():\n",
    "            temp_dict = dict(value)\n",
    "            for new_key in temp_dict:\n",
    "                for element in temp_dict[new_key]:\n",
    "                    elements = element.split(\".\")\n",
    "                    if cn.MATCH_RECORDS in element:\n",
    "                        value = match\n",
    "                        elements = elements[1:]\n",
    "                    else:\n",
    "                        value = payload\n",
    "                    \n",
    "                    for field_name in elements:\n",
    "                        if field_name == \"INPUT_RECORD_FIELD\":\n",
    "                            value = value[0][field_name][elements[-1]].value\n",
    "                            break\n",
    "                        try:\n",
    "                            value = value.get(field_name, None)\n",
    "                        except TypeError:\n",
    "                            key = PayloadLoader.LIST_ELEMENT_REGEX.sub(\"\", field_name)\n",
    "                            ix = int(PayloadLoader.LIST_ELEMENT_REGEX.match(field_name).groups(0))\n",
    "                            value = value[key][ix]\n",
    "                    new_config[elements[-1]] = value\n",
    "        return new_config\n",
    "\n",
    "    def load_config(self, alert_type=\"WM_ADDRESS\"):\n",
    "        yaml_conf = agents_config[alert_type]\n",
    "        agent_config = {}\n",
    "        for key, value in dict(yaml_conf).items():\n",
    "            temp_dict = dict(value)\n",
    "            party_config = {}\n",
    "            agent_config[key] = party_config\n",
    "            for new_key in temp_dict:\n",
    "                party_config[new_key] = []\n",
    "\n",
    "                for element in temp_dict[new_key]:\n",
    "                    elements = element.split(\".\")\n",
    "                    party_config[new_key].append(elements[-1])\n",
    "        return agent_config, yaml_conf\n",
    "\n",
    "    def transform_cleansed_to_application(self, payload):\n",
    "        match_ids = payload[cn.MATCH_IDS]\n",
    "        matches = payload[cn.ALERT_FIELD][cn.MATCH_RECORDS]\n",
    "        agent_config, yaml_conf = self.load_config()\n",
    "        agent_input_prepended_agent_name_config = prepend_agent_name_to_ap_or_wl_or_aliases_key(\n",
    "            agent_config\n",
    "        )\n",
    "\n",
    "        agent_input_agg_col_config = create_agent_input_agg_col_config(\n",
    "            agent_input_prepended_agent_name_config\n",
    "        )\n",
    "\n",
    "        for match_id in match_ids:\n",
    "            match = matches[match_id]\n",
    "            config = self.get_key(payload, match, yaml_conf)\n",
    "            self.engine.sql_to_merge_specific_columns_to_standardized(\n",
    "                agent_input_prepended_agent_name_config,\n",
    "                match,\n",
    "                config,\n",
    "                False,\n",
    "            )\n",
    "            config.update(\n",
    "                {\n",
    "                    key: match.get(key)\n",
    "                    for key in match\n",
    "                    if key.endswith(\"_ap\") or key.endswith(\"_wl\")\n",
    "                }\n",
    "            )\n",
    "            self.engine.sql_to_merge_specific_columns_to_standardized(\n",
    "                agent_input_agg_col_config, match, config, True\n",
    "            )\n",
    "        return payload\n"
   ]
  },
  {
   "cell_type": "code",
   "execution_count": 8,
   "id": "d20eba4e-fa6b-462b-a548-d8c9bbc255d0",
   "metadata": {},
   "outputs": [],
   "source": [
    "with open(f'notebooks/sample/alert.json', 'r') as file:\n",
    "    payload = json.loads(file.read())\n",
    "\n",
    "payload_json = {key: payload[key] for key in sorted(payload)}\n",
    "# payload_json = PayloadLoader().load_payload_from_json(payload_json)\n",
    "payload_json['match_ids'] = [i for i in range(len(payload_json[cn.ALERT_FIELD][cn.MATCH_RECORDS]))]\n",
    "payload = payload_json"
   ]
  },
  {
   "cell_type": "code",
   "execution_count": 9,
   "id": "9ec7eeee",
   "metadata": {},
   "outputs": [],
   "source": [
    "engine = JsonProcessingEngine(pipeline_config)\n",
    "pipeline = MSPipeline(engine, config=pipeline_config)"
   ]
  },
  {
   "cell_type": "code",
   "execution_count": null,
   "id": "0713062c-791d-42ad-87ed-ea23659f0c93",
   "metadata": {},
   "outputs": [],
   "source": []
  },
  {
   "cell_type": "markdown",
   "id": "67b3311f-755c-4467-b2e3-725c5571dcc2",
   "metadata": {},
   "source": [
    "## transform standardized to cleansed"
   ]
  },
  {
   "cell_type": "code",
   "execution_count": 10,
   "id": "7dacacfb-2199-4c9f-9abc-7161c0efb1ed",
   "metadata": {},
   "outputs": [],
   "source": [
    "match_ids = payload[cn.MATCH_IDS]\n",
    "matches = payload[cn.ALERT_FIELD][cn.MATCH_RECORDS]"
   ]
  },
  {
   "cell_type": "code",
   "execution_count": 11,
   "id": "91cdcc2b-6fc6-4369-9d57-6d7461624b30",
   "metadata": {},
   "outputs": [],
   "source": [
    "parties = payload[cn.SUPPLEMENTAL_INFO][cn.RELATED_PARTIES][cn.PARTIES]"
   ]
  },
  {
   "cell_type": "code",
   "execution_count": 12,
   "id": "b143fce8-752a-42da-82e0-16cc36ffe582",
   "metadata": {},
   "outputs": [],
   "source": [
    "for num, party in enumerate(parties):\n",
    "    parties[num] = party[\"fields\"]"
   ]
  },
  {
   "cell_type": "code",
   "execution_count": 13,
   "id": "9b951036-99ac-4ffd-9389-fd4464e73ece",
   "metadata": {},
   "outputs": [],
   "source": [
    "payload[cn.ALERT_FIELD][cn.INPUT_RECORD_HIST][0][\"INPUT_RECORD_FIELD\"] = {\n",
    "    i[\"name\"]: InputRecordField(**i)\n",
    "    for i in payload[cn.ALERT_FIELD][cn.INPUT_RECORD_HIST][0][\"field\"]\n",
    "}\n",
    "\n",
    "fields = payload[cn.ALERT_FIELD][cn.INPUT_RECORD_HIST][0][\"INPUT_RECORD_FIELD\"]"
   ]
  },
  {
   "cell_type": "code",
   "execution_count": 14,
   "id": "9ca9fb7e-2ad3-4978-bc86-1e12d3b8063b",
   "metadata": {},
   "outputs": [],
   "source": [
    "for match_id in match_ids:\n",
    "    match = matches[match_id]\n",
    "    WatchlistExtractor().update_match_with_wl_values(match)\n",
    "    match[cn.TRIGGERED_BY] = engine.set_trigger_reasons(\n",
    "        match, pipeline_config.FUZZINESS_LEVEL\n",
    "    )\n",
    "    engine.set_beneficiary_hits(match)"
   ]
  },
  {
   "cell_type": "code",
   "execution_count": 15,
   "id": "184e46d5-c785-4cef-a7cf-d4edd29c741a",
   "metadata": {},
   "outputs": [],
   "source": [
    "engine.connect_full_names(parties)\n"
   ]
  },
  {
   "cell_type": "code",
   "execution_count": 16,
   "id": "e7289b73-dbc1-4f4c-9da2-fb14e631f32c",
   "metadata": {},
   "outputs": [],
   "source": [
    "\n",
    "engine.collect_party_values(parties, payload)\n",
    "payload[cn.ALL_CONNECTED_PARTY_TYPES] = payload[cn.ALL_PARTY_TYPES]\n",
    "names_source_cols = [\n",
    "    cn.ALL_PARTY_NAMES,\n",
    "    cn.ALL_CONNECTED_PARTIES_NAMES,\n",
    "]"
   ]
  },
  {
   "cell_type": "code",
   "execution_count": 17,
   "id": "d8c07801-634a-46ec-a416-f51848aa0ff8",
   "metadata": {},
   "outputs": [
    {
     "data": {
      "text/plain": [
       "InputRecordField(name='CONCAT_ADDRESS', isScreenable='true', value='Joe Black & Jane Doe 111 A 11TH ST AAA 1A New Jersey NJ', sortOrder='13')"
      ]
     },
     "execution_count": 17,
     "metadata": {},
     "output_type": "execute_result"
    }
   ],
   "source": [
    "fields.get(cn.CONCAT_ADDRESS, \"\")"
   ]
  },
  {
   "cell_type": "code",
   "execution_count": 18,
   "id": "8db6cdcf-69db-4b67-9467-12d485076359",
   "metadata": {},
   "outputs": [
    {
     "data": {
      "text/plain": [
       "InputRecordField(name='CONCAT_ADDRESS', isScreenable='true', value='Joe Black & Jane Doe 111 A 11TH ST AAA 1A New Jersey NJ', sortOrder='13')"
      ]
     },
     "execution_count": 18,
     "metadata": {},
     "output_type": "execute_result"
    }
   ],
   "source": [
    "fields.get(cn.CONCAT_ADDRESS, {})"
   ]
  },
  {
   "cell_type": "code",
   "execution_count": 19,
   "id": "9e3d8a06-2ea7-415d-87ea-f89aae43e8a7",
   "metadata": {},
   "outputs": [],
   "source": [
    "from dataclasses import asdict\n",
    "payload.update(\n",
    "    {\n",
    "        cn.CLEANED_NAMES: engine.get_clean_names_from_concat_name(\n",
    "            fields.get(cn.CONCAT_ADDRESS, None).value,\n",
    "            {key: payload[key] for key in names_source_cols},\n",
    "        )\n",
    "    }\n",
    ")"
   ]
  },
  {
   "cell_type": "code",
   "execution_count": 20,
   "id": "3bcf8e4b-602d-4c2f-a799-c0fbdfd6efe3",
   "metadata": {},
   "outputs": [],
   "source": [
    "payload.update({cn.CONCAT_RESIDUE: payload[cn.CLEANED_NAMES][cn.CONCAT_RESIDUE]})\n"
   ]
  },
  {
   "cell_type": "code",
   "execution_count": 21,
   "id": "7e7aa661-1cda-4735-941f-9290a2be03b0",
   "metadata": {},
   "outputs": [],
   "source": [
    "\n",
    "concat_residue = payload[cn.CONCAT_RESIDUE]\n",
    "concat_address = fields.get(cn.CONCAT_ADDRESS, None).value"
   ]
  },
  {
   "cell_type": "code",
   "execution_count": 22,
   "id": "fb9bd6e4-d660-4117-a11e-37b6e3862c8f",
   "metadata": {},
   "outputs": [],
   "source": [
    "payload.update({cn.CONCAT_ADDRESS_NO_CHANGES: concat_residue == concat_address})\n",
    "for match_id in match_ids:\n",
    "    match = matches[match_id]\n",
    "    match[cn.AP_TRIGGERS] = engine.set_triggered_tokens_discovery(\n",
    "        payload, match, fields\n",
    "    )\n"
   ]
  },
  {
   "cell_type": "code",
   "execution_count": 23,
   "id": "5bd27013-42c6-491a-b612-9e57ae86cb5c",
   "metadata": {},
   "outputs": [
    {
     "data": {
      "text/plain": [
       "'[\"Doe\"]'"
      ]
     },
     "execution_count": 23,
     "metadata": {},
     "output_type": "execute_result"
    }
   ],
   "source": [
    "match[cn.WL_MATCHED_TOKENS]"
   ]
  },
  {
   "cell_type": "code",
   "execution_count": 24,
   "id": "5cbdaa9c-0f80-43ba-a8cd-7324ea79b8c2",
   "metadata": {},
   "outputs": [],
   "source": [
    "match_ids = payload[cn.MATCH_IDS]\n",
    "matches = payload[cn.ALERT_FIELD][cn.MATCH_RECORDS]\n",
    "agent_config, yaml_conf = pipeline.load_config()\n",
    "agent_input_prepended_agent_name_config = prepend_agent_name_to_ap_or_wl_or_aliases_key(\n",
    "    agent_config\n",
    ")\n",
    "\n",
    "agent_input_agg_col_config = create_agent_input_agg_col_config(\n",
    "    agent_input_prepended_agent_name_config\n",
    ")\n"
   ]
  },
  {
   "cell_type": "code",
   "execution_count": 25,
   "id": "df06dcb3-b0dd-4520-9f66-fa6e16d37112",
   "metadata": {},
   "outputs": [],
   "source": [
    "for match_id in match_ids:\n",
    "    match = matches[match_id]\n",
    "    config = pipeline.get_key(payload, match, yaml_conf)\n",
    "    pipeline.engine.sql_to_merge_specific_columns_to_standardized(\n",
    "        agent_input_prepended_agent_name_config,\n",
    "        match,\n",
    "        config,\n",
    "        False,\n",
    "    )\n",
    "    config.update(\n",
    "        {\n",
    "            key: match.get(key)\n",
    "            for key in match\n",
    "            if key.endswith(\"_ap\") or key.endswith(\"_wl\")\n",
    "        }\n",
    "    )\n",
    "    pipeline.engine.sql_to_merge_specific_columns_to_standardized(\n",
    "        agent_input_agg_col_config, match, config, True\n",
    "    )\n"
   ]
  },
  {
   "cell_type": "markdown",
   "id": "a9a626d1-bac1-41e3-ae8a-cf91c32d99ae",
   "metadata": {
    "tags": []
   },
   "source": [
    "### payload"
   ]
  },
  {
   "cell_type": "code",
   "execution_count": 26,
   "id": "b15e64f5-5bfa-4d27-9358-9d66124a4973",
   "metadata": {},
   "outputs": [],
   "source": [
    "# partyType"
   ]
  },
  {
   "cell_type": "code",
   "execution_count": 27,
   "id": "190aa3c5-9909-4b36-b627-b72f22a7e0c8",
   "metadata": {},
   "outputs": [
    {
     "name": "stdout",
     "output_type": "stream",
     "text": [
      "++++++++\n",
      "[['02/31/1900', '04/31/1910']] [['MAY 6, 1981']]\n",
      "['UNITED STATES OF AMERICA'] ['US'] US\n",
      "++++++++\n",
      "[['02/31/1900', '04/31/1910']] [['MAY 6, 1981']]\n",
      "['UNITED STATES OF AMERICA'] ['US'] US\n"
     ]
    }
   ],
   "source": [
    "for match in matches:\n",
    "    print(\"++++++++\")\n",
    "    print(match[\"ap_all_dobs_aggregated\"], match[\"wl_all_dobs_aggregated\"])\n",
    "    # print(match[\"ap_all_nationalities_aggregated\"], match[\"wl_all_nationalities_aggregated\"])\n",
    "    print(match[\"ap_all_residencies_aggregated\"], match[\"wl_all_residencies_aggregated\"], match['WL_COUNTRY'])\n"
   ]
  },
  {
   "cell_type": "code",
   "execution_count": 28,
   "id": "ded97825-dd07-477b-8e88-8b2f6a64d22a",
   "metadata": {},
   "outputs": [],
   "source": [
    "import pickle\n",
    "with open(\"tests/shared/parsed_payload.pkl\", \"wb\") as f:\n",
    "    pickle.dump(payload, f)"
   ]
  },
  {
   "cell_type": "code",
   "execution_count": null,
   "id": "79ea48ac-d227-414c-a898-afaa178bb544",
   "metadata": {},
   "outputs": [],
   "source": []
  }
 ],
 "metadata": {
  "kernelspec": {
   "display_name": "Python 3 (ipykernel)",
   "language": "python",
   "name": "python3"
  },
  "language_info": {
   "codemirror_mode": {
    "name": "ipython",
    "version": 3
   },
   "file_extension": ".py",
   "mimetype": "text/x-python",
   "name": "python",
   "nbconvert_exporter": "python",
   "pygments_lexer": "ipython3",
   "version": "3.7.11"
  }
 },
 "nbformat": 4,
 "nbformat_minor": 5
}
