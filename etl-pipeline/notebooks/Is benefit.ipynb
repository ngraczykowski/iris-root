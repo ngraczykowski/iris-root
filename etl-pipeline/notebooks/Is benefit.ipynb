{
 "cells": [
  {
   "cell_type": "code",
   "execution_count": 1,
   "id": "4d17991f",
   "metadata": {},
   "outputs": [],
   "source": [
    "import os\n",
    "os.chdir(\"..\")\n",
    "\n",
    "from spark_manager.spark_client import SparkClient\n",
    "from spark_manager.spark_config import SPARK_CONF\n",
    "import pyspark.sql.functions as F\n",
    "import pattern_json\n",
    "\n",
    "spark_instance = SparkClient(SPARK_CONF)\n",
    "\n",
    "final_df360 = spark_instance.read_csv(\"data/final_df360.csv\")\n",
    "\n",
    "final_df360.toPandas()\n",
    "\n",
    "check_beneficiary_hit = F.when(\n",
    "            F.array_contains(F.col(pattern_json.TRIGGERED_BY), AD_BNFL_NM), F.lit(True)\n",
    "        ).otherwise(F.lit(False))\n",
    "final_df360 = final_df360.withColumn(IS_BENEFICIARY_HIT, check_beneficiary_hit)\n",
    "\n",
    "\n"
   ]
  }
 ],
 "metadata": {
  "kernelspec": {
   "display_name": "Python 3 (ipykernel)",
   "language": "python",
   "name": "python3"
  },
  "language_info": {
   "codemirror_mode": {
    "name": "ipython",
    "version": 3
   },
   "file_extension": ".py",
   "mimetype": "text/x-python",
   "name": "python",
   "nbconvert_exporter": "python",
   "pygments_lexer": "ipython3",
   "version": "3.9.7"
  }
 },
 "nbformat": 4,
 "nbformat_minor": 5
}
