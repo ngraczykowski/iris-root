{
 "cells": [
  {
   "cell_type": "code",
   "execution_count": 1,
   "id": "3bd69b4c-19cf-48f7-a810-a4890e66302f",
   "metadata": {
    "tags": []
   },
   "outputs": [],
   "source": [
    "import os\n",
    "\n",
    "os.environ[\"CONFIG_APP_DIR\"] = \"/app/config\"\n"
   ]
  },
  {
   "cell_type": "code",
   "execution_count": 2,
   "id": "3c549e53",
   "metadata": {},
   "outputs": [
    {
     "name": "stderr",
     "output_type": "stream",
     "text": [
      "/env/ds/anaconda/envs/pipeline/lib/python3.6/site-packages/fuzzywuzzy/fuzz.py:11: UserWarning: Using slow pure-python SequenceMatcher. Install python-Levenshtein to remove this warning\n",
      "  warnings.warn('Using slow pure-python SequenceMatcher. Install python-Levenshtein to remove this warning')\n"
     ]
    }
   ],
   "source": [
    "import sys\n",
    "import os\n",
    "import pickle\n",
    "os.chdir(\"/app\")\n",
    "from omegaconf import OmegaConf\n",
    "\n",
    "import json\n",
    "from etl_pipeline.data_processor_engine.json_engine.json_engine import JsonProcessingEngine\n",
    "from etl_pipeline.custom.ms.payload_loader import PayloadLoader"
   ]
  },
  {
   "cell_type": "code",
   "execution_count": 3,
   "id": "522650c7-af7a-4824-8d36-bf62f558577d",
   "metadata": {},
   "outputs": [],
   "source": [
    "from etl_pipeline.config import pipeline_config\n",
    "cn = pipeline_config.cn"
   ]
  },
  {
   "cell_type": "code",
   "execution_count": 4,
   "id": "565d811d",
   "metadata": {},
   "outputs": [],
   "source": [
    "# alert = load_alert()"
   ]
  },
  {
   "cell_type": "code",
   "execution_count": 5,
   "id": "c804420b-9569-449e-99b4-8d707bc9b956",
   "metadata": {
    "tags": []
   },
   "outputs": [],
   "source": [
    "# payload = load_alert()\n"
   ]
  },
  {
   "cell_type": "markdown",
   "id": "82153271-8b29-42f9-9ca8-4d3f7ba2b721",
   "metadata": {},
   "source": [
    "# Definition"
   ]
  },
  {
   "cell_type": "code",
   "execution_count": 6,
   "id": "f813cf33-f0e2-48d6-92ff-3163cf5db3f2",
   "metadata": {},
   "outputs": [],
   "source": [
    "from pipelines.ms.ms_pipeline import MSPipeline\n",
    "from etl_pipeline.config import pipeline_config\n"
   ]
  },
  {
   "cell_type": "code",
   "execution_count": 7,
   "id": "d20eba4e-fa6b-462b-a548-d8c9bbc255d0",
   "metadata": {},
   "outputs": [],
   "source": [
    "with open(f'notebooks/sample/wm_address_in_payload_format.json', 'r') as file:\n",
    "    payload = json.loads(file.read())\n",
    "\n",
    "payload_json = {key: payload[key] for key in sorted(payload)}\n",
    "payload_json = PayloadLoader().load_payload_from_json(payload_json)\n",
    "\n",
    "\n",
    "\n",
    "payload_json['match_ids'] = [i for i in range(len(payload_json[\"watchlistParty\"][\"matchRecords\"]))]\n"
   ]
  },
  {
   "cell_type": "code",
   "execution_count": 8,
   "id": "8bf7bcf5-be42-4cc1-a227-7938c4417b6d",
   "metadata": {},
   "outputs": [],
   "source": [
    "payload = payload_json"
   ]
  },
  {
   "cell_type": "code",
   "execution_count": 9,
   "id": "409b615c-769f-4159-9ab4-019fb87cd547",
   "metadata": {},
   "outputs": [],
   "source": [
    "from etl_pipeline.config import load_agent_configs, pipeline_config"
   ]
  },
  {
   "cell_type": "code",
   "execution_count": null,
   "id": "402fa313-0b7e-4c66-8d2a-a2801dd1494a",
   "metadata": {},
   "outputs": [],
   "source": []
  },
  {
   "cell_type": "code",
   "execution_count": 10,
   "id": "27343b4b-3bca-4a32-9ac7-3fb41450eb8c",
   "metadata": {
    "scrolled": true
   },
   "outputs": [
    {
     "name": "stdout",
     "output_type": "stream",
     "text": [
      "2022-04-07 19:16:39,679 — main — WARNING — load_agent_config:68 — Field in agent configuration for: ALL_CONCAT_NAMES is not registered field in pipeline.yaml\n",
      "2022-04-07 19:16:39,683 — main — WARNING — load_agent_config:68 — Field in agent configuration for: ALL_PARTY1_NAME_FULL is not registered field in pipeline.yaml\n",
      "2022-04-07 19:16:39,688 — main — WARNING — load_agent_config:68 — Field in agent configuration for: ALL_CONCAT_NAMES is not registered field in pipeline.yaml\n",
      "2022-04-07 19:16:39,693 — main — WARNING — load_agent_config:68 — Field in agent configuration for: ALL_PARTY1_NAME_FULL is not registered field in pipeline.yaml\n",
      "2022-04-07 19:16:39,698 — main — WARNING — load_agent_config:68 — Field in agent configuration for: ALL_PARTY1_ORGANIZATION_NAME is not registered field in pipeline.yaml\n",
      "2022-04-07 19:16:39,802 — main — WARNING — load_agent_config:68 — Field in agent configuration for: AP_PARTY_TYPE is not registered field in pipeline.yaml\n"
     ]
    }
   ],
   "source": [
    "pipeline_config.reload_pipeline_config()\n",
    "_ = load_agent_configs()"
   ]
  },
  {
   "cell_type": "code",
   "execution_count": 11,
   "id": "9ec7eeee",
   "metadata": {},
   "outputs": [
    {
     "name": "stdout",
     "output_type": "stream",
     "text": [
      "2022-04-07 19:16:39,857 — main — WARNING — load_agent_config:68 — Field in agent configuration for: ALL_CONCAT_NAMES is not registered field in pipeline.yaml\n",
      "2022-04-07 19:16:39,863 — main — WARNING — load_agent_config:68 — Field in agent configuration for: ALL_PARTY1_NAME_FULL is not registered field in pipeline.yaml\n",
      "2022-04-07 19:16:39,868 — main — WARNING — load_agent_config:68 — Field in agent configuration for: ALL_CONCAT_NAMES is not registered field in pipeline.yaml\n",
      "2022-04-07 19:16:39,874 — main — WARNING — load_agent_config:68 — Field in agent configuration for: ALL_PARTY1_NAME_FULL is not registered field in pipeline.yaml\n",
      "2022-04-07 19:16:39,880 — main — WARNING — load_agent_config:68 — Field in agent configuration for: ALL_PARTY1_ORGANIZATION_NAME is not registered field in pipeline.yaml\n",
      "2022-04-07 19:16:39,983 — main — WARNING — load_agent_config:68 — Field in agent configuration for: AP_PARTY_TYPE is not registered field in pipeline.yaml\n"
     ]
    }
   ],
   "source": [
    "engine = JsonProcessingEngine(pipeline_config)\n",
    "pipeline = MSPipeline(engine, config=pipeline_config)"
   ]
  },
  {
   "cell_type": "markdown",
   "id": "67b3311f-755c-4467-b2e3-725c5571dcc2",
   "metadata": {},
   "source": [
    "## transform standardized to cleansed"
   ]
  },
  {
   "cell_type": "code",
   "execution_count": 12,
   "id": "b44d01ec-9869-490c-90f3-ea6ce71c2179",
   "metadata": {},
   "outputs": [],
   "source": [
    "payload = pipeline.transform_standardized_to_cleansed(payload)"
   ]
  },
  {
   "cell_type": "markdown",
   "id": "a97ecf06-a7e4-45a1-81e9-1203ccd1dd73",
   "metadata": {},
   "source": [
    "ALL_CONNECTED_ACCOUNT_NAMES# Transform standardized to application"
   ]
  },
  {
   "cell_type": "code",
   "execution_count": 13,
   "id": "1103a035-7ee7-49fa-8472-8dc744bc90bc",
   "metadata": {},
   "outputs": [
    {
     "name": "stdout",
     "output_type": "stream",
     "text": [
      "> \u001b[0;32m/app/pipelines/ms/ms_pipeline.py\u001b[0m(396)\u001b[0;36mset_up_entity_type_match\u001b[0;34m()\u001b[0m\n",
      "\u001b[0;32m    394 \u001b[0;31m    \u001b[0;32mdef\u001b[0m \u001b[0mset_up_entity_type_match\u001b[0m\u001b[0;34m(\u001b[0m\u001b[0mself\u001b[0m\u001b[0;34m,\u001b[0m \u001b[0mmatch\u001b[0m\u001b[0;34m)\u001b[0m\u001b[0;34m:\u001b[0m\u001b[0;34m\u001b[0m\u001b[0;34m\u001b[0m\u001b[0m\n",
      "\u001b[0m\u001b[0;32m    395 \u001b[0;31m        \u001b[0;32mimport\u001b[0m \u001b[0mpdb\u001b[0m\u001b[0;34m;\u001b[0m \u001b[0mpdb\u001b[0m\u001b[0;34m.\u001b[0m\u001b[0mset_trace\u001b[0m\u001b[0;34m(\u001b[0m\u001b[0;34m)\u001b[0m\u001b[0;34m\u001b[0m\u001b[0;34m\u001b[0m\u001b[0m\n",
      "\u001b[0m\u001b[0;32m--> 396 \u001b[0;31m        \u001b[0;32mif\u001b[0m \u001b[0mmatch\u001b[0m\u001b[0;34m[\u001b[0m\u001b[0;34m\"AP_PARTY_TYPE\"\u001b[0m\u001b[0;34m]\u001b[0m \u001b[0;34m==\u001b[0m \u001b[0mmatch\u001b[0m\u001b[0;34m[\u001b[0m\u001b[0;34m\"WLP_TYPE\"\u001b[0m\u001b[0;34m]\u001b[0m\u001b[0;34m:\u001b[0m\u001b[0;34m\u001b[0m\u001b[0;34m\u001b[0m\u001b[0m\n",
      "\u001b[0m\u001b[0;32m    397 \u001b[0;31m            \u001b[0mmatch\u001b[0m\u001b[0;34m[\u001b[0m\u001b[0;34m\"ENTITY_TYPE_MATCH\"\u001b[0m\u001b[0;34m]\u001b[0m \u001b[0;34m=\u001b[0m \u001b[0;34m\"Y\"\u001b[0m\u001b[0;34m\u001b[0m\u001b[0;34m\u001b[0m\u001b[0m\n",
      "\u001b[0m\u001b[0;32m    398 \u001b[0;31m        \u001b[0;32melse\u001b[0m\u001b[0;34m:\u001b[0m\u001b[0;34m\u001b[0m\u001b[0;34m\u001b[0m\u001b[0m\n",
      "\u001b[0m\n",
      "ipdb>  match[\"AP_PARTY_TYPE\"] == match[\"WLP_TYPE\"]\n",
      "True\n",
      "ipdb> c\n",
      "2022-04-07 19:16:49,409 — main.engine — WARNING — merge_to_target_col_from_source_cols_sql_expression:235 — No field in payload named: hit_type_agent_country. Ignore for HIT TYPE AGENT\n",
      "2022-04-07 19:16:49,409 — main.engine — WARNING — merge_to_target_col_from_source_cols_sql_expression:235 — No field in payload named: hit_type_agent_job. Ignore for HIT TYPE AGENT\n",
      "2022-04-07 19:16:49,410 — main.engine — WARNING — merge_to_target_col_from_source_cols_sql_expression:235 — No field in payload named: hit_type_agent_other. Ignore for HIT TYPE AGENT\n",
      "2022-04-07 19:16:49,410 — main.engine — WARNING — merge_to_target_col_from_source_cols_sql_expression:235 — No field in payload named: hit_type_agent_country. Ignore for HIT TYPE AGENT\n",
      "2022-04-07 19:16:49,410 — main.engine — WARNING — merge_to_target_col_from_source_cols_sql_expression:235 — No field in payload named: hit_type_agent_job. Ignore for HIT TYPE AGENT\n",
      "2022-04-07 19:16:49,411 — main.engine — WARNING — merge_to_target_col_from_source_cols_sql_expression:235 — No field in payload named: hit_type_agent_other. Ignore for HIT TYPE AGENT\n",
      "> \u001b[0;32m/app/pipelines/ms/ms_pipeline.py\u001b[0m(396)\u001b[0;36mset_up_entity_type_match\u001b[0;34m()\u001b[0m\n",
      "\u001b[0;32m    394 \u001b[0;31m    \u001b[0;32mdef\u001b[0m \u001b[0mset_up_entity_type_match\u001b[0m\u001b[0;34m(\u001b[0m\u001b[0mself\u001b[0m\u001b[0;34m,\u001b[0m \u001b[0mmatch\u001b[0m\u001b[0;34m)\u001b[0m\u001b[0;34m:\u001b[0m\u001b[0;34m\u001b[0m\u001b[0;34m\u001b[0m\u001b[0m\n",
      "\u001b[0m\u001b[0;32m    395 \u001b[0;31m        \u001b[0;32mimport\u001b[0m \u001b[0mpdb\u001b[0m\u001b[0;34m;\u001b[0m \u001b[0mpdb\u001b[0m\u001b[0;34m.\u001b[0m\u001b[0mset_trace\u001b[0m\u001b[0;34m(\u001b[0m\u001b[0;34m)\u001b[0m\u001b[0;34m\u001b[0m\u001b[0;34m\u001b[0m\u001b[0m\n",
      "\u001b[0m\u001b[0;32m--> 396 \u001b[0;31m        \u001b[0;32mif\u001b[0m \u001b[0mmatch\u001b[0m\u001b[0;34m[\u001b[0m\u001b[0;34m\"AP_PARTY_TYPE\"\u001b[0m\u001b[0;34m]\u001b[0m \u001b[0;34m==\u001b[0m \u001b[0mmatch\u001b[0m\u001b[0;34m[\u001b[0m\u001b[0;34m\"WLP_TYPE\"\u001b[0m\u001b[0;34m]\u001b[0m\u001b[0;34m:\u001b[0m\u001b[0;34m\u001b[0m\u001b[0;34m\u001b[0m\u001b[0m\n",
      "\u001b[0m\u001b[0;32m    397 \u001b[0;31m            \u001b[0mmatch\u001b[0m\u001b[0;34m[\u001b[0m\u001b[0;34m\"ENTITY_TYPE_MATCH\"\u001b[0m\u001b[0;34m]\u001b[0m \u001b[0;34m=\u001b[0m \u001b[0;34m\"Y\"\u001b[0m\u001b[0;34m\u001b[0m\u001b[0;34m\u001b[0m\u001b[0m\n",
      "\u001b[0m\u001b[0;32m    398 \u001b[0;31m        \u001b[0;32melse\u001b[0m\u001b[0;34m:\u001b[0m\u001b[0;34m\u001b[0m\u001b[0;34m\u001b[0m\u001b[0m\n",
      "\u001b[0m\n",
      "ipdb> c\n",
      "2022-04-07 19:16:50,164 — main.engine — WARNING — merge_to_target_col_from_source_cols_sql_expression:235 — No field in payload named: hit_type_agent_country. Ignore for HIT TYPE AGENT\n",
      "2022-04-07 19:16:50,165 — main.engine — WARNING — merge_to_target_col_from_source_cols_sql_expression:235 — No field in payload named: hit_type_agent_job. Ignore for HIT TYPE AGENT\n",
      "2022-04-07 19:16:50,165 — main.engine — WARNING — merge_to_target_col_from_source_cols_sql_expression:235 — No field in payload named: hit_type_agent_other. Ignore for HIT TYPE AGENT\n",
      "2022-04-07 19:16:50,165 — main.engine — WARNING — merge_to_target_col_from_source_cols_sql_expression:235 — No field in payload named: hit_type_agent_country. Ignore for HIT TYPE AGENT\n",
      "2022-04-07 19:16:50,166 — main.engine — WARNING — merge_to_target_col_from_source_cols_sql_expression:235 — No field in payload named: hit_type_agent_job. Ignore for HIT TYPE AGENT\n",
      "2022-04-07 19:16:50,166 — main.engine — WARNING — merge_to_target_col_from_source_cols_sql_expression:235 — No field in payload named: hit_type_agent_other. Ignore for HIT TYPE AGENT\n"
     ]
    }
   ],
   "source": [
    "new_payloads = pipeline.transform_cleansed_to_application(payload)"
   ]
  },
  {
   "cell_type": "markdown",
   "id": "a9a626d1-bac1-41e3-ae8a-cf91c32d99ae",
   "metadata": {
    "tags": []
   },
   "source": [
    "### payload"
   ]
  },
  {
   "cell_type": "code",
   "execution_count": 14,
   "id": "6de852f2-a5b9-4c0f-8670-cbe220275a71",
   "metadata": {},
   "outputs": [
    {
     "data": {
      "text/plain": [
       "2"
      ]
     },
     "execution_count": 14,
     "metadata": {},
     "output_type": "execute_result"
    }
   ],
   "source": [
    "len(new_payloads)"
   ]
  },
  {
   "cell_type": "code",
   "execution_count": 15,
   "id": "d4c84a93-ef52-4747-b14c-dd1d1ca07bcb",
   "metadata": {},
   "outputs": [
    {
     "data": {
      "text/plain": [
       "{'Doe': {'ADDRESS1_LINE2': ['Jane Doe AA BBB'],\n",
       "  'CONCAT_ADDRESS': ['Joe Black & Jane Doe 111 A 11TH ST AAA 1A New Jersey NJ']}}"
      ]
     },
     "execution_count": 15,
     "metadata": {},
     "output_type": "execute_result"
    }
   ],
   "source": [
    "import pandas as pd\n",
    "out_payload = pd.DataFrame([match for payload in new_payloads   for match in payload['watchlistParty']['matchRecords']])\n",
    "\n",
    "out_payload['AP_TRIGGERS'].values[0]"
   ]
  },
  {
   "cell_type": "code",
   "execution_count": 16,
   "id": "26808ea6",
   "metadata": {},
   "outputs": [
    {
     "data": {
      "text/html": [
       "<div>\n",
       "<style scoped>\n",
       "    .dataframe tbody tr th:only-of-type {\n",
       "        vertical-align: middle;\n",
       "    }\n",
       "\n",
       "    .dataframe tbody tr th {\n",
       "        vertical-align: top;\n",
       "    }\n",
       "\n",
       "    .dataframe thead th {\n",
       "        text-align: right;\n",
       "    }\n",
       "</style>\n",
       "<table border=\"1\" class=\"dataframe\">\n",
       "  <thead>\n",
       "    <tr style=\"text-align: right;\">\n",
       "      <th></th>\n",
       "      <th>entity</th>\n",
       "      <th>entityId</th>\n",
       "      <th>entityTextType</th>\n",
       "      <th>entityType</th>\n",
       "      <th>entityVersion</th>\n",
       "      <th>is_entity_match_agent_ap</th>\n",
       "      <th>is_entity_match_agent_wl</th>\n",
       "      <th>ap_all_is_entity_matchs_aggregated</th>\n",
       "      <th>wl_all_is_entity_matchs_aggregated</th>\n",
       "    </tr>\n",
       "  </thead>\n",
       "  <tbody>\n",
       "    <tr>\n",
       "      <th>0</th>\n",
       "      <td>{'addresses': [{'address1': '111 STREET 999', ...</td>\n",
       "      <td>908043</td>\n",
       "      <td>UPID</td>\n",
       "      <td>03</td>\n",
       "      <td>20150505194929</td>\n",
       "      <td>I</td>\n",
       "      <td>I</td>\n",
       "      <td>[I]</td>\n",
       "      <td>[I]</td>\n",
       "    </tr>\n",
       "    <tr>\n",
       "      <th>1</th>\n",
       "      <td>{'addresses': {'address': {'address1': '111 ST...</td>\n",
       "      <td>908044</td>\n",
       "      <td>UPID</td>\n",
       "      <td>03</td>\n",
       "      <td>20150505194923</td>\n",
       "      <td>I</td>\n",
       "      <td>I</td>\n",
       "      <td>[I]</td>\n",
       "      <td>[I]</td>\n",
       "    </tr>\n",
       "  </tbody>\n",
       "</table>\n",
       "</div>"
      ],
      "text/plain": [
       "                                              entity entityId entityTextType  \\\n",
       "0  {'addresses': [{'address1': '111 STREET 999', ...   908043           UPID   \n",
       "1  {'addresses': {'address': {'address1': '111 ST...   908044           UPID   \n",
       "\n",
       "  entityType   entityVersion is_entity_match_agent_ap  \\\n",
       "0         03  20150505194929                        I   \n",
       "1         03  20150505194923                        I   \n",
       "\n",
       "  is_entity_match_agent_wl ap_all_is_entity_matchs_aggregated  \\\n",
       "0                        I                                [I]   \n",
       "1                        I                                [I]   \n",
       "\n",
       "  wl_all_is_entity_matchs_aggregated  \n",
       "0                                [I]  \n",
       "1                                [I]  "
      ]
     },
     "execution_count": 16,
     "metadata": {},
     "output_type": "execute_result"
    }
   ],
   "source": [
    "out_payload[[i for i in out_payload.columns if \"entity\" in i]]"
   ]
  },
  {
   "cell_type": "code",
   "execution_count": 17,
   "id": "190aa3c5-9909-4b36-b627-b72f22a7e0c8",
   "metadata": {},
   "outputs": [
    {
     "name": "stdout",
     "output_type": "stream",
     "text": [
      "=====================\n",
      "PAYLOAD\n",
      "122438658\n",
      "0 match\n",
      "['04/31/1910', '02/31/1900'] ['MAY 6, 1981']\n",
      "['UNITED STATES OF AMERICA', 'United States'] ['US']\n",
      "=====================\n",
      "PAYLOAD\n",
      "122438659\n",
      "0 match\n",
      "['04/31/1910', '02/31/1900'] ['MAY 6, 1981']\n",
      "['UNITED STATES OF AMERICA', 'United States'] ['Poland', 'PL']\n"
     ]
    }
   ],
   "source": [
    "for payload in new_payloads:\n",
    "    print('=====================')\n",
    "    print('PAYLOAD')\n",
    "    print(payload['alertedParty']['inputRecordHist']['inputRecords'][0]['versionId'])\n",
    "        \n",
    "    for num, match in enumerate(payload['watchlistParty']['matchRecords']):\n",
    "        assert (match['inputVersionId'] == payload['alertedParty']['inputRecordHist']['inputRecords'][0]['versionId'])\n",
    "        print(num, 'match')\n",
    "        print(match[\"ap_all_dobs_aggregated\"], match[\"wl_all_dobs_aggregated\"])\n",
    "        try:\n",
    "            print(match[\"ap_all_residencies_aggregated\"], match[\"wl_all_residencies_aggregated\"])\n",
    "        except:\n",
    "            break\n"
   ]
  },
  {
   "cell_type": "code",
   "execution_count": 18,
   "id": "97a6e5da-7094-4fc1-9ef7-8e2782a7a3ee",
   "metadata": {},
   "outputs": [],
   "source": [
    "import pickle\n",
    "with open(\"tests/shared/parsed_payload.pkl\", \"wb\") as f:\n",
    "    pickle.dump(new_payloads, f)"
   ]
  },
  {
   "cell_type": "code",
   "execution_count": 19,
   "id": "b4626108-b497-4432-a22c-6c5c7cac8e55",
   "metadata": {},
   "outputs": [],
   "source": [
    "with open(f'notebooks/sample/wm_address_in_payload_format_2_input_3_match_records.json', 'r') as file:\n",
    "    payload = json.loads(file.read())\n",
    "\n",
    "payload_json = {key: payload[key] for key in sorted(payload)}\n",
    "payload_json = PayloadLoader().load_payload_from_json(payload_json)\n",
    "\n",
    "\n",
    "\n",
    "payload_json['match_ids'] = [i for i in range(len(payload_json[\"watchlistParty\"][\"matchRecords\"]))]\n"
   ]
  },
  {
   "cell_type": "code",
   "execution_count": 20,
   "id": "8fa1acc0-0f85-4740-a8c0-b5a54eb927b5",
   "metadata": {},
   "outputs": [],
   "source": [
    "payload = payload_json"
   ]
  },
  {
   "cell_type": "code",
   "execution_count": 21,
   "id": "353e29cb-435d-44aa-9a3f-8e4c27f23888",
   "metadata": {},
   "outputs": [],
   "source": [
    "payload = pipeline.transform_standardized_to_cleansed(payload)"
   ]
  },
  {
   "cell_type": "code",
   "execution_count": 22,
   "id": "e5d4114d-492e-4410-a41c-dfc04fe87a69",
   "metadata": {},
   "outputs": [
    {
     "name": "stdout",
     "output_type": "stream",
     "text": [
      "> \u001b[0;32m/app/pipelines/ms/ms_pipeline.py\u001b[0m(396)\u001b[0;36mset_up_entity_type_match\u001b[0;34m()\u001b[0m\n",
      "\u001b[0;32m    394 \u001b[0;31m    \u001b[0;32mdef\u001b[0m \u001b[0mset_up_entity_type_match\u001b[0m\u001b[0;34m(\u001b[0m\u001b[0mself\u001b[0m\u001b[0;34m,\u001b[0m \u001b[0mmatch\u001b[0m\u001b[0;34m)\u001b[0m\u001b[0;34m:\u001b[0m\u001b[0;34m\u001b[0m\u001b[0;34m\u001b[0m\u001b[0m\n",
      "\u001b[0m\u001b[0;32m    395 \u001b[0;31m        \u001b[0;32mimport\u001b[0m \u001b[0mpdb\u001b[0m\u001b[0;34m;\u001b[0m \u001b[0mpdb\u001b[0m\u001b[0;34m.\u001b[0m\u001b[0mset_trace\u001b[0m\u001b[0;34m(\u001b[0m\u001b[0;34m)\u001b[0m\u001b[0;34m\u001b[0m\u001b[0;34m\u001b[0m\u001b[0m\n",
      "\u001b[0m\u001b[0;32m--> 396 \u001b[0;31m        \u001b[0;32mif\u001b[0m \u001b[0mmatch\u001b[0m\u001b[0;34m[\u001b[0m\u001b[0;34m\"AP_PARTY_TYPE\"\u001b[0m\u001b[0;34m]\u001b[0m \u001b[0;34m==\u001b[0m \u001b[0mmatch\u001b[0m\u001b[0;34m[\u001b[0m\u001b[0;34m\"WLP_TYPE\"\u001b[0m\u001b[0;34m]\u001b[0m\u001b[0;34m:\u001b[0m\u001b[0;34m\u001b[0m\u001b[0;34m\u001b[0m\u001b[0m\n",
      "\u001b[0m\u001b[0;32m    397 \u001b[0;31m            \u001b[0mmatch\u001b[0m\u001b[0;34m[\u001b[0m\u001b[0;34m\"ENTITY_TYPE_MATCH\"\u001b[0m\u001b[0;34m]\u001b[0m \u001b[0;34m=\u001b[0m \u001b[0;34m\"Y\"\u001b[0m\u001b[0;34m\u001b[0m\u001b[0;34m\u001b[0m\u001b[0m\n",
      "\u001b[0m\u001b[0;32m    398 \u001b[0;31m        \u001b[0;32melse\u001b[0m\u001b[0;34m:\u001b[0m\u001b[0;34m\u001b[0m\u001b[0;34m\u001b[0m\u001b[0m\n",
      "\u001b[0m\n",
      "ipdb> \n",
      "ipdb> c\n",
      "2022-04-07 19:16:52,113 — main.engine — WARNING — merge_to_target_col_from_source_cols_sql_expression:235 — No field in payload named: hit_type_agent_country. Ignore for HIT TYPE AGENT\n",
      "2022-04-07 19:16:52,114 — main.engine — WARNING — merge_to_target_col_from_source_cols_sql_expression:235 — No field in payload named: hit_type_agent_job. Ignore for HIT TYPE AGENT\n",
      "2022-04-07 19:16:52,114 — main.engine — WARNING — merge_to_target_col_from_source_cols_sql_expression:235 — No field in payload named: hit_type_agent_other. Ignore for HIT TYPE AGENT\n",
      "2022-04-07 19:16:52,114 — main.engine — WARNING — merge_to_target_col_from_source_cols_sql_expression:235 — No field in payload named: hit_type_agent_country. Ignore for HIT TYPE AGENT\n",
      "2022-04-07 19:16:52,115 — main.engine — WARNING — merge_to_target_col_from_source_cols_sql_expression:235 — No field in payload named: hit_type_agent_job. Ignore for HIT TYPE AGENT\n",
      "2022-04-07 19:16:52,115 — main.engine — WARNING — merge_to_target_col_from_source_cols_sql_expression:235 — No field in payload named: hit_type_agent_other. Ignore for HIT TYPE AGENT\n",
      "> \u001b[0;32m/app/pipelines/ms/ms_pipeline.py\u001b[0m(396)\u001b[0;36mset_up_entity_type_match\u001b[0;34m()\u001b[0m\n",
      "\u001b[0;32m    394 \u001b[0;31m    \u001b[0;32mdef\u001b[0m \u001b[0mset_up_entity_type_match\u001b[0m\u001b[0;34m(\u001b[0m\u001b[0mself\u001b[0m\u001b[0;34m,\u001b[0m \u001b[0mmatch\u001b[0m\u001b[0;34m)\u001b[0m\u001b[0;34m:\u001b[0m\u001b[0;34m\u001b[0m\u001b[0;34m\u001b[0m\u001b[0m\n",
      "\u001b[0m\u001b[0;32m    395 \u001b[0;31m        \u001b[0;32mimport\u001b[0m \u001b[0mpdb\u001b[0m\u001b[0;34m;\u001b[0m \u001b[0mpdb\u001b[0m\u001b[0;34m.\u001b[0m\u001b[0mset_trace\u001b[0m\u001b[0;34m(\u001b[0m\u001b[0;34m)\u001b[0m\u001b[0;34m\u001b[0m\u001b[0;34m\u001b[0m\u001b[0m\n",
      "\u001b[0m\u001b[0;32m--> 396 \u001b[0;31m        \u001b[0;32mif\u001b[0m \u001b[0mmatch\u001b[0m\u001b[0;34m[\u001b[0m\u001b[0;34m\"AP_PARTY_TYPE\"\u001b[0m\u001b[0;34m]\u001b[0m \u001b[0;34m==\u001b[0m \u001b[0mmatch\u001b[0m\u001b[0;34m[\u001b[0m\u001b[0;34m\"WLP_TYPE\"\u001b[0m\u001b[0;34m]\u001b[0m\u001b[0;34m:\u001b[0m\u001b[0;34m\u001b[0m\u001b[0;34m\u001b[0m\u001b[0m\n",
      "\u001b[0m\u001b[0;32m    397 \u001b[0;31m            \u001b[0mmatch\u001b[0m\u001b[0;34m[\u001b[0m\u001b[0;34m\"ENTITY_TYPE_MATCH\"\u001b[0m\u001b[0;34m]\u001b[0m \u001b[0;34m=\u001b[0m \u001b[0;34m\"Y\"\u001b[0m\u001b[0;34m\u001b[0m\u001b[0;34m\u001b[0m\u001b[0m\n",
      "\u001b[0m\u001b[0;32m    398 \u001b[0;31m        \u001b[0;32melse\u001b[0m\u001b[0;34m:\u001b[0m\u001b[0;34m\u001b[0m\u001b[0;34m\u001b[0m\u001b[0m\n",
      "\u001b[0m\n",
      "ipdb> c\n",
      "2022-04-07 19:16:52,944 — main.engine — WARNING — merge_to_target_col_from_source_cols_sql_expression:235 — No field in payload named: hit_type_agent_country. Ignore for HIT TYPE AGENT\n",
      "2022-04-07 19:16:52,944 — main.engine — WARNING — merge_to_target_col_from_source_cols_sql_expression:235 — No field in payload named: hit_type_agent_job. Ignore for HIT TYPE AGENT\n",
      "2022-04-07 19:16:52,945 — main.engine — WARNING — merge_to_target_col_from_source_cols_sql_expression:235 — No field in payload named: hit_type_agent_other. Ignore for HIT TYPE AGENT\n",
      "2022-04-07 19:16:52,945 — main.engine — WARNING — merge_to_target_col_from_source_cols_sql_expression:235 — No field in payload named: hit_type_agent_country. Ignore for HIT TYPE AGENT\n",
      "2022-04-07 19:16:52,946 — main.engine — WARNING — merge_to_target_col_from_source_cols_sql_expression:235 — No field in payload named: hit_type_agent_job. Ignore for HIT TYPE AGENT\n",
      "2022-04-07 19:16:52,946 — main.engine — WARNING — merge_to_target_col_from_source_cols_sql_expression:235 — No field in payload named: hit_type_agent_other. Ignore for HIT TYPE AGENT\n",
      "> \u001b[0;32m/app/pipelines/ms/ms_pipeline.py\u001b[0m(396)\u001b[0;36mset_up_entity_type_match\u001b[0;34m()\u001b[0m\n",
      "\u001b[0;32m    394 \u001b[0;31m    \u001b[0;32mdef\u001b[0m \u001b[0mset_up_entity_type_match\u001b[0m\u001b[0;34m(\u001b[0m\u001b[0mself\u001b[0m\u001b[0;34m,\u001b[0m \u001b[0mmatch\u001b[0m\u001b[0;34m)\u001b[0m\u001b[0;34m:\u001b[0m\u001b[0;34m\u001b[0m\u001b[0;34m\u001b[0m\u001b[0m\n",
      "\u001b[0m\u001b[0;32m    395 \u001b[0;31m        \u001b[0;32mimport\u001b[0m \u001b[0mpdb\u001b[0m\u001b[0;34m;\u001b[0m \u001b[0mpdb\u001b[0m\u001b[0;34m.\u001b[0m\u001b[0mset_trace\u001b[0m\u001b[0;34m(\u001b[0m\u001b[0;34m)\u001b[0m\u001b[0;34m\u001b[0m\u001b[0;34m\u001b[0m\u001b[0m\n",
      "\u001b[0m\u001b[0;32m--> 396 \u001b[0;31m        \u001b[0;32mif\u001b[0m \u001b[0mmatch\u001b[0m\u001b[0;34m[\u001b[0m\u001b[0;34m\"AP_PARTY_TYPE\"\u001b[0m\u001b[0;34m]\u001b[0m \u001b[0;34m==\u001b[0m \u001b[0mmatch\u001b[0m\u001b[0;34m[\u001b[0m\u001b[0;34m\"WLP_TYPE\"\u001b[0m\u001b[0;34m]\u001b[0m\u001b[0;34m:\u001b[0m\u001b[0;34m\u001b[0m\u001b[0;34m\u001b[0m\u001b[0m\n",
      "\u001b[0m\u001b[0;32m    397 \u001b[0;31m            \u001b[0mmatch\u001b[0m\u001b[0;34m[\u001b[0m\u001b[0;34m\"ENTITY_TYPE_MATCH\"\u001b[0m\u001b[0;34m]\u001b[0m \u001b[0;34m=\u001b[0m \u001b[0;34m\"Y\"\u001b[0m\u001b[0;34m\u001b[0m\u001b[0;34m\u001b[0m\u001b[0m\n",
      "\u001b[0m\u001b[0;32m    398 \u001b[0;31m        \u001b[0;32melse\u001b[0m\u001b[0;34m:\u001b[0m\u001b[0;34m\u001b[0m\u001b[0;34m\u001b[0m\u001b[0m\n",
      "\u001b[0m\n",
      "ipdb> c\n",
      "2022-04-07 19:16:53,674 — main.engine — WARNING — merge_to_target_col_from_source_cols_sql_expression:235 — No field in payload named: hit_type_agent_country. Ignore for HIT TYPE AGENT\n",
      "2022-04-07 19:16:53,674 — main.engine — WARNING — merge_to_target_col_from_source_cols_sql_expression:235 — No field in payload named: hit_type_agent_job. Ignore for HIT TYPE AGENT\n",
      "2022-04-07 19:16:53,674 — main.engine — WARNING — merge_to_target_col_from_source_cols_sql_expression:235 — No field in payload named: hit_type_agent_other. Ignore for HIT TYPE AGENT\n",
      "2022-04-07 19:16:53,675 — main.engine — WARNING — merge_to_target_col_from_source_cols_sql_expression:235 — No field in payload named: hit_type_agent_country. Ignore for HIT TYPE AGENT\n",
      "2022-04-07 19:16:53,675 — main.engine — WARNING — merge_to_target_col_from_source_cols_sql_expression:235 — No field in payload named: hit_type_agent_job. Ignore for HIT TYPE AGENT\n",
      "2022-04-07 19:16:53,676 — main.engine — WARNING — merge_to_target_col_from_source_cols_sql_expression:235 — No field in payload named: hit_type_agent_other. Ignore for HIT TYPE AGENT\n"
     ]
    }
   ],
   "source": [
    "new_payloads = pipeline.transform_cleansed_to_application(payload)"
   ]
  },
  {
   "cell_type": "code",
   "execution_count": 23,
   "id": "06c6ce79-99c7-419c-a32d-3c0eb906c334",
   "metadata": {},
   "outputs": [
    {
     "data": {
      "text/html": [
       "<div>\n",
       "<style scoped>\n",
       "    .dataframe tbody tr th:only-of-type {\n",
       "        vertical-align: middle;\n",
       "    }\n",
       "\n",
       "    .dataframe tbody tr th {\n",
       "        vertical-align: top;\n",
       "    }\n",
       "\n",
       "    .dataframe thead th {\n",
       "        text-align: right;\n",
       "    }\n",
       "</style>\n",
       "<table border=\"1\" class=\"dataframe\">\n",
       "  <thead>\n",
       "    <tr style=\"text-align: right;\">\n",
       "      <th></th>\n",
       "      <th>ap_all_dobs_aggregated</th>\n",
       "      <th>wl_all_dobs_aggregated</th>\n",
       "      <th>ap_all_documents_aggregated</th>\n",
       "      <th>wl_all_documents_aggregated</th>\n",
       "      <th>ap_all_company_names_aggregated</th>\n",
       "      <th>wl_all_company_names_aggregated</th>\n",
       "      <th>ap_all_names_aggregated</th>\n",
       "      <th>wl_all_names_aggregated</th>\n",
       "      <th>ap_all_employer_names_aggregated</th>\n",
       "      <th>wl_all_employer_names_aggregated</th>\n",
       "      <th>...</th>\n",
       "      <th>wl_all_hit_types_aggregated</th>\n",
       "      <th>ap_all_matched_tokens_tp_markeds_aggregated</th>\n",
       "      <th>wl_all_matched_tokens_tp_markeds_aggregated</th>\n",
       "      <th>ap_all_ap_name_tp_markeds_aggregated</th>\n",
       "      <th>wl_all_ap_name_tp_markeds_aggregated</th>\n",
       "      <th>ap_all_ap_id_tp_markeds_aggregated</th>\n",
       "      <th>wl_all_ap_id_tp_markeds_aggregated</th>\n",
       "      <th>ap_all_is_entity_matchs_aggregated</th>\n",
       "      <th>wl_all_is_entity_matchs_aggregated</th>\n",
       "      <th>all_hit_type_aggregated</th>\n",
       "    </tr>\n",
       "  </thead>\n",
       "  <tbody>\n",
       "    <tr>\n",
       "      <th>0</th>\n",
       "      <td>[04/31/1910, 02/31/1900]</td>\n",
       "      <td>[MAY 6, 1981]</td>\n",
       "      <td>[022368917, 154421273]</td>\n",
       "      <td>[]</td>\n",
       "      <td>[Eva Pladimirova, Pladimir Vutin]</td>\n",
       "      <td>[Joe Ding]</td>\n",
       "      <td>[Eva Pladimirova, Pladimir Vutin]</td>\n",
       "      <td>[Joe Ding]</td>\n",
       "      <td>[]</td>\n",
       "      <td>[Joe Ding]</td>\n",
       "      <td>...</td>\n",
       "      <td>[]</td>\n",
       "      <td>[]</td>\n",
       "      <td>[]</td>\n",
       "      <td>[]</td>\n",
       "      <td>[]</td>\n",
       "      <td>[]</td>\n",
       "      <td>[]</td>\n",
       "      <td>[I]</td>\n",
       "      <td>[I]</td>\n",
       "      <td>[{'name': [], 'country': ['ADDRESS1_COUNTRY'],...</td>\n",
       "    </tr>\n",
       "    <tr>\n",
       "      <th>1</th>\n",
       "      <td>[04/31/1910, 02/31/1900]</td>\n",
       "      <td>[MAY 6, 1981]</td>\n",
       "      <td>[022368917, 154421273]</td>\n",
       "      <td>[]</td>\n",
       "      <td>[Eva Pladimirova, Pladimir Vutin]</td>\n",
       "      <td>[Joe Ding]</td>\n",
       "      <td>[Eva Pladimirova, Pladimir Vutin]</td>\n",
       "      <td>[Joe Ding]</td>\n",
       "      <td>[]</td>\n",
       "      <td>[Joe Ding]</td>\n",
       "      <td>...</td>\n",
       "      <td>[]</td>\n",
       "      <td>[]</td>\n",
       "      <td>[]</td>\n",
       "      <td>[]</td>\n",
       "      <td>[]</td>\n",
       "      <td>[]</td>\n",
       "      <td>[]</td>\n",
       "      <td>[I]</td>\n",
       "      <td>[I]</td>\n",
       "      <td>[{'name': [], 'country': ['ADDRESS1_COUNTRY'],...</td>\n",
       "    </tr>\n",
       "    <tr>\n",
       "      <th>2</th>\n",
       "      <td>[04/31/1910, 02/31/1900]</td>\n",
       "      <td>[MAY 6, 1981]</td>\n",
       "      <td>[022368917, 154421273]</td>\n",
       "      <td>[]</td>\n",
       "      <td>[Eva Pladimirova, Pladimir Vutin]</td>\n",
       "      <td>[Joe Dong]</td>\n",
       "      <td>[Eva Pladimirova, Pladimir Vutin]</td>\n",
       "      <td>[Joe Dong]</td>\n",
       "      <td>[]</td>\n",
       "      <td>[Joe Dong]</td>\n",
       "      <td>...</td>\n",
       "      <td>[]</td>\n",
       "      <td>[]</td>\n",
       "      <td>[]</td>\n",
       "      <td>[]</td>\n",
       "      <td>[]</td>\n",
       "      <td>[]</td>\n",
       "      <td>[]</td>\n",
       "      <td>[I]</td>\n",
       "      <td>[I]</td>\n",
       "      <td>[{'name': [], 'country': ['ADDRESS1_COUNTRY'],...</td>\n",
       "    </tr>\n",
       "  </tbody>\n",
       "</table>\n",
       "<p>3 rows × 31 columns</p>\n",
       "</div>"
      ],
      "text/plain": [
       "     ap_all_dobs_aggregated wl_all_dobs_aggregated  \\\n",
       "0  [04/31/1910, 02/31/1900]          [MAY 6, 1981]   \n",
       "1  [04/31/1910, 02/31/1900]          [MAY 6, 1981]   \n",
       "2  [04/31/1910, 02/31/1900]          [MAY 6, 1981]   \n",
       "\n",
       "  ap_all_documents_aggregated wl_all_documents_aggregated  \\\n",
       "0      [022368917, 154421273]                          []   \n",
       "1      [022368917, 154421273]                          []   \n",
       "2      [022368917, 154421273]                          []   \n",
       "\n",
       "     ap_all_company_names_aggregated wl_all_company_names_aggregated  \\\n",
       "0  [Eva Pladimirova, Pladimir Vutin]                      [Joe Ding]   \n",
       "1  [Eva Pladimirova, Pladimir Vutin]                      [Joe Ding]   \n",
       "2  [Eva Pladimirova, Pladimir Vutin]                      [Joe Dong]   \n",
       "\n",
       "             ap_all_names_aggregated wl_all_names_aggregated  \\\n",
       "0  [Eva Pladimirova, Pladimir Vutin]              [Joe Ding]   \n",
       "1  [Eva Pladimirova, Pladimir Vutin]              [Joe Ding]   \n",
       "2  [Eva Pladimirova, Pladimir Vutin]              [Joe Dong]   \n",
       "\n",
       "  ap_all_employer_names_aggregated wl_all_employer_names_aggregated  ...  \\\n",
       "0                               []                       [Joe Ding]  ...   \n",
       "1                               []                       [Joe Ding]  ...   \n",
       "2                               []                       [Joe Dong]  ...   \n",
       "\n",
       "  wl_all_hit_types_aggregated ap_all_matched_tokens_tp_markeds_aggregated  \\\n",
       "0                          []                                          []   \n",
       "1                          []                                          []   \n",
       "2                          []                                          []   \n",
       "\n",
       "  wl_all_matched_tokens_tp_markeds_aggregated  \\\n",
       "0                                          []   \n",
       "1                                          []   \n",
       "2                                          []   \n",
       "\n",
       "  ap_all_ap_name_tp_markeds_aggregated wl_all_ap_name_tp_markeds_aggregated  \\\n",
       "0                                   []                                   []   \n",
       "1                                   []                                   []   \n",
       "2                                   []                                   []   \n",
       "\n",
       "  ap_all_ap_id_tp_markeds_aggregated wl_all_ap_id_tp_markeds_aggregated  \\\n",
       "0                                 []                                 []   \n",
       "1                                 []                                 []   \n",
       "2                                 []                                 []   \n",
       "\n",
       "  ap_all_is_entity_matchs_aggregated wl_all_is_entity_matchs_aggregated  \\\n",
       "0                                [I]                                [I]   \n",
       "1                                [I]                                [I]   \n",
       "2                                [I]                                [I]   \n",
       "\n",
       "                             all_hit_type_aggregated  \n",
       "0  [{'name': [], 'country': ['ADDRESS1_COUNTRY'],...  \n",
       "1  [{'name': [], 'country': ['ADDRESS1_COUNTRY'],...  \n",
       "2  [{'name': [], 'country': ['ADDRESS1_COUNTRY'],...  \n",
       "\n",
       "[3 rows x 31 columns]"
      ]
     },
     "execution_count": 23,
     "metadata": {},
     "output_type": "execute_result"
    }
   ],
   "source": [
    "import pandas as pd\n",
    "out_payload = pd.DataFrame([match for payload in new_payloads   for match in payload['watchlistParty']['matchRecords']])\n",
    "\n",
    "out_payload[[i for i in out_payload.columns  if i.endswith(\"_aggregated\")]]"
   ]
  },
  {
   "cell_type": "code",
   "execution_count": 24,
   "id": "5f1424fb-043b-4b80-b922-7678b2765260",
   "metadata": {},
   "outputs": [
    {
     "name": "stdout",
     "output_type": "stream",
     "text": [
      "=====================\n",
      "PAYLOAD\n",
      "123\n",
      "0 match\n",
      "['04/31/1910', '02/31/1900'] ['MAY 6, 1981']\n",
      "['UNITED STATES OF AMERICA', 'United States'] ['US']\n",
      "=====================\n",
      "PAYLOAD\n",
      "122438659\n",
      "0 match\n",
      "['04/31/1910', '02/31/1900'] ['MAY 6, 1981']\n",
      "['UNITED STATES OF AMERICA', 'United States'] ['US']\n",
      "=====================\n",
      "PAYLOAD\n",
      "122438659\n",
      "0 match\n",
      "['04/31/1910', '02/31/1900'] ['MAY 6, 1981']\n",
      "['UNITED STATES OF AMERICA', 'United States'] ['Poland', 'PL']\n"
     ]
    }
   ],
   "source": [
    "for payload in new_payloads:\n",
    "    print('=====================')\n",
    "    print('PAYLOAD')\n",
    "    print(payload['alertedParty']['inputRecordHist']['inputRecords'][0]['versionId'])\n",
    "        \n",
    "    for num, match in enumerate(payload['watchlistParty']['matchRecords']):\n",
    "        assert (match['inputVersionId'] == payload['alertedParty']['inputRecordHist']['inputRecords'][0]['versionId'])\n",
    "        print(num, 'match')\n",
    "        print(match[\"ap_all_dobs_aggregated\"], match[\"wl_all_dobs_aggregated\"])\n",
    "        try:\n",
    "            print(match[\"ap_all_residencies_aggregated\"], match[\"wl_all_residencies_aggregated\"])\n",
    "        except:\n",
    "            break\n"
   ]
  },
  {
   "cell_type": "code",
   "execution_count": 25,
   "id": "ded97825-dd07-477b-8e88-8b2f6a64d22a",
   "metadata": {},
   "outputs": [],
   "source": [
    "import pickle\n",
    "with open(\"tests/shared/parsed_payload_2_payload.pkl\", \"wb\") as f:\n",
    "    pickle.dump(new_payloads, f)"
   ]
  },
  {
   "cell_type": "code",
   "execution_count": 26,
   "id": "79ea48ac-d227-414c-a898-afaa178bb544",
   "metadata": {},
   "outputs": [],
   "source": [
    "new_dict = {}\n",
    "def return_key(dict_, prefix):\n",
    "    \n",
    "    if isinstance(dict_, list):\n",
    "        for num, i in enumerate(dict_):\n",
    "            return_key(i, prefix +f\"[{num}]\")\n",
    "        return\n",
    "    if isinstance(dict_, str) or dict_ is None:\n",
    "        new_dict[prefix] = dict_\n",
    "        return\n",
    "\n",
    "    for key in dict_:\n",
    "        if prefix:\n",
    "            basic_prefix = prefix + \".\" + key\n",
    "        else:\n",
    "            basic_prefix = key\n",
    "        return_key(dict_[key], basic_prefix)"
   ]
  },
  {
   "cell_type": "code",
   "execution_count": 27,
   "id": "2f4a3e57-f371-4b03-a50a-03d6729d5a9e",
   "metadata": {},
   "outputs": [],
   "source": [
    "with open(f'notebooks/sample/alert_in_payload_format.json', 'w') as file:\n",
    "    json.dump(new_dict ,file)"
   ]
  },
  {
   "cell_type": "code",
   "execution_count": 28,
   "id": "11e7fdd1-c6ac-4be1-bf66-3cdf17398c32",
   "metadata": {},
   "outputs": [],
   "source": [
    "payload_json = PayloadLoader().load_payload_from_json(new_dict)"
   ]
  },
  {
   "cell_type": "code",
   "execution_count": 29,
   "id": "134ecdff-6466-4b9a-aecd-ff27791d85fc",
   "metadata": {},
   "outputs": [
    {
     "data": {
      "text/plain": [
       "False"
      ]
     },
     "execution_count": 29,
     "metadata": {},
     "output_type": "execute_result"
    }
   ],
   "source": [
    "payload_json == payload"
   ]
  },
  {
   "cell_type": "code",
   "execution_count": 30,
   "id": "02add6d0-d98c-484e-b7e3-fbf10729aaa4",
   "metadata": {},
   "outputs": [],
   "source": [
    "with open(f'notebooks/sample/alert.json', 'r') as file:\n",
    "    payload = json.loads(file.read())"
   ]
  },
  {
   "cell_type": "code",
   "execution_count": 31,
   "id": "7270a381-9748-4a71-b8c1-35d090572d00",
   "metadata": {},
   "outputs": [
    {
     "data": {
      "text/plain": [
       "{'supplementalInfo': {'alertId': 'SANC-ASM-6434404',\n",
       "  'uniqueCustId': 'R_US_Active_Address_A00170086018_2018-08-28-18.45.50.012201',\n",
       "  'busDate': '20211127',\n",
       "  'datasetName': 'R_US_Active_Address',\n",
       "  'relatedParties': {'party': [{'id': '0002712291',\n",
       "     'fields': {'taxId': '154421273',\n",
       "      'taxIdType': 'SSN',\n",
       "      'partyResidenceCountry': 'United States',\n",
       "      'partyName': 'Pladimir Vutin',\n",
       "      'partyLastName': 'Vutin',\n",
       "      'partyType': 'Individual',\n",
       "      'countryOfIncorporation': None,\n",
       "      'dobDate': '02/31/1900',\n",
       "      'partyPrimaryCitizenshipCountry': 'United States',\n",
       "      'partyCountryOfBirth': None,\n",
       "      'partyFirstName': 'Pladimir',\n",
       "      'partyMiddleName': None,\n",
       "      'partyId': '0002712291'}},\n",
       "    {'id': '0004727489',\n",
       "     'fields': {'taxId': '022368917',\n",
       "      'taxIdType': 'SSN',\n",
       "      'partyResidenceCountry': 'United States',\n",
       "      'partyName': 'Eva Pladimirova',\n",
       "      'partyLastName': 'Pladimirova',\n",
       "      'partyType': 'Individual',\n",
       "      'countryOfIncorporation': None,\n",
       "      'dobDate': '04/31/1910',\n",
       "      'partyPrimaryCitizenshipCountry': 'United States',\n",
       "      'partyCountryOfBirth': None,\n",
       "      'partyFirstName': 'Eva',\n",
       "      'partyMiddleName': None,\n",
       "      'partyId': '0004727489'}}]},\n",
       "  'relatedAccounts': {'account': [{'id': '2021-01-29-13.44.57.093694',\n",
       "     'fields': {'branchAccountNumber': '234_142529',\n",
       "      'lastName': 'Vutin',\n",
       "      'srcSystemAccountKey': '2021-01-29-13.44.57.093694',\n",
       "      'firstName': 'Pladimir',\n",
       "      'beneficiaryName': 'Pladimir Vutin'}},\n",
       "    {'id': '2021-01-29-13.44.57.093694',\n",
       "     'fields': {'branchAccountNumber': '234_142529',\n",
       "      'lastName': 'Pladimirova',\n",
       "      'srcSystemAccountKey': '2021-01-29-13.44.57.093694',\n",
       "      'firstName': 'Eva',\n",
       "      'beneficiaryName': 'Eva Pladimirova'}}]}},\n",
       " 'alert': {'headerInfo': {'uniqueCustomerId': 'R_US_Active_Address_A05003324172_2020-01-07-07.06.28.836480',\n",
       "   'datasetId': '1044',\n",
       "   'datasetName': 'R_US_Active_Address',\n",
       "   'masterId': '72951854',\n",
       "   'currentVersionId': '122438658',\n",
       "   'stopDescriptors': {'stopDescriptor': {'name': 'Joe Doe'}},\n",
       "   'firstVersionCreatedDt': '2020-01-08T09:31:30.264-05:00',\n",
       "   'lastVersionUpdatedDt': '2020-01-08T09:31:30.264-05:00',\n",
       "   'masterVersion': '412740c151535f0756e8dbec7440b726c7a3e135',\n",
       "   'inputVersionSample': 'R_US_Active_Address_A05003324172_2020-01-07-07.06.'},\n",
       "  'inputRecordHist': [{'version': '412740c151535f0756e8dbec7440b726c7a3e135',\n",
       "    'createdDate': '01/08/20',\n",
       "    'field': [{'name': 'SOURCE_REF',\n",
       "      'isScreenable': 'false',\n",
       "      'value': 'R_US_Active_Address_A05003324172_2020-01-07-07.06.28.836480',\n",
       "      'sortOrder': '1'},\n",
       "     {'name': 'UNIQUE_KEY',\n",
       "      'isScreenable': 'false',\n",
       "      'value': 'A05003324172',\n",
       "      'sortOrder': '2'},\n",
       "     {'name': 'BARCODE', 'isScreenable': 'false', 'sortOrder': '3'},\n",
       "     {'name': 'ADDRESS_TYPE',\n",
       "      'isScreenable': 'false',\n",
       "      'value': 'Plating Address',\n",
       "      'sortOrder': '4'},\n",
       "     {'name': 'CARE_OF_TEXT', 'isScreenable': 'true', 'sortOrder': '5'},\n",
       "     {'name': 'ATTENTION_TO_TEXT', 'isScreenable': 'true', 'sortOrder': '6'},\n",
       "     {'name': 'ADDRESS1_LINE1',\n",
       "      'isScreenable': 'false',\n",
       "      'value': 'Joe Black &',\n",
       "      'sortOrder': '7'},\n",
       "     {'name': 'ADDRESS1_LINE2',\n",
       "      'isScreenable': 'false',\n",
       "      'value': 'Jane Doe AA BBB',\n",
       "      'sortOrder': '8'},\n",
       "     {'name': 'ADDRESS1_LINE3',\n",
       "      'isScreenable': 'false',\n",
       "      'value': '111 A 11TH ST AAA 1A',\n",
       "      'sortOrder': '9'},\n",
       "     {'name': 'ADDRESS1_LINE4',\n",
       "      'isScreenable': 'false',\n",
       "      'value': 'New Jersey NJ 10011',\n",
       "      'sortOrder': '10'},\n",
       "     {'name': 'ADDRESS1_LINE5', 'isScreenable': 'false', 'sortOrder': '11'},\n",
       "     {'name': 'ADDRESS1_LINE6', 'isScreenable': 'false', 'sortOrder': '12'},\n",
       "     {'name': 'CONCAT_ADDRESS',\n",
       "      'isScreenable': 'true',\n",
       "      'value': 'Joe Black & Jane Doe 111 A 11TH ST AAA 1A New Jersey NJ',\n",
       "      'sortOrder': '13'},\n",
       "     {'name': 'ADDRESS1_CITY', 'isScreenable': 'true', 'sortOrder': '14'},\n",
       "     {'name': 'ADDRESS1_STATE', 'isScreenable': 'true', 'sortOrder': '15'},\n",
       "     {'name': 'ADDRESS1_PROVINCE', 'isScreenable': 'true', 'sortOrder': '16'},\n",
       "     {'name': 'ADDRESS1_POSTALCODE',\n",
       "      'isScreenable': 'true',\n",
       "      'sortOrder': '17'},\n",
       "     {'name': 'ADDRESS1_ZIP5', 'isScreenable': 'true', 'sortOrder': '18'},\n",
       "     {'name': 'ADDRESS1_ZIP4', 'isScreenable': 'true', 'sortOrder': '19'},\n",
       "     {'name': 'ADDRESS1_COUNTRY',\n",
       "      'isScreenable': 'true',\n",
       "      'value': 'UNITED STATES OF AMERICA',\n",
       "      'sortOrder': '20'},\n",
       "     {'name': 'ADDRESS1_COUNTRYCODE',\n",
       "      'isScreenable': 'true',\n",
       "      'value': 'USA',\n",
       "      'sortOrder': '21'},\n",
       "     {'name': 'ADDRESS1_FOREIGNDOMESTICCODE',\n",
       "      'isScreenable': 'true',\n",
       "      'value': 'DOMESTIC',\n",
       "      'sortOrder': '22'}],\n",
       "    'status': 'A',\n",
       "    'masterId': '72951854',\n",
       "    'versionId': '122438658',\n",
       "    'uniqueCustId': 'R_US_Active_Address_A05003324172_2020-01-07-07.06.28.836480'},\n",
       "   {'version': '412740c151535f0756e8dbec7440b726c7a3e135',\n",
       "    'createdDate': '01/08/20',\n",
       "    'field': [{'name': 'SOURCE_REF',\n",
       "      'isScreenable': 'false',\n",
       "      'value': 'R_US_Active_Address_A05003324172_2020-01-07-07.06.28.836480',\n",
       "      'sortOrder': '1'},\n",
       "     {'name': 'UNIQUE_KEY',\n",
       "      'isScreenable': 'false',\n",
       "      'value': 'A05003324172',\n",
       "      'sortOrder': '2'},\n",
       "     {'name': 'BARCODE', 'isScreenable': 'false', 'sortOrder': '3'},\n",
       "     {'name': 'ADDRESS_TYPE',\n",
       "      'isScreenable': 'false',\n",
       "      'value': 'Plating Address',\n",
       "      'sortOrder': '4'},\n",
       "     {'name': 'CARE_OF_TEXT', 'isScreenable': 'true', 'sortOrder': '5'},\n",
       "     {'name': 'ATTENTION_TO_TEXT', 'isScreenable': 'true', 'sortOrder': '6'},\n",
       "     {'name': 'ADDRESS1_LINE1',\n",
       "      'isScreenable': 'false',\n",
       "      'value': 'Joe Black &',\n",
       "      'sortOrder': '7'},\n",
       "     {'name': 'ADDRESS1_LINE2',\n",
       "      'isScreenable': 'false',\n",
       "      'value': 'Jane Doe AA BBB',\n",
       "      'sortOrder': '8'},\n",
       "     {'name': 'ADDRESS1_LINE3',\n",
       "      'isScreenable': 'false',\n",
       "      'value': '111 A 11TH ST AAA 1A',\n",
       "      'sortOrder': '9'},\n",
       "     {'name': 'ADDRESS1_LINE4',\n",
       "      'isScreenable': 'false',\n",
       "      'value': 'New Jersey NJ 10011',\n",
       "      'sortOrder': '10'},\n",
       "     {'name': 'ADDRESS1_LINE5', 'isScreenable': 'false', 'sortOrder': '11'},\n",
       "     {'name': 'ADDRESS1_LINE6', 'isScreenable': 'false', 'sortOrder': '12'},\n",
       "     {'name': 'CONCAT_ADDRESS',\n",
       "      'isScreenable': 'true',\n",
       "      'value': 'Joe Black & Jane Doe 111 A 11TH ST AAA 1A New Jersey NJ',\n",
       "      'sortOrder': '13'},\n",
       "     {'name': 'ADDRESS1_CITY', 'isScreenable': 'true', 'sortOrder': '14'},\n",
       "     {'name': 'ADDRESS1_STATE', 'isScreenable': 'true', 'sortOrder': '15'},\n",
       "     {'name': 'ADDRESS1_PROVINCE', 'isScreenable': 'true', 'sortOrder': '16'},\n",
       "     {'name': 'ADDRESS1_POSTALCODE',\n",
       "      'isScreenable': 'true',\n",
       "      'sortOrder': '17'},\n",
       "     {'name': 'ADDRESS1_ZIP5', 'isScreenable': 'true', 'sortOrder': '18'},\n",
       "     {'name': 'ADDRESS1_ZIP4', 'isScreenable': 'true', 'sortOrder': '19'},\n",
       "     {'name': 'ADDRESS1_COUNTRY',\n",
       "      'isScreenable': 'true',\n",
       "      'value': 'UNITED STATES OF AMERICA',\n",
       "      'sortOrder': '20'},\n",
       "     {'name': 'ADDRESS1_COUNTRYCODE',\n",
       "      'isScreenable': 'true',\n",
       "      'value': 'USA',\n",
       "      'sortOrder': '21'},\n",
       "     {'name': 'ADDRESS1_FOREIGNDOMESTICCODE',\n",
       "      'isScreenable': 'true',\n",
       "      'value': 'DOMESTIC',\n",
       "      'sortOrder': '22'}],\n",
       "    'status': 'A',\n",
       "    'masterId': '72951854',\n",
       "    'versionId': '122438659',\n",
       "    'uniqueCustId': 'R_US_Active_Address_A05003324172_2020-01-07-07.06.28.836480'}],\n",
       "  'matchRecords': [{'masterId': '72951854',\n",
       "    'accountSeq': '1',\n",
       "    'datasetId': '1044',\n",
       "    'uniqueCustomerId': 'R_US_Active_Address_A05003324172_2020-01-07-07.06.28.836480\\n      ',\n",
       "    'masterVersion': '412740c151535f0756e8dbec7440b726c7a3e135',\n",
       "    'matchId': '49159509',\n",
       "    'matchStatus': 'O',\n",
       "    'riskScore': '-1.0',\n",
       "    'inputVersionId': '122438658',\n",
       "    'matchType': 'GWL',\n",
       "    'entityId': '908043',\n",
       "    'entityVersion': '20150505194929',\n",
       "    'entity': {'id': '908049',\n",
       "     'version': '20150505194929',\n",
       "     'name': 'Joe Ding',\n",
       "     'listId': '15991',\n",
       "     'listCode': '-1003',\n",
       "     'entityType': '03',\n",
       "     'createdDate': '10/16/2018',\n",
       "     'lastUpdateDate': '04/19/2019',\n",
       "     'source': 'CON',\n",
       "     'dobs': {'dob': 'MAY 6, 1981'},\n",
       "     'ids': None,\n",
       "     'programs': {'program': {'type': 'MSSBGWM'}},\n",
       "     'sdfs': {'sdf': ['N/A',\n",
       "       'N/A',\n",
       "       'N/A',\n",
       "       'N/A',\n",
       "       'N/A',\n",
       "       'PLEASE CALL AML HOT LINE AT 212 762 8000 AND REF CI-079385',\n",
       "       '05/05/2015 19:49:26']},\n",
       "     'addresses': {'address': {'address1': '111 STREET 999',\n",
       "       'city': 'ATLANTA',\n",
       "       'postalCode': '11111',\n",
       "       'address2': 'FL;US',\n",
       "       'country': 'US',\n",
       "       'countryName': 'United States of America'}}},\n",
       "    'entityType': '03',\n",
       "    'entityTextType': 'UPID',\n",
       "    'sourceCode': 'CON',\n",
       "    'stopDescriptors': [{'name': 'Joe Doe',\n",
       "      'totalMatchScore': '0.9230769230769231',\n",
       "      'stopDescriptorDetail': {'inputToken': 'Doe',\n",
       "       'inputSynonym': 'null',\n",
       "       'sdToken': 'Doe',\n",
       "       'matchScore': '0.8571428571428572'}}],\n",
       "    'firstMatchedDate': '01/08/20',\n",
       "    'lastMatchedDate': '01/08/20',\n",
       "    'lastReviewDate': '01/08/20'},\n",
       "   {'masterId': '72951854',\n",
       "    'accountSeq': '1',\n",
       "    'datasetId': '1044',\n",
       "    'uniqueCustomerId': 'R_US_Active_Address_A05003324172_2020-01-07-07.06.28.836480\\n      ',\n",
       "    'masterVersion': '412740c151535f0756e8dbec7440b726c7a3e135',\n",
       "    'matchId': '49159506',\n",
       "    'matchStatus': 'O',\n",
       "    'riskScore': '-1.0',\n",
       "    'inputVersionId': '122438659',\n",
       "    'matchType': 'GWL',\n",
       "    'entityId': '908044',\n",
       "    'entityVersion': '20150505194923',\n",
       "    'entity': {'id': '908044',\n",
       "     'version': '20150505194923',\n",
       "     'name': 'Joe Dong',\n",
       "     'listId': '15991',\n",
       "     'listCode': '-1003',\n",
       "     'entityType': '03',\n",
       "     'createdDate': '10/16/2018',\n",
       "     'lastUpdateDate': '04/19/2019',\n",
       "     'source': 'CON',\n",
       "     'dobs': {'dob': 'MAY 6, 1981'},\n",
       "     'ids': None,\n",
       "     'programs': {'program': {'type': 'MSSBGWM'}},\n",
       "     'sdfs': {'sdf': ['N/A',\n",
       "       'N/A',\n",
       "       'N/A',\n",
       "       'N/A',\n",
       "       'N/A',\n",
       "       'PLEASE CALL AML HOT LINE AT 212 762 8000 AND REF CI-079385',\n",
       "       '05/05/2015 19:49:26']},\n",
       "     'addresses': {'address': {'address1': '111 STREET 999',\n",
       "       'city': 'ATLANTA',\n",
       "       'postalCode': '11111',\n",
       "       'address2': 'FL;US',\n",
       "       'country': 'PL',\n",
       "       'countryName': 'Poland'}}},\n",
       "    'entityType': '03',\n",
       "    'entityTextType': 'UPID',\n",
       "    'sourceCode': 'CON',\n",
       "    'stopDescriptors': [{'name': 'Joe Doe',\n",
       "      'totalMatchScore': '0.9230769230769231',\n",
       "      'stopDescriptorDetail': {'inputToken': 'Doe',\n",
       "       'inputSynonym': 'null',\n",
       "       'sdToken': 'Doe',\n",
       "       'matchScore': '0.8571428571428572'}}],\n",
       "    'firstMatchedDate': '01/08/20',\n",
       "    'lastMatchedDate': '01/08/20',\n",
       "    'lastReviewDate': '01/08/20'}]}}"
      ]
     },
     "execution_count": 31,
     "metadata": {},
     "output_type": "execute_result"
    }
   ],
   "source": [
    "payload"
   ]
  },
  {
   "cell_type": "code",
   "execution_count": null,
   "id": "ccab4efc-6443-4c89-a3f3-e4a4cef2a701",
   "metadata": {},
   "outputs": [],
   "source": []
  },
  {
   "cell_type": "code",
   "execution_count": null,
   "id": "f22d25af",
   "metadata": {},
   "outputs": [],
   "source": []
  }
 ],
 "metadata": {
  "kernelspec": {
   "display_name": "Python 3",
   "language": "python",
   "name": "python3"
  },
  "language_info": {
   "codemirror_mode": {
    "name": "ipython",
    "version": 3
   },
   "file_extension": ".py",
   "mimetype": "text/x-python",
   "name": "python",
   "nbconvert_exporter": "python",
   "pygments_lexer": "ipython3",
   "version": "3.6.13"
  }
 },
 "nbformat": 4,
 "nbformat_minor": 5
}
