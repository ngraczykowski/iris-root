{
 "cells": [
  {
   "cell_type": "code",
   "execution_count": 1,
   "id": "3bd69b4c-19cf-48f7-a810-a4890e66302f",
   "metadata": {},
   "outputs": [],
   "source": [
    "import os\n",
    "\n",
    "os.environ[\"CONFIG_APP_DIR\"] = \"tests/test_custom/config_app/\""
   ]
  },
  {
   "cell_type": "code",
   "execution_count": 2,
   "id": "3c549e53",
   "metadata": {},
   "outputs": [],
   "source": [
    "import sys\n",
    "import os\n",
    "import pickle\n",
    "os.chdir(\"..\")\n",
    "from omegaconf import OmegaConf\n",
    "\n",
    "import json\n",
    "from etl_pipeline.data_processor_engine.json_engine.json_engine import JsonProcessingEngine\n",
    "from etl_pipeline.custom.ms.payload_loader import PayloadLoader"
   ]
  },
  {
   "cell_type": "code",
   "execution_count": 3,
   "id": "522650c7-af7a-4824-8d36-bf62f558577d",
   "metadata": {},
   "outputs": [],
   "source": [
    "from etl_pipeline.config import columns_namespace as cn"
   ]
  },
  {
   "cell_type": "code",
   "execution_count": 4,
   "id": "565d811d",
   "metadata": {},
   "outputs": [],
   "source": [
    "# alert = load_alert()"
   ]
  },
  {
   "cell_type": "code",
   "execution_count": 5,
   "id": "c804420b-9569-449e-99b4-8d707bc9b956",
   "metadata": {
    "tags": []
   },
   "outputs": [],
   "source": [
    "# payload = load_alert()\n"
   ]
  },
  {
   "cell_type": "markdown",
   "id": "82153271-8b29-42f9-9ca8-4d3f7ba2b721",
   "metadata": {},
   "source": [
    "# Definition"
   ]
  },
  {
   "cell_type": "code",
   "execution_count": 6,
   "id": "f813cf33-f0e2-48d6-92ff-3163cf5db3f2",
   "metadata": {},
   "outputs": [],
   "source": [
    "from pipelines.ms.wm_address_pipeline import MSPipeline\n",
    "from config import pipeline_config\n"
   ]
  },
  {
   "cell_type": "code",
   "execution_count": 7,
   "id": "31cf9c4e-968d-450c-b8b1-dad866dc80cc",
   "metadata": {},
   "outputs": [],
   "source": [
    "# payload_json = {'alertedParty': {'supplementalInfo': {'alertId': 'SANC-ASM-6434404',\n",
    "#    'uniqueCustId': 'R_US_Active_Address_A00170086018_2018-08-28-18.45.50.012201',\n",
    "#    'busDate': '20211127',\n",
    "#    'datasetName': 'R_US_Active_Address',\n",
    "#    'relatedParties': {'party': [{'id': '0002712291',\n",
    "#       'fields': {'taxId': '154421273',\n",
    "#        'taxIdType': 'SSN',\n",
    "#        'partyResidenceCountry': 'United States',\n",
    "#        'partyName': 'Pladimir Vutin',\n",
    "#        'partyLastName': 'Vutin',\n",
    "#        'partyType': 'Individual',\n",
    "#        'countryOfIncorporation': None,\n",
    "#        'dobDate': '02/31/1900',\n",
    "#        'partyPrimaryCitizenshipCountry': 'United States',\n",
    "#        'partyCountryOfBirth': None,\n",
    "#        'partyFirstName': 'Pladimir',\n",
    "#        'partyMiddleName': None,\n",
    "#        'partyId': '0002712291'}},\n",
    "#      {'id': '0004727489',\n",
    "#       'fields': {'taxId': '022368917',\n",
    "#        'taxIdType': 'SSN',\n",
    "#        'partyResidenceCountry': 'United States',\n",
    "#        'partyName': 'Eva Pladimirova',\n",
    "#        'partyLastName': 'Pladimirova',\n",
    "#        'partyType': 'Individual',\n",
    "#        'countryOfIncorporation': None,\n",
    "#        'dobDate': '04/31/1910',\n",
    "#        'partyPrimaryCitizenshipCountry': 'United States',\n",
    "#        'partyCountryOfBirth': None,\n",
    "#        'partyFirstName': 'Eva',\n",
    "#        'partyMiddleName': None,\n",
    "#        'partyId': '0004727489'}}]},\n",
    "#    'relatedAccounts': {'account': [{'id': '2021-01-29-13.44.57.093694',\n",
    "#       'fields': {'branchAccountNumber': '234_142529',\n",
    "#        'lastName': 'Vutin',\n",
    "#        'srcSystemAccountKey': '2021-01-29-13.44.57.093694',\n",
    "#        'firstName': 'Pladimir',\n",
    "#        'beneficiaryName': 'Pladimir Vutin'}},\n",
    "#      {'id': '2021-01-29-13.44.57.093694',\n",
    "#       'fields': {'branchAccountNumber': '234_142529',\n",
    "#        'lastName': 'Pladimirova',\n",
    "#        'srcSystemAccountKey': '2021-01-29-13.44.57.093694',\n",
    "#        'firstName': 'Eva',\n",
    "#        'beneficiaryName': 'Eva Pladimirova'}}]}},\n",
    "#   'headerInfo': {'uniqueCustomerId': 'R_RUS_Active_Address_2010-02-11-11.11',\n",
    "#    'datasetId': '1044',\n",
    "#    'datasetName': 'R_US_Active_Address',\n",
    "#    'masterId': '637451852',\n",
    "#    'currentVersionId': '678175153',\n",
    "#    'stopDescriptors': {'stopDescriptor': [{'name': 'JOHN DOE'},\n",
    "#      {'name': 'DOE JOHN'}]},\n",
    "#    'firstVersionCreatedDt': '2010-02-02T22: 24: 24.222+02: 20',\n",
    "#    'lastVersionUpdatedDt': '2010-02-02T22: 24: 24.222+02: 20',\n",
    "#    'masterVersion': 'a172863871263234234',\n",
    "#    'inputVersionSample': 'R_RUS_Active_Address_2010-02-11-11.11'},\n",
    "#   'inputRecordHist': {'inputRecords': [{'version': 'a1231231231241343454251234234',\n",
    "#      'createdDate': '01/05/10',\n",
    "#      'status': 'X',\n",
    "#      'masterId': '1231231231241',\n",
    "#      'versionId': '123',\n",
    "#      'uniqueCustId': 'R_RUS_Active_Address_2010-02-11-11.11',\n",
    "#      'fields': [{'name': 'SOURCE_REF',\n",
    "#        'isScreenable': 'false',\n",
    "#        'value': 'R_RUS_Active_Address_2010-02-11-11.11',\n",
    "#        'sortOrder': '1'},\n",
    "#       {'name': 'UNIQUE_KEY',\n",
    "#        'isScreenable': 'false',\n",
    "#        'value': 'ALA12321312305004514758',\n",
    "#        'sortOrder': '12'},\n",
    "#       {'name': 'ADDRESS1_COUNTRY',\n",
    "#        'isScreenable': 'false',\n",
    "#        'value': 'USA',\n",
    "#        'sortOrder': '12'}]}]}},\n",
    "#  'watchlistParty': {'matchRecords': [{'masterId': '63745112123123852',\n",
    "#     'accountSeq': '12',\n",
    "#     'datasetId': '1233',\n",
    "#     'uniqueCustomerId': 'R_RUS_Active_Address_2010-02-11-11.11',\n",
    "#     'masterVersion': 'a123123123123123123123',\n",
    "#     'matchId': '1',\n",
    "#     'matchStatus': 'O',\n",
    "#     'riskScore': '-2.0',\n",
    "#     'inputVersionId': '123',\n",
    "#     'matchType': 'XDC',\n",
    "#     'entityId': '123123123123',\n",
    "#     'entityVersion': '1231231423546356456345365',\n",
    "#     'entity': {'id': '2134',\n",
    "#      'version': '1215342524314143',\n",
    "#      'name': 'JOHNNY DOE',\n",
    "#      'listId': '213123',\n",
    "#      'listCode': 'EXE',\n",
    "#      'entityType': '0123',\n",
    "#      'createdDate': '10/02/1993',\n",
    "#      'lastUpdateDate': '02/02/2004',\n",
    "#      'source': 'RBS',\n",
    "#      'programs': {'program': {'type': 'US',\n",
    "#        'S8_extracted_value': 'UNITED STANES'}},\n",
    "#      'addresses': {'address': {'city': 'CHwm_address_in_payload_formatICAGO',\n",
    "#        'country': 'US',\n",
    "#        'countryName': 'UNITED STATES OF AMERICA'}}},\n",
    "#     'entityType': '012',\n",
    "#     'entityTextType': 'UPISD',\n",
    "#     'sourceCode': 'RABS',\n",
    "#     'stopDescriptors': [{'name': 'JOHNNY DOE',\n",
    "#       'totalMatchScore': '0.33',\n",
    "#       'stopDescriptorDetails': [{'inputToken': 'hense',\n",
    "#         'inputSynonym': 'null',\n",
    "#         'sdToken': 'denim',\n",
    "#         'matchScore': '0.123'}]}],\n",
    "#     'firstMatchedDate': '01/05/10',\n",
    "#     'lastMatchedDate': '01/05/10',\n",
    "#     'lastReviewDate': '01/05/10'},\n",
    "#    {'masterId': '12312312432442524',\n",
    "#     'accountSeq': '12',\n",
    "#     'datasetId': '1111',\n",
    "#     'uniqueCustomerId': 'R_RUS_Active_Address_2010-02-11-11.11',\n",
    "#     'masterVersion': 'asd123123343124141',\n",
    "#     'matchId': '2',\n",
    "#     'matchStatus': 'O',\n",
    "#     'riskScore': '-3.0',\n",
    "#     'inputVersionId': '123',\n",
    "#     'matchType': 'SSD',\n",
    "#     'entityId': '1232123',\n",
    "#     'entityVersion': '123123231213432423',\n",
    "#     'entity': {'id': '12321',\n",
    "#      'version': '32131312313213',\n",
    "#      'name': 'DOE DOE JOHN',\n",
    "#      'listId': '123',\n",
    "#      'listCode': 'EUS',wm_address_in_payload_format\n",
    "#      'entityType': '02',\n",
    "#      'createdDate': '12/09/2010',\n",
    "#      'lastUpdateDate': '08/31/2010',\n",
    "#      'source': 'EUS',\n",
    "#      'dobs': {'dob': {'D': '11',\n",
    "#        'M': '01',\n",
    "#        'Y': '1924',\n",
    "#        'S8_extracted_value': '01/11/1924'}},\n",
    "#      'nationalities': {'nationality': {'ctryCode': 'US',\n",
    "#        'S8_extracted_value': 'CHIC'}},\n",
    "#      'aliases': {'alias': {'type': 'Alias',\n",
    "#        'S8_extracted_value': 'DONNY JOHN'}},\n",
    "#      'programs': {'program': {'type': 'PPK',\n",
    "#        'S8_extracted_value': 'UNITED STATES OF AMERICA'}},\n",
    "#      'titles': {'title': 'PRESIDENT OF THE ACADEMY'},\n",
    "#      'sdfs': {'sdf': ['09/01/2010', '2010/1209 (OJ L333)', '123143414']},\n",
    "#      'otherIds': {'childId': '124134314'}},\n",
    "#     'entityType': '04',\n",
    "#     'entityTextType': 'UPIDDDD',\n",
    "#     'sourceCode': 'EUS',\n",
    "#     'stopDescriptors': [{'name': 'DOE DOE DOE',\n",
    "#       'totalMatchScore': '0.22',\n",
    "#       'stopDescriptorDetails': [{'inputToken': 'johnny',\n",
    "#         'inputSynonym': 'syn',\n",
    "#         'sdToken': 'doe',\n",
    "#         'matchScore': '0.223'}]},\n",
    "#      {'name': 'JOHN JOHN DOE DOE DOE',\n",
    "#       'totalMatchScore': '0.9999999999999',\n",
    "#       'stopDescriptorDetails': [{'inputToken': 'doe',\n",
    "#         'inputSynonym': 'null',\n",
    "#         'sdToken': 'doe',\n",
    "#         'matchScore': '3.0'}]}],\n",
    "#     'firstMatchedDate': '01/05/20',\n",
    "#     'lastMatchedDate': '01/05/20',\n",
    "#     'lastReviewDate': '01/05/20'}]}}"
   ]
  },
  {
   "cell_type": "code",
   "execution_count": 35,
   "id": "d20eba4e-fa6b-462b-a548-d8c9bbc255d0",
   "metadata": {},
   "outputs": [],
   "source": [
    "with open(f'notebooks/sample/wm_party_in_payload_format_2_input_3_match_records.json', 'r') as file:\n",
    "    payload = json.loads(file.read())\n",
    "\n",
    "payload_json = {key: payload[key] for key in sorted(payload)}\n",
    "payload_json = PayloadLoader().load_payload_from_json(payload_json)\n",
    "\n",
    "\n",
    "\n",
    "payload_json['match_ids'] = [i for i in range(len(payload_json[\"watchlistParty\"][\"matchRecords\"]))]\n"
   ]
  },
  {
   "cell_type": "code",
   "execution_count": 36,
   "id": "8bf7bcf5-be42-4cc1-a227-7938c4417b6d",
   "metadata": {},
   "outputs": [],
   "source": [
    "payload = payload_json"
   ]
  },
  {
   "cell_type": "code",
   "execution_count": 37,
   "id": "9ec7eeee",
   "metadata": {},
   "outputs": [],
   "source": [
    "engine = JsonProcessingEngine(pipeline_config)\n",
    "pipeline = MSPipeline(engine, config=pipeline_config)"
   ]
  },
  {
   "cell_type": "markdown",
   "id": "67b3311f-755c-4467-b2e3-725c5571dcc2",
   "metadata": {},
   "source": [
    "## transform standardized to cleansed"
   ]
  },
  {
   "cell_type": "code",
   "execution_count": 38,
   "id": "b44d01ec-9869-490c-90f3-ea6ce71c2179",
   "metadata": {},
   "outputs": [],
   "source": [
    "payload = pipeline.transform_standardized_to_cleansed(payload)"
   ]
  },
  {
   "cell_type": "markdown",
   "id": "a97ecf06-a7e4-45a1-81e9-1203ccd1dd73",
   "metadata": {},
   "source": [
    "ALL_CONNECTED_ACCOUNT_NAMES# Transform standardized to application"
   ]
  },
  {
   "cell_type": "code",
   "execution_count": 39,
   "id": "4ee399b3-3f32-4d79-be51-2e8584ec85c8",
   "metadata": {},
   "outputs": [],
   "source": [
    "from etl_pipeline.config import alert_agents_config"
   ]
  },
  {
   "cell_type": "code",
   "execution_count": 40,
   "id": "1103a035-7ee7-49fa-8472-8dc744bc90bc",
   "metadata": {},
   "outputs": [],
   "source": [
    "new_payloads = pipeline.transform_cleansed_to_application(payload)"
   ]
  },
  {
   "cell_type": "code",
   "execution_count": 41,
   "id": "42bb10dd-8227-4d9a-9414-d407da43c0ad",
   "metadata": {},
   "outputs": [],
   "source": [
    "from etl_pipeline.custom.ms.datatypes.field import InputRecordField"
   ]
  },
  {
   "cell_type": "markdown",
   "id": "a9a626d1-bac1-41e3-ae8a-cf91c32d99ae",
   "metadata": {
    "tags": []
   },
   "source": [
    "### payload"
   ]
  },
  {
   "cell_type": "code",
   "execution_count": 42,
   "id": "6de852f2-a5b9-4c0f-8670-cbe220275a71",
   "metadata": {},
   "outputs": [
    {
     "data": {
      "text/plain": [
       "3"
      ]
     },
     "execution_count": 42,
     "metadata": {},
     "output_type": "execute_result"
    }
   ],
   "source": [
    "len(new_payloads)"
   ]
  },
  {
   "cell_type": "code",
   "execution_count": 43,
   "id": "190aa3c5-9909-4b36-b627-b72f22a7e0c8",
   "metadata": {},
   "outputs": [
    {
     "name": "stdout",
     "output_type": "stream",
     "text": [
      "=====================\n",
      "PAYLOAD\n",
      "123\n",
      "0 match\n",
      "['02/31/1900', '04/31/1910'] ['MAY 6, 1981', '//']\n",
      "['UNITED STATES OF AMERICA'] ['US']\n",
      "=====================\n",
      "PAYLOAD\n",
      "122438659\n",
      "0 match\n",
      "['02/31/1900', '04/31/1910'] ['MAY 6, 1981', '//']\n",
      "['UNITED STATES OF AMERICA'] ['US']\n",
      "=====================\n",
      "PAYLOAD\n",
      "122438659\n",
      "0 match\n",
      "['02/31/1900', '04/31/1910'] ['MAY 6, 1981', '//']\n",
      "['UNITED STATES OF AMERICA'] ['PL']\n"
     ]
    }
   ],
   "source": [
    "for payload in new_payloads:\n",
    "    print('=====================')\n",
    "    print('PAYLOAD')\n",
    "    print(payload['alertedParty']['inputRecordHist']['inputRecords'][0]['versionId'])\n",
    "        \n",
    "    for num, match in enumerate(payload['watchlistParty']['matchRecords']):\n",
    "        assert (match['inputVersionId'] == payload['alertedParty']['inputRecordHist']['inputRecords'][0]['versionId'])\n",
    "        print(num, 'match')\n",
    "        print(match[\"ap_all_dobs_aggregated\"], match[\"wl_all_dobs_aggregated\"])\n",
    "        try:\n",
    "            print(match[\"ap_all_residencies_aggregated\"], match[\"wl_all_residencies_aggregated\"])\n",
    "        except:\n",
    "            break\n"
   ]
  },
  {
   "cell_type": "code",
   "execution_count": 44,
   "id": "ded97825-dd07-477b-8e88-8b2f6a64d22a",
   "metadata": {},
   "outputs": [],
   "source": [
    "import pickle\n",
    "with open(\"tests/shared/parsed_payload_2_payload.pkl\", \"wb\") as f:\n",
    "    pickle.dump(new_payloads, f)"
   ]
  },
  {
   "cell_type": "code",
   "execution_count": 19,
   "id": "79ea48ac-d227-414c-a898-afaa178bb544",
   "metadata": {},
   "outputs": [],
   "source": [
    "new_dict = {}\n",
    "def return_key(dict_, prefix):\n",
    "    \n",
    "    if isinstance(dict_, list):\n",
    "        for num, i in enumerate(dict_):\n",
    "            return_key(i, prefix +f\"[{num}]\")\n",
    "        return\n",
    "    if isinstance(dict_, str) or dict_ is None:\n",
    "        new_dict[prefix] = dict_\n",
    "        return\n",
    "\n",
    "    for key in dict_:\n",
    "        if prefix:\n",
    "            basic_prefix = prefix + \".\" + key\n",
    "        else:\n",
    "            basic_prefix = key\n",
    "        return_key(dict_[key], basic_prefix)"
   ]
  },
  {
   "cell_type": "code",
   "execution_count": 20,
   "id": "96790872-204d-4151-a122-d97c2ebf1f09",
   "metadata": {},
   "outputs": [
    {
     "ename": "TypeError",
     "evalue": "'InputRecordField' object is not iterable",
     "output_type": "error",
     "traceback": [
      "\u001b[0;31m---------------------------------------------------------------------------\u001b[0m",
      "\u001b[0;31mTypeError\u001b[0m                                 Traceback (most recent call last)",
      "\u001b[0;32m/tmp/ipykernel_469341/2568865654.py\u001b[0m in \u001b[0;36m<module>\u001b[0;34m\u001b[0m\n\u001b[0;32m----> 1\u001b[0;31m \u001b[0mreturn_key\u001b[0m\u001b[0;34m(\u001b[0m\u001b[0mpayload\u001b[0m\u001b[0;34m,\u001b[0m \u001b[0;34m\"\"\u001b[0m\u001b[0;34m)\u001b[0m\u001b[0;34m\u001b[0m\u001b[0;34m\u001b[0m\u001b[0m\n\u001b[0m",
      "\u001b[0;32m/tmp/ipykernel_469341/810130199.py\u001b[0m in \u001b[0;36mreturn_key\u001b[0;34m(dict_, prefix)\u001b[0m\n\u001b[1;32m     15\u001b[0m         \u001b[0;32melse\u001b[0m\u001b[0;34m:\u001b[0m\u001b[0;34m\u001b[0m\u001b[0;34m\u001b[0m\u001b[0m\n\u001b[1;32m     16\u001b[0m             \u001b[0mbasic_prefix\u001b[0m \u001b[0;34m=\u001b[0m \u001b[0mkey\u001b[0m\u001b[0;34m\u001b[0m\u001b[0;34m\u001b[0m\u001b[0m\n\u001b[0;32m---> 17\u001b[0;31m         \u001b[0mreturn_key\u001b[0m\u001b[0;34m(\u001b[0m\u001b[0mdict_\u001b[0m\u001b[0;34m[\u001b[0m\u001b[0mkey\u001b[0m\u001b[0;34m]\u001b[0m\u001b[0;34m,\u001b[0m \u001b[0mbasic_prefix\u001b[0m\u001b[0;34m)\u001b[0m\u001b[0;34m\u001b[0m\u001b[0;34m\u001b[0m\u001b[0m\n\u001b[0m",
      "\u001b[0;32m/tmp/ipykernel_469341/810130199.py\u001b[0m in \u001b[0;36mreturn_key\u001b[0;34m(dict_, prefix)\u001b[0m\n\u001b[1;32m     15\u001b[0m         \u001b[0;32melse\u001b[0m\u001b[0;34m:\u001b[0m\u001b[0;34m\u001b[0m\u001b[0;34m\u001b[0m\u001b[0m\n\u001b[1;32m     16\u001b[0m             \u001b[0mbasic_prefix\u001b[0m \u001b[0;34m=\u001b[0m \u001b[0mkey\u001b[0m\u001b[0;34m\u001b[0m\u001b[0;34m\u001b[0m\u001b[0m\n\u001b[0;32m---> 17\u001b[0;31m         \u001b[0mreturn_key\u001b[0m\u001b[0;34m(\u001b[0m\u001b[0mdict_\u001b[0m\u001b[0;34m[\u001b[0m\u001b[0mkey\u001b[0m\u001b[0;34m]\u001b[0m\u001b[0;34m,\u001b[0m \u001b[0mbasic_prefix\u001b[0m\u001b[0;34m)\u001b[0m\u001b[0;34m\u001b[0m\u001b[0;34m\u001b[0m\u001b[0m\n\u001b[0m",
      "\u001b[0;32m/tmp/ipykernel_469341/810130199.py\u001b[0m in \u001b[0;36mreturn_key\u001b[0;34m(dict_, prefix)\u001b[0m\n\u001b[1;32m     15\u001b[0m         \u001b[0;32melse\u001b[0m\u001b[0;34m:\u001b[0m\u001b[0;34m\u001b[0m\u001b[0;34m\u001b[0m\u001b[0m\n\u001b[1;32m     16\u001b[0m             \u001b[0mbasic_prefix\u001b[0m \u001b[0;34m=\u001b[0m \u001b[0mkey\u001b[0m\u001b[0;34m\u001b[0m\u001b[0;34m\u001b[0m\u001b[0m\n\u001b[0;32m---> 17\u001b[0;31m         \u001b[0mreturn_key\u001b[0m\u001b[0;34m(\u001b[0m\u001b[0mdict_\u001b[0m\u001b[0;34m[\u001b[0m\u001b[0mkey\u001b[0m\u001b[0;34m]\u001b[0m\u001b[0;34m,\u001b[0m \u001b[0mbasic_prefix\u001b[0m\u001b[0;34m)\u001b[0m\u001b[0;34m\u001b[0m\u001b[0;34m\u001b[0m\u001b[0m\n\u001b[0m",
      "\u001b[0;32m/tmp/ipykernel_469341/810130199.py\u001b[0m in \u001b[0;36mreturn_key\u001b[0;34m(dict_, prefix)\u001b[0m\n\u001b[1;32m      4\u001b[0m     \u001b[0;32mif\u001b[0m \u001b[0misinstance\u001b[0m\u001b[0;34m(\u001b[0m\u001b[0mdict_\u001b[0m\u001b[0;34m,\u001b[0m \u001b[0mlist\u001b[0m\u001b[0;34m)\u001b[0m\u001b[0;34m:\u001b[0m\u001b[0;34m\u001b[0m\u001b[0;34m\u001b[0m\u001b[0m\n\u001b[1;32m      5\u001b[0m         \u001b[0;32mfor\u001b[0m \u001b[0mnum\u001b[0m\u001b[0;34m,\u001b[0m \u001b[0mi\u001b[0m \u001b[0;32min\u001b[0m \u001b[0menumerate\u001b[0m\u001b[0;34m(\u001b[0m\u001b[0mdict_\u001b[0m\u001b[0;34m)\u001b[0m\u001b[0;34m:\u001b[0m\u001b[0;34m\u001b[0m\u001b[0;34m\u001b[0m\u001b[0m\n\u001b[0;32m----> 6\u001b[0;31m             \u001b[0mreturn_key\u001b[0m\u001b[0;34m(\u001b[0m\u001b[0mi\u001b[0m\u001b[0;34m,\u001b[0m \u001b[0mprefix\u001b[0m \u001b[0;34m+\u001b[0m\u001b[0;34mf\"[{num}]\"\u001b[0m\u001b[0;34m)\u001b[0m\u001b[0;34m\u001b[0m\u001b[0;34m\u001b[0m\u001b[0m\n\u001b[0m\u001b[1;32m      7\u001b[0m         \u001b[0;32mreturn\u001b[0m\u001b[0;34m\u001b[0m\u001b[0;34m\u001b[0m\u001b[0m\n\u001b[1;32m      8\u001b[0m     \u001b[0;32mif\u001b[0m \u001b[0misinstance\u001b[0m\u001b[0;34m(\u001b[0m\u001b[0mdict_\u001b[0m\u001b[0;34m,\u001b[0m \u001b[0mstr\u001b[0m\u001b[0;34m)\u001b[0m \u001b[0;32mor\u001b[0m \u001b[0mdict_\u001b[0m \u001b[0;32mis\u001b[0m \u001b[0;32mNone\u001b[0m\u001b[0;34m:\u001b[0m\u001b[0;34m\u001b[0m\u001b[0;34m\u001b[0m\u001b[0m\n",
      "\u001b[0;32m/tmp/ipykernel_469341/810130199.py\u001b[0m in \u001b[0;36mreturn_key\u001b[0;34m(dict_, prefix)\u001b[0m\n\u001b[1;32m     15\u001b[0m         \u001b[0;32melse\u001b[0m\u001b[0;34m:\u001b[0m\u001b[0;34m\u001b[0m\u001b[0;34m\u001b[0m\u001b[0m\n\u001b[1;32m     16\u001b[0m             \u001b[0mbasic_prefix\u001b[0m \u001b[0;34m=\u001b[0m \u001b[0mkey\u001b[0m\u001b[0;34m\u001b[0m\u001b[0;34m\u001b[0m\u001b[0m\n\u001b[0;32m---> 17\u001b[0;31m         \u001b[0mreturn_key\u001b[0m\u001b[0;34m(\u001b[0m\u001b[0mdict_\u001b[0m\u001b[0;34m[\u001b[0m\u001b[0mkey\u001b[0m\u001b[0;34m]\u001b[0m\u001b[0;34m,\u001b[0m \u001b[0mbasic_prefix\u001b[0m\u001b[0;34m)\u001b[0m\u001b[0;34m\u001b[0m\u001b[0;34m\u001b[0m\u001b[0m\n\u001b[0m",
      "\u001b[0;32m/tmp/ipykernel_469341/810130199.py\u001b[0m in \u001b[0;36mreturn_key\u001b[0;34m(dict_, prefix)\u001b[0m\n\u001b[1;32m     15\u001b[0m         \u001b[0;32melse\u001b[0m\u001b[0;34m:\u001b[0m\u001b[0;34m\u001b[0m\u001b[0;34m\u001b[0m\u001b[0m\n\u001b[1;32m     16\u001b[0m             \u001b[0mbasic_prefix\u001b[0m \u001b[0;34m=\u001b[0m \u001b[0mkey\u001b[0m\u001b[0;34m\u001b[0m\u001b[0;34m\u001b[0m\u001b[0m\n\u001b[0;32m---> 17\u001b[0;31m         \u001b[0mreturn_key\u001b[0m\u001b[0;34m(\u001b[0m\u001b[0mdict_\u001b[0m\u001b[0;34m[\u001b[0m\u001b[0mkey\u001b[0m\u001b[0;34m]\u001b[0m\u001b[0;34m,\u001b[0m \u001b[0mbasic_prefix\u001b[0m\u001b[0;34m)\u001b[0m\u001b[0;34m\u001b[0m\u001b[0;34m\u001b[0m\u001b[0m\n\u001b[0m",
      "\u001b[0;32m/tmp/ipykernel_469341/810130199.py\u001b[0m in \u001b[0;36mreturn_key\u001b[0;34m(dict_, prefix)\u001b[0m\n\u001b[1;32m     10\u001b[0m         \u001b[0;32mreturn\u001b[0m\u001b[0;34m\u001b[0m\u001b[0;34m\u001b[0m\u001b[0m\n\u001b[1;32m     11\u001b[0m \u001b[0;34m\u001b[0m\u001b[0m\n\u001b[0;32m---> 12\u001b[0;31m     \u001b[0;32mfor\u001b[0m \u001b[0mkey\u001b[0m \u001b[0;32min\u001b[0m \u001b[0mdict_\u001b[0m\u001b[0;34m:\u001b[0m\u001b[0;34m\u001b[0m\u001b[0;34m\u001b[0m\u001b[0m\n\u001b[0m\u001b[1;32m     13\u001b[0m         \u001b[0;32mif\u001b[0m \u001b[0mprefix\u001b[0m\u001b[0;34m:\u001b[0m\u001b[0;34m\u001b[0m\u001b[0;34m\u001b[0m\u001b[0m\n\u001b[1;32m     14\u001b[0m             \u001b[0mbasic_prefix\u001b[0m \u001b[0;34m=\u001b[0m \u001b[0mprefix\u001b[0m \u001b[0;34m+\u001b[0m \u001b[0;34m\".\"\u001b[0m \u001b[0;34m+\u001b[0m \u001b[0mkey\u001b[0m\u001b[0;34m\u001b[0m\u001b[0;34m\u001b[0m\u001b[0m\n",
      "\u001b[0;31mTypeError\u001b[0m: 'InputRecordField' object is not iterable"
     ]
    }
   ],
   "source": [
    "return_key(payload, \"\")"
   ]
  },
  {
   "cell_type": "code",
   "execution_count": null,
   "id": "2f4a3e57-f371-4b03-a50a-03d6729d5a9e",
   "metadata": {},
   "outputs": [],
   "source": [
    "with open(f'notebooks/sample/alert_in_payload_format.json', 'w') as file:\n",
    "    json.dump(new_dict ,file)"
   ]
  },
  {
   "cell_type": "code",
   "execution_count": null,
   "id": "11e7fdd1-c6ac-4be1-bf66-3cdf17398c32",
   "metadata": {},
   "outputs": [],
   "source": [
    "payload_json = PayloadLoader().load_payload_from_json(new_dict)"
   ]
  },
  {
   "cell_type": "code",
   "execution_count": null,
   "id": "134ecdff-6466-4b9a-aecd-ff27791d85fc",
   "metadata": {},
   "outputs": [],
   "source": [
    "payload_json == payload"
   ]
  },
  {
   "cell_type": "code",
   "execution_count": null,
   "id": "02add6d0-d98c-484e-b7e3-fbf10729aaa4",
   "metadata": {},
   "outputs": [],
   "source": [
    "with open(f'notebooks/sample/alert.json', 'r') as file:\n",
    "    payload = json.loads(file.read())"
   ]
  },
  {
   "cell_type": "code",
   "execution_count": null,
   "id": "7270a381-9748-4a71-b8c1-35d090572d00",
   "metadata": {},
   "outputs": [],
   "source": [
    "payload"
   ]
  },
  {
   "cell_type": "code",
   "execution_count": null,
   "id": "ccab4efc-6443-4c89-a3f3-e4a4cef2a701",
   "metadata": {},
   "outputs": [],
   "source": []
  }
 ],
 "metadata": {
  "kernelspec": {
   "display_name": "Python 3 (ipykernel)",
   "language": "python",
   "name": "python3"
  },
  "language_info": {
   "codemirror_mode": {
    "name": "ipython",
    "version": 3
   },
   "file_extension": ".py",
   "mimetype": "text/x-python",
   "name": "python",
   "nbconvert_exporter": "python",
   "pygments_lexer": "ipython3",
   "version": "3.7.11"
  }
 },
 "nbformat": 4,
 "nbformat_minor": 5
}
