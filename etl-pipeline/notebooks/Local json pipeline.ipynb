{
 "cells": [
  {
   "cell_type": "code",
   "execution_count": 1,
   "id": "3bd69b4c-19cf-48f7-a810-a4890e66302f",
   "metadata": {},
   "outputs": [],
   "source": [
    "import os\n",
    "\n",
    "os.environ[\"CONFIG_APP_DIR\"] = \"tests/test_custom/config_app/\""
   ]
  },
  {
   "cell_type": "code",
   "execution_count": 2,
   "id": "3c549e53",
   "metadata": {},
   "outputs": [],
   "source": [
    "import sys\n",
    "import os\n",
    "import pickle\n",
    "os.chdir(\"..\")\n",
    "from omegaconf import OmegaConf\n",
    "\n",
    "import json\n",
    "from etl_pipeline.data_processor_engine.json_engine.json_engine import JsonProcessingEngine\n"
   ]
  },
  {
   "cell_type": "code",
   "execution_count": 3,
   "id": "522650c7-af7a-4824-8d36-bf62f558577d",
   "metadata": {},
   "outputs": [],
   "source": [
    "from etl_pipeline.config import columns_namespace as cn"
   ]
  },
  {
   "cell_type": "code",
   "execution_count": 4,
   "id": "565d811d",
   "metadata": {},
   "outputs": [],
   "source": [
    "# alert = load_alert()"
   ]
  },
  {
   "cell_type": "code",
   "execution_count": 5,
   "id": "c804420b-9569-449e-99b4-8d707bc9b956",
   "metadata": {
    "tags": []
   },
   "outputs": [],
   "source": [
    "# payload = load_alert()\n"
   ]
  },
  {
   "cell_type": "markdown",
   "id": "82153271-8b29-42f9-9ca8-4d3f7ba2b721",
   "metadata": {},
   "source": [
    "# Definition"
   ]
  },
  {
   "cell_type": "code",
   "execution_count": 13,
   "id": "f813cf33-f0e2-48d6-92ff-3163cf5db3f2",
   "metadata": {},
   "outputs": [],
   "source": [
    "from pipelines.ms.wm_address_pipeline import MSPipeline\n"
   ]
  },
  {
   "cell_type": "code",
   "execution_count": 39,
   "id": "d20eba4e-fa6b-462b-a548-d8c9bbc255d0",
   "metadata": {},
   "outputs": [],
   "source": [
    "with open(f'notebooks/sample/wm_address_in_payload_format.json', 'r') as file:\n",
    "    payload = json.loads(file.read())\n",
    "\n",
    "payload_json = {key: payload[key] for key in sorted(payload)}\n",
    "payload_json = PayloadLoader().load_payload_from_json(payload_json)\n",
    "payload_json = payload_json['alertPayload']\n",
    "\n",
    "\n",
    "payload_json['match_ids'] = [i for i in range(len(payload_json[cn.ALERT_FIELD][cn.MATCH_RECORDS]))]\n"
   ]
  },
  {
   "cell_type": "code",
   "execution_count": 40,
   "id": "8bf7bcf5-be42-4cc1-a227-7938c4417b6d",
   "metadata": {},
   "outputs": [],
   "source": [
    "payload = payload_json"
   ]
  },
  {
   "cell_type": "code",
   "execution_count": 41,
   "id": "9ec7eeee",
   "metadata": {},
   "outputs": [],
   "source": [
    "engine = JsonProcessingEngine(pipeline_config)\n",
    "pipeline = MSPipeline(engine, config=pipeline_config)"
   ]
  },
  {
   "cell_type": "markdown",
   "id": "67b3311f-755c-4467-b2e3-725c5571dcc2",
   "metadata": {},
   "source": [
    "## transform standardized to cleansed"
   ]
  },
  {
   "cell_type": "code",
   "execution_count": 42,
   "id": "b44d01ec-9869-490c-90f3-ea6ce71c2179",
   "metadata": {},
   "outputs": [],
   "source": [
    "payload = pipeline.transform_standardized_to_cleansed(payload)"
   ]
  },
  {
   "cell_type": "markdown",
   "id": "a97ecf06-a7e4-45a1-81e9-1203ccd1dd73",
   "metadata": {},
   "source": [
    "# Transform standardized to application"
   ]
  },
  {
   "cell_type": "code",
   "execution_count": 43,
   "id": "1103a035-7ee7-49fa-8472-8dc744bc90bc",
   "metadata": {},
   "outputs": [],
   "source": [
    "new_payloads = pipeline.transform_cleansed_to_application(payload)"
   ]
  },
  {
   "cell_type": "markdown",
   "id": "a9a626d1-bac1-41e3-ae8a-cf91c32d99ae",
   "metadata": {
    "tags": []
   },
   "source": [
    "### payload"
   ]
  },
  {
   "cell_type": "code",
   "execution_count": 44,
   "id": "190aa3c5-9909-4b36-b627-b72f22a7e0c8",
   "metadata": {},
   "outputs": [
    {
     "name": "stdout",
     "output_type": "stream",
     "text": [
      "p\n",
      "match\n",
      "++++++++\n",
      "['02/31/1900', '04/31/1910'] ['MAY 6, 1981']\n",
      "['UNITED STATES OF AMERICA'] ['US']\n",
      "p\n",
      "match\n",
      "++++++++\n",
      "['02/31/1900', '04/31/1910'] ['MAY 6, 1981']\n",
      "['UNITED STATES OF AMERICA'] ['PL']\n"
     ]
    }
   ],
   "source": [
    "for payload in new_payloads:\n",
    "    print('p')\n",
    "    for match in payload['alert']['matchRecords']:\n",
    "        print('match')\n",
    "        print(\"++++++++\")\n",
    "        print(match[\"ap_all_dobs_aggregated\"], match[\"wl_all_dobs_aggregated\"])\n",
    "        try:\n",
    "            print(match[\"ap_all_residencies_aggregated\"], match[\"wl_all_residencies_aggregated\"])\n",
    "        except:\n",
    "            break\n"
   ]
  },
  {
   "cell_type": "code",
   "execution_count": 45,
   "id": "ded97825-dd07-477b-8e88-8b2f6a64d22a",
   "metadata": {},
   "outputs": [],
   "source": [
    "import pickle\n",
    "with open(\"tests/shared/parsed_payload.pkl\", \"wb\") as f:\n",
    "    pickle.dump(new_payloads, f)"
   ]
  },
  {
   "cell_type": "code",
   "execution_count": null,
   "id": "79ea48ac-d227-414c-a898-afaa178bb544",
   "metadata": {},
   "outputs": [],
   "source": [
    "new_dict = {}\n",
    "def return_key(dict_, prefix):\n",
    "    \n",
    "    if isinstance(dict_, list):\n",
    "        for num, i in enumerate(dict_):\n",
    "            return_key(i, prefix +f\"[{num}]\")\n",
    "        return\n",
    "    if isinstance(dict_, str) or dict_ is None:\n",
    "        new_dict[prefix] = dict_\n",
    "        return\n",
    "\n",
    "    for key in dict_:\n",
    "        if prefix:\n",
    "            basic_prefix = prefix + \".\" + key\n",
    "        else:\n",
    "            basic_prefix = key\n",
    "        return_key(dict_[key], basic_prefix)"
   ]
  },
  {
   "cell_type": "code",
   "execution_count": null,
   "id": "96790872-204d-4151-a122-d97c2ebf1f09",
   "metadata": {},
   "outputs": [],
   "source": [
    "return_key(payload, \"\")"
   ]
  },
  {
   "cell_type": "code",
   "execution_count": null,
   "id": "2f4a3e57-f371-4b03-a50a-03d6729d5a9e",
   "metadata": {},
   "outputs": [],
   "source": [
    "with open(f'notebooks/sample/alert_in_payload_format.json', 'w') as file:\n",
    "    json.dump(new_dict ,file)"
   ]
  },
  {
   "cell_type": "code",
   "execution_count": null,
   "id": "11e7fdd1-c6ac-4be1-bf66-3cdf17398c32",
   "metadata": {},
   "outputs": [],
   "source": [
    "payload_json = PayloadLoader().load_payload_from_json(new_dict)"
   ]
  },
  {
   "cell_type": "code",
   "execution_count": null,
   "id": "134ecdff-6466-4b9a-aecd-ff27791d85fc",
   "metadata": {},
   "outputs": [],
   "source": [
    "payload_json == payload"
   ]
  },
  {
   "cell_type": "code",
   "execution_count": null,
   "id": "02add6d0-d98c-484e-b7e3-fbf10729aaa4",
   "metadata": {},
   "outputs": [],
   "source": [
    "with open(f'notebooks/sample/alert.json', 'r') as file:\n",
    "    payload = json.loads(file.read())"
   ]
  },
  {
   "cell_type": "code",
   "execution_count": null,
   "id": "7270a381-9748-4a71-b8c1-35d090572d00",
   "metadata": {},
   "outputs": [],
   "source": [
    "payload"
   ]
  },
  {
   "cell_type": "code",
   "execution_count": null,
   "id": "ccab4efc-6443-4c89-a3f3-e4a4cef2a701",
   "metadata": {},
   "outputs": [],
   "source": []
  }
 ],
 "metadata": {
  "kernelspec": {
   "display_name": "Python 3 (ipykernel)",
   "language": "python",
   "name": "python3"
  },
  "language_info": {
   "codemirror_mode": {
    "name": "ipython",
    "version": 3
   },
   "file_extension": ".py",
   "mimetype": "text/x-python",
   "name": "python",
   "nbconvert_exporter": "python",
   "pygments_lexer": "ipython3",
   "version": "3.7.11"
  }
 },
 "nbformat": 4,
 "nbformat_minor": 5
}
