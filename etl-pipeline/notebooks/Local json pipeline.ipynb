{
 "cells": [
  {
   "cell_type": "code",
   "execution_count": 1,
   "id": "3bd69b4c-19cf-48f7-a810-a4890e66302f",
   "metadata": {
    "tags": []
   },
   "outputs": [],
   "source": [
    "import os\n",
    "\n",
    "os.environ[\"CONFIG_APP_DIR\"] = \"/app/config\"\n"
   ]
  },
  {
   "cell_type": "code",
   "execution_count": null,
   "id": "7b9e3f93",
   "metadata": {},
   "outputs": [],
   "source": []
  },
  {
   "cell_type": "code",
   "execution_count": 2,
   "id": "3c549e53",
   "metadata": {},
   "outputs": [
    {
     "name": "stderr",
     "output_type": "stream",
     "text": [
      "/env/ds/anaconda/envs/pipeline/lib/python3.6/site-packages/fuzzywuzzy/fuzz.py:11: UserWarning: Using slow pure-python SequenceMatcher. Install python-Levenshtein to remove this warning\n",
      "  warnings.warn('Using slow pure-python SequenceMatcher. Install python-Levenshtein to remove this warning')\n"
     ]
    }
   ],
   "source": [
    "import sys\n",
    "import os\n",
    "import pickle\n",
    "os.chdir(\"/app\")\n",
    "from omegaconf import OmegaConf\n",
    "\n",
    "import json\n",
    "from etl_pipeline.data_processor_engine.json_engine.json_engine import JsonProcessingEngine\n",
    "from etl_pipeline.custom.ms.payload_loader import PayloadLoader"
   ]
  },
  {
   "cell_type": "code",
   "execution_count": 3,
   "id": "522650c7-af7a-4824-8d36-bf62f558577d",
   "metadata": {},
   "outputs": [],
   "source": [
    "from etl_pipeline.config import pipeline_config\n",
    "cn = pipeline_config.cn"
   ]
  },
  {
   "cell_type": "code",
   "execution_count": 4,
   "id": "565d811d",
   "metadata": {},
   "outputs": [],
   "source": [
    "# alert = load_alert()"
   ]
  },
  {
   "cell_type": "code",
   "execution_count": 5,
   "id": "c804420b-9569-449e-99b4-8d707bc9b956",
   "metadata": {
    "tags": []
   },
   "outputs": [],
   "source": [
    "# payload = load_alert()\n"
   ]
  },
  {
   "cell_type": "markdown",
   "id": "82153271-8b29-42f9-9ca8-4d3f7ba2b721",
   "metadata": {},
   "source": [
    "# Definition"
   ]
  },
  {
   "cell_type": "code",
   "execution_count": 6,
   "id": "f813cf33-f0e2-48d6-92ff-3163cf5db3f2",
   "metadata": {},
   "outputs": [],
   "source": [
    "from pipelines.ms.ms_pipeline import MSPipeline\n",
    "from etl_pipeline.config import pipeline_config\n"
   ]
  },
  {
   "cell_type": "code",
   "execution_count": 7,
   "id": "d20eba4e-fa6b-462b-a548-d8c9bbc255d0",
   "metadata": {},
   "outputs": [],
   "source": [
    "with open(f'notebooks/sample/wm_address_in_payload_format.json', 'r') as file:\n",
    "    payload = json.loads(file.read())\n",
    "\n",
    "payload_json = {key: payload[key] for key in sorted(payload)}\n",
    "payload_json = PayloadLoader().load_payload_from_json(payload_json)\n",
    "\n",
    "\n",
    "\n",
    "payload_json['match_ids'] = [i for i in range(len(payload_json[\"watchlistParty\"][\"matchRecords\"]))]\n"
   ]
  },
  {
   "cell_type": "code",
   "execution_count": 8,
   "id": "8bf7bcf5-be42-4cc1-a227-7938c4417b6d",
   "metadata": {},
   "outputs": [],
   "source": [
    "payload = payload_json"
   ]
  },
  {
   "cell_type": "code",
   "execution_count": 9,
   "id": "409b615c-769f-4159-9ab4-019fb87cd547",
   "metadata": {},
   "outputs": [],
   "source": [
    "from etl_pipeline.config import load_agent_configs, pipeline_config"
   ]
  },
  {
   "cell_type": "code",
   "execution_count": null,
   "id": "402fa313-0b7e-4c66-8d2a-a2801dd1494a",
   "metadata": {},
   "outputs": [],
   "source": []
  },
  {
   "cell_type": "code",
   "execution_count": 10,
   "id": "27343b4b-3bca-4a32-9ac7-3fb41450eb8c",
   "metadata": {
    "scrolled": true
   },
   "outputs": [
    {
     "name": "stdout",
     "output_type": "stream",
     "text": [
      "2022-04-14 09:25:40,494 — main — WARNING — load_agent_config:68 — Field in agent configuration for: ALL_CONCAT_NAMES is not registered field in pipeline.yaml\n",
      "2022-04-14 09:25:40,503 — main — WARNING — load_agent_config:68 — Field in agent configuration for: ALL_CONCAT_NAMES is not registered field in pipeline.yaml\n",
      "2022-04-14 09:25:40,613 — main — WARNING — load_agent_config:68 — Field in agent configuration for: AP_PARTY_TYPE is not registered field in pipeline.yaml\n"
     ]
    }
   ],
   "source": [
    "pipeline_config.reload_pipeline_config()\n",
    "_ = load_agent_configs()"
   ]
  },
  {
   "cell_type": "code",
   "execution_count": 11,
   "id": "9ec7eeee",
   "metadata": {},
   "outputs": [
    {
     "name": "stdout",
     "output_type": "stream",
     "text": [
      "2022-04-14 09:25:40,930 — main — WARNING — load_agent_config:68 — Field in agent configuration for: ALL_CONCAT_NAMES is not registered field in pipeline.yaml\n",
      "2022-04-14 09:25:40,939 — main — WARNING — load_agent_config:68 — Field in agent configuration for: ALL_CONCAT_NAMES is not registered field in pipeline.yaml\n",
      "2022-04-14 09:25:41,049 — main — WARNING — load_agent_config:68 — Field in agent configuration for: AP_PARTY_TYPE is not registered field in pipeline.yaml\n"
     ]
    }
   ],
   "source": [
    "engine = JsonProcessingEngine(pipeline_config)\n",
    "pipeline = MSPipeline(engine, config=pipeline_config)"
   ]
  },
  {
   "cell_type": "markdown",
   "id": "67b3311f-755c-4467-b2e3-725c5571dcc2",
   "metadata": {},
   "source": [
    "## transform standardized to cleansed"
   ]
  },
  {
   "cell_type": "code",
   "execution_count": 12,
   "id": "b44d01ec-9869-490c-90f3-ea6ce71c2179",
   "metadata": {},
   "outputs": [
    {
     "name": "stdout",
     "output_type": "stream",
     "text": [
      "2022-04-14 09:25:41,503 — main.extractor — ERROR — wrap:17 — extract_wl_data_by_path() missing 1 required positional argument: 'field2'\n",
      "2022-04-14 09:25:41,505 — main.extractor — ERROR — wrap:17 — extract_wl_data_by_path() missing 1 required positional argument: 'field2'\n"
     ]
    }
   ],
   "source": [
    "payload = pipeline.transform_standardized_to_cleansed(payload)"
   ]
  },
  {
   "cell_type": "markdown",
   "id": "a97ecf06-a7e4-45a1-81e9-1203ccd1dd73",
   "metadata": {},
   "source": [
    "ALL_CONNECTED_ACCOUNT_NAMES# Transform standardized to application"
   ]
  },
  {
   "cell_type": "code",
   "execution_count": 13,
   "id": "1103a035-7ee7-49fa-8472-8dc744bc90bc",
   "metadata": {},
   "outputs": [
    {
     "name": "stdout",
     "output_type": "stream",
     "text": [
      "2022-04-14 09:25:42,027 — main.engine — WARNING — merge_to_target_col_from_source_cols_sql_expression:235 — No field in payload named: hit_type_agent_country. Ignore for HIT TYPE AGENT\n",
      "2022-04-14 09:25:42,027 — main.engine — WARNING — merge_to_target_col_from_source_cols_sql_expression:235 — No field in payload named: hit_type_agent_job. Ignore for HIT TYPE AGENT\n",
      "2022-04-14 09:25:42,028 — main.engine — WARNING — merge_to_target_col_from_source_cols_sql_expression:235 — No field in payload named: hit_type_agent_other. Ignore for HIT TYPE AGENT\n",
      "2022-04-14 09:25:42,028 — main.engine — WARNING — merge_to_target_col_from_source_cols_sql_expression:235 — No field in payload named: hit_type_agent_country. Ignore for HIT TYPE AGENT\n",
      "2022-04-14 09:25:42,029 — main.engine — WARNING — merge_to_target_col_from_source_cols_sql_expression:235 — No field in payload named: hit_type_agent_job. Ignore for HIT TYPE AGENT\n",
      "2022-04-14 09:25:42,029 — main.engine — WARNING — merge_to_target_col_from_source_cols_sql_expression:235 — No field in payload named: hit_type_agent_other. Ignore for HIT TYPE AGENT\n",
      "2022-04-14 09:25:42,036 — main.engine — WARNING — merge_to_target_col_from_source_cols_sql_expression:235 — No field in payload named: hit_type_agent_country. Ignore for HIT TYPE AGENT\n",
      "2022-04-14 09:25:42,037 — main.engine — WARNING — merge_to_target_col_from_source_cols_sql_expression:235 — No field in payload named: hit_type_agent_job. Ignore for HIT TYPE AGENT\n",
      "2022-04-14 09:25:42,037 — main.engine — WARNING — merge_to_target_col_from_source_cols_sql_expression:235 — No field in payload named: hit_type_agent_other. Ignore for HIT TYPE AGENT\n",
      "2022-04-14 09:25:42,037 — main.engine — WARNING — merge_to_target_col_from_source_cols_sql_expression:235 — No field in payload named: hit_type_agent_country. Ignore for HIT TYPE AGENT\n",
      "2022-04-14 09:25:42,038 — main.engine — WARNING — merge_to_target_col_from_source_cols_sql_expression:235 — No field in payload named: hit_type_agent_job. Ignore for HIT TYPE AGENT\n",
      "2022-04-14 09:25:42,039 — main.engine — WARNING — merge_to_target_col_from_source_cols_sql_expression:235 — No field in payload named: hit_type_agent_other. Ignore for HIT TYPE AGENT\n"
     ]
    }
   ],
   "source": [
    "new_payloads = pipeline.transform_cleansed_to_application(payload)"
   ]
  },
  {
   "cell_type": "markdown",
   "id": "a9a626d1-bac1-41e3-ae8a-cf91c32d99ae",
   "metadata": {
    "tags": []
   },
   "source": [
    "### payload"
   ]
  },
  {
   "cell_type": "code",
   "execution_count": 14,
   "id": "6de852f2-a5b9-4c0f-8670-cbe220275a71",
   "metadata": {},
   "outputs": [
    {
     "data": {
      "text/plain": [
       "2"
      ]
     },
     "execution_count": 14,
     "metadata": {},
     "output_type": "execute_result"
    }
   ],
   "source": [
    "len(new_payloads)"
   ]
  },
  {
   "cell_type": "code",
   "execution_count": 15,
   "id": "d4c84a93-ef52-4747-b14c-dd1d1ca07bcb",
   "metadata": {},
   "outputs": [
    {
     "data": {
      "text/plain": [
       "{'Doe': {'ADDRESS1_LINE2': ['Jane Doe AA BBB'],\n",
       "  'CONCAT_ADDRESS': ['Joe Black & Jane Doe 111 A 11TH ST AAA 1A New Jersey NJ']}}"
      ]
     },
     "execution_count": 15,
     "metadata": {},
     "output_type": "execute_result"
    }
   ],
   "source": [
    "import pandas as pd\n",
    "out_payload = pd.DataFrame([match for payload in new_payloads   for match in payload['watchlistParty']['matchRecords']])\n",
    "\n",
    "out_payload['AP_TRIGGERS'].values[0]"
   ]
  },
  {
   "cell_type": "code",
   "execution_count": 16,
   "id": "26808ea6",
   "metadata": {},
   "outputs": [
    {
     "data": {
      "text/plain": [
       "array([list(['Pladimir Vutin', 'Eva Pladimirova', 'Janusz']),\n",
       "       list(['Joe Ding']),\n",
       "       list(['Pladimir Vutin', 'Eva Pladimirova', 'Janusz']),\n",
       "       list(['Joe Ding']), list([]), list(['Joe Ding'])], dtype=object)"
      ]
     },
     "execution_count": 16,
     "metadata": {},
     "output_type": "execute_result"
    }
   ],
   "source": [
    "out_payload[[i for i in out_payload.columns if \"names\" in i and \"agg\" in i]].loc[0].values"
   ]
  },
  {
   "cell_type": "code",
   "execution_count": 17,
   "id": "190aa3c5-9909-4b36-b627-b72f22a7e0c8",
   "metadata": {},
   "outputs": [
    {
     "name": "stdout",
     "output_type": "stream",
     "text": [
      "=====================\n",
      "PAYLOAD\n",
      "122438658\n",
      "0 match\n",
      "['02/31/1900', '04/31/1910'] ['MAY 6, 1981']\n",
      "['UNITED STATES OF AMERICA', 'United States'] ['US']\n",
      "=====================\n",
      "PAYLOAD\n",
      "122438659\n",
      "0 match\n",
      "['02/31/1900', '04/31/1910'] ['MAY 6, 1981']\n",
      "['UNITED STATES OF AMERICA', 'United States'] ['PL', 'Poland']\n"
     ]
    }
   ],
   "source": [
    "for payload in new_payloads:\n",
    "    print('=====================')\n",
    "    print('PAYLOAD')\n",
    "    print(payload['alertedParty']['inputRecordHist']['inputRecords'][0]['versionId'])\n",
    "        \n",
    "    for num, match in enumerate(payload['watchlistParty']['matchRecords']):\n",
    "        assert (match['inputVersionId'] == payload['alertedParty']['inputRecordHist']['inputRecords'][0]['versionId'])\n",
    "        print(num, 'match')\n",
    "        print(match[\"ap_all_dobs_aggregated\"], match[\"wl_all_dobs_aggregated\"])\n",
    "        try:\n",
    "            print(match[\"ap_all_residencies_aggregated\"], match[\"wl_all_residencies_aggregated\"])\n",
    "        except:\n",
    "            break\n"
   ]
  },
  {
   "cell_type": "code",
   "execution_count": 18,
   "id": "c51c649a",
   "metadata": {},
   "outputs": [
    {
     "data": {
      "text/html": [
       "<div>\n",
       "<style scoped>\n",
       "    .dataframe tbody tr th:only-of-type {\n",
       "        vertical-align: middle;\n",
       "    }\n",
       "\n",
       "    .dataframe tbody tr th {\n",
       "        vertical-align: top;\n",
       "    }\n",
       "\n",
       "    .dataframe thead th {\n",
       "        text-align: right;\n",
       "    }\n",
       "</style>\n",
       "<table border=\"1\" class=\"dataframe\">\n",
       "  <thead>\n",
       "    <tr style=\"text-align: right;\">\n",
       "      <th></th>\n",
       "      <th>ap_all_hit_types_aggregated</th>\n",
       "      <th>wl_all_hit_types_aggregated</th>\n",
       "      <th>all_hit_type_aggregated</th>\n",
       "    </tr>\n",
       "  </thead>\n",
       "  <tbody>\n",
       "    <tr>\n",
       "      <th>0</th>\n",
       "      <td>[Janusz]</td>\n",
       "      <td>[Janusz]</td>\n",
       "      <td>[{'name': ['PARTY1_NAME_FULL'], 'country': ['A...</td>\n",
       "    </tr>\n",
       "    <tr>\n",
       "      <th>1</th>\n",
       "      <td>[]</td>\n",
       "      <td>[]</td>\n",
       "      <td>[{'name': [], 'country': ['ADDRESS1_COUNTRY'],...</td>\n",
       "    </tr>\n",
       "  </tbody>\n",
       "</table>\n",
       "</div>"
      ],
      "text/plain": [
       "  ap_all_hit_types_aggregated wl_all_hit_types_aggregated  \\\n",
       "0                    [Janusz]                    [Janusz]   \n",
       "1                          []                          []   \n",
       "\n",
       "                             all_hit_type_aggregated  \n",
       "0  [{'name': ['PARTY1_NAME_FULL'], 'country': ['A...  \n",
       "1  [{'name': [], 'country': ['ADDRESS1_COUNTRY'],...  "
      ]
     },
     "execution_count": 18,
     "metadata": {},
     "output_type": "execute_result"
    }
   ],
   "source": [
    "out_payload[[i for i in out_payload.columns if \"hit\" in i and \"agg\" in i]]"
   ]
  },
  {
   "cell_type": "code",
   "execution_count": 19,
   "id": "485cd9e6",
   "metadata": {},
   "outputs": [],
   "source": [
    "import pickle\n",
    "with open(\"tests/shared/parsed_payload.pkl\", \"wb\") as f:\n",
    "    pickle.dump(new_payloads, f)"
   ]
  },
  {
   "cell_type": "code",
   "execution_count": 20,
   "id": "97a6e5da-7094-4fc1-9ef7-8e2782a7a3ee",
   "metadata": {},
   "outputs": [],
   "source": [
    "import pickle\n",
    "with open(\"tests/shared/parsed_payload.pkl\", \"rb\") as f:\n",
    "    p = pickle.load(f)"
   ]
  },
  {
   "cell_type": "code",
   "execution_count": 21,
   "id": "b4626108-b497-4432-a22c-6c5c7cac8e55",
   "metadata": {},
   "outputs": [],
   "source": [
    "with open(f'notebooks/sample/wm_address_in_payload_format_2_input_3_match_records.json', 'r') as file:\n",
    "    payload = json.loads(file.read())\n",
    "\n",
    "payload_json = {key: payload[key] for key in sorted(payload)}\n",
    "payload_json = PayloadLoader().load_payload_from_json(payload_json)\n",
    "\n",
    "\n",
    "\n",
    "payload_json['match_ids'] = [i for i in range(len(payload_json[\"watchlistParty\"][\"matchRecords\"]))]\n"
   ]
  },
  {
   "cell_type": "code",
   "execution_count": 22,
   "id": "8fa1acc0-0f85-4740-a8c0-b5a54eb927b5",
   "metadata": {},
   "outputs": [],
   "source": [
    "payload = payload_json"
   ]
  },
  {
   "cell_type": "code",
   "execution_count": 23,
   "id": "353e29cb-435d-44aa-9a3f-8e4c27f23888",
   "metadata": {},
   "outputs": [
    {
     "name": "stdout",
     "output_type": "stream",
     "text": [
      "2022-04-14 09:25:48,805 — main.extractor — ERROR — wrap:17 — extract_wl_data_by_path() missing 1 required positional argument: 'field2'\n",
      "2022-04-14 09:25:48,808 — main.extractor — ERROR — wrap:17 — extract_wl_data_by_path() missing 1 required positional argument: 'field2'\n",
      "2022-04-14 09:25:48,811 — main.extractor — ERROR — wrap:17 — extract_wl_data_by_path() missing 1 required positional argument: 'field2'\n"
     ]
    }
   ],
   "source": [
    "payload = pipeline.transform_standardized_to_cleansed(payload)"
   ]
  },
  {
   "cell_type": "code",
   "execution_count": 24,
   "id": "e5d4114d-492e-4410-a41c-dfc04fe87a69",
   "metadata": {},
   "outputs": [
    {
     "name": "stdout",
     "output_type": "stream",
     "text": [
      "2022-04-14 09:25:48,997 — main.engine — WARNING — merge_to_target_col_from_source_cols_sql_expression:235 — No field in payload named: hit_type_agent_country. Ignore for HIT TYPE AGENT\n",
      "2022-04-14 09:25:48,998 — main.engine — WARNING — merge_to_target_col_from_source_cols_sql_expression:235 — No field in payload named: hit_type_agent_job. Ignore for HIT TYPE AGENT\n",
      "2022-04-14 09:25:48,998 — main.engine — WARNING — merge_to_target_col_from_source_cols_sql_expression:235 — No field in payload named: hit_type_agent_other. Ignore for HIT TYPE AGENT\n",
      "2022-04-14 09:25:48,999 — main.engine — WARNING — merge_to_target_col_from_source_cols_sql_expression:235 — No field in payload named: hit_type_agent_country. Ignore for HIT TYPE AGENT\n",
      "2022-04-14 09:25:48,999 — main.engine — WARNING — merge_to_target_col_from_source_cols_sql_expression:235 — No field in payload named: hit_type_agent_job. Ignore for HIT TYPE AGENT\n",
      "2022-04-14 09:25:48,999 — main.engine — WARNING — merge_to_target_col_from_source_cols_sql_expression:235 — No field in payload named: hit_type_agent_other. Ignore for HIT TYPE AGENT\n",
      "2022-04-14 09:25:49,007 — main.engine — WARNING — merge_to_target_col_from_source_cols_sql_expression:235 — No field in payload named: hit_type_agent_country. Ignore for HIT TYPE AGENT\n",
      "2022-04-14 09:25:49,008 — main.engine — WARNING — merge_to_target_col_from_source_cols_sql_expression:235 — No field in payload named: hit_type_agent_job. Ignore for HIT TYPE AGENT\n",
      "2022-04-14 09:25:49,008 — main.engine — WARNING — merge_to_target_col_from_source_cols_sql_expression:235 — No field in payload named: hit_type_agent_other. Ignore for HIT TYPE AGENT\n",
      "2022-04-14 09:25:49,009 — main.engine — WARNING — merge_to_target_col_from_source_cols_sql_expression:235 — No field in payload named: hit_type_agent_country. Ignore for HIT TYPE AGENT\n",
      "2022-04-14 09:25:49,009 — main.engine — WARNING — merge_to_target_col_from_source_cols_sql_expression:235 — No field in payload named: hit_type_agent_job. Ignore for HIT TYPE AGENT\n",
      "2022-04-14 09:25:49,009 — main.engine — WARNING — merge_to_target_col_from_source_cols_sql_expression:235 — No field in payload named: hit_type_agent_other. Ignore for HIT TYPE AGENT\n",
      "2022-04-14 09:25:49,017 — main.engine — WARNING — merge_to_target_col_from_source_cols_sql_expression:235 — No field in payload named: hit_type_agent_country. Ignore for HIT TYPE AGENT\n",
      "2022-04-14 09:25:49,018 — main.engine — WARNING — merge_to_target_col_from_source_cols_sql_expression:235 — No field in payload named: hit_type_agent_job. Ignore for HIT TYPE AGENT\n",
      "2022-04-14 09:25:49,018 — main.engine — WARNING — merge_to_target_col_from_source_cols_sql_expression:235 — No field in payload named: hit_type_agent_other. Ignore for HIT TYPE AGENT\n",
      "2022-04-14 09:25:49,018 — main.engine — WARNING — merge_to_target_col_from_source_cols_sql_expression:235 — No field in payload named: hit_type_agent_country. Ignore for HIT TYPE AGENT\n",
      "2022-04-14 09:25:49,019 — main.engine — WARNING — merge_to_target_col_from_source_cols_sql_expression:235 — No field in payload named: hit_type_agent_job. Ignore for HIT TYPE AGENT\n",
      "2022-04-14 09:25:49,019 — main.engine — WARNING — merge_to_target_col_from_source_cols_sql_expression:235 — No field in payload named: hit_type_agent_other. Ignore for HIT TYPE AGENT\n"
     ]
    }
   ],
   "source": [
    "new_payloads = pipeline.transform_cleansed_to_application(payload)"
   ]
  },
  {
   "cell_type": "code",
   "execution_count": 25,
   "id": "06c6ce79-99c7-419c-a32d-3c0eb906c334",
   "metadata": {},
   "outputs": [
    {
     "data": {
      "text/html": [
       "<div>\n",
       "<style scoped>\n",
       "    .dataframe tbody tr th:only-of-type {\n",
       "        vertical-align: middle;\n",
       "    }\n",
       "\n",
       "    .dataframe tbody tr th {\n",
       "        vertical-align: top;\n",
       "    }\n",
       "\n",
       "    .dataframe thead th {\n",
       "        text-align: right;\n",
       "    }\n",
       "</style>\n",
       "<table border=\"1\" class=\"dataframe\">\n",
       "  <thead>\n",
       "    <tr style=\"text-align: right;\">\n",
       "      <th></th>\n",
       "      <th>ap_all_dobs_aggregated</th>\n",
       "      <th>wl_all_dobs_aggregated</th>\n",
       "      <th>ap_all_documents_aggregated</th>\n",
       "      <th>wl_all_documents_aggregated</th>\n",
       "      <th>ap_all_company_names_aggregated</th>\n",
       "      <th>wl_all_company_names_aggregated</th>\n",
       "      <th>ap_all_names_aggregated</th>\n",
       "      <th>wl_all_names_aggregated</th>\n",
       "      <th>ap_all_employer_names_aggregated</th>\n",
       "      <th>wl_all_employer_names_aggregated</th>\n",
       "      <th>...</th>\n",
       "      <th>wl_all_hit_types_aggregated</th>\n",
       "      <th>ap_all_matched_tokens_tp_markeds_aggregated</th>\n",
       "      <th>wl_all_matched_tokens_tp_markeds_aggregated</th>\n",
       "      <th>ap_all_ap_name_tp_markeds_aggregated</th>\n",
       "      <th>wl_all_ap_name_tp_markeds_aggregated</th>\n",
       "      <th>ap_all_ap_id_tp_markeds_aggregated</th>\n",
       "      <th>wl_all_ap_id_tp_markeds_aggregated</th>\n",
       "      <th>ap_all_is_entity_matchs_aggregated</th>\n",
       "      <th>wl_all_is_entity_matchs_aggregated</th>\n",
       "      <th>all_hit_type_aggregated</th>\n",
       "    </tr>\n",
       "  </thead>\n",
       "  <tbody>\n",
       "    <tr>\n",
       "      <th>0</th>\n",
       "      <td>[02/31/1900, 04/31/1910]</td>\n",
       "      <td>[MAY 6, 1981]</td>\n",
       "      <td>[154421273, 022368917]</td>\n",
       "      <td>[]</td>\n",
       "      <td>[Pladimir Vutin, Eva Pladimirova]</td>\n",
       "      <td>[Joe Ding]</td>\n",
       "      <td>[Pladimir Vutin, Eva Pladimirova]</td>\n",
       "      <td>[Joe Ding]</td>\n",
       "      <td>[]</td>\n",
       "      <td>[Joe Ding]</td>\n",
       "      <td>...</td>\n",
       "      <td>[]</td>\n",
       "      <td>[]</td>\n",
       "      <td>[]</td>\n",
       "      <td>[]</td>\n",
       "      <td>[]</td>\n",
       "      <td>[]</td>\n",
       "      <td>[]</td>\n",
       "      <td>[I]</td>\n",
       "      <td>[I]</td>\n",
       "      <td>[{'name': [], 'country': ['ADDRESS1_COUNTRY'],...</td>\n",
       "    </tr>\n",
       "    <tr>\n",
       "      <th>1</th>\n",
       "      <td>[02/31/1900, 04/31/1910]</td>\n",
       "      <td>[MAY 6, 1981]</td>\n",
       "      <td>[154421273, 022368917]</td>\n",
       "      <td>[]</td>\n",
       "      <td>[Pladimir Vutin, Eva Pladimirova]</td>\n",
       "      <td>[Joe Ding]</td>\n",
       "      <td>[Pladimir Vutin, Eva Pladimirova]</td>\n",
       "      <td>[Joe Ding]</td>\n",
       "      <td>[]</td>\n",
       "      <td>[Joe Ding]</td>\n",
       "      <td>...</td>\n",
       "      <td>[]</td>\n",
       "      <td>[]</td>\n",
       "      <td>[]</td>\n",
       "      <td>[]</td>\n",
       "      <td>[]</td>\n",
       "      <td>[]</td>\n",
       "      <td>[]</td>\n",
       "      <td>[I]</td>\n",
       "      <td>[I]</td>\n",
       "      <td>[{'name': [], 'country': ['ADDRESS1_COUNTRY'],...</td>\n",
       "    </tr>\n",
       "    <tr>\n",
       "      <th>2</th>\n",
       "      <td>[02/31/1900, 04/31/1910]</td>\n",
       "      <td>[MAY 6, 1981]</td>\n",
       "      <td>[154421273, 022368917]</td>\n",
       "      <td>[]</td>\n",
       "      <td>[Pladimir Vutin, Eva Pladimirova]</td>\n",
       "      <td>[Joe Dong]</td>\n",
       "      <td>[Pladimir Vutin, Eva Pladimirova]</td>\n",
       "      <td>[Joe Dong]</td>\n",
       "      <td>[]</td>\n",
       "      <td>[Joe Dong]</td>\n",
       "      <td>...</td>\n",
       "      <td>[]</td>\n",
       "      <td>[]</td>\n",
       "      <td>[]</td>\n",
       "      <td>[]</td>\n",
       "      <td>[]</td>\n",
       "      <td>[]</td>\n",
       "      <td>[]</td>\n",
       "      <td>[I]</td>\n",
       "      <td>[I]</td>\n",
       "      <td>[{'name': [], 'country': ['ADDRESS1_COUNTRY'],...</td>\n",
       "    </tr>\n",
       "  </tbody>\n",
       "</table>\n",
       "<p>3 rows × 31 columns</p>\n",
       "</div>"
      ],
      "text/plain": [
       "     ap_all_dobs_aggregated wl_all_dobs_aggregated  \\\n",
       "0  [02/31/1900, 04/31/1910]          [MAY 6, 1981]   \n",
       "1  [02/31/1900, 04/31/1910]          [MAY 6, 1981]   \n",
       "2  [02/31/1900, 04/31/1910]          [MAY 6, 1981]   \n",
       "\n",
       "  ap_all_documents_aggregated wl_all_documents_aggregated  \\\n",
       "0      [154421273, 022368917]                          []   \n",
       "1      [154421273, 022368917]                          []   \n",
       "2      [154421273, 022368917]                          []   \n",
       "\n",
       "     ap_all_company_names_aggregated wl_all_company_names_aggregated  \\\n",
       "0  [Pladimir Vutin, Eva Pladimirova]                      [Joe Ding]   \n",
       "1  [Pladimir Vutin, Eva Pladimirova]                      [Joe Ding]   \n",
       "2  [Pladimir Vutin, Eva Pladimirova]                      [Joe Dong]   \n",
       "\n",
       "             ap_all_names_aggregated wl_all_names_aggregated  \\\n",
       "0  [Pladimir Vutin, Eva Pladimirova]              [Joe Ding]   \n",
       "1  [Pladimir Vutin, Eva Pladimirova]              [Joe Ding]   \n",
       "2  [Pladimir Vutin, Eva Pladimirova]              [Joe Dong]   \n",
       "\n",
       "  ap_all_employer_names_aggregated wl_all_employer_names_aggregated  ...  \\\n",
       "0                               []                       [Joe Ding]  ...   \n",
       "1                               []                       [Joe Ding]  ...   \n",
       "2                               []                       [Joe Dong]  ...   \n",
       "\n",
       "  wl_all_hit_types_aggregated ap_all_matched_tokens_tp_markeds_aggregated  \\\n",
       "0                          []                                          []   \n",
       "1                          []                                          []   \n",
       "2                          []                                          []   \n",
       "\n",
       "  wl_all_matched_tokens_tp_markeds_aggregated  \\\n",
       "0                                          []   \n",
       "1                                          []   \n",
       "2                                          []   \n",
       "\n",
       "  ap_all_ap_name_tp_markeds_aggregated wl_all_ap_name_tp_markeds_aggregated  \\\n",
       "0                                   []                                   []   \n",
       "1                                   []                                   []   \n",
       "2                                   []                                   []   \n",
       "\n",
       "  ap_all_ap_id_tp_markeds_aggregated wl_all_ap_id_tp_markeds_aggregated  \\\n",
       "0                                 []                                 []   \n",
       "1                                 []                                 []   \n",
       "2                                 []                                 []   \n",
       "\n",
       "  ap_all_is_entity_matchs_aggregated wl_all_is_entity_matchs_aggregated  \\\n",
       "0                                [I]                                [I]   \n",
       "1                                [I]                                [I]   \n",
       "2                                [I]                                [I]   \n",
       "\n",
       "                             all_hit_type_aggregated  \n",
       "0  [{'name': [], 'country': ['ADDRESS1_COUNTRY'],...  \n",
       "1  [{'name': [], 'country': ['ADDRESS1_COUNTRY'],...  \n",
       "2  [{'name': [], 'country': ['ADDRESS1_COUNTRY'],...  \n",
       "\n",
       "[3 rows x 31 columns]"
      ]
     },
     "execution_count": 25,
     "metadata": {},
     "output_type": "execute_result"
    }
   ],
   "source": [
    "import pandas as pd\n",
    "out_payload = pd.DataFrame([match for payload in new_payloads   for match in payload['watchlistParty']['matchRecords']])\n",
    "\n",
    "out_payload[[i for i in out_payload.columns  if i.endswith(\"_aggregated\")]]"
   ]
  },
  {
   "cell_type": "code",
   "execution_count": 26,
   "id": "5f1424fb-043b-4b80-b922-7678b2765260",
   "metadata": {},
   "outputs": [
    {
     "name": "stdout",
     "output_type": "stream",
     "text": [
      "=====================\n",
      "PAYLOAD\n",
      "123\n",
      "0 match\n",
      "['02/31/1900', '04/31/1910'] ['MAY 6, 1981']\n",
      "['UNITED STATES OF AMERICA', 'United States'] ['US']\n",
      "=====================\n",
      "PAYLOAD\n",
      "122438659\n",
      "0 match\n",
      "['02/31/1900', '04/31/1910'] ['MAY 6, 1981']\n",
      "['UNITED STATES OF AMERICA', 'United States'] ['US']\n",
      "=====================\n",
      "PAYLOAD\n",
      "122438659\n",
      "0 match\n",
      "['02/31/1900', '04/31/1910'] ['MAY 6, 1981']\n",
      "['UNITED STATES OF AMERICA', 'United States'] ['PL', 'Poland']\n"
     ]
    }
   ],
   "source": [
    "for payload in new_payloads:\n",
    "    print('=====================')\n",
    "    print('PAYLOAD')\n",
    "    print(payload['alertedParty']['inputRecordHist']['inputRecords'][0]['versionId'])\n",
    "        \n",
    "    for num, match in enumerate(payload['watchlistParty']['matchRecords']):\n",
    "        assert (match['inputVersionId'] == payload['alertedParty']['inputRecordHist']['inputRecords'][0]['versionId'])\n",
    "        print(num, 'match')\n",
    "        print(match[\"ap_all_dobs_aggregated\"], match[\"wl_all_dobs_aggregated\"])\n",
    "        try:\n",
    "            print(match[\"ap_all_residencies_aggregated\"], match[\"wl_all_residencies_aggregated\"])\n",
    "        except:\n",
    "            break\n"
   ]
  },
  {
   "cell_type": "code",
   "execution_count": 27,
   "id": "ded97825-dd07-477b-8e88-8b2f6a64d22a",
   "metadata": {},
   "outputs": [],
   "source": [
    "import pickle\n",
    "with open(\"tests/shared/parsed_payload_2_payload.pkl\", \"wb\") as f:\n",
    "    pickle.dump(new_payloads, f)"
   ]
  },
  {
   "cell_type": "code",
   "execution_count": 28,
   "id": "79ea48ac-d227-414c-a898-afaa178bb544",
   "metadata": {},
   "outputs": [],
   "source": [
    "new_dict = {}\n",
    "def return_key(dict_, prefix):\n",
    "    \n",
    "    if isinstance(dict_, list):\n",
    "        for num, i in enumerate(dict_):\n",
    "            return_key(i, prefix +f\"[{num}]\")\n",
    "        return\n",
    "    if isinstance(dict_, str) or dict_ is None:\n",
    "        new_dict[prefix] = dict_\n",
    "        return\n",
    "\n",
    "    for key in dict_:\n",
    "        if prefix:\n",
    "            basic_prefix = prefix + \".\" + key\n",
    "        else:\n",
    "            basic_prefix = key\n",
    "        return_key(dict_[key], basic_prefix)"
   ]
  },
  {
   "cell_type": "code",
   "execution_count": 29,
   "id": "d69753eb",
   "metadata": {},
   "outputs": [],
   "source": [
    "with open(f'notebooks/sample/wm_party_payload_without_supplemental_info.json', 'r') as file:\n",
    "    payload = json.loads(file.read())\n",
    "\n",
    "payload_json = {key: payload[key] for key in sorted(payload)}\n",
    "payload_json = PayloadLoader().load_payload_from_json(payload_json)\n",
    "\n",
    "\n",
    "\n",
    "payload_json['match_ids'] = [i for i in range(len(payload_json[\"watchlistParty\"][\"matchRecords\"]))]\n"
   ]
  },
  {
   "cell_type": "code",
   "execution_count": 30,
   "id": "46e16414",
   "metadata": {},
   "outputs": [],
   "source": [
    "payload = payload_json"
   ]
  },
  {
   "cell_type": "code",
   "execution_count": 31,
   "id": "786c1f11",
   "metadata": {},
   "outputs": [
    {
     "name": "stdout",
     "output_type": "stream",
     "text": [
      "2022-04-14 09:25:50,388 — main.extractor — ERROR — wrap:17 — extract_wl_data_by_path() missing 1 required positional argument: 'field2'\n",
      "2022-04-14 09:25:50,398 — main.extractor — ERROR — wrap:17 — extract_wl_data_by_path() missing 1 required positional argument: 'field2'\n"
     ]
    }
   ],
   "source": [
    "payload = pipeline.transform_standardized_to_cleansed(payload)"
   ]
  },
  {
   "cell_type": "code",
   "execution_count": 32,
   "id": "d3ae8a11",
   "metadata": {},
   "outputs": [
    {
     "name": "stdout",
     "output_type": "stream",
     "text": [
      "2022-04-14 09:25:50,963 — main.engine — WARNING — merge_to_target_col_from_source_cols_sql_expression:235 — No field in payload named: hit_type_agent_country. Ignore for HIT TYPE AGENT\n",
      "2022-04-14 09:25:50,964 — main.engine — WARNING — merge_to_target_col_from_source_cols_sql_expression:235 — No field in payload named: hit_type_agent_job. Ignore for HIT TYPE AGENT\n",
      "2022-04-14 09:25:50,965 — main.engine — WARNING — merge_to_target_col_from_source_cols_sql_expression:235 — No field in payload named: hit_type_agent_other. Ignore for HIT TYPE AGENT\n",
      "2022-04-14 09:25:50,965 — main.engine — WARNING — merge_to_target_col_from_source_cols_sql_expression:235 — No field in payload named: hit_type_agent_country. Ignore for HIT TYPE AGENT\n",
      "2022-04-14 09:25:50,965 — main.engine — WARNING — merge_to_target_col_from_source_cols_sql_expression:235 — No field in payload named: hit_type_agent_job. Ignore for HIT TYPE AGENT\n",
      "2022-04-14 09:25:50,965 — main.engine — WARNING — merge_to_target_col_from_source_cols_sql_expression:235 — No field in payload named: hit_type_agent_other. Ignore for HIT TYPE AGENT\n",
      "2022-04-14 09:25:50,973 — main.engine — WARNING — merge_to_target_col_from_source_cols_sql_expression:235 — No field in payload named: hit_type_agent_country. Ignore for HIT TYPE AGENT\n",
      "2022-04-14 09:25:50,973 — main.engine — WARNING — merge_to_target_col_from_source_cols_sql_expression:235 — No field in payload named: hit_type_agent_job. Ignore for HIT TYPE AGENT\n",
      "2022-04-14 09:25:50,974 — main.engine — WARNING — merge_to_target_col_from_source_cols_sql_expression:235 — No field in payload named: hit_type_agent_other. Ignore for HIT TYPE AGENT\n",
      "2022-04-14 09:25:50,974 — main.engine — WARNING — merge_to_target_col_from_source_cols_sql_expression:235 — No field in payload named: hit_type_agent_country. Ignore for HIT TYPE AGENT\n",
      "2022-04-14 09:25:50,974 — main.engine — WARNING — merge_to_target_col_from_source_cols_sql_expression:235 — No field in payload named: hit_type_agent_job. Ignore for HIT TYPE AGENT\n",
      "2022-04-14 09:25:50,975 — main.engine — WARNING — merge_to_target_col_from_source_cols_sql_expression:235 — No field in payload named: hit_type_agent_other. Ignore for HIT TYPE AGENT\n"
     ]
    }
   ],
   "source": [
    "new_payloads = pipeline.transform_cleansed_to_application(payload)"
   ]
  },
  {
   "cell_type": "code",
   "execution_count": 33,
   "id": "cde9b622",
   "metadata": {},
   "outputs": [
    {
     "data": {
      "text/html": [
       "<div>\n",
       "<style scoped>\n",
       "    .dataframe tbody tr th:only-of-type {\n",
       "        vertical-align: middle;\n",
       "    }\n",
       "\n",
       "    .dataframe tbody tr th {\n",
       "        vertical-align: top;\n",
       "    }\n",
       "\n",
       "    .dataframe thead th {\n",
       "        text-align: right;\n",
       "    }\n",
       "</style>\n",
       "<table border=\"1\" class=\"dataframe\">\n",
       "  <thead>\n",
       "    <tr style=\"text-align: right;\">\n",
       "      <th></th>\n",
       "      <th>ap_all_dobs_aggregated</th>\n",
       "      <th>wl_all_dobs_aggregated</th>\n",
       "      <th>ap_all_documents_aggregated</th>\n",
       "      <th>wl_all_documents_aggregated</th>\n",
       "      <th>ap_all_company_names_aggregated</th>\n",
       "      <th>wl_all_company_names_aggregated</th>\n",
       "      <th>ap_all_names_aggregated</th>\n",
       "      <th>wl_all_names_aggregated</th>\n",
       "      <th>ap_all_employer_names_aggregated</th>\n",
       "      <th>wl_all_employer_names_aggregated</th>\n",
       "      <th>...</th>\n",
       "      <th>wl_all_hit_types_aggregated</th>\n",
       "      <th>ap_all_matched_tokens_tp_markeds_aggregated</th>\n",
       "      <th>wl_all_matched_tokens_tp_markeds_aggregated</th>\n",
       "      <th>ap_all_ap_name_tp_markeds_aggregated</th>\n",
       "      <th>wl_all_ap_name_tp_markeds_aggregated</th>\n",
       "      <th>ap_all_ap_id_tp_markeds_aggregated</th>\n",
       "      <th>wl_all_ap_id_tp_markeds_aggregated</th>\n",
       "      <th>ap_all_is_entity_matchs_aggregated</th>\n",
       "      <th>wl_all_is_entity_matchs_aggregated</th>\n",
       "      <th>all_hit_type_aggregated</th>\n",
       "    </tr>\n",
       "  </thead>\n",
       "  <tbody>\n",
       "    <tr>\n",
       "      <th>0</th>\n",
       "      <td>[]</td>\n",
       "      <td>[MAY 6, 1981]</td>\n",
       "      <td>[]</td>\n",
       "      <td>[]</td>\n",
       "      <td>[]</td>\n",
       "      <td>[Joe Ding]</td>\n",
       "      <td>[]</td>\n",
       "      <td>[Joe Ding]</td>\n",
       "      <td>[]</td>\n",
       "      <td>[Joe Ding]</td>\n",
       "      <td>...</td>\n",
       "      <td>[]</td>\n",
       "      <td>[]</td>\n",
       "      <td>[]</td>\n",
       "      <td>[]</td>\n",
       "      <td>[]</td>\n",
       "      <td>[]</td>\n",
       "      <td>[]</td>\n",
       "      <td>[C]</td>\n",
       "      <td>[I]</td>\n",
       "      <td>[{'name': [], 'country': ['ADDRESS1_COUNTRY'],...</td>\n",
       "    </tr>\n",
       "    <tr>\n",
       "      <th>1</th>\n",
       "      <td>[]</td>\n",
       "      <td>[MAY 6, 1981]</td>\n",
       "      <td>[]</td>\n",
       "      <td>[]</td>\n",
       "      <td>[]</td>\n",
       "      <td>[Joe Dong]</td>\n",
       "      <td>[]</td>\n",
       "      <td>[Joe Dong]</td>\n",
       "      <td>[]</td>\n",
       "      <td>[Joe Dong]</td>\n",
       "      <td>...</td>\n",
       "      <td>[]</td>\n",
       "      <td>[]</td>\n",
       "      <td>[]</td>\n",
       "      <td>[]</td>\n",
       "      <td>[]</td>\n",
       "      <td>[]</td>\n",
       "      <td>[]</td>\n",
       "      <td>[C]</td>\n",
       "      <td>[I]</td>\n",
       "      <td>[{'name': [], 'country': ['ADDRESS1_COUNTRY'],...</td>\n",
       "    </tr>\n",
       "  </tbody>\n",
       "</table>\n",
       "<p>2 rows × 31 columns</p>\n",
       "</div>"
      ],
      "text/plain": [
       "  ap_all_dobs_aggregated wl_all_dobs_aggregated ap_all_documents_aggregated  \\\n",
       "0                     []          [MAY 6, 1981]                          []   \n",
       "1                     []          [MAY 6, 1981]                          []   \n",
       "\n",
       "  wl_all_documents_aggregated ap_all_company_names_aggregated  \\\n",
       "0                          []                              []   \n",
       "1                          []                              []   \n",
       "\n",
       "  wl_all_company_names_aggregated ap_all_names_aggregated  \\\n",
       "0                      [Joe Ding]                      []   \n",
       "1                      [Joe Dong]                      []   \n",
       "\n",
       "  wl_all_names_aggregated ap_all_employer_names_aggregated  \\\n",
       "0              [Joe Ding]                               []   \n",
       "1              [Joe Dong]                               []   \n",
       "\n",
       "  wl_all_employer_names_aggregated  ... wl_all_hit_types_aggregated  \\\n",
       "0                       [Joe Ding]  ...                          []   \n",
       "1                       [Joe Dong]  ...                          []   \n",
       "\n",
       "  ap_all_matched_tokens_tp_markeds_aggregated  \\\n",
       "0                                          []   \n",
       "1                                          []   \n",
       "\n",
       "  wl_all_matched_tokens_tp_markeds_aggregated  \\\n",
       "0                                          []   \n",
       "1                                          []   \n",
       "\n",
       "  ap_all_ap_name_tp_markeds_aggregated wl_all_ap_name_tp_markeds_aggregated  \\\n",
       "0                                   []                                   []   \n",
       "1                                   []                                   []   \n",
       "\n",
       "  ap_all_ap_id_tp_markeds_aggregated wl_all_ap_id_tp_markeds_aggregated  \\\n",
       "0                                 []                                 []   \n",
       "1                                 []                                 []   \n",
       "\n",
       "  ap_all_is_entity_matchs_aggregated wl_all_is_entity_matchs_aggregated  \\\n",
       "0                                [C]                                [I]   \n",
       "1                                [C]                                [I]   \n",
       "\n",
       "                             all_hit_type_aggregated  \n",
       "0  [{'name': [], 'country': ['ADDRESS1_COUNTRY'],...  \n",
       "1  [{'name': [], 'country': ['ADDRESS1_COUNTRY'],...  \n",
       "\n",
       "[2 rows x 31 columns]"
      ]
     },
     "execution_count": 33,
     "metadata": {},
     "output_type": "execute_result"
    }
   ],
   "source": [
    "import pandas as pd\n",
    "out_payload = pd.DataFrame([match for payload in new_payloads   for match in payload['watchlistParty']['matchRecords']])\n",
    "\n",
    "out_payload[[i for i in out_payload.columns  if i.endswith(\"_aggregated\")]]"
   ]
  },
  {
   "cell_type": "code",
   "execution_count": 34,
   "id": "3fb34d9e",
   "metadata": {},
   "outputs": [
    {
     "name": "stdout",
     "output_type": "stream",
     "text": [
      "=====================\n",
      "PAYLOAD\n",
      "122438658\n",
      "0 match\n",
      "[] ['MAY 6, 1981']\n",
      "[] []\n",
      "=====================\n",
      "PAYLOAD\n",
      "122438659\n",
      "0 match\n",
      "[] ['MAY 6, 1981']\n",
      "[] ['PL', 'Poland']\n"
     ]
    }
   ],
   "source": [
    "for payload in new_payloads:\n",
    "    print('=====================')\n",
    "    print('PAYLOAD')\n",
    "    print(payload['alertedParty']['inputRecordHist']['inputRecords'][0]['versionId'])\n",
    "        \n",
    "    for num, match in enumerate(payload['watchlistParty']['matchRecords']):\n",
    "        assert (match['inputVersionId'] == payload['alertedParty']['inputRecordHist']['inputRecords'][0]['versionId'])\n",
    "        print(num, 'match')\n",
    "        print(match[\"ap_all_dobs_aggregated\"], match[\"wl_all_dobs_aggregated\"])\n",
    "        try:\n",
    "            print(match[\"ap_all_residencies_aggregated\"], match[\"wl_all_residencies_aggregated\"])\n",
    "        except:\n",
    "            break\n"
   ]
  },
  {
   "cell_type": "code",
   "execution_count": 35,
   "id": "6fbe02b0",
   "metadata": {},
   "outputs": [],
   "source": [
    "import pickle\n",
    "with open(\"tests/shared/empty_payload.pkl\", \"wb\") as f:\n",
    "    pickle.dump(new_payloads, f)"
   ]
  },
  {
   "cell_type": "code",
   "execution_count": 36,
   "id": "d52acf6e",
   "metadata": {},
   "outputs": [],
   "source": [
    "from etl_pipeline.config import load_agent_config"
   ]
  },
  {
   "cell_type": "code",
   "execution_count": 37,
   "id": "39a56709",
   "metadata": {},
   "outputs": [
    {
     "data": {
      "text/html": [
       "<div>\n",
       "<style scoped>\n",
       "    .dataframe tbody tr th:only-of-type {\n",
       "        vertical-align: middle;\n",
       "    }\n",
       "\n",
       "    .dataframe tbody tr th {\n",
       "        vertical-align: top;\n",
       "    }\n",
       "\n",
       "    .dataframe thead th {\n",
       "        text-align: right;\n",
       "    }\n",
       "</style>\n",
       "<table border=\"1\" class=\"dataframe\">\n",
       "  <thead>\n",
       "    <tr style=\"text-align: right;\">\n",
       "      <th></th>\n",
       "      <th>ap_all_dobs_aggregated</th>\n",
       "      <th>wl_all_dobs_aggregated</th>\n",
       "      <th>ap_all_documents_aggregated</th>\n",
       "      <th>wl_all_documents_aggregated</th>\n",
       "      <th>ap_all_company_names_aggregated</th>\n",
       "      <th>wl_all_company_names_aggregated</th>\n",
       "      <th>ap_all_names_aggregated</th>\n",
       "      <th>wl_all_names_aggregated</th>\n",
       "      <th>ap_all_employer_names_aggregated</th>\n",
       "      <th>wl_all_employer_names_aggregated</th>\n",
       "      <th>...</th>\n",
       "      <th>wl_all_hit_types_aggregated</th>\n",
       "      <th>ap_all_matched_tokens_tp_markeds_aggregated</th>\n",
       "      <th>wl_all_matched_tokens_tp_markeds_aggregated</th>\n",
       "      <th>ap_all_ap_name_tp_markeds_aggregated</th>\n",
       "      <th>wl_all_ap_name_tp_markeds_aggregated</th>\n",
       "      <th>ap_all_ap_id_tp_markeds_aggregated</th>\n",
       "      <th>wl_all_ap_id_tp_markeds_aggregated</th>\n",
       "      <th>ap_all_is_entity_matchs_aggregated</th>\n",
       "      <th>wl_all_is_entity_matchs_aggregated</th>\n",
       "      <th>all_hit_type_aggregated</th>\n",
       "    </tr>\n",
       "  </thead>\n",
       "  <tbody>\n",
       "    <tr>\n",
       "      <th>0</th>\n",
       "      <td>[]</td>\n",
       "      <td>[MAY 6, 1981]</td>\n",
       "      <td>[]</td>\n",
       "      <td>[]</td>\n",
       "      <td>[]</td>\n",
       "      <td>[Joe Ding]</td>\n",
       "      <td>[]</td>\n",
       "      <td>[Joe Ding]</td>\n",
       "      <td>[]</td>\n",
       "      <td>[Joe Ding]</td>\n",
       "      <td>...</td>\n",
       "      <td>[]</td>\n",
       "      <td>[]</td>\n",
       "      <td>[]</td>\n",
       "      <td>[]</td>\n",
       "      <td>[]</td>\n",
       "      <td>[]</td>\n",
       "      <td>[]</td>\n",
       "      <td>[C]</td>\n",
       "      <td>[I]</td>\n",
       "      <td>[{'name': [], 'country': ['ADDRESS1_COUNTRY'],...</td>\n",
       "    </tr>\n",
       "    <tr>\n",
       "      <th>1</th>\n",
       "      <td>[]</td>\n",
       "      <td>[MAY 6, 1981]</td>\n",
       "      <td>[]</td>\n",
       "      <td>[]</td>\n",
       "      <td>[]</td>\n",
       "      <td>[Joe Dong]</td>\n",
       "      <td>[]</td>\n",
       "      <td>[Joe Dong]</td>\n",
       "      <td>[]</td>\n",
       "      <td>[Joe Dong]</td>\n",
       "      <td>...</td>\n",
       "      <td>[]</td>\n",
       "      <td>[]</td>\n",
       "      <td>[]</td>\n",
       "      <td>[]</td>\n",
       "      <td>[]</td>\n",
       "      <td>[]</td>\n",
       "      <td>[]</td>\n",
       "      <td>[C]</td>\n",
       "      <td>[I]</td>\n",
       "      <td>[{'name': [], 'country': ['ADDRESS1_COUNTRY'],...</td>\n",
       "    </tr>\n",
       "  </tbody>\n",
       "</table>\n",
       "<p>2 rows × 31 columns</p>\n",
       "</div>"
      ],
      "text/plain": [
       "  ap_all_dobs_aggregated wl_all_dobs_aggregated ap_all_documents_aggregated  \\\n",
       "0                     []          [MAY 6, 1981]                          []   \n",
       "1                     []          [MAY 6, 1981]                          []   \n",
       "\n",
       "  wl_all_documents_aggregated ap_all_company_names_aggregated  \\\n",
       "0                          []                              []   \n",
       "1                          []                              []   \n",
       "\n",
       "  wl_all_company_names_aggregated ap_all_names_aggregated  \\\n",
       "0                      [Joe Ding]                      []   \n",
       "1                      [Joe Dong]                      []   \n",
       "\n",
       "  wl_all_names_aggregated ap_all_employer_names_aggregated  \\\n",
       "0              [Joe Ding]                               []   \n",
       "1              [Joe Dong]                               []   \n",
       "\n",
       "  wl_all_employer_names_aggregated  ... wl_all_hit_types_aggregated  \\\n",
       "0                       [Joe Ding]  ...                          []   \n",
       "1                       [Joe Dong]  ...                          []   \n",
       "\n",
       "  ap_all_matched_tokens_tp_markeds_aggregated  \\\n",
       "0                                          []   \n",
       "1                                          []   \n",
       "\n",
       "  wl_all_matched_tokens_tp_markeds_aggregated  \\\n",
       "0                                          []   \n",
       "1                                          []   \n",
       "\n",
       "  ap_all_ap_name_tp_markeds_aggregated wl_all_ap_name_tp_markeds_aggregated  \\\n",
       "0                                   []                                   []   \n",
       "1                                   []                                   []   \n",
       "\n",
       "  ap_all_ap_id_tp_markeds_aggregated wl_all_ap_id_tp_markeds_aggregated  \\\n",
       "0                                 []                                 []   \n",
       "1                                 []                                 []   \n",
       "\n",
       "  ap_all_is_entity_matchs_aggregated wl_all_is_entity_matchs_aggregated  \\\n",
       "0                                [C]                                [I]   \n",
       "1                                [C]                                [I]   \n",
       "\n",
       "                             all_hit_type_aggregated  \n",
       "0  [{'name': [], 'country': ['ADDRESS1_COUNTRY'],...  \n",
       "1  [{'name': [], 'country': ['ADDRESS1_COUNTRY'],...  \n",
       "\n",
       "[2 rows x 31 columns]"
      ]
     },
     "execution_count": 37,
     "metadata": {},
     "output_type": "execute_result"
    }
   ],
   "source": [
    "import pandas as pd\n",
    "out_payload = pd.DataFrame([match for payload in new_payloads   for match in payload['watchlistParty']['matchRecords']])\n",
    "\n",
    "out_payload[[i for i in out_payload.columns  if i.endswith(\"_aggregated\")]]"
   ]
  },
  {
   "cell_type": "code",
   "execution_count": 38,
   "id": "96d2557a",
   "metadata": {},
   "outputs": [
    {
     "ename": "NameError",
     "evalue": "name 'CONFIG_APP_DIR' is not defined",
     "output_type": "error",
     "traceback": [
      "\u001b[0;31m---------------------------------------------------------------------------\u001b[0m",
      "\u001b[0;31mNameError\u001b[0m                                 Traceback (most recent call last)",
      "\u001b[0;32m<ipython-input-38-765dbd779c37>\u001b[0m in \u001b[0;36m<module>\u001b[0;34m\u001b[0m\n\u001b[1;32m      1\u001b[0m \u001b[0;32mfrom\u001b[0m \u001b[0momegaconf\u001b[0m \u001b[0;32mimport\u001b[0m \u001b[0mOmegaConf\u001b[0m\u001b[0;34m\u001b[0m\u001b[0;34m\u001b[0m\u001b[0m\n\u001b[1;32m      2\u001b[0m alert_agents_config = {\n\u001b[0;32m----> 3\u001b[0;31m         \u001b[0;34m\"alert_type\"\u001b[0m\u001b[0;34m:\u001b[0m \u001b[0mOmegaConf\u001b[0m\u001b[0;34m.\u001b[0m\u001b[0mload\u001b[0m\u001b[0;34m(\u001b[0m\u001b[0mos\u001b[0m\u001b[0;34m.\u001b[0m\u001b[0mpath\u001b[0m\u001b[0;34m.\u001b[0m\u001b[0mjoin\u001b[0m\u001b[0;34m(\u001b[0m\u001b[0mCONFIG_APP_DIR\u001b[0m\u001b[0;34m,\u001b[0m \u001b[0;34m\"agents\"\u001b[0m\u001b[0;34m,\u001b[0m \u001b[0;34m\"agents.yaml\"\u001b[0m\u001b[0;34m)\u001b[0m\u001b[0;34m)\u001b[0m\u001b[0;34m\u001b[0m\u001b[0;34m\u001b[0m\u001b[0m\n\u001b[0m\u001b[1;32m      4\u001b[0m     }\n\u001b[1;32m      5\u001b[0m \u001b[0;34m\u001b[0m\u001b[0m\n",
      "\u001b[0;31mNameError\u001b[0m: name 'CONFIG_APP_DIR' is not defined"
     ]
    }
   ],
   "source": [
    "from omegaconf import OmegaConf\n",
    "alert_agents_config = {\n",
    "        \"alert_type\": OmegaConf.load(os.path.join(CONFIG_APP_DIR, \"agents\", \"agents.yaml\"))\n",
    "    }\n",
    "\n",
    "\n",
    "import omegaconf\n",
    "def get_fields(dict_):\n",
    "    fields = []\n",
    "    for key in dict_:\n",
    "        \n",
    "        if isinstance(dict_[key], omegaconf.dictconfig.DictConfig):\n",
    "            new_fields = get_fields(dict_[key])\n",
    "            fields.extend(new_fields)\n",
    "        else:\n",
    "#             import pdb; pdb.set_trace()\n",
    "            fields.extend(dict_[key])\n",
    "    return fields\n",
    "\n",
    "fields = [i.split('.')[-1] for i in get_fields(alert_agents_config['alert_type']) if \"alertedParty.inputRecordHist.inputRecords.INPUT_FIELD\" not in i]\n",
    "    \n",
    "    \n",
    "\n",
    "from glob import glob\n",
    "\n",
    "files = glob(\"pipelines/**/*.py\",  recursive=True)\n",
    "files.extend(glob(\"etl_pipeline/**/*.py\",  recursive=True))\n",
    "\n",
    "fields_to_check = list(fields)\n",
    "for file in files:\n",
    "    with open(file) as f:\n",
    "        text = f.read()\n",
    "    new_fields_to_check = []\n",
    "    \n",
    "    for field in fields_to_check:\n",
    "        if field in text:\n",
    "            continue\n",
    "        new_fields_to_check.append(field)\n",
    "    fields_to_check = new_fields_to_check\n",
    "        \n",
    "    \n",
    "\n",
    "fields_to_check\n",
    "\n",
    "CONFIG_APP_DIR = os.environ[\"CONFIG_APP_DIR\"] "
   ]
  },
  {
   "cell_type": "code",
   "execution_count": null,
   "id": "cb3989b9",
   "metadata": {},
   "outputs": [],
   "source": []
  }
 ],
 "metadata": {
  "kernelspec": {
   "display_name": "Python 3",
   "language": "python",
   "name": "python3"
  },
  "language_info": {
   "codemirror_mode": {
    "name": "ipython",
    "version": 3
   },
   "file_extension": ".py",
   "mimetype": "text/x-python",
   "name": "python",
   "nbconvert_exporter": "python",
   "pygments_lexer": "ipython3",
   "version": "3.6.13"
  }
 },
 "nbformat": 4,
 "nbformat_minor": 5
}
