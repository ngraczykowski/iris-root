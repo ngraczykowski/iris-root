{
 "cells": [
  {
   "cell_type": "code",
   "execution_count": 1,
   "id": "3bd69b4c-19cf-48f7-a810-a4890e66302f",
   "metadata": {
    "tags": []
   },
   "outputs": [],
   "source": [
    "import os\n",
    "\n",
    "os.environ[\"CONFIG_APP_DIR\"] = \"config\"\n"
   ]
  },
  {
   "cell_type": "code",
   "execution_count": null,
   "id": "7b9e3f93",
   "metadata": {},
   "outputs": [],
   "source": []
  },
  {
   "cell_type": "code",
   "execution_count": 2,
   "id": "3c549e53",
   "metadata": {},
   "outputs": [
    {
     "name": "stderr",
     "output_type": "stream",
     "text": [
      "/env/ds/anaconda/envs/pipeline/lib/python3.6/site-packages/fuzzywuzzy/fuzz.py:11: UserWarning: Using slow pure-python SequenceMatcher. Install python-Levenshtein to remove this warning\n",
      "  warnings.warn('Using slow pure-python SequenceMatcher. Install python-Levenshtein to remove this warning')\n"
     ]
    }
   ],
   "source": [
    "import sys\n",
    "import os\n",
    "import pickle\n",
    "os.chdir(\"..\")\n",
    "from omegaconf import OmegaConf\n",
    "\n",
    "import json\n",
    "from etl_pipeline.data_processor_engine.json_engine.json_engine import JsonProcessingEngine\n",
    "from etl_pipeline.custom.ms.payload_loader import PayloadLoader"
   ]
  },
  {
   "cell_type": "code",
   "execution_count": 3,
   "id": "522650c7-af7a-4824-8d36-bf62f558577d",
   "metadata": {},
   "outputs": [],
   "source": [
    "from etl_pipeline.config import pipeline_config\n",
    "cn = pipeline_config.cn"
   ]
  },
  {
   "cell_type": "code",
   "execution_count": 4,
   "id": "565d811d",
   "metadata": {},
   "outputs": [],
   "source": [
    "# alert = load_alert()"
   ]
  },
  {
   "cell_type": "code",
   "execution_count": 5,
   "id": "c804420b-9569-449e-99b4-8d707bc9b956",
   "metadata": {
    "tags": []
   },
   "outputs": [],
   "source": [
    "# payload = load_alert()\n"
   ]
  },
  {
   "cell_type": "markdown",
   "id": "82153271-8b29-42f9-9ca8-4d3f7ba2b721",
   "metadata": {},
   "source": [
    "# Definition"
   ]
  },
  {
   "cell_type": "code",
   "execution_count": 6,
   "id": "f813cf33-f0e2-48d6-92ff-3163cf5db3f2",
   "metadata": {},
   "outputs": [],
   "source": [
    "from pipelines.ms.ms_pipeline import MSPipeline\n",
    "from etl_pipeline.config import pipeline_config\n"
   ]
  },
  {
   "cell_type": "code",
   "execution_count": 7,
   "id": "79452b2e",
   "metadata": {},
   "outputs": [],
   "source": [
    "from pipelines.ms.ms_pipeline import MSPipeline\n",
    "from etl_pipeline.config import pipeline_config\n"
   ]
  },
  {
   "cell_type": "code",
   "execution_count": 8,
   "id": "d87f82a7",
   "metadata": {},
   "outputs": [],
   "source": [
    "with open(f'notebooks/sample/wm_address_in_payload_format.json', 'r') as file:\n",
    "    payload = json.loads(file.read())\n",
    "\n",
    "payload_json = {key: payload[key] for key in sorted(payload)}\n",
    "payload_json = PayloadLoader().load_payload_from_json(payload_json)\n",
    "payload_json['match_ids'] = [i for i in range(len(payload_json[\"watchlistParty\"][\"matchRecords\"]))]\n"
   ]
  },
  {
   "cell_type": "code",
   "execution_count": null,
   "id": "1945f7c8",
   "metadata": {},
   "outputs": [],
   "source": []
  },
  {
   "cell_type": "code",
   "execution_count": 9,
   "id": "efa7b83b",
   "metadata": {},
   "outputs": [],
   "source": [
    "from etl_pipeline.config import load_agent_configs, pipeline_config"
   ]
  },
  {
   "cell_type": "code",
   "execution_count": 10,
   "id": "6919f091",
   "metadata": {},
   "outputs": [],
   "source": [
    "payload = payload_json"
   ]
  },
  {
   "cell_type": "code",
   "execution_count": 11,
   "id": "f7f577ad",
   "metadata": {},
   "outputs": [
    {
     "name": "stderr",
     "output_type": "stream",
     "text": [
      "Field in agent configuration for: COUNTRY_CODE is not registered field in pipeline.yaml\n",
      "Field in agent configuration for: PARTY1_COUNTRY1_CITIZENSHIP is not registered field in pipeline.yaml\n",
      "Field in agent configuration for: PARTY1_COUNTRY_CITIZENSHIP1 is not registered field in pipeline.yaml\n",
      "Field in agent configuration for: PARTY1_COUNTRY1_CITIZENSHIP is not registered field in pipeline.yaml\n",
      "Field in agent configuration for: PARTY1_COUNTRY_CITIZENSHIP1 is not registered field in pipeline.yaml\n",
      "Field in agent configuration for: COUNTRY_CODE is not registered field in pipeline.yaml\n",
      "Field in agent configuration for: PARTY1_COUNTRY1_CITIZENSHIP is not registered field in pipeline.yaml\n",
      "Field in agent configuration for: PARTY1_COUNTRY_CITIZENSHIP1 is not registered field in pipeline.yaml\n",
      "Field in agent configuration for: COUNTRY_CODE is not registered field in pipeline.yaml\n",
      "Field in agent configuration for: TOKENS_RISK_CARRIER is not registered field in pipeline.yaml\n",
      "Field in agent configuration for: AP_PARTY_TYPE is not registered field in pipeline.yaml\n"
     ]
    }
   ],
   "source": [
    "engine = JsonProcessingEngine(pipeline_config)\n",
    "pipeline = MSPipeline(engine, config=pipeline_config)"
   ]
  },
  {
   "cell_type": "markdown",
   "id": "461ec261",
   "metadata": {},
   "source": [
    "## transform standardized to cleansed"
   ]
  },
  {
   "cell_type": "code",
   "execution_count": 12,
   "id": "708f2e04",
   "metadata": {},
   "outputs": [],
   "source": [
    "payload = pipeline.transform_standardized_to_cleansed(payload)"
   ]
  },
  {
   "cell_type": "markdown",
   "id": "6440780c",
   "metadata": {},
   "source": [
    "ALL_CONNECTED_ACCOUNT_NAMES# Transform standardized to application"
   ]
  },
  {
   "cell_type": "code",
   "execution_count": 13,
   "id": "3d6c3bf5",
   "metadata": {},
   "outputs": [],
   "source": [
    "new_payloads = pipeline.transform_cleansed_to_application(payload)"
   ]
  },
  {
   "cell_type": "markdown",
   "id": "9b04a553",
   "metadata": {
    "tags": []
   },
   "source": [
    "### payload"
   ]
  },
  {
   "cell_type": "code",
   "execution_count": 14,
   "id": "3448cd32",
   "metadata": {},
   "outputs": [
    {
     "data": {
      "text/plain": [
       "2"
      ]
     },
     "execution_count": 14,
     "metadata": {},
     "output_type": "execute_result"
    }
   ],
   "source": [
    "len(new_payloads)"
   ]
  },
  {
   "cell_type": "code",
   "execution_count": 15,
   "id": "53eeb51a",
   "metadata": {
    "scrolled": true
   },
   "outputs": [
    {
     "data": {
      "text/plain": [
       "0    {'Doe': {'ADDRESS1_LINE2': ['Jane Doe AA BBB']...\n",
       "1    {'Doe': {'ADDRESS1_LINE2': ['Jane Doe AA BBB']...\n",
       "Name: AP_TRIGGERS, dtype: object"
      ]
     },
     "execution_count": 15,
     "metadata": {},
     "output_type": "execute_result"
    }
   ],
   "source": [
    "import pandas as pd\n",
    "out_payload = pd.DataFrame([match for payload in new_payloads   for match in payload['watchlistParty']['matchRecords']])\n",
    "\n",
    "out_payload['AP_TRIGGERS']"
   ]
  },
  {
   "cell_type": "code",
   "execution_count": 16,
   "id": "1112ace1",
   "metadata": {},
   "outputs": [
    {
     "data": {
      "text/plain": [
       "array([['Doe'],\n",
       "       ['Doe']], dtype=object)"
      ]
     },
     "execution_count": 16,
     "metadata": {},
     "output_type": "execute_result"
    }
   ],
   "source": [
    "out_payload[[i for i in out_payload.columns if \"CARRIER\" in i ]].values"
   ]
  },
  {
   "cell_type": "code",
   "execution_count": 17,
   "id": "20af8fd7",
   "metadata": {},
   "outputs": [
    {
     "name": "stdout",
     "output_type": "stream",
     "text": [
      "=====================\n",
      "PAYLOAD\n",
      "122438658\n",
      "0 match\n",
      "['02/31/1900', '04/31/1910'] ['MAY 6, 1981']\n",
      "['United States', 'UNITED STATES OF AMERICA'] ['US', 'United States of America']\n",
      "=====================\n",
      "PAYLOAD\n",
      "122438659\n",
      "0 match\n",
      "['02/31/1900', '04/31/1910'] ['MAY 6, 1981']\n",
      "['United States', 'UNITED STATES OF AMERICA'] ['Poland', 'PL']\n"
     ]
    }
   ],
   "source": [
    "for payload in new_payloads:\n",
    "    print('=====================')\n",
    "    print('PAYLOAD')\n",
    "    print(payload['alertedParty']['inputRecordHist']['inputRecords'][0]['versionId'])\n",
    "        \n",
    "    for num, match in enumerate(payload['watchlistParty']['matchRecords']):\n",
    "        assert (match['inputVersionId'] == payload['alertedParty']['inputRecordHist']['inputRecords'][0]['versionId'])\n",
    "        print(num, 'match')\n",
    "        print(match[\"ap_all_dobs_aggregated\"], match[\"wl_all_dobs_aggregated\"])\n",
    "        try:\n",
    "            print(match[\"ap_all_residencies_aggregated\"], match[\"wl_all_residencies_aggregated\"])\n",
    "        except:\n",
    "            break\n"
   ]
  },
  {
   "cell_type": "code",
   "execution_count": 18,
   "id": "cc46805a",
   "metadata": {},
   "outputs": [
    {
     "data": {
      "text/html": [
       "<div>\n",
       "<style scoped>\n",
       "    .dataframe tbody tr th:only-of-type {\n",
       "        vertical-align: middle;\n",
       "    }\n",
       "\n",
       "    .dataframe tbody tr th {\n",
       "        vertical-align: top;\n",
       "    }\n",
       "\n",
       "    .dataframe thead th {\n",
       "        text-align: right;\n",
       "    }\n",
       "</style>\n",
       "<table border=\"1\" class=\"dataframe\">\n",
       "  <thead>\n",
       "    <tr style=\"text-align: right;\">\n",
       "      <th></th>\n",
       "      <th>ap_all_hit_types_aggregated</th>\n",
       "      <th>wl_all_hit_types_aggregated</th>\n",
       "      <th>all_hit_type_aggregated</th>\n",
       "    </tr>\n",
       "  </thead>\n",
       "  <tbody>\n",
       "    <tr>\n",
       "      <th>0</th>\n",
       "      <td>[Joe BlackJ, Janusz]</td>\n",
       "      <td>[Joe BlackJ, Janusz]</td>\n",
       "      <td>[{'name': ['PARTY1_NAME_FULL', 'CONCAT_NAME'],...</td>\n",
       "    </tr>\n",
       "    <tr>\n",
       "      <th>1</th>\n",
       "      <td>[]</td>\n",
       "      <td>[]</td>\n",
       "      <td>[{'name': [], 'country': ['ADDRESS1_COUNTRY'],...</td>\n",
       "    </tr>\n",
       "  </tbody>\n",
       "</table>\n",
       "</div>"
      ],
      "text/plain": [
       "  ap_all_hit_types_aggregated wl_all_hit_types_aggregated  \\\n",
       "0        [Joe BlackJ, Janusz]        [Joe BlackJ, Janusz]   \n",
       "1                          []                          []   \n",
       "\n",
       "                             all_hit_type_aggregated  \n",
       "0  [{'name': ['PARTY1_NAME_FULL', 'CONCAT_NAME'],...  \n",
       "1  [{'name': [], 'country': ['ADDRESS1_COUNTRY'],...  "
      ]
     },
     "execution_count": 18,
     "metadata": {},
     "output_type": "execute_result"
    }
   ],
   "source": [
    "out_payload[[i for i in out_payload.columns if \"hit\" in i and \"agg\" in i]]"
   ]
  },
  {
   "cell_type": "code",
   "execution_count": 19,
   "id": "237da749",
   "metadata": {},
   "outputs": [],
   "source": [
    "import pickle\n",
    "with open(\"tests/shared/parsed_payload.pkl\", \"wb\") as f:\n",
    "    pickle.dump(new_payloads, f)"
   ]
  },
  {
   "cell_type": "code",
   "execution_count": 20,
   "id": "d20eba4e-fa6b-462b-a548-d8c9bbc255d0",
   "metadata": {},
   "outputs": [],
   "source": [
    "with open(f'notebooks/sample/big_fat_flat_payload.json', 'r') as file:\n",
    "    payload = json.loads(file.read())\n",
    "\n",
    "payload_json = {key: payload[key] for key in sorted(payload)}\n",
    "payload_json = PayloadLoader().load_payload_from_json(payload_json)\n",
    "payload_json['match_ids'] = [i for i in range(len(payload_json[\"watchlistParty\"][\"matchRecords\"]))]\n"
   ]
  },
  {
   "cell_type": "code",
   "execution_count": null,
   "id": "208efc82",
   "metadata": {},
   "outputs": [],
   "source": []
  },
  {
   "cell_type": "code",
   "execution_count": 21,
   "id": "409b615c-769f-4159-9ab4-019fb87cd547",
   "metadata": {},
   "outputs": [],
   "source": [
    "from etl_pipeline.config import load_agent_configs, pipeline_config"
   ]
  },
  {
   "cell_type": "code",
   "execution_count": 22,
   "id": "402fa313-0b7e-4c66-8d2a-a2801dd1494a",
   "metadata": {},
   "outputs": [],
   "source": [
    "payload = payload_json"
   ]
  },
  {
   "cell_type": "code",
   "execution_count": 23,
   "id": "9ec7eeee",
   "metadata": {},
   "outputs": [
    {
     "name": "stderr",
     "output_type": "stream",
     "text": [
      "Field in agent configuration for: COUNTRY_CODE is not registered field in pipeline.yaml\n",
      "Field in agent configuration for: PARTY1_COUNTRY1_CITIZENSHIP is not registered field in pipeline.yaml\n",
      "Field in agent configuration for: PARTY1_COUNTRY_CITIZENSHIP1 is not registered field in pipeline.yaml\n",
      "Field in agent configuration for: PARTY1_COUNTRY1_CITIZENSHIP is not registered field in pipeline.yaml\n",
      "Field in agent configuration for: PARTY1_COUNTRY_CITIZENSHIP1 is not registered field in pipeline.yaml\n",
      "Field in agent configuration for: COUNTRY_CODE is not registered field in pipeline.yaml\n",
      "Field in agent configuration for: PARTY1_COUNTRY1_CITIZENSHIP is not registered field in pipeline.yaml\n",
      "Field in agent configuration for: PARTY1_COUNTRY_CITIZENSHIP1 is not registered field in pipeline.yaml\n",
      "Field in agent configuration for: COUNTRY_CODE is not registered field in pipeline.yaml\n",
      "Field in agent configuration for: TOKENS_RISK_CARRIER is not registered field in pipeline.yaml\n",
      "Field in agent configuration for: AP_PARTY_TYPE is not registered field in pipeline.yaml\n"
     ]
    }
   ],
   "source": [
    "engine = JsonProcessingEngine(pipeline_config)\n",
    "pipeline = MSPipeline(engine, config=pipeline_config)"
   ]
  },
  {
   "cell_type": "markdown",
   "id": "67b3311f-755c-4467-b2e3-725c5571dcc2",
   "metadata": {},
   "source": [
    "## transform standardized to cleansed"
   ]
  },
  {
   "cell_type": "code",
   "execution_count": 24,
   "id": "b44d01ec-9869-490c-90f3-ea6ce71c2179",
   "metadata": {},
   "outputs": [],
   "source": [
    "payload = pipeline.transform_standardized_to_cleansed(payload)"
   ]
  },
  {
   "cell_type": "markdown",
   "id": "a97ecf06-a7e4-45a1-81e9-1203ccd1dd73",
   "metadata": {},
   "source": [
    "ALL_CONNECTED_ACCOUNT_NAMES# Transform standardized to application"
   ]
  },
  {
   "cell_type": "code",
   "execution_count": 25,
   "id": "1103a035-7ee7-49fa-8472-8dc744bc90bc",
   "metadata": {},
   "outputs": [],
   "source": [
    "new_payloads = pipeline.transform_cleansed_to_application(payload)"
   ]
  },
  {
   "cell_type": "markdown",
   "id": "a9a626d1-bac1-41e3-ae8a-cf91c32d99ae",
   "metadata": {
    "tags": []
   },
   "source": [
    "### payload"
   ]
  },
  {
   "cell_type": "code",
   "execution_count": 26,
   "id": "6de852f2-a5b9-4c0f-8670-cbe220275a71",
   "metadata": {},
   "outputs": [
    {
     "data": {
      "text/plain": [
       "9"
      ]
     },
     "execution_count": 26,
     "metadata": {},
     "output_type": "execute_result"
    }
   ],
   "source": [
    "len(new_payloads)"
   ]
  },
  {
   "cell_type": "code",
   "execution_count": 27,
   "id": "d4c84a93-ef52-4747-b14c-dd1d1ca07bcb",
   "metadata": {
    "scrolled": true
   },
   "outputs": [
    {
     "data": {
      "text/plain": [
       "(0                           [\"abouhamza\", \"abouhamza\"]\n",
       " 1    [\"abdalrahmanmilad\", \"abdalrahmanmilad\", \"abda...\n",
       " 2                           [\"abdalhadi\", \"abdalhadi\"]\n",
       " 3                                      [\"abdussomada\"]\n",
       " 4                                        [\"abouhamza\"]\n",
       " 5                                    [\"1177627035211\"]\n",
       " 6                                         [\"ahmedoua\"]\n",
       " 7                                [\"alfadhli\", \"udaia\"]\n",
       " 8                                      [\"abdussomada\"]\n",
       " Name: WL_MATCHED_TOKENS, dtype: object,\n",
       " 0           abouhamza\n",
       " 1    abdalrahmanmilad\n",
       " 2           abdalhadi\n",
       " 3         abdussomada\n",
       " 4           abouhamza\n",
       " 5       1177627035211\n",
       " 6            ahmedoua\n",
       " 7      alfadhli,udaia\n",
       " 8         abdussomada\n",
       " Name: TOKENS_RISK_CARRIER, dtype: object)"
      ]
     },
     "execution_count": 27,
     "metadata": {},
     "output_type": "execute_result"
    }
   ],
   "source": [
    "import pandas as pd\n",
    "out_payload = pd.DataFrame([match for payload in new_payloads   for match in payload['watchlistParty']['matchRecords']])\n",
    "\n",
    "out_payload['WL_MATCHED_TOKENS'], out_payload['TOKENS_RISK_CARRIER']"
   ]
  },
  {
   "cell_type": "code",
   "execution_count": 28,
   "id": "26808ea6",
   "metadata": {},
   "outputs": [
    {
     "data": {
      "text/plain": [
       "array([['[\"abouhamza\", \"abouhamza\"]', 'N'],\n",
       "       ['[\"abdalrahmanmilad\", \"abdalrahmanmilad\", \"abdalrahmanmilad\"]',\n",
       "        'N'],\n",
       "       ['[\"abdalhadi\", \"abdalhadi\"]', 'N'],\n",
       "       ['[\"abdussomada\"]', 'N'],\n",
       "       ['[\"abouhamza\"]', 'N'],\n",
       "       ['[\"1177627035211\"]', 'Y'],\n",
       "       ['[\"ahmedoua\"]', 'N'],\n",
       "       ['[\"alfadhli\", \"udaia\"]', 'N'],\n",
       "       ['[\"abdussomada\"]', 'N']], dtype=object)"
      ]
     },
     "execution_count": 28,
     "metadata": {},
     "output_type": "execute_result"
    }
   ],
   "source": [
    "out_payload[[i for i in out_payload.columns if \"MATCH\" in i ]].values"
   ]
  },
  {
   "cell_type": "code",
   "execution_count": 29,
   "id": "190aa3c5-9909-4b36-b627-b72f22a7e0c8",
   "metadata": {},
   "outputs": [
    {
     "name": "stdout",
     "output_type": "stream",
     "text": [
      "=====================\n",
      "PAYLOAD\n",
      "94590752\n",
      "0 match\n",
      "[] ['01', '01/29/1971', '1971', '29']\n",
      "['AHMEDOUA'] ['FR', 'FRANCE']\n",
      "=====================\n",
      "PAYLOAD\n",
      "94590752\n",
      "0 match\n",
      "[] ['27', '07', '07/27/1986', '1986']\n",
      "['AHMEDOUA'] ['LIBYAN ARAB JAMAHIRIYA', 'LY']\n",
      "=====================\n",
      "PAYLOAD\n",
      "94590752\n",
      "0 match\n",
      "[] ['06', '07/06/1977', '1977', '07']\n",
      "['AHMEDOUA'] []\n",
      "=====================\n",
      "PAYLOAD\n",
      "94590752\n",
      "0 match\n",
      "[] ['17', '08/17/1938', '1938', '08']\n",
      "['AHMEDOUA'] ['ID', 'INDONESIA']\n",
      "=====================\n",
      "PAYLOAD\n",
      "94590752\n",
      "0 match\n",
      "[] ['1958', '15', '04/15/1958', '04']\n",
      "['AHMEDOUA'] ['US', 'UNITED STATES']\n",
      "=====================\n",
      "PAYLOAD\n",
      "94590752\n",
      "0 match\n",
      "[] []\n",
      "['AHMEDOUA'] ['RUSSIAN FEDERATION', 'RU']\n",
      "=====================\n",
      "PAYLOAD\n",
      "94590752\n",
      "0 match\n",
      "[] ['01/01/1982', '01', '1982']\n",
      "['AHMEDOUA'] ['ML|ML', 'MALI|MALI']\n",
      "=====================\n",
      "PAYLOAD\n",
      "94590752\n",
      "0 match\n",
      "[] ['27', '08/27/1981', '08', '1981']\n",
      "['AHMEDOUA'] []\n",
      "=====================\n",
      "PAYLOAD\n",
      "94590752\n",
      "0 match\n",
      "[] ['17', '08/17/1938', '1938', '08']\n",
      "['AHMEDOUA'] ['ID', 'INDONESIA']\n"
     ]
    }
   ],
   "source": [
    "for payload in new_payloads:\n",
    "    print('=====================')\n",
    "    print('PAYLOAD')\n",
    "    print(payload['alertedParty']['inputRecordHist']['inputRecords'][0]['versionId'])\n",
    "        \n",
    "    for num, match in enumerate(payload['watchlistParty']['matchRecords']):\n",
    "        assert (match['inputVersionId'] == payload['alertedParty']['inputRecordHist']['inputRecords'][0]['versionId'])\n",
    "        print(num, 'match')\n",
    "        print(match[\"ap_all_dobs_aggregated\"], match[\"wl_all_dobs_aggregated\"])\n",
    "        try:\n",
    "            print(match[\"ap_all_residencies_aggregated\"], match[\"wl_all_residencies_aggregated\"])\n",
    "        except:\n",
    "            break\n"
   ]
  },
  {
   "cell_type": "code",
   "execution_count": 30,
   "id": "c51c649a",
   "metadata": {},
   "outputs": [
    {
     "data": {
      "text/html": [
       "<div>\n",
       "<style scoped>\n",
       "    .dataframe tbody tr th:only-of-type {\n",
       "        vertical-align: middle;\n",
       "    }\n",
       "\n",
       "    .dataframe tbody tr th {\n",
       "        vertical-align: top;\n",
       "    }\n",
       "\n",
       "    .dataframe thead th {\n",
       "        text-align: right;\n",
       "    }\n",
       "</style>\n",
       "<table border=\"1\" class=\"dataframe\">\n",
       "  <thead>\n",
       "    <tr style=\"text-align: right;\">\n",
       "      <th></th>\n",
       "      <th>ap_all_hit_types_aggregated</th>\n",
       "      <th>wl_all_hit_types_aggregated</th>\n",
       "      <th>all_hit_type_aggregated</th>\n",
       "    </tr>\n",
       "  </thead>\n",
       "  <tbody>\n",
       "    <tr>\n",
       "      <th>0</th>\n",
       "      <td>[]</td>\n",
       "      <td>[]</td>\n",
       "      <td>[{'name': [], 'country': ['ADDRESS1_COUNTRY'],...</td>\n",
       "    </tr>\n",
       "    <tr>\n",
       "      <th>1</th>\n",
       "      <td>[]</td>\n",
       "      <td>[]</td>\n",
       "      <td>[{'name': [], 'country': ['ADDRESS1_COUNTRY'],...</td>\n",
       "    </tr>\n",
       "    <tr>\n",
       "      <th>2</th>\n",
       "      <td>[]</td>\n",
       "      <td>[]</td>\n",
       "      <td>[{'name': [], 'country': ['ADDRESS1_COUNTRY'],...</td>\n",
       "    </tr>\n",
       "    <tr>\n",
       "      <th>3</th>\n",
       "      <td>[]</td>\n",
       "      <td>[]</td>\n",
       "      <td>[{'name': [], 'country': ['ADDRESS1_COUNTRY'],...</td>\n",
       "    </tr>\n",
       "    <tr>\n",
       "      <th>4</th>\n",
       "      <td>[]</td>\n",
       "      <td>[]</td>\n",
       "      <td>[{'name': [], 'country': ['ADDRESS1_COUNTRY'],...</td>\n",
       "    </tr>\n",
       "    <tr>\n",
       "      <th>5</th>\n",
       "      <td>[]</td>\n",
       "      <td>[]</td>\n",
       "      <td>[{'name': [], 'country': ['ADDRESS1_COUNTRY'],...</td>\n",
       "    </tr>\n",
       "    <tr>\n",
       "      <th>6</th>\n",
       "      <td>[]</td>\n",
       "      <td>[]</td>\n",
       "      <td>[{'name': [], 'country': ['ADDRESS1_COUNTRY'],...</td>\n",
       "    </tr>\n",
       "    <tr>\n",
       "      <th>7</th>\n",
       "      <td>[]</td>\n",
       "      <td>[]</td>\n",
       "      <td>[{'name': [], 'country': ['ADDRESS1_COUNTRY'],...</td>\n",
       "    </tr>\n",
       "    <tr>\n",
       "      <th>8</th>\n",
       "      <td>[]</td>\n",
       "      <td>[]</td>\n",
       "      <td>[{'name': [], 'country': ['ADDRESS1_COUNTRY'],...</td>\n",
       "    </tr>\n",
       "  </tbody>\n",
       "</table>\n",
       "</div>"
      ],
      "text/plain": [
       "  ap_all_hit_types_aggregated wl_all_hit_types_aggregated  \\\n",
       "0                          []                          []   \n",
       "1                          []                          []   \n",
       "2                          []                          []   \n",
       "3                          []                          []   \n",
       "4                          []                          []   \n",
       "5                          []                          []   \n",
       "6                          []                          []   \n",
       "7                          []                          []   \n",
       "8                          []                          []   \n",
       "\n",
       "                             all_hit_type_aggregated  \n",
       "0  [{'name': [], 'country': ['ADDRESS1_COUNTRY'],...  \n",
       "1  [{'name': [], 'country': ['ADDRESS1_COUNTRY'],...  \n",
       "2  [{'name': [], 'country': ['ADDRESS1_COUNTRY'],...  \n",
       "3  [{'name': [], 'country': ['ADDRESS1_COUNTRY'],...  \n",
       "4  [{'name': [], 'country': ['ADDRESS1_COUNTRY'],...  \n",
       "5  [{'name': [], 'country': ['ADDRESS1_COUNTRY'],...  \n",
       "6  [{'name': [], 'country': ['ADDRESS1_COUNTRY'],...  \n",
       "7  [{'name': [], 'country': ['ADDRESS1_COUNTRY'],...  \n",
       "8  [{'name': [], 'country': ['ADDRESS1_COUNTRY'],...  "
      ]
     },
     "execution_count": 30,
     "metadata": {},
     "output_type": "execute_result"
    }
   ],
   "source": [
    "out_payload[[i for i in out_payload.columns if \"hit\" in i and \"agg\" in i]]"
   ]
  },
  {
   "cell_type": "code",
   "execution_count": 31,
   "id": "485cd9e6",
   "metadata": {},
   "outputs": [],
   "source": [
    "import pickle\n",
    "with open(\"tests/shared/big_fat_payload_parsed.pkl\", \"wb\") as f:\n",
    "    pickle.dump(new_payloads, f)"
   ]
  },
  {
   "cell_type": "code",
   "execution_count": 32,
   "id": "97a6e5da-7094-4fc1-9ef7-8e2782a7a3ee",
   "metadata": {},
   "outputs": [],
   "source": [
    "# import pickle\n",
    "# with open(\"tests/shared/parsed_payload.pkl\", \"rb\") as f:\n",
    "#     p = pickle.load(f)\n",
    "\n",
    "# import pandas as pd\n",
    "# reference_payload = pd.DataFrame([match for payload in p  for match in payload['watchlistParty']['matchRecords']])\n",
    "\n"
   ]
  },
  {
   "cell_type": "code",
   "execution_count": 33,
   "id": "8484dae6",
   "metadata": {},
   "outputs": [
    {
     "ename": "NameError",
     "evalue": "name 'reference_payload' is not defined",
     "output_type": "error",
     "traceback": [
      "\u001b[0;31m---------------------------------------------------------------------------\u001b[0m",
      "\u001b[0;31mNameError\u001b[0m                                 Traceback (most recent call last)",
      "\u001b[0;32m<ipython-input-33-36513c581cea>\u001b[0m in \u001b[0;36m<module>\u001b[0;34m\u001b[0m\n\u001b[1;32m      1\u001b[0m \u001b[0mout_payload\u001b[0m\u001b[0;34m[\u001b[0m\u001b[0;34m'TRIGGERED_BY'\u001b[0m\u001b[0;34m]\u001b[0m  \u001b[0;34m=\u001b[0m \u001b[0mout_payload\u001b[0m\u001b[0;34m[\u001b[0m\u001b[0;34m'TRIGGERED_BY'\u001b[0m\u001b[0;34m]\u001b[0m\u001b[0;34m.\u001b[0m\u001b[0mapply\u001b[0m\u001b[0;34m(\u001b[0m\u001b[0msorted\u001b[0m\u001b[0;34m)\u001b[0m\u001b[0;34m\u001b[0m\u001b[0;34m\u001b[0m\u001b[0m\n\u001b[0;32m----> 2\u001b[0;31m \u001b[0mreference_payload\u001b[0m\u001b[0;34m[\u001b[0m\u001b[0;34m'TRIGGERED_BY'\u001b[0m\u001b[0;34m]\u001b[0m  \u001b[0;34m=\u001b[0m \u001b[0mreference_payload\u001b[0m\u001b[0;34m[\u001b[0m\u001b[0;34m'TRIGGERED_BY'\u001b[0m\u001b[0;34m]\u001b[0m\u001b[0;34m.\u001b[0m\u001b[0mapply\u001b[0m\u001b[0;34m(\u001b[0m\u001b[0msorted\u001b[0m\u001b[0;34m)\u001b[0m\u001b[0;34m\u001b[0m\u001b[0;34m\u001b[0m\u001b[0m\n\u001b[0m",
      "\u001b[0;31mNameError\u001b[0m: name 'reference_payload' is not defined"
     ]
    }
   ],
   "source": [
    "out_payload['TRIGGERED_BY']  = out_payload['TRIGGERED_BY'].apply(sorted)\n",
    "reference_payload['TRIGGERED_BY']  = reference_payload['TRIGGERED_BY'].apply(sorted)\n"
   ]
  },
  {
   "cell_type": "code",
   "execution_count": 34,
   "id": "4d23a6b1",
   "metadata": {},
   "outputs": [
    {
     "ename": "NameError",
     "evalue": "name 'reference_payload' is not defined",
     "output_type": "error",
     "traceback": [
      "\u001b[0;31m---------------------------------------------------------------------------\u001b[0m",
      "\u001b[0;31mNameError\u001b[0m                                 Traceback (most recent call last)",
      "\u001b[0;32m<ipython-input-34-ed6012c3b52b>\u001b[0m in \u001b[0;36m<module>\u001b[0;34m\u001b[0m\n\u001b[1;32m      1\u001b[0m \u001b[0mout_payload\u001b[0m\u001b[0;34m[\u001b[0m\u001b[0;34m'AP_TRIGGERS'\u001b[0m\u001b[0;34m]\u001b[0m  \u001b[0;34m=\u001b[0m \u001b[0mout_payload\u001b[0m\u001b[0;34m[\u001b[0m\u001b[0;34m'AP_TRIGGERS'\u001b[0m\u001b[0;34m]\u001b[0m\u001b[0;34m.\u001b[0m\u001b[0mapply\u001b[0m\u001b[0;34m(\u001b[0m\u001b[0;32mlambda\u001b[0m \u001b[0mx\u001b[0m\u001b[0;34m:\u001b[0m \u001b[0;34m{\u001b[0m\u001b[0mkey\u001b[0m\u001b[0;34m:\u001b[0m \u001b[0mx\u001b[0m\u001b[0;34m[\u001b[0m\u001b[0mkey\u001b[0m\u001b[0;34m]\u001b[0m \u001b[0;32mfor\u001b[0m \u001b[0mkey\u001b[0m \u001b[0;32min\u001b[0m \u001b[0msorted\u001b[0m\u001b[0;34m(\u001b[0m\u001b[0mx\u001b[0m\u001b[0;34m)\u001b[0m\u001b[0;34m}\u001b[0m\u001b[0;34m)\u001b[0m\u001b[0;34m\u001b[0m\u001b[0;34m\u001b[0m\u001b[0m\n\u001b[0;32m----> 2\u001b[0;31m \u001b[0mreference_payload\u001b[0m\u001b[0;34m[\u001b[0m\u001b[0;34m'AP_TRIGGERS'\u001b[0m\u001b[0;34m]\u001b[0m  \u001b[0;34m=\u001b[0m \u001b[0mreference_payload\u001b[0m\u001b[0;34m[\u001b[0m\u001b[0;34m'AP_TRIGGERS'\u001b[0m\u001b[0;34m]\u001b[0m\u001b[0;34m.\u001b[0m\u001b[0mapply\u001b[0m\u001b[0;34m(\u001b[0m\u001b[0;32mlambda\u001b[0m \u001b[0mx\u001b[0m\u001b[0;34m:\u001b[0m \u001b[0;34m{\u001b[0m\u001b[0mkey\u001b[0m\u001b[0;34m:\u001b[0m \u001b[0mx\u001b[0m\u001b[0;34m[\u001b[0m\u001b[0mkey\u001b[0m\u001b[0;34m]\u001b[0m \u001b[0;32mfor\u001b[0m \u001b[0mkey\u001b[0m \u001b[0;32min\u001b[0m \u001b[0msorted\u001b[0m\u001b[0;34m(\u001b[0m\u001b[0mx\u001b[0m\u001b[0;34m)\u001b[0m\u001b[0;34m}\u001b[0m\u001b[0;34m)\u001b[0m\u001b[0;34m\u001b[0m\u001b[0;34m\u001b[0m\u001b[0m\n\u001b[0m",
      "\u001b[0;31mNameError\u001b[0m: name 'reference_payload' is not defined"
     ]
    }
   ],
   "source": [
    "out_payload['AP_TRIGGERS']  = out_payload['AP_TRIGGERS'].apply(lambda x: {key: x[key] for key in sorted(x)})\n",
    "reference_payload['AP_TRIGGERS']  = reference_payload['AP_TRIGGERS'].apply(lambda x: {key: x[key] for key in sorted(x)})\n"
   ]
  },
  {
   "cell_type": "code",
   "execution_count": 35,
   "id": "95c50dba",
   "metadata": {},
   "outputs": [
    {
     "ename": "NameError",
     "evalue": "name 'reference_payload' is not defined",
     "output_type": "error",
     "traceback": [
      "\u001b[0;31m---------------------------------------------------------------------------\u001b[0m",
      "\u001b[0;31mNameError\u001b[0m                                 Traceback (most recent call last)",
      "\u001b[0;32m<ipython-input-35-f1193729080d>\u001b[0m in \u001b[0;36m<module>\u001b[0;34m\u001b[0m\n\u001b[1;32m      1\u001b[0m \u001b[0;32mfor\u001b[0m \u001b[0mcols\u001b[0m \u001b[0;32min\u001b[0m \u001b[0mout_payload\u001b[0m\u001b[0;34m.\u001b[0m\u001b[0mcolumns\u001b[0m\u001b[0;34m:\u001b[0m\u001b[0;34m\u001b[0m\u001b[0;34m\u001b[0m\u001b[0m\n\u001b[1;32m      2\u001b[0m     \u001b[0;32mtry\u001b[0m\u001b[0;34m:\u001b[0m\u001b[0;34m\u001b[0m\u001b[0;34m\u001b[0m\u001b[0m\n\u001b[0;32m----> 3\u001b[0;31m         \u001b[0mpd\u001b[0m\u001b[0;34m.\u001b[0m\u001b[0mtesting\u001b[0m\u001b[0;34m.\u001b[0m\u001b[0massert_series_equal\u001b[0m\u001b[0;34m(\u001b[0m\u001b[0mout_payload\u001b[0m\u001b[0;34m[\u001b[0m\u001b[0mcols\u001b[0m\u001b[0;34m]\u001b[0m\u001b[0;34m,\u001b[0m \u001b[0mreference_payload\u001b[0m\u001b[0;34m[\u001b[0m\u001b[0mcols\u001b[0m\u001b[0;34m]\u001b[0m\u001b[0;34m)\u001b[0m\u001b[0;34m\u001b[0m\u001b[0;34m\u001b[0m\u001b[0m\n\u001b[0m\u001b[1;32m      4\u001b[0m     \u001b[0;32mexcept\u001b[0m \u001b[0;34m(\u001b[0m\u001b[0mAssertionError\u001b[0m\u001b[0;34m,\u001b[0m \u001b[0mTypeError\u001b[0m\u001b[0;34m)\u001b[0m\u001b[0;34m:\u001b[0m\u001b[0;34m\u001b[0m\u001b[0;34m\u001b[0m\u001b[0m\n\u001b[1;32m      5\u001b[0m         \u001b[0mreference\u001b[0m \u001b[0;34m=\u001b[0m \u001b[0mremove_nulls_from_aggegated\u001b[0m\u001b[0;34m(\u001b[0m\u001b[0mflatten\u001b[0m\u001b[0;34m(\u001b[0m\u001b[0;34m[\u001b[0m\u001b[0mi\u001b[0m \u001b[0;32mfor\u001b[0m \u001b[0mi\u001b[0m \u001b[0;32min\u001b[0m \u001b[0mreference_payload\u001b[0m\u001b[0;34m[\u001b[0m\u001b[0mcols\u001b[0m\u001b[0;34m]\u001b[0m\u001b[0;34m.\u001b[0m\u001b[0mvalues\u001b[0m\u001b[0;34m]\u001b[0m\u001b[0;34m)\u001b[0m\u001b[0;34m)\u001b[0m\u001b[0;34m\u001b[0m\u001b[0;34m\u001b[0m\u001b[0m\n",
      "\u001b[0;31mNameError\u001b[0m: name 'reference_payload' is not defined"
     ]
    }
   ],
   "source": [
    "for cols in out_payload.columns:\n",
    "    try:\n",
    "        pd.testing.assert_series_equal(out_payload[cols], reference_payload[cols])\n",
    "    except (AssertionError, TypeError):\n",
    "        reference = remove_nulls_from_aggegated(flatten([i for i in reference_payload[cols].values]))\n",
    "        output = remove_nulls_from_aggegated(flatten([i for i in out_payload[cols].values]))\n",
    "        try:\n",
    "            if isinstance(output, list):\n",
    "                assert_list(output, reference)\n",
    "            else:\n",
    "                assert output == reference\n",
    "        except AssertionError:\n",
    "            print((cols, output, reference))\n",
    "            pass"
   ]
  },
  {
   "cell_type": "code",
   "execution_count": 36,
   "id": "4924a19c",
   "metadata": {},
   "outputs": [
    {
     "ename": "NameError",
     "evalue": "name 'columns' is not defined",
     "output_type": "error",
     "traceback": [
      "\u001b[0;31m---------------------------------------------------------------------------\u001b[0m",
      "\u001b[0;31mNameError\u001b[0m                                 Traceback (most recent call last)",
      "\u001b[0;32m<ipython-input-36-e480026d0ad0>\u001b[0m in \u001b[0;36m<module>\u001b[0;34m\u001b[0m\n\u001b[1;32m      1\u001b[0m \u001b[0;32mwhile\u001b[0m \u001b[0;32mTrue\u001b[0m\u001b[0;34m:\u001b[0m\u001b[0;34m\u001b[0m\u001b[0;34m\u001b[0m\u001b[0m\n\u001b[0;32m----> 2\u001b[0;31m     \u001b[0mprint\u001b[0m\u001b[0;34m(\u001b[0m\u001b[0;34m\"remove\"\u001b[0m\u001b[0;34m,\u001b[0m \u001b[0mcolumns\u001b[0m\u001b[0;34m[\u001b[0m\u001b[0;34m-\u001b[0m\u001b[0;36m1\u001b[0m\u001b[0;34m]\u001b[0m\u001b[0;34m)\u001b[0m\u001b[0;34m\u001b[0m\u001b[0;34m\u001b[0m\u001b[0m\n\u001b[0m\u001b[1;32m      3\u001b[0m     \u001b[0mcolumns\u001b[0m \u001b[0;34m=\u001b[0m \u001b[0mcolumns\u001b[0m\u001b[0;34m[\u001b[0m\u001b[0;34m:\u001b[0m\u001b[0;34m-\u001b[0m\u001b[0;36m1\u001b[0m\u001b[0;34m]\u001b[0m\u001b[0;34m\u001b[0m\u001b[0;34m\u001b[0m\u001b[0m\n\u001b[1;32m      4\u001b[0m     \u001b[0;32mtry\u001b[0m\u001b[0;34m:\u001b[0m\u001b[0;34m\u001b[0m\u001b[0;34m\u001b[0m\u001b[0m\n\u001b[1;32m      5\u001b[0m         \u001b[0mpd\u001b[0m\u001b[0;34m.\u001b[0m\u001b[0mtesting\u001b[0m\u001b[0;34m.\u001b[0m\u001b[0massert_frame_equal\u001b[0m\u001b[0;34m(\u001b[0m\u001b[0mout_payload\u001b[0m\u001b[0;34m[\u001b[0m\u001b[0mcolumns\u001b[0m\u001b[0;34m]\u001b[0m\u001b[0;34m,\u001b[0m \u001b[0mreference_payload\u001b[0m\u001b[0;34m[\u001b[0m\u001b[0mcolumns\u001b[0m\u001b[0;34m]\u001b[0m\u001b[0;34m)\u001b[0m\u001b[0;34m\u001b[0m\u001b[0;34m\u001b[0m\u001b[0m\n",
      "\u001b[0;31mNameError\u001b[0m: name 'columns' is not defined"
     ]
    }
   ],
   "source": [
    "while True:\n",
    "    print(\"remove\", columns[-1])\n",
    "    columns = columns[:-1]\n",
    "    try:\n",
    "        pd.testing.assert_frame_equal(out_payload[columns], reference_payload[columns])\n",
    "        print('ok')\n",
    "        break\n",
    "    except AssertionError:\n",
    "        break\n",
    "        pass\n",
    "    except TypeError:\n",
    "        pass"
   ]
  },
  {
   "cell_type": "code",
   "execution_count": 37,
   "id": "68c8ee43",
   "metadata": {},
   "outputs": [
    {
     "data": {
      "text/html": [
       "<div>\n",
       "<style scoped>\n",
       "    .dataframe tbody tr th:only-of-type {\n",
       "        vertical-align: middle;\n",
       "    }\n",
       "\n",
       "    .dataframe tbody tr th {\n",
       "        vertical-align: top;\n",
       "    }\n",
       "\n",
       "    .dataframe thead th {\n",
       "        text-align: right;\n",
       "    }\n",
       "</style>\n",
       "<table border=\"1\" class=\"dataframe\">\n",
       "  <thead>\n",
       "    <tr style=\"text-align: right;\">\n",
       "      <th></th>\n",
       "      <th>ap_all_hit_types_aggregated</th>\n",
       "      <th>wl_all_hit_types_aggregated</th>\n",
       "      <th>all_hit_type_aggregated</th>\n",
       "    </tr>\n",
       "  </thead>\n",
       "  <tbody>\n",
       "    <tr>\n",
       "      <th>0</th>\n",
       "      <td>[]</td>\n",
       "      <td>[]</td>\n",
       "      <td>[{'name': [], 'country': ['ADDRESS1_COUNTRY'],...</td>\n",
       "    </tr>\n",
       "    <tr>\n",
       "      <th>1</th>\n",
       "      <td>[]</td>\n",
       "      <td>[]</td>\n",
       "      <td>[{'name': [], 'country': ['ADDRESS1_COUNTRY'],...</td>\n",
       "    </tr>\n",
       "    <tr>\n",
       "      <th>2</th>\n",
       "      <td>[]</td>\n",
       "      <td>[]</td>\n",
       "      <td>[{'name': [], 'country': ['ADDRESS1_COUNTRY'],...</td>\n",
       "    </tr>\n",
       "    <tr>\n",
       "      <th>3</th>\n",
       "      <td>[]</td>\n",
       "      <td>[]</td>\n",
       "      <td>[{'name': [], 'country': ['ADDRESS1_COUNTRY'],...</td>\n",
       "    </tr>\n",
       "    <tr>\n",
       "      <th>4</th>\n",
       "      <td>[]</td>\n",
       "      <td>[]</td>\n",
       "      <td>[{'name': [], 'country': ['ADDRESS1_COUNTRY'],...</td>\n",
       "    </tr>\n",
       "    <tr>\n",
       "      <th>5</th>\n",
       "      <td>[]</td>\n",
       "      <td>[]</td>\n",
       "      <td>[{'name': [], 'country': ['ADDRESS1_COUNTRY'],...</td>\n",
       "    </tr>\n",
       "    <tr>\n",
       "      <th>6</th>\n",
       "      <td>[]</td>\n",
       "      <td>[]</td>\n",
       "      <td>[{'name': [], 'country': ['ADDRESS1_COUNTRY'],...</td>\n",
       "    </tr>\n",
       "    <tr>\n",
       "      <th>7</th>\n",
       "      <td>[]</td>\n",
       "      <td>[]</td>\n",
       "      <td>[{'name': [], 'country': ['ADDRESS1_COUNTRY'],...</td>\n",
       "    </tr>\n",
       "    <tr>\n",
       "      <th>8</th>\n",
       "      <td>[]</td>\n",
       "      <td>[]</td>\n",
       "      <td>[{'name': [], 'country': ['ADDRESS1_COUNTRY'],...</td>\n",
       "    </tr>\n",
       "  </tbody>\n",
       "</table>\n",
       "</div>"
      ],
      "text/plain": [
       "  ap_all_hit_types_aggregated wl_all_hit_types_aggregated  \\\n",
       "0                          []                          []   \n",
       "1                          []                          []   \n",
       "2                          []                          []   \n",
       "3                          []                          []   \n",
       "4                          []                          []   \n",
       "5                          []                          []   \n",
       "6                          []                          []   \n",
       "7                          []                          []   \n",
       "8                          []                          []   \n",
       "\n",
       "                             all_hit_type_aggregated  \n",
       "0  [{'name': [], 'country': ['ADDRESS1_COUNTRY'],...  \n",
       "1  [{'name': [], 'country': ['ADDRESS1_COUNTRY'],...  \n",
       "2  [{'name': [], 'country': ['ADDRESS1_COUNTRY'],...  \n",
       "3  [{'name': [], 'country': ['ADDRESS1_COUNTRY'],...  \n",
       "4  [{'name': [], 'country': ['ADDRESS1_COUNTRY'],...  \n",
       "5  [{'name': [], 'country': ['ADDRESS1_COUNTRY'],...  \n",
       "6  [{'name': [], 'country': ['ADDRESS1_COUNTRY'],...  \n",
       "7  [{'name': [], 'country': ['ADDRESS1_COUNTRY'],...  \n",
       "8  [{'name': [], 'country': ['ADDRESS1_COUNTRY'],...  "
      ]
     },
     "execution_count": 37,
     "metadata": {},
     "output_type": "execute_result"
    }
   ],
   "source": [
    "out_payload[[i for i in out_payload.columns if \"hit\" in i and \"agg\" in i]]"
   ]
  },
  {
   "cell_type": "code",
   "execution_count": 38,
   "id": "b4626108-b497-4432-a22c-6c5c7cac8e55",
   "metadata": {},
   "outputs": [],
   "source": [
    "with open(f'notebooks/sample/wm_address_in_payload_format_2_input_3_match_records.json', 'r') as file:\n",
    "    payload = json.loads(file.read())\n",
    "\n",
    "payload_json = {key: payload[key] for key in sorted(payload)}\n",
    "payload_json = PayloadLoader().load_payload_from_json(payload_json)\n",
    "\n",
    "\n",
    "\n",
    "payload_json['match_ids'] = [i for i in range(len(payload_json[\"watchlistParty\"][\"matchRecords\"]))]\n"
   ]
  },
  {
   "cell_type": "code",
   "execution_count": 39,
   "id": "8fa1acc0-0f85-4740-a8c0-b5a54eb927b5",
   "metadata": {},
   "outputs": [],
   "source": [
    "payload = payload_json"
   ]
  },
  {
   "cell_type": "code",
   "execution_count": 40,
   "id": "353e29cb-435d-44aa-9a3f-8e4c27f23888",
   "metadata": {},
   "outputs": [],
   "source": [
    "payload = pipeline.transform_standardized_to_cleansed(payload)"
   ]
  },
  {
   "cell_type": "code",
   "execution_count": 41,
   "id": "e5d4114d-492e-4410-a41c-dfc04fe87a69",
   "metadata": {},
   "outputs": [],
   "source": [
    "new_payloads = pipeline.transform_cleansed_to_application(payload)"
   ]
  },
  {
   "cell_type": "code",
   "execution_count": 42,
   "id": "06c6ce79-99c7-419c-a32d-3c0eb906c334",
   "metadata": {},
   "outputs": [
    {
     "data": {
      "text/html": [
       "<div>\n",
       "<style scoped>\n",
       "    .dataframe tbody tr th:only-of-type {\n",
       "        vertical-align: middle;\n",
       "    }\n",
       "\n",
       "    .dataframe tbody tr th {\n",
       "        vertical-align: top;\n",
       "    }\n",
       "\n",
       "    .dataframe thead th {\n",
       "        text-align: right;\n",
       "    }\n",
       "</style>\n",
       "<table border=\"1\" class=\"dataframe\">\n",
       "  <thead>\n",
       "    <tr style=\"text-align: right;\">\n",
       "      <th></th>\n",
       "      <th>ap_all_dobs_aggregated</th>\n",
       "      <th>wl_all_dobs_aggregated</th>\n",
       "      <th>ap_all_documents_aggregated</th>\n",
       "      <th>wl_all_documents_aggregated</th>\n",
       "      <th>ap_all_company_names_aggregated</th>\n",
       "      <th>wl_all_company_names_aggregated</th>\n",
       "      <th>ap_all_names_aggregated</th>\n",
       "      <th>wl_all_names_aggregated</th>\n",
       "      <th>ap_all_employer_names_aggregated</th>\n",
       "      <th>wl_all_employer_names_aggregated</th>\n",
       "      <th>...</th>\n",
       "      <th>wl_all_hit_types_aggregated</th>\n",
       "      <th>ap_all_matched_tokens_tp_markeds_aggregated</th>\n",
       "      <th>wl_all_matched_tokens_tp_markeds_aggregated</th>\n",
       "      <th>ap_all_ap_name_tp_markeds_aggregated</th>\n",
       "      <th>wl_all_ap_name_tp_markeds_aggregated</th>\n",
       "      <th>ap_all_ap_id_tp_markeds_aggregated</th>\n",
       "      <th>wl_all_ap_id_tp_markeds_aggregated</th>\n",
       "      <th>ap_all_is_entity_matchs_aggregated</th>\n",
       "      <th>wl_all_is_entity_matchs_aggregated</th>\n",
       "      <th>all_hit_type_aggregated</th>\n",
       "    </tr>\n",
       "  </thead>\n",
       "  <tbody>\n",
       "    <tr>\n",
       "      <th>0</th>\n",
       "      <td>[02/31/1900, 04/31/1910]</td>\n",
       "      <td>[MAY 6, 1981]</td>\n",
       "      <td>[154421273, 022368917]</td>\n",
       "      <td>[]</td>\n",
       "      <td>[Eva Pladimirova, Pladimir Vutin]</td>\n",
       "      <td>[Joe Ding]</td>\n",
       "      <td>[Eva Pladimirova, Pladimir Vutin]</td>\n",
       "      <td>[Joe Ding]</td>\n",
       "      <td>[]</td>\n",
       "      <td>[Joe Ding]</td>\n",
       "      <td>...</td>\n",
       "      <td>[]</td>\n",
       "      <td>[]</td>\n",
       "      <td>[]</td>\n",
       "      <td>[]</td>\n",
       "      <td>[]</td>\n",
       "      <td>[]</td>\n",
       "      <td>[]</td>\n",
       "      <td>[I]</td>\n",
       "      <td>[I]</td>\n",
       "      <td>[{'name': [], 'country': ['ADDRESS1_COUNTRY'],...</td>\n",
       "    </tr>\n",
       "    <tr>\n",
       "      <th>1</th>\n",
       "      <td>[02/31/1900, 04/31/1910]</td>\n",
       "      <td>[MAY 6, 1981]</td>\n",
       "      <td>[154421273, 022368917]</td>\n",
       "      <td>[]</td>\n",
       "      <td>[Eva Pladimirova, Pladimir Vutin]</td>\n",
       "      <td>[Joe Ding]</td>\n",
       "      <td>[Eva Pladimirova, Pladimir Vutin]</td>\n",
       "      <td>[Joe Ding]</td>\n",
       "      <td>[]</td>\n",
       "      <td>[Joe Ding]</td>\n",
       "      <td>...</td>\n",
       "      <td>[]</td>\n",
       "      <td>[]</td>\n",
       "      <td>[]</td>\n",
       "      <td>[]</td>\n",
       "      <td>[]</td>\n",
       "      <td>[]</td>\n",
       "      <td>[]</td>\n",
       "      <td>[I]</td>\n",
       "      <td>[I]</td>\n",
       "      <td>[{'name': [], 'country': ['ADDRESS1_COUNTRY'],...</td>\n",
       "    </tr>\n",
       "    <tr>\n",
       "      <th>2</th>\n",
       "      <td>[02/31/1900, 04/31/1910]</td>\n",
       "      <td>[MAY 6, 1981]</td>\n",
       "      <td>[154421273, 022368917]</td>\n",
       "      <td>[]</td>\n",
       "      <td>[Eva Pladimirova, Pladimir Vutin]</td>\n",
       "      <td>[Joe Dong]</td>\n",
       "      <td>[Eva Pladimirova, Pladimir Vutin]</td>\n",
       "      <td>[Joe Dong]</td>\n",
       "      <td>[]</td>\n",
       "      <td>[Joe Dong]</td>\n",
       "      <td>...</td>\n",
       "      <td>[]</td>\n",
       "      <td>[]</td>\n",
       "      <td>[]</td>\n",
       "      <td>[]</td>\n",
       "      <td>[]</td>\n",
       "      <td>[]</td>\n",
       "      <td>[]</td>\n",
       "      <td>[I]</td>\n",
       "      <td>[I]</td>\n",
       "      <td>[{'name': [], 'country': ['ADDRESS1_COUNTRY'],...</td>\n",
       "    </tr>\n",
       "  </tbody>\n",
       "</table>\n",
       "<p>3 rows × 31 columns</p>\n",
       "</div>"
      ],
      "text/plain": [
       "     ap_all_dobs_aggregated wl_all_dobs_aggregated  \\\n",
       "0  [02/31/1900, 04/31/1910]          [MAY 6, 1981]   \n",
       "1  [02/31/1900, 04/31/1910]          [MAY 6, 1981]   \n",
       "2  [02/31/1900, 04/31/1910]          [MAY 6, 1981]   \n",
       "\n",
       "  ap_all_documents_aggregated wl_all_documents_aggregated  \\\n",
       "0      [154421273, 022368917]                          []   \n",
       "1      [154421273, 022368917]                          []   \n",
       "2      [154421273, 022368917]                          []   \n",
       "\n",
       "     ap_all_company_names_aggregated wl_all_company_names_aggregated  \\\n",
       "0  [Eva Pladimirova, Pladimir Vutin]                      [Joe Ding]   \n",
       "1  [Eva Pladimirova, Pladimir Vutin]                      [Joe Ding]   \n",
       "2  [Eva Pladimirova, Pladimir Vutin]                      [Joe Dong]   \n",
       "\n",
       "             ap_all_names_aggregated wl_all_names_aggregated  \\\n",
       "0  [Eva Pladimirova, Pladimir Vutin]              [Joe Ding]   \n",
       "1  [Eva Pladimirova, Pladimir Vutin]              [Joe Ding]   \n",
       "2  [Eva Pladimirova, Pladimir Vutin]              [Joe Dong]   \n",
       "\n",
       "  ap_all_employer_names_aggregated wl_all_employer_names_aggregated  ...  \\\n",
       "0                               []                       [Joe Ding]  ...   \n",
       "1                               []                       [Joe Ding]  ...   \n",
       "2                               []                       [Joe Dong]  ...   \n",
       "\n",
       "  wl_all_hit_types_aggregated ap_all_matched_tokens_tp_markeds_aggregated  \\\n",
       "0                          []                                          []   \n",
       "1                          []                                          []   \n",
       "2                          []                                          []   \n",
       "\n",
       "  wl_all_matched_tokens_tp_markeds_aggregated  \\\n",
       "0                                          []   \n",
       "1                                          []   \n",
       "2                                          []   \n",
       "\n",
       "  ap_all_ap_name_tp_markeds_aggregated wl_all_ap_name_tp_markeds_aggregated  \\\n",
       "0                                   []                                   []   \n",
       "1                                   []                                   []   \n",
       "2                                   []                                   []   \n",
       "\n",
       "  ap_all_ap_id_tp_markeds_aggregated wl_all_ap_id_tp_markeds_aggregated  \\\n",
       "0                                 []                                 []   \n",
       "1                                 []                                 []   \n",
       "2                                 []                                 []   \n",
       "\n",
       "  ap_all_is_entity_matchs_aggregated wl_all_is_entity_matchs_aggregated  \\\n",
       "0                                [I]                                [I]   \n",
       "1                                [I]                                [I]   \n",
       "2                                [I]                                [I]   \n",
       "\n",
       "                             all_hit_type_aggregated  \n",
       "0  [{'name': [], 'country': ['ADDRESS1_COUNTRY'],...  \n",
       "1  [{'name': [], 'country': ['ADDRESS1_COUNTRY'],...  \n",
       "2  [{'name': [], 'country': ['ADDRESS1_COUNTRY'],...  \n",
       "\n",
       "[3 rows x 31 columns]"
      ]
     },
     "execution_count": 42,
     "metadata": {},
     "output_type": "execute_result"
    }
   ],
   "source": [
    "import pandas as pd\n",
    "out_payload = pd.DataFrame([match for payload in new_payloads   for match in payload['watchlistParty']['matchRecords']])\n",
    "\n",
    "out_payload[[i for i in out_payload.columns  if i.endswith(\"_aggregated\")]]"
   ]
  },
  {
   "cell_type": "code",
   "execution_count": 43,
   "id": "5f1424fb-043b-4b80-b922-7678b2765260",
   "metadata": {},
   "outputs": [
    {
     "name": "stdout",
     "output_type": "stream",
     "text": [
      "=====================\n",
      "PAYLOAD\n",
      "123\n",
      "0 match\n",
      "['02/31/1900', '04/31/1910'] ['MAY 6, 1981']\n",
      "['United States', 'UNITED STATES OF AMERICA'] ['US', 'United States of America']\n",
      "=====================\n",
      "PAYLOAD\n",
      "122438659\n",
      "0 match\n",
      "['02/31/1900', '04/31/1910'] ['MAY 6, 1981']\n",
      "['United States', 'UNITED STATES OF AMERICA'] ['US', 'United States of America']\n",
      "=====================\n",
      "PAYLOAD\n",
      "122438659\n",
      "0 match\n",
      "['02/31/1900', '04/31/1910'] ['MAY 6, 1981']\n",
      "['United States', 'UNITED STATES OF AMERICA'] ['Poland', 'PL']\n"
     ]
    }
   ],
   "source": [
    "for payload in new_payloads:\n",
    "    print('=====================')\n",
    "    print('PAYLOAD')\n",
    "    print(payload['alertedParty']['inputRecordHist']['inputRecords'][0]['versionId'])\n",
    "        \n",
    "    for num, match in enumerate(payload['watchlistParty']['matchRecords']):\n",
    "        assert (match['inputVersionId'] == payload['alertedParty']['inputRecordHist']['inputRecords'][0]['versionId'])\n",
    "        print(num, 'match')\n",
    "        print(match[\"ap_all_dobs_aggregated\"], match[\"wl_all_dobs_aggregated\"])\n",
    "        try:\n",
    "            print(match[\"ap_all_residencies_aggregated\"], match[\"wl_all_residencies_aggregated\"])\n",
    "        except:\n",
    "            break\n"
   ]
  },
  {
   "cell_type": "code",
   "execution_count": 44,
   "id": "ded97825-dd07-477b-8e88-8b2f6a64d22a",
   "metadata": {},
   "outputs": [],
   "source": [
    "import pickle\n",
    "with open(\"tests/shared/parsed_payload_2_payload.pkl\", \"wb\") as f:\n",
    "    pickle.dump(new_payloads, f)"
   ]
  },
  {
   "cell_type": "code",
   "execution_count": 45,
   "id": "79ea48ac-d227-414c-a898-afaa178bb544",
   "metadata": {},
   "outputs": [],
   "source": [
    "new_dict = {}\n",
    "def return_key(dict_, prefix):\n",
    "    \n",
    "    if isinstance(dict_, list):\n",
    "        for num, i in enumerate(dict_):\n",
    "            return_key(i, prefix +f\"[{num}]\")\n",
    "        return\n",
    "    if isinstance(dict_, str) or dict_ is None:\n",
    "        new_dict[prefix] = dict_\n",
    "        return\n",
    "\n",
    "    for key in dict_:\n",
    "        if prefix:\n",
    "            basic_prefix = prefix + \".\" + key\n",
    "        else:\n",
    "            basic_prefix = key\n",
    "        return_key(dict_[key], basic_prefix)"
   ]
  },
  {
   "cell_type": "code",
   "execution_count": 46,
   "id": "d69753eb",
   "metadata": {},
   "outputs": [],
   "source": [
    "with open(f'notebooks/sample/wm_party_payload_without_supplemental_info.json', 'r') as file:\n",
    "    payload = json.loads(file.read())\n",
    "\n",
    "payload_json = {key: payload[key] for key in sorted(payload)}\n",
    "payload_json = PayloadLoader().load_payload_from_json(payload_json)\n",
    "\n",
    "\n",
    "\n",
    "payload_json['match_ids'] = [i for i in range(len(payload_json[\"watchlistParty\"][\"matchRecords\"]))]\n"
   ]
  },
  {
   "cell_type": "code",
   "execution_count": 47,
   "id": "46e16414",
   "metadata": {},
   "outputs": [],
   "source": [
    "payload = payload_json"
   ]
  },
  {
   "cell_type": "code",
   "execution_count": 48,
   "id": "786c1f11",
   "metadata": {},
   "outputs": [],
   "source": [
    "payload = pipeline.transform_standardized_to_cleansed(payload)"
   ]
  },
  {
   "cell_type": "code",
   "execution_count": 49,
   "id": "d3ae8a11",
   "metadata": {},
   "outputs": [],
   "source": [
    "new_payloads = pipeline.transform_cleansed_to_application(payload)"
   ]
  },
  {
   "cell_type": "code",
   "execution_count": 50,
   "id": "cde9b622",
   "metadata": {},
   "outputs": [
    {
     "data": {
      "text/html": [
       "<div>\n",
       "<style scoped>\n",
       "    .dataframe tbody tr th:only-of-type {\n",
       "        vertical-align: middle;\n",
       "    }\n",
       "\n",
       "    .dataframe tbody tr th {\n",
       "        vertical-align: top;\n",
       "    }\n",
       "\n",
       "    .dataframe thead th {\n",
       "        text-align: right;\n",
       "    }\n",
       "</style>\n",
       "<table border=\"1\" class=\"dataframe\">\n",
       "  <thead>\n",
       "    <tr style=\"text-align: right;\">\n",
       "      <th></th>\n",
       "      <th>ap_all_dobs_aggregated</th>\n",
       "      <th>wl_all_dobs_aggregated</th>\n",
       "      <th>ap_all_documents_aggregated</th>\n",
       "      <th>wl_all_documents_aggregated</th>\n",
       "      <th>ap_all_company_names_aggregated</th>\n",
       "      <th>wl_all_company_names_aggregated</th>\n",
       "      <th>ap_all_names_aggregated</th>\n",
       "      <th>wl_all_names_aggregated</th>\n",
       "      <th>ap_all_employer_names_aggregated</th>\n",
       "      <th>wl_all_employer_names_aggregated</th>\n",
       "      <th>...</th>\n",
       "      <th>wl_all_hit_types_aggregated</th>\n",
       "      <th>ap_all_matched_tokens_tp_markeds_aggregated</th>\n",
       "      <th>wl_all_matched_tokens_tp_markeds_aggregated</th>\n",
       "      <th>ap_all_ap_name_tp_markeds_aggregated</th>\n",
       "      <th>wl_all_ap_name_tp_markeds_aggregated</th>\n",
       "      <th>ap_all_ap_id_tp_markeds_aggregated</th>\n",
       "      <th>wl_all_ap_id_tp_markeds_aggregated</th>\n",
       "      <th>ap_all_is_entity_matchs_aggregated</th>\n",
       "      <th>wl_all_is_entity_matchs_aggregated</th>\n",
       "      <th>all_hit_type_aggregated</th>\n",
       "    </tr>\n",
       "  </thead>\n",
       "  <tbody>\n",
       "    <tr>\n",
       "      <th>0</th>\n",
       "      <td>[]</td>\n",
       "      <td>[MAY 6, 1981]</td>\n",
       "      <td>[]</td>\n",
       "      <td>[]</td>\n",
       "      <td>[]</td>\n",
       "      <td>[Joe Ding]</td>\n",
       "      <td>[]</td>\n",
       "      <td>[Joe Ding]</td>\n",
       "      <td>[]</td>\n",
       "      <td>[Joe Ding]</td>\n",
       "      <td>...</td>\n",
       "      <td>[]</td>\n",
       "      <td>[]</td>\n",
       "      <td>[]</td>\n",
       "      <td>[]</td>\n",
       "      <td>[]</td>\n",
       "      <td>[]</td>\n",
       "      <td>[]</td>\n",
       "      <td>[C]</td>\n",
       "      <td>[I]</td>\n",
       "      <td>[{'name': [], 'country': ['ADDRESS1_COUNTRY'],...</td>\n",
       "    </tr>\n",
       "    <tr>\n",
       "      <th>1</th>\n",
       "      <td>[]</td>\n",
       "      <td>[MAY 6, 1981]</td>\n",
       "      <td>[]</td>\n",
       "      <td>[]</td>\n",
       "      <td>[]</td>\n",
       "      <td>[Joe Dong]</td>\n",
       "      <td>[]</td>\n",
       "      <td>[Joe Dong]</td>\n",
       "      <td>[]</td>\n",
       "      <td>[Joe Dong]</td>\n",
       "      <td>...</td>\n",
       "      <td>[]</td>\n",
       "      <td>[]</td>\n",
       "      <td>[]</td>\n",
       "      <td>[]</td>\n",
       "      <td>[]</td>\n",
       "      <td>[]</td>\n",
       "      <td>[]</td>\n",
       "      <td>[C]</td>\n",
       "      <td>[I]</td>\n",
       "      <td>[{'name': [], 'country': ['ADDRESS1_COUNTRY'],...</td>\n",
       "    </tr>\n",
       "  </tbody>\n",
       "</table>\n",
       "<p>2 rows × 31 columns</p>\n",
       "</div>"
      ],
      "text/plain": [
       "  ap_all_dobs_aggregated wl_all_dobs_aggregated ap_all_documents_aggregated  \\\n",
       "0                     []          [MAY 6, 1981]                          []   \n",
       "1                     []          [MAY 6, 1981]                          []   \n",
       "\n",
       "  wl_all_documents_aggregated ap_all_company_names_aggregated  \\\n",
       "0                          []                              []   \n",
       "1                          []                              []   \n",
       "\n",
       "  wl_all_company_names_aggregated ap_all_names_aggregated  \\\n",
       "0                      [Joe Ding]                      []   \n",
       "1                      [Joe Dong]                      []   \n",
       "\n",
       "  wl_all_names_aggregated ap_all_employer_names_aggregated  \\\n",
       "0              [Joe Ding]                               []   \n",
       "1              [Joe Dong]                               []   \n",
       "\n",
       "  wl_all_employer_names_aggregated  ... wl_all_hit_types_aggregated  \\\n",
       "0                       [Joe Ding]  ...                          []   \n",
       "1                       [Joe Dong]  ...                          []   \n",
       "\n",
       "  ap_all_matched_tokens_tp_markeds_aggregated  \\\n",
       "0                                          []   \n",
       "1                                          []   \n",
       "\n",
       "  wl_all_matched_tokens_tp_markeds_aggregated  \\\n",
       "0                                          []   \n",
       "1                                          []   \n",
       "\n",
       "  ap_all_ap_name_tp_markeds_aggregated wl_all_ap_name_tp_markeds_aggregated  \\\n",
       "0                                   []                                   []   \n",
       "1                                   []                                   []   \n",
       "\n",
       "  ap_all_ap_id_tp_markeds_aggregated wl_all_ap_id_tp_markeds_aggregated  \\\n",
       "0                                 []                                 []   \n",
       "1                                 []                                 []   \n",
       "\n",
       "  ap_all_is_entity_matchs_aggregated wl_all_is_entity_matchs_aggregated  \\\n",
       "0                                [C]                                [I]   \n",
       "1                                [C]                                [I]   \n",
       "\n",
       "                             all_hit_type_aggregated  \n",
       "0  [{'name': [], 'country': ['ADDRESS1_COUNTRY'],...  \n",
       "1  [{'name': [], 'country': ['ADDRESS1_COUNTRY'],...  \n",
       "\n",
       "[2 rows x 31 columns]"
      ]
     },
     "execution_count": 50,
     "metadata": {},
     "output_type": "execute_result"
    }
   ],
   "source": [
    "import pandas as pd\n",
    "out_payload = pd.DataFrame([match for payload in new_payloads   for match in payload['watchlistParty']['matchRecords']])\n",
    "\n",
    "out_payload[[i for i in out_payload.columns  if i.endswith(\"_aggregated\")]]"
   ]
  },
  {
   "cell_type": "code",
   "execution_count": 51,
   "id": "3fb34d9e",
   "metadata": {},
   "outputs": [
    {
     "name": "stdout",
     "output_type": "stream",
     "text": [
      "=====================\n",
      "PAYLOAD\n",
      "122438658\n",
      "0 match\n",
      "[] ['MAY 6, 1981']\n",
      "[] []\n",
      "=====================\n",
      "PAYLOAD\n",
      "122438659\n",
      "0 match\n",
      "[] ['MAY 6, 1981']\n",
      "[] ['Poland', 'PL']\n"
     ]
    }
   ],
   "source": [
    "for payload in new_payloads:\n",
    "    print('=====================')\n",
    "    print('PAYLOAD')\n",
    "    print(payload['alertedParty']['inputRecordHist']['inputRecords'][0]['versionId'])\n",
    "        \n",
    "    for num, match in enumerate(payload['watchlistParty']['matchRecords']):\n",
    "        assert (match['inputVersionId'] == payload['alertedParty']['inputRecordHist']['inputRecords'][0]['versionId'])\n",
    "        print(num, 'match')\n",
    "        print(match[\"ap_all_dobs_aggregated\"], match[\"wl_all_dobs_aggregated\"])\n",
    "        try:\n",
    "            print(match[\"ap_all_residencies_aggregated\"], match[\"wl_all_residencies_aggregated\"])\n",
    "        except:\n",
    "            break\n"
   ]
  },
  {
   "cell_type": "code",
   "execution_count": 52,
   "id": "6fbe02b0",
   "metadata": {},
   "outputs": [],
   "source": [
    "import pickle\n",
    "with open(\"tests/shared/empty_payload.pkl\", \"wb\") as f:\n",
    "    pickle.dump(new_payloads, f)"
   ]
  },
  {
   "cell_type": "code",
   "execution_count": 53,
   "id": "d52acf6e",
   "metadata": {},
   "outputs": [],
   "source": [
    "from etl_pipeline.config import load_agent_config"
   ]
  },
  {
   "cell_type": "code",
   "execution_count": 54,
   "id": "39a56709",
   "metadata": {},
   "outputs": [
    {
     "data": {
      "text/html": [
       "<div>\n",
       "<style scoped>\n",
       "    .dataframe tbody tr th:only-of-type {\n",
       "        vertical-align: middle;\n",
       "    }\n",
       "\n",
       "    .dataframe tbody tr th {\n",
       "        vertical-align: top;\n",
       "    }\n",
       "\n",
       "    .dataframe thead th {\n",
       "        text-align: right;\n",
       "    }\n",
       "</style>\n",
       "<table border=\"1\" class=\"dataframe\">\n",
       "  <thead>\n",
       "    <tr style=\"text-align: right;\">\n",
       "      <th></th>\n",
       "      <th>ap_all_dobs_aggregated</th>\n",
       "      <th>wl_all_dobs_aggregated</th>\n",
       "      <th>ap_all_documents_aggregated</th>\n",
       "      <th>wl_all_documents_aggregated</th>\n",
       "      <th>ap_all_company_names_aggregated</th>\n",
       "      <th>wl_all_company_names_aggregated</th>\n",
       "      <th>ap_all_names_aggregated</th>\n",
       "      <th>wl_all_names_aggregated</th>\n",
       "      <th>ap_all_employer_names_aggregated</th>\n",
       "      <th>wl_all_employer_names_aggregated</th>\n",
       "      <th>...</th>\n",
       "      <th>wl_all_hit_types_aggregated</th>\n",
       "      <th>ap_all_matched_tokens_tp_markeds_aggregated</th>\n",
       "      <th>wl_all_matched_tokens_tp_markeds_aggregated</th>\n",
       "      <th>ap_all_ap_name_tp_markeds_aggregated</th>\n",
       "      <th>wl_all_ap_name_tp_markeds_aggregated</th>\n",
       "      <th>ap_all_ap_id_tp_markeds_aggregated</th>\n",
       "      <th>wl_all_ap_id_tp_markeds_aggregated</th>\n",
       "      <th>ap_all_is_entity_matchs_aggregated</th>\n",
       "      <th>wl_all_is_entity_matchs_aggregated</th>\n",
       "      <th>all_hit_type_aggregated</th>\n",
       "    </tr>\n",
       "  </thead>\n",
       "  <tbody>\n",
       "    <tr>\n",
       "      <th>0</th>\n",
       "      <td>[]</td>\n",
       "      <td>[MAY 6, 1981]</td>\n",
       "      <td>[]</td>\n",
       "      <td>[]</td>\n",
       "      <td>[]</td>\n",
       "      <td>[Joe Ding]</td>\n",
       "      <td>[]</td>\n",
       "      <td>[Joe Ding]</td>\n",
       "      <td>[]</td>\n",
       "      <td>[Joe Ding]</td>\n",
       "      <td>...</td>\n",
       "      <td>[]</td>\n",
       "      <td>[]</td>\n",
       "      <td>[]</td>\n",
       "      <td>[]</td>\n",
       "      <td>[]</td>\n",
       "      <td>[]</td>\n",
       "      <td>[]</td>\n",
       "      <td>[C]</td>\n",
       "      <td>[I]</td>\n",
       "      <td>[{'name': [], 'country': ['ADDRESS1_COUNTRY'],...</td>\n",
       "    </tr>\n",
       "    <tr>\n",
       "      <th>1</th>\n",
       "      <td>[]</td>\n",
       "      <td>[MAY 6, 1981]</td>\n",
       "      <td>[]</td>\n",
       "      <td>[]</td>\n",
       "      <td>[]</td>\n",
       "      <td>[Joe Dong]</td>\n",
       "      <td>[]</td>\n",
       "      <td>[Joe Dong]</td>\n",
       "      <td>[]</td>\n",
       "      <td>[Joe Dong]</td>\n",
       "      <td>...</td>\n",
       "      <td>[]</td>\n",
       "      <td>[]</td>\n",
       "      <td>[]</td>\n",
       "      <td>[]</td>\n",
       "      <td>[]</td>\n",
       "      <td>[]</td>\n",
       "      <td>[]</td>\n",
       "      <td>[C]</td>\n",
       "      <td>[I]</td>\n",
       "      <td>[{'name': [], 'country': ['ADDRESS1_COUNTRY'],...</td>\n",
       "    </tr>\n",
       "  </tbody>\n",
       "</table>\n",
       "<p>2 rows × 31 columns</p>\n",
       "</div>"
      ],
      "text/plain": [
       "  ap_all_dobs_aggregated wl_all_dobs_aggregated ap_all_documents_aggregated  \\\n",
       "0                     []          [MAY 6, 1981]                          []   \n",
       "1                     []          [MAY 6, 1981]                          []   \n",
       "\n",
       "  wl_all_documents_aggregated ap_all_company_names_aggregated  \\\n",
       "0                          []                              []   \n",
       "1                          []                              []   \n",
       "\n",
       "  wl_all_company_names_aggregated ap_all_names_aggregated  \\\n",
       "0                      [Joe Ding]                      []   \n",
       "1                      [Joe Dong]                      []   \n",
       "\n",
       "  wl_all_names_aggregated ap_all_employer_names_aggregated  \\\n",
       "0              [Joe Ding]                               []   \n",
       "1              [Joe Dong]                               []   \n",
       "\n",
       "  wl_all_employer_names_aggregated  ... wl_all_hit_types_aggregated  \\\n",
       "0                       [Joe Ding]  ...                          []   \n",
       "1                       [Joe Dong]  ...                          []   \n",
       "\n",
       "  ap_all_matched_tokens_tp_markeds_aggregated  \\\n",
       "0                                          []   \n",
       "1                                          []   \n",
       "\n",
       "  wl_all_matched_tokens_tp_markeds_aggregated  \\\n",
       "0                                          []   \n",
       "1                                          []   \n",
       "\n",
       "  ap_all_ap_name_tp_markeds_aggregated wl_all_ap_name_tp_markeds_aggregated  \\\n",
       "0                                   []                                   []   \n",
       "1                                   []                                   []   \n",
       "\n",
       "  ap_all_ap_id_tp_markeds_aggregated wl_all_ap_id_tp_markeds_aggregated  \\\n",
       "0                                 []                                 []   \n",
       "1                                 []                                 []   \n",
       "\n",
       "  ap_all_is_entity_matchs_aggregated wl_all_is_entity_matchs_aggregated  \\\n",
       "0                                [C]                                [I]   \n",
       "1                                [C]                                [I]   \n",
       "\n",
       "                             all_hit_type_aggregated  \n",
       "0  [{'name': [], 'country': ['ADDRESS1_COUNTRY'],...  \n",
       "1  [{'name': [], 'country': ['ADDRESS1_COUNTRY'],...  \n",
       "\n",
       "[2 rows x 31 columns]"
      ]
     },
     "execution_count": 54,
     "metadata": {},
     "output_type": "execute_result"
    }
   ],
   "source": [
    "import pandas as pd\n",
    "out_payload = pd.DataFrame([match for payload in new_payloads   for match in payload['watchlistParty']['matchRecords']])\n",
    "\n",
    "out_payload[[i for i in out_payload.columns  if i.endswith(\"_aggregated\")]]"
   ]
  },
  {
   "cell_type": "code",
   "execution_count": 55,
   "id": "96d2557a",
   "metadata": {},
   "outputs": [
    {
     "ename": "NameError",
     "evalue": "name 'CONFIG_APP_DIR' is not defined",
     "output_type": "error",
     "traceback": [
      "\u001b[0;31m---------------------------------------------------------------------------\u001b[0m",
      "\u001b[0;31mNameError\u001b[0m                                 Traceback (most recent call last)",
      "\u001b[0;32m<ipython-input-55-765dbd779c37>\u001b[0m in \u001b[0;36m<module>\u001b[0;34m\u001b[0m\n\u001b[1;32m      1\u001b[0m \u001b[0;32mfrom\u001b[0m \u001b[0momegaconf\u001b[0m \u001b[0;32mimport\u001b[0m \u001b[0mOmegaConf\u001b[0m\u001b[0;34m\u001b[0m\u001b[0;34m\u001b[0m\u001b[0m\n\u001b[1;32m      2\u001b[0m alert_agents_config = {\n\u001b[0;32m----> 3\u001b[0;31m         \u001b[0;34m\"alert_type\"\u001b[0m\u001b[0;34m:\u001b[0m \u001b[0mOmegaConf\u001b[0m\u001b[0;34m.\u001b[0m\u001b[0mload\u001b[0m\u001b[0;34m(\u001b[0m\u001b[0mos\u001b[0m\u001b[0;34m.\u001b[0m\u001b[0mpath\u001b[0m\u001b[0;34m.\u001b[0m\u001b[0mjoin\u001b[0m\u001b[0;34m(\u001b[0m\u001b[0mCONFIG_APP_DIR\u001b[0m\u001b[0;34m,\u001b[0m \u001b[0;34m\"agents\"\u001b[0m\u001b[0;34m,\u001b[0m \u001b[0;34m\"agents.yaml\"\u001b[0m\u001b[0;34m)\u001b[0m\u001b[0;34m)\u001b[0m\u001b[0;34m\u001b[0m\u001b[0;34m\u001b[0m\u001b[0m\n\u001b[0m\u001b[1;32m      4\u001b[0m     }\n\u001b[1;32m      5\u001b[0m \u001b[0;34m\u001b[0m\u001b[0m\n",
      "\u001b[0;31mNameError\u001b[0m: name 'CONFIG_APP_DIR' is not defined"
     ]
    }
   ],
   "source": [
    "from omegaconf import OmegaConf\n",
    "alert_agents_config = {\n",
    "        \"alert_type\": OmegaConf.load(os.path.join(CONFIG_APP_DIR, \"agents\", \"agents.yaml\"))\n",
    "    }\n",
    "\n",
    "\n",
    "import omegaconf\n",
    "def get_fields(dict_):\n",
    "    fields = []\n",
    "    for key in dict_:\n",
    "        \n",
    "        if isinstance(dict_[key], omegaconf.dictconfig.DictConfig):\n",
    "            new_fields = get_fields(dict_[key])\n",
    "            fields.extend(new_fields)\n",
    "        else:\n",
    "#             import pdb; pdb.set_trace()\n",
    "            fields.extend(dict_[key])\n",
    "    return fields\n",
    "\n",
    "fields = [i.split('.')[-1] for i in get_fields(alert_agents_config['alert_type']) if \"alertedParty.inputRecordHist.inputRecords.INPUT_FIELD\" not in i]\n",
    "    \n",
    "    \n",
    "\n",
    "from glob import glob\n",
    "\n",
    "files = glob(\"pipelines/**/*.py\",  recursive=True)\n",
    "files.extend(glob(\"etl_pipeline/**/*.py\",  recursive=True))\n",
    "\n",
    "fields_to_check = list(fields)\n",
    "for file in files:\n",
    "    with open(file) as f:\n",
    "        text = f.read()\n",
    "    new_fields_to_check = []\n",
    "    \n",
    "    for field in fields_to_check:\n",
    "        if field in text:\n",
    "            continue\n",
    "        new_fields_to_check.append(field)\n",
    "    fields_to_check = new_fields_to_check\n",
    "        \n",
    "    \n",
    "\n",
    "fields_to_check\n",
    "\n",
    "CONFIG_APP_DIR = os.environ[\"CONFIG_APP_DIR\"] "
   ]
  },
  {
   "cell_type": "code",
   "execution_count": 56,
   "id": "cb3989b9",
   "metadata": {},
   "outputs": [],
   "source": [
    "import pickle"
   ]
  },
  {
   "cell_type": "code",
   "execution_count": 57,
   "id": "d800dacf",
   "metadata": {},
   "outputs": [],
   "source": [
    "with open(\"/tmp/request.pkl\", 'rb') as f:\n",
    "    r = pickle.load(f)"
   ]
  },
  {
   "cell_type": "code",
   "execution_count": 58,
   "id": "43be1e23",
   "metadata": {},
   "outputs": [],
   "source": [
    "from silenteight.datasource.api.name.v1.name_pb2 import (\n",
    "    NameFeatureInput,\n",
    ")"
   ]
  },
  {
   "cell_type": "code",
   "execution_count": 59,
   "id": "b14a2821",
   "metadata": {},
   "outputs": [],
   "source": [
    "from google.protobuf.any_pb2 import Any"
   ]
  },
  {
   "cell_type": "code",
   "execution_count": 60,
   "id": "6c1172e8",
   "metadata": {},
   "outputs": [],
   "source": [
    "some_any2 = Any()\n",
    "message = NameFeatureInput()\n",
    "some_any2.Pack(NameFeatureInput())\n",
    "# some_any2.CopyFrom(i.feature_inputs[0].agent_feature_input)\n"
   ]
  },
  {
   "cell_type": "code",
   "execution_count": 61,
   "id": "72090ccf",
   "metadata": {},
   "outputs": [
    {
     "ename": "NameError",
     "evalue": "name 'i' is not defined",
     "output_type": "error",
     "traceback": [
      "\u001b[0;31m---------------------------------------------------------------------------\u001b[0m",
      "\u001b[0;31mNameError\u001b[0m                                 Traceback (most recent call last)",
      "\u001b[0;32m<ipython-input-61-facba1f3c472>\u001b[0m in \u001b[0;36m<module>\u001b[0;34m\u001b[0m\n\u001b[0;32m----> 1\u001b[0;31m \u001b[0mi\u001b[0m\u001b[0;34m.\u001b[0m\u001b[0mfeature_inputs\u001b[0m\u001b[0;34m[\u001b[0m\u001b[0;36m0\u001b[0m\u001b[0;34m]\u001b[0m\u001b[0;34m.\u001b[0m\u001b[0magent_feature_input\u001b[0m\u001b[0;34m\u001b[0m\u001b[0;34m\u001b[0m\u001b[0m\n\u001b[0m",
      "\u001b[0;31mNameError\u001b[0m: name 'i' is not defined"
     ]
    }
   ],
   "source": [
    "i.feature_inputs[0].agent_feature_input"
   ]
  },
  {
   "cell_type": "code",
   "execution_count": 62,
   "id": "77713365",
   "metadata": {},
   "outputs": [
    {
     "ename": "NameError",
     "evalue": "name 'i' is not defined",
     "output_type": "error",
     "traceback": [
      "\u001b[0;31m---------------------------------------------------------------------------\u001b[0m",
      "\u001b[0;31mNameError\u001b[0m                                 Traceback (most recent call last)",
      "\u001b[0;32m<ipython-input-62-b20af84b756b>\u001b[0m in \u001b[0;36m<module>\u001b[0;34m\u001b[0m\n\u001b[0;32m----> 1\u001b[0;31m \u001b[0mi\u001b[0m\u001b[0;34m.\u001b[0m\u001b[0mfeature_inputs\u001b[0m\u001b[0;34m[\u001b[0m\u001b[0;36m0\u001b[0m\u001b[0;34m]\u001b[0m\u001b[0;34m.\u001b[0m\u001b[0magent_feature_input\u001b[0m\u001b[0;34m.\u001b[0m\u001b[0mUnpack\u001b[0m\u001b[0;34m(\u001b[0m\u001b[0mmessage\u001b[0m\u001b[0;34m)\u001b[0m\u001b[0;34m\u001b[0m\u001b[0;34m\u001b[0m\u001b[0m\n\u001b[0m",
      "\u001b[0;31mNameError\u001b[0m: name 'i' is not defined"
     ]
    }
   ],
   "source": [
    "i.feature_inputs[0].agent_feature_input.Unpack(message)"
   ]
  },
  {
   "cell_type": "code",
   "execution_count": 63,
   "id": "bba23ea6",
   "metadata": {},
   "outputs": [
    {
     "data": {
      "text/plain": []
     },
     "execution_count": 63,
     "metadata": {},
     "output_type": "execute_result"
    }
   ],
   "source": [
    "message"
   ]
  },
  {
   "cell_type": "code",
   "execution_count": 64,
   "id": "bbda4d63",
   "metadata": {},
   "outputs": [
    {
     "ename": "SyntaxError",
     "evalue": "invalid syntax (<ipython-input-64-45f018d90cca>, line 1)",
     "output_type": "error",
     "traceback": [
      "\u001b[0;36m  File \u001b[0;32m\"<ipython-input-64-45f018d90cca>\"\u001b[0;36m, line \u001b[0;32m1\u001b[0m\n\u001b[0;31m    unpacked_msg = extension_pb2.GeneralContent_Extension())\u001b[0m\n\u001b[0m                                                           ^\u001b[0m\n\u001b[0;31mSyntaxError\u001b[0m\u001b[0;31m:\u001b[0m invalid syntax\n"
     ]
    }
   ],
   "source": [
    "unpacked_msg = extension_pb2.GeneralContent_Extension())\n"
   ]
  },
  {
   "cell_type": "code",
   "execution_count": null,
   "id": "cef352d6",
   "metadata": {},
   "outputs": [],
   "source": []
  },
  {
   "cell_type": "code",
   "execution_count": 65,
   "id": "37346f7f",
   "metadata": {},
   "outputs": [
    {
     "ename": "TypeError",
     "evalue": "descriptor 'ParseFromString' of 'google.protobuf.pyext._message.CMessage' object needs an argument",
     "output_type": "error",
     "traceback": [
      "\u001b[0;31m---------------------------------------------------------------------------\u001b[0m",
      "\u001b[0;31mTypeError\u001b[0m                                 Traceback (most recent call last)",
      "\u001b[0;32m<ipython-input-65-e8378ac79726>\u001b[0m in \u001b[0;36m<module>\u001b[0;34m\u001b[0m\n\u001b[0;32m----> 1\u001b[0;31m \u001b[0mNameFeatureInput\u001b[0m\u001b[0;34m.\u001b[0m\u001b[0mParseFromString\u001b[0m\u001b[0;34m(\u001b[0m\u001b[0;34m)\u001b[0m\u001b[0;34m\u001b[0m\u001b[0;34m\u001b[0m\u001b[0m\n\u001b[0m",
      "\u001b[0;31mTypeError\u001b[0m: descriptor 'ParseFromString' of 'google.protobuf.pyext._message.CMessage' object needs an argument"
     ]
    }
   ],
   "source": [
    "NameFeatureInput.ParseFromString()"
   ]
  },
  {
   "cell_type": "code",
   "execution_count": null,
   "id": "b5715d05",
   "metadata": {},
   "outputs": [],
   "source": []
  },
  {
   "cell_type": "code",
   "execution_count": 66,
   "id": "88020e17",
   "metadata": {},
   "outputs": [
    {
     "ename": "SyntaxError",
     "evalue": "invalid syntax (<ipython-input-66-5fc39aa70bf1>, line 1)",
     "output_type": "error",
     "traceback": [
      "\u001b[0;36m  File \u001b[0;32m\"<ipython-input-66-5fc39aa70bf1>\"\u001b[0;36m, line \u001b[0;32m1\u001b[0m\n\u001b[0;31m    from sile\u001b[0m\n\u001b[0m             ^\u001b[0m\n\u001b[0;31mSyntaxError\u001b[0m\u001b[0;31m:\u001b[0m invalid syntax\n"
     ]
    }
   ],
   "source": [
    "from sile\n",
    "i.feature_inputs[0].agent_feature_input.value.decode('utf-8')"
   ]
  },
  {
   "cell_type": "code",
   "execution_count": 67,
   "id": "8a8e243f",
   "metadata": {},
   "outputs": [
    {
     "ename": "NameError",
     "evalue": "name 'i' is not defined",
     "output_type": "error",
     "traceback": [
      "\u001b[0;31m---------------------------------------------------------------------------\u001b[0m",
      "\u001b[0;31mNameError\u001b[0m                                 Traceback (most recent call last)",
      "\u001b[0;32m<ipython-input-67-91443918fde4>\u001b[0m in \u001b[0;36m<module>\u001b[0;34m\u001b[0m\n\u001b[0;32m----> 1\u001b[0;31m \u001b[0mtype\u001b[0m\u001b[0;34m(\u001b[0m\u001b[0mi\u001b[0m\u001b[0;34m.\u001b[0m\u001b[0mfeature_inputs\u001b[0m\u001b[0;34m[\u001b[0m\u001b[0;36m0\u001b[0m\u001b[0;34m]\u001b[0m\u001b[0;34m.\u001b[0m\u001b[0magent_feature_input\u001b[0m\u001b[0;34m.\u001b[0m\u001b[0mtype_url\u001b[0m\u001b[0;34m)\u001b[0m\u001b[0;34m\u001b[0m\u001b[0;34m\u001b[0m\u001b[0m\n\u001b[0m",
      "\u001b[0;31mNameError\u001b[0m: name 'i' is not defined"
     ]
    }
   ],
   "source": [
    "type(i.feature_inputs[0].agent_feature_input.type_url)"
   ]
  },
  {
   "cell_type": "code",
   "execution_count": null,
   "id": "f9bd05fc",
   "metadata": {},
   "outputs": [],
   "source": [
    "for i in response.agent_inputs:\n",
    "    print(i.feature_inputs)"
   ]
  },
  {
   "cell_type": "code",
   "execution_count": null,
   "id": "e230faaa",
   "metadata": {},
   "outputs": [],
   "source": [
    "for "
   ]
  }
 ],
 "metadata": {
  "kernelspec": {
   "display_name": "Python 3",
   "language": "python",
   "name": "python3"
  },
  "language_info": {
   "codemirror_mode": {
    "name": "ipython",
    "version": 3
   },
   "file_extension": ".py",
   "mimetype": "text/x-python",
   "name": "python",
   "nbconvert_exporter": "python",
   "pygments_lexer": "ipython3",
   "version": "3.6.13"
  }
 },
 "nbformat": 4,
 "nbformat_minor": 5
}
