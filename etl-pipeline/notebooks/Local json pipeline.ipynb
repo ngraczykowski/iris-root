{
 "cells": [
  {
   "cell_type": "code",
   "execution_count": 1,
   "id": "3bd69b4c-19cf-48f7-a810-a4890e66302f",
   "metadata": {
    "tags": []
   },
   "outputs": [],
   "source": [
    "import os\n",
    "\n",
    "os.environ[\"CONFIG_APP_DIR\"] = \"config\"\n"
   ]
  },
  {
   "cell_type": "code",
   "execution_count": null,
   "id": "7b9e3f93",
   "metadata": {},
   "outputs": [],
   "source": []
  },
  {
   "cell_type": "code",
   "execution_count": 2,
   "id": "3c549e53",
   "metadata": {},
   "outputs": [
    {
     "name": "stderr",
     "output_type": "stream",
     "text": [
      "/env/ds/anaconda/envs/pipeline/lib/python3.6/site-packages/fuzzywuzzy/fuzz.py:11: UserWarning: Using slow pure-python SequenceMatcher. Install python-Levenshtein to remove this warning\n",
      "  warnings.warn('Using slow pure-python SequenceMatcher. Install python-Levenshtein to remove this warning')\n"
     ]
    }
   ],
   "source": [
    "import sys\n",
    "import os\n",
    "import pickle\n",
    "os.chdir(\"..\")\n",
    "from omegaconf import OmegaConf\n",
    "\n",
    "import json\n",
    "from etl_pipeline.data_processor_engine.json_engine.json_engine import JsonProcessingEngine\n",
    "from etl_pipeline.custom.ms.payload_loader import PayloadLoader"
   ]
  },
  {
   "cell_type": "code",
   "execution_count": 3,
   "id": "522650c7-af7a-4824-8d36-bf62f558577d",
   "metadata": {},
   "outputs": [],
   "source": [
    "from etl_pipeline.config import pipeline_config\n",
    "cn = pipeline_config.cn"
   ]
  },
  {
   "cell_type": "code",
   "execution_count": 4,
   "id": "565d811d",
   "metadata": {},
   "outputs": [],
   "source": [
    "# alert = load_alert()"
   ]
  },
  {
   "cell_type": "code",
   "execution_count": 5,
   "id": "c804420b-9569-449e-99b4-8d707bc9b956",
   "metadata": {
    "tags": []
   },
   "outputs": [],
   "source": [
    "# payload = load_alert()\n"
   ]
  },
  {
   "cell_type": "markdown",
   "id": "82153271-8b29-42f9-9ca8-4d3f7ba2b721",
   "metadata": {},
   "source": [
    "# Definition"
   ]
  },
  {
   "cell_type": "code",
   "execution_count": 6,
   "id": "5fd0fd62",
   "metadata": {},
   "outputs": [],
   "source": [
    "from pipelines.ms.ms_pipeline import MSPipeline\n",
    "from etl_pipeline.config import pipeline_config\n"
   ]
  },
  {
   "cell_type": "code",
   "execution_count": 7,
   "id": "21be2ec1",
   "metadata": {},
   "outputs": [],
   "source": [
    "with open(f'notebooks/sample/wm_address_in_payload_format.json', 'r') as file:\n",
    "    payload = json.loads(file.read())\n",
    "\n",
    "payload_json = {key: payload[key] for key in sorted(payload)}\n",
    "payload_json = PayloadLoader().load_payload_from_json(payload_json)\n",
    "payload_json['match_ids'] = [i for i in range(len(payload_json[\"watchlistParty\"][\"matchRecords\"]))]\n"
   ]
  },
  {
   "cell_type": "code",
   "execution_count": null,
   "id": "c975674e",
   "metadata": {},
   "outputs": [],
   "source": []
  },
  {
   "cell_type": "code",
   "execution_count": 8,
   "id": "d8f2f88b",
   "metadata": {},
   "outputs": [],
   "source": [
    "from etl_pipeline.config import load_agent_configs, pipeline_config"
   ]
  },
  {
   "cell_type": "code",
   "execution_count": 9,
   "id": "9415e064",
   "metadata": {},
   "outputs": [],
   "source": [
    "payload = payload_json"
   ]
  },
  {
   "cell_type": "code",
   "execution_count": 10,
   "id": "5c92b973",
   "metadata": {},
   "outputs": [
    {
     "name": "stderr",
     "output_type": "stream",
     "text": [
      "The following fields have not been found in any file:\n",
      "['ALL_CONNECTED_PARTY_CITIZENSHIP_COUNTRIES', 'ALL_CONNECTED_TAX_IDS', 'ALL_CONNECTED_PARTY_RESIDENCY_COUNTRIES', 'ALL_CONNECTED_PARTY_BIRTH_COUNTRIES', 'ALL_CONNECTED_GOVT_IDS', 'ALL_CONNECTED_COUNTRY_OF_INCORPORATION']\n"
     ]
    }
   ],
   "source": [
    "# engine = JsonProcessingEngine(pipeline_config)\n",
    "pipeline = MSPipeline.build_pipeline(MSPipeline)"
   ]
  },
  {
   "cell_type": "markdown",
   "id": "0594239d",
   "metadata": {},
   "source": [
    "## transform standardized to cleansed"
   ]
  },
  {
   "cell_type": "code",
   "execution_count": 11,
   "id": "58936657",
   "metadata": {},
   "outputs": [],
   "source": [
    "payload = pipeline.transform_standardized_to_cleansed(payload)"
   ]
  },
  {
   "cell_type": "markdown",
   "id": "6b0fa660",
   "metadata": {},
   "source": [
    "ALL_CONNECTED_ACCOUNT_NAMES# Transform standardized to application"
   ]
  },
  {
   "cell_type": "code",
   "execution_count": 12,
   "id": "604a60e5",
   "metadata": {},
   "outputs": [],
   "source": [
    "new_payloads = pipeline.transform_cleansed_to_application(payload)"
   ]
  },
  {
   "cell_type": "markdown",
   "id": "b8bf6d62",
   "metadata": {
    "tags": []
   },
   "source": [
    "### payload"
   ]
  },
  {
   "cell_type": "code",
   "execution_count": 13,
   "id": "1bdd6e52",
   "metadata": {},
   "outputs": [
    {
     "data": {
      "text/plain": [
       "2"
      ]
     },
     "execution_count": 13,
     "metadata": {},
     "output_type": "execute_result"
    }
   ],
   "source": [
    "len(new_payloads)"
   ]
  },
  {
   "cell_type": "code",
   "execution_count": 14,
   "id": "dbc998c3",
   "metadata": {},
   "outputs": [
    {
     "name": "stdout",
     "output_type": "stream",
     "text": [
      "=====================\n",
      "PAYLOAD\n",
      "122438658\n",
      "['04/31/1910', '02/31/1900'] ['MAY 6, 1981']\n",
      "['UNITED STATES OF AMERICA', 'United States'] ['United States of America', 'US|FL;US']\n",
      "=====================\n",
      "PAYLOAD\n",
      "122438659\n",
      "['04/31/1910', '02/31/1900'] ['MAY 6, 1981']\n",
      "['UNITED STATES OF AMERICA', 'United States'] ['PL', 'Poland']\n"
     ]
    }
   ],
   "source": [
    "for payload in new_payloads:\n",
    "    print('=====================')\n",
    "    print('PAYLOAD')\n",
    "    print(payload['alertedParty']['inputRecordHist']['inputRecords']['versionId'])\n",
    "        \n",
    "    match = payload['watchlistParty']['matchRecords']\n",
    "    assert (match['inputVersionId'] == payload['alertedParty']['inputRecordHist']['inputRecords']['versionId'])\n",
    "    print(match[\"ap_all_dobs_aggregated\"], match[\"wl_all_dobs_aggregated\"])\n",
    "    try:\n",
    "        print(match[\"ap_all_residencies_aggregated\"], match[\"wl_all_residencies_aggregated\"])\n",
    "    except:\n",
    "        break\n"
   ]
  },
  {
   "cell_type": "code",
   "execution_count": 15,
   "id": "ef943d72",
   "metadata": {},
   "outputs": [],
   "source": [
    "import pandas as pd\n",
    "out_payload = pd.DataFrame([payload['watchlistParty']['matchRecords'] for payload in new_payloads])"
   ]
  },
  {
   "cell_type": "code",
   "execution_count": 16,
   "id": "f05dfed4",
   "metadata": {
    "scrolled": true
   },
   "outputs": [
    {
     "data": {
      "text/html": [
       "<div>\n",
       "<style scoped>\n",
       "    .dataframe tbody tr th:only-of-type {\n",
       "        vertical-align: middle;\n",
       "    }\n",
       "\n",
       "    .dataframe tbody tr th {\n",
       "        vertical-align: top;\n",
       "    }\n",
       "\n",
       "    .dataframe thead th {\n",
       "        text-align: right;\n",
       "    }\n",
       "</style>\n",
       "<table border=\"1\" class=\"dataframe\">\n",
       "  <thead>\n",
       "    <tr style=\"text-align: right;\">\n",
       "      <th></th>\n",
       "      <th>ap_all_dobs_aggregated</th>\n",
       "      <th>wl_all_dobs_aggregated</th>\n",
       "    </tr>\n",
       "  </thead>\n",
       "  <tbody>\n",
       "    <tr>\n",
       "      <th>0</th>\n",
       "      <td>[04/31/1910, 02/31/1900]</td>\n",
       "      <td>[MAY 6, 1981]</td>\n",
       "    </tr>\n",
       "    <tr>\n",
       "      <th>1</th>\n",
       "      <td>[04/31/1910, 02/31/1900]</td>\n",
       "      <td>[MAY 6, 1981]</td>\n",
       "    </tr>\n",
       "  </tbody>\n",
       "</table>\n",
       "</div>"
      ],
      "text/plain": [
       "     ap_all_dobs_aggregated wl_all_dobs_aggregated\n",
       "0  [04/31/1910, 02/31/1900]          [MAY 6, 1981]\n",
       "1  [04/31/1910, 02/31/1900]          [MAY 6, 1981]"
      ]
     },
     "execution_count": 16,
     "metadata": {},
     "output_type": "execute_result"
    }
   ],
   "source": [
    "out_payload[[col for col in out_payload.columns if \"dobs\" in col]]"
   ]
  },
  {
   "cell_type": "code",
   "execution_count": 17,
   "id": "b5f6eb6e",
   "metadata": {},
   "outputs": [],
   "source": [
    "import pickle\n",
    "with open(\"tests/shared/parsed_payload.pkl\", \"wb\") as f:\n",
    "    pickle.dump(new_payloads, f)\n",
    "\n",
    "    "
   ]
  },
  {
   "cell_type": "code",
   "execution_count": 18,
   "id": "d20eba4e-fa6b-462b-a548-d8c9bbc255d0",
   "metadata": {},
   "outputs": [],
   "source": [
    "with open(f'notebooks/sample/big_fat_flat_payload.json', 'r') as file:\n",
    "    payload = json.loads(file.read())\n",
    "\n",
    "payload_json = {key: payload[key] for key in sorted(payload)}\n",
    "payload_json = PayloadLoader().load_payload_from_json(payload_json)\n",
    "payload_json['match_ids'] = [i for i in range(len(payload_json[\"watchlistParty\"][\"matchRecords\"]))]\n"
   ]
  },
  {
   "cell_type": "code",
   "execution_count": null,
   "id": "208efc82",
   "metadata": {},
   "outputs": [],
   "source": []
  },
  {
   "cell_type": "code",
   "execution_count": 19,
   "id": "409b615c-769f-4159-9ab4-019fb87cd547",
   "metadata": {},
   "outputs": [],
   "source": [
    "from etl_pipeline.config import load_agent_configs, pipeline_config"
   ]
  },
  {
   "cell_type": "code",
   "execution_count": 20,
   "id": "402fa313-0b7e-4c66-8d2a-a2801dd1494a",
   "metadata": {},
   "outputs": [],
   "source": [
    "payload = payload_json"
   ]
  },
  {
   "cell_type": "markdown",
   "id": "67b3311f-755c-4467-b2e3-725c5571dcc2",
   "metadata": {},
   "source": [
    "## transform standardized to cleansed"
   ]
  },
  {
   "cell_type": "code",
   "execution_count": 21,
   "id": "b44d01ec-9869-490c-90f3-ea6ce71c2179",
   "metadata": {},
   "outputs": [],
   "source": [
    "payload = pipeline.transform_standardized_to_cleansed(payload)"
   ]
  },
  {
   "cell_type": "markdown",
   "id": "a97ecf06-a7e4-45a1-81e9-1203ccd1dd73",
   "metadata": {},
   "source": [
    "ALL_CONNECTED_ACCOUNT_NAMES# Transform standardized to application"
   ]
  },
  {
   "cell_type": "code",
   "execution_count": 22,
   "id": "1103a035-7ee7-49fa-8472-8dc744bc90bc",
   "metadata": {},
   "outputs": [],
   "source": [
    "new_payloads = pipeline.transform_cleansed_to_application(payload)"
   ]
  },
  {
   "cell_type": "markdown",
   "id": "a9a626d1-bac1-41e3-ae8a-cf91c32d99ae",
   "metadata": {
    "tags": []
   },
   "source": [
    "### payload"
   ]
  },
  {
   "cell_type": "code",
   "execution_count": 23,
   "id": "6de852f2-a5b9-4c0f-8670-cbe220275a71",
   "metadata": {},
   "outputs": [
    {
     "data": {
      "text/plain": [
       "9"
      ]
     },
     "execution_count": 23,
     "metadata": {},
     "output_type": "execute_result"
    }
   ],
   "source": [
    "len(new_payloads)"
   ]
  },
  {
   "cell_type": "code",
   "execution_count": 24,
   "id": "d4c84a93-ef52-4747-b14c-dd1d1ca07bcb",
   "metadata": {
    "scrolled": true
   },
   "outputs": [
    {
     "name": "stdout",
     "output_type": "stream",
     "text": [
      "=====================\n",
      "PAYLOAD\n",
      "94590752\n",
      "[] ['01/29/1971', '1971', '29', '01']\n",
      "['AHMEDOUA'] ['FRANCE', 'FR']\n",
      "=====================\n",
      "PAYLOAD\n",
      "94590752\n",
      "[] ['07', '1986', '07/27/1986', '27']\n",
      "['AHMEDOUA'] ['LY', 'LIBYAN ARAB JAMAHIRIYA']\n",
      "=====================\n",
      "PAYLOAD\n",
      "94590752\n",
      "[] ['1977', '07/06/1977', '07', '06']\n",
      "['AHMEDOUA'] []\n",
      "=====================\n",
      "PAYLOAD\n",
      "94590752\n",
      "[] ['08/17/1938', '17', '08', '1938']\n",
      "['AHMEDOUA'] ['INDONESIA', 'ID']\n",
      "=====================\n",
      "PAYLOAD\n",
      "94590752\n",
      "[] ['04', '1958', '04/15/1958', '15']\n",
      "['AHMEDOUA'] ['US', 'UNITED STATES']\n",
      "=====================\n",
      "PAYLOAD\n",
      "94590752\n",
      "[] []\n",
      "['AHMEDOUA'] ['RU|PR. LENINA, D. 179', 'RUSSIAN FEDERATION']\n",
      "=====================\n",
      "PAYLOAD\n",
      "94590752\n",
      "[] ['01', '01/01/1982', '1982']\n",
      "['AHMEDOUA'] ['MALI|MALI', 'ML|ML']\n",
      "=====================\n",
      "PAYLOAD\n",
      "94590752\n",
      "[] ['08/27/1981', '08', '27', '1981']\n",
      "['AHMEDOUA'] []\n",
      "=====================\n",
      "PAYLOAD\n",
      "94590752\n",
      "[] ['08/17/1938', '17', '08', '1938']\n",
      "['AHMEDOUA'] ['INDONESIA', 'ID']\n"
     ]
    }
   ],
   "source": [
    "for payload in new_payloads:\n",
    "    print('=====================')\n",
    "    print('PAYLOAD')\n",
    "    print(payload['alertedParty']['inputRecordHist']['inputRecords']['versionId'])\n",
    "        \n",
    "    match = payload['watchlistParty']['matchRecords']\n",
    "    assert (match['inputVersionId'] == payload['alertedParty']['inputRecordHist']['inputRecords']['versionId'])\n",
    "    print(match[\"ap_all_dobs_aggregated\"], match[\"wl_all_dobs_aggregated\"])\n",
    "    try:\n",
    "        print(match[\"ap_all_residencies_aggregated\"], match[\"wl_all_residencies_aggregated\"])\n",
    "    except:\n",
    "        break\n"
   ]
  },
  {
   "cell_type": "code",
   "execution_count": 25,
   "id": "485cd9e6",
   "metadata": {},
   "outputs": [],
   "source": [
    "import pickle\n",
    "with open(\"tests/shared/big_fat_payload_parsed.pkl\", \"wb\") as f:\n",
    "    pickle.dump(new_payloads, f)"
   ]
  },
  {
   "cell_type": "code",
   "execution_count": 26,
   "id": "97a6e5da-7094-4fc1-9ef7-8e2782a7a3ee",
   "metadata": {},
   "outputs": [],
   "source": [
    "# import pickle\n",
    "# with open(\"tests/shared/parsed_payload.pkl\", \"rb\") as f:\n",
    "#     p = pickle.load(f)\n",
    "\n",
    "# import pandas as pd\n",
    "# reference_payload = pd.DataFrame([match for payload in p  for match in payload['watchlistParty']['matchRecords']])\n",
    "\n"
   ]
  },
  {
   "cell_type": "code",
   "execution_count": 27,
   "id": "b4626108-b497-4432-a22c-6c5c7cac8e55",
   "metadata": {},
   "outputs": [],
   "source": [
    "with open(f'notebooks/sample/wm_address_in_payload_format_2_input_3_match_records.json', 'r') as file:\n",
    "    payload = json.loads(file.read())\n",
    "\n",
    "payload_json = {key: payload[key] for key in sorted(payload)}\n",
    "payload_json = PayloadLoader().load_payload_from_json(payload_json)\n",
    "\n",
    "\n",
    "\n",
    "payload_json['match_ids'] = [i for i in range(len(payload_json[\"watchlistParty\"][\"matchRecords\"]))]\n"
   ]
  },
  {
   "cell_type": "code",
   "execution_count": 28,
   "id": "8fa1acc0-0f85-4740-a8c0-b5a54eb927b5",
   "metadata": {},
   "outputs": [],
   "source": [
    "payload = payload_json"
   ]
  },
  {
   "cell_type": "code",
   "execution_count": 29,
   "id": "353e29cb-435d-44aa-9a3f-8e4c27f23888",
   "metadata": {},
   "outputs": [],
   "source": [
    "payload = pipeline.transform_standardized_to_cleansed(payload)"
   ]
  },
  {
   "cell_type": "code",
   "execution_count": 30,
   "id": "e5d4114d-492e-4410-a41c-dfc04fe87a69",
   "metadata": {},
   "outputs": [],
   "source": [
    "new_payloads = pipeline.transform_cleansed_to_application(payload)"
   ]
  },
  {
   "cell_type": "code",
   "execution_count": 31,
   "id": "06c6ce79-99c7-419c-a32d-3c0eb906c334",
   "metadata": {},
   "outputs": [
    {
     "name": "stdout",
     "output_type": "stream",
     "text": [
      "=====================\n",
      "PAYLOAD\n",
      "123\n",
      "['04/31/1910', '02/31/1900'] ['MAY 6, 1981']\n",
      "['UNITED STATES OF AMERICA', 'United States'] ['United States of America', 'US|FL;US']\n",
      "=====================\n",
      "PAYLOAD\n",
      "122438659\n",
      "['04/31/1910', '02/31/1900'] ['MAY 6, 1981']\n",
      "['UNITED STATES OF AMERICA', 'United States'] ['United States of America', 'US|FL;US']\n",
      "=====================\n",
      "PAYLOAD\n",
      "122438659\n",
      "['04/31/1910', '02/31/1900'] ['MAY 6, 1981']\n",
      "['UNITED STATES OF AMERICA', 'United States'] ['PL', 'Poland']\n"
     ]
    }
   ],
   "source": [
    "for payload in new_payloads:\n",
    "    print('=====================')\n",
    "    print('PAYLOAD')\n",
    "    print(payload['alertedParty']['inputRecordHist']['inputRecords']['versionId'])\n",
    "        \n",
    "    match = payload['watchlistParty']['matchRecords']\n",
    "    assert (match['inputVersionId'] == payload['alertedParty']['inputRecordHist']['inputRecords']['versionId'])\n",
    "    print(match[\"ap_all_dobs_aggregated\"], match[\"wl_all_dobs_aggregated\"])\n",
    "    try:\n",
    "        print(match[\"ap_all_residencies_aggregated\"], match[\"wl_all_residencies_aggregated\"])\n",
    "    except:\n",
    "        break\n"
   ]
  },
  {
   "cell_type": "code",
   "execution_count": 32,
   "id": "79ea48ac-d227-414c-a898-afaa178bb544",
   "metadata": {},
   "outputs": [],
   "source": [
    "new_dict = {}\n",
    "def return_key(dict_, prefix):\n",
    "    \n",
    "    if isinstance(dict_, list):\n",
    "        for num, i in enumerate(dict_):\n",
    "            return_key(i, prefix +f\"[{num}]\")\n",
    "        return\n",
    "    if isinstance(dict_, str) or dict_ is None:\n",
    "        new_dict[prefix] = dict_\n",
    "        return\n",
    "\n",
    "    for key in dict_:\n",
    "        if prefix:\n",
    "            basic_prefix = prefix + \".\" + key\n",
    "        else:\n",
    "            basic_prefix = key\n",
    "        return_key(dict_[key], basic_prefix)"
   ]
  },
  {
   "cell_type": "code",
   "execution_count": 33,
   "id": "b6e3323d",
   "metadata": {},
   "outputs": [],
   "source": [
    "import pickle\n",
    "with open(\"tests/shared/parsed_payload_2_payload.pkl\", \"wb\") as f:\n",
    "    pickle.dump(new_payloads, f)"
   ]
  },
  {
   "cell_type": "code",
   "execution_count": 34,
   "id": "d69753eb",
   "metadata": {},
   "outputs": [],
   "source": [
    "with open(f'notebooks/sample/wm_party_payload_without_supplemental_info.json', 'r') as file:\n",
    "    payload = json.loads(file.read())\n",
    "\n",
    "payload_json = {key: payload[key] for key in sorted(payload)}\n",
    "payload_json = PayloadLoader().load_payload_from_json(payload_json)\n",
    "\n",
    "\n",
    "\n",
    "payload_json['match_ids'] = [i for i in range(len(payload_json[\"watchlistParty\"][\"matchRecords\"]))]\n"
   ]
  },
  {
   "cell_type": "code",
   "execution_count": 35,
   "id": "46e16414",
   "metadata": {},
   "outputs": [],
   "source": [
    "payload = payload_json"
   ]
  },
  {
   "cell_type": "code",
   "execution_count": 36,
   "id": "786c1f11",
   "metadata": {},
   "outputs": [],
   "source": [
    "payload = pipeline.transform_standardized_to_cleansed(payload)"
   ]
  },
  {
   "cell_type": "code",
   "execution_count": 37,
   "id": "d3ae8a11",
   "metadata": {},
   "outputs": [],
   "source": [
    "new_payloads = pipeline.transform_cleansed_to_application(payload)"
   ]
  },
  {
   "cell_type": "code",
   "execution_count": 38,
   "id": "cde9b622",
   "metadata": {},
   "outputs": [
    {
     "name": "stdout",
     "output_type": "stream",
     "text": [
      "=====================\n",
      "PAYLOAD\n",
      "122438658\n",
      "[] ['MAY 6, 1981']\n",
      "[] ['|FL;US']\n",
      "=====================\n",
      "PAYLOAD\n",
      "122438659\n",
      "[] ['MAY 6, 1981']\n",
      "[] ['PL', 'Poland']\n"
     ]
    }
   ],
   "source": [
    "for payload in new_payloads:\n",
    "    print('=====================')\n",
    "    print('PAYLOAD')\n",
    "    print(payload['alertedParty']['inputRecordHist']['inputRecords']['versionId'])\n",
    "        \n",
    "    match = payload['watchlistParty']['matchRecords']\n",
    "    assert (match['inputVersionId'] == payload['alertedParty']['inputRecordHist']['inputRecords']['versionId'])\n",
    "    print(match[\"ap_all_dobs_aggregated\"], match[\"wl_all_dobs_aggregated\"])\n",
    "    try:\n",
    "        print(match[\"ap_all_residencies_aggregated\"], match[\"wl_all_residencies_aggregated\"])\n",
    "    except:\n",
    "        break\n"
   ]
  },
  {
   "cell_type": "code",
   "execution_count": 39,
   "id": "6fbe02b0",
   "metadata": {},
   "outputs": [],
   "source": [
    "import pickle\n",
    "with open(\"tests/shared/empty_payload.pkl\", \"wb\") as f:\n",
    "    pickle.dump(new_payloads, f)"
   ]
  },
  {
   "cell_type": "code",
   "execution_count": null,
   "id": "acfde017",
   "metadata": {},
   "outputs": [],
   "source": []
  },
  {
   "cell_type": "code",
   "execution_count": 40,
   "id": "5092ce5f",
   "metadata": {},
   "outputs": [],
   "source": [
    "with open(f'notebooks/sample/wm_party_payload_with_partial_supplemental_info.json', 'r') as file:\n",
    "    payload = json.loads(file.read())\n",
    "\n",
    "payload_json = {key: payload[key] for key in sorted(payload)}\n",
    "payload_json = PayloadLoader().load_payload_from_json(payload_json)\n",
    "\n",
    "\n",
    "\n",
    "payload_json['match_ids'] = [i for i in range(len(payload_json[\"watchlistParty\"][\"matchRecords\"]))]\n"
   ]
  },
  {
   "cell_type": "code",
   "execution_count": 41,
   "id": "c5e0770b",
   "metadata": {},
   "outputs": [],
   "source": [
    "payload = payload_json"
   ]
  },
  {
   "cell_type": "code",
   "execution_count": 42,
   "id": "fa4ed0ff",
   "metadata": {},
   "outputs": [
    {
     "name": "stderr",
     "output_type": "stream",
     "text": [
      "No parties\n",
      "No accounts\n",
      "No parties\n",
      "No accounts\n",
      "No parties\n",
      "No parties\n",
      "No parties\n",
      "No parties\n",
      "No parties\n",
      "No parties\n",
      "No parties\n",
      "No parties\n",
      "No parties\n",
      "No parties\n",
      "No parties\n",
      "No accounts\n",
      "No parties\n",
      "No parties\n",
      "No parties\n",
      "No parties\n",
      "No parties\n",
      "No parties\n",
      "No parties\n",
      "No parties\n",
      "No parties\n",
      "No parties\n"
     ]
    }
   ],
   "source": [
    "payload = pipeline.transform_standardized_to_cleansed(payload)"
   ]
  },
  {
   "cell_type": "code",
   "execution_count": 43,
   "id": "a9db5045",
   "metadata": {},
   "outputs": [],
   "source": [
    "new_payloads = pipeline.transform_cleansed_to_application(payload)"
   ]
  },
  {
   "cell_type": "code",
   "execution_count": 44,
   "id": "6b8b69df",
   "metadata": {},
   "outputs": [
    {
     "data": {
      "text/plain": [
       "[{'alertedParty': {'headerInfo': {'currentVersionId': '122438658',\n",
       "    'datasetId': '1044',\n",
       "    'datasetName': 'R_US_Active_Party',\n",
       "    'firstVersionCreatedDt': '2020-01-08T09:31:30.264-05:00',\n",
       "    'inputVersionSample': 'R_US_Active_Address_A05003324172_2020-01-07-07.06.',\n",
       "    'lastVersionUpdatedDt': '2020-01-08T09:31:30.264-05:00',\n",
       "    'masterId': '72951854',\n",
       "    'masterVersion': '412740c151535f0756e8dbec7440b726c7a3e135',\n",
       "    'stopDescriptors': {'stopDescriptor': {'name': 'Joe Doe'}},\n",
       "    'uniqueCustomerId': 'R_US_Active_Address_A05003324172_2020-01-07-07.06.28.836480'},\n",
       "   'inputRecordHist': {'inputRecords': {'createdDate': '01/08/20',\n",
       "     'fields': [{'isScreenable': 'false',\n",
       "       'name': 'SOURCE_REF',\n",
       "       'sortOrder': '1',\n",
       "       'value': 'R_US_Active_Address_A05003324172_2020-01-07-07.06.28.836480'},\n",
       "      {'isScreenable': 'false',\n",
       "       'name': 'UNIQUE_KEY',\n",
       "       'sortOrder': '2',\n",
       "       'value': 'A05003324172'},\n",
       "      {'isScreenable': 'false', 'name': 'BARCODE', 'sortOrder': '3'},\n",
       "      {'isScreenable': 'false',\n",
       "       'name': 'ADDRESS_TYPE',\n",
       "       'sortOrder': '4',\n",
       "       'value': 'Plating Address'},\n",
       "      {'isScreenable': 'true', 'name': 'CARE_OF_TEXT', 'sortOrder': '5'},\n",
       "      {'isScreenable': 'true', 'name': 'ATTENTION_TO_TEXT', 'sortOrder': '6'},\n",
       "      {'isScreenable': 'false',\n",
       "       'name': 'ADDRESS1_LINE1',\n",
       "       'sortOrder': '7',\n",
       "       'value': 'Joe Black &'},\n",
       "      {'isScreenable': 'false',\n",
       "       'name': 'ADDRESS1_LINE2',\n",
       "       'sortOrder': '8',\n",
       "       'value': 'Jane Doe AA BBB'},\n",
       "      {'isScreenable': 'false',\n",
       "       'name': 'ADDRESS1_LINE3',\n",
       "       'sortOrder': '9',\n",
       "       'value': '111 A 11TH ST AAA 1A'},\n",
       "      {'isScreenable': 'false',\n",
       "       'name': 'ADDRESS1_LINE4',\n",
       "       'sortOrder': '10',\n",
       "       'value': 'New Jersey NJ 10011'},\n",
       "      {'isScreenable': 'false', 'name': 'ADDRESS1_LINE5', 'sortOrder': '11'},\n",
       "      {'isScreenable': 'false', 'name': 'ADDRESS1_LINE6', 'sortOrder': '12'},\n",
       "      {'isScreenable': 'true',\n",
       "       'name': 'CONCAT_ADDRESS',\n",
       "       'sortOrder': '13',\n",
       "       'value': 'Joe Black & Jane Doe 111 A 11TH ST AAA 1A New Jersey NJ'},\n",
       "      {'isScreenable': 'true', 'name': 'ADDRESS1_CITY', 'sortOrder': '14'},\n",
       "      {'isScreenable': 'true', 'name': 'ADDRESS1_STATE', 'sortOrder': '15'},\n",
       "      {'isScreenable': 'true', 'name': 'ADDRESS1_PROVINCE', 'sortOrder': '16'},\n",
       "      {'isScreenable': 'true',\n",
       "       'name': 'ADDRESS1_POSTALCODE',\n",
       "       'sortOrder': '17'},\n",
       "      {'isScreenable': 'true', 'name': 'ADDRESS1_ZIP5', 'sortOrder': '18'},\n",
       "      {'isScreenable': 'true', 'name': 'ADDRESS1_ZIP4', 'sortOrder': '19'},\n",
       "      {'isScreenable': 'true',\n",
       "       'name': 'ADDRESS1_COUNTRY',\n",
       "       'sortOrder': '20',\n",
       "       'value': ''},\n",
       "      {'isScreenable': 'true',\n",
       "       'name': 'ADDRESS1_COUNTRYCODE',\n",
       "       'sortOrder': '21',\n",
       "       'value': 'USA'},\n",
       "      {'isScreenable': 'true',\n",
       "       'name': 'ADDRESS1_FOREIGNDOMESTICCODE',\n",
       "       'sortOrder': '22',\n",
       "       'value': 'DOMESTIC'}],\n",
       "     'masterId': '72951854',\n",
       "     'status': 'A',\n",
       "     'uniqueCustId': 'R_US_Active_Address_A05003324172_2020-01-07-07.06.28.836480',\n",
       "     'version': '412740c151535f0756e8dbec7440b726c7a3e135',\n",
       "     'versionId': '122438658',\n",
       "     'INPUT_FIELD': {'SOURCE_REF': InputRecordField(name='SOURCE_REF', isScreenable='false', value='R_US_Active_Address_A05003324172_2020-01-07-07.06.28.836480', sortOrder='1'),\n",
       "      'UNIQUE_KEY': InputRecordField(name='UNIQUE_KEY', isScreenable='false', value='A05003324172', sortOrder='2'),\n",
       "      'BARCODE': InputRecordField(name='BARCODE', isScreenable='false', value='', sortOrder='3'),\n",
       "      'ADDRESS_TYPE': InputRecordField(name='ADDRESS_TYPE', isScreenable='false', value='Plating Address', sortOrder='4'),\n",
       "      'CARE_OF_TEXT': InputRecordField(name='CARE_OF_TEXT', isScreenable='true', value='', sortOrder='5'),\n",
       "      'ATTENTION_TO_TEXT': InputRecordField(name='ATTENTION_TO_TEXT', isScreenable='true', value='', sortOrder='6'),\n",
       "      'ADDRESS1_LINE1': InputRecordField(name='ADDRESS1_LINE1', isScreenable='false', value='Joe Black &', sortOrder='7'),\n",
       "      'ADDRESS1_LINE2': InputRecordField(name='ADDRESS1_LINE2', isScreenable='false', value='Jane Doe AA BBB', sortOrder='8'),\n",
       "      'ADDRESS1_LINE3': InputRecordField(name='ADDRESS1_LINE3', isScreenable='false', value='111 A 11TH ST AAA 1A', sortOrder='9'),\n",
       "      'ADDRESS1_LINE4': InputRecordField(name='ADDRESS1_LINE4', isScreenable='false', value='New Jersey NJ 10011', sortOrder='10'),\n",
       "      'ADDRESS1_LINE5': InputRecordField(name='ADDRESS1_LINE5', isScreenable='false', value='', sortOrder='11'),\n",
       "      'ADDRESS1_LINE6': InputRecordField(name='ADDRESS1_LINE6', isScreenable='false', value='', sortOrder='12'),\n",
       "      'CONCAT_ADDRESS': InputRecordField(name='CONCAT_ADDRESS', isScreenable='true', value='Joe Black & Jane Doe 111 A 11TH ST AAA 1A New Jersey NJ', sortOrder='13'),\n",
       "      'ADDRESS1_CITY': InputRecordField(name='ADDRESS1_CITY', isScreenable='true', value='', sortOrder='14'),\n",
       "      'ADDRESS1_STATE': InputRecordField(name='ADDRESS1_STATE', isScreenable='true', value='', sortOrder='15'),\n",
       "      'ADDRESS1_PROVINCE': InputRecordField(name='ADDRESS1_PROVINCE', isScreenable='true', value='', sortOrder='16'),\n",
       "      'ADDRESS1_POSTALCODE': InputRecordField(name='ADDRESS1_POSTALCODE', isScreenable='true', value='', sortOrder='17'),\n",
       "      'ADDRESS1_ZIP5': InputRecordField(name='ADDRESS1_ZIP5', isScreenable='true', value='', sortOrder='18'),\n",
       "      'ADDRESS1_ZIP4': InputRecordField(name='ADDRESS1_ZIP4', isScreenable='true', value='', sortOrder='19'),\n",
       "      'ADDRESS1_COUNTRY': InputRecordField(name='ADDRESS1_COUNTRY', isScreenable='true', value='', sortOrder='20'),\n",
       "      'ADDRESS1_COUNTRYCODE': InputRecordField(name='ADDRESS1_COUNTRYCODE', isScreenable='true', value='USA', sortOrder='21'),\n",
       "      'ADDRESS1_FOREIGNDOMESTICCODE': InputRecordField(name='ADDRESS1_FOREIGNDOMESTICCODE', isScreenable='true', value='DOMESTIC', sortOrder='22')}}},\n",
       "   'supplementalInfo': {'alertId': 'SANC-ASM-6434404',\n",
       "    'busDate': '20211127',\n",
       "    'datasetName': 'R_US_Active_Address',\n",
       "    'relatedAccounts': [],\n",
       "    'relatedParties': [],\n",
       "    'uniqueCustId': 'R_US_Active_Address_A00170086018_2018-08-28-18.45.50.012201'},\n",
       "   'ALL_PARTY_TYPES': [],\n",
       "   'ALL_PARTY_DOBS': [],\n",
       "   'AP_PARTY_TYPE': 'C',\n",
       "   'ENTITY_TYPE_MATCH': 'N'},\n",
       "  'watchlistParty': {'matchRecords': {'accountSeq': '1',\n",
       "    'datasetId': '1044',\n",
       "    'entity': {'addresses': [{'address1': '111 STREET 999',\n",
       "       'address2': 'FL;US',\n",
       "       'city': 'ATLANTA',\n",
       "       'country': '',\n",
       "       'countryName': '',\n",
       "       'postalCode': '11111'}],\n",
       "     'createdDate': '10/16/2018',\n",
       "     'dobs': [{'dob': 'MAY 6, 1981'}],\n",
       "     'entityType': '03',\n",
       "     'id': '908049',\n",
       "     'ids': None,\n",
       "     'lastUpdateDate': '04/19/2019',\n",
       "     'listCode': '-1003',\n",
       "     'listId': '15991',\n",
       "     'name': 'Joe Ding',\n",
       "     'programs': [{'type': 'MSSBGWM'}],\n",
       "     'sdfs': {'sdf': ['N/A',\n",
       "       'N/A',\n",
       "       'N/A',\n",
       "       'N/A',\n",
       "       'N/A',\n",
       "       'PLEASE CALL AML HOT LINE AT 212 762 8000 AND REF CI-079385',\n",
       "       '05/05/2015 19:49:26']},\n",
       "     'source': 'CON',\n",
       "     'version': '20150505194929'},\n",
       "    'entityId': '908043',\n",
       "    'entityTextType': 'UPID',\n",
       "    'entityType': '03',\n",
       "    'entityVersion': '20150505194929',\n",
       "    'firstMatchedDate': '01/08/20',\n",
       "    'inputVersionId': '122438658',\n",
       "    'lastMatchedDate': '01/08/20',\n",
       "    'lastReviewDate': '01/08/20',\n",
       "    'masterId': '72951854',\n",
       "    'masterVersion': '412740c151535f0756e8dbec7440b726c7a3e135',\n",
       "    'matchId': '49159509',\n",
       "    'matchStatus': 'O',\n",
       "    'matchType': 'GWL',\n",
       "    'riskScore': '-1.0',\n",
       "    'sourceCode': 'CON',\n",
       "    'stopDescriptors': [{'name': 'Joe Doe',\n",
       "      'stopDescriptorDetails': [{'inputSynonym': 'null',\n",
       "        'inputToken': 'Doe',\n",
       "        'matchScore': '0.8571428571428572',\n",
       "        'sdToken': 'Doe'}],\n",
       "      'totalMatchScore': '0.9230769230769231'}],\n",
       "    'uniqueCustomerId': 'R_US_Active_Address_A05003324172_2020-01-07-07.06.28.836480\\n      ',\n",
       "    'SRC_REF_KEY': 'R_US_Active_Address_A05003324172_2020-01-07-07.06.28.836480\\n      ',\n",
       "    'VERSION_ID': '122438658',\n",
       "    'ENTITY_ID': '908043',\n",
       "    'ENTITY_VERSION': '20150505194929',\n",
       "    'WL_NAME': 'Joe Ding',\n",
       "    'WL_DOB': ['MAY 6, 1981', ''],\n",
       "    'WL_ENTITYTYPE': '03',\n",
       "    'WL_COUNTRY': '|FL;US',\n",
       "    'WL_COUNTRYNAME': '',\n",
       "    'WL_NATIONALITY': [''],\n",
       "    'WL_CITIZENSHIP': [''],\n",
       "    'WL_POB': [''],\n",
       "    'WL_ALIASES': [''],\n",
       "    'WL_MATCHED_TOKENS': '[\"Doe\"]',\n",
       "    'WLP_TYPE': 'I',\n",
       "    'WL_DOCUMENT_NUMBER': [],\n",
       "    'TRIGGERED_BY': ['stopDescriptors', 'matchStatus'],\n",
       "    'IS_BENEFICIARY_HIT': False,\n",
       "    'AP_TRIGGERS': {'Doe': {'ADDRESS1_LINE2': ['Jane Doe AA BBB'],\n",
       "      'CONCAT_ADDRESS': ['Joe Black & Jane Doe 111 A 11TH ST AAA 1A New Jersey NJ']}},\n",
       "    'datasetType': 'WM_PARTY',\n",
       "    'TOKENS_RISK_CARRIER': 'Doe',\n",
       "    'dob_agent_ap': [],\n",
       "    'dob_agent_wl': ['MAY 6, 1981', ''],\n",
       "    'document_agent_ap': [[], [], None, None],\n",
       "    'document_agent_wl': None,\n",
       "    'company_name_agent_ap': [None,\n",
       "     [],\n",
       "     [],\n",
       "     [],\n",
       "     [],\n",
       "     None,\n",
       "     None,\n",
       "     None,\n",
       "     None,\n",
       "     None],\n",
       "    'company_name_agent_wl': ['Joe Ding', ['']],\n",
       "    'name_agent_ap': [None, [], [], [], [], None, None, None, None, None],\n",
       "    'name_agent_wl': ['Joe Ding', ['']],\n",
       "    'employer_name_agent_ap': [None, None],\n",
       "    'employer_name_agent_wl': ['Joe Ding', ['']],\n",
       "    'nationality_agent_ap': ['',\n",
       "     None,\n",
       "     None,\n",
       "     None,\n",
       "     None,\n",
       "     None,\n",
       "     None,\n",
       "     None,\n",
       "     None,\n",
       "     '',\n",
       "     [],\n",
       "     [],\n",
       "     [],\n",
       "     []],\n",
       "    'nationality_agent_wl': [[''], [''], [''], '|FL;US', ''],\n",
       "    'party_type_agent_ap': [],\n",
       "    'party_type_agent_wl': 'I',\n",
       "    'pob_agent_ap': [[], [], []],\n",
       "    'pob_agent_wl': ['|FL;US', '', [''], ['']],\n",
       "    'sanctioned_country_agent_ap': ['',\n",
       "     None,\n",
       "     None,\n",
       "     None,\n",
       "     None,\n",
       "     None,\n",
       "     [],\n",
       "     [],\n",
       "     [],\n",
       "     '',\n",
       "     None,\n",
       "     None,\n",
       "     None,\n",
       "     None,\n",
       "     None,\n",
       "     None,\n",
       "     None,\n",
       "     None],\n",
       "    'sanctioned_country_agent_wl': ['|FL;US', '', 'Joe Ding'],\n",
       "    'residency_agent_ap': ['',\n",
       "     None,\n",
       "     None,\n",
       "     None,\n",
       "     None,\n",
       "     None,\n",
       "     None,\n",
       "     [],\n",
       "     [],\n",
       "     [],\n",
       "     None,\n",
       "     None,\n",
       "     None,\n",
       "     None,\n",
       "     None,\n",
       "     None],\n",
       "    'residency_agent_wl': ['|FL;US', ''],\n",
       "    'hit_type_agent_name': [],\n",
       "    'hit_type_agent_address': ['CONCAT_ADDRESS',\n",
       "     'ADDRESS1_COUNTRY',\n",
       "     'ADDRESS1_STATE',\n",
       "     'ADDRESS1_CITY',\n",
       "     'ADDRESS1_PROVINCE'],\n",
       "    'hit_type_agent_job': [],\n",
       "    'hit_type_agent_other': [],\n",
       "    'matched_tokens_tp_marked_agent_input': 'Doe',\n",
       "    'ap_name_tp_marked_agent_input': None,\n",
       "    'ap_id_tp_marked_agent_input': 'A05003324172',\n",
       "    'is_entity_match_agent_ap': 'C',\n",
       "    'is_entity_match_agent_wl': 'I',\n",
       "    'ap_all_dobs_aggregated': [],\n",
       "    'wl_all_dobs_aggregated': ['MAY 6, 1981'],\n",
       "    'ap_all_documents_aggregated': [],\n",
       "    'wl_all_documents_aggregated': [],\n",
       "    'ap_all_company_names_aggregated': [],\n",
       "    'wl_all_company_names_aggregated': ['Joe Ding'],\n",
       "    'ap_all_names_aggregated': [],\n",
       "    'wl_all_names_aggregated': ['Joe Ding'],\n",
       "    'ap_all_employer_names_aggregated': [],\n",
       "    'wl_all_employer_names_aggregated': ['Joe Ding'],\n",
       "    'ap_all_nationalities_aggregated': [],\n",
       "    'wl_all_nationalities_aggregated': ['|FL;US'],\n",
       "    'ap_all_party_types_aggregated': [],\n",
       "    'wl_all_party_types_aggregated': ['I'],\n",
       "    'ap_all_pobs_aggregated': [],\n",
       "    'wl_all_pobs_aggregated': ['|FL;US'],\n",
       "    'ap_all_sanctioned_countries_aggregated': [],\n",
       "    'wl_all_sanctioned_countries_aggregated': ['|FL;US', 'Joe Ding'],\n",
       "    'ap_all_residencies_aggregated': [],\n",
       "    'wl_all_residencies_aggregated': ['|FL;US'],\n",
       "    'ap_all_hit_types_aggregated': [],\n",
       "    'wl_all_hit_types_aggregated': [],\n",
       "    'ap_all_matched_tokens_tp_markeds_aggregated': [],\n",
       "    'wl_all_matched_tokens_tp_markeds_aggregated': [],\n",
       "    'ap_all_ap_name_tp_markeds_aggregated': [],\n",
       "    'wl_all_ap_name_tp_markeds_aggregated': [],\n",
       "    'ap_all_ap_id_tp_markeds_aggregated': [],\n",
       "    'wl_all_ap_id_tp_markeds_aggregated': [],\n",
       "    'ap_all_is_entity_matchs_aggregated': ['C'],\n",
       "    'wl_all_is_entity_matchs_aggregated': ['I'],\n",
       "    'all_hit_type_aggregated': [{'name': [],\n",
       "      'address': ['CONCAT_ADDRESS',\n",
       "       'ADDRESS1_COUNTRY',\n",
       "       'ADDRESS1_STATE',\n",
       "       'ADDRESS1_CITY',\n",
       "       'ADDRESS1_PROVINCE'],\n",
       "      'job': [],\n",
       "      'other': []}]}},\n",
       "  'match_ids': 0,\n",
       "  'ALL_CONNECTED_PARTIES_NAMES': [],\n",
       "  'ALL_CONNECTED_PARTY_NAMES': [],\n",
       "  'ALL_CONNECTED_TAX_IDS': [],\n",
       "  'ALL_CONNECTED_PARTY_BIRTH_COUNTRIES': [],\n",
       "  'ALL_CONNECTED_PARTY_CITIZENSHIP_COUNTRIES': [],\n",
       "  'ALL_CONNECTED_PARTY_RESIDENCY_COUNTRIES': [],\n",
       "  'ALL_CONNECTED_COUNTRY_OF_INCORPORATION': [],\n",
       "  'ALL_CONNECTED_GOVT_IDS': [],\n",
       "  'ALL_CONNECTED_ACCOUNT_NAMES': [],\n",
       "  'ALL_CONNECTED_ACCOUNT_BRANCH_ACCOUNT_NUMBERS': [],\n",
       "  'ALL_CONNECTED_ACCOUNT_BENEFICIARY_NAMES': [],\n",
       "  'ALL_PARTY1_EMPLOYERS': None,\n",
       "  'ALL_PARTY1_COUNTRY': None,\n",
       "  'ALL_PARTY1_COUNTRY1': None,\n",
       "  'ALL_PARTY1_COUNTRY_OF_INCORPORATION': None,\n",
       "  'ALL_PARTY1_ADDRESS1_COUNTRY': '',\n",
       "  'ALL_PARTY1_COUNTRY1_CITIZENSHIP': None,\n",
       "  'ALL_PARTY1_COUNTRY2_CITIZENSHIP': None,\n",
       "  'ALL_PARTY1_COUNTRY_FORMATION1': None,\n",
       "  'ALL_PARTY1_COUNTRY_DOMICILE1': None,\n",
       "  'ALL_PRTY_PRIM_CTZNSH_CNTRY': None,\n",
       "  'ALL_PRTY_RSDNC_CNTRY_CD': None,\n",
       "  'ALL_PARTY1_COUNTRY_PEP': None,\n",
       "  'ALL_CONCAT_NAMES': None,\n",
       "  'ALL_PARTY1_GOVTID1_NUMBER': None,\n",
       "  'ALL_PARTY1_GOVTID2_NUMBER': None,\n",
       "  'cleaned_names': {'concat_residue': 'Joe Black & Jane Doe 111 A 11TH ST AAA 1A New Jersey NJ'},\n",
       "  'concat_residue': 'Joe Black & Jane Doe 111 A 11TH ST AAA 1A New Jersey NJ',\n",
       "  'concat_address_no_changes': True},\n",
       " {'alertedParty': {'headerInfo': {'currentVersionId': '122438658',\n",
       "    'datasetId': '1044',\n",
       "    'datasetName': 'R_US_Active_Party',\n",
       "    'firstVersionCreatedDt': '2020-01-08T09:31:30.264-05:00',\n",
       "    'inputVersionSample': 'R_US_Active_Address_A05003324172_2020-01-07-07.06.',\n",
       "    'lastVersionUpdatedDt': '2020-01-08T09:31:30.264-05:00',\n",
       "    'masterId': '72951854',\n",
       "    'masterVersion': '412740c151535f0756e8dbec7440b726c7a3e135',\n",
       "    'stopDescriptors': {'stopDescriptor': {'name': 'Joe Doe'}},\n",
       "    'uniqueCustomerId': 'R_US_Active_Address_A05003324172_2020-01-07-07.06.28.836480'},\n",
       "   'inputRecordHist': {'inputRecords': {'createdDate': '01/08/20',\n",
       "     'fields': [{'isScreenable': 'false',\n",
       "       'name': 'SOURCE_REF',\n",
       "       'sortOrder': '1',\n",
       "       'value': 'R_US_Active_Address_A05003324172_2020-01-07-07.06.28.836480'},\n",
       "      {'isScreenable': 'false',\n",
       "       'name': 'UNIQUE_KEY',\n",
       "       'sortOrder': '2',\n",
       "       'value': 'A05003324172'},\n",
       "      {'isScreenable': 'false', 'name': 'BARCODE', 'sortOrder': '3'},\n",
       "      {'isScreenable': 'false',\n",
       "       'name': 'ADDRESS_TYPE',\n",
       "       'sortOrder': '4',\n",
       "       'value': 'Plating Address'},\n",
       "      {'isScreenable': 'true', 'name': 'CARE_OF_TEXT', 'sortOrder': '5'},\n",
       "      {'isScreenable': 'true', 'name': 'ATTENTION_TO_TEXT', 'sortOrder': '6'},\n",
       "      {'isScreenable': 'false',\n",
       "       'name': 'ADDRESS1_LINE1',\n",
       "       'sortOrder': '7',\n",
       "       'value': 'Joe Black &'},\n",
       "      {'isScreenable': 'false',\n",
       "       'name': 'ADDRESS1_LINE2',\n",
       "       'sortOrder': '8',\n",
       "       'value': 'Jane Doe AA BBB'},\n",
       "      {'isScreenable': 'false',\n",
       "       'name': 'ADDRESS1_LINE3',\n",
       "       'sortOrder': '9',\n",
       "       'value': '111 A 11TH ST AAA 1A'},\n",
       "      {'isScreenable': 'false',\n",
       "       'name': 'ADDRESS1_LINE4',\n",
       "       'sortOrder': '10',\n",
       "       'value': 'New Jersey NJ 10011'},\n",
       "      {'isScreenable': 'false', 'name': 'ADDRESS1_LINE5', 'sortOrder': '11'},\n",
       "      {'isScreenable': 'false', 'name': 'ADDRESS1_LINE6', 'sortOrder': '12'},\n",
       "      {'isScreenable': 'true',\n",
       "       'name': 'CONCAT_ADDRESS',\n",
       "       'sortOrder': '13',\n",
       "       'value': 'Joe Black & Jane Doe 111 A 11TH ST AAA 1A New Jersey NJ'},\n",
       "      {'isScreenable': 'true', 'name': 'ADDRESS1_CITY', 'sortOrder': '14'},\n",
       "      {'isScreenable': 'true', 'name': 'ADDRESS1_STATE', 'sortOrder': '15'},\n",
       "      {'isScreenable': 'true', 'name': 'ADDRESS1_PROVINCE', 'sortOrder': '16'},\n",
       "      {'isScreenable': 'true',\n",
       "       'name': 'ADDRESS1_POSTALCODE',\n",
       "       'sortOrder': '17'},\n",
       "      {'isScreenable': 'true', 'name': 'ADDRESS1_ZIP5', 'sortOrder': '18'},\n",
       "      {'isScreenable': 'true', 'name': 'ADDRESS1_ZIP4', 'sortOrder': '19'},\n",
       "      {'isScreenable': 'true',\n",
       "       'name': 'ADDRESS1_COUNTRY',\n",
       "       'sortOrder': '20',\n",
       "       'value': ''},\n",
       "      {'isScreenable': 'true',\n",
       "       'name': 'ADDRESS1_COUNTRYCODE',\n",
       "       'sortOrder': '21',\n",
       "       'value': ''},\n",
       "      {'isScreenable': 'true',\n",
       "       'name': 'ADDRESS1_FOREIGNDOMESTICCODE',\n",
       "       'sortOrder': '22',\n",
       "       'value': 'DOMESTIC'}],\n",
       "     'masterId': '72951854',\n",
       "     'status': 'A',\n",
       "     'uniqueCustId': 'R_US_Active_Address_A05003324172_2020-01-07-07.06.28.836480',\n",
       "     'version': '412740c151535f0756e8dbec7440b726c7a3e135',\n",
       "     'versionId': '122438659',\n",
       "     'INPUT_FIELD': {'SOURCE_REF': InputRecordField(name='SOURCE_REF', isScreenable='false', value='R_US_Active_Address_A05003324172_2020-01-07-07.06.28.836480', sortOrder='1'),\n",
       "      'UNIQUE_KEY': InputRecordField(name='UNIQUE_KEY', isScreenable='false', value='A05003324172', sortOrder='2'),\n",
       "      'BARCODE': InputRecordField(name='BARCODE', isScreenable='false', value='', sortOrder='3'),\n",
       "      'ADDRESS_TYPE': InputRecordField(name='ADDRESS_TYPE', isScreenable='false', value='Plating Address', sortOrder='4'),\n",
       "      'CARE_OF_TEXT': InputRecordField(name='CARE_OF_TEXT', isScreenable='true', value='', sortOrder='5'),\n",
       "      'ATTENTION_TO_TEXT': InputRecordField(name='ATTENTION_TO_TEXT', isScreenable='true', value='', sortOrder='6'),\n",
       "      'ADDRESS1_LINE1': InputRecordField(name='ADDRESS1_LINE1', isScreenable='false', value='Joe Black &', sortOrder='7'),\n",
       "      'ADDRESS1_LINE2': InputRecordField(name='ADDRESS1_LINE2', isScreenable='false', value='Jane Doe AA BBB', sortOrder='8'),\n",
       "      'ADDRESS1_LINE3': InputRecordField(name='ADDRESS1_LINE3', isScreenable='false', value='111 A 11TH ST AAA 1A', sortOrder='9'),\n",
       "      'ADDRESS1_LINE4': InputRecordField(name='ADDRESS1_LINE4', isScreenable='false', value='New Jersey NJ 10011', sortOrder='10'),\n",
       "      'ADDRESS1_LINE5': InputRecordField(name='ADDRESS1_LINE5', isScreenable='false', value='', sortOrder='11'),\n",
       "      'ADDRESS1_LINE6': InputRecordField(name='ADDRESS1_LINE6', isScreenable='false', value='', sortOrder='12'),\n",
       "      'CONCAT_ADDRESS': InputRecordField(name='CONCAT_ADDRESS', isScreenable='true', value='Joe Black & Jane Doe 111 A 11TH ST AAA 1A New Jersey NJ', sortOrder='13'),\n",
       "      'ADDRESS1_CITY': InputRecordField(name='ADDRESS1_CITY', isScreenable='true', value='', sortOrder='14'),\n",
       "      'ADDRESS1_STATE': InputRecordField(name='ADDRESS1_STATE', isScreenable='true', value='', sortOrder='15'),\n",
       "      'ADDRESS1_PROVINCE': InputRecordField(name='ADDRESS1_PROVINCE', isScreenable='true', value='', sortOrder='16'),\n",
       "      'ADDRESS1_POSTALCODE': InputRecordField(name='ADDRESS1_POSTALCODE', isScreenable='true', value='', sortOrder='17'),\n",
       "      'ADDRESS1_ZIP5': InputRecordField(name='ADDRESS1_ZIP5', isScreenable='true', value='', sortOrder='18'),\n",
       "      'ADDRESS1_ZIP4': InputRecordField(name='ADDRESS1_ZIP4', isScreenable='true', value='', sortOrder='19'),\n",
       "      'ADDRESS1_COUNTRY': InputRecordField(name='ADDRESS1_COUNTRY', isScreenable='true', value='', sortOrder='20'),\n",
       "      'ADDRESS1_COUNTRYCODE': InputRecordField(name='ADDRESS1_COUNTRYCODE', isScreenable='true', value='', sortOrder='21'),\n",
       "      'ADDRESS1_FOREIGNDOMESTICCODE': InputRecordField(name='ADDRESS1_FOREIGNDOMESTICCODE', isScreenable='true', value='DOMESTIC', sortOrder='22')}}},\n",
       "   'supplementalInfo': {'alertId': 'SANC-ASM-6434404',\n",
       "    'busDate': '20211127',\n",
       "    'datasetName': 'R_US_Active_Address',\n",
       "    'relatedAccounts': [],\n",
       "    'relatedParties': [],\n",
       "    'uniqueCustId': 'R_US_Active_Address_A00170086018_2018-08-28-18.45.50.012201'},\n",
       "   'ALL_PARTY_TYPES': [],\n",
       "   'ALL_PARTY_DOBS': [],\n",
       "   'AP_PARTY_TYPE': 'C',\n",
       "   'ENTITY_TYPE_MATCH': 'N'},\n",
       "  'watchlistParty': {'matchRecords': {'accountSeq': '1',\n",
       "    'datasetId': '1044',\n",
       "    'entity': {'addresses': {'address': {'address1': '111 STREET 999',\n",
       "       'address2': 'FL;US',\n",
       "       'city': 'ATLANTA',\n",
       "       'country': 'PL',\n",
       "       'countryName': 'Poland',\n",
       "       'postalCode': '11111'}},\n",
       "     'createdDate': '10/16/2018',\n",
       "     'dobs': [{'dob': 'MAY 6, 1981'}],\n",
       "     'entityType': '03',\n",
       "     'id': '908044',\n",
       "     'ids': None,\n",
       "     'lastUpdateDate': '04/19/2019',\n",
       "     'listCode': '-1003',\n",
       "     'listId': '15991',\n",
       "     'name': 'Joe Dong',\n",
       "     'programs': {'program': {'type': 'MSSBGWM'}},\n",
       "     'sdfs': {'sdf': ['N/A',\n",
       "       'N/A',\n",
       "       'N/A',\n",
       "       'N/A',\n",
       "       'N/A',\n",
       "       'PLEASE CALL AML HOT LINE AT 212 762 8000 AND REF CI-079385',\n",
       "       '05/05/2015 19:49:26']},\n",
       "     'source': 'CON',\n",
       "     'version': '20150505194923'},\n",
       "    'entityId': '908044',\n",
       "    'entityTextType': 'UPID',\n",
       "    'entityType': '03',\n",
       "    'entityVersion': '20150505194923',\n",
       "    'firstMatchedDate': '01/08/20',\n",
       "    'inputVersionId': '122438659',\n",
       "    'lastMatchedDate': '01/08/20',\n",
       "    'lastReviewDate': '01/08/20',\n",
       "    'masterId': '72951854',\n",
       "    'masterVersion': '412740c151535f0756e8dbec7440b726c7a3e135',\n",
       "    'matchId': '49159506',\n",
       "    'matchStatus': 'O',\n",
       "    'matchType': 'GWL',\n",
       "    'riskScore': '-1.0',\n",
       "    'sourceCode': 'CON',\n",
       "    'stopDescriptors': [{'name': 'Joe Doe',\n",
       "      'stopDescriptorDetails': [{'inputSynonym': 'null',\n",
       "        'inputToken': 'Doe',\n",
       "        'matchScore': '0.8571428571428572',\n",
       "        'sdToken': 'Doe'}],\n",
       "      'totalMatchScore': '0.9230769230769231'}],\n",
       "    'uniqueCustomerId': 'R_US_Active_Address_A05003324172_2020-01-07-07.06.28.836480\\n      ',\n",
       "    'SRC_REF_KEY': 'R_US_Active_Address_A05003324172_2020-01-07-07.06.28.836480\\n      ',\n",
       "    'VERSION_ID': '122438659',\n",
       "    'ENTITY_ID': '908044',\n",
       "    'ENTITY_VERSION': '20150505194923',\n",
       "    'WL_NAME': 'Joe Dong',\n",
       "    'WL_DOB': ['MAY 6, 1981', ''],\n",
       "    'WL_ENTITYTYPE': '03',\n",
       "    'WL_COUNTRY': ['PL'],\n",
       "    'WL_COUNTRYNAME': ['Poland'],\n",
       "    'WL_NATIONALITY': [''],\n",
       "    'WL_CITIZENSHIP': [''],\n",
       "    'WL_POB': [''],\n",
       "    'WL_ALIASES': [''],\n",
       "    'WL_ADDRESS1': ['111 STREET 999'],\n",
       "    'WL_ADDRESS2': ['FL;US'],\n",
       "    'WL_CITY': ['ATLANTA'],\n",
       "    'WL_POSTALCODE': ['11111'],\n",
       "    'WL_MATCHED_TOKENS': '[\"Doe\"]',\n",
       "    'WLP_TYPE': 'I',\n",
       "    'WL_DOCUMENT_NUMBER': [],\n",
       "    'TRIGGERED_BY': ['stopDescriptors', 'matchStatus'],\n",
       "    'IS_BENEFICIARY_HIT': False,\n",
       "    'AP_TRIGGERS': {'Doe': {'ADDRESS1_LINE2': ['Jane Doe AA BBB'],\n",
       "      'CONCAT_ADDRESS': ['Joe Black & Jane Doe 111 A 11TH ST AAA 1A New Jersey NJ']}},\n",
       "    'datasetType': 'WM_PARTY',\n",
       "    'TOKENS_RISK_CARRIER': 'Doe',\n",
       "    'dob_agent_ap': [],\n",
       "    'dob_agent_wl': ['MAY 6, 1981', ''],\n",
       "    'document_agent_ap': [[], [], None, None],\n",
       "    'document_agent_wl': None,\n",
       "    'company_name_agent_ap': [None,\n",
       "     [],\n",
       "     [],\n",
       "     [],\n",
       "     [],\n",
       "     None,\n",
       "     None,\n",
       "     None,\n",
       "     None,\n",
       "     None],\n",
       "    'company_name_agent_wl': ['Joe Dong', ['']],\n",
       "    'name_agent_ap': [None, [], [], [], [], None, None, None, None, None],\n",
       "    'name_agent_wl': ['Joe Dong', ['']],\n",
       "    'employer_name_agent_ap': [None, None],\n",
       "    'employer_name_agent_wl': ['Joe Dong', ['']],\n",
       "    'nationality_agent_ap': ['',\n",
       "     None,\n",
       "     None,\n",
       "     None,\n",
       "     None,\n",
       "     None,\n",
       "     None,\n",
       "     None,\n",
       "     None,\n",
       "     '',\n",
       "     [],\n",
       "     [],\n",
       "     [],\n",
       "     []],\n",
       "    'nationality_agent_wl': [[''], [''], [''], ['PL'], ['Poland']],\n",
       "    'party_type_agent_ap': [],\n",
       "    'party_type_agent_wl': 'I',\n",
       "    'pob_agent_ap': [[], [], []],\n",
       "    'pob_agent_wl': [['PL'], ['Poland'], [''], ['']],\n",
       "    'sanctioned_country_agent_ap': ['',\n",
       "     None,\n",
       "     None,\n",
       "     None,\n",
       "     None,\n",
       "     None,\n",
       "     [],\n",
       "     [],\n",
       "     [],\n",
       "     '',\n",
       "     None,\n",
       "     None,\n",
       "     None,\n",
       "     None,\n",
       "     None,\n",
       "     None,\n",
       "     None,\n",
       "     None],\n",
       "    'sanctioned_country_agent_wl': [['PL'], ['Poland'], 'Joe Dong'],\n",
       "    'residency_agent_ap': ['',\n",
       "     None,\n",
       "     None,\n",
       "     None,\n",
       "     None,\n",
       "     None,\n",
       "     None,\n",
       "     [],\n",
       "     [],\n",
       "     [],\n",
       "     None,\n",
       "     None,\n",
       "     None,\n",
       "     None,\n",
       "     None,\n",
       "     None],\n",
       "    'residency_agent_wl': [['PL'], ['Poland']],\n",
       "    'hit_type_agent_name': [],\n",
       "    'hit_type_agent_address': ['CONCAT_ADDRESS',\n",
       "     'ADDRESS1_COUNTRY',\n",
       "     'ADDRESS1_STATE',\n",
       "     'ADDRESS1_CITY',\n",
       "     'ADDRESS1_PROVINCE'],\n",
       "    'hit_type_agent_job': [],\n",
       "    'hit_type_agent_other': [],\n",
       "    'matched_tokens_tp_marked_agent_input': 'Doe',\n",
       "    'ap_name_tp_marked_agent_input': None,\n",
       "    'ap_id_tp_marked_agent_input': 'A05003324172',\n",
       "    'is_entity_match_agent_ap': 'C',\n",
       "    'is_entity_match_agent_wl': 'I',\n",
       "    'ap_all_dobs_aggregated': [],\n",
       "    'wl_all_dobs_aggregated': ['MAY 6, 1981'],\n",
       "    'ap_all_documents_aggregated': [],\n",
       "    'wl_all_documents_aggregated': [],\n",
       "    'ap_all_company_names_aggregated': [],\n",
       "    'wl_all_company_names_aggregated': ['Joe Dong'],\n",
       "    'ap_all_names_aggregated': [],\n",
       "    'wl_all_names_aggregated': ['Joe Dong'],\n",
       "    'ap_all_employer_names_aggregated': [],\n",
       "    'wl_all_employer_names_aggregated': ['Joe Dong'],\n",
       "    'ap_all_nationalities_aggregated': [],\n",
       "    'wl_all_nationalities_aggregated': ['PL', 'Poland'],\n",
       "    'ap_all_party_types_aggregated': [],\n",
       "    'wl_all_party_types_aggregated': ['I'],\n",
       "    'ap_all_pobs_aggregated': [],\n",
       "    'wl_all_pobs_aggregated': ['PL', 'Poland'],\n",
       "    'ap_all_sanctioned_countries_aggregated': [],\n",
       "    'wl_all_sanctioned_countries_aggregated': ['Joe Dong', 'PL', 'Poland'],\n",
       "    'ap_all_residencies_aggregated': [],\n",
       "    'wl_all_residencies_aggregated': ['PL', 'Poland'],\n",
       "    'ap_all_hit_types_aggregated': [],\n",
       "    'wl_all_hit_types_aggregated': [],\n",
       "    'ap_all_matched_tokens_tp_markeds_aggregated': [],\n",
       "    'wl_all_matched_tokens_tp_markeds_aggregated': [],\n",
       "    'ap_all_ap_name_tp_markeds_aggregated': [],\n",
       "    'wl_all_ap_name_tp_markeds_aggregated': [],\n",
       "    'ap_all_ap_id_tp_markeds_aggregated': [],\n",
       "    'wl_all_ap_id_tp_markeds_aggregated': [],\n",
       "    'ap_all_is_entity_matchs_aggregated': ['C'],\n",
       "    'wl_all_is_entity_matchs_aggregated': ['I'],\n",
       "    'all_hit_type_aggregated': [{'name': [],\n",
       "      'address': ['CONCAT_ADDRESS',\n",
       "       'ADDRESS1_COUNTRY',\n",
       "       'ADDRESS1_STATE',\n",
       "       'ADDRESS1_CITY',\n",
       "       'ADDRESS1_PROVINCE'],\n",
       "      'job': [],\n",
       "      'other': []}]}},\n",
       "  'match_ids': 1,\n",
       "  'ALL_CONNECTED_PARTIES_NAMES': [],\n",
       "  'ALL_CONNECTED_PARTY_NAMES': [],\n",
       "  'ALL_CONNECTED_TAX_IDS': [],\n",
       "  'ALL_CONNECTED_PARTY_BIRTH_COUNTRIES': [],\n",
       "  'ALL_CONNECTED_PARTY_CITIZENSHIP_COUNTRIES': [],\n",
       "  'ALL_CONNECTED_PARTY_RESIDENCY_COUNTRIES': [],\n",
       "  'ALL_CONNECTED_COUNTRY_OF_INCORPORATION': [],\n",
       "  'ALL_CONNECTED_GOVT_IDS': [],\n",
       "  'ALL_CONNECTED_ACCOUNT_NAMES': [],\n",
       "  'ALL_CONNECTED_ACCOUNT_BRANCH_ACCOUNT_NUMBERS': [],\n",
       "  'ALL_CONNECTED_ACCOUNT_BENEFICIARY_NAMES': [],\n",
       "  'ALL_PARTY1_EMPLOYERS': None,\n",
       "  'ALL_PARTY1_COUNTRY': None,\n",
       "  'ALL_PARTY1_COUNTRY1': None,\n",
       "  'ALL_PARTY1_COUNTRY_OF_INCORPORATION': None,\n",
       "  'ALL_PARTY1_ADDRESS1_COUNTRY': '',\n",
       "  'ALL_PARTY1_COUNTRY1_CITIZENSHIP': None,\n",
       "  'ALL_PARTY1_COUNTRY2_CITIZENSHIP': None,\n",
       "  'ALL_PARTY1_COUNTRY_FORMATION1': None,\n",
       "  'ALL_PARTY1_COUNTRY_DOMICILE1': None,\n",
       "  'ALL_PRTY_PRIM_CTZNSH_CNTRY': None,\n",
       "  'ALL_PRTY_RSDNC_CNTRY_CD': None,\n",
       "  'ALL_PARTY1_COUNTRY_PEP': None,\n",
       "  'ALL_CONCAT_NAMES': None,\n",
       "  'ALL_PARTY1_GOVTID1_NUMBER': None,\n",
       "  'ALL_PARTY1_GOVTID2_NUMBER': None,\n",
       "  'cleaned_names': {'concat_residue': 'Joe Black & Jane Doe 111 A 11TH ST AAA 1A New Jersey NJ'},\n",
       "  'concat_residue': 'Joe Black & Jane Doe 111 A 11TH ST AAA 1A New Jersey NJ',\n",
       "  'concat_address_no_changes': True}]"
      ]
     },
     "execution_count": 44,
     "metadata": {},
     "output_type": "execute_result"
    }
   ],
   "source": [
    "new_payloads"
   ]
  },
  {
   "cell_type": "code",
   "execution_count": 45,
   "id": "c56f2789",
   "metadata": {},
   "outputs": [],
   "source": [
    "import pickle\n",
    "with open(\"tests/shared/wm_party_payload_with_partial_supplemental_info.pkl\", \"wb\") as f:\n",
    "    pickle.dump(new_payloads, f)"
   ]
  },
  {
   "cell_type": "code",
   "execution_count": 46,
   "id": "35b8c666",
   "metadata": {},
   "outputs": [
    {
     "name": "stdout",
     "output_type": "stream",
     "text": [
      "=====================\n",
      "PAYLOAD\n",
      "122438658\n",
      "[] ['MAY 6, 1981']\n",
      "[] ['|FL;US']\n",
      "=====================\n",
      "PAYLOAD\n",
      "122438659\n",
      "[] ['MAY 6, 1981']\n",
      "[] ['PL', 'Poland']\n"
     ]
    }
   ],
   "source": [
    "for payload in new_payloads:\n",
    "    print('=====================')\n",
    "    print('PAYLOAD')\n",
    "    print(payload['alertedParty']['inputRecordHist']['inputRecords']['versionId'])\n",
    "        \n",
    "    match = payload['watchlistParty']['matchRecords']\n",
    "    assert (match['inputVersionId'] == payload['alertedParty']['inputRecordHist']['inputRecords']['versionId'])\n",
    "    print(match[\"ap_all_dobs_aggregated\"], match[\"wl_all_dobs_aggregated\"])\n",
    "    try:\n",
    "        print(match[\"ap_all_residencies_aggregated\"], match[\"wl_all_residencies_aggregated\"])\n",
    "    except:\n",
    "        break\n"
   ]
  },
  {
   "cell_type": "code",
   "execution_count": 47,
   "id": "d52acf6e",
   "metadata": {},
   "outputs": [],
   "source": [
    "from etl_pipeline.config import load_agent_config"
   ]
  },
  {
   "cell_type": "code",
   "execution_count": null,
   "id": "8335e0ce",
   "metadata": {},
   "outputs": [],
   "source": []
  },
  {
   "cell_type": "code",
   "execution_count": 48,
   "id": "39a56709",
   "metadata": {},
   "outputs": [
    {
     "ename": "AttributeError",
     "evalue": "'int' object has no attribute 'endswith'",
     "output_type": "error",
     "traceback": [
      "\u001b[0;31m---------------------------------------------------------------------------\u001b[0m",
      "\u001b[0;31mAttributeError\u001b[0m                            Traceback (most recent call last)",
      "\u001b[0;32m<ipython-input-48-68eb72321200>\u001b[0m in \u001b[0;36m<module>\u001b[0;34m\u001b[0m\n\u001b[1;32m      2\u001b[0m \u001b[0mout_payload\u001b[0m \u001b[0;34m=\u001b[0m \u001b[0mpd\u001b[0m\u001b[0;34m.\u001b[0m\u001b[0mDataFrame\u001b[0m\u001b[0;34m(\u001b[0m\u001b[0;34m[\u001b[0m\u001b[0mmatch\u001b[0m \u001b[0;32mfor\u001b[0m \u001b[0mpayload\u001b[0m \u001b[0;32min\u001b[0m \u001b[0mnew_payloads\u001b[0m   \u001b[0;32mfor\u001b[0m \u001b[0mmatch\u001b[0m \u001b[0;32min\u001b[0m \u001b[0mpayload\u001b[0m\u001b[0;34m[\u001b[0m\u001b[0;34m'watchlistParty'\u001b[0m\u001b[0;34m]\u001b[0m\u001b[0;34m[\u001b[0m\u001b[0;34m'matchRecords'\u001b[0m\u001b[0;34m]\u001b[0m\u001b[0;34m]\u001b[0m\u001b[0;34m)\u001b[0m\u001b[0;34m\u001b[0m\u001b[0;34m\u001b[0m\u001b[0m\n\u001b[1;32m      3\u001b[0m \u001b[0;34m\u001b[0m\u001b[0m\n\u001b[0;32m----> 4\u001b[0;31m \u001b[0mout_payload\u001b[0m\u001b[0;34m[\u001b[0m\u001b[0;34m[\u001b[0m\u001b[0mi\u001b[0m \u001b[0;32mfor\u001b[0m \u001b[0mi\u001b[0m \u001b[0;32min\u001b[0m \u001b[0mout_payload\u001b[0m\u001b[0;34m.\u001b[0m\u001b[0mcolumns\u001b[0m  \u001b[0;32mif\u001b[0m \u001b[0mi\u001b[0m\u001b[0;34m.\u001b[0m\u001b[0mendswith\u001b[0m\u001b[0;34m(\u001b[0m\u001b[0;34m\"_aggregated\"\u001b[0m\u001b[0;34m)\u001b[0m\u001b[0;34m]\u001b[0m\u001b[0;34m]\u001b[0m\u001b[0;34m\u001b[0m\u001b[0;34m\u001b[0m\u001b[0m\n\u001b[0m",
      "\u001b[0;32m<ipython-input-48-68eb72321200>\u001b[0m in \u001b[0;36m<listcomp>\u001b[0;34m(.0)\u001b[0m\n\u001b[1;32m      2\u001b[0m \u001b[0mout_payload\u001b[0m \u001b[0;34m=\u001b[0m \u001b[0mpd\u001b[0m\u001b[0;34m.\u001b[0m\u001b[0mDataFrame\u001b[0m\u001b[0;34m(\u001b[0m\u001b[0;34m[\u001b[0m\u001b[0mmatch\u001b[0m \u001b[0;32mfor\u001b[0m \u001b[0mpayload\u001b[0m \u001b[0;32min\u001b[0m \u001b[0mnew_payloads\u001b[0m   \u001b[0;32mfor\u001b[0m \u001b[0mmatch\u001b[0m \u001b[0;32min\u001b[0m \u001b[0mpayload\u001b[0m\u001b[0;34m[\u001b[0m\u001b[0;34m'watchlistParty'\u001b[0m\u001b[0;34m]\u001b[0m\u001b[0;34m[\u001b[0m\u001b[0;34m'matchRecords'\u001b[0m\u001b[0;34m]\u001b[0m\u001b[0;34m]\u001b[0m\u001b[0;34m)\u001b[0m\u001b[0;34m\u001b[0m\u001b[0;34m\u001b[0m\u001b[0m\n\u001b[1;32m      3\u001b[0m \u001b[0;34m\u001b[0m\u001b[0m\n\u001b[0;32m----> 4\u001b[0;31m \u001b[0mout_payload\u001b[0m\u001b[0;34m[\u001b[0m\u001b[0;34m[\u001b[0m\u001b[0mi\u001b[0m \u001b[0;32mfor\u001b[0m \u001b[0mi\u001b[0m \u001b[0;32min\u001b[0m \u001b[0mout_payload\u001b[0m\u001b[0;34m.\u001b[0m\u001b[0mcolumns\u001b[0m  \u001b[0;32mif\u001b[0m \u001b[0mi\u001b[0m\u001b[0;34m.\u001b[0m\u001b[0mendswith\u001b[0m\u001b[0;34m(\u001b[0m\u001b[0;34m\"_aggregated\"\u001b[0m\u001b[0;34m)\u001b[0m\u001b[0;34m]\u001b[0m\u001b[0;34m]\u001b[0m\u001b[0;34m\u001b[0m\u001b[0;34m\u001b[0m\u001b[0m\n\u001b[0m",
      "\u001b[0;31mAttributeError\u001b[0m: 'int' object has no attribute 'endswith'"
     ]
    }
   ],
   "source": [
    "import pandas as pd\n",
    "out_payload = pd.DataFrame([match for payload in new_payloads   for match in payload['watchlistParty']['matchRecords']])\n",
    "\n",
    "out_payload[[i for i in out_payload.columns  if i.endswith(\"_aggregated\")]]"
   ]
  },
  {
   "cell_type": "code",
   "execution_count": 49,
   "id": "96d2557a",
   "metadata": {},
   "outputs": [
    {
     "ename": "NameError",
     "evalue": "name 'CONFIG_APP_DIR' is not defined",
     "output_type": "error",
     "traceback": [
      "\u001b[0;31m---------------------------------------------------------------------------\u001b[0m",
      "\u001b[0;31mNameError\u001b[0m                                 Traceback (most recent call last)",
      "\u001b[0;32m<ipython-input-49-765dbd779c37>\u001b[0m in \u001b[0;36m<module>\u001b[0;34m\u001b[0m\n\u001b[1;32m      1\u001b[0m \u001b[0;32mfrom\u001b[0m \u001b[0momegaconf\u001b[0m \u001b[0;32mimport\u001b[0m \u001b[0mOmegaConf\u001b[0m\u001b[0;34m\u001b[0m\u001b[0;34m\u001b[0m\u001b[0m\n\u001b[1;32m      2\u001b[0m alert_agents_config = {\n\u001b[0;32m----> 3\u001b[0;31m         \u001b[0;34m\"alert_type\"\u001b[0m\u001b[0;34m:\u001b[0m \u001b[0mOmegaConf\u001b[0m\u001b[0;34m.\u001b[0m\u001b[0mload\u001b[0m\u001b[0;34m(\u001b[0m\u001b[0mos\u001b[0m\u001b[0;34m.\u001b[0m\u001b[0mpath\u001b[0m\u001b[0;34m.\u001b[0m\u001b[0mjoin\u001b[0m\u001b[0;34m(\u001b[0m\u001b[0mCONFIG_APP_DIR\u001b[0m\u001b[0;34m,\u001b[0m \u001b[0;34m\"agents\"\u001b[0m\u001b[0;34m,\u001b[0m \u001b[0;34m\"agents.yaml\"\u001b[0m\u001b[0;34m)\u001b[0m\u001b[0;34m)\u001b[0m\u001b[0;34m\u001b[0m\u001b[0;34m\u001b[0m\u001b[0m\n\u001b[0m\u001b[1;32m      4\u001b[0m     }\n\u001b[1;32m      5\u001b[0m \u001b[0;34m\u001b[0m\u001b[0m\n",
      "\u001b[0;31mNameError\u001b[0m: name 'CONFIG_APP_DIR' is not defined"
     ]
    }
   ],
   "source": [
    "from omegaconf import OmegaConf\n",
    "alert_agents_config = {\n",
    "        \"alert_type\": OmegaConf.load(os.path.join(CONFIG_APP_DIR, \"agents\", \"agents.yaml\"))\n",
    "    }\n",
    "\n",
    "\n",
    "import omegaconf\n",
    "def get_fields(dict_):\n",
    "    fields = []\n",
    "    for key in dict_:\n",
    "        \n",
    "        if isinstance(dict_[key], omegaconf.dictconfig.DictConfig):\n",
    "            new_fields = get_fields(dict_[key])\n",
    "            fields.extend(new_fields)\n",
    "        else:\n",
    "#             import pdb; pdb.set_trace()\n",
    "            fields.extend(dict_[key])\n",
    "    return fields\n",
    "\n",
    "fields = [i.split('.')[-1] for i in get_fields(alert_agents_config['alert_type']) if \"alertedParty.inputRecordHist.inputRecords.INPUT_FIELD\" not in i]\n",
    "    \n",
    "    \n",
    "\n",
    "from glob import glob\n",
    "\n",
    "files = glob(\"pipelines/**/*.py\",  recursive=True)\n",
    "files.extend(glob(\"etl_pipeline/**/*.py\",  recursive=True))\n",
    "\n",
    "fields_to_check = list(fields)\n",
    "for file in files:\n",
    "    with open(file) as f:\n",
    "        text = f.read()\n",
    "    new_fields_to_check = []\n",
    "    \n",
    "    for field in fields_to_check:\n",
    "        if field in text:\n",
    "            continue\n",
    "        new_fields_to_check.append(field)\n",
    "    fields_to_check = new_fields_to_check\n",
    "        \n",
    "    \n",
    "\n",
    "fields_to_check\n",
    "\n",
    "CONFIG_APP_DIR = os.environ[\"CONFIG_APP_DIR\"] "
   ]
  },
  {
   "cell_type": "code",
   "execution_count": null,
   "id": "cb3989b9",
   "metadata": {},
   "outputs": [],
   "source": [
    "import pickle"
   ]
  },
  {
   "cell_type": "code",
   "execution_count": null,
   "id": "d800dacf",
   "metadata": {},
   "outputs": [],
   "source": [
    "with open(\"/tmp/request.pkl\", 'rb') as f:\n",
    "    r = pickle.load(f)"
   ]
  },
  {
   "cell_type": "code",
   "execution_count": null,
   "id": "43be1e23",
   "metadata": {},
   "outputs": [],
   "source": [
    "from silenteight.datasource.api.name.v1.name_pb2 import (\n",
    "    NameFeatureInput,\n",
    ")"
   ]
  },
  {
   "cell_type": "code",
   "execution_count": null,
   "id": "b14a2821",
   "metadata": {},
   "outputs": [],
   "source": [
    "from google.protobuf.any_pb2 import Any"
   ]
  },
  {
   "cell_type": "code",
   "execution_count": null,
   "id": "6c1172e8",
   "metadata": {},
   "outputs": [],
   "source": [
    "some_any2 = Any()\n",
    "message = NameFeatureInput()\n",
    "some_any2.Pack(NameFeatureInput())\n",
    "# some_any2.CopyFrom(i.feature_inputs[0].agent_feature_input)\n"
   ]
  },
  {
   "cell_type": "code",
   "execution_count": null,
   "id": "72090ccf",
   "metadata": {},
   "outputs": [],
   "source": [
    "i.feature_inputs[0].agent_feature_input"
   ]
  },
  {
   "cell_type": "code",
   "execution_count": null,
   "id": "77713365",
   "metadata": {},
   "outputs": [],
   "source": [
    "i.feature_inputs[0].agent_feature_input.Unpack(message)"
   ]
  },
  {
   "cell_type": "code",
   "execution_count": null,
   "id": "bba23ea6",
   "metadata": {},
   "outputs": [],
   "source": [
    "message"
   ]
  },
  {
   "cell_type": "code",
   "execution_count": null,
   "id": "bbda4d63",
   "metadata": {},
   "outputs": [],
   "source": [
    "unpacked_msg = extension_pb2.GeneralContent_Extension())\n"
   ]
  },
  {
   "cell_type": "code",
   "execution_count": null,
   "id": "cef352d6",
   "metadata": {},
   "outputs": [],
   "source": []
  },
  {
   "cell_type": "code",
   "execution_count": null,
   "id": "37346f7f",
   "metadata": {},
   "outputs": [],
   "source": [
    "NameFeatureInput.ParseFromString()"
   ]
  },
  {
   "cell_type": "code",
   "execution_count": null,
   "id": "b5715d05",
   "metadata": {},
   "outputs": [],
   "source": []
  },
  {
   "cell_type": "code",
   "execution_count": null,
   "id": "88020e17",
   "metadata": {},
   "outputs": [],
   "source": [
    "from sile\n",
    "i.feature_inputs[0].agent_feature_input.value.decode('utf-8')"
   ]
  },
  {
   "cell_type": "code",
   "execution_count": null,
   "id": "8a8e243f",
   "metadata": {},
   "outputs": [],
   "source": [
    "type(i.feature_inputs[0].agent_feature_input.type_url)"
   ]
  },
  {
   "cell_type": "code",
   "execution_count": null,
   "id": "f9bd05fc",
   "metadata": {},
   "outputs": [],
   "source": [
    "for i in response.agent_inputs:\n",
    "    print(i.feature_inputs)"
   ]
  },
  {
   "cell_type": "code",
   "execution_count": null,
   "id": "e230faaa",
   "metadata": {},
   "outputs": [],
   "source": [
    "for "
   ]
  }
 ],
 "metadata": {
  "kernelspec": {
   "display_name": "Python 3",
   "language": "python",
   "name": "python3"
  },
  "language_info": {
   "codemirror_mode": {
    "name": "ipython",
    "version": 3
   },
   "file_extension": ".py",
   "mimetype": "text/x-python",
   "name": "python",
   "nbconvert_exporter": "python",
   "pygments_lexer": "ipython3",
   "version": "3.6.13"
  }
 },
 "nbformat": 4,
 "nbformat_minor": 5
}
