{
 "cells": [
  {
   "cell_type": "code",
   "execution_count": 1,
   "id": "3bd69b4c-19cf-48f7-a810-a4890e66302f",
   "metadata": {
    "tags": []
   },
   "outputs": [],
   "source": [
    "import os\n",
    "\n",
    "os.environ[\"CONFIG_APP_DIR\"] = \"/app/config\"\n"
   ]
  },
  {
   "cell_type": "code",
   "execution_count": 2,
   "id": "3c549e53",
   "metadata": {},
   "outputs": [
    {
     "name": "stderr",
     "output_type": "stream",
     "text": [
      "/env/ds/anaconda/envs/pipeline/lib/python3.6/site-packages/fuzzywuzzy/fuzz.py:11: UserWarning: Using slow pure-python SequenceMatcher. Install python-Levenshtein to remove this warning\n",
      "  warnings.warn('Using slow pure-python SequenceMatcher. Install python-Levenshtein to remove this warning')\n"
     ]
    }
   ],
   "source": [
    "import sys\n",
    "import os\n",
    "import pickle\n",
    "os.chdir(\"/app\")\n",
    "from omegaconf import OmegaConf\n",
    "\n",
    "import json\n",
    "from etl_pipeline.data_processor_engine.json_engine.json_engine import JsonProcessingEngine\n",
    "from etl_pipeline.custom.ms.payload_loader import PayloadLoader"
   ]
  },
  {
   "cell_type": "code",
   "execution_count": 3,
   "id": "522650c7-af7a-4824-8d36-bf62f558577d",
   "metadata": {},
   "outputs": [],
   "source": [
    "from etl_pipeline.config import pipeline_config\n",
    "cn = pipeline_config.cn"
   ]
  },
  {
   "cell_type": "code",
   "execution_count": 4,
   "id": "565d811d",
   "metadata": {},
   "outputs": [],
   "source": [
    "# alert = load_alert()"
   ]
  },
  {
   "cell_type": "code",
   "execution_count": 5,
   "id": "c804420b-9569-449e-99b4-8d707bc9b956",
   "metadata": {
    "tags": []
   },
   "outputs": [],
   "source": [
    "# payload = load_alert()\n"
   ]
  },
  {
   "cell_type": "markdown",
   "id": "82153271-8b29-42f9-9ca8-4d3f7ba2b721",
   "metadata": {},
   "source": [
    "# Definition"
   ]
  },
  {
   "cell_type": "code",
   "execution_count": 6,
   "id": "f813cf33-f0e2-48d6-92ff-3163cf5db3f2",
   "metadata": {},
   "outputs": [],
   "source": [
    "from pipelines.ms.ms_pipeline import MSPipeline\n",
    "from etl_pipeline.config import pipeline_config\n"
   ]
  },
  {
   "cell_type": "code",
   "execution_count": 7,
   "id": "d20eba4e-fa6b-462b-a548-d8c9bbc255d0",
   "metadata": {},
   "outputs": [],
   "source": [
    "with open(f'notebooks/sample/wm_party_in_payload_format.json', 'r') as file:\n",
    "    payload = json.loads(file.read())\n",
    "\n",
    "payload_json = {key: payload[key] for key in sorted(payload)}\n",
    "payload_json = PayloadLoader().load_payload_from_json(payload_json)\n",
    "\n",
    "\n",
    "\n",
    "payload_json['match_ids'] = [i for i in range(len(payload_json[\"watchlistParty\"][\"matchRecords\"]))]\n"
   ]
  },
  {
   "cell_type": "code",
   "execution_count": 8,
   "id": "8bf7bcf5-be42-4cc1-a227-7938c4417b6d",
   "metadata": {},
   "outputs": [],
   "source": [
    "payload = payload_json"
   ]
  },
  {
   "cell_type": "code",
   "execution_count": 9,
   "id": "409b615c-769f-4159-9ab4-019fb87cd547",
   "metadata": {},
   "outputs": [],
   "source": [
    "from etl_pipeline.config import load_agent_configs, pipeline_config"
   ]
  },
  {
   "cell_type": "code",
   "execution_count": null,
   "id": "402fa313-0b7e-4c66-8d2a-a2801dd1494a",
   "metadata": {},
   "outputs": [],
   "source": []
  },
  {
   "cell_type": "code",
   "execution_count": 10,
   "id": "27343b4b-3bca-4a32-9ac7-3fb41450eb8c",
   "metadata": {
    "scrolled": true
   },
   "outputs": [
    {
     "name": "stdout",
     "output_type": "stream",
     "text": [
      "2022-04-13 07:58:00,862 — main — WARNING — load_agent_config:68 — Field in agent configuration for: ALL_CONCAT_NAMES is not registered field in pipeline.yaml\n",
      "2022-04-13 07:58:00,867 — main — WARNING — load_agent_config:68 — Field in agent configuration for: ALL_PARTY1_NAME_FULL is not registered field in pipeline.yaml\n",
      "2022-04-13 07:58:00,871 — main — WARNING — load_agent_config:68 — Field in agent configuration for: ALL_CONCAT_NAMES is not registered field in pipeline.yaml\n",
      "2022-04-13 07:58:00,878 — main — WARNING — load_agent_config:68 — Field in agent configuration for: ALL_PARTY1_NAME_FULL is not registered field in pipeline.yaml\n",
      "2022-04-13 07:58:00,883 — main — WARNING — load_agent_config:68 — Field in agent configuration for: ALL_PARTY1_ORGANIZATION_NAME is not registered field in pipeline.yaml\n",
      "2022-04-13 07:58:00,992 — main — WARNING — load_agent_config:68 — Field in agent configuration for: AP_PARTY_TYPE is not registered field in pipeline.yaml\n"
     ]
    }
   ],
   "source": [
    "pipeline_config.reload_pipeline_config()\n",
    "_ = load_agent_configs()"
   ]
  },
  {
   "cell_type": "code",
   "execution_count": 11,
   "id": "9ec7eeee",
   "metadata": {},
   "outputs": [
    {
     "name": "stdout",
     "output_type": "stream",
     "text": [
      "2022-04-13 07:58:01,285 — main — WARNING — load_agent_config:68 — Field in agent configuration for: ALL_CONCAT_NAMES is not registered field in pipeline.yaml\n",
      "2022-04-13 07:58:01,290 — main — WARNING — load_agent_config:68 — Field in agent configuration for: ALL_PARTY1_NAME_FULL is not registered field in pipeline.yaml\n",
      "2022-04-13 07:58:01,295 — main — WARNING — load_agent_config:68 — Field in agent configuration for: ALL_CONCAT_NAMES is not registered field in pipeline.yaml\n",
      "2022-04-13 07:58:01,299 — main — WARNING — load_agent_config:68 — Field in agent configuration for: ALL_PARTY1_NAME_FULL is not registered field in pipeline.yaml\n",
      "2022-04-13 07:58:01,305 — main — WARNING — load_agent_config:68 — Field in agent configuration for: ALL_PARTY1_ORGANIZATION_NAME is not registered field in pipeline.yaml\n",
      "2022-04-13 07:58:01,405 — main — WARNING — load_agent_config:68 — Field in agent configuration for: AP_PARTY_TYPE is not registered field in pipeline.yaml\n"
     ]
    }
   ],
   "source": [
    "engine = JsonProcessingEngine(pipeline_config)\n",
    "pipeline = MSPipeline(engine, config=pipeline_config)"
   ]
  },
  {
   "cell_type": "markdown",
   "id": "67b3311f-755c-4467-b2e3-725c5571dcc2",
   "metadata": {},
   "source": [
    "## transform standardized to cleansed"
   ]
  },
  {
   "cell_type": "code",
   "execution_count": 12,
   "id": "b44d01ec-9869-490c-90f3-ea6ce71c2179",
   "metadata": {},
   "outputs": [
    {
     "name": "stdout",
     "output_type": "stream",
     "text": [
      "2022-04-13 07:58:01,727 — main.etl_pipeline — WARNING — get_parties:168 — No parties\n",
      "2022-04-13 07:58:01,728 — main.etl_pipeline — WARNING — get_accounts:178 — No accounts\n",
      "2022-04-13 07:58:01,730 — main.etl_pipeline — WARNING — get_parties:168 — No parties\n",
      "2022-04-13 07:58:01,731 — main.etl_pipeline — WARNING — get_accounts:178 — No accounts\n",
      "2022-04-13 07:58:01,733 — main.etl_pipeline — WARNING — get_parties:168 — No parties\n",
      "2022-04-13 07:58:01,734 — main.etl_pipeline — WARNING — get_accounts:178 — No accounts\n"
     ]
    }
   ],
   "source": [
    "payload = pipeline.transform_standardized_to_cleansed(payload)"
   ]
  },
  {
   "cell_type": "markdown",
   "id": "a97ecf06-a7e4-45a1-81e9-1203ccd1dd73",
   "metadata": {},
   "source": [
    "ALL_CONNECTED_ACCOUNT_NAMES# Transform standardized to application"
   ]
  },
  {
   "cell_type": "code",
   "execution_count": 13,
   "id": "1103a035-7ee7-49fa-8472-8dc744bc90bc",
   "metadata": {},
   "outputs": [
    {
     "name": "stdout",
     "output_type": "stream",
     "text": [
      "2022-04-13 07:58:02,214 — main.engine — WARNING — merge_to_target_col_from_source_cols_sql_expression:235 — No field in payload named: hit_type_agent_country. Ignore for HIT TYPE AGENT\n",
      "2022-04-13 07:58:02,215 — main.engine — WARNING — merge_to_target_col_from_source_cols_sql_expression:235 — No field in payload named: hit_type_agent_job. Ignore for HIT TYPE AGENT\n",
      "2022-04-13 07:58:02,216 — main.engine — WARNING — merge_to_target_col_from_source_cols_sql_expression:235 — No field in payload named: hit_type_agent_other. Ignore for HIT TYPE AGENT\n",
      "2022-04-13 07:58:02,216 — main.engine — WARNING — merge_to_target_col_from_source_cols_sql_expression:235 — No field in payload named: hit_type_agent_country. Ignore for HIT TYPE AGENT\n",
      "2022-04-13 07:58:02,216 — main.engine — WARNING — merge_to_target_col_from_source_cols_sql_expression:235 — No field in payload named: hit_type_agent_job. Ignore for HIT TYPE AGENT\n",
      "2022-04-13 07:58:02,217 — main.engine — WARNING — merge_to_target_col_from_source_cols_sql_expression:235 — No field in payload named: hit_type_agent_other. Ignore for HIT TYPE AGENT\n",
      "2022-04-13 07:58:02,224 — main.engine — WARNING — merge_to_target_col_from_source_cols_sql_expression:235 — No field in payload named: hit_type_agent_country. Ignore for HIT TYPE AGENT\n",
      "2022-04-13 07:58:02,224 — main.engine — WARNING — merge_to_target_col_from_source_cols_sql_expression:235 — No field in payload named: hit_type_agent_job. Ignore for HIT TYPE AGENT\n",
      "2022-04-13 07:58:02,225 — main.engine — WARNING — merge_to_target_col_from_source_cols_sql_expression:235 — No field in payload named: hit_type_agent_other. Ignore for HIT TYPE AGENT\n",
      "2022-04-13 07:58:02,225 — main.engine — WARNING — merge_to_target_col_from_source_cols_sql_expression:235 — No field in payload named: hit_type_agent_country. Ignore for HIT TYPE AGENT\n",
      "2022-04-13 07:58:02,226 — main.engine — WARNING — merge_to_target_col_from_source_cols_sql_expression:235 — No field in payload named: hit_type_agent_job. Ignore for HIT TYPE AGENT\n",
      "2022-04-13 07:58:02,226 — main.engine — WARNING — merge_to_target_col_from_source_cols_sql_expression:235 — No field in payload named: hit_type_agent_other. Ignore for HIT TYPE AGENT\n"
     ]
    }
   ],
   "source": [
    "new_payloads = pipeline.transform_cleansed_to_application(payload)"
   ]
  },
  {
   "cell_type": "markdown",
   "id": "a9a626d1-bac1-41e3-ae8a-cf91c32d99ae",
   "metadata": {
    "tags": []
   },
   "source": [
    "### payload"
   ]
  },
  {
   "cell_type": "code",
   "execution_count": 14,
   "id": "6de852f2-a5b9-4c0f-8670-cbe220275a71",
   "metadata": {},
   "outputs": [
    {
     "data": {
      "text/plain": [
       "2"
      ]
     },
     "execution_count": 14,
     "metadata": {},
     "output_type": "execute_result"
    }
   ],
   "source": [
    "len(new_payloads)"
   ]
  },
  {
   "cell_type": "code",
   "execution_count": 15,
   "id": "d4c84a93-ef52-4747-b14c-dd1d1ca07bcb",
   "metadata": {},
   "outputs": [
    {
     "data": {
      "text/plain": [
       "{'Doe': {'ADDRESS1_LINE2': ['Jane Doe AA BBB'],\n",
       "  'CONCAT_ADDRESS': ['Joe Black & Jane Doe 111 A 11TH ST AAA 1A New Jersey NJ']}}"
      ]
     },
     "execution_count": 15,
     "metadata": {},
     "output_type": "execute_result"
    }
   ],
   "source": [
    "import pandas as pd\n",
    "out_payload = pd.DataFrame([match for payload in new_payloads   for match in payload['watchlistParty']['matchRecords']])\n",
    "\n",
    "out_payload['AP_TRIGGERS'].values[0]"
   ]
  },
  {
   "cell_type": "code",
   "execution_count": 16,
   "id": "26808ea6",
   "metadata": {},
   "outputs": [
    {
     "data": {
      "text/html": [
       "<div>\n",
       "<style scoped>\n",
       "    .dataframe tbody tr th:only-of-type {\n",
       "        vertical-align: middle;\n",
       "    }\n",
       "\n",
       "    .dataframe tbody tr th {\n",
       "        vertical-align: top;\n",
       "    }\n",
       "\n",
       "    .dataframe thead th {\n",
       "        text-align: right;\n",
       "    }\n",
       "</style>\n",
       "<table border=\"1\" class=\"dataframe\">\n",
       "  <thead>\n",
       "    <tr style=\"text-align: right;\">\n",
       "      <th></th>\n",
       "      <th>entity</th>\n",
       "      <th>entityId</th>\n",
       "      <th>entityTextType</th>\n",
       "      <th>entityType</th>\n",
       "      <th>entityVersion</th>\n",
       "      <th>is_entity_match_agent_ap</th>\n",
       "      <th>is_entity_match_agent_wl</th>\n",
       "      <th>ap_all_is_entity_matchs_aggregated</th>\n",
       "      <th>wl_all_is_entity_matchs_aggregated</th>\n",
       "    </tr>\n",
       "  </thead>\n",
       "  <tbody>\n",
       "    <tr>\n",
       "      <th>0</th>\n",
       "      <td>{'addresses': [{'address1': '111 STREET 999', ...</td>\n",
       "      <td>908043</td>\n",
       "      <td>UPID</td>\n",
       "      <td>03</td>\n",
       "      <td>20150505194929</td>\n",
       "      <td>C</td>\n",
       "      <td>I</td>\n",
       "      <td>[C]</td>\n",
       "      <td>[I]</td>\n",
       "    </tr>\n",
       "    <tr>\n",
       "      <th>1</th>\n",
       "      <td>{'addresses': {'address': {'address1': '111 ST...</td>\n",
       "      <td>908044</td>\n",
       "      <td>UPID</td>\n",
       "      <td>03</td>\n",
       "      <td>20150505194923</td>\n",
       "      <td>C</td>\n",
       "      <td>I</td>\n",
       "      <td>[C]</td>\n",
       "      <td>[I]</td>\n",
       "    </tr>\n",
       "  </tbody>\n",
       "</table>\n",
       "</div>"
      ],
      "text/plain": [
       "                                              entity entityId entityTextType  \\\n",
       "0  {'addresses': [{'address1': '111 STREET 999', ...   908043           UPID   \n",
       "1  {'addresses': {'address': {'address1': '111 ST...   908044           UPID   \n",
       "\n",
       "  entityType   entityVersion is_entity_match_agent_ap  \\\n",
       "0         03  20150505194929                        C   \n",
       "1         03  20150505194923                        C   \n",
       "\n",
       "  is_entity_match_agent_wl ap_all_is_entity_matchs_aggregated  \\\n",
       "0                        I                                [C]   \n",
       "1                        I                                [C]   \n",
       "\n",
       "  wl_all_is_entity_matchs_aggregated  \n",
       "0                                [I]  \n",
       "1                                [I]  "
      ]
     },
     "execution_count": 16,
     "metadata": {},
     "output_type": "execute_result"
    }
   ],
   "source": [
    "out_payload[[i for i in out_payload.columns if \"entity\" in i]]"
   ]
  },
  {
   "cell_type": "code",
   "execution_count": 17,
   "id": "190aa3c5-9909-4b36-b627-b72f22a7e0c8",
   "metadata": {},
   "outputs": [
    {
     "name": "stdout",
     "output_type": "stream",
     "text": [
      "=====================\n",
      "PAYLOAD\n",
      "122438658\n",
      "0 match\n",
      "[] ['MAY 6, 1981']\n",
      "[] []\n",
      "=====================\n",
      "PAYLOAD\n",
      "122438659\n",
      "0 match\n",
      "[] ['MAY 6, 1981']\n",
      "[] ['Poland', 'PL']\n"
     ]
    }
   ],
   "source": [
    "for payload in new_payloads:\n",
    "    print('=====================')\n",
    "    print('PAYLOAD')\n",
    "    print(payload['alertedParty']['inputRecordHist']['inputRecords'][0]['versionId'])\n",
    "        \n",
    "    for num, match in enumerate(payload['watchlistParty']['matchRecords']):\n",
    "        assert (match['inputVersionId'] == payload['alertedParty']['inputRecordHist']['inputRecords'][0]['versionId'])\n",
    "        print(num, 'match')\n",
    "        print(match[\"ap_all_dobs_aggregated\"], match[\"wl_all_dobs_aggregated\"])\n",
    "        try:\n",
    "            print(match[\"ap_all_residencies_aggregated\"], match[\"wl_all_residencies_aggregated\"])\n",
    "        except:\n",
    "            break\n"
   ]
  },
  {
   "cell_type": "code",
   "execution_count": 18,
   "id": "97a6e5da-7094-4fc1-9ef7-8e2782a7a3ee",
   "metadata": {},
   "outputs": [],
   "source": [
    "import pickle\n",
    "with open(\"tests/shared/parsed_payload.pkl\", \"wb\") as f:\n",
    "    pickle.dump(new_payloads, f)"
   ]
  },
  {
   "cell_type": "code",
   "execution_count": 19,
   "id": "b4626108-b497-4432-a22c-6c5c7cac8e55",
   "metadata": {},
   "outputs": [],
   "source": [
    "with open(f'notebooks/sample/wm_address_in_payload_format_2_input_3_match_records.json', 'r') as file:\n",
    "    payload = json.loads(file.read())\n",
    "\n",
    "payload_json = {key: payload[key] for key in sorted(payload)}\n",
    "payload_json = PayloadLoader().load_payload_from_json(payload_json)\n",
    "\n",
    "\n",
    "\n",
    "payload_json['match_ids'] = [i for i in range(len(payload_json[\"watchlistParty\"][\"matchRecords\"]))]\n"
   ]
  },
  {
   "cell_type": "code",
   "execution_count": null,
   "id": "8fa1acc0-0f85-4740-a8c0-b5a54eb927b5",
   "metadata": {},
   "outputs": [],
   "source": [
    "payload = payload_json"
   ]
  },
  {
   "cell_type": "code",
   "execution_count": null,
   "id": "353e29cb-435d-44aa-9a3f-8e4c27f23888",
   "metadata": {},
   "outputs": [],
   "source": [
    "payload = pipeline.transform_standardized_to_cleansed(payload)"
   ]
  },
  {
   "cell_type": "code",
   "execution_count": null,
   "id": "e5d4114d-492e-4410-a41c-dfc04fe87a69",
   "metadata": {},
   "outputs": [],
   "source": [
    "new_payloads = pipeline.transform_cleansed_to_application(payload)"
   ]
  },
  {
   "cell_type": "code",
   "execution_count": null,
   "id": "06c6ce79-99c7-419c-a32d-3c0eb906c334",
   "metadata": {},
   "outputs": [],
   "source": [
    "import pandas as pd\n",
    "out_payload = pd.DataFrame([match for payload in new_payloads   for match in payload['watchlistParty']['matchRecords']])\n",
    "\n",
    "out_payload[[i for i in out_payload.columns  if i.endswith(\"_aggregated\")]]"
   ]
  },
  {
   "cell_type": "code",
   "execution_count": null,
   "id": "5f1424fb-043b-4b80-b922-7678b2765260",
   "metadata": {},
   "outputs": [],
   "source": [
    "for payload in new_payloads:\n",
    "    print('=====================')\n",
    "    print('PAYLOAD')\n",
    "    print(payload['alertedParty']['inputRecordHist']['inputRecords'][0]['versionId'])\n",
    "        \n",
    "    for num, match in enumerate(payload['watchlistParty']['matchRecords']):\n",
    "        assert (match['inputVersionId'] == payload['alertedParty']['inputRecordHist']['inputRecords'][0]['versionId'])\n",
    "        print(num, 'match')\n",
    "        print(match[\"ap_all_dobs_aggregated\"], match[\"wl_all_dobs_aggregated\"])\n",
    "        try:\n",
    "            print(match[\"ap_all_residencies_aggregated\"], match[\"wl_all_residencies_aggregated\"])\n",
    "        except:\n",
    "            break\n"
   ]
  },
  {
   "cell_type": "code",
   "execution_count": null,
   "id": "ded97825-dd07-477b-8e88-8b2f6a64d22a",
   "metadata": {},
   "outputs": [],
   "source": [
    "import pickle\n",
    "with open(\"tests/shared/parsed_payload_2_payload.pkl\", \"wb\") as f:\n",
    "    pickle.dump(new_payloads, f)"
   ]
  },
  {
   "cell_type": "code",
   "execution_count": null,
   "id": "79ea48ac-d227-414c-a898-afaa178bb544",
   "metadata": {},
   "outputs": [],
   "source": [
    "new_dict = {}\n",
    "def return_key(dict_, prefix):\n",
    "    \n",
    "    if isinstance(dict_, list):\n",
    "        for num, i in enumerate(dict_):\n",
    "            return_key(i, prefix +f\"[{num}]\")\n",
    "        return\n",
    "    if isinstance(dict_, str) or dict_ is None:\n",
    "        new_dict[prefix] = dict_\n",
    "        return\n",
    "\n",
    "    for key in dict_:\n",
    "        if prefix:\n",
    "            basic_prefix = prefix + \".\" + key\n",
    "        else:\n",
    "            basic_prefix = key\n",
    "        return_key(dict_[key], basic_prefix)"
   ]
  },
  {
   "cell_type": "code",
   "execution_count": 33,
   "id": "d69753eb",
   "metadata": {},
   "outputs": [],
   "source": [
    "with open(f'notebooks/sample/wm_party_payload_without_supplemental_info.json', 'r') as file:\n",
    "    payload = json.loads(file.read())\n",
    "\n",
    "payload_json = {key: payload[key] for key in sorted(payload)}\n",
    "payload_json = PayloadLoader().load_payload_from_json(payload_json)\n",
    "\n",
    "\n",
    "\n",
    "payload_json['match_ids'] = [i for i in range(len(payload_json[\"watchlistParty\"][\"matchRecords\"]))]\n"
   ]
  },
  {
   "cell_type": "code",
   "execution_count": 34,
   "id": "46e16414",
   "metadata": {},
   "outputs": [],
   "source": [
    "payload = payload_json"
   ]
  },
  {
   "cell_type": "code",
   "execution_count": 35,
   "id": "786c1f11",
   "metadata": {},
   "outputs": [
    {
     "name": "stdout",
     "output_type": "stream",
     "text": [
      "2022-04-13 08:06:10,408 — main.etl_pipeline — WARNING — get_parties:168 — No parties\n",
      "2022-04-13 08:06:10,412 — main.etl_pipeline — WARNING — get_accounts:178 — No accounts\n",
      "2022-04-13 08:06:10,419 — main.etl_pipeline — WARNING — get_parties:168 — No parties\n",
      "2022-04-13 08:06:10,419 — main.etl_pipeline — WARNING — get_accounts:178 — No accounts\n",
      "2022-04-13 08:06:10,421 — main.etl_pipeline — WARNING — get_parties:168 — No parties\n",
      "2022-04-13 08:06:10,422 — main.etl_pipeline — WARNING — get_accounts:178 — No accounts\n"
     ]
    }
   ],
   "source": [
    "payload = pipeline.transform_standardized_to_cleansed(payload)"
   ]
  },
  {
   "cell_type": "code",
   "execution_count": 36,
   "id": "d3ae8a11",
   "metadata": {},
   "outputs": [
    {
     "name": "stdout",
     "output_type": "stream",
     "text": [
      "2022-04-13 08:06:10,624 — main.engine — WARNING — merge_to_target_col_from_source_cols_sql_expression:235 — No field in payload named: hit_type_agent_country. Ignore for HIT TYPE AGENT\n",
      "2022-04-13 08:06:10,624 — main.engine — WARNING — merge_to_target_col_from_source_cols_sql_expression:235 — No field in payload named: hit_type_agent_job. Ignore for HIT TYPE AGENT\n",
      "2022-04-13 08:06:10,625 — main.engine — WARNING — merge_to_target_col_from_source_cols_sql_expression:235 — No field in payload named: hit_type_agent_other. Ignore for HIT TYPE AGENT\n",
      "2022-04-13 08:06:10,625 — main.engine — WARNING — merge_to_target_col_from_source_cols_sql_expression:235 — No field in payload named: hit_type_agent_country. Ignore for HIT TYPE AGENT\n",
      "2022-04-13 08:06:10,626 — main.engine — WARNING — merge_to_target_col_from_source_cols_sql_expression:235 — No field in payload named: hit_type_agent_job. Ignore for HIT TYPE AGENT\n",
      "2022-04-13 08:06:10,626 — main.engine — WARNING — merge_to_target_col_from_source_cols_sql_expression:235 — No field in payload named: hit_type_agent_other. Ignore for HIT TYPE AGENT\n",
      "2022-04-13 08:06:10,633 — main.engine — WARNING — merge_to_target_col_from_source_cols_sql_expression:235 — No field in payload named: hit_type_agent_country. Ignore for HIT TYPE AGENT\n",
      "2022-04-13 08:06:10,633 — main.engine — WARNING — merge_to_target_col_from_source_cols_sql_expression:235 — No field in payload named: hit_type_agent_job. Ignore for HIT TYPE AGENT\n",
      "2022-04-13 08:06:10,634 — main.engine — WARNING — merge_to_target_col_from_source_cols_sql_expression:235 — No field in payload named: hit_type_agent_other. Ignore for HIT TYPE AGENT\n",
      "2022-04-13 08:06:10,634 — main.engine — WARNING — merge_to_target_col_from_source_cols_sql_expression:235 — No field in payload named: hit_type_agent_country. Ignore for HIT TYPE AGENT\n",
      "2022-04-13 08:06:10,634 — main.engine — WARNING — merge_to_target_col_from_source_cols_sql_expression:235 — No field in payload named: hit_type_agent_job. Ignore for HIT TYPE AGENT\n",
      "2022-04-13 08:06:10,635 — main.engine — WARNING — merge_to_target_col_from_source_cols_sql_expression:235 — No field in payload named: hit_type_agent_other. Ignore for HIT TYPE AGENT\n"
     ]
    }
   ],
   "source": [
    "new_payloads = pipeline.transform_cleansed_to_application(payload)"
   ]
  },
  {
   "cell_type": "code",
   "execution_count": 37,
   "id": "cde9b622",
   "metadata": {},
   "outputs": [
    {
     "data": {
      "text/html": [
       "<div>\n",
       "<style scoped>\n",
       "    .dataframe tbody tr th:only-of-type {\n",
       "        vertical-align: middle;\n",
       "    }\n",
       "\n",
       "    .dataframe tbody tr th {\n",
       "        vertical-align: top;\n",
       "    }\n",
       "\n",
       "    .dataframe thead th {\n",
       "        text-align: right;\n",
       "    }\n",
       "</style>\n",
       "<table border=\"1\" class=\"dataframe\">\n",
       "  <thead>\n",
       "    <tr style=\"text-align: right;\">\n",
       "      <th></th>\n",
       "      <th>ap_all_dobs_aggregated</th>\n",
       "      <th>wl_all_dobs_aggregated</th>\n",
       "      <th>ap_all_documents_aggregated</th>\n",
       "      <th>wl_all_documents_aggregated</th>\n",
       "      <th>ap_all_company_names_aggregated</th>\n",
       "      <th>wl_all_company_names_aggregated</th>\n",
       "      <th>ap_all_names_aggregated</th>\n",
       "      <th>wl_all_names_aggregated</th>\n",
       "      <th>ap_all_employer_names_aggregated</th>\n",
       "      <th>wl_all_employer_names_aggregated</th>\n",
       "      <th>...</th>\n",
       "      <th>wl_all_hit_types_aggregated</th>\n",
       "      <th>ap_all_matched_tokens_tp_markeds_aggregated</th>\n",
       "      <th>wl_all_matched_tokens_tp_markeds_aggregated</th>\n",
       "      <th>ap_all_ap_name_tp_markeds_aggregated</th>\n",
       "      <th>wl_all_ap_name_tp_markeds_aggregated</th>\n",
       "      <th>ap_all_ap_id_tp_markeds_aggregated</th>\n",
       "      <th>wl_all_ap_id_tp_markeds_aggregated</th>\n",
       "      <th>ap_all_is_entity_matchs_aggregated</th>\n",
       "      <th>wl_all_is_entity_matchs_aggregated</th>\n",
       "      <th>all_hit_type_aggregated</th>\n",
       "    </tr>\n",
       "  </thead>\n",
       "  <tbody>\n",
       "    <tr>\n",
       "      <th>0</th>\n",
       "      <td>[]</td>\n",
       "      <td>[MAY 6, 1981]</td>\n",
       "      <td>[]</td>\n",
       "      <td>[]</td>\n",
       "      <td>[]</td>\n",
       "      <td>[Joe Ding]</td>\n",
       "      <td>[]</td>\n",
       "      <td>[Joe Ding]</td>\n",
       "      <td>[]</td>\n",
       "      <td>[Joe Ding]</td>\n",
       "      <td>...</td>\n",
       "      <td>[]</td>\n",
       "      <td>[]</td>\n",
       "      <td>[]</td>\n",
       "      <td>[]</td>\n",
       "      <td>[]</td>\n",
       "      <td>[]</td>\n",
       "      <td>[]</td>\n",
       "      <td>[C]</td>\n",
       "      <td>[I]</td>\n",
       "      <td>[{'name': [], 'country': ['ADDRESS1_COUNTRY'],...</td>\n",
       "    </tr>\n",
       "    <tr>\n",
       "      <th>1</th>\n",
       "      <td>[]</td>\n",
       "      <td>[MAY 6, 1981]</td>\n",
       "      <td>[]</td>\n",
       "      <td>[]</td>\n",
       "      <td>[]</td>\n",
       "      <td>[Joe Dong]</td>\n",
       "      <td>[]</td>\n",
       "      <td>[Joe Dong]</td>\n",
       "      <td>[]</td>\n",
       "      <td>[Joe Dong]</td>\n",
       "      <td>...</td>\n",
       "      <td>[]</td>\n",
       "      <td>[]</td>\n",
       "      <td>[]</td>\n",
       "      <td>[]</td>\n",
       "      <td>[]</td>\n",
       "      <td>[]</td>\n",
       "      <td>[]</td>\n",
       "      <td>[C]</td>\n",
       "      <td>[I]</td>\n",
       "      <td>[{'name': [], 'country': ['ADDRESS1_COUNTRY'],...</td>\n",
       "    </tr>\n",
       "  </tbody>\n",
       "</table>\n",
       "<p>2 rows × 31 columns</p>\n",
       "</div>"
      ],
      "text/plain": [
       "  ap_all_dobs_aggregated wl_all_dobs_aggregated ap_all_documents_aggregated  \\\n",
       "0                     []          [MAY 6, 1981]                          []   \n",
       "1                     []          [MAY 6, 1981]                          []   \n",
       "\n",
       "  wl_all_documents_aggregated ap_all_company_names_aggregated  \\\n",
       "0                          []                              []   \n",
       "1                          []                              []   \n",
       "\n",
       "  wl_all_company_names_aggregated ap_all_names_aggregated  \\\n",
       "0                      [Joe Ding]                      []   \n",
       "1                      [Joe Dong]                      []   \n",
       "\n",
       "  wl_all_names_aggregated ap_all_employer_names_aggregated  \\\n",
       "0              [Joe Ding]                               []   \n",
       "1              [Joe Dong]                               []   \n",
       "\n",
       "  wl_all_employer_names_aggregated  ... wl_all_hit_types_aggregated  \\\n",
       "0                       [Joe Ding]  ...                          []   \n",
       "1                       [Joe Dong]  ...                          []   \n",
       "\n",
       "  ap_all_matched_tokens_tp_markeds_aggregated  \\\n",
       "0                                          []   \n",
       "1                                          []   \n",
       "\n",
       "  wl_all_matched_tokens_tp_markeds_aggregated  \\\n",
       "0                                          []   \n",
       "1                                          []   \n",
       "\n",
       "  ap_all_ap_name_tp_markeds_aggregated wl_all_ap_name_tp_markeds_aggregated  \\\n",
       "0                                   []                                   []   \n",
       "1                                   []                                   []   \n",
       "\n",
       "  ap_all_ap_id_tp_markeds_aggregated wl_all_ap_id_tp_markeds_aggregated  \\\n",
       "0                                 []                                 []   \n",
       "1                                 []                                 []   \n",
       "\n",
       "  ap_all_is_entity_matchs_aggregated wl_all_is_entity_matchs_aggregated  \\\n",
       "0                                [C]                                [I]   \n",
       "1                                [C]                                [I]   \n",
       "\n",
       "                             all_hit_type_aggregated  \n",
       "0  [{'name': [], 'country': ['ADDRESS1_COUNTRY'],...  \n",
       "1  [{'name': [], 'country': ['ADDRESS1_COUNTRY'],...  \n",
       "\n",
       "[2 rows x 31 columns]"
      ]
     },
     "execution_count": 37,
     "metadata": {},
     "output_type": "execute_result"
    }
   ],
   "source": [
    "import pandas as pd\n",
    "out_payload = pd.DataFrame([match for payload in new_payloads   for match in payload['watchlistParty']['matchRecords']])\n",
    "\n",
    "out_payload[[i for i in out_payload.columns  if i.endswith(\"_aggregated\")]]"
   ]
  },
  {
   "cell_type": "code",
   "execution_count": 38,
   "id": "3fb34d9e",
   "metadata": {},
   "outputs": [
    {
     "name": "stdout",
     "output_type": "stream",
     "text": [
      "=====================\n",
      "PAYLOAD\n",
      "122438658\n",
      "0 match\n",
      "[] ['MAY 6, 1981']\n",
      "[] []\n",
      "=====================\n",
      "PAYLOAD\n",
      "122438659\n",
      "0 match\n",
      "[] ['MAY 6, 1981']\n",
      "[] ['Poland', 'PL']\n"
     ]
    }
   ],
   "source": [
    "for payload in new_payloads:\n",
    "    print('=====================')\n",
    "    print('PAYLOAD')\n",
    "    print(payload['alertedParty']['inputRecordHist']['inputRecords'][0]['versionId'])\n",
    "        \n",
    "    for num, match in enumerate(payload['watchlistParty']['matchRecords']):\n",
    "        assert (match['inputVersionId'] == payload['alertedParty']['inputRecordHist']['inputRecords'][0]['versionId'])\n",
    "        print(num, 'match')\n",
    "        print(match[\"ap_all_dobs_aggregated\"], match[\"wl_all_dobs_aggregated\"])\n",
    "        try:\n",
    "            print(match[\"ap_all_residencies_aggregated\"], match[\"wl_all_residencies_aggregated\"])\n",
    "        except:\n",
    "            break\n"
   ]
  },
  {
   "cell_type": "code",
   "execution_count": 39,
   "id": "6fbe02b0",
   "metadata": {},
   "outputs": [],
   "source": [
    "import pickle\n",
    "with open(\"tests/shared/empty_payload.pkl\", \"wb\") as f:\n",
    "    pickle.dump(new_payloads, f)"
   ]
  },
  {
   "cell_type": "code",
   "execution_count": null,
   "id": "d52acf6e",
   "metadata": {},
   "outputs": [],
   "source": []
  }
 ],
 "metadata": {
  "kernelspec": {
   "display_name": "Python 3",
   "language": "python",
   "name": "python3"
  },
  "language_info": {
   "codemirror_mode": {
    "name": "ipython",
    "version": 3
   },
   "file_extension": ".py",
   "mimetype": "text/x-python",
   "name": "python",
   "nbconvert_exporter": "python",
   "pygments_lexer": "ipython3",
   "version": "3.6.13"
  }
 },
 "nbformat": 4,
 "nbformat_minor": 5
}
