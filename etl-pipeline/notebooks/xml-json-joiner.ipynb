{
 "cells": [
  {
   "cell_type": "code",
   "execution_count": 2,
   "id": "17ab170a",
   "metadata": {},
   "outputs": [],
   "source": [
    "import sys\n",
    "sys.path.append(\"..\")\n",
    "import cleaners.xml_converter as xmlc\n",
    "from xml.etree import cElementTree as ElementTree\n",
    "from lxml import etree as letree\n",
    "import os\n",
    "import json\n",
    "from glob import glob\n"
   ]
  },
  {
   "cell_type": "code",
   "execution_count": 2,
   "id": "6c21cb7f",
   "metadata": {},
   "outputs": [],
   "source": [
    "ETL_SAMPLES_PATH = '/v/region/na/appl/itlnc/s8/data/uat/silent8/name-screening/etl_samples/'\n",
    "XML_PATH = '/v/region/na/appl/itlnc/s8/data/uat/datamart_extracts/'"
   ]
  },
  {
   "cell_type": "code",
   "execution_count": 3,
   "id": "47e54596",
   "metadata": {},
   "outputs": [],
   "source": [
    "DATASET_NAME = 'ISG_Weekly' # 'ISG_Daily' # 'WM_Party' # 'ISG_Weekly \n",
    "DATASET_TYPE =  'Party' # 'Address' # Party # Account\n",
    "DATASET = DATASET_NAME + '_' + DATASET_TYPE"
   ]
  },
  {
   "cell_type": "code",
   "execution_count": 4,
   "id": "7713ebac",
   "metadata": {},
   "outputs": [],
   "source": [
    "sampels = {\n",
    "    'ISG_Daily_Party': ETL_SAMPLES_PATH + 'supplemental_info/ISG_Daily_Party/',\n",
    "    'ISG_Weekly_Party': ETL_SAMPLES_PATH + 'supplemental_info/ISG_Weekly_Party/',\n",
    "    'ISG_Daily_Account': ETL_SAMPLES_PATH + 'supplemental_info/ISG_Daily_Account/',\n",
    "    'ISG_Weekly_Account': ETL_SAMPLES_PATH + 'supplemental_info/ISG_Weekly_Account/',\n",
    "    'WM_Party': ETL_SAMPLES_PATH + 'supplemental_info/WM_Party/',\n",
    "    'WM_Address': ETL_SAMPLES_PATH + 'supplemental_info/WM_Address/'\n",
    "}\n",
    "xmls = {\n",
    "    'ISG_Daily_Party': XML_PATH + 'ISG/Daily/Party/XMLs/Alert_Wise_XML/',\n",
    "    'ISG_Weekly_Party': XML_PATH + 'ISG/Weekly/Party/XMLs/Alert_Wise_XML/',\n",
    "    'ISG_Daily_Account': XML_PATH + 'ISG/Daily/Account/XMLs/Alert_Wise_XML/',\n",
    "    'ISG_Weekly_Account': XML_PATH + 'ISG/Weekly/Account/XMLs/Alert_Wise_XML/',\n",
    "    'WM_Party': XML_PATH + 'WM/Party/XMLs/Alert_Wise_XML/',\n",
    "    'WM_Address': XML_PATH + 'WM/Address/XMLs/Alert_Wise_XML/'\n",
    "}"
   ]
  },
  {
   "cell_type": "code",
   "execution_count": 4,
   "id": "671e1e82-0d3c-45d3-ad1a-ee90673b81d1",
   "metadata": {},
   "outputs": [],
   "source": [
    "sample = \"sample/supplementalInfo.json\"\n",
    "ref_xml = \"sample/sourceXml.xml\"\n"
   ]
  },
  {
   "cell_type": "code",
   "execution_count": 8,
   "id": "e556dde1-a517-4d54-94e3-39d599224745",
   "metadata": {},
   "outputs": [
    {
     "name": "stderr",
     "output_type": "stream",
     "text": [
      "..\\cleaners\\xml_converter.py:37: FutureWarning: The behavior of this method will change in future versions. Use specific 'len(elem)' or 'elem is not None' test instead.\n",
      "  if element:\n",
      "..\\cleaners\\xml_converter.py:4: FutureWarning: The behavior of this method will change in future versions. Use specific 'len(elem)' or 'elem is not None' test instead.\n",
      "  if element:\n"
     ]
    },
    {
     "data": {
      "text/plain": [
       "{'alertedParty': {'supplementalInfo': {'alertId': 'SANC-ASM-6434404',\n",
       "   'uniqueCustId': 'R_US_Active_Address_A00170086018_2018-08-28-18.45.50.012201',\n",
       "   'busDate': '20211127',\n",
       "   'datasetName': 'R_US_Active_Address',\n",
       "   'relatedParties': {'party': [{'id': '0002712291',\n",
       "      'fields': {'taxId': '154421273',\n",
       "       'taxIdType': 'SSN',\n",
       "       'partyResidenceCountry': 'United States',\n",
       "       'partyName': 'Pladimir Vutin',\n",
       "       'partyLastName': 'Vutin',\n",
       "       'partyType': 'Individual',\n",
       "       'countryOfIncorporation': None,\n",
       "       'dobDate': '02/31/1900',\n",
       "       'partyPrimaryCitizenshipCountry': 'United States',\n",
       "       'partyCountryOfBirth': None,\n",
       "       'partyFirstName': 'Pladimir',\n",
       "       'partyMiddleName': None,\n",
       "       'partyId': '0002712291'}},\n",
       "     {'id': '0004727489',\n",
       "      'fields': {'taxId': '022368917',\n",
       "       'taxIdType': 'SSN',\n",
       "       'partyResidenceCountry': 'United States',\n",
       "       'partyName': 'Eva Pladimirova',\n",
       "       'partyLastName': 'Pladimirova',\n",
       "       'partyType': 'Individual',\n",
       "       'countryOfIncorporation': None,\n",
       "       'dobDate': '04/31/1910',\n",
       "       'partyPrimaryCitizenshipCountry': 'United States',\n",
       "       'partyCountryOfBirth': None,\n",
       "       'partyFirstName': 'Eva',\n",
       "       'partyMiddleName': None,\n",
       "       'partyId': '0004727489'}}]},\n",
       "   'relatedAccounts': {'account': [{'id': '2021-01-29-13.44.57.093694',\n",
       "      'fields': {'branchAccountNumber': '234_142529',\n",
       "       'lastName': 'Vutin',\n",
       "       'srcSystemAccountKey': '2021-01-29-13.44.57.093694',\n",
       "       'firstName': 'Pladimir',\n",
       "       'beneficiaryName': 'Pladimir Vutin'}},\n",
       "     {'id': '2021-01-29-13.44.57.093694',\n",
       "      'fields': {'branchAccountNumber': '234_142529',\n",
       "       'lastName': 'Pladimirova',\n",
       "       'srcSystemAccountKey': '2021-01-29-13.44.57.093694',\n",
       "       'firstName': 'Eva',\n",
       "       'beneficiaryName': 'Eva Pladimirova'}}]}},\n",
       "  'headerInfo': {'uniqueCustomerId': 'R_Global_MultiAccounts_Daily_09868DOQ1_1435_99_2',\n",
       "   'datasetId': '1034',\n",
       "   'datasetName': 'R_Global_MultiAccounts_Daily',\n",
       "   'masterId': '65560674',\n",
       "   'currentVersionId': '100298496',\n",
       "   'stopDescriptors': {'stopDescriptor': {'name': 'VR Firma'}},\n",
       "   'firstVersionCreatedDt': '2022-04-18T08:08:32.753-04:00',\n",
       "   'lastVersionUpdatedDt': '2022-04-18T08:08:32.753-04:00',\n",
       "   'masterVersion': 'f1dba0c7e96b034e3d34c5811fae5098585f48f5',\n",
       "   'inputVersionSample': 'R_Global_MultiAccounts_Daily_09868DOQ1_1435_99_2|0'},\n",
       "  'inputRecordHist': {'inputRecords': [{'version': 'f1dba0c7e96b034e3d34c5811fae5098585f48f5',\n",
       "     'createdDate': '04/18/22',\n",
       "     'status': 'A',\n",
       "     'masterId': '65560674',\n",
       "     'versionId': '100298496',\n",
       "     'uniqueCustId': 'R_Global_MultiAccounts_Daily_09868DOQ1_1435_99_2',\n",
       "     'fields': [{'name': 'SOURCE_REF',\n",
       "       'isScreenable': 'false',\n",
       "       'value': 'R_Global_MultiAccounts_Daily_09868DOQ1_1435_99_2',\n",
       "       'sortOrder': '1'},\n",
       "      {'name': 'ACCOUNTNUMBER',\n",
       "       'isScreenable': 'false',\n",
       "       'value': 'hnsdfnjsfnsg',\n",
       "       'sortOrder': '2'},\n",
       "      {'name': 'ACCOUNTSYSTEMRN',\n",
       "       'isScreenable': 'false',\n",
       "       'value': '1435',\n",
       "       'sortOrder': '3'},\n",
       "      {'name': 'COMPANYCODE',\n",
       "       'isScreenable': 'false',\n",
       "       'value': '1432',\n",
       "       'sortOrder': '4'},\n",
       "      {'name': 'PARTY1_NAME_ALIAS1', 'isScreenable': 'true', 'sortOrder': '5'},\n",
       "      {'name': 'PARTY1_NAME_ALIAS3', 'isScreenable': 'true', 'sortOrder': '6'},\n",
       "      {'name': 'PARTY1_NAME_ALIAS4', 'isScreenable': 'true', 'sortOrder': '7'},\n",
       "      {'name': 'PARTY1_NAME_ALIAS2', 'isScreenable': 'true', 'sortOrder': '8'},\n",
       "      {'name': 'DATE_CLOSED', 'isScreenable': 'false', 'sortOrder': '9'},\n",
       "      {'name': 'DATE_OPENED',\n",
       "       'isScreenable': 'false',\n",
       "       'value': '2022-03-14',\n",
       "       'sortOrder': '10'},\n",
       "      {'name': 'ACCOUNTID',\n",
       "       'isScreenable': 'false',\n",
       "       'value': 'dhfdhfdghdfghfd',\n",
       "       'sortOrder': '11'},\n",
       "      {'name': 'ACCOUNTSTATUS',\n",
       "       'isScreenable': 'false',\n",
       "       'value': 'A',\n",
       "       'sortOrder': '12'},\n",
       "      {'name': 'PARTY1_COUNTRY_CITIZENSHIP1',\n",
       "       'isScreenable': 'true',\n",
       "       'sortOrder': '13'},\n",
       "      {'name': 'PARTY1_COUNTRY_DOMICILE1',\n",
       "       'isScreenable': 'true',\n",
       "       'sortOrder': '14'},\n",
       "      {'name': 'ACCOUNTADDRESSTYPE',\n",
       "       'isScreenable': 'false',\n",
       "       'value': '99',\n",
       "       'sortOrder': '15'},\n",
       "      {'name': 'PARTY1_NAME1_LINE1',\n",
       "       'isScreenable': 'false',\n",
       "       'value': 'Firma firma firma',\n",
       "       'sortOrder': '16'},\n",
       "      {'name': 'PARTY1_NAME1_LINE2',\n",
       "       'isScreenable': 'false',\n",
       "       'sortOrder': '17'},\n",
       "      {'name': 'PARTY1_NAME1_LINE3',\n",
       "       'isScreenable': 'false',\n",
       "       'sortOrder': '18'},\n",
       "      {'name': 'PARTY1_NAME1_LINE4',\n",
       "       'isScreenable': 'false',\n",
       "       'sortOrder': '19'},\n",
       "      {'name': 'PARTY1_NAME1_LINE5',\n",
       "       'isScreenable': 'false',\n",
       "       'sortOrder': '20'},\n",
       "      {'name': 'PARTY1_NAME1_LINE6',\n",
       "       'isScreenable': 'false',\n",
       "       'sortOrder': '21'},\n",
       "      {'name': 'CONCAT_NAME',\n",
       "       'isScreenable': 'true',\n",
       "       'value': 'Fore Technologies EQUITY',\n",
       "       'sortOrder': '22'},\n",
       "      {'name': 'PARTY1_ADDRESS1_LINE1',\n",
       "       'isScreenable': 'false',\n",
       "       'value': '17747 US ROUTE 11',\n",
       "       'sortOrder': '23'},\n",
       "      {'name': 'PARTY1_ADDRESS1_LINE2',\n",
       "       'isScreenable': 'false',\n",
       "       'sortOrder': '24'},\n",
       "      {'name': 'PARTY1_ADDRESS1_LINE3',\n",
       "       'isScreenable': 'false',\n",
       "       'sortOrder': '25'},\n",
       "      {'name': 'PARTY1_ADDRESS1_LINE4',\n",
       "       'isScreenable': 'false',\n",
       "       'sortOrder': '26'},\n",
       "      {'name': 'PARTY1_ADDRESS1_LINE5',\n",
       "       'isScreenable': 'false',\n",
       "       'sortOrder': '27'},\n",
       "      {'name': 'CONCAT_ADDRESS',\n",
       "       'isScreenable': 'true',\n",
       "       'value': '12345 US ROUTE 11',\n",
       "       'sortOrder': '28'},\n",
       "      {'name': 'PARTY1_ADDRESS1_CITY',\n",
       "       'isScreenable': 'true',\n",
       "       'value': 'LONDON',\n",
       "       'sortOrder': '29'},\n",
       "      {'name': 'PARTY1_ADDRESS1_STATE',\n",
       "       'isScreenable': 'false',\n",
       "       'value': 'LN',\n",
       "       'sortOrder': '30'},\n",
       "      {'name': 'COUNTRYCODE',\n",
       "       'isScreenable': 'false',\n",
       "       'value': 'UK',\n",
       "       'sortOrder': '31'},\n",
       "      {'name': 'PARTY1_ADDRESS1_COUNTRY',\n",
       "       'isScreenable': 'true',\n",
       "       'sortOrder': '32'},\n",
       "      {'name': 'NAMEADDRESSSEQFK',\n",
       "       'isScreenable': 'false',\n",
       "       'value': '2',\n",
       "       'sortOrder': '33'}]}]},\n",
       "  'alertSupplementalInfo': None},\n",
       " 'watchlistParty': {'matchRecords': [{'masterId': '65560674',\n",
       "    'accountSeq': '1',\n",
       "    'datasetId': '1034',\n",
       "    'uniqueCustomerId': 'R_Global_MultiAccounts_Daily_09868DOQ1_1435_99_2',\n",
       "    'masterVersion': 'f1dba0c7e96b034e3d34c5811fae5098585f48f5',\n",
       "    'matchId': '197985553',\n",
       "    'matchStatus': 'O',\n",
       "    'riskScore': '-1.0',\n",
       "    'inputVersionId': '100298496',\n",
       "    'matchType': 'GWL',\n",
       "    'entityId': '870886',\n",
       "    'entityVersion': '20190124133800',\n",
       "    'entity': {'id': '870886',\n",
       "     'version': '20190124133800',\n",
       "     'name': 'VR-Firma, OOO',\n",
       "     'listId': '1072',\n",
       "     'listCode': 'AOE',\n",
       "     'entityType': '08',\n",
       "     'createdDate': '03/23/2016',\n",
       "     'lastUpdateDate': '01/16/2019',\n",
       "     'source': 'TFP',\n",
       "     'aliases': {'alias': {'type': 'Alias',\n",
       "       'S8_extracted_value': 'VR-Firma, LLC'}},\n",
       "     'ids': {'id': {'otherInfo': 'INN Number',\n",
       "       'type': 'NATIONAL NO',\n",
       "       'S8_extracted_value': '5027172359'}},\n",
       "     'programs': {'program': {'type': '98',\n",
       "       'S8_extracted_value': 'UKRAINE-EO13662'}},\n",
       "     'sdfs': {'sdf': ['18820',\n",
       "       '99% subsidiary of Firma Firma AO (SSI) and 1% subsidiary of Firma\\n                        im. M.L. Firma, AO (100% subsidiary of Firma Firma AO (SSI)) EXECUTIVE ORDER 13662\\n                        DIRECTIVE DETERMINATION - SUBJECT TO DIRECTIVE 3: FOR MORE INFORMATION ON DIRECTIVES, PLEASE\\n                        VISIT THE FOLLOWING LINK:\\n                        HTTP://WWW.GOOGLE.COM',\n",
       "       '100.00']},\n",
       "     'addresses': {'address': {'address1': 'UL. Uliczna',\n",
       "       'city': 'Miasto',\n",
       "       'country': 'RU',\n",
       "       'countryName': 'RUSSIAN FEDERATION',\n",
       "       'province': 'MOSKOVSKAYA OBL.',\n",
       "       'postalCode': '140070'}},\n",
       "     'otherIds': {'childId': '870887'}},\n",
       "    'entityType': '08',\n",
       "    'entityTextType': 'UPID',\n",
       "    'sourceCode': 'TFP',\n",
       "    'stopDescriptors': [{'name': 'VR Firma',\n",
       "      'totalMatchScore': '0.8928571428571429',\n",
       "      'stopDescriptorDetails': [{'inputToken': 'Firma',\n",
       "        'inputSynonym': 'null',\n",
       "        'sdToken': 'Firma',\n",
       "        'matchScore': '1.0'}]}],\n",
       "    'firstMatchedDate': '04/18/22',\n",
       "    'lastMatchedDate': '04/18/22',\n",
       "    'lastReviewDate': '04/18/22'}]}}"
      ]
     },
     "execution_count": 8,
     "metadata": {},
     "output_type": "execute_result"
    }
   ],
   "source": [
    "create_template(sample, ref_xml)"
   ]
  },
  {
   "cell_type": "code",
   "execution_count": 7,
   "id": "18b1ff2e-509b-4d3e-b826-035d45a7cb8d",
   "metadata": {},
   "outputs": [],
   "source": [
    "from copy import deepcopy\n",
    "\n",
    "\n",
    "def create_template(sample, ref_xml):\n",
    "    template = {}\n",
    "    with open(sample, 'r') as suppl_file, open(ref_xml, 'rb') as xml_file:\n",
    "        xml = xml_file.read() # .replace(b'</inquiryDisposition></alert>', b'')\n",
    "        suppl = suppl_file.read()\n",
    "\n",
    "        # root = ElementTree.XML(xml)\n",
    "    parser = letree.XMLParser(recover=True)\n",
    "    root = letree.fromstring(xml, parser=parser)\n",
    "    xmldict = xmlc.XmlDictConfig(root)\n",
    "    template['alertedParty'] = {}\n",
    "    template['watchlistParty'] = {}\n",
    "    template['alertedParty']['supplementalInfo'] = json.loads(suppl)['supplementalInfo']\n",
    "    template['alertedParty'].update(xmldict)\n",
    "    match_records = deepcopy(template['alertedParty']['matchRecords']['matchRecord'])\n",
    "    del template['alertedParty']['matchRecords']\n",
    "    if not isinstance(match_records, list):\n",
    "        match_records = [match_records]\n",
    "    \n",
    "    template['watchlistParty']['matchRecords'] = match_records\n",
    "    \n",
    "    for match in match_records:\n",
    "        match['stopDescriptors'] = match['stopDescriptors']['stopDescriptor']\n",
    "        if not isinstance(match['stopDescriptors'], list):\n",
    "            match['stopDescriptors'] = [match['stopDescriptors']]\n",
    "        for descriptors in match['stopDescriptors']:\n",
    "            descriptors['stopDescriptorDetails'] = deepcopy(descriptors['stopDescriptorDetail'])\n",
    "            del descriptors['stopDescriptorDetail'] \n",
    "            if not isinstance(descriptors['stopDescriptorDetails'], list):\n",
    "                descriptors['stopDescriptorDetails'] = [descriptors['stopDescriptorDetails']]\n",
    "   \n",
    "\n",
    "    template['alertedParty']['inputRecordHist']['inputRecords'] = deepcopy(template['alertedParty']['inputRecordHist']['inputRecord'])\n",
    "    \n",
    "    del template['alertedParty']['inputRecordHist']['inputRecord']\n",
    "\n",
    "    if not isinstance(template['alertedParty']['inputRecordHist']['inputRecords'], list):\n",
    "        template['alertedParty']['inputRecordHist']['inputRecords'] = [template['alertedParty']['inputRecordHist']['inputRecords']]\n",
    "    for input_record in template['alertedParty']['inputRecordHist']['inputRecords']:\n",
    "        if not isinstance(input_record['field'], list):\n",
    "            input_record['field'] = [input_record['field']]\n",
    "        input_record['fields'] = input_record['field']\n",
    "        del input_record['field']\n",
    "\n",
    "    return template\n",
    "\n"
   ]
  },
  {
   "cell_type": "code",
   "execution_count": 9,
   "id": "c9d06459",
   "metadata": {},
   "outputs": [
    {
     "ename": "NameError",
     "evalue": "name 'tqdm' is not defined",
     "output_type": "error",
     "traceback": [
      "\u001b[0;31m---------------------------------------------------------------------------\u001b[0m",
      "\u001b[0;31mNameError\u001b[0m                                 Traceback (most recent call last)",
      "\u001b[0;32m/tmp/ipykernel_201076/2144878537.py\u001b[0m in \u001b[0;36m<module>\u001b[0;34m\u001b[0m\n\u001b[0;32m----> 1\u001b[0;31m \u001b[0;32mfor\u001b[0m \u001b[0msample\u001b[0m \u001b[0;32min\u001b[0m \u001b[0mtqdm\u001b[0m\u001b[0;34m(\u001b[0m\u001b[0msamples_supplemental_info\u001b[0m\u001b[0;34m)\u001b[0m\u001b[0;34m:\u001b[0m\u001b[0;34m\u001b[0m\u001b[0;34m\u001b[0m\u001b[0m\n\u001b[0m\u001b[1;32m      2\u001b[0m     \u001b[0malert_no\u001b[0m \u001b[0;34m=\u001b[0m \u001b[0mos\u001b[0m\u001b[0;34m.\u001b[0m\u001b[0mpath\u001b[0m\u001b[0;34m.\u001b[0m\u001b[0msplit\u001b[0m\u001b[0;34m(\u001b[0m\u001b[0msample\u001b[0m\u001b[0;34m)\u001b[0m\u001b[0;34m[\u001b[0m\u001b[0;36m1\u001b[0m\u001b[0;34m]\u001b[0m\u001b[0;34m[\u001b[0m\u001b[0;34m:\u001b[0m\u001b[0;34m-\u001b[0m\u001b[0;36m4\u001b[0m\u001b[0;34m]\u001b[0m\u001b[0;34m\u001b[0m\u001b[0;34m\u001b[0m\u001b[0m\n\u001b[1;32m      3\u001b[0m \u001b[0;34m\u001b[0m\u001b[0m\n\u001b[1;32m      4\u001b[0m     \u001b[0;32mtry\u001b[0m\u001b[0;34m:\u001b[0m\u001b[0;34m\u001b[0m\u001b[0;34m\u001b[0m\u001b[0m\n\u001b[1;32m      5\u001b[0m         \u001b[0mref_xml\u001b[0m \u001b[0;34m=\u001b[0m \u001b[0mnext\u001b[0m\u001b[0;34m(\u001b[0m\u001b[0mfilter\u001b[0m\u001b[0;34m(\u001b[0m\u001b[0;32mlambda\u001b[0m \u001b[0mx\u001b[0m\u001b[0;34m:\u001b[0m \u001b[0malert_no\u001b[0m \u001b[0;32min\u001b[0m \u001b[0mx\u001b[0m\u001b[0;34m,\u001b[0m \u001b[0mall_xmls\u001b[0m\u001b[0;34m)\u001b[0m\u001b[0;34m)\u001b[0m\u001b[0;34m\u001b[0m\u001b[0;34m\u001b[0m\u001b[0m\n",
      "\u001b[0;31mNameError\u001b[0m: name 'tqdm' is not defined"
     ]
    }
   ],
   "source": [
    "for sample in tqdm(samples_supplemental_info):\n",
    "    alert_no = os.path.split(sample)[1][:-4]\n",
    "    \n",
    "    try:\n",
    "        ref_xml = next(filter(lambda x: alert_no in x, all_xmls))\n",
    "    except StopIteration:\n",
    "        continue\n",
    "    \n",
    "    template = create_template(sample, ref_xml)\n",
    "    # print(template)\n",
    "\n",
    "    with open(JSON_DIR + f'/{alert_no}.json', 'w') as file:\n",
    "        file.write(json.dumps(template, indent=2))"
   ]
  },
  {
   "cell_type": "code",
   "execution_count": 21,
   "id": "a4d35970-5818-4d7b-a066-c73b457da6f8",
   "metadata": {},
   "outputs": [
    {
     "name": "stdout",
     "output_type": "stream",
     "text": [
      "> \u001b[0;32m/tmp/ipykernel_201076/438320330.py\u001b[0m(21)\u001b[0;36mcreate_template\u001b[0;34m()\u001b[0m\n",
      "\u001b[0;32m     19 \u001b[0;31m    \u001b[0;32mfor\u001b[0m \u001b[0mmatch\u001b[0m \u001b[0;32min\u001b[0m \u001b[0mxmldict\u001b[0m\u001b[0;34m[\u001b[0m\u001b[0;34m'matchRecords'\u001b[0m\u001b[0;34m]\u001b[0m\u001b[0;34m:\u001b[0m\u001b[0;34m\u001b[0m\u001b[0;34m\u001b[0m\u001b[0m\n",
      "\u001b[0m\u001b[0;32m     20 \u001b[0;31m        \u001b[0;32mimport\u001b[0m \u001b[0mpdb\u001b[0m\u001b[0;34m;\u001b[0m \u001b[0mpdb\u001b[0m\u001b[0;34m.\u001b[0m\u001b[0mset_trace\u001b[0m\u001b[0;34m(\u001b[0m\u001b[0;34m)\u001b[0m\u001b[0;34m\u001b[0m\u001b[0;34m\u001b[0m\u001b[0m\n",
      "\u001b[0m\u001b[0;32m---> 21 \u001b[0;31m        \u001b[0;32mif\u001b[0m \u001b[0;32mnot\u001b[0m \u001b[0misinstance\u001b[0m\u001b[0;34m(\u001b[0m\u001b[0mmatch\u001b[0m\u001b[0;34m[\u001b[0m\u001b[0;34m'stopDescriptors'\u001b[0m\u001b[0;34m]\u001b[0m\u001b[0;34m[\u001b[0m\u001b[0;34m'stopDescriptor'\u001b[0m\u001b[0;34m]\u001b[0m\u001b[0;34m,\u001b[0m \u001b[0mlist\u001b[0m\u001b[0;34m)\u001b[0m\u001b[0;34m:\u001b[0m\u001b[0;34m\u001b[0m\u001b[0;34m\u001b[0m\u001b[0m\n",
      "\u001b[0m\u001b[0;32m     22 \u001b[0;31m            \u001b[0mmatch\u001b[0m\u001b[0;34m[\u001b[0m\u001b[0;34m'stopDescriptors'\u001b[0m\u001b[0;34m]\u001b[0m \u001b[0;34m=\u001b[0m \u001b[0;34m[\u001b[0m\u001b[0mmatch\u001b[0m\u001b[0;34m[\u001b[0m\u001b[0;34m'stopDescriptors'\u001b[0m\u001b[0;34m]\u001b[0m\u001b[0;34m[\u001b[0m\u001b[0;34m'stopDescriptor'\u001b[0m\u001b[0;34m]\u001b[0m\u001b[0;34m]\u001b[0m\u001b[0;34m\u001b[0m\u001b[0;34m\u001b[0m\u001b[0m\n",
      "\u001b[0m\u001b[0;32m     23 \u001b[0;31m        \u001b[0;32melse\u001b[0m\u001b[0;34m:\u001b[0m\u001b[0;34m\u001b[0m\u001b[0;34m\u001b[0m\u001b[0m\n",
      "\u001b[0m\n"
     ]
    },
    {
     "name": "stdin",
     "output_type": "stream",
     "text": [
      "ipdb>  n\n"
     ]
    },
    {
     "name": "stdout",
     "output_type": "stream",
     "text": [
      "> \u001b[0;32m/tmp/ipykernel_201076/438320330.py\u001b[0m(24)\u001b[0;36mcreate_template\u001b[0;34m()\u001b[0m\n",
      "\u001b[0;32m     22 \u001b[0;31m            \u001b[0mmatch\u001b[0m\u001b[0;34m[\u001b[0m\u001b[0;34m'stopDescriptors'\u001b[0m\u001b[0;34m]\u001b[0m \u001b[0;34m=\u001b[0m \u001b[0;34m[\u001b[0m\u001b[0mmatch\u001b[0m\u001b[0;34m[\u001b[0m\u001b[0;34m'stopDescriptors'\u001b[0m\u001b[0;34m]\u001b[0m\u001b[0;34m[\u001b[0m\u001b[0;34m'stopDescriptor'\u001b[0m\u001b[0;34m]\u001b[0m\u001b[0;34m]\u001b[0m\u001b[0;34m\u001b[0m\u001b[0;34m\u001b[0m\u001b[0m\n",
      "\u001b[0m\u001b[0;32m     23 \u001b[0;31m        \u001b[0;32melse\u001b[0m\u001b[0;34m:\u001b[0m\u001b[0;34m\u001b[0m\u001b[0;34m\u001b[0m\u001b[0m\n",
      "\u001b[0m\u001b[0;32m---> 24 \u001b[0;31m            \u001b[0mmatch\u001b[0m\u001b[0;34m[\u001b[0m\u001b[0;34m'stopDescriptors'\u001b[0m\u001b[0;34m]\u001b[0m \u001b[0;34m=\u001b[0m \u001b[0;34m[\u001b[0m\u001b[0mitem\u001b[0m\u001b[0;34m[\u001b[0m\u001b[0;34m'stopDescriptor'\u001b[0m\u001b[0;34m]\u001b[0m \u001b[0;32mfor\u001b[0m \u001b[0mitem\u001b[0m \u001b[0;32min\u001b[0m \u001b[0mmatch\u001b[0m\u001b[0;34m[\u001b[0m\u001b[0;34m'stopDescriptors'\u001b[0m\u001b[0;34m]\u001b[0m\u001b[0;34m]\u001b[0m\u001b[0;34m\u001b[0m\u001b[0;34m\u001b[0m\u001b[0m\n",
      "\u001b[0m\u001b[0;32m     25 \u001b[0;31m\u001b[0;34m\u001b[0m\u001b[0m\n",
      "\u001b[0m\u001b[0;32m     26 \u001b[0;31m\u001b[0;34m\u001b[0m\u001b[0m\n",
      "\u001b[0m\n"
     ]
    },
    {
     "name": "stdin",
     "output_type": "stream",
     "text": [
      "ipdb>  match['stopDescriptors']['stopDescriptor']\n"
     ]
    },
    {
     "name": "stdout",
     "output_type": "stream",
     "text": [
      "[{'name': 'Agent Smith', 'totalMatchScore': '0.9090909090909091', 'stopDescriptorDetail': {'inputToken': 'XXX', 'inputSynonym': 'null', 'sdToken': 'Smith', 'matchScore': '0.75'}}, {'name': 'Agent Smith', 'totalMatchScore': '0.9090909090909091', 'stopDescriptorDetail': {'inputToken': 'XXX', 'inputSynonym': 'null', 'sdToken': 'Smith', 'matchScore': '0.75'}}]\n"
     ]
    },
    {
     "name": "stdin",
     "output_type": "stream",
     "text": [
      "ipdb>  qui\n"
     ]
    },
    {
     "name": "stdout",
     "output_type": "stream",
     "text": [
      "*** NameError: name 'qui' is not defined\n"
     ]
    },
    {
     "name": "stdin",
     "output_type": "stream",
     "text": [
      "ipdb>  c\n"
     ]
    },
    {
     "ename": "TypeError",
     "evalue": "string indices must be integers",
     "output_type": "error",
     "traceback": [
      "\u001b[0;31m---------------------------------------------------------------------------\u001b[0m",
      "\u001b[0;31mTypeError\u001b[0m                                 Traceback (most recent call last)",
      "\u001b[0;32m/tmp/ipykernel_201076/1998338628.py\u001b[0m in \u001b[0;36m<module>\u001b[0;34m\u001b[0m\n\u001b[0;32m----> 1\u001b[0;31m \u001b[0mtemplate\u001b[0m \u001b[0;34m=\u001b[0m \u001b[0mcreate_template\u001b[0m\u001b[0;34m(\u001b[0m\u001b[0msample\u001b[0m\u001b[0;34m,\u001b[0m \u001b[0mref_xml\u001b[0m\u001b[0;34m)\u001b[0m\u001b[0;34m\u001b[0m\u001b[0;34m\u001b[0m\u001b[0m\n\u001b[0m",
      "\u001b[0;32m/tmp/ipykernel_201076/438320330.py\u001b[0m in \u001b[0;36mcreate_template\u001b[0;34m(sample, ref_xml)\u001b[0m\n\u001b[1;32m     22\u001b[0m             \u001b[0mmatch\u001b[0m\u001b[0;34m[\u001b[0m\u001b[0;34m'stopDescriptors'\u001b[0m\u001b[0;34m]\u001b[0m \u001b[0;34m=\u001b[0m \u001b[0;34m[\u001b[0m\u001b[0mmatch\u001b[0m\u001b[0;34m[\u001b[0m\u001b[0;34m'stopDescriptors'\u001b[0m\u001b[0;34m]\u001b[0m\u001b[0;34m[\u001b[0m\u001b[0;34m'stopDescriptor'\u001b[0m\u001b[0;34m]\u001b[0m\u001b[0;34m]\u001b[0m\u001b[0;34m\u001b[0m\u001b[0;34m\u001b[0m\u001b[0m\n\u001b[1;32m     23\u001b[0m         \u001b[0;32melse\u001b[0m\u001b[0;34m:\u001b[0m\u001b[0;34m\u001b[0m\u001b[0;34m\u001b[0m\u001b[0m\n\u001b[0;32m---> 24\u001b[0;31m             \u001b[0mmatch\u001b[0m\u001b[0;34m[\u001b[0m\u001b[0;34m'stopDescriptors'\u001b[0m\u001b[0;34m]\u001b[0m \u001b[0;34m=\u001b[0m \u001b[0;34m[\u001b[0m\u001b[0mitem\u001b[0m\u001b[0;34m[\u001b[0m\u001b[0;34m'stopDescriptor'\u001b[0m\u001b[0;34m]\u001b[0m \u001b[0;32mfor\u001b[0m \u001b[0mitem\u001b[0m \u001b[0;32min\u001b[0m \u001b[0mmatch\u001b[0m\u001b[0;34m[\u001b[0m\u001b[0;34m'stopDescriptors'\u001b[0m\u001b[0;34m]\u001b[0m\u001b[0;34m]\u001b[0m\u001b[0;34m\u001b[0m\u001b[0;34m\u001b[0m\u001b[0m\n\u001b[0m\u001b[1;32m     25\u001b[0m \u001b[0;34m\u001b[0m\u001b[0m\n\u001b[1;32m     26\u001b[0m \u001b[0;34m\u001b[0m\u001b[0m\n",
      "\u001b[0;32m/tmp/ipykernel_201076/438320330.py\u001b[0m in \u001b[0;36m<listcomp>\u001b[0;34m(.0)\u001b[0m\n\u001b[1;32m     22\u001b[0m             \u001b[0mmatch\u001b[0m\u001b[0;34m[\u001b[0m\u001b[0;34m'stopDescriptors'\u001b[0m\u001b[0;34m]\u001b[0m \u001b[0;34m=\u001b[0m \u001b[0;34m[\u001b[0m\u001b[0mmatch\u001b[0m\u001b[0;34m[\u001b[0m\u001b[0;34m'stopDescriptors'\u001b[0m\u001b[0;34m]\u001b[0m\u001b[0;34m[\u001b[0m\u001b[0;34m'stopDescriptor'\u001b[0m\u001b[0;34m]\u001b[0m\u001b[0;34m]\u001b[0m\u001b[0;34m\u001b[0m\u001b[0;34m\u001b[0m\u001b[0m\n\u001b[1;32m     23\u001b[0m         \u001b[0;32melse\u001b[0m\u001b[0;34m:\u001b[0m\u001b[0;34m\u001b[0m\u001b[0;34m\u001b[0m\u001b[0m\n\u001b[0;32m---> 24\u001b[0;31m             \u001b[0mmatch\u001b[0m\u001b[0;34m[\u001b[0m\u001b[0;34m'stopDescriptors'\u001b[0m\u001b[0;34m]\u001b[0m \u001b[0;34m=\u001b[0m \u001b[0;34m[\u001b[0m\u001b[0mitem\u001b[0m\u001b[0;34m[\u001b[0m\u001b[0;34m'stopDescriptor'\u001b[0m\u001b[0;34m]\u001b[0m \u001b[0;32mfor\u001b[0m \u001b[0mitem\u001b[0m \u001b[0;32min\u001b[0m \u001b[0mmatch\u001b[0m\u001b[0;34m[\u001b[0m\u001b[0;34m'stopDescriptors'\u001b[0m\u001b[0;34m]\u001b[0m\u001b[0;34m]\u001b[0m\u001b[0;34m\u001b[0m\u001b[0;34m\u001b[0m\u001b[0m\n\u001b[0m\u001b[1;32m     25\u001b[0m \u001b[0;34m\u001b[0m\u001b[0m\n\u001b[1;32m     26\u001b[0m \u001b[0;34m\u001b[0m\u001b[0m\n",
      "\u001b[0;31mTypeError\u001b[0m: string indices must be integers"
     ]
    }
   ],
   "source": [
    "template = create_template(sample, ref_xml)"
   ]
  },
  {
   "cell_type": "code",
   "execution_count": 10,
   "id": "2ab07a9b-ce40-42db-81df-61fe19dfe928",
   "metadata": {},
   "outputs": [],
   "source": [
    "\n",
    "with open(\"sample/alert.json\", 'w') as file:\n",
    "    file.write(json.dumps(template, indent=2))"
   ]
  },
  {
   "cell_type": "code",
   "execution_count": null,
   "id": "bc139da9-0ed8-48d0-bd1d-3b20dc2ff626",
   "metadata": {},
   "outputs": [],
   "source": []
  }
 ],
 "metadata": {
  "kernelspec": {
   "display_name": "Python 3",
   "language": "python",
   "name": "python3"
  },
  "language_info": {
   "codemirror_mode": {
    "name": "ipython",
    "version": 3
   },
   "file_extension": ".py",
   "mimetype": "text/x-python",
   "name": "python",
   "nbconvert_exporter": "python",
   "pygments_lexer": "ipython3",
   "version": "3.6.13"
  }
 },
 "nbformat": 4,
 "nbformat_minor": 5
}
