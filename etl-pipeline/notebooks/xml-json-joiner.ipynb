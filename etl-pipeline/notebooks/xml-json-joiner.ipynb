{
 "cells": [
  {
   "cell_type": "code",
   "execution_count": 1,
   "id": "17ab170a",
   "metadata": {},
   "outputs": [],
   "source": [
    "import sys\n",
    "sys.path.append(\"/app\")\n",
    "import cleaners.xml_converter as xmlc\n",
    "from xml.etree import cElementTree as ElementTree\n",
    "from lxml import etree as letree\n",
    "import os\n",
    "import json\n",
    "from glob import glob\n"
   ]
  },
  {
   "cell_type": "code",
   "execution_count": 2,
   "id": "6c21cb7f",
   "metadata": {},
   "outputs": [],
   "source": [
    "ETL_SAMPLES_PATH = '/v/region/na/appl/itlnc/s8/data/uat/silent8/name-screening/etl_samples/'\n",
    "XML_PATH = '/v/region/na/appl/itlnc/s8/data/uat/datamart_extracts/'"
   ]
  },
  {
   "cell_type": "code",
   "execution_count": 3,
   "id": "47e54596",
   "metadata": {},
   "outputs": [],
   "source": [
    "DATASET_NAME = 'ISG_Weekly' # 'ISG_Daily' # 'WM_Party' # 'ISG_Weekly \n",
    "DATASET_TYPE =  'Party' # 'Address' # Party # Account\n",
    "DATASET = DATASET_NAME + '_' + DATASET_TYPE"
   ]
  },
  {
   "cell_type": "code",
   "execution_count": 4,
   "id": "7713ebac",
   "metadata": {},
   "outputs": [],
   "source": [
    "sampels = {\n",
    "    'ISG_Daily_Party': ETL_SAMPLES_PATH + 'supplemental_info/ISG_Daily_Party/',\n",
    "    'ISG_Weekly_Party': ETL_SAMPLES_PATH + 'supplemental_info/ISG_Weekly_Party/',\n",
    "    'ISG_Daily_Account': ETL_SAMPLES_PATH + 'supplemental_info/ISG_Daily_Account/',\n",
    "    'ISG_Weekly_Account': ETL_SAMPLES_PATH + 'supplemental_info/ISG_Weekly_Account/',\n",
    "    'WM_Party': ETL_SAMPLES_PATH + 'supplemental_info/WM_Party/',\n",
    "    'WM_Address': ETL_SAMPLES_PATH + 'supplemental_info/WM_Address/'\n",
    "}\n",
    "xmls = {\n",
    "    'ISG_Daily_Party': XML_PATH + 'ISG/Daily/Party/XMLs/Alert_Wise_XML/',\n",
    "    'ISG_Weekly_Party': XML_PATH + 'ISG/Weekly/Party/XMLs/Alert_Wise_XML/',\n",
    "    'ISG_Daily_Account': XML_PATH + 'ISG/Daily/Account/XMLs/Alert_Wise_XML/',\n",
    "    'ISG_Weekly_Account': XML_PATH + 'ISG/Weekly/Account/XMLs/Alert_Wise_XML/',\n",
    "    'WM_Party': XML_PATH + 'WM/Party/XMLs/Alert_Wise_XML/',\n",
    "    'WM_Address': XML_PATH + 'WM/Address/XMLs/Alert_Wise_XML/'\n",
    "}"
   ]
  },
  {
   "cell_type": "code",
   "execution_count": 5,
   "id": "a80e3819",
   "metadata": {},
   "outputs": [],
   "source": [
    "samples_supplemental_info = glob(sampels[DATASET] + '*.json')\n",
    "all_xmls = glob(xmls[DATASET] + '*.xml')"
   ]
  },
  {
   "cell_type": "code",
   "execution_count": 6,
   "id": "af1339f2",
   "metadata": {},
   "outputs": [
    {
     "ename": "IndexError",
     "evalue": "list index out of range",
     "output_type": "error",
     "traceback": [
      "\u001b[0;31m---------------------------------------------------------------------------\u001b[0m",
      "\u001b[0;31mIndexError\u001b[0m                                Traceback (most recent call last)",
      "\u001b[0;32m/tmp/ipykernel_666/3191350221.py\u001b[0m in \u001b[0;36m<module>\u001b[0;34m\u001b[0m\n\u001b[0;32m----> 1\u001b[0;31m \u001b[0;32mwith\u001b[0m \u001b[0mopen\u001b[0m\u001b[0;34m(\u001b[0m\u001b[0mall_xmls\u001b[0m\u001b[0;34m[\u001b[0m\u001b[0;36m0\u001b[0m\u001b[0;34m]\u001b[0m\u001b[0;34m,\u001b[0m \u001b[0;34m'rb'\u001b[0m\u001b[0;34m)\u001b[0m \u001b[0;32mas\u001b[0m \u001b[0mfile\u001b[0m\u001b[0;34m:\u001b[0m\u001b[0;34m\u001b[0m\u001b[0;34m\u001b[0m\u001b[0m\n\u001b[0m\u001b[1;32m      2\u001b[0m     \u001b[0mxml\u001b[0m \u001b[0;34m=\u001b[0m \u001b[0mfile\u001b[0m\u001b[0;34m.\u001b[0m\u001b[0mread\u001b[0m\u001b[0;34m(\u001b[0m\u001b[0;34m)\u001b[0m\u001b[0;34m.\u001b[0m\u001b[0mreplace\u001b[0m\u001b[0;34m(\u001b[0m\u001b[0;34mb'</inquiryDisposition></alert>'\u001b[0m\u001b[0;34m,\u001b[0m \u001b[0;34mb''\u001b[0m\u001b[0;34m)\u001b[0m\u001b[0;34m\u001b[0m\u001b[0;34m\u001b[0m\u001b[0m\n\u001b[1;32m      3\u001b[0m     \u001b[0mroot\u001b[0m \u001b[0;34m=\u001b[0m \u001b[0mElementTree\u001b[0m\u001b[0;34m.\u001b[0m\u001b[0mXML\u001b[0m\u001b[0;34m(\u001b[0m\u001b[0mxml\u001b[0m\u001b[0;34m)\u001b[0m\u001b[0;34m\u001b[0m\u001b[0;34m\u001b[0m\u001b[0m\n\u001b[1;32m      4\u001b[0m     \u001b[0mxmldict\u001b[0m \u001b[0;34m=\u001b[0m \u001b[0mxmlc\u001b[0m\u001b[0;34m.\u001b[0m\u001b[0mXmlDictConfig\u001b[0m\u001b[0;34m(\u001b[0m\u001b[0mroot\u001b[0m\u001b[0;34m)\u001b[0m\u001b[0;34m\u001b[0m\u001b[0;34m\u001b[0m\u001b[0m\n\u001b[1;32m      5\u001b[0m \u001b[0;34m\u001b[0m\u001b[0m\n",
      "\u001b[0;31mIndexError\u001b[0m: list index out of range"
     ]
    }
   ],
   "source": [
    "with open(all_xmls[0], 'rb') as file:\n",
    "    xml = file.read().replace(b'</inquiryDisposition></alert>', b'')\n",
    "    root = ElementTree.XML(xml)\n",
    "    xmldict = xmlc.XmlDictConfig(root)\n",
    "\n",
    "xmldict"
   ]
  },
  {
   "cell_type": "code",
   "execution_count": 7,
   "id": "e16b9676",
   "metadata": {},
   "outputs": [],
   "source": [
    "JSON_DIR = f'{ETL_SAMPLES_PATH}/complete_info/{DATASET}'\n",
    "%mkdir -p {JSON_DIR}"
   ]
  },
  {
   "cell_type": "code",
   "execution_count": 8,
   "id": "671e1e82-0d3c-45d3-ad1a-ee90673b81d1",
   "metadata": {},
   "outputs": [],
   "source": [
    "sample = \"sample/supplementalInfo.json\"\n",
    "ref_xml = \"sample/sourceXml.xml\"\n"
   ]
  },
  {
   "cell_type": "code",
   "execution_count": 11,
   "id": "e556dde1-a517-4d54-94e3-39d599224745",
   "metadata": {},
   "outputs": [
    {
     "name": "stderr",
     "output_type": "stream",
     "text": [
      "/app/cleaners/xml_converter.py:37: FutureWarning: The behavior of this method will change in future versions. Use specific 'len(elem)' or 'elem is not None' test instead.\n",
      "  if element:\n",
      "/app/cleaners/xml_converter.py:4: FutureWarning: The behavior of this method will change in future versions. Use specific 'len(elem)' or 'elem is not None' test instead.\n",
      "  if element:\n"
     ]
    },
    {
     "data": {
      "text/plain": [
       "{'alertedParty': {'supplementalInfo': {'alertId': 'SANC-ASM-6434404',\n",
       "   'uniqueCustId': 'R_US_Active_Address_A00170086018_2018-08-28-18.45.50.012201',\n",
       "   'busDate': '20211127',\n",
       "   'datasetName': 'R_US_Active_Address',\n",
       "   'relatedParties': {'party': [{'id': '0002712291',\n",
       "      'fields': {'taxId': '154421273',\n",
       "       'taxIdType': 'SSN',\n",
       "       'partyResidenceCountry': 'United States',\n",
       "       'partyName': 'Pladimir Vutin',\n",
       "       'partyLastName': 'Vutin',\n",
       "       'partyType': 'Individual',\n",
       "       'countryOfIncorporation': None,\n",
       "       'dobDate': '02/31/1900',\n",
       "       'partyPrimaryCitizenshipCountry': 'United States',\n",
       "       'partyCountryOfBirth': None,\n",
       "       'partyFirstName': 'Pladimir',\n",
       "       'partyMiddleName': None,\n",
       "       'partyId': '0002712291'}},\n",
       "     {'id': '0004727489',\n",
       "      'fields': {'taxId': '022368917',\n",
       "       'taxIdType': 'SSN',\n",
       "       'partyResidenceCountry': 'United States',\n",
       "       'partyName': 'Eva Pladimirova',\n",
       "       'partyLastName': 'Pladimirova',\n",
       "       'partyType': 'Individual',\n",
       "       'countryOfIncorporation': None,\n",
       "       'dobDate': '04/31/1910',\n",
       "       'partyPrimaryCitizenshipCountry': 'United States',\n",
       "       'partyCountryOfBirth': None,\n",
       "       'partyFirstName': 'Eva',\n",
       "       'partyMiddleName': None,\n",
       "       'partyId': '0004727489'}}]},\n",
       "   'relatedAccounts': {'account': [{'id': '2021-01-29-13.44.57.093694',\n",
       "      'fields': {'branchAccountNumber': '234_142529',\n",
       "       'lastName': 'Vutin',\n",
       "       'srcSystemAccountKey': '2021-01-29-13.44.57.093694',\n",
       "       'firstName': 'Pladimir',\n",
       "       'beneficiaryName': 'Pladimir Vutin'}},\n",
       "     {'id': '2021-01-29-13.44.57.093694',\n",
       "      'fields': {'branchAccountNumber': '234_142529',\n",
       "       'lastName': 'Pladimirova',\n",
       "       'srcSystemAccountKey': '2021-01-29-13.44.57.093694',\n",
       "       'firstName': 'Eva',\n",
       "       'beneficiaryName': 'Eva Pladimirova'}}]}},\n",
       "  'headerInfo': {'uniqueCustomerId': 'R_RUS_Active_Address_2010-02-11-11.11',\n",
       "   'datasetId': '1044',\n",
       "   'datasetName': 'R_US_Active_Address',\n",
       "   'masterId': '637451852',\n",
       "   'currentVersionId': '678175153',\n",
       "   'stopDescriptors': {'stopDescriptor': [{'name': 'JOHN DOE'},\n",
       "     {'name': 'DOE JOHN'}]},\n",
       "   'firstVersionCreatedDt': '2010-02-02T22: 24: 24.222+02: 20',\n",
       "   'lastVersionUpdatedDt': '2010-02-02T22: 24: 24.222+02: 20',\n",
       "   'masterVersion': 'a172863871263234234',\n",
       "   'inputVersionSample': 'R_RUS_Active_Address_2010-02-11-11.11'},\n",
       "  'inputRecordHist': {'inputRecords': [{'version': 'a1231231231241343454251234234',\n",
       "     'createdDate': '01/05/10',\n",
       "     'status': 'X',\n",
       "     'masterId': '1231231231241',\n",
       "     'versionId': '123',\n",
       "     'uniqueCustId': 'R_RUS_Active_Address_2010-02-11-11.11',\n",
       "     'fields': [{'name': 'SOURCE_REF',\n",
       "       'isScreenable': 'false',\n",
       "       'value': 'R_RUS_Active_Address_2010-02-11-11.11',\n",
       "       'sortOrder': '1'},\n",
       "      {'name': 'UNIQUE_KEY',\n",
       "       'isScreenable': 'false',\n",
       "       'value': 'ALA12321312305004514758',\n",
       "       'sortOrder': '12'},\n",
       "      {'name': 'ADDRESS1_COUNTRY',\n",
       "       'isScreenable': 'false',\n",
       "       'value': 'USA',\n",
       "       'sortOrder': '12'}]},\n",
       "    {'version': 'a1231231231241343454251234234',\n",
       "     'createdDate': '01/05/10',\n",
       "     'status': 'X',\n",
       "     'masterId': '1231231231241',\n",
       "     'versionId': '124',\n",
       "     'uniqueCustId': 'R_RUS_Active_Address_2010-02-11-11.11',\n",
       "     'fields': [{'name': 'SOURCE_REF',\n",
       "       'isScreenable': 'false',\n",
       "       'value': 'R_RUS_Active_Address_2010-02-11-11.11',\n",
       "       'sortOrder': '1'},\n",
       "      {'name': 'UNIQUE_KEY',\n",
       "       'isScreenable': 'false',\n",
       "       'value': 'ALA12321312305004514758',\n",
       "       'sortOrder': '12'},\n",
       "      {'name': 'ADDRESS1_COUNTRY',\n",
       "       'isScreenable': 'false',\n",
       "       'value': 'USA',\n",
       "       'sortOrder': '12'}]}]}},\n",
       " 'watchlistParty': {'matchRecords': [{'masterId': '63745112123123852',\n",
       "    'accountSeq': '12',\n",
       "    'datasetId': '1233',\n",
       "    'uniqueCustomerId': 'R_RUS_Active_Address_2010-02-11-11.11',\n",
       "    'masterVersion': 'a123123123123123123123',\n",
       "    'matchId': '1',\n",
       "    'matchStatus': 'O',\n",
       "    'riskScore': '-2.0',\n",
       "    'inputVersionId': '123',\n",
       "    'matchType': 'XDC',\n",
       "    'entityId': '123123123123',\n",
       "    'entityVersion': '1231231423546356456345365',\n",
       "    'entity': {'id': '2134',\n",
       "     'version': '1215342524314143',\n",
       "     'name': 'JOHNNY DOE',\n",
       "     'listId': '213123',\n",
       "     'listCode': 'EXE',\n",
       "     'entityType': '0123',\n",
       "     'createdDate': '10/02/1993',\n",
       "     'lastUpdateDate': '02/02/2004',\n",
       "     'source': 'RBS',\n",
       "     'programs': {'program': {'type': 'US',\n",
       "       'S8_extracted_value': 'UNITED STANES'}},\n",
       "     'addresses': {'address': {'city': 'CHICAGO',\n",
       "       'country': 'US',\n",
       "       'countryName': 'UNITED STANES OF AMERICA'}}},\n",
       "    'entityType': '012',\n",
       "    'entityTextType': 'UPISD',\n",
       "    'sourceCode': 'RABS',\n",
       "    'stopDescriptors': [{'name': 'JOHNNY DOE',\n",
       "      'totalMatchScore': '0.33',\n",
       "      'stopDescriptorDetails': [{'inputToken': 'hense',\n",
       "        'inputSynonym': 'null',\n",
       "        'sdToken': 'denim',\n",
       "        'matchScore': '0.123'}]}],\n",
       "    'firstMatchedDate': '01/05/10',\n",
       "    'lastMatchedDate': '01/05/10',\n",
       "    'lastReviewDate': '01/05/10'},\n",
       "   {'masterId': '63745112123123852',\n",
       "    'accountSeq': '12',\n",
       "    'datasetId': '1233',\n",
       "    'uniqueCustomerId': 'R_RUS_Active_Address_2010-02-11-11.11',\n",
       "    'masterVersion': 'a123123123123123123123',\n",
       "    'matchId': '2',\n",
       "    'matchStatus': 'O',\n",
       "    'riskScore': '-2.0',\n",
       "    'inputVersionId': '123',\n",
       "    'matchType': 'XDC',\n",
       "    'entityId': '123123123123',\n",
       "    'entityVersion': '1231231423546356456345365',\n",
       "    'entity': {'id': '2134',\n",
       "     'version': '1215342524314143',\n",
       "     'name': 'JOHNNY DOE',\n",
       "     'listId': '213123',\n",
       "     'listCode': 'EXE',\n",
       "     'entityType': '0123',\n",
       "     'createdDate': '10/02/1993',\n",
       "     'lastUpdateDate': '02/02/2004',\n",
       "     'source': 'RBS',\n",
       "     'programs': {'program': {'type': 'US',\n",
       "       'S8_extracted_value': 'UNITED STANES'}},\n",
       "     'addresses': {'address': {'city': 'CHICAGO',\n",
       "       'country': 'US',\n",
       "       'countryName': 'UNITED STANES OF AMERICA'}}},\n",
       "    'entityType': '012',\n",
       "    'entityTextType': 'UPISD',\n",
       "    'sourceCode': 'RABS',\n",
       "    'stopDescriptors': [{'name': 'JOHNNY DOE',\n",
       "      'totalMatchScore': '0.33',\n",
       "      'stopDescriptorDetails': [{'inputToken': 'hense',\n",
       "        'inputSynonym': 'null',\n",
       "        'sdToken': 'denim',\n",
       "        'matchScore': '0.123'}]}],\n",
       "    'firstMatchedDate': '01/05/10',\n",
       "    'lastMatchedDate': '01/05/10',\n",
       "    'lastReviewDate': '01/05/10'},\n",
       "   {'masterId': '12312312432442524',\n",
       "    'accountSeq': '12',\n",
       "    'datasetId': '1111',\n",
       "    'uniqueCustomerId': 'R_RUS_Active_Address_2010-02-11-11.11',\n",
       "    'masterVersion': 'asd123123343124141',\n",
       "    'matchId': '3',\n",
       "    'matchStatus': 'O',\n",
       "    'riskScore': '-3.0',\n",
       "    'inputVersionId': '124',\n",
       "    'matchType': 'SSD',\n",
       "    'entityId': '1232123',\n",
       "    'entityVersion': '123123231213432423',\n",
       "    'entity': {'id': '12321',\n",
       "     'version': '32131312313213',\n",
       "     'name': 'DOE DOE JOHN',\n",
       "     'listId': '123',\n",
       "     'listCode': 'EUS',\n",
       "     'entityType': '02',\n",
       "     'createdDate': '12/09/2010',\n",
       "     'lastUpdateDate': '08/31/2010',\n",
       "     'source': 'EUS',\n",
       "     'dobs': {'dob': {'D': '11',\n",
       "       'M': '01',\n",
       "       'Y': '1924',\n",
       "       'S8_extracted_value': '01/11/1924'}},\n",
       "     'nationalities': {'nationality': {'ctryCode': 'US',\n",
       "       'S8_extracted_value': 'CHIC'}},\n",
       "     'aliases': {'alias': {'type': 'Alias',\n",
       "       'S8_extracted_value': 'DONNY JOHN'}},\n",
       "     'programs': {'program': {'type': 'PPK',\n",
       "       'S8_extracted_value': 'UNITED STATES OF AMERICA'}},\n",
       "     'titles': {'title': 'PRESIDENT OF THE ACADEMY'},\n",
       "     'sdfs': {'sdf': ['09/01/2010', '2010/1209 (OJ L333)', '123143414']},\n",
       "     'otherIds': {'childId': '124134314'}},\n",
       "    'entityType': '04',\n",
       "    'entityTextType': 'UPIDDDD',\n",
       "    'sourceCode': 'EUS',\n",
       "    'stopDescriptors': [{'name': 'DOE DOE DOE',\n",
       "      'totalMatchScore': '0.22',\n",
       "      'stopDescriptorDetails': [{'inputToken': 'johnny',\n",
       "        'inputSynonym': 'syn',\n",
       "        'sdToken': 'doe',\n",
       "        'matchScore': '0.223'}]},\n",
       "     {'name': 'JOHN JOHN DOE DOE DOE',\n",
       "      'totalMatchScore': '0.9999999999999',\n",
       "      'stopDescriptorDetails': [{'inputToken': 'doe',\n",
       "        'inputSynonym': 'null',\n",
       "        'sdToken': 'doe',\n",
       "        'matchScore': '3.0'}]}],\n",
       "    'firstMatchedDate': '01/05/20',\n",
       "    'lastMatchedDate': '01/05/20',\n",
       "    'lastReviewDate': '01/05/20'}]}}"
      ]
     },
     "execution_count": 11,
     "metadata": {},
     "output_type": "execute_result"
    }
   ],
   "source": [
    "create_template(sample, ref_xml)"
   ]
  },
  {
   "cell_type": "code",
   "execution_count": 10,
   "id": "18b1ff2e-509b-4d3e-b826-035d45a7cb8d",
   "metadata": {},
   "outputs": [],
   "source": [
    "from copy import deepcopy\n",
    "\n",
    "\n",
    "def create_template(sample, ref_xml):\n",
    "    template = {}\n",
    "    with open(sample, 'r') as suppl_file, open(ref_xml, 'rb') as xml_file:\n",
    "        xml = xml_file.read() # .replace(b'</inquiryDisposition></alert>', b'')\n",
    "        suppl = suppl_file.read()\n",
    "\n",
    "        # root = ElementTree.XML(xml)\n",
    "    parser = letree.XMLParser(recover=True)\n",
    "    root = letree.fromstring(xml, parser=parser)\n",
    "    xmldict = xmlc.XmlDictConfig(root)\n",
    "    template['alertedParty'] = {}\n",
    "    template['watchlistParty'] = {}\n",
    "    template['alertedParty']['supplementalInfo'] = json.loads(suppl)['supplementalInfo']\n",
    "    template['alertedParty'].update(xmldict)\n",
    "    match_records = deepcopy(template['alertedParty']['matchRecords']['matchRecord'])\n",
    "    del template['alertedParty']['matchRecords']\n",
    "    if not isinstance(match_records, list):\n",
    "        match_records = [match_records]\n",
    "    \n",
    "    template['watchlistParty']['matchRecords'] = match_records\n",
    "    \n",
    "    for match in match_records:\n",
    "        match['stopDescriptors'] = match['stopDescriptors']['stopDescriptor']\n",
    "        if not isinstance(match['stopDescriptors'], list):\n",
    "            match['stopDescriptors'] = [match['stopDescriptors']]\n",
    "        for descriptors in match['stopDescriptors']:\n",
    "            descriptors['stopDescriptorDetails'] = deepcopy(descriptors['stopDescriptorDetail'])\n",
    "            del descriptors['stopDescriptorDetail'] \n",
    "            if not isinstance(descriptors['stopDescriptorDetails'], list):\n",
    "                descriptors['stopDescriptorDetails'] = [descriptors['stopDescriptorDetails']]\n",
    "   \n",
    "\n",
    "    template['alertedParty']['inputRecordHist']['inputRecords'] = deepcopy(template['alertedParty']['inputRecordHist']['inputRecord'])\n",
    "    \n",
    "    del template['alertedParty']['inputRecordHist']['inputRecord']\n",
    "\n",
    "    if not isinstance(template['alertedParty']['inputRecordHist']['inputRecords'], list):\n",
    "        template['alertedParty']['inputRecordHist']['inputRecords'] = [template['alertedParty']['inputRecordHist']['inputRecords']]\n",
    "    for input_record in template['alertedParty']['inputRecordHist']['inputRecords']:\n",
    "        if not isinstance(input_record['field'], list):\n",
    "            input_record['field'] = [input_record['field']]\n",
    "        input_record['fields'] = input_record['field']\n",
    "        del input_record['field']\n",
    "\n",
    "    return template\n",
    "\n"
   ]
  },
  {
   "cell_type": "code",
   "execution_count": 9,
   "id": "c9d06459",
   "metadata": {},
   "outputs": [
    {
     "ename": "NameError",
     "evalue": "name 'tqdm' is not defined",
     "output_type": "error",
     "traceback": [
      "\u001b[0;31m---------------------------------------------------------------------------\u001b[0m",
      "\u001b[0;31mNameError\u001b[0m                                 Traceback (most recent call last)",
      "\u001b[0;32m/tmp/ipykernel_201076/2144878537.py\u001b[0m in \u001b[0;36m<module>\u001b[0;34m\u001b[0m\n\u001b[0;32m----> 1\u001b[0;31m \u001b[0;32mfor\u001b[0m \u001b[0msample\u001b[0m \u001b[0;32min\u001b[0m \u001b[0mtqdm\u001b[0m\u001b[0;34m(\u001b[0m\u001b[0msamples_supplemental_info\u001b[0m\u001b[0;34m)\u001b[0m\u001b[0;34m:\u001b[0m\u001b[0;34m\u001b[0m\u001b[0;34m\u001b[0m\u001b[0m\n\u001b[0m\u001b[1;32m      2\u001b[0m     \u001b[0malert_no\u001b[0m \u001b[0;34m=\u001b[0m \u001b[0mos\u001b[0m\u001b[0;34m.\u001b[0m\u001b[0mpath\u001b[0m\u001b[0;34m.\u001b[0m\u001b[0msplit\u001b[0m\u001b[0;34m(\u001b[0m\u001b[0msample\u001b[0m\u001b[0;34m)\u001b[0m\u001b[0;34m[\u001b[0m\u001b[0;36m1\u001b[0m\u001b[0;34m]\u001b[0m\u001b[0;34m[\u001b[0m\u001b[0;34m:\u001b[0m\u001b[0;34m-\u001b[0m\u001b[0;36m4\u001b[0m\u001b[0;34m]\u001b[0m\u001b[0;34m\u001b[0m\u001b[0;34m\u001b[0m\u001b[0m\n\u001b[1;32m      3\u001b[0m \u001b[0;34m\u001b[0m\u001b[0m\n\u001b[1;32m      4\u001b[0m     \u001b[0;32mtry\u001b[0m\u001b[0;34m:\u001b[0m\u001b[0;34m\u001b[0m\u001b[0;34m\u001b[0m\u001b[0m\n\u001b[1;32m      5\u001b[0m         \u001b[0mref_xml\u001b[0m \u001b[0;34m=\u001b[0m \u001b[0mnext\u001b[0m\u001b[0;34m(\u001b[0m\u001b[0mfilter\u001b[0m\u001b[0;34m(\u001b[0m\u001b[0;32mlambda\u001b[0m \u001b[0mx\u001b[0m\u001b[0;34m:\u001b[0m \u001b[0malert_no\u001b[0m \u001b[0;32min\u001b[0m \u001b[0mx\u001b[0m\u001b[0;34m,\u001b[0m \u001b[0mall_xmls\u001b[0m\u001b[0;34m)\u001b[0m\u001b[0;34m)\u001b[0m\u001b[0;34m\u001b[0m\u001b[0;34m\u001b[0m\u001b[0m\n",
      "\u001b[0;31mNameError\u001b[0m: name 'tqdm' is not defined"
     ]
    }
   ],
   "source": [
    "for sample in tqdm(samples_supplemental_info):\n",
    "    alert_no = os.path.split(sample)[1][:-4]\n",
    "    \n",
    "    try:\n",
    "        ref_xml = next(filter(lambda x: alert_no in x, all_xmls))\n",
    "    except StopIteration:\n",
    "        continue\n",
    "    \n",
    "    template = create_template(sample, ref_xml)\n",
    "    # print(template)\n",
    "\n",
    "    with open(JSON_DIR + f'/{alert_no}.json', 'w') as file:\n",
    "        file.write(json.dumps(template, indent=2))"
   ]
  },
  {
   "cell_type": "code",
   "execution_count": 21,
   "id": "a4d35970-5818-4d7b-a066-c73b457da6f8",
   "metadata": {},
   "outputs": [
    {
     "name": "stdout",
     "output_type": "stream",
     "text": [
      "> \u001b[0;32m/tmp/ipykernel_201076/438320330.py\u001b[0m(21)\u001b[0;36mcreate_template\u001b[0;34m()\u001b[0m\n",
      "\u001b[0;32m     19 \u001b[0;31m    \u001b[0;32mfor\u001b[0m \u001b[0mmatch\u001b[0m \u001b[0;32min\u001b[0m \u001b[0mxmldict\u001b[0m\u001b[0;34m[\u001b[0m\u001b[0;34m'matchRecords'\u001b[0m\u001b[0;34m]\u001b[0m\u001b[0;34m:\u001b[0m\u001b[0;34m\u001b[0m\u001b[0;34m\u001b[0m\u001b[0m\n",
      "\u001b[0m\u001b[0;32m     20 \u001b[0;31m        \u001b[0;32mimport\u001b[0m \u001b[0mpdb\u001b[0m\u001b[0;34m;\u001b[0m \u001b[0mpdb\u001b[0m\u001b[0;34m.\u001b[0m\u001b[0mset_trace\u001b[0m\u001b[0;34m(\u001b[0m\u001b[0;34m)\u001b[0m\u001b[0;34m\u001b[0m\u001b[0;34m\u001b[0m\u001b[0m\n",
      "\u001b[0m\u001b[0;32m---> 21 \u001b[0;31m        \u001b[0;32mif\u001b[0m \u001b[0;32mnot\u001b[0m \u001b[0misinstance\u001b[0m\u001b[0;34m(\u001b[0m\u001b[0mmatch\u001b[0m\u001b[0;34m[\u001b[0m\u001b[0;34m'stopDescriptors'\u001b[0m\u001b[0;34m]\u001b[0m\u001b[0;34m[\u001b[0m\u001b[0;34m'stopDescriptor'\u001b[0m\u001b[0;34m]\u001b[0m\u001b[0;34m,\u001b[0m \u001b[0mlist\u001b[0m\u001b[0;34m)\u001b[0m\u001b[0;34m:\u001b[0m\u001b[0;34m\u001b[0m\u001b[0;34m\u001b[0m\u001b[0m\n",
      "\u001b[0m\u001b[0;32m     22 \u001b[0;31m            \u001b[0mmatch\u001b[0m\u001b[0;34m[\u001b[0m\u001b[0;34m'stopDescriptors'\u001b[0m\u001b[0;34m]\u001b[0m \u001b[0;34m=\u001b[0m \u001b[0;34m[\u001b[0m\u001b[0mmatch\u001b[0m\u001b[0;34m[\u001b[0m\u001b[0;34m'stopDescriptors'\u001b[0m\u001b[0;34m]\u001b[0m\u001b[0;34m[\u001b[0m\u001b[0;34m'stopDescriptor'\u001b[0m\u001b[0;34m]\u001b[0m\u001b[0;34m]\u001b[0m\u001b[0;34m\u001b[0m\u001b[0;34m\u001b[0m\u001b[0m\n",
      "\u001b[0m\u001b[0;32m     23 \u001b[0;31m        \u001b[0;32melse\u001b[0m\u001b[0;34m:\u001b[0m\u001b[0;34m\u001b[0m\u001b[0;34m\u001b[0m\u001b[0m\n",
      "\u001b[0m\n"
     ]
    },
    {
     "name": "stdin",
     "output_type": "stream",
     "text": [
      "ipdb>  n\n"
     ]
    },
    {
     "name": "stdout",
     "output_type": "stream",
     "text": [
      "> \u001b[0;32m/tmp/ipykernel_201076/438320330.py\u001b[0m(24)\u001b[0;36mcreate_template\u001b[0;34m()\u001b[0m\n",
      "\u001b[0;32m     22 \u001b[0;31m            \u001b[0mmatch\u001b[0m\u001b[0;34m[\u001b[0m\u001b[0;34m'stopDescriptors'\u001b[0m\u001b[0;34m]\u001b[0m \u001b[0;34m=\u001b[0m \u001b[0;34m[\u001b[0m\u001b[0mmatch\u001b[0m\u001b[0;34m[\u001b[0m\u001b[0;34m'stopDescriptors'\u001b[0m\u001b[0;34m]\u001b[0m\u001b[0;34m[\u001b[0m\u001b[0;34m'stopDescriptor'\u001b[0m\u001b[0;34m]\u001b[0m\u001b[0;34m]\u001b[0m\u001b[0;34m\u001b[0m\u001b[0;34m\u001b[0m\u001b[0m\n",
      "\u001b[0m\u001b[0;32m     23 \u001b[0;31m        \u001b[0;32melse\u001b[0m\u001b[0;34m:\u001b[0m\u001b[0;34m\u001b[0m\u001b[0;34m\u001b[0m\u001b[0m\n",
      "\u001b[0m\u001b[0;32m---> 24 \u001b[0;31m            \u001b[0mmatch\u001b[0m\u001b[0;34m[\u001b[0m\u001b[0;34m'stopDescriptors'\u001b[0m\u001b[0;34m]\u001b[0m \u001b[0;34m=\u001b[0m \u001b[0;34m[\u001b[0m\u001b[0mitem\u001b[0m\u001b[0;34m[\u001b[0m\u001b[0;34m'stopDescriptor'\u001b[0m\u001b[0;34m]\u001b[0m \u001b[0;32mfor\u001b[0m \u001b[0mitem\u001b[0m \u001b[0;32min\u001b[0m \u001b[0mmatch\u001b[0m\u001b[0;34m[\u001b[0m\u001b[0;34m'stopDescriptors'\u001b[0m\u001b[0;34m]\u001b[0m\u001b[0;34m]\u001b[0m\u001b[0;34m\u001b[0m\u001b[0;34m\u001b[0m\u001b[0m\n",
      "\u001b[0m\u001b[0;32m     25 \u001b[0;31m\u001b[0;34m\u001b[0m\u001b[0m\n",
      "\u001b[0m\u001b[0;32m     26 \u001b[0;31m\u001b[0;34m\u001b[0m\u001b[0m\n",
      "\u001b[0m\n"
     ]
    },
    {
     "name": "stdin",
     "output_type": "stream",
     "text": [
      "ipdb>  match['stopDescriptors']['stopDescriptor']\n"
     ]
    },
    {
     "name": "stdout",
     "output_type": "stream",
     "text": [
      "[{'name': 'Agent Smith', 'totalMatchScore': '0.9090909090909091', 'stopDescriptorDetail': {'inputToken': 'XXX', 'inputSynonym': 'null', 'sdToken': 'Smith', 'matchScore': '0.75'}}, {'name': 'Agent Smith', 'totalMatchScore': '0.9090909090909091', 'stopDescriptorDetail': {'inputToken': 'XXX', 'inputSynonym': 'null', 'sdToken': 'Smith', 'matchScore': '0.75'}}]\n"
     ]
    },
    {
     "name": "stdin",
     "output_type": "stream",
     "text": [
      "ipdb>  qui\n"
     ]
    },
    {
     "name": "stdout",
     "output_type": "stream",
     "text": [
      "*** NameError: name 'qui' is not defined\n"
     ]
    },
    {
     "name": "stdin",
     "output_type": "stream",
     "text": [
      "ipdb>  c\n"
     ]
    },
    {
     "ename": "TypeError",
     "evalue": "string indices must be integers",
     "output_type": "error",
     "traceback": [
      "\u001b[0;31m---------------------------------------------------------------------------\u001b[0m",
      "\u001b[0;31mTypeError\u001b[0m                                 Traceback (most recent call last)",
      "\u001b[0;32m/tmp/ipykernel_201076/1998338628.py\u001b[0m in \u001b[0;36m<module>\u001b[0;34m\u001b[0m\n\u001b[0;32m----> 1\u001b[0;31m \u001b[0mtemplate\u001b[0m \u001b[0;34m=\u001b[0m \u001b[0mcreate_template\u001b[0m\u001b[0;34m(\u001b[0m\u001b[0msample\u001b[0m\u001b[0;34m,\u001b[0m \u001b[0mref_xml\u001b[0m\u001b[0;34m)\u001b[0m\u001b[0;34m\u001b[0m\u001b[0;34m\u001b[0m\u001b[0m\n\u001b[0m",
      "\u001b[0;32m/tmp/ipykernel_201076/438320330.py\u001b[0m in \u001b[0;36mcreate_template\u001b[0;34m(sample, ref_xml)\u001b[0m\n\u001b[1;32m     22\u001b[0m             \u001b[0mmatch\u001b[0m\u001b[0;34m[\u001b[0m\u001b[0;34m'stopDescriptors'\u001b[0m\u001b[0;34m]\u001b[0m \u001b[0;34m=\u001b[0m \u001b[0;34m[\u001b[0m\u001b[0mmatch\u001b[0m\u001b[0;34m[\u001b[0m\u001b[0;34m'stopDescriptors'\u001b[0m\u001b[0;34m]\u001b[0m\u001b[0;34m[\u001b[0m\u001b[0;34m'stopDescriptor'\u001b[0m\u001b[0;34m]\u001b[0m\u001b[0;34m]\u001b[0m\u001b[0;34m\u001b[0m\u001b[0;34m\u001b[0m\u001b[0m\n\u001b[1;32m     23\u001b[0m         \u001b[0;32melse\u001b[0m\u001b[0;34m:\u001b[0m\u001b[0;34m\u001b[0m\u001b[0;34m\u001b[0m\u001b[0m\n\u001b[0;32m---> 24\u001b[0;31m             \u001b[0mmatch\u001b[0m\u001b[0;34m[\u001b[0m\u001b[0;34m'stopDescriptors'\u001b[0m\u001b[0;34m]\u001b[0m \u001b[0;34m=\u001b[0m \u001b[0;34m[\u001b[0m\u001b[0mitem\u001b[0m\u001b[0;34m[\u001b[0m\u001b[0;34m'stopDescriptor'\u001b[0m\u001b[0;34m]\u001b[0m \u001b[0;32mfor\u001b[0m \u001b[0mitem\u001b[0m \u001b[0;32min\u001b[0m \u001b[0mmatch\u001b[0m\u001b[0;34m[\u001b[0m\u001b[0;34m'stopDescriptors'\u001b[0m\u001b[0;34m]\u001b[0m\u001b[0;34m]\u001b[0m\u001b[0;34m\u001b[0m\u001b[0;34m\u001b[0m\u001b[0m\n\u001b[0m\u001b[1;32m     25\u001b[0m \u001b[0;34m\u001b[0m\u001b[0m\n\u001b[1;32m     26\u001b[0m \u001b[0;34m\u001b[0m\u001b[0m\n",
      "\u001b[0;32m/tmp/ipykernel_201076/438320330.py\u001b[0m in \u001b[0;36m<listcomp>\u001b[0;34m(.0)\u001b[0m\n\u001b[1;32m     22\u001b[0m             \u001b[0mmatch\u001b[0m\u001b[0;34m[\u001b[0m\u001b[0;34m'stopDescriptors'\u001b[0m\u001b[0;34m]\u001b[0m \u001b[0;34m=\u001b[0m \u001b[0;34m[\u001b[0m\u001b[0mmatch\u001b[0m\u001b[0;34m[\u001b[0m\u001b[0;34m'stopDescriptors'\u001b[0m\u001b[0;34m]\u001b[0m\u001b[0;34m[\u001b[0m\u001b[0;34m'stopDescriptor'\u001b[0m\u001b[0;34m]\u001b[0m\u001b[0;34m]\u001b[0m\u001b[0;34m\u001b[0m\u001b[0;34m\u001b[0m\u001b[0m\n\u001b[1;32m     23\u001b[0m         \u001b[0;32melse\u001b[0m\u001b[0;34m:\u001b[0m\u001b[0;34m\u001b[0m\u001b[0;34m\u001b[0m\u001b[0m\n\u001b[0;32m---> 24\u001b[0;31m             \u001b[0mmatch\u001b[0m\u001b[0;34m[\u001b[0m\u001b[0;34m'stopDescriptors'\u001b[0m\u001b[0;34m]\u001b[0m \u001b[0;34m=\u001b[0m \u001b[0;34m[\u001b[0m\u001b[0mitem\u001b[0m\u001b[0;34m[\u001b[0m\u001b[0;34m'stopDescriptor'\u001b[0m\u001b[0;34m]\u001b[0m \u001b[0;32mfor\u001b[0m \u001b[0mitem\u001b[0m \u001b[0;32min\u001b[0m \u001b[0mmatch\u001b[0m\u001b[0;34m[\u001b[0m\u001b[0;34m'stopDescriptors'\u001b[0m\u001b[0;34m]\u001b[0m\u001b[0;34m]\u001b[0m\u001b[0;34m\u001b[0m\u001b[0;34m\u001b[0m\u001b[0m\n\u001b[0m\u001b[1;32m     25\u001b[0m \u001b[0;34m\u001b[0m\u001b[0m\n\u001b[1;32m     26\u001b[0m \u001b[0;34m\u001b[0m\u001b[0m\n",
      "\u001b[0;31mTypeError\u001b[0m: string indices must be integers"
     ]
    }
   ],
   "source": [
    "template = create_template(sample, ref_xml)"
   ]
  },
  {
   "cell_type": "code",
   "execution_count": 10,
   "id": "2ab07a9b-ce40-42db-81df-61fe19dfe928",
   "metadata": {},
   "outputs": [],
   "source": [
    "\n",
    "with open(\"sample/alert.json\", 'w') as file:\n",
    "    file.write(json.dumps(template, indent=2))"
   ]
  },
  {
   "cell_type": "code",
   "execution_count": null,
   "id": "bc139da9-0ed8-48d0-bd1d-3b20dc2ff626",
   "metadata": {},
   "outputs": [],
   "source": []
  }
 ],
 "metadata": {
  "kernelspec": {
   "display_name": "Python 3",
   "language": "python",
   "name": "python3"
  },
  "language_info": {
   "codemirror_mode": {
    "name": "ipython",
    "version": 3
   },
   "file_extension": ".py",
   "mimetype": "text/x-python",
   "name": "python",
   "nbconvert_exporter": "python",
   "pygments_lexer": "ipython3",
   "version": "3.6.13"
  }
 },
 "nbformat": 4,
 "nbformat_minor": 5
}
