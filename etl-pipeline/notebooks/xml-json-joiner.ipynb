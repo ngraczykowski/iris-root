{
 "cells": [
  {
   "cell_type": "code",
   "execution_count": 1,
   "id": "17ab170a",
   "metadata": {},
   "outputs": [],
   "source": [
    "import sys\n",
    "sys.path.append(\"..\")\n",
    "import xml_converter as xmlc\n",
    "from xml.etree import cElementTree as ElementTree\n",
    "from lxml import etree as letree\n",
    "import os\n",
    "import json\n",
    "from glob import glob\n"
   ]
  },
  {
   "cell_type": "code",
   "execution_count": 2,
   "id": "6c21cb7f",
   "metadata": {},
   "outputs": [],
   "source": [
    "ETL_SAMPLES_PATH = '/v/region/na/appl/itlnc/s8/data/uat/silent8/name-screening/etl_samples/'\n",
    "XML_PATH = '/v/region/na/appl/itlnc/s8/data/uat/datamart_extracts/'"
   ]
  },
  {
   "cell_type": "code",
   "execution_count": 3,
   "id": "47e54596",
   "metadata": {},
   "outputs": [],
   "source": [
    "DATASET_NAME = 'ISG_Weekly' # 'ISG_Daily' # 'WM_Party' # 'ISG_Weekly \n",
    "DATASET_TYPE =  'Party' # 'Address' # Party # Account\n",
    "DATASET = DATASET_NAME + '_' + DATASET_TYPE"
   ]
  },
  {
   "cell_type": "code",
   "execution_count": 4,
   "id": "7713ebac",
   "metadata": {},
   "outputs": [],
   "source": [
    "sampels = {\n",
    "    'ISG_Daily_Party': ETL_SAMPLES_PATH + 'supplemental_info/ISG_Daily_Party/',\n",
    "    'ISG_Weekly_Party': ETL_SAMPLES_PATH + 'supplemental_info/ISG_Weekly_Party/',\n",
    "    'ISG_Daily_Account': ETL_SAMPLES_PATH + 'supplemental_info/ISG_Daily_Account/',\n",
    "    'ISG_Weekly_Account': ETL_SAMPLES_PATH + 'supplemental_info/ISG_Weekly_Account/',\n",
    "    'WM_Party': ETL_SAMPLES_PATH + 'supplemental_info/WM_Party/',\n",
    "    'WM_Address': ETL_SAMPLES_PATH + 'supplemental_info/WM_Address/'\n",
    "}\n",
    "xmls = {\n",
    "    'ISG_Daily_Party': XML_PATH + 'ISG/Daily/Party/XMLs/Alert_Wise_XML/',\n",
    "    'ISG_Weekly_Party': XML_PATH + 'ISG/Weekly/Party/XMLs/Alert_Wise_XML/',\n",
    "    'ISG_Daily_Account': XML_PATH + 'ISG/Daily/Account/XMLs/Alert_Wise_XML/',\n",
    "    'ISG_Weekly_Account': XML_PATH + 'ISG/Weekly/Account/XMLs/Alert_Wise_XML/',\n",
    "    'WM_Party': XML_PATH + 'WM/Party/XMLs/Alert_Wise_XML/',\n",
    "    'WM_Address': XML_PATH + 'WM/Address/XMLs/Alert_Wise_XML/'\n",
    "}"
   ]
  },
  {
   "cell_type": "code",
   "execution_count": 5,
   "id": "a80e3819",
   "metadata": {},
   "outputs": [],
   "source": [
    "samples_supplemental_info = glob(sampels[DATASET] + '*.json')\n",
    "all_xmls = glob(xmls[DATASET] + '*.xml')"
   ]
  },
  {
   "cell_type": "code",
   "execution_count": null,
   "id": "af1339f2",
   "metadata": {},
   "outputs": [],
   "source": [
    "with open(all_xmls[0], 'rb') as file:\n",
    "    xml = file.read().replace(b'</inquiryDisposition></alert>', b'')\n",
    "    root = ElementTree.XML(xml)\n",
    "    xmldict = xmlc.XmlDictConfig(root)\n",
    "\n",
    "xmldict"
   ]
  },
  {
   "cell_type": "code",
   "execution_count": null,
   "id": "e16b9676",
   "metadata": {},
   "outputs": [],
   "source": [
    "JSON_DIR = f'{ETL_SAMPLES_PATH}/complete_info/{DATASET}'\n",
    "%mkdir -p {JSON_DIR}"
   ]
  },
  {
   "cell_type": "code",
   "execution_count": 7,
   "id": "671e1e82-0d3c-45d3-ad1a-ee90673b81d1",
   "metadata": {},
   "outputs": [],
   "source": [
    "sample = \"sample/supplementalInfo.json\"\n",
    "ref_xml = \"sample/WM_Address_Alerts_XML.csv.001.xml\"\n"
   ]
  },
  {
   "cell_type": "code",
   "execution_count": 8,
   "id": "18b1ff2e-509b-4d3e-b826-035d45a7cb8d",
   "metadata": {},
   "outputs": [],
   "source": [
    "def create_template(sample, ref_xml):\n",
    "    template = {}\n",
    "    with open(sample, 'r') as suppl_file, open(ref_xml, 'rb') as xml_file:\n",
    "            xml = xml_file.read() # .replace(b'</inquiryDisposition></alert>', b'')\n",
    "            suppl = suppl_file.read()\n",
    "\n",
    "        # root = ElementTree.XML(xml)\n",
    "    parser = letree.XMLParser(recover=True)\n",
    "    root = letree.fromstring(xml, parser=parser)\n",
    "    xmldict = xmlc.XmlDictConfig(root)\n",
    "    \n",
    "    template['supplementalInfo'] = json.loads(suppl)['supplementalInfo']\n",
    "    template['alert'] = xmldict\n",
    "\n",
    "    template['alert']['matchRecords'] = template['alert']['matchRecords']['matchRecord']\n",
    "\n",
    "    if not isinstance(template['alert']['matchRecords'], list):\n",
    "        template['alert']['matchRecords'] = [template['alert']['matchRecords']]\n",
    "    for match in xmldict['matchRecords']:\n",
    "        if not isinstance(match['stopDescriptors'], list):\n",
    "            match['stopDescriptors'] = [match['stopDescriptors']['stopDescriptor']]\n",
    "        else:\n",
    "            match['stopDescriptors'] = [item['stopDescriptor'] for item in match['stopDescriptors']]\n",
    "\n",
    "\n",
    "    template['alert']['inputRecordHist'] = template['alert']['inputRecordHist']['inputRecord']\n",
    "\n",
    "    if not isinstance(template['alert']['inputRecordHist'], list):\n",
    "        template['alert']['inputRecordHist'] = [template['alert']['inputRecordHist']]\n",
    "\n",
    "    for item in template['alert']['inputRecordHist']:\n",
    "        if not isinstance(item['field'], list):\n",
    "            item['field'] = [item['field']]\n",
    "            \n",
    "    return template\n",
    "\n"
   ]
  },
  {
   "cell_type": "code",
   "execution_count": 19,
   "id": "c9d06459",
   "metadata": {},
   "outputs": [
    {
     "ename": "NameError",
     "evalue": "name 'tqdm' is not defined",
     "output_type": "error",
     "traceback": [
      "\u001b[0;31m---------------------------------------------------------------------------\u001b[0m",
      "\u001b[0;31mNameError\u001b[0m                                 Traceback (most recent call last)",
      "\u001b[0;32m/tmp/ipykernel_91556/2144878537.py\u001b[0m in \u001b[0;36m<module>\u001b[0;34m\u001b[0m\n\u001b[0;32m----> 1\u001b[0;31m \u001b[0;32mfor\u001b[0m \u001b[0msample\u001b[0m \u001b[0;32min\u001b[0m \u001b[0mtqdm\u001b[0m\u001b[0;34m(\u001b[0m\u001b[0msamples_supplemental_info\u001b[0m\u001b[0;34m)\u001b[0m\u001b[0;34m:\u001b[0m\u001b[0;34m\u001b[0m\u001b[0;34m\u001b[0m\u001b[0m\n\u001b[0m\u001b[1;32m      2\u001b[0m     \u001b[0malert_no\u001b[0m \u001b[0;34m=\u001b[0m \u001b[0mos\u001b[0m\u001b[0;34m.\u001b[0m\u001b[0mpath\u001b[0m\u001b[0;34m.\u001b[0m\u001b[0msplit\u001b[0m\u001b[0;34m(\u001b[0m\u001b[0msample\u001b[0m\u001b[0;34m)\u001b[0m\u001b[0;34m[\u001b[0m\u001b[0;36m1\u001b[0m\u001b[0;34m]\u001b[0m\u001b[0;34m[\u001b[0m\u001b[0;34m:\u001b[0m\u001b[0;34m-\u001b[0m\u001b[0;36m4\u001b[0m\u001b[0;34m]\u001b[0m\u001b[0;34m\u001b[0m\u001b[0;34m\u001b[0m\u001b[0m\n\u001b[1;32m      3\u001b[0m \u001b[0;34m\u001b[0m\u001b[0m\n\u001b[1;32m      4\u001b[0m     \u001b[0;32mtry\u001b[0m\u001b[0;34m:\u001b[0m\u001b[0;34m\u001b[0m\u001b[0;34m\u001b[0m\u001b[0m\n\u001b[1;32m      5\u001b[0m         \u001b[0mref_xml\u001b[0m \u001b[0;34m=\u001b[0m \u001b[0mnext\u001b[0m\u001b[0;34m(\u001b[0m\u001b[0mfilter\u001b[0m\u001b[0;34m(\u001b[0m\u001b[0;32mlambda\u001b[0m \u001b[0mx\u001b[0m\u001b[0;34m:\u001b[0m \u001b[0malert_no\u001b[0m \u001b[0;32min\u001b[0m \u001b[0mx\u001b[0m\u001b[0;34m,\u001b[0m \u001b[0mall_xmls\u001b[0m\u001b[0;34m)\u001b[0m\u001b[0;34m)\u001b[0m\u001b[0;34m\u001b[0m\u001b[0;34m\u001b[0m\u001b[0m\n",
      "\u001b[0;31mNameError\u001b[0m: name 'tqdm' is not defined"
     ]
    }
   ],
   "source": [
    "for sample in tqdm(samples_supplemental_info):\n",
    "    alert_no = os.path.split(sample)[1][:-4]\n",
    "    \n",
    "    try:\n",
    "        ref_xml = next(filter(lambda x: alert_no in x, all_xmls))\n",
    "    except StopIteration:\n",
    "        continue\n",
    "    \n",
    "    template = create_template(sample, ref_xml)\n",
    "    # print(template)\n",
    "\n",
    "    with open(JSON_DIR + f'/{alert_no}.json', 'w') as file:\n",
    "        file.write(json.dumps(template, indent=2))"
   ]
  },
  {
   "cell_type": "code",
   "execution_count": 9,
   "id": "a4d35970-5818-4d7b-a066-c73b457da6f8",
   "metadata": {},
   "outputs": [
    {
     "name": "stderr",
     "output_type": "stream",
     "text": [
      "../xml_converter.py:37: FutureWarning: The behavior of this method will change in future versions. Use specific 'len(elem)' or 'elem is not None' test instead.\n",
      "  if element:\n",
      "../xml_converter.py:4: FutureWarning: The behavior of this method will change in future versions. Use specific 'len(elem)' or 'elem is not None' test instead.\n",
      "  if element:\n"
     ]
    }
   ],
   "source": [
    "template = create_template(sample, ref_xml)"
   ]
  },
  {
   "cell_type": "code",
   "execution_count": 10,
   "id": "2ab07a9b-ce40-42db-81df-61fe19dfe928",
   "metadata": {},
   "outputs": [],
   "source": [
    "\n",
    "with open(\"sample/alert.json\", 'w') as file:\n",
    "    file.write(json.dumps(template, indent=2))"
   ]
  },
  {
   "cell_type": "code",
   "execution_count": null,
   "id": "bc139da9-0ed8-48d0-bd1d-3b20dc2ff626",
   "metadata": {},
   "outputs": [],
   "source": []
  }
 ],
 "metadata": {
  "kernelspec": {
   "display_name": "Python 3 (ipykernel)",
   "language": "python",
   "name": "python3"
  },
  "language_info": {
   "codemirror_mode": {
    "name": "ipython",
    "version": 3
   },
   "file_extension": ".py",
   "mimetype": "text/x-python",
   "name": "python",
   "nbconvert_exporter": "python",
   "pygments_lexer": "ipython3",
   "version": "3.7.11"
  }
 },
 "nbformat": 4,
 "nbformat_minor": 5
}
