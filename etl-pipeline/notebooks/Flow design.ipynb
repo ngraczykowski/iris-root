{
 "cells": [
  {
   "cell_type": "code",
   "execution_count": 1,
   "id": "b3b05cfc",
   "metadata": {},
   "outputs": [],
   "source": [
    "import os\n",
    "\n",
    "os.environ[\"CONFIG_APP_DIR\"] = \"config\"\n"
   ]
  },
  {
   "cell_type": "code",
   "execution_count": 2,
   "id": "8c7c1170",
   "metadata": {},
   "outputs": [],
   "source": [
    "import sys\n",
    "import os\n",
    "import pickle\n",
    "os.chdir(\"..\")\n",
    "from omegaconf import OmegaConf\n"
   ]
  },
  {
   "cell_type": "code",
   "execution_count": 4,
   "id": "e772d0a4",
   "metadata": {
    "scrolled": true
   },
   "outputs": [],
   "source": [
    "payload = {'alertedParty': {'ALL_PARTY_TYPES': ['Individual', 'Individual'], 'AP_PARTY_TYPE': 'I'}, 'metadata': {'datasetType': 'WM_ADDRESS'}, 'xml_fields': {'PARTY1_ORGANIZATION_NAME': None, 'ORGANIZATIONPERSONIND': None}, 'alertSupplementalInfo': {'supplementalInfo': []}}"
   ]
  },
  {
   "cell_type": "code",
   "execution_count": 5,
   "id": "21b17922",
   "metadata": {},
   "outputs": [],
   "source": [
    "from dataclasses import dataclass\n",
    "from typing import List\n",
    "\n",
    "\n",
    "@dataclass\n",
    "class SourceField:\n",
    "    source: str\n",
    "    field: str\n",
    "\n",
    "@dataclass\n",
    "class Function:\n",
    "    target_field: str\n",
    "    source: List[SourceField]\n",
    "    target_collection: str = None\n",
    "    method: str = \"\"\n",
    "    method_name: str = \"\"\n",
    "    pattern_method: str = \"\"\n",
    "        \n",
    "        \n",
    "    def __post_init__(self, *args, **kwargs):\n",
    "        method = kwargs.get(\"method\")\n",
    "        if method:\n",
    "            method_name = method\n",
    "            pattern_method = f\"_{method}\"\n",
    "    \n",
    "\n",
    "\n",
    "flow_config = OmegaConf.load(os.path.join(\"config\", \"pipeline\", \"flow.yaml\"))\n",
    "func_map = {}\n",
    "for column_transformation in flow_config:\n",
    "    name = str(column_transformation)\n",
    "    item = dict(flow_config[column_transformation])\n",
    "    item['source'] = [SourceField(str(field_type), str(field)) for field_type in item['source'] for field in item['source'][field_type]]\n",
    "    dict_input = dict(**item, **{'target_field': column_transformation})\n",
    "    func_map.update({name: Function(**dict_input)})\n",
    "#     print(name)\n",
    "#     print(f\"pattern_set_up_party_type({flow_config[column_transformation]['source']})\")\n",
    "    "
   ]
  },
  {
   "cell_type": "code",
   "execution_count": 6,
   "id": "7f9a836b",
   "metadata": {},
   "outputs": [
    {
     "data": {
      "text/plain": [
       "Function(target_field='AP_PARTY_TYPE', source=[SourceField(source='alertedParty', field='ALL_PARTY_TYPES'), SourceField(source='metadata', field='datasetType'), SourceField(source='xml_fields', field='PARTY1_ORGANIZATION_NAME'), SourceField(source='xml_fields', field='ORGANIZATIONPERSONIND'), SourceField(source='alertSupplementalInfo', field='supplementalInfo.legalFormName')], target_collection='alertedParty', method='set_up_party_type', method_name='', pattern_method='')"
      ]
     },
     "execution_count": 6,
     "metadata": {},
     "output_type": "execute_result"
    }
   ],
   "source": [
    "func_map['AP_PARTY_TYPE']"
   ]
  },
  {
   "cell_type": "code",
   "execution_count": 38,
   "id": "222637e5",
   "metadata": {},
   "outputs": [],
   "source": [
    "def draw_design(func_name, field=\"\", nested_level=0):\n",
    "    tabs = nested_level * '\\t'\n",
    "    design = f\"{func_name}\"\n",
    "    \n",
    "    \n",
    "    try:\n",
    "        func = func_map[func_name]\n",
    "        design += f\"\\n{tabs}- value: {payload[func.target_collection][func_name]}\"\n",
    "        if func.source:\n",
    "            design += f\"\\n{tabs}- collection: {func.target_collection}\"\n",
    "        if func.method or func.method_name:\n",
    "            design += f\"\\n{tabs}- created by: {func.method if func.method else func.method_name}\"\n",
    "        \n",
    "    except KeyError:\n",
    "        try:\n",
    "            design += f\"\\n{tabs}- value: {payload[field][func_name]}\"\n",
    "        except:\n",
    "            value = None\n",
    "            if func_name == \"partyType\":\n",
    "                value = \"Individual\"\n",
    "            design += f\"\\n{tabs}- value: {value}\"\n",
    "        if field:\n",
    "            design += f\"\\n{tabs}- collection: {field}\"\n",
    "        if func_name == \"partyType\":\n",
    "            f_tabs = (nested_level-1) * '\\t'\n",
    "            design += f\"\\n{f_tabs+(len('<-')+2)* ' '}\" + design\n",
    "        return design\n",
    "    design +=  f\"\\n{tabs}- source fields:\"\n",
    "    for field in func.source:\n",
    "        design += f\"\\n{tabs}  <-\" + draw_design(field.field, field.source, nested_level+1) + f\"\\n{tabs}\"\n",
    "    return design.replace(\"\\n\\n\", \"\\n\")"
   ]
  },
  {
   "cell_type": "code",
   "execution_count": 39,
   "id": "40b2bb9f",
   "metadata": {},
   "outputs": [
    {
     "name": "stdout",
     "output_type": "stream",
     "text": [
      "AP_PARTY_TYPE\n",
      "- value: I\n",
      "- collection: alertedParty\n",
      "- created by: set_up_party_type\n",
      "- source fields:\n",
      "  <-ALL_PARTY_TYPES\n",
      "\t- value: ['Individual', 'Individual']\n",
      "\t- collection: alertedParty\n",
      "\t- created by: collect_party_types\n",
      "\t- source fields:\n",
      "\t  <-partyType\n",
      "\t\t- value: Individual\n",
      "\t\t- collection: parties\n",
      "\t    partyType\n",
      "\t\t- value: Individual\n",
      "\t\t- collection: parties\n",
      "\t\n",
      "  <-datasetType\n",
      "\t- value: WM_ADDRESS\n",
      "\t- collection: metadata\n",
      "  <-PARTY1_ORGANIZATION_NAME\n",
      "\t- value: None\n",
      "\t- collection: xml_fields\n",
      "  <-ORGANIZATIONPERSONIND\n",
      "\t- value: None\n",
      "\t- collection: xml_fields\n",
      "  <-supplementalInfo.legalFormName\n",
      "\t- value: None\n",
      "\t- collection: alertSupplementalInfo\n",
      "\n"
     ]
    }
   ],
   "source": [
    "print(draw_design('AP_PARTY_TYPE'))"
   ]
  },
  {
   "cell_type": "code",
   "execution_count": null,
   "id": "a9a5e77f",
   "metadata": {},
   "outputs": [],
   "source": []
  }
 ],
 "metadata": {
  "kernelspec": {
   "display_name": "Python 3",
   "language": "python",
   "name": "python3"
  },
  "language_info": {
   "codemirror_mode": {
    "name": "ipython",
    "version": 3
   },
   "file_extension": ".py",
   "mimetype": "text/x-python",
   "name": "python",
   "nbconvert_exporter": "python",
   "pygments_lexer": "ipython3",
   "version": "3.6.13"
  }
 },
 "nbformat": 4,
 "nbformat_minor": 5
}
