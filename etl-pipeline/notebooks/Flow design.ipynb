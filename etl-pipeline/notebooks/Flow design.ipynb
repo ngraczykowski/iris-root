{
 "cells": [
  {
   "cell_type": "code",
   "execution_count": 1,
   "id": "b3b05cfc",
   "metadata": {},
   "outputs": [],
   "source": [
    "import os\n",
    "\n",
    "os.environ[\"CONFIG_APP_DIR\"] = \"config\"\n"
   ]
  },
  {
   "cell_type": "code",
   "execution_count": 2,
   "id": "8c7c1170",
   "metadata": {},
   "outputs": [],
   "source": [
    "import sys\n",
    "import os\n",
    "import pickle\n",
    "os.chdir(\"..\")\n",
    "from omegaconf import OmegaConf\n"
   ]
  },
  {
   "cell_type": "code",
   "execution_count": 18,
   "id": "21b17922",
   "metadata": {},
   "outputs": [],
   "source": [
    "from dataclasses import dataclass\n",
    "from typing import List\n",
    "\n",
    "\n",
    "@dataclass\n",
    "class SourceField:\n",
    "    source: str\n",
    "    field: str\n",
    "\n",
    "@dataclass\n",
    "class Function:\n",
    "    target_field: str\n",
    "    method_name: str\n",
    "    pattern_method: str\n",
    "    source: List[SourceField]\n",
    "    target_collection: str = None\n",
    "    \n",
    "\n",
    "\n",
    "flow_config = OmegaConf.load(os.path.join(\"config\", \"pipeline\", \"flow.yaml\"))\n",
    "func_map = {}\n",
    "for column_transformation in flow_config:\n",
    "    name = str(column_transformation)\n",
    "    item = dict(flow_config[column_transformation])\n",
    "    item['source'] = [SourceField(str(field_type), str(field)) for field_type in item['source'] for field in item['source'][field_type]]\n",
    "    dict_input = dict(**item, **{'target_field': column_transformation})\n",
    "    func_map.update({name: Function(**dict_input)})\n",
    "#     print(name)\n",
    "#     print(f\"pattern_set_up_party_type({flow_config[column_transformation]['source']})\")\n",
    "    "
   ]
  },
  {
   "cell_type": "code",
   "execution_count": 103,
   "id": "222637e5",
   "metadata": {},
   "outputs": [],
   "source": [
    "def draw_design(func, field=\"\", nested_level=1):\n",
    "    tabs = nested_level * '\\t'\n",
    "    if field:\n",
    "        field = f\"[{field}]\"\n",
    "    design = f\"{func}{field}\"       \n",
    "    try:\n",
    "        func = func_map[func]\n",
    "    except KeyError:\n",
    "        return design\n",
    "    design +=  f\"\\n\\t{tabs}<-\"\n",
    "    for field in func.source:\n",
    "        design += draw_design(field.field, field.source, nested_level+1) + f\"\\n\\t{tabs}\"\n",
    "    return design"
   ]
  },
  {
   "cell_type": "code",
   "execution_count": 104,
   "id": "40b2bb9f",
   "metadata": {},
   "outputs": [
    {
     "name": "stdout",
     "output_type": "stream",
     "text": [
      "AP_PARTY_TYPE\n",
      "\t\t<-ALL_PARTY_TYPES[alertedParty]\n",
      "\t\t\t<-partyType[parties]\n",
      "\t\t\t\n",
      "\t\tdatasetType[metadata]\n",
      "\t\tPARTY1_ORGANIZATION_NAME[xml_fields]\n",
      "\t\tORGANIZATIONPERSONIND[xml_fields]\n",
      "\t\tsupplementalInfo.legalFormName[alertSupplementalInfo]\n",
      "\t\tWLP_TYPE[watchlistParty]\n",
      "\t\t\n"
     ]
    }
   ],
   "source": [
    "print(draw_design('AP_PARTY_TYPE'))"
   ]
  },
  {
   "cell_type": "code",
   "execution_count": null,
   "id": "70afff13",
   "metadata": {},
   "outputs": [],
   "source": []
  }
 ],
 "metadata": {
  "kernelspec": {
   "display_name": "Python 3",
   "language": "python",
   "name": "python3"
  },
  "language_info": {
   "codemirror_mode": {
    "name": "ipython",
    "version": 3
   },
   "file_extension": ".py",
   "mimetype": "text/x-python",
   "name": "python",
   "nbconvert_exporter": "python",
   "pygments_lexer": "ipython3",
   "version": "3.6.13"
  }
 },
 "nbformat": 4,
 "nbformat_minor": 5
}
