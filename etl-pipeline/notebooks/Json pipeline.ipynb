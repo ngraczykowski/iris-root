{
 "cells": [
  {
   "cell_type": "code",
   "execution_count": 11,
   "id": "3bd69b4c-19cf-48f7-a810-a4890e66302f",
   "metadata": {},
   "outputs": [],
   "source": [
    "import os\n",
    "\n",
    "os.environ[\"CONFIG_APP_DIR\"] = \"config\""
   ]
  },
  {
   "cell_type": "code",
   "execution_count": 12,
   "id": "3c549e53",
   "metadata": {},
   "outputs": [],
   "source": [
    "import sys\n",
    "import os\n",
    "import pickle\n",
    "os.chdir(\"/app\")\n",
    "from omegaconf import OmegaConf\n",
    "from etl_pipeline.config import columns_namespace, pipeline_config\n",
    "from service.proto.etl_pipeline_pb2 import Alert, Match\n",
    "from etl_pipeline.config import columns_namespace\n",
    "from custom.ms.datatypes.field import InputRecordField\n",
    "from etl_pipeline.custom.ms.payload_loader import PayloadLoader\n",
    "from etl_pipeline.custom.ms.transformations import (\n",
    "    create_agent_input_agg_col_config,\n",
    "    prepend_agent_name_to_ap_or_wl_or_aliases_key,\n",
    ")\n",
    "from etl_pipeline.custom.ms.watchlist_extractor import WatchlistExtractor\n",
    "from etl_pipeline.pipeline import ETLPipeline\n",
    "from pipelines.ms.json_pipeline import MSPipeline\n",
    "\n",
    "import json\n",
    "from etl_pipeline.data_processor_engine.json_engine.json_engine import JsonProcessingEngine\n"
   ]
  },
  {
   "cell_type": "code",
   "execution_count": 13,
   "id": "40c16dfc",
   "metadata": {},
   "outputs": [],
   "source": [
    "def load_alert():\n",
    "    with open(\"API/xml_alignment_payload.json\", \"r\") as f:\n",
    "        text = json.load(f)\n",
    "        match1 = Match(match_id=\"0\", match_name=\"1\")\n",
    "        match2 = Match(match_id=\"1\", match_name=\"2\")\n",
    "        alert = Alert(batch_id=\"1\", alert_name=\"2\", matches=[match1, match2])\n",
    "        for key, value in text.items():\n",
    "            alert.flat_payload[str(key)] = str(value)\n",
    "    return alert"
   ]
  },
  {
   "cell_type": "code",
   "execution_count": 14,
   "id": "565d811d",
   "metadata": {},
   "outputs": [],
   "source": [
    "alert = load_alert()"
   ]
  },
  {
   "cell_type": "code",
   "execution_count": 15,
   "id": "c804420b-9569-449e-99b4-8d707bc9b956",
   "metadata": {},
   "outputs": [],
   "source": [
    "payload = load_alert()\n",
    "payload = payload.flat_payload"
   ]
  },
  {
   "cell_type": "code",
   "execution_count": 16,
   "id": "8a181000-7737-4795-9b6c-952e82a16dea",
   "metadata": {},
   "outputs": [],
   "source": [
    "payload_json = {key: payload[key] for key in sorted(payload)}\n",
    "payload_json = PayloadLoader().load_payload_from_json(payload_json)\n",
    "payload_json['match_ids'] = [int(i.match_id) for i in alert.matches]"
   ]
  },
  {
   "cell_type": "code",
   "execution_count": 17,
   "id": "e4621cef-444c-4155-b919-13ae516b6f63",
   "metadata": {},
   "outputs": [
    {
     "data": {
      "text/plain": [
       "dict_keys(['headerInfo', 'inputRecordHist', 'matchRecords', 'supplementalInfo'])"
      ]
     },
     "execution_count": 17,
     "metadata": {},
     "output_type": "execute_result"
    }
   ],
   "source": [
    "payload_json['alert'].keys()"
   ]
  },
  {
   "cell_type": "code",
   "execution_count": 18,
   "id": "9ec7eeee",
   "metadata": {},
   "outputs": [],
   "source": [
    "engine = JsonProcessingEngine(pipeline_config)\n",
    "pipeline = MSPipeline(engine, config=pipeline_config)"
   ]
  },
  {
   "cell_type": "code",
   "execution_count": 19,
   "id": "5ef12fb5-1a45-4a5c-95ef-87f6d4d6a38f",
   "metadata": {},
   "outputs": [],
   "source": [
    "\n",
    "payload = pipeline.transform_standardized_to_cleansed(payload_json)\n",
    "payload = pipeline.transform_cleansed_to_application(payload)"
   ]
  },
  {
   "cell_type": "markdown",
   "id": "a9a626d1-bac1-41e3-ae8a-cf91c32d99ae",
   "metadata": {
    "tags": []
   },
   "source": [
    "### payload"
   ]
  },
  {
   "cell_type": "code",
   "execution_count": 20,
   "id": "190aa3c5-9909-4b36-b627-b72f22a7e0c8",
   "metadata": {},
   "outputs": [
    {
     "name": "stdout",
     "output_type": "stream",
     "text": [
      "++++++++\n",
      "[['', '10/10/1969']] [[]]\n",
      "[None] [[[], [], [], None, None]]\n",
      "[None] [None]\n",
      "++++++++\n",
      "[['', '10/10/1969']] [['01/11/1924']]\n",
      "[None] [[['CHIC'], [], [], None, None]]\n",
      "[None] [None]\n"
     ]
    }
   ],
   "source": [
    "for match in payload[\"alert\"][\"matchRecords\"]:\n",
    "    print(\"++++++++\")\n",
    "    print(match[\"ap_all_dobs_aggregated\"], match[\"wl_all_dobs_aggregated\"])\n",
    "    print(match[\"ap_all_nationalities_aggregated\"], match[\"wl_all_nationalities_aggregated\"])\n",
    "    print(match[\"ap_all_residencies_aggregated\"], match[\"wl_all_residencies_aggregated\"])"
   ]
  },
  {
   "cell_type": "code",
   "execution_count": null,
   "id": "193f2d75-9de4-4b03-a0e6-5dc9897ba80e",
   "metadata": {},
   "outputs": [],
   "source": [
    "# new_json listy "
   ]
  }
 ],
 "metadata": {
  "kernelspec": {
   "display_name": "Python 3 (ipykernel)",
   "language": "python",
   "name": "python3"
  },
  "language_info": {
   "codemirror_mode": {
    "name": "ipython",
    "version": 3
   },
   "file_extension": ".py",
   "mimetype": "text/x-python",
   "name": "python",
   "nbconvert_exporter": "python",
   "pygments_lexer": "ipython3",
   "version": "3.7.11"
  }
 },
 "nbformat": 4,
 "nbformat_minor": 5
}
