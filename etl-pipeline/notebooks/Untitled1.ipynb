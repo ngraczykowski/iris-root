{
 "cells": [
  {
   "cell_type": "code",
   "execution_count": 3,
   "id": "c7012577",
   "metadata": {},
   "outputs": [],
   "source": [
    "\n",
    "\n",
    "def get_key(payload, match, conf):\n",
    "    new_config = {}\n",
    "    for _, value in dict(conf).items():\n",
    "        parse_key(value, match, payload, new_config)\n",
    "    return new_config"
   ]
  },
  {
   "cell_type": "code",
   "execution_count": null,
   "id": "798c5697",
   "metadata": {},
   "outputs": [],
   "source": [
    "parsed_payload = {\"alertedParty\": {\"inputRecordHist\": {\"inputRecords\": [{\"fields\": [(), [1][\n",
    "            \"value\"\n",
    "        ]\n"
   ]
  },
  {
   "cell_type": "code",
   "execution_count": null,
   "id": "0d6af9ac",
   "metadata": {},
   "outputs": [],
   "source": [
    "\"alertedParty.inputRecordHist.inputRecords.INPUT_FIELD.PARTY1_NAME_FULL\""
   ]
  }
 ],
 "metadata": {
  "kernelspec": {
   "display_name": "Python 3",
   "language": "python",
   "name": "python3"
  },
  "language_info": {
   "codemirror_mode": {
    "name": "ipython",
    "version": 3
   },
   "file_extension": ".py",
   "mimetype": "text/x-python",
   "name": "python",
   "nbconvert_exporter": "python",
   "pygments_lexer": "ipython3",
   "version": "3.6.13"
  }
 },
 "nbformat": 4,
 "nbformat_minor": 5
}
