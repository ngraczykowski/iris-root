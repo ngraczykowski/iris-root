{
 "cells": [
  {
   "cell_type": "code",
   "execution_count": 2,
   "id": "f79d0256",
   "metadata": {},
   "outputs": [],
   "source": [
    "import os\n",
    "import glob\n",
    "\n",
    "os.environ[\"CONFIG_APP_DIR\"] = \"../tests/test_custom/config_app/\""
   ]
  },
  {
   "cell_type": "code",
   "execution_count": 3,
   "id": "1343ebdb",
   "metadata": {},
   "outputs": [],
   "source": [
    "import sys\n",
    "import pickle\n",
    "from omegaconf import OmegaConf\n",
    "from etl_pipeline.config import pipeline_config\n",
    "from etl_pipeline.custom.ms.payload_loader import PayloadLoader\n",
    "\n",
    "import json\n",
    "from etl_pipeline.data_processor_engine.json_engine.json_engine import JsonProcessingEngine"
   ]
  },
  {
   "cell_type": "code",
   "execution_count": 4,
   "id": "409d0407",
   "metadata": {},
   "outputs": [],
   "source": [
    "from etl_pipeline.config import columns_namespace as cn"
   ]
  },
  {
   "cell_type": "code",
   "execution_count": 5,
   "id": "1168917f",
   "metadata": {},
   "outputs": [],
   "source": [
    "ETL_SAMPLES_PATH = '/v/region/na/appl/itlnc/s8/data/uat/silent8/name-screening/etl_samples/complete_info/'"
   ]
  },
  {
   "cell_type": "code",
   "execution_count": 6,
   "id": "4d8fd040",
   "metadata": {},
   "outputs": [],
   "source": [
    "DATASET_NAME = 'WM' # 'ISG_Daily' # 'WM' # 'ISG_Weekly \n",
    "DATASET_TYPE =  'Address' # 'Address' # Party # Account\n",
    "DATASET = DATASET_NAME + '_' + DATASET_TYPE"
   ]
  },
  {
   "cell_type": "code",
   "execution_count": 7,
   "id": "ea3c09ff",
   "metadata": {},
   "outputs": [],
   "source": [
    "complete_info = glob.glob(ETL_SAMPLES_PATH + DATASET + '/*.json')"
   ]
  },
  {
   "cell_type": "markdown",
   "id": "ab04016f-b58d-4c8a-8775-a4a352e4ede0",
   "metadata": {},
   "source": [
    "### Testing flow"
   ]
  },
  {
   "cell_type": "code",
   "execution_count": 8,
   "id": "46a58377-8c4f-47ad-b2d2-7c330c0146c8",
   "metadata": {},
   "outputs": [],
   "source": [
    "from pipelines.ms.ms_pipeline import MSPipeline\n",
    "\n",
    "engine = JsonProcessingEngine(pipeline_config)\n",
    "pipeline = MSPipeline(engine, config=pipeline_config)"
   ]
  },
  {
   "cell_type": "code",
   "execution_count": 9,
   "id": "67778766-899d-45f4-b525-024c595ac4eb",
   "metadata": {},
   "outputs": [],
   "source": [
    "with open(f'../notebooks/sample/wm_party_in_payload_format.json', 'r') as file:\n",
    "    payload = json.loads(file.read())\n",
    "\n",
    "payload_json = {key: payload[key] for key in sorted(payload)}\n",
    "payload_json = PayloadLoader().load_payload_from_json(payload_json)\n",
    "\n",
    "\n",
    "payload_json['match_ids'] = [i for i in range(len(payload_json[\"watchlistParty\"][cn.MATCH_RECORDS]))]\n"
   ]
  },
  {
   "cell_type": "code",
   "execution_count": 10,
   "id": "18f77d8c-b8a0-4cfe-887d-947a0d2277e9",
   "metadata": {},
   "outputs": [],
   "source": [
    "payload = pipeline.transform_standardized_to_cleansed(payload_json)\n",
    "new_payloads = pipeline.transform_cleansed_to_application(payload)"
   ]
  },
  {
   "cell_type": "code",
   "execution_count": 11,
   "id": "0a8b53c2-45a9-4880-8846-a40860d69371",
   "metadata": {},
   "outputs": [],
   "source": [
    "import pandas as pd"
   ]
  },
  {
   "cell_type": "code",
   "execution_count": 12,
   "id": "265a3d41-21ed-42bc-bf05-20857f0c7d8f",
   "metadata": {},
   "outputs": [],
   "source": [
    "out_payload = pd.DataFrame([match for payload in new_payloads   for match in payload['watchlistParty']['matchRecords']])"
   ]
  },
  {
   "cell_type": "code",
   "execution_count": 13,
   "id": "71fed960-6b1a-4036-9175-da421f644124",
   "metadata": {},
   "outputs": [
    {
     "data": {
      "text/html": [
       "<div>\n",
       "<style scoped>\n",
       "    .dataframe tbody tr th:only-of-type {\n",
       "        vertical-align: middle;\n",
       "    }\n",
       "\n",
       "    .dataframe tbody tr th {\n",
       "        vertical-align: top;\n",
       "    }\n",
       "\n",
       "    .dataframe thead th {\n",
       "        text-align: right;\n",
       "    }\n",
       "</style>\n",
       "<table border=\"1\" class=\"dataframe\">\n",
       "  <thead>\n",
       "    <tr style=\"text-align: right;\">\n",
       "      <th></th>\n",
       "      <th>ap_all_dobs_aggregated</th>\n",
       "      <th>wl_all_dobs_aggregated</th>\n",
       "      <th>ap_all_documents_aggregated</th>\n",
       "      <th>wl_all_documents_aggregated</th>\n",
       "      <th>ap_all_employer_names_aggregated</th>\n",
       "      <th>wl_all_employer_names_aggregated</th>\n",
       "      <th>ap_all_names_aggregated</th>\n",
       "      <th>wl_all_names_aggregated</th>\n",
       "      <th>ap_all_party_types_aggregated</th>\n",
       "      <th>wl_all_party_types_aggregated</th>\n",
       "      <th>ap_all_pobs_aggregated</th>\n",
       "      <th>wl_all_pobs_aggregated</th>\n",
       "      <th>ap_all_residencies_aggregated</th>\n",
       "      <th>wl_all_residencies_aggregated</th>\n",
       "      <th>ap_all_santioned_countries_aggregated</th>\n",
       "      <th>wl_all_santioned_countries_aggregated</th>\n",
       "    </tr>\n",
       "  </thead>\n",
       "  <tbody>\n",
       "    <tr>\n",
       "      <th>0</th>\n",
       "      <td>[02/31/1900, 04/31/1910]</td>\n",
       "      <td>[MAY 6, 1981, //]</td>\n",
       "      <td>[154421273, 022368917]</td>\n",
       "      <td>[]</td>\n",
       "      <td>[]</td>\n",
       "      <td>[Joe Ding]</td>\n",
       "      <td>[Pladimir Vutin, Eva Pladimirova]</td>\n",
       "      <td>[Joe Ding]</td>\n",
       "      <td>[Individual, Individual]</td>\n",
       "      <td>[]</td>\n",
       "      <td>[]</td>\n",
       "      <td>[Joe Ding]</td>\n",
       "      <td>[United States, United States]</td>\n",
       "      <td>[]</td>\n",
       "      <td>[]</td>\n",
       "      <td>[Joe Ding]</td>\n",
       "    </tr>\n",
       "    <tr>\n",
       "      <th>1</th>\n",
       "      <td>[02/31/1900, 04/31/1910]</td>\n",
       "      <td>[MAY 6, 1981, //]</td>\n",
       "      <td>[154421273, 022368917]</td>\n",
       "      <td>[]</td>\n",
       "      <td>[]</td>\n",
       "      <td>[Joe Dong]</td>\n",
       "      <td>[Pladimir Vutin, Eva Pladimirova]</td>\n",
       "      <td>[Joe Dong]</td>\n",
       "      <td>[Individual, Individual]</td>\n",
       "      <td>[]</td>\n",
       "      <td>[]</td>\n",
       "      <td>[PL, Poland, Joe Dong]</td>\n",
       "      <td>[United States, United States]</td>\n",
       "      <td>[PL, Poland]</td>\n",
       "      <td>[]</td>\n",
       "      <td>[PL, Poland, Joe Dong]</td>\n",
       "    </tr>\n",
       "  </tbody>\n",
       "</table>\n",
       "</div>"
      ],
      "text/plain": [
       "     ap_all_dobs_aggregated wl_all_dobs_aggregated  \\\n",
       "0  [02/31/1900, 04/31/1910]      [MAY 6, 1981, //]   \n",
       "1  [02/31/1900, 04/31/1910]      [MAY 6, 1981, //]   \n",
       "\n",
       "  ap_all_documents_aggregated wl_all_documents_aggregated  \\\n",
       "0      [154421273, 022368917]                          []   \n",
       "1      [154421273, 022368917]                          []   \n",
       "\n",
       "  ap_all_employer_names_aggregated wl_all_employer_names_aggregated  \\\n",
       "0                               []                       [Joe Ding]   \n",
       "1                               []                       [Joe Dong]   \n",
       "\n",
       "             ap_all_names_aggregated wl_all_names_aggregated  \\\n",
       "0  [Pladimir Vutin, Eva Pladimirova]              [Joe Ding]   \n",
       "1  [Pladimir Vutin, Eva Pladimirova]              [Joe Dong]   \n",
       "\n",
       "  ap_all_party_types_aggregated wl_all_party_types_aggregated  \\\n",
       "0      [Individual, Individual]                            []   \n",
       "1      [Individual, Individual]                            []   \n",
       "\n",
       "  ap_all_pobs_aggregated  wl_all_pobs_aggregated  \\\n",
       "0                     []              [Joe Ding]   \n",
       "1                     []  [PL, Poland, Joe Dong]   \n",
       "\n",
       "    ap_all_residencies_aggregated wl_all_residencies_aggregated  \\\n",
       "0  [United States, United States]                            []   \n",
       "1  [United States, United States]                  [PL, Poland]   \n",
       "\n",
       "  ap_all_santioned_countries_aggregated wl_all_santioned_countries_aggregated  \n",
       "0                                    []                            [Joe Ding]  \n",
       "1                                    []                [PL, Poland, Joe Dong]  "
      ]
     },
     "execution_count": 13,
     "metadata": {},
     "output_type": "execute_result"
    }
   ],
   "source": [
    "out_payload[[i for i in out_payload.columns  if i.endswith(\"_aggregated\")]]"
   ]
  },
  {
   "cell_type": "markdown",
   "id": "ba5aaa43",
   "metadata": {
    "tags": []
   },
   "source": [
    "# check all test jsons"
   ]
  },
  {
   "cell_type": "code",
   "execution_count": 14,
   "id": "618f95b5-525a-4d05-b66b-e7b8b4039ca0",
   "metadata": {},
   "outputs": [],
   "source": [
    "source_files = ['../notebooks/sample/wm_party_in_payload_format.json', '../notebooks/sample/wm_address_in_payload_format.json']"
   ]
  },
  {
   "cell_type": "code",
   "execution_count": 15,
   "id": "74652414",
   "metadata": {},
   "outputs": [],
   "source": [
    "from tqdm import tqdm\n",
    "from dataclasses import asdict\n",
    "\n",
    "\n",
    "def dump_application(source_files, target_path=\"notebooks/application\"):\n",
    "    os.makedirs(target_path, exist_ok=True)\n",
    "    for info in tqdm(source_files):\n",
    "        with open(info, 'r') as file:\n",
    "            payload = json.load(file)\n",
    "\n",
    "        payload_json = {key: payload[key] for key in sorted(payload)}\n",
    "        payload_json = PayloadLoader().load_payload_from_json(payload_json)\n",
    "        payload_json['match_ids'] = [i for i in range(len(payload_json[\"watchlistParty\"][cn.MATCH_RECORDS]))]\n",
    "        payload = pipeline.transform_standardized_to_cleansed(payload_json)\n",
    "        new_payloads = pipeline.transform_cleansed_to_application(payload)\n",
    "\n",
    "        for i in new_payloads:\n",
    "            for m in i['alertedParty']['inputRecordHist']['inputRecords']:\n",
    "                for key in m['INPUT_FIELD']:\n",
    "                    m['INPUT_FIELD'][key] = asdict(m['INPUT_FIELD'][key])\n",
    "\n",
    "        with open(os.path.join(target_path, \"application_\" + os.path.basename(info)), 'w') as file:\n",
    "            json.dump(new_payloads, file)\n",
    "\n",
    "    \n",
    "            \n",
    "    "
   ]
  },
  {
   "cell_type": "code",
   "execution_count": 16,
   "id": "1aa38495-cb26-496e-9834-edeed51ccbf5",
   "metadata": {},
   "outputs": [
    {
     "name": "stderr",
     "output_type": "stream",
     "text": [
      "100%|██████████| 2/2 [00:00<00:00, 68.14it/s]\n"
     ]
    }
   ],
   "source": [
    "dump_application(source_files)"
   ]
  },
  {
   "cell_type": "code",
   "execution_count": 18,
   "id": "a6efac81-6b64-4d7a-b03d-af5408ea7a20",
   "metadata": {},
   "outputs": [],
   "source": [
    "out_payload = pd.DataFrame([match for payload in new_payloads   for match in payload['watchlistParty']['matchRecords']])\n",
    "\n",
    "out_payload[[i for i in out_payload.columns  if i.endswith(\"_aggregated\")]]"
   ]
  }
 ],
 "metadata": {
  "kernelspec": {
   "display_name": "Python 3",
   "language": "python",
   "name": "python3"
  },
  "language_info": {
   "codemirror_mode": {
    "name": "ipython",
    "version": 3
   },
   "file_extension": ".py",
   "mimetype": "text/x-python",
   "name": "python",
   "nbconvert_exporter": "python",
   "pygments_lexer": "ipython3",
   "version": "3.6.13"
  }
 },
 "nbformat": 4,
 "nbformat_minor": 5
}
