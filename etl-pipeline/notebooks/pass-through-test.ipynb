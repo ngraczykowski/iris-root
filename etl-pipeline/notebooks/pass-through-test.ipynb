{
 "cells": [
  {
   "cell_type": "code",
   "execution_count": 1,
   "id": "f79d0256",
   "metadata": {},
   "outputs": [],
   "source": [
    "import os\n",
    "import glob\n",
    "\n",
    "os.environ[\"CONFIG_APP_DIR\"] = \"tests/test_custom/config_app/\""
   ]
  },
  {
   "cell_type": "code",
   "execution_count": 2,
   "id": "1343ebdb",
   "metadata": {},
   "outputs": [],
   "source": [
    "import sys\n",
    "import pickle\n",
    "os.chdir(\"..\")\n",
    "from omegaconf import OmegaConf\n",
    "from etl_pipeline.config import pipeline_config\n",
    "from etl_pipeline.custom.ms.payload_loader import PayloadLoader\n",
    "\n",
    "import json\n",
    "from etl_pipeline.data_processor_engine.json_engine.json_engine import JsonProcessingEngine"
   ]
  },
  {
   "cell_type": "code",
   "execution_count": 3,
   "id": "409d0407",
   "metadata": {},
   "outputs": [],
   "source": [
    "from etl_pipeline.config import columns_namespace as cn"
   ]
  },
  {
   "cell_type": "code",
   "execution_count": 4,
   "id": "1168917f",
   "metadata": {},
   "outputs": [],
   "source": [
    "ETL_SAMPLES_PATH = '/v/region/na/appl/itlnc/s8/data/uat/silent8/name-screening/etl_samples/complete_info/'"
   ]
  },
  {
   "cell_type": "code",
   "execution_count": 5,
   "id": "4d8fd040",
   "metadata": {},
   "outputs": [],
   "source": [
    "DATASET_NAME = 'WM' # 'ISG_Daily' # 'WM' # 'ISG_Weekly \n",
    "DATASET_TYPE =  'Address' # 'Address' # Party # Account\n",
    "DATASET = DATASET_NAME + '_' + DATASET_TYPE"
   ]
  },
  {
   "cell_type": "code",
   "execution_count": 6,
   "id": "ea3c09ff",
   "metadata": {},
   "outputs": [],
   "source": [
    "complete_info = glob.glob(ETL_SAMPLES_PATH + DATASET + '/*.json')"
   ]
  },
  {
   "cell_type": "markdown",
   "id": "ab04016f-b58d-4c8a-8775-a4a352e4ede0",
   "metadata": {},
   "source": [
    "### Testing flow"
   ]
  },
  {
   "cell_type": "code",
   "execution_count": 16,
   "id": "46a58377-8c4f-47ad-b2d2-7c330c0146c8",
   "metadata": {},
   "outputs": [],
   "source": [
    "from pipelines.ms.wm_address_pipeline import MSPipeline\n",
    "\n",
    "engine = JsonProcessingEngine(pipeline_config)\n",
    "pipeline = MSPipeline(engine, config=pipeline_config)"
   ]
  },
  {
   "cell_type": "code",
   "execution_count": 28,
   "id": "67778766-899d-45f4-b525-024c595ac4eb",
   "metadata": {},
   "outputs": [],
   "source": [
    "with open(f'notebooks/sample/wm_party_in_payload_format.json', 'r') as file:\n",
    "    payload = json.loads(file.read())\n",
    "\n",
    "payload_json = {key: payload[key] for key in sorted(payload)}\n",
    "payload_json = PayloadLoader().load_payload_from_json(payload_json)\n",
    "\n",
    "\n",
    "payload_json['match_ids'] = [i for i in range(len(payload_json[\"watchlistParty\"][cn.MATCH_RECORDS]))]\n"
   ]
  },
  {
   "cell_type": "code",
   "execution_count": 29,
   "id": "18f77d8c-b8a0-4cfe-887d-947a0d2277e9",
   "metadata": {},
   "outputs": [
    {
     "name": "stdout",
     "output_type": "stream",
     "text": [
      "2022-03-24 14:24:00,488 — ETL Pipeline — ERROR — Field {'ap': ['ALL_PARTY_DOBS'], 'wl': ['matchRecords.WL_DOB']} does not exist in payload\n",
      "2022-03-24 14:24:00,489 — ETL Pipeline — ERROR — Field {'ap': ['ALL_TAX_IDS', 'PARTY1_GOVTID1_NUMBER', 'PARTY1_GOVTID2_NUMBER'], 'wl': ['matchRecords.WL_DOCUMENT_NUMBER']} does not exist in payload\n",
      "2022-03-24 14:24:00,489 — ETL Pipeline — ERROR — Field {'ap': ['ALL_PARTY_EMPLOYERS'], 'wl': ['matchRecords.WL_NAME', 'matchRecords.WL_ALIASES']} does not exist in payload\n",
      "2022-03-24 14:24:00,489 — ETL Pipeline — ERROR — Field {'ap': ['ALL_PARTY_NAMES'], 'wl': ['matchRecords.WL_NAME', 'matchRecords.WL_ALIASES']} does not exist in payload\n",
      "2022-03-24 14:24:00,490 — ETL Pipeline — ERROR — Field {'ap': ['ALL_PARTY_TYPES'], 'wl': ['matchRecords.WLP_TYPE']} does not exist in payload\n",
      "2022-03-24 14:24:00,490 — ETL Pipeline — ERROR — Field {'ap': ['ALL_PARTY_BIRTH_COUNTRIES', 'ALL_PARTY_COUNTRY'], 'wl': ['matchRecords.WL_COUNTRY', 'matchRecords.WL_COUNTRYNAME', 'matchRecords.WL_NAME', 'matchRecords.WL_POB', 'matchRecords.WL_NATIONALITY']} does not exist in payload\n",
      "2022-03-24 14:24:00,491 — ETL Pipeline — ERROR — Field {'ap': ['ALL_PARTY_COUNTRY', 'ALL_PARTY_CITIZENSHIP_COUNTRIES', 'PARTY1_COUNTRY2_CITIZENSHIP', 'PRTY_PRIM_CTZNSH_CNTRY', 'PRTY_RSDNC_CNTRY_CD', 'PARTY1_COUNTRY_DOMICILE1', 'PARTY1_COUNTRY_PEP', 'PARTY1_COUNTRY_OF_INCORPORATION'], 'wl': ['matchRecords.WL_COUNTRY', 'matchRecords.WL_COUNTRYNAME']} does not exist in payload\n",
      "2022-03-24 14:24:00,492 — ETL Pipeline — ERROR — Field {'ap': ['PARTY1_COUNTRY', 'PARTY1_COUNTRY1', 'PARTY1_ADDRESS1_COUNTRY', 'PARTY1_COUNTRY1_CITIZENSHIP', 'PARTY1_COUNTRY2_CITIZENSHIP', 'PARTY1_COUNTRY_FORMATION1', 'PARTY1_COUNTRY_DOMICILE1', 'PARTY1_COUNTRY_OF_INCORPORATION'], 'wl': ['matchRecords.WL_COUNTRY', 'matchRecords.WL_COUNTRYNAME', 'matchRecords.WL_NAME']} does not exist in payload\n"
     ]
    },
    {
     "ename": "KeyError",
     "evalue": "'WL_DOB'",
     "output_type": "error",
     "traceback": [
      "\u001b[0;31m---------------------------------------------------------------------------\u001b[0m",
      "\u001b[0;31mKeyError\u001b[0m                                  Traceback (most recent call last)",
      "\u001b[0;32m/tmp/ipykernel_282283/3750396948.py\u001b[0m in \u001b[0;36m<module>\u001b[0;34m\u001b[0m\n\u001b[1;32m      1\u001b[0m \u001b[0mpayload\u001b[0m \u001b[0;34m=\u001b[0m \u001b[0mpipeline\u001b[0m\u001b[0;34m.\u001b[0m\u001b[0mtransform_standardized_to_cleansed\u001b[0m\u001b[0;34m(\u001b[0m\u001b[0mpayload_json\u001b[0m\u001b[0;34m)\u001b[0m\u001b[0;34m\u001b[0m\u001b[0;34m\u001b[0m\u001b[0m\n\u001b[0;32m----> 2\u001b[0;31m \u001b[0mnew_payloads\u001b[0m \u001b[0;34m=\u001b[0m \u001b[0mpipeline\u001b[0m\u001b[0;34m.\u001b[0m\u001b[0mtransform_cleansed_to_application\u001b[0m\u001b[0;34m(\u001b[0m\u001b[0mpayload\u001b[0m\u001b[0;34m)\u001b[0m\u001b[0;34m\u001b[0m\u001b[0;34m\u001b[0m\u001b[0m\n\u001b[0m",
      "\u001b[0;32m/app/pipelines/ms/wm_address_pipeline.py\u001b[0m in \u001b[0;36mtransform_cleansed_to_application\u001b[0;34m(self, payloads)\u001b[0m\n\u001b[1;32m    226\u001b[0m                     \u001b[0mmatch\u001b[0m\u001b[0;34m,\u001b[0m\u001b[0;34m\u001b[0m\u001b[0;34m\u001b[0m\u001b[0m\n\u001b[1;32m    227\u001b[0m                     \u001b[0mconfig\u001b[0m\u001b[0;34m,\u001b[0m\u001b[0;34m\u001b[0m\u001b[0;34m\u001b[0m\u001b[0m\n\u001b[0;32m--> 228\u001b[0;31m                     \u001b[0;32mFalse\u001b[0m\u001b[0;34m,\u001b[0m\u001b[0;34m\u001b[0m\u001b[0;34m\u001b[0m\u001b[0m\n\u001b[0m\u001b[1;32m    229\u001b[0m                 )\n\u001b[1;32m    230\u001b[0m                 match.update(\n",
      "\u001b[0;32m/app/etl_pipeline/data_processor_engine/json_engine/json_engine.py\u001b[0m in \u001b[0;36msql_to_merge_specific_columns_to_standardized\u001b[0;34m(self, agent_config, match_record, mapper, aggregated)\u001b[0m\n\u001b[1;32m    311\u001b[0m             \u001b[0;32mfor\u001b[0m \u001b[0mtarget_col\u001b[0m\u001b[0;34m,\u001b[0m \u001b[0msource_cols\u001b[0m \u001b[0;32min\u001b[0m \u001b[0mconfig\u001b[0m\u001b[0;34m.\u001b[0m\u001b[0mitems\u001b[0m\u001b[0;34m(\u001b[0m\u001b[0;34m)\u001b[0m\u001b[0;34m:\u001b[0m\u001b[0;34m\u001b[0m\u001b[0;34m\u001b[0m\u001b[0m\n\u001b[1;32m    312\u001b[0m                 sql_expr = self.merge_to_target_col_from_source_cols_sql_expression(\n\u001b[0;32m--> 313\u001b[0;31m                     \u001b[0mtarget_col\u001b[0m\u001b[0;34m,\u001b[0m \u001b[0msource_cols\u001b[0m\u001b[0;34m,\u001b[0m \u001b[0mmapper\u001b[0m\u001b[0;34m,\u001b[0m \u001b[0maggregated\u001b[0m\u001b[0;34m\u001b[0m\u001b[0;34m\u001b[0m\u001b[0m\n\u001b[0m\u001b[1;32m    314\u001b[0m                 )\n\u001b[1;32m    315\u001b[0m                 \u001b[0mmatch_record\u001b[0m\u001b[0;34m.\u001b[0m\u001b[0mupdate\u001b[0m\u001b[0;34m(\u001b[0m\u001b[0msql_expr\u001b[0m\u001b[0;34m)\u001b[0m\u001b[0;34m\u001b[0m\u001b[0;34m\u001b[0m\u001b[0m\n",
      "\u001b[0;32m/app/etl_pipeline/data_processor_engine/json_engine/json_engine.py\u001b[0m in \u001b[0;36mmerge_to_target_col_from_source_cols_sql_expression\u001b[0;34m(self, target_col, source_cols, mapper, return_array)\u001b[0m\n\u001b[1;32m    291\u001b[0m             \u001b[0mvalue\u001b[0m \u001b[0;34m=\u001b[0m \u001b[0;34m[\u001b[0m\u001b[0mmapper\u001b[0m\u001b[0;34m[\u001b[0m\u001b[0mvalid_source_col\u001b[0m\u001b[0;34m]\u001b[0m \u001b[0;32mfor\u001b[0m \u001b[0mvalid_source_col\u001b[0m \u001b[0;32min\u001b[0m \u001b[0msource_cols\u001b[0m\u001b[0;34m]\u001b[0m\u001b[0;34m\u001b[0m\u001b[0;34m\u001b[0m\u001b[0m\n\u001b[1;32m    292\u001b[0m         \u001b[0;32melif\u001b[0m \u001b[0mlen\u001b[0m\u001b[0;34m(\u001b[0m\u001b[0msource_cols\u001b[0m\u001b[0;34m)\u001b[0m \u001b[0;34m==\u001b[0m \u001b[0;36m1\u001b[0m\u001b[0;34m:\u001b[0m\u001b[0;34m\u001b[0m\u001b[0;34m\u001b[0m\u001b[0m\n\u001b[0;32m--> 293\u001b[0;31m             \u001b[0mvalue\u001b[0m \u001b[0;34m=\u001b[0m \u001b[0mmapper\u001b[0m\u001b[0;34m[\u001b[0m\u001b[0msource_cols\u001b[0m\u001b[0;34m[\u001b[0m\u001b[0;36m0\u001b[0m\u001b[0;34m]\u001b[0m\u001b[0;34m]\u001b[0m\u001b[0;34m\u001b[0m\u001b[0;34m\u001b[0m\u001b[0m\n\u001b[0m\u001b[1;32m    294\u001b[0m             \u001b[0;32mif\u001b[0m \u001b[0mreturn_array\u001b[0m\u001b[0;34m:\u001b[0m\u001b[0;34m\u001b[0m\u001b[0;34m\u001b[0m\u001b[0m\n\u001b[1;32m    295\u001b[0m                 \u001b[0mvalue\u001b[0m \u001b[0;34m=\u001b[0m \u001b[0;34m[\u001b[0m\u001b[0mvalue\u001b[0m\u001b[0;34m]\u001b[0m\u001b[0;34m\u001b[0m\u001b[0;34m\u001b[0m\u001b[0m\n",
      "\u001b[0;31mKeyError\u001b[0m: 'WL_DOB'"
     ]
    }
   ],
   "source": [
    "payload = pipeline.transform_standardized_to_cleansed(payload_json)\n",
    "new_payloads = pipeline.transform_cleansed_to_application(payload)"
   ]
  },
  {
   "cell_type": "code",
   "execution_count": 22,
   "id": "0a8b53c2-45a9-4880-8846-a40860d69371",
   "metadata": {},
   "outputs": [],
   "source": [
    "import pandas as pd"
   ]
  },
  {
   "cell_type": "code",
   "execution_count": 25,
   "id": "265a3d41-21ed-42bc-bf05-20857f0c7d8f",
   "metadata": {},
   "outputs": [],
   "source": [
    "out_payload = pd.DataFrame([match for payload in new_payloads   for match in payload['watchlistParty']['matchRecords']])"
   ]
  },
  {
   "cell_type": "code",
   "execution_count": 26,
   "id": "71fed960-6b1a-4036-9175-da421f644124",
   "metadata": {},
   "outputs": [
    {
     "data": {
      "text/html": [
       "<div>\n",
       "<style scoped>\n",
       "    .dataframe tbody tr th:only-of-type {\n",
       "        vertical-align: middle;\n",
       "    }\n",
       "\n",
       "    .dataframe tbody tr th {\n",
       "        vertical-align: top;\n",
       "    }\n",
       "\n",
       "    .dataframe thead th {\n",
       "        text-align: right;\n",
       "    }\n",
       "</style>\n",
       "<table border=\"1\" class=\"dataframe\">\n",
       "  <thead>\n",
       "    <tr style=\"text-align: right;\">\n",
       "      <th></th>\n",
       "      <th>ap_all_dobs_aggregated</th>\n",
       "      <th>wl_all_dobs_aggregated</th>\n",
       "      <th>ap_all_nationalities_aggregated</th>\n",
       "      <th>wl_all_nationalities_aggregated</th>\n",
       "      <th>ap_all_residencies_aggregated</th>\n",
       "      <th>wl_all_residencies_aggregated</th>\n",
       "    </tr>\n",
       "  </thead>\n",
       "  <tbody>\n",
       "    <tr>\n",
       "      <th>0</th>\n",
       "      <td>[02/31/1900, 04/31/1910]</td>\n",
       "      <td>[MAY 6, 1981, //]</td>\n",
       "      <td>[]</td>\n",
       "      <td>[US]</td>\n",
       "      <td>[UNITED STATES OF AMERICA]</td>\n",
       "      <td>[US]</td>\n",
       "    </tr>\n",
       "    <tr>\n",
       "      <th>1</th>\n",
       "      <td>[02/31/1900, 04/31/1910]</td>\n",
       "      <td>[MAY 6, 1981, //]</td>\n",
       "      <td>[]</td>\n",
       "      <td>[PL, Poland]</td>\n",
       "      <td>[UNITED STATES OF AMERICA]</td>\n",
       "      <td>[PL]</td>\n",
       "    </tr>\n",
       "  </tbody>\n",
       "</table>\n",
       "</div>"
      ],
      "text/plain": [
       "     ap_all_dobs_aggregated wl_all_dobs_aggregated  \\\n",
       "0  [02/31/1900, 04/31/1910]      [MAY 6, 1981, //]   \n",
       "1  [02/31/1900, 04/31/1910]      [MAY 6, 1981, //]   \n",
       "\n",
       "  ap_all_nationalities_aggregated wl_all_nationalities_aggregated  \\\n",
       "0                              []                            [US]   \n",
       "1                              []                    [PL, Poland]   \n",
       "\n",
       "  ap_all_residencies_aggregated wl_all_residencies_aggregated  \n",
       "0    [UNITED STATES OF AMERICA]                          [US]  \n",
       "1    [UNITED STATES OF AMERICA]                          [PL]  "
      ]
     },
     "execution_count": 26,
     "metadata": {},
     "output_type": "execute_result"
    }
   ],
   "source": [
    "out_payload[[i for i in out_payload.columns  if i.endswith(\"_aggregated\")]]"
   ]
  },
  {
   "cell_type": "markdown",
   "id": "ba5aaa43",
   "metadata": {
    "tags": []
   },
   "source": [
    "# check all test jsons - You need to customize it - please copy paste code from the above class definition"
   ]
  },
  {
   "cell_type": "code",
   "execution_count": null,
   "id": "74652414",
   "metadata": {},
   "outputs": [],
   "source": [
    "from tqdm import tqdm\n",
    "for info in tqdm(complete_info):\n",
    "    # print('\\n' + os.path.split(info)[1])\n",
    "    with open(info, 'r') as file:\n",
    "        payload = json.load(file)\n",
    "    \n",
    "    \n",
    "    \n",
    "    \n",
    "            \n",
    "    '''for payload in new_payloads:\n",
    "        # print('p')\n",
    "        for match in payload['alert']['matchRecords']:\n",
    "            # print('match')\n",
    "            # print(\"++++++++\")\n",
    "            # print(match[\"ap_all_dobs_aggregated\"], match[\"wl_all_dobs_aggregated\"])\n",
    "            try:\n",
    "                ap = match[\"ap_all_residencies_aggregated\"]\n",
    "                wl = match[\"wl_all_residencies_aggregated\"]\n",
    "            except:\n",
    "                break'''\n"
   ]
  },
  {
   "cell_type": "code",
   "execution_count": null,
   "id": "79d3cde6",
   "metadata": {},
   "outputs": [],
   "source": []
  },
  {
   "cell_type": "code",
   "execution_count": null,
   "id": "9f60f77a",
   "metadata": {},
   "outputs": [],
   "source": []
  }
 ],
 "metadata": {
  "kernelspec": {
   "display_name": "Python 3 (ipykernel)",
   "language": "python",
   "name": "python3"
  },
  "language_info": {
   "codemirror_mode": {
    "name": "ipython",
    "version": 3
   },
   "file_extension": ".py",
   "mimetype": "text/x-python",
   "name": "python",
   "nbconvert_exporter": "python",
   "pygments_lexer": "ipython3",
   "version": "3.7.11"
  }
 },
 "nbformat": 4,
 "nbformat_minor": 5
}
