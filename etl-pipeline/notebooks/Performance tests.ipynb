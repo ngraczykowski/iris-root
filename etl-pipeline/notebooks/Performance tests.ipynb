{
 "cells": [
  {
   "cell_type": "code",
   "execution_count": 4,
   "id": "a5fe6b7c",
   "metadata": {},
   "outputs": [],
   "source": [
    "import os\n",
    "os.chdir(\"..\")\n",
    "\n",
    "import os\n",
    "\n",
    "os.environ[\"CONFIG_APP_DIR\"] = \"config\"\n",
    "import json\n",
    "import re\n",
    "\n",
    "import random\n",
    "\n",
    "random.randint(1, 100000)\n",
    "\n",
    "from etl_pipeline.service.proto.api.etl_pipeline_pb2_grpc import EtlPipelineServiceStub\n",
    "from etl_pipeline.config import ConsulServiceConfig\n",
    "from etl_pipeline.service.proto.api.etl_pipeline_pb2 import (\n",
    "    FAILURE,\n",
    "    SUCCESS,\n",
    "    Alert,\n",
    "    Match,\n",
    "    RunEtlRequest,\n",
    ")\n",
    "\n",
    "\n",
    "def load_alert(filepath: str = \"notebooks/sample/wm_address_in_payload_format.json\"):\n",
    "    with open(filepath, \"r\") as f:\n",
    "        text = json.load(f)\n",
    "        ids = [\n",
    "            text[i]\n",
    "            for key in text\n",
    "            for i in re.compile(r\".*matchRecords\\[\\d+\\].matchId.*\").findall(key)\n",
    "            if i\n",
    "        ]\n",
    "        matches_ids = [\n",
    "            Match(match_id=i, match_name=f\"alerts/2/matches/{random.randint(1, 100000)}\") for num, i in enumerate(ids)\n",
    "        ]\n",
    "        alert = Alert(batch_id=\"1\", alert_name=\"alerts/2\", matches=matches_ids)\n",
    "        for key, value in text.items():\n",
    "            alert.flat_payload[str(key)] = str(value)\n",
    "    return alert\n",
    "\n",
    "request_alert = load_alert(\"notebooks/sample/big_fat_flat_payload.json\")"
   ]
  },
  {
   "cell_type": "code",
   "execution_count": 5,
   "id": "5e774725",
   "metadata": {},
   "outputs": [],
   "source": [
    "import grpc\n",
    "service_config = ConsulServiceConfig()\n",
    "with open(service_config.grpc_client_tls_ca, \"rb\") as f:\n",
    "    ca = f.read()\n",
    "with open(service_config.grpc_client_tls_private_key, \"rb\") as f:\n",
    "    private_key = f.read()\n",
    "with open(service_config.grpc_client_tls_public_key_chain, \"rb\") as f:\n",
    "    certificate_chain = f.read()\n",
    "server_credentials = grpc.ssl_channel_credentials(ca, private_key, certificate_chain)\n",
    "channel = grpc.insecure_channel(\"localhost:9090\")"
   ]
  },
  {
   "cell_type": "code",
   "execution_count": 6,
   "id": "609178c6",
   "metadata": {},
   "outputs": [
    {
     "name": "stdout",
     "output_type": "stream",
     "text": [
      "5.56 s ± 694 ms per loop (mean ± std. dev. of 7 runs, 1 loop each)\n"
     ]
    },
    {
     "data": {
      "text/plain": [
       "45.5222954750061"
      ]
     },
     "execution_count": 6,
     "metadata": {},
     "output_type": "execute_result"
    }
   ],
   "source": [
    "import grpc\n",
    "# channel = grpc.insecure_channel(\"localhost:9090\",  options=[\n",
    "#             (\"grpc.max_send_message_length\", 27838500),\n",
    "#             (\"grpc.max_receive_message_length\", 27838500),\n",
    "#         ])\n",
    "stub = EtlPipelineServiceStub(channel)\n",
    "from time import time\n",
    "start= time()\n",
    "%timeit \n",
    "time() - start"
   ]
  },
  {
   "cell_type": "code",
   "execution_count": 12,
   "id": "a9d826e4",
   "metadata": {},
   "outputs": [],
   "source": [
    "response = stub.RunEtl(RunEtlRequest(alerts=[load_alert(\"notebooks/sample/big_fat_flat_payload.json\") for i in range(1)]), timeout=60)"
   ]
  },
  {
   "cell_type": "code",
   "execution_count": 11,
   "id": "9c379957",
   "metadata": {},
   "outputs": [
    {
     "ename": "AttributeError",
     "evalue": "status",
     "output_type": "error",
     "traceback": [
      "\u001b[0;31m---------------------------------------------------------------------------\u001b[0m",
      "\u001b[0;31mAttributeError\u001b[0m                            Traceback (most recent call last)",
      "\u001b[0;32m/tmp/ipykernel_443706/3492924166.py\u001b[0m in \u001b[0;36m<module>\u001b[0;34m\u001b[0m\n\u001b[0;32m----> 1\u001b[0;31m \u001b[0mresponse\u001b[0m\u001b[0;34m.\u001b[0m\u001b[0mstatus\u001b[0m\u001b[0;34m\u001b[0m\u001b[0;34m\u001b[0m\u001b[0m\n\u001b[0m",
      "\u001b[0;31mAttributeError\u001b[0m: status"
     ]
    }
   ],
   "source": [
    "response.status"
   ]
  },
  {
   "cell_type": "code",
   "execution_count": 28,
   "id": "f6dd2bc4",
   "metadata": {},
   "outputs": [],
   "source": [
    "from itertools import zip_longest\n",
    "def grouper(iterable, n, fillvalue=None):\n",
    "    args = [iter(iterable)] * n\n",
    "    return zip_longest(*args, fillvalue=fillvalue)"
   ]
  },
  {
   "cell_type": "code",
   "execution_count": 29,
   "id": "70e8875b",
   "metadata": {},
   "outputs": [
    {
     "data": {
      "text/plain": [
       "[(1, 3, (1, 2))]"
      ]
     },
     "execution_count": 29,
     "metadata": {},
     "output_type": "execute_result"
    }
   ],
   "source": [
    "list(zip([1,2], [3,4], grouper([1,2], 2)))"
   ]
  },
  {
   "cell_type": "code",
   "execution_count": 1,
   "id": "0bdf57dd",
   "metadata": {},
   "outputs": [],
   "source": [
    "def load_alert(filepath: str = \"notebooks/sample/wm_address_in_payload_format.json\"):\n",
    "    with open(filepath, \"r\") as f:\n",
    "        text = json.load(f)\n",
    "        import pdb; pdb.set_trace()\n",
    "        matches = [Match(match_id=\"0\", match_name=f\"alerts/2/matches/{num}\")for num, _ in enumerate([re.findall(r\"matchRecords\\[\\d+\\]\", key)[0] for key in text if re.search(r\"matchRecords\\[\\d+\\]\", key)])]\n",
    "        alert = Alert(batch_id=\"1\", alert_name=\"alerts/2\", matches=matches)\n",
    "        for key, value in text.items():\n",
    "            alert.flat_payload[str(key)] = str(value)\n",
    "    return alert\n"
   ]
  },
  {
   "cell_type": "code",
   "execution_count": 2,
   "id": "5542d85c",
   "metadata": {},
   "outputs": [
    {
     "ename": "FileNotFoundError",
     "evalue": "[Errno 2] No such file or directory: 'notebooks/sample/wm_address_in_payload_format.json'",
     "output_type": "error",
     "traceback": [
      "\u001b[0;31m---------------------------------------------------------------------------\u001b[0m",
      "\u001b[0;31mFileNotFoundError\u001b[0m                         Traceback (most recent call last)",
      "\u001b[0;32m/tmp/ipykernel_443706/1144517119.py\u001b[0m in \u001b[0;36m<module>\u001b[0;34m\u001b[0m\n\u001b[0;32m----> 1\u001b[0;31m \u001b[0;32mwith\u001b[0m \u001b[0mopen\u001b[0m\u001b[0;34m(\u001b[0m\u001b[0;34m\"notebooks/sample/wm_address_in_payload_format.json\"\u001b[0m\u001b[0;34m,\u001b[0m \u001b[0;34m\"r\"\u001b[0m\u001b[0;34m)\u001b[0m \u001b[0;32mas\u001b[0m \u001b[0mf\u001b[0m\u001b[0;34m:\u001b[0m\u001b[0;34m\u001b[0m\u001b[0;34m\u001b[0m\u001b[0m\n\u001b[0m\u001b[1;32m      2\u001b[0m         \u001b[0mtext\u001b[0m \u001b[0;34m=\u001b[0m \u001b[0mjson\u001b[0m\u001b[0;34m.\u001b[0m\u001b[0mload\u001b[0m\u001b[0;34m(\u001b[0m\u001b[0mf\u001b[0m\u001b[0;34m)\u001b[0m\u001b[0;34m\u001b[0m\u001b[0;34m\u001b[0m\u001b[0m\n\u001b[1;32m      3\u001b[0m \u001b[0;34m\u001b[0m\u001b[0m\n",
      "\u001b[0;31mFileNotFoundError\u001b[0m: [Errno 2] No such file or directory: 'notebooks/sample/wm_address_in_payload_format.json'"
     ]
    }
   ],
   "source": [
    "with open(\"notebooks/sample/wm_address_in_payload_format.json\", \"r\") as f:\n",
    "        text = json.load(f)\n",
    "        "
   ]
  },
  {
   "cell_type": "code",
   "execution_count": 14,
   "id": "64695d45",
   "metadata": {},
   "outputs": [],
   "source": [
    "import re"
   ]
  },
  {
   "cell_type": "code",
   "execution_count": 32,
   "id": "ce9a7d49",
   "metadata": {},
   "outputs": [
    {
     "data": {
      "text/plain": [
       "['49159509', '49159506']"
      ]
     },
     "execution_count": 32,
     "metadata": {},
     "output_type": "execute_result"
    }
   ],
   "source": []
  },
  {
   "cell_type": "code",
   "execution_count": 16,
   "id": "390669c2",
   "metadata": {},
   "outputs": [
    {
     "data": {
      "text/plain": [
       "[match_id: \"0\"\n",
       " match_name: \"alerts/2/matches/0\",\n",
       " match_id: \"0\"\n",
       " match_name: \"alerts/2/matches/1\"]"
      ]
     },
     "execution_count": 16,
     "metadata": {},
     "output_type": "execute_result"
    }
   ],
   "source": [
    "matches"
   ]
  }
 ],
 "metadata": {
  "kernelspec": {
   "display_name": "Python 3 (ipykernel)",
   "language": "python",
   "name": "python3"
  },
  "language_info": {
   "codemirror_mode": {
    "name": "ipython",
    "version": 3
   },
   "file_extension": ".py",
   "mimetype": "text/x-python",
   "name": "python",
   "nbconvert_exporter": "python",
   "pygments_lexer": "ipython3",
   "version": "3.7.5"
  }
 },
 "nbformat": 4,
 "nbformat_minor": 5
}
