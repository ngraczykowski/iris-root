{
 "cells": [
  {
   "cell_type": "code",
   "execution_count": null,
   "id": "9ad13c1f",
   "metadata": {},
   "outputs": [
    {
     "name": "stdout",
     "output_type": "stream",
     "text": [
      "{'dataset': 'learning_quality', 'input_files_dir': 'inputs', 'artifact_files_dir': 'artifacts', 'crucial_artifact_files_dir': 'crucial_artifacts', 'exportable_files_dir': 'exportable', 'tmp_dir': 'tmp', 'processing_pool_size': 10, 'customer_specific': {'agents': {'name': {'data_availability': {'agent_input': 'agent-name-inputs.csv', 'fields': {'alerted_party_field': 'ad_alerted_name', 'watchlist_field': 'ad_matched_name'}, 'crucial_artifact': 'agent-name-availability.csv'}, 'artifact_file': 'agent-name-results.csv', 'tuning_report_path': 'agent-name-tuning-report.csv'}, 'dob': {'data_availability': {'agent_input': 'agent-dob-inputs.csv', 'fields': {'alerted_party_field': 'ad_alerted_dob', 'watchlist_field': 'ad_matched_dob'}, 'crucial_artifact': 'agent-dob-availability.csv'}, 'artifact_file': 'agent-dob-results.csv'}, 'nationality': {'data_availability': {'agent_input': 'agent-nationality-inputs.csv', 'fields': {'alerted_party_field': 'ad_alerted_nationality', 'watchlist_field': 'ad_matched_nationality'}, 'crucial_artifact': 'agent-nationality-availability.csv'}, 'artifact_file': 'agent-nationality-results.csv'}, 'shoe-size': {'data_availability': {'agent_input': 'agent-shoe-size-inputs.csv', 'fields': {'alerted_party_field': 'ad_alerted_shoe_size', 'watchlist_field': 'ad_matched_shoe_size'}, 'crucial_artifact': 'agent-shoe-size-availability.csv'}, 'artifact_file': 'agent-shoe-size-results.csv'}, 'eye-color': {'data_availability': {'agent_input': 'agent-eye-color-inputs.csv', 'assume_resolvable': True, 'mock_agent': True, 'crucial_artifact': 'eye-color-availability.csv'}, 'artifact_file': 'eye-color-results.csv'}}, 'analyst_resoning_config_file': 'analyst-reasoning-config.ini', 'coverage_score_config_file': 'coverage-score-config.ini', 'external_analyst_sentiments_files': ['external_sample_sentiments.csv'], 'sentiment_blacklists': {'shoe-size': ['missing']}, 'csv_options': {'quote': \"'\", 'escape': '\\\\', 'delimiter': ','}, 'documented_business_questions': ['customer_type', 'is_deny']}, 'input_files': {'filtered_customer_alerts_path': 'filtered-customer-alerts.csv', 'alert_comments_path': 'alert-comments.csv', 'hit_comments_path': 'hit-comments.csv', 'documented_business_questions_path': 'documented-business-questions.csv', 'documented_business_data_path': 'documented-business-data.csv', 'hit_level_analyst_solutions_path': 'hit-level-analyst-solutions.csv', 'hit_level_recommendations_path': 'hit-level-recommendations.csv'}, 'artifact_files': {'commented_business_questions_path': 'commented-business-questions.csv', 'commented_business_sentiments_path': 'commented-business-sentiments.csv', 'all_business_questions_path': 'all-business-questions.csv', 'resolvability_report_path': 'resolvability-report.csv', 'reasoning_branches_path': 'reasoning-branches.csv', 'analyst_results_path': 'analyst-results.csv', 'merged_results_and_solutions_path': 'merged-results-and-solutions.csv'}, 'crucial_artifact_files': {'agents_impact_path': 'agents-impact.csv', 'theoretical_ceiling_path': 'theoretical-ceiling.csv', 'agent_data_availability_path': 'agent-data-availability.csv', 'dad_report_path': 'dad-report.csv', 'current_ceiling_path': 'current-ceiling.csv', 'rb_scorer_report_path': 'rb-scorer-report.csv', 'efficiency_report_path': 'efficiency-report.csv', 'efficiency_history_report_path': 'efficiency-history-report.csv', 'accuracy_report_path': 'accuracy-report.csv', 'false_negative_report_path': 'false-negative-report.csv', 'ai_reasoning_report_path': 'ai-reasoning-report.csv', 'data_availability_analysis': 'data-availability-analysis.csv'}, 'exportable_files': {'dad_report': {'source_dir_property': 'crucial_artifact_files_dir', 'file': 'dad-report.csv', 'without_columns': ['unique_key', 'suspect_id', 'comment']}, 'theoretical_ceiling': {'source_dir_property': 'crucial_artifact_files_dir', 'file': 'theoretical-ceiling.csv'}, 'current_ceiling': {'source_dir_property': 'crucial_artifact_files_dir', 'file': 'current-ceiling.csv'}, 'resolvability_report': {'source_dir_property': 'artifact_files_dir', 'file': 'resolvability-report.csv', 'without_columns': ['unique_key', 'suspect_id', 'comment']}, 'merged_results_and_solutions': {'source_dir_property': 'artifact_files_dir', 'file': 'merged-results-and-solutions.csv', 'without_columns': ['unique_key', 'suspect_id', 'comment']}}, 'spark': {'master': 'local[2]', 'app-name': 'main-pipeline', 'config': {'spark.executor.memory': '512m', 'spark.driver.memory': '4g'}}, 'serp': {'python_client': {'cert': {'user_chain': '../cert/user/user-chain.pem', 'user_key': '../cert/user/user-key.pem', 'ca_certs': '../cert/ca-certs.pem'}, 'consul': {'host': 'localhost', 'port': 24120}}}, 'pipeline': {'name': 'simple', 'result_dir': 'notebooks-outputs/', 'notebooks_path': 'notebooks', 'steps': ['1.0-CS-filter-customer-alerts', '1.5-CS-ETL-hit-comments', '1.9-columns-usability', '2.0-G-CSC-extract-analyst-questions', '2.5-CSC-agents-from-business', '2.6-G-all-agents', '2.7-G-agents-impact', '3.0-data-availability', '3.5.EDA-analysis-of-data-availability', 'additional/3.6-CS-analysis-of-data-availability', '6.1-solve-with-name-agent', '6.2-solve-with-date-agent', '6.3-solve-with-country-agent', '6.4-solve-with-shoe-size-agent', 'additional/6.98-mock-agents-solve', '4.2-merge-agent-results-with-documented-business-data', '7.1-merge-all-business-sentiments', '7.2-merge-analyst-results-with-analyst-solutions', '7.3-RB-scorer', '8.0-agent-tuning-report', '9.0-efficiency-report', '9.1-accuracy-report', '9.2-false-negative-report', '9.3-ai-reasoning-report', 'additional/10.0-crucial-artifacts-summary', 'additional/10.1-exportable-files']}}\n",
      "{'dataset': 'learning_quality', 'input_files_dir': 'inputs', 'artifact_files_dir': 'artifacts', 'crucial_artifact_files_dir': 'crucial_artifacts', 'exportable_files_dir': 'exportable', 'tmp_dir': 'tmp', 'processing_pool_size': 10, 'customer_specific': {'agents': {'name': {'data_availability': {'agent_input': 'agent-name-inputs.csv', 'fields': {'alerted_party_field': 'ad_alerted_name', 'watchlist_field': 'ad_matched_name'}, 'crucial_artifact': 'agent-name-availability.csv'}, 'artifact_file': 'agent-name-results.csv', 'tuning_report_path': 'agent-name-tuning-report.csv'}, 'dob': {'data_availability': {'agent_input': 'agent-dob-inputs.csv', 'fields': {'alerted_party_field': 'ad_alerted_dob', 'watchlist_field': 'ad_matched_dob'}, 'crucial_artifact': 'agent-dob-availability.csv'}, 'artifact_file': 'agent-dob-results.csv'}, 'nationality': {'data_availability': {'agent_input': 'agent-nationality-inputs.csv', 'fields': {'alerted_party_field': 'ad_alerted_nationality', 'watchlist_field': 'ad_matched_nationality'}, 'crucial_artifact': 'agent-nationality-availability.csv'}, 'artifact_file': 'agent-nationality-results.csv'}, 'shoe-size': {'data_availability': {'agent_input': 'agent-shoe-size-inputs.csv', 'fields': {'alerted_party_field': 'ad_alerted_shoe_size', 'watchlist_field': 'ad_matched_shoe_size'}, 'crucial_artifact': 'agent-shoe-size-availability.csv'}, 'artifact_file': 'agent-shoe-size-results.csv'}, 'eye-color': {'data_availability': {'agent_input': 'agent-eye-color-inputs.csv', 'assume_resolvable': True, 'mock_agent': True, 'crucial_artifact': 'eye-color-availability.csv'}, 'artifact_file': 'eye-color-results.csv'}}, 'analyst_resoning_config_file': 'analyst-reasoning-config.ini', 'coverage_score_config_file': 'coverage-score-config.ini', 'external_analyst_sentiments_files': ['external_sample_sentiments.csv'], 'sentiment_blacklists': {'shoe-size': ['missing']}, 'csv_options': {'quote': \"'\", 'escape': '\\\\', 'delimiter': ','}, 'documented_business_questions': ['customer_type', 'is_deny']}, 'input_files': {'filtered_customer_alerts_path': 'filtered-customer-alerts.csv', 'alert_comments_path': 'alert-comments.csv', 'hit_comments_path': 'hit-comments.csv', 'documented_business_questions_path': 'documented-business-questions.csv', 'documented_business_data_path': 'documented-business-data.csv', 'hit_level_analyst_solutions_path': 'hit-level-analyst-solutions.csv', 'hit_level_recommendations_path': 'hit-level-recommendations.csv'}, 'artifact_files': {'commented_business_questions_path': 'commented-business-questions.csv', 'commented_business_sentiments_path': 'commented-business-sentiments.csv', 'all_business_questions_path': 'all-business-questions.csv', 'resolvability_report_path': 'resolvability-report.csv', 'reasoning_branches_path': 'reasoning-branches.csv', 'analyst_results_path': 'analyst-results.csv', 'merged_results_and_solutions_path': 'merged-results-and-solutions.csv'}, 'crucial_artifact_files': {'agents_impact_path': 'agents-impact.csv', 'theoretical_ceiling_path': 'theoretical-ceiling.csv', 'agent_data_availability_path': 'agent-data-availability.csv', 'dad_report_path': 'dad-report.csv', 'current_ceiling_path': 'current-ceiling.csv', 'rb_scorer_report_path': 'rb-scorer-report.csv', 'efficiency_report_path': 'efficiency-report.csv', 'efficiency_history_report_path': 'efficiency-history-report.csv', 'accuracy_report_path': 'accuracy-report.csv', 'false_negative_report_path': 'false-negative-report.csv', 'ai_reasoning_report_path': 'ai-reasoning-report.csv', 'data_availability_analysis': 'data-availability-analysis.csv'}, 'exportable_files': {'dad_report': {'source_dir_property': 'crucial_artifact_files_dir', 'file': 'dad-report.csv', 'without_columns': ['unique_key', 'suspect_id', 'comment']}, 'theoretical_ceiling': {'source_dir_property': 'crucial_artifact_files_dir', 'file': 'theoretical-ceiling.csv'}, 'current_ceiling': {'source_dir_property': 'crucial_artifact_files_dir', 'file': 'current-ceiling.csv'}, 'resolvability_report': {'source_dir_property': 'artifact_files_dir', 'file': 'resolvability-report.csv', 'without_columns': ['unique_key', 'suspect_id', 'comment']}, 'merged_results_and_solutions': {'source_dir_property': 'artifact_files_dir', 'file': 'merged-results-and-solutions.csv', 'without_columns': ['unique_key', 'suspect_id', 'comment']}}, 'spark': {'master': 'local[2]', 'app-name': 'main-pipeline', 'config': {'spark.executor.memory': '512m', 'spark.driver.memory': '4g'}}, 'serp': {'python_client': {'cert': {'user_chain': '../cert/user/user-chain.pem', 'user_key': '../cert/user/user-key.pem', 'ca_certs': '../cert/ca-certs.pem'}, 'consul': {'host': 'localhost', 'port': 24120}}}, 'pipeline': {'name': 'simple', 'result_dir': 'notebooks-outputs/', 'notebooks_path': 'notebooks', 'steps': ['1.0-CS-filter-customer-alerts', '1.5-CS-ETL-hit-comments', '1.9-columns-usability', '2.0-G-CSC-extract-analyst-questions', '2.5-CSC-agents-from-business', '2.6-G-all-agents', '2.7-G-agents-impact', '3.0-data-availability', '3.5.EDA-analysis-of-data-availability', 'additional/3.6-CS-analysis-of-data-availability', '6.1-solve-with-name-agent', '6.2-solve-with-date-agent', '6.3-solve-with-country-agent', '6.4-solve-with-shoe-size-agent', 'additional/6.98-mock-agents-solve', '4.2-merge-agent-results-with-documented-business-data', '7.1-merge-all-business-sentiments', '7.2-merge-analyst-results-with-analyst-solutions', '7.3-RB-scorer', '8.0-agent-tuning-report', '9.0-efficiency-report', '9.1-accuracy-report', '9.2-false-negative-report', '9.3-ai-reasoning-report', 'additional/10.0-crucial-artifacts-summary', 'additional/10.1-exportable-files']}}\n",
      "Available memory: 48252243968\n",
      "Required memory: 4831838208\n",
      "Actual Spark Master: local[10]\n",
      "Actual Spark Driver Memory: 27g\n"
     ]
    },
    {
     "name": "stdout",
     "output_type": "stream",
     "text": [
      "WARNING: An illegal reflective access operation has occurred\n",
      "WARNING: Illegal reflective access by org.apache.spark.unsafe.Platform (file:/env/ds/anaconda/envs/old_spark/lib/python3.7/site-packages/pyspark/jars/spark-unsafe_2.12-3.1.1.jar) to constructor java.nio.DirectByteBuffer(long,int)\n",
      "WARNING: Please consider reporting this to the maintainers of org.apache.spark.unsafe.Platform\n",
      "WARNING: Use --illegal-access=warn to enable warnings of further illegal reflective access operations\n",
      "WARNING: All illegal access operations will be denied in a future release\n",
      ":: loading settings :: url = jar:file:/env/ds/anaconda/envs/old_spark/lib/python3.7/site-packages/pyspark/jars/ivy-2.4.0.jar!/org/apache/ivy/core/settings/ivysettings.xml\n",
      "Ivy Default Cache set to: /app/dependencies/ivy2/cache\n",
      "The jars for the packages stored in: /app/dependencies/ivy2/jars\n",
      "io.delta#delta-core_2.12 added as a dependency\n",
      ":: resolving dependencies :: org.apache.spark#spark-submit-parent-fff0a9b9-735e-4a9b-822c-adc341db5a9c;1.0\n",
      "\tconfs: [default]\n",
      "\tfound io.delta#delta-core_2.12;1.0.0 in central\n",
      "\tfound org.antlr#antlr4;4.7 in central\n",
      "\tfound org.antlr#antlr4-runtime;4.7 in central\n",
      "\tfound org.antlr#antlr-runtime;3.5.2 in central\n",
      "\tfound org.antlr#ST4;4.0.8 in central\n",
      "\tfound org.abego.treelayout#org.abego.treelayout.core;1.0.3 in central\n",
      "\tfound org.glassfish#javax.json;1.0.4 in central\n",
      "\tfound com.ibm.icu#icu4j;58.2 in central\n",
      ":: resolution report :: resolve 135ms :: artifacts dl 5ms\n",
      "\t:: modules in use:\n",
      "\tcom.ibm.icu#icu4j;58.2 from central in [default]\n",
      "\tio.delta#delta-core_2.12;1.0.0 from central in [default]\n",
      "\torg.abego.treelayout#org.abego.treelayout.core;1.0.3 from central in [default]\n",
      "\torg.antlr#ST4;4.0.8 from central in [default]\n",
      "\torg.antlr#antlr-runtime;3.5.2 from central in [default]\n",
      "\torg.antlr#antlr4;4.7 from central in [default]\n",
      "\torg.antlr#antlr4-runtime;4.7 from central in [default]\n",
      "\torg.glassfish#javax.json;1.0.4 from central in [default]\n",
      "\t---------------------------------------------------------------------\n",
      "\t|                  |            modules            ||   artifacts   |\n",
      "\t|       conf       | number| search|dwnlded|evicted|| number|dwnlded|\n",
      "\t---------------------------------------------------------------------\n",
      "\t|      default     |   8   |   0   |   0   |   0   ||   8   |   0   |\n",
      "\t---------------------------------------------------------------------\n",
      ":: retrieving :: org.apache.spark#spark-submit-parent-fff0a9b9-735e-4a9b-822c-adc341db5a9c\n",
      "\tconfs: [default]\n",
      "\t0 artifacts copied, 8 already retrieved (0kB/5ms)\n",
      "21/12/09 14:57:08 WARN NativeCodeLoader: Unable to load native-hadoop library for your platform... using builtin-java classes where applicable\n",
      "Using Spark's default log4j profile: org/apache/spark/log4j-defaults.properties\n",
      "21/12/09 14:57:08 WARN DependencyUtils: Local jar /app/dependencies/ivy2/jars/com.oracle_ojdbc8-12.2.0.1.jar does not exist, skipping.\n",
      "21/12/09 14:57:08 WARN DependencyUtils: Local jar /app/./dependencies/ivy2/jars/org.postgresql_postgresql-42.2.20.jar does not exist, skipping.\n",
      "21/12/09 14:57:08 INFO SparkContext: Running Spark version 3.1.1\n",
      "21/12/09 14:57:08 WARN SparkConf: Note that spark.local.dir will be overridden by the value set by the cluster manager (via SPARK_LOCAL_DIRS in mesos/standalone/kubernetes and LOCAL_DIRS in YARN).\n",
      "21/12/09 14:57:08 INFO ResourceUtils: ==============================================================\n",
      "21/12/09 14:57:08 INFO ResourceUtils: No custom resources configured for spark.driver.\n",
      "21/12/09 14:57:08 INFO ResourceUtils: ==============================================================\n",
      "21/12/09 14:57:08 INFO SparkContext: Submitted application: aia-ns-pov\n",
      "21/12/09 14:57:08 INFO ResourceProfile: Default ResourceProfile created, executor resources: Map(cores -> name: cores, amount: 1, script: , vendor: , memory -> name: memory, amount: 1024, script: , vendor: , offHeap -> name: offHeap, amount: 0, script: , vendor: ), task resources: Map(cpus -> name: cpus, amount: 1.0)\n",
      "21/12/09 14:57:08 INFO ResourceProfile: Limiting resource is cpu\n",
      "21/12/09 14:57:08 INFO ResourceProfileManager: Added ResourceProfile id: 0\n",
      "21/12/09 14:57:08 INFO SecurityManager: Changing view acls to: root\n",
      "21/12/09 14:57:08 INFO SecurityManager: Changing modify acls to: root\n",
      "21/12/09 14:57:08 INFO SecurityManager: Changing view acls groups to: \n",
      "21/12/09 14:57:08 INFO SecurityManager: Changing modify acls groups to: \n",
      "21/12/09 14:57:08 INFO SecurityManager: SecurityManager: authentication disabled; ui acls disabled; users  with view permissions: Set(root); groups with view permissions: Set(); users  with modify permissions: Set(root); groups with modify permissions: Set()\n",
      "21/12/09 14:57:08 INFO Utils: Successfully started service 'sparkDriver' on port 34169.\n",
      "21/12/09 14:57:08 INFO SparkEnv: Registering MapOutputTracker\n",
      "21/12/09 14:57:08 INFO SparkEnv: Registering BlockManagerMaster\n",
      "21/12/09 14:57:08 INFO BlockManagerMasterEndpoint: Using org.apache.spark.storage.DefaultTopologyMapper for getting topology information\n",
      "21/12/09 14:57:08 INFO BlockManagerMasterEndpoint: BlockManagerMasterEndpoint up\n",
      "21/12/09 14:57:08 INFO SparkEnv: Registering BlockManagerMasterHeartbeat\n",
      "21/12/09 14:57:08 INFO DiskBlockManager: Created local directory at /tmp/app/spark/blockmgr-65afc38d-55f5-4fa2-8fbf-4711cd7e08f8\n",
      "21/12/09 14:57:08 INFO MemoryStore: MemoryStore started with capacity 16.0 GiB\n",
      "21/12/09 14:57:08 INFO SparkEnv: Registering OutputCommitCoordinator\n",
      "21/12/09 14:57:09 WARN Utils: Service 'SparkUI' could not bind on port 4040. Attempting port 4041.\n",
      "21/12/09 14:57:09 INFO Utils: Successfully started service 'SparkUI' on port 4041.\n",
      "21/12/09 14:57:09 INFO SparkUI: Bound SparkUI to 0.0.0.0, and started at http://813ca8f75e1e:4041\n",
      "21/12/09 14:57:09 ERROR SparkContext: Failed to add /app/dependencies/ivy2/jars/com.oracle_ojdbc8-12.2.0.1.jar to Spark environment\n",
      "java.io.FileNotFoundException: Jar /app/dependencies/ivy2/jars/com.oracle_ojdbc8-12.2.0.1.jar not found\n",
      "\tat org.apache.spark.SparkContext.addLocalJarFile$1(SparkContext.scala:1935)\n",
      "\tat org.apache.spark.SparkContext.addJar(SparkContext.scala:1987)\n",
      "\tat org.apache.spark.SparkContext.$anonfun$new$12(SparkContext.scala:501)\n",
      "\tat org.apache.spark.SparkContext.$anonfun$new$12$adapted(SparkContext.scala:501)\n",
      "\tat scala.collection.mutable.ResizableArray.foreach(ResizableArray.scala:62)\n",
      "\tat scala.collection.mutable.ResizableArray.foreach$(ResizableArray.scala:55)\n",
      "\tat scala.collection.mutable.ArrayBuffer.foreach(ArrayBuffer.scala:49)\n",
      "\tat org.apache.spark.SparkContext.<init>(SparkContext.scala:501)\n",
      "\tat org.apache.spark.api.java.JavaSparkContext.<init>(JavaSparkContext.scala:58)\n",
      "\tat java.base/jdk.internal.reflect.NativeConstructorAccessorImpl.newInstance0(Native Method)\n",
      "\tat java.base/jdk.internal.reflect.NativeConstructorAccessorImpl.newInstance(NativeConstructorAccessorImpl.java:62)\n",
      "\tat java.base/jdk.internal.reflect.DelegatingConstructorAccessorImpl.newInstance(DelegatingConstructorAccessorImpl.java:45)\n",
      "\tat java.base/java.lang.reflect.Constructor.newInstance(Constructor.java:490)\n",
      "\tat py4j.reflection.MethodInvoker.invoke(MethodInvoker.java:247)\n",
      "\tat py4j.reflection.ReflectionEngine.invoke(ReflectionEngine.java:357)\n",
      "\tat py4j.Gateway.invoke(Gateway.java:238)\n",
      "\tat py4j.commands.ConstructorCommand.invokeConstructor(ConstructorCommand.java:80)\n",
      "\tat py4j.commands.ConstructorCommand.execute(ConstructorCommand.java:69)\n",
      "\tat py4j.GatewayConnection.run(GatewayConnection.java:238)\n",
      "\tat java.base/java.lang.Thread.run(Thread.java:834)\n",
      "21/12/09 14:57:09 ERROR SparkContext: Failed to add ./dependencies/ivy2/jars/org.postgresql_postgresql-42.2.20.jar to Spark environment\n",
      "java.io.FileNotFoundException: Jar /app/dependencies/ivy2/jars/org.postgresql_postgresql-42.2.20.jar not found\n",
      "\tat org.apache.spark.SparkContext.addLocalJarFile$1(SparkContext.scala:1935)\n",
      "\tat org.apache.spark.SparkContext.addJar(SparkContext.scala:1987)\n",
      "\tat org.apache.spark.SparkContext.$anonfun$new$12(SparkContext.scala:501)\n",
      "\tat org.apache.spark.SparkContext.$anonfun$new$12$adapted(SparkContext.scala:501)\n",
      "\tat scala.collection.mutable.ResizableArray.foreach(ResizableArray.scala:62)\n",
      "\tat scala.collection.mutable.ResizableArray.foreach$(ResizableArray.scala:55)\n",
      "\tat scala.collection.mutable.ArrayBuffer.foreach(ArrayBuffer.scala:49)\n",
      "\tat org.apache.spark.SparkContext.<init>(SparkContext.scala:501)\n",
      "\tat org.apache.spark.api.java.JavaSparkContext.<init>(JavaSparkContext.scala:58)\n",
      "\tat java.base/jdk.internal.reflect.NativeConstructorAccessorImpl.newInstance0(Native Method)\n",
      "\tat java.base/jdk.internal.reflect.NativeConstructorAccessorImpl.newInstance(NativeConstructorAccessorImpl.java:62)\n",
      "\tat java.base/jdk.internal.reflect.DelegatingConstructorAccessorImpl.newInstance(DelegatingConstructorAccessorImpl.java:45)\n",
      "\tat java.base/java.lang.reflect.Constructor.newInstance(Constructor.java:490)\n",
      "\tat py4j.reflection.MethodInvoker.invoke(MethodInvoker.java:247)\n",
      "\tat py4j.reflection.ReflectionEngine.invoke(ReflectionEngine.java:357)\n",
      "\tat py4j.Gateway.invoke(Gateway.java:238)\n",
      "\tat py4j.commands.ConstructorCommand.invokeConstructor(ConstructorCommand.java:80)\n",
      "\tat py4j.commands.ConstructorCommand.execute(ConstructorCommand.java:69)\n",
      "\tat py4j.GatewayConnection.run(GatewayConnection.java:238)\n",
      "\tat java.base/java.lang.Thread.run(Thread.java:834)\n",
      "21/12/09 14:57:09 INFO SparkContext: Added file file:///app/dependencies/ivy2/jars/io.delta_delta-core_2.12-1.0.0.jar at file:///app/dependencies/ivy2/jars/io.delta_delta-core_2.12-1.0.0.jar with timestamp 1639061828654\n",
      "21/12/09 14:57:09 INFO Utils: Copying /app/dependencies/ivy2/jars/io.delta_delta-core_2.12-1.0.0.jar to /tmp/app/spark/spark-7cf6104e-0d62-4931-8d6b-c8d8d8bacb11/userFiles-58693101-dbcc-4189-a0b4-b12a0bed9dd1/io.delta_delta-core_2.12-1.0.0.jar\n",
      "21/12/09 14:57:09 INFO SparkContext: Added file file:///app/dependencies/ivy2/jars/org.antlr_antlr4-4.7.jar at file:///app/dependencies/ivy2/jars/org.antlr_antlr4-4.7.jar with timestamp 1639061828654\n",
      "21/12/09 14:57:09 INFO Utils: Copying /app/dependencies/ivy2/jars/org.antlr_antlr4-4.7.jar to /tmp/app/spark/spark-7cf6104e-0d62-4931-8d6b-c8d8d8bacb11/userFiles-58693101-dbcc-4189-a0b4-b12a0bed9dd1/org.antlr_antlr4-4.7.jar\n",
      "21/12/09 14:57:09 INFO SparkContext: Added file file:///app/dependencies/ivy2/jars/org.antlr_antlr4-runtime-4.7.jar at file:///app/dependencies/ivy2/jars/org.antlr_antlr4-runtime-4.7.jar with timestamp 1639061828654\n",
      "21/12/09 14:57:09 INFO Utils: Copying /app/dependencies/ivy2/jars/org.antlr_antlr4-runtime-4.7.jar to /tmp/app/spark/spark-7cf6104e-0d62-4931-8d6b-c8d8d8bacb11/userFiles-58693101-dbcc-4189-a0b4-b12a0bed9dd1/org.antlr_antlr4-runtime-4.7.jar\n",
      "21/12/09 14:57:09 INFO SparkContext: Added file file:///app/dependencies/ivy2/jars/org.antlr_antlr-runtime-3.5.2.jar at file:///app/dependencies/ivy2/jars/org.antlr_antlr-runtime-3.5.2.jar with timestamp 1639061828654\n",
      "21/12/09 14:57:09 INFO Utils: Copying /app/dependencies/ivy2/jars/org.antlr_antlr-runtime-3.5.2.jar to /tmp/app/spark/spark-7cf6104e-0d62-4931-8d6b-c8d8d8bacb11/userFiles-58693101-dbcc-4189-a0b4-b12a0bed9dd1/org.antlr_antlr-runtime-3.5.2.jar\n"
     ]
    },
    {
     "name": "stdout",
     "output_type": "stream",
     "text": [
      "21/12/09 14:57:09 INFO SparkContext: Added file file:///app/dependencies/ivy2/jars/org.antlr_ST4-4.0.8.jar at file:///app/dependencies/ivy2/jars/org.antlr_ST4-4.0.8.jar with timestamp 1639061828654\n",
      "21/12/09 14:57:09 INFO Utils: Copying /app/dependencies/ivy2/jars/org.antlr_ST4-4.0.8.jar to /tmp/app/spark/spark-7cf6104e-0d62-4931-8d6b-c8d8d8bacb11/userFiles-58693101-dbcc-4189-a0b4-b12a0bed9dd1/org.antlr_ST4-4.0.8.jar\n",
      "21/12/09 14:57:09 INFO SparkContext: Added file file:///app/dependencies/ivy2/jars/org.abego.treelayout_org.abego.treelayout.core-1.0.3.jar at file:///app/dependencies/ivy2/jars/org.abego.treelayout_org.abego.treelayout.core-1.0.3.jar with timestamp 1639061828654\n",
      "21/12/09 14:57:09 INFO Utils: Copying /app/dependencies/ivy2/jars/org.abego.treelayout_org.abego.treelayout.core-1.0.3.jar to /tmp/app/spark/spark-7cf6104e-0d62-4931-8d6b-c8d8d8bacb11/userFiles-58693101-dbcc-4189-a0b4-b12a0bed9dd1/org.abego.treelayout_org.abego.treelayout.core-1.0.3.jar\n",
      "21/12/09 14:57:09 INFO SparkContext: Added file file:///app/dependencies/ivy2/jars/org.glassfish_javax.json-1.0.4.jar at file:///app/dependencies/ivy2/jars/org.glassfish_javax.json-1.0.4.jar with timestamp 1639061828654\n",
      "21/12/09 14:57:09 INFO Utils: Copying /app/dependencies/ivy2/jars/org.glassfish_javax.json-1.0.4.jar to /tmp/app/spark/spark-7cf6104e-0d62-4931-8d6b-c8d8d8bacb11/userFiles-58693101-dbcc-4189-a0b4-b12a0bed9dd1/org.glassfish_javax.json-1.0.4.jar\n",
      "21/12/09 14:57:09 INFO SparkContext: Added file file:///app/dependencies/ivy2/jars/com.ibm.icu_icu4j-58.2.jar at file:///app/dependencies/ivy2/jars/com.ibm.icu_icu4j-58.2.jar with timestamp 1639061828654\n",
      "21/12/09 14:57:09 INFO Utils: Copying /app/dependencies/ivy2/jars/com.ibm.icu_icu4j-58.2.jar to /tmp/app/spark/spark-7cf6104e-0d62-4931-8d6b-c8d8d8bacb11/userFiles-58693101-dbcc-4189-a0b4-b12a0bed9dd1/com.ibm.icu_icu4j-58.2.jar\n",
      "21/12/09 14:57:09 INFO Executor: Starting executor ID driver on host 813ca8f75e1e\n",
      "21/12/09 14:57:09 INFO Executor: Fetching file:///app/dependencies/ivy2/jars/org.abego.treelayout_org.abego.treelayout.core-1.0.3.jar with timestamp 1639061828654\n",
      "21/12/09 14:57:09 INFO Utils: /app/dependencies/ivy2/jars/org.abego.treelayout_org.abego.treelayout.core-1.0.3.jar has been previously copied to /tmp/app/spark/spark-7cf6104e-0d62-4931-8d6b-c8d8d8bacb11/userFiles-58693101-dbcc-4189-a0b4-b12a0bed9dd1/org.abego.treelayout_org.abego.treelayout.core-1.0.3.jar\n",
      "21/12/09 14:57:09 INFO Executor: Fetching file:///app/dependencies/ivy2/jars/org.antlr_antlr4-4.7.jar with timestamp 1639061828654\n",
      "21/12/09 14:57:09 INFO Utils: /app/dependencies/ivy2/jars/org.antlr_antlr4-4.7.jar has been previously copied to /tmp/app/spark/spark-7cf6104e-0d62-4931-8d6b-c8d8d8bacb11/userFiles-58693101-dbcc-4189-a0b4-b12a0bed9dd1/org.antlr_antlr4-4.7.jar\n",
      "21/12/09 14:57:09 INFO Executor: Fetching file:///app/dependencies/ivy2/jars/org.glassfish_javax.json-1.0.4.jar with timestamp 1639061828654\n",
      "21/12/09 14:57:09 INFO Utils: /app/dependencies/ivy2/jars/org.glassfish_javax.json-1.0.4.jar has been previously copied to /tmp/app/spark/spark-7cf6104e-0d62-4931-8d6b-c8d8d8bacb11/userFiles-58693101-dbcc-4189-a0b4-b12a0bed9dd1/org.glassfish_javax.json-1.0.4.jar\n",
      "21/12/09 14:57:09 INFO Executor: Fetching file:///app/dependencies/ivy2/jars/io.delta_delta-core_2.12-1.0.0.jar with timestamp 1639061828654\n",
      "21/12/09 14:57:09 INFO Utils: /app/dependencies/ivy2/jars/io.delta_delta-core_2.12-1.0.0.jar has been previously copied to /tmp/app/spark/spark-7cf6104e-0d62-4931-8d6b-c8d8d8bacb11/userFiles-58693101-dbcc-4189-a0b4-b12a0bed9dd1/io.delta_delta-core_2.12-1.0.0.jar\n",
      "21/12/09 14:57:09 INFO Executor: Fetching file:///app/dependencies/ivy2/jars/org.antlr_antlr4-runtime-4.7.jar with timestamp 1639061828654\n",
      "21/12/09 14:57:09 INFO Utils: /app/dependencies/ivy2/jars/org.antlr_antlr4-runtime-4.7.jar has been previously copied to /tmp/app/spark/spark-7cf6104e-0d62-4931-8d6b-c8d8d8bacb11/userFiles-58693101-dbcc-4189-a0b4-b12a0bed9dd1/org.antlr_antlr4-runtime-4.7.jar\n",
      "21/12/09 14:57:09 INFO Executor: Fetching file:///app/dependencies/ivy2/jars/com.ibm.icu_icu4j-58.2.jar with timestamp 1639061828654\n",
      "21/12/09 14:57:09 INFO Utils: /app/dependencies/ivy2/jars/com.ibm.icu_icu4j-58.2.jar has been previously copied to /tmp/app/spark/spark-7cf6104e-0d62-4931-8d6b-c8d8d8bacb11/userFiles-58693101-dbcc-4189-a0b4-b12a0bed9dd1/com.ibm.icu_icu4j-58.2.jar\n",
      "21/12/09 14:57:09 INFO Executor: Fetching file:///app/dependencies/ivy2/jars/org.antlr_ST4-4.0.8.jar with timestamp 1639061828654\n",
      "21/12/09 14:57:09 INFO Utils: /app/dependencies/ivy2/jars/org.antlr_ST4-4.0.8.jar has been previously copied to /tmp/app/spark/spark-7cf6104e-0d62-4931-8d6b-c8d8d8bacb11/userFiles-58693101-dbcc-4189-a0b4-b12a0bed9dd1/org.antlr_ST4-4.0.8.jar\n",
      "21/12/09 14:57:09 INFO Executor: Fetching file:///app/dependencies/ivy2/jars/org.antlr_antlr-runtime-3.5.2.jar with timestamp 1639061828654\n",
      "21/12/09 14:57:09 INFO Utils: /app/dependencies/ivy2/jars/org.antlr_antlr-runtime-3.5.2.jar has been previously copied to /tmp/app/spark/spark-7cf6104e-0d62-4931-8d6b-c8d8d8bacb11/userFiles-58693101-dbcc-4189-a0b4-b12a0bed9dd1/org.antlr_antlr-runtime-3.5.2.jar\n",
      "21/12/09 14:57:09 INFO Utils: Successfully started service 'org.apache.spark.network.netty.NettyBlockTransferService' on port 34905.\n",
      "21/12/09 14:57:09 INFO NettyBlockTransferService: Server created on 813ca8f75e1e:34905\n",
      "21/12/09 14:57:09 INFO BlockManager: Using org.apache.spark.storage.RandomBlockReplicationPolicy for block replication policy\n",
      "21/12/09 14:57:09 INFO BlockManagerMaster: Registering BlockManager BlockManagerId(driver, 813ca8f75e1e, 34905, None)\n",
      "21/12/09 14:57:09 INFO BlockManagerMasterEndpoint: Registering block manager 813ca8f75e1e:34905 with 16.0 GiB RAM, BlockManagerId(driver, 813ca8f75e1e, 34905, None)\n",
      "21/12/09 14:57:09 INFO BlockManagerMaster: Registered BlockManager BlockManagerId(driver, 813ca8f75e1e, 34905, None)\n",
      "21/12/09 14:57:09 INFO BlockManager: Initialized BlockManager: BlockManagerId(driver, 813ca8f75e1e, 34905, None)\n",
      "21/12/09 14:57:09 INFO SharedState: Setting hive.metastore.warehouse.dir ('null') to the value of spark.sql.warehouse.dir ('file:/app/spark-warehouse').\n",
      "21/12/09 14:57:09 INFO SharedState: Warehouse path is 'file:/app/spark-warehouse'.\n",
      "21/12/09 14:57:09 INFO SparkContext: Added file /app/dependencies/ivy2/cache/io.delta/delta-core_2.12/jars/delta-core_2.12-1.0.0.jar at file:/app/dependencies/ivy2/cache/io.delta/delta-core_2.12/jars/delta-core_2.12-1.0.0.jar with timestamp 1639061829819\n",
      "21/12/09 14:57:09 INFO Utils: Copying /app/dependencies/ivy2/cache/io.delta/delta-core_2.12/jars/delta-core_2.12-1.0.0.jar to /tmp/app/spark/spark-7cf6104e-0d62-4931-8d6b-c8d8d8bacb11/userFiles-58693101-dbcc-4189-a0b4-b12a0bed9dd1/delta-core_2.12-1.0.0.jar\n",
      "21/12/09 14:57:09 WARN aia-ns-pov: Test warn log\n",
      "2021/12/09 14:57:09 - root INFO: Test info log, from logging\n",
      "2021/12/09 14:57:09 - root WARNING: Test warn log, from logging\n",
      "pySpark version: 3.1.1\n",
      "Spark UI - http://813ca8f75e1e:4041\n",
      "tests/data/3.cleansed/ACM_ALERT_NOTES.delta                                     \n"
     ]
    }
   ],
   "source": [
    "!python3 test.py"
   ]
  },
  {
   "cell_type": "code",
   "execution_count": 12,
   "id": "09c69a47",
   "metadata": {},
   "outputs": [
    {
     "name": "stdout",
     "output_type": "stream",
     "text": [
      "-rw-r--r-- 1 root root 2109245 May 24  2021 \u001b[0m\u001b[01;31m/app/dependencies/ivy2/cache/io.delta/delta-core_2.12/jars/delta-core_2.12-1.0.0.jar\u001b[0m\u001b[K\r\n"
     ]
    }
   ],
   "source": [
    "ls -l /app/dependencies/ivy2/cache/io.delta/delta-core_2.12/jars/delta-core_2.12-1.0.0.jar"
   ]
  },
  {
   "cell_type": "code",
   "execution_count": 8,
   "id": "dda8ca1f",
   "metadata": {},
   "outputs": [],
   "source": [
    "!kill -9 19850"
   ]
  },
  {
   "cell_type": "code",
   "execution_count": 2,
   "id": "710d6123",
   "metadata": {},
   "outputs": [
    {
     "name": "stdout",
     "output_type": "stream",
     "text": [
      "total 8\r\n",
      "drwxr-xr-x 9 root root 4096 Dec  9 13:19 cache\r\n",
      "drwxr-xr-x 2 root root 4096 Dec  9 08:24 jars\r\n"
     ]
    }
   ],
   "source": [
    "!ls -l  /app/dependencies/ivy2"
   ]
  },
  {
   "cell_type": "code",
   "execution_count": null,
   "id": "bd69018c",
   "metadata": {},
   "outputs": [],
   "source": []
  }
 ],
 "metadata": {
  "kernelspec": {
   "display_name": "Python 3.7",
   "language": "python",
   "name": "old_spark"
  },
  "language_info": {
   "codemirror_mode": {
    "name": "ipython",
    "version": 3
   },
   "file_extension": ".py",
   "mimetype": "text/x-python",
   "name": "python",
   "nbconvert_exporter": "python",
   "pygments_lexer": "ipython3",
   "version": "3.7.11"
  }
 },
 "nbformat": 4,
 "nbformat_minor": 5
}
