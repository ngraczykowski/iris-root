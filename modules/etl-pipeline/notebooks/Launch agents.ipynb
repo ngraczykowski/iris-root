{
 "cells": [
  {
   "cell_type": "code",
   "execution_count": 1,
   "id": "d178ff9a",
   "metadata": {},
   "outputs": [
    {
     "name": "stdout",
     "output_type": "stream",
     "text": [
      "nohup: appending output to 'nohup.out'\r\n",
      "nohup: appending output to 'nohup.out'\r\n",
      "nohup: appending output to 'nohup.out'\r\n",
      "nohup: appending output to 'nohup.out'\r\n",
      "nohup: appending output to 'nohup.out'\r\n",
      "nohup: appending output to 'nohup.out'\r\n"
     ]
    }
   ],
   "source": [
    "!export PATH=$PATH:/opt/jdk/bin; find \"agents/\" -name *.jar | xargs -I % sh -c '{ nohup java -jar % &  }'\n"
   ]
  },
  {
   "cell_type": "code",
   "execution_count": null,
   "id": "be84e4c0",
   "metadata": {},
   "outputs": [],
   "source": []
  }
 ],
 "metadata": {
  "kernelspec": {
   "display_name": "Python 3 (ipykernel)",
   "language": "python",
   "name": "python3"
  },
  "language_info": {
   "codemirror_mode": {
    "name": "ipython",
    "version": 3
   },
   "file_extension": ".py",
   "mimetype": "text/x-python",
   "name": "python",
   "nbconvert_exporter": "python",
   "pygments_lexer": "ipython3",
   "version": "3.7.11"
  }
 },
 "nbformat": 4,
 "nbformat_minor": 5
}
