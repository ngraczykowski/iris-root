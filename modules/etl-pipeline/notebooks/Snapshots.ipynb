{
 "cells": [
  {
   "cell_type": "markdown",
   "id": "0fada200",
   "metadata": {},
   "source": [
    "# Snapshots - merge_with_party_and_address_relationships"
   ]
  },
  {
   "cell_type": "markdown",
   "id": "6274eb56-b9f8-453c-a436-9a99df0132bd",
   "metadata": {},
   "source": [
    "# Dummy data"
   ]
  },
  {
   "cell_type": "code",
   "execution_count": 1,
   "id": "e527cef0-82ee-4de7-8990-e068fba48d9d",
   "metadata": {
    "tags": []
   },
   "outputs": [
    {
     "ename": "ModuleNotFoundError",
     "evalue": "No module named 'spark_manager'",
     "output_type": "error",
     "traceback": [
      "\u001b[0;31m---------------------------------------------------------------------------\u001b[0m",
      "\u001b[0;31mModuleNotFoundError\u001b[0m                       Traceback (most recent call last)",
      "\u001b[0;32m/tmp/ipykernel_492605/3777745493.py\u001b[0m in \u001b[0;36m<module>\u001b[0;34m\u001b[0m\n\u001b[1;32m      1\u001b[0m \u001b[0;32mimport\u001b[0m \u001b[0mos\u001b[0m\u001b[0;34m\u001b[0m\u001b[0;34m\u001b[0m\u001b[0m\n\u001b[1;32m      2\u001b[0m \u001b[0mos\u001b[0m\u001b[0;34m.\u001b[0m\u001b[0mchdir\u001b[0m\u001b[0;34m(\u001b[0m\u001b[0;34m\"/app/\"\u001b[0m\u001b[0;34m)\u001b[0m\u001b[0;34m\u001b[0m\u001b[0;34m\u001b[0m\u001b[0m\n\u001b[0;32m----> 3\u001b[0;31m \u001b[0;32mfrom\u001b[0m \u001b[0mspark_manager\u001b[0m\u001b[0;34m.\u001b[0m\u001b[0mspark_client\u001b[0m \u001b[0;32mimport\u001b[0m \u001b[0mSparkClient\u001b[0m\u001b[0;34m\u001b[0m\u001b[0;34m\u001b[0m\u001b[0m\n\u001b[0m\u001b[1;32m      4\u001b[0m \u001b[0;32mfrom\u001b[0m \u001b[0mspark_manager\u001b[0m\u001b[0;34m.\u001b[0m\u001b[0mspark_config\u001b[0m \u001b[0;32mimport\u001b[0m \u001b[0mSPARK_CONF\u001b[0m\u001b[0;34m\u001b[0m\u001b[0;34m\u001b[0m\u001b[0m\n\u001b[1;32m      5\u001b[0m \u001b[0;32mimport\u001b[0m \u001b[0mpyspark\u001b[0m\u001b[0;34m.\u001b[0m\u001b[0msql\u001b[0m\u001b[0;34m.\u001b[0m\u001b[0mfunctions\u001b[0m \u001b[0;32mas\u001b[0m \u001b[0mF\u001b[0m\u001b[0;34m\u001b[0m\u001b[0;34m\u001b[0m\u001b[0m\n",
      "\u001b[0;31mModuleNotFoundError\u001b[0m: No module named 'spark_manager'"
     ]
    }
   ],
   "source": [
    "import os\n",
    "os.chdir(\"/app/\")\n",
    "from spark_manager.spark_client import SparkClient\n",
    "from spark_manager.spark_config import SPARK_CONF\n",
    "import pyspark.sql.functions as F\n",
    "\n",
    "spark_instance = SparkClient(SPARK_CONF)"
   ]
  },
  {
   "cell_type": "code",
   "execution_count": 2,
   "id": "fe46dd6c-2949-4319-9424-31a87a241255",
   "metadata": {},
   "outputs": [],
   "source": [
    "import pattern_json as pattern"
   ]
  },
  {
   "cell_type": "code",
   "execution_count": 3,
   "id": "f9ecbc63",
   "metadata": {},
   "outputs": [],
   "source": [
    "from pyspark import Row\n",
    "\n"
   ]
  },
  {
   "cell_type": "code",
   "execution_count": 4,
   "id": "cef742a4",
   "metadata": {},
   "outputs": [],
   "source": [
    "spark_instance = SparkClient(SPARK_CONF)\n",
    "\n",
    "data = [\n",
    "    Row(\n",
    "        alert_id=1,\n",
    "        SRC_REF_KEY='2019-05-09-12.07.37.400001',\n",
    "        ACCT_NUM=1,\n",
    "        PARTY_ID=51000001,\n",
    "        ADDRESS_ID=\"A05002296231\",\n",
    "        TRIGGERED_BY=[\"John\"],\n",
    "        # AD_BNFL_NM=pattern.WL_NAME,\n",
    "        CONCAT_ADDRESS=\"Jane Doe 111 A 11TH ST AAA 1A New Jersey NJ\",\n",
    "         WL_MATCHED_TOKENS=\"[\\\"John B Doe\\\"]\",\n",
    "        ADDRESS1_COUNTRY=\"\",\n",
    "ADDRESS1_LINE1=\"test\",\n",
    "ADDRESS1_LINE2=\"\",\n",
    "ADDRESS1_LINE3=\"\",\n",
    "ADDRESS1_LINE4=\"\",\n",
    "ADDRESS1_LINE5=\"\",\n",
    "ACCT_REGS_NM1=\"\",\n",
    "\n",
    "    ),\n",
    "    Row(\n",
    "        alert_id=2,\n",
    "        SRC_REF_KEY='2020-01-23-08.29.18.794491',\n",
    "        ACCT_NUM=2,\n",
    "        PARTY_ID=51000002,\n",
    "        ADDRESS_ID=\"A00150805711\",\n",
    "        TRIGGERED_BY=[pattern.WL_ALIASES],\n",
    "        # AD_BNFL_NM=\"AD_BNFL_NM\",\n",
    "        CONCAT_ADDRESS=\"XXX C/F YYY A ZET (DECD) Agent ZET (BENE) ABC DEF GHI 123 XYZ RD ZET XXX 11111\",\n",
    "        WL_MATCHED_TOKENS=\"[\\\"John B Doe\\\"]\",\n",
    "        ADDRESS1_COUNTRY=\"\",\n",
    "ADDRESS1_LINE1=\"\",\n",
    "ADDRESS1_LINE2=\"\",\n",
    "ADDRESS1_LINE3=\"\",\n",
    "ADDRESS1_LINE4=\"\",\n",
    "ADDRESS1_LINE5=\"\",\n",
    "ACCT_REGS_NM1=\"\",\n",
    "\n",
    "    )]"
   ]
  },
  {
   "cell_type": "code",
   "execution_count": 5,
   "id": "39965aaa-fb22-4a18-b2e2-b11e63634db2",
   "metadata": {},
   "outputs": [],
   "source": [
    "data = spark_instance.spark_instance.createDataFrame(data)\n"
   ]
  },
  {
   "cell_type": "code",
   "execution_count": 6,
   "id": "1f91cac9",
   "metadata": {},
   "outputs": [
    {
     "data": {
      "text/html": [
       "<div>\n",
       "<style scoped>\n",
       "    .dataframe tbody tr th:only-of-type {\n",
       "        vertical-align: middle;\n",
       "    }\n",
       "\n",
       "    .dataframe tbody tr th {\n",
       "        vertical-align: top;\n",
       "    }\n",
       "\n",
       "    .dataframe thead th {\n",
       "        text-align: right;\n",
       "    }\n",
       "</style>\n",
       "<table border=\"1\" class=\"dataframe\">\n",
       "  <thead>\n",
       "    <tr style=\"text-align: right;\">\n",
       "      <th></th>\n",
       "      <th>alert_id</th>\n",
       "      <th>SRC_REF_KEY</th>\n",
       "      <th>ACCT_NUM</th>\n",
       "      <th>PARTY_ID</th>\n",
       "      <th>ADDRESS_ID</th>\n",
       "      <th>TRIGGERED_BY</th>\n",
       "      <th>CONCAT_ADDRESS</th>\n",
       "      <th>WL_MATCHED_TOKENS</th>\n",
       "      <th>ADDRESS1_COUNTRY</th>\n",
       "      <th>ADDRESS1_LINE1</th>\n",
       "      <th>ADDRESS1_LINE2</th>\n",
       "      <th>ADDRESS1_LINE3</th>\n",
       "      <th>ADDRESS1_LINE4</th>\n",
       "      <th>ADDRESS1_LINE5</th>\n",
       "      <th>ACCT_REGS_NM1</th>\n",
       "    </tr>\n",
       "  </thead>\n",
       "  <tbody>\n",
       "    <tr>\n",
       "      <th>0</th>\n",
       "      <td>1</td>\n",
       "      <td>2019-05-09-12.07.37.400001</td>\n",
       "      <td>1</td>\n",
       "      <td>51000001</td>\n",
       "      <td>A05002296231</td>\n",
       "      <td>[John]</td>\n",
       "      <td>Jane Doe 111 A 11TH ST AAA 1A New Jersey NJ</td>\n",
       "      <td>[\"John B Doe\"]</td>\n",
       "      <td></td>\n",
       "      <td>test</td>\n",
       "      <td></td>\n",
       "      <td></td>\n",
       "      <td></td>\n",
       "      <td></td>\n",
       "      <td></td>\n",
       "    </tr>\n",
       "    <tr>\n",
       "      <th>1</th>\n",
       "      <td>2</td>\n",
       "      <td>2020-01-23-08.29.18.794491</td>\n",
       "      <td>2</td>\n",
       "      <td>51000002</td>\n",
       "      <td>A00150805711</td>\n",
       "      <td>[WL_ALIASES]</td>\n",
       "      <td>XXX C/F YYY A ZET (DECD) Agent ZET (BENE) ABC ...</td>\n",
       "      <td>[\"John B Doe\"]</td>\n",
       "      <td></td>\n",
       "      <td></td>\n",
       "      <td></td>\n",
       "      <td></td>\n",
       "      <td></td>\n",
       "      <td></td>\n",
       "      <td></td>\n",
       "    </tr>\n",
       "  </tbody>\n",
       "</table>\n",
       "</div>"
      ],
      "text/plain": [
       "   alert_id                 SRC_REF_KEY  ACCT_NUM  PARTY_ID    ADDRESS_ID  \\\n",
       "0         1  2019-05-09-12.07.37.400001         1  51000001  A05002296231   \n",
       "1         2  2020-01-23-08.29.18.794491         2  51000002  A00150805711   \n",
       "\n",
       "   TRIGGERED_BY                                     CONCAT_ADDRESS  \\\n",
       "0        [John]        Jane Doe 111 A 11TH ST AAA 1A New Jersey NJ   \n",
       "1  [WL_ALIASES]  XXX C/F YYY A ZET (DECD) Agent ZET (BENE) ABC ...   \n",
       "\n",
       "  WL_MATCHED_TOKENS ADDRESS1_COUNTRY ADDRESS1_LINE1 ADDRESS1_LINE2  \\\n",
       "0    [\"John B Doe\"]                            test                  \n",
       "1    [\"John B Doe\"]                                                  \n",
       "\n",
       "  ADDRESS1_LINE3 ADDRESS1_LINE4 ADDRESS1_LINE5 ACCT_REGS_NM1  \n",
       "0                                                             \n",
       "1                                                             "
      ]
     },
     "execution_count": 6,
     "metadata": {},
     "output_type": "execute_result"
    }
   ],
   "source": [
    "data.toPandas()"
   ]
  },
  {
   "cell_type": "markdown",
   "id": "9d107a92",
   "metadata": {
    "tags": []
   },
   "source": [
    "### ap_df"
   ]
  },
  {
   "cell_type": "code",
   "execution_count": 7,
   "id": "78e34559-bdfc-4779-9bba-fb9f721d43fb",
   "metadata": {},
   "outputs": [
    {
     "data": {
      "text/plain": [
       "'/app'"
      ]
     },
     "execution_count": 7,
     "metadata": {},
     "output_type": "execute_result"
    }
   ],
   "source": [
    "\n",
    "import os\n",
    "import sys\n",
    "\n",
    "os.getcwd()\n"
   ]
  },
  {
   "cell_type": "code",
   "execution_count": 13,
   "id": "6da3c54b-f8c4-488a-9b00-be5837f37cea",
   "metadata": {},
   "outputs": [],
   "source": [
    "from pipelines.ms_pipeline import MSPipeline\n",
    "from etl_pipeline.data_processor_engine.spark_engine.spark import SparkProcessingEngine\n",
    "from spark_manager.spark_launcher import SparkLauncher\n",
    "from spark_manager.spark_config import SPARK_CONF"
   ]
  },
  {
   "cell_type": "code",
   "execution_count": 14,
   "id": "20dae0e4-dc57-4c0d-a694-f4daaf5bf3a7",
   "metadata": {},
   "outputs": [],
   "source": [
    "spark_engine = SparkProcessingEngine()"
   ]
  },
  {
   "cell_type": "code",
   "execution_count": 15,
   "id": "58dc66e8-261d-4d5e-b1ee-6fe36cdaa5aa",
   "metadata": {},
   "outputs": [],
   "source": [
    "spark_engine.spark_instance = spark_instance"
   ]
  },
  {
   "cell_type": "markdown",
   "id": "c1817d19-c1b8-422a-b7eb-050a0b357b36",
   "metadata": {
    "tags": []
   },
   "source": [
    "### set_ref_key"
   ]
  },
  {
   "cell_type": "code",
   "execution_count": 10,
   "id": "5f337cbd-79be-4cad-9194-1fbee273bda8",
   "metadata": {},
   "outputs": [
    {
     "data": {
      "text/plain": [
       "DataFrame[alert_id: bigint, SRC_REF_KEY: string, ACCT_NUM: bigint, PARTY_ID: bigint, ADDRESS_ID: string, TRIGGERED_BY: array<string>, CONCAT_ADDRESS: string, WL_MATCHED_TOKENS: string, ADDRESS1_COUNTRY: string, ADDRESS1_LINE1: string, ADDRESS1_LINE2: string, ADDRESS1_LINE3: string, ADDRESS1_LINE4: string, ADDRESS1_LINE5: string, ACCT_REGS_NM1: string]"
      ]
     },
     "execution_count": 10,
     "metadata": {},
     "output_type": "execute_result"
    }
   ],
   "source": [
    "spark_engine.save_data(data, \"tests/shared/test_ms_pipeline/test_set_ref_key_input.delta\")"
   ]
  },
  {
   "cell_type": "code",
   "execution_count": 11,
   "id": "42a4b4cb-af77-4b31-b6ca-87814a851b9d",
   "metadata": {},
   "outputs": [],
   "source": [
    "data = spark_engine.set_ref_key(data)"
   ]
  },
  {
   "cell_type": "code",
   "execution_count": 12,
   "id": "42b429c0-12d7-4c40-913a-1f66913198f0",
   "metadata": {},
   "outputs": [
    {
     "data": {
      "text/plain": [
       "DataFrame[alert_id: bigint, SRC_REF_KEY: string, ACCT_NUM: bigint, PARTY_ID: bigint, ADDRESS_ID: string, TRIGGERED_BY: array<string>, CONCAT_ADDRESS: string, WL_MATCHED_TOKENS: string, ADDRESS1_COUNTRY: string, ADDRESS1_LINE1: string, ADDRESS1_LINE2: string, ADDRESS1_LINE3: string, ADDRESS1_LINE4: string, ADDRESS1_LINE5: string, ACCT_REGS_NM1: string, SRC_SYS_ACCT_KEY: string]"
      ]
     },
     "execution_count": 12,
     "metadata": {},
     "output_type": "execute_result"
    }
   ],
   "source": [
    "spark_engine.save_data(data, \"tests/shared/test_ms_pipeline/test_set_ref_key_output.delta\")"
   ]
  },
  {
   "cell_type": "markdown",
   "id": "a1dff52e-e70d-4ba9-916d-ff5b91376971",
   "metadata": {
    "tags": []
   },
   "source": [
    "### ms_customized_merge_df360_and_WM_Account_In_Scope"
   ]
  },
  {
   "cell_type": "code",
   "execution_count": 13,
   "id": "95ab204b-ef85-41eb-9d1b-e7e37f4dc225",
   "metadata": {},
   "outputs": [],
   "source": [
    "data.registerTempTable(\"df360\")"
   ]
  },
  {
   "cell_type": "code",
   "execution_count": 14,
   "id": "61877848-a035-4f6a-a847-32f121400fa2",
   "metadata": {},
   "outputs": [
    {
     "data": {
      "text/plain": [
       "DataFrame[alert_id: bigint, SRC_REF_KEY: string, ACCT_NUM: bigint, PARTY_ID: bigint, ADDRESS_ID: string, TRIGGERED_BY: array<string>, CONCAT_ADDRESS: string, WL_MATCHED_TOKENS: string, ADDRESS1_COUNTRY: string, ADDRESS1_LINE1: string, ADDRESS1_LINE2: string, ADDRESS1_LINE3: string, ADDRESS1_LINE4: string, ADDRESS1_LINE5: string, ACCT_REGS_NM1: string, SRC_SYS_ACCT_KEY: string]"
      ]
     },
     "execution_count": 14,
     "metadata": {},
     "output_type": "execute_result"
    }
   ],
   "source": [
    "spark_engine.save_data(data, \"tests/shared/test_ms_pipeline/test_ms_customized_merge_df360_and_WM_Account_In_Scope_input.delta\")"
   ]
  },
  {
   "cell_type": "code",
   "execution_count": 15,
   "id": "c4fc5576-d080-467d-8c83-0aeb67e9436c",
   "metadata": {},
   "outputs": [
    {
     "name": "stderr",
     "output_type": "stream",
     "text": [
      "ANTLR Tool version 4.7 used for code generation does not match the current runtime version 4.8ANTLR Tool version 4.7 used for code generation does not match the current runtime version 4.8"
     ]
    }
   ],
   "source": [
    "data = main_pipeline.ms_customized_merge_df360_and_WM_Account_In_Scope(spark_engine)"
   ]
  },
  {
   "cell_type": "code",
   "execution_count": 16,
   "id": "0bac078f-39e2-41a5-a769-d4e9e6ce1c81",
   "metadata": {},
   "outputs": [
    {
     "data": {
      "text/plain": [
       "DataFrame[alert_id: bigint, SRC_REF_KEY: string, ACCT_NUM: bigint, PARTY_ID: bigint, ADDRESS_ID: string, TRIGGERED_BY: array<string>, CONCAT_ADDRESS: string, WL_MATCHED_TOKENS: string, ADDRESS1_COUNTRY: string, ADDRESS1_LINE1: string, ADDRESS1_LINE2: string, ADDRESS1_LINE3: string, ADDRESS1_LINE4: string, ADDRESS1_LINE5: string, ACCT_REGS_NM1: string, SRC_SYS_ACCT_KEY: string, AD_SRC_SYS_ACCT_KEY: string, AD_FIRM_ACCT_CD: string, AD_ACCT_NUM: double, AD_ACCT_OWN_TYP_CD: string, AD_ACCT_TYP_CD: string, AD_BRNCH_NUM: int, AD_ACCT_NM: string, AD_ACCT_CLOS_DT: int, AD_CCY_CD: string, AD_ACCT_OPEN_DT: int, AD_ACCT_STAT_CD: string, AD_LAST_TRD_DT: int, AD_BUS_DT: int, AD_BUS_LNE_CD: string, AD_UPDT_DT: int, AD_CREA_DT: int, AD_ACCT_PROD_TYP_NM: string, AD_ACCT_PROD_STYP_NM: string, AD_ACCT_OWN_CTZNSH_CD: string, AD_PRIN_PRTY_ID: string, AD_FRGN_ACCT_IND: string, AD_DOB_DT: int, AD_FRST_NM: string, AD_LAST_NM: string, AD_CASH_ENABLE_IND: string, AD_COD_IND: int, AD_MARG_ENABLE_IND: string, AD_OPTN_TRD_ENBLE_IND: string, AD_ACCT_OPEN_APRV_DT: int, AD_LGL_FORM_NM: string, AD_PHN_1_NUM: bigint, AD_PHN_2_NUM: bigint, AD_SWUNG_FROM_BRNCH_NUM: string, AD_SWUNG_FROM_ACCT_NUM: string, AD_SWUNG_FROM_DT: int, AD_AUTH_AGNT_NM: string, AD_BNFL_NM: string, AD_EMP_RLTD_IND: int, AD_RLTD_ACCT_EMP_ID: string, AD_SALE_REP_RR_NUM: double, AD_SALE_REP_TYP_NM: string, AD_TAX_ID: double, AD_TAX_ID_TYP_ID: int, AD_ACCT_REGS_NM1: string, AD_ACCT_REGS_NM2: string, AD_ACCT_REGS_NM3: string, AD_ACCT_REGS_NM4: string, AD_ACCT_REGS_NM5: string, AD_ACCT_REGS_NM6: string, AD_ACCT_REGS_NM7: string, AD_PROD_SERV_CD: double, AD_ACCT_FRZN_IND: string, AD_BUS_AREA_CD: string, AD_ACCT_REGS_TYP_DESC: string]"
      ]
     },
     "execution_count": 16,
     "metadata": {},
     "output_type": "execute_result"
    }
   ],
   "source": [
    "spark_engine.save_data(data, \"tests/shared/test_ms_pipeline/test_ms_customized_merge_df360_and_WM_Account_In_Scope_output.delta\")"
   ]
  },
  {
   "cell_type": "markdown",
   "id": "a7b9075b-5448-4908-9dc3-fd57bdfe9d77",
   "metadata": {},
   "source": [
    "### set_trigger_reasons"
   ]
  },
  {
   "cell_type": "code",
   "execution_count": 17,
   "id": "01c190f5-4b76-46ef-8ed2-4960a7f4cd4a",
   "metadata": {},
   "outputs": [
    {
     "data": {
      "text/plain": [
       "DataFrame[alert_id: bigint, SRC_REF_KEY: string, ACCT_NUM: bigint, PARTY_ID: bigint, ADDRESS_ID: string, TRIGGERED_BY: array<string>, CONCAT_ADDRESS: string, WL_MATCHED_TOKENS: string, ADDRESS1_COUNTRY: string, ADDRESS1_LINE1: string, ADDRESS1_LINE2: string, ADDRESS1_LINE3: string, ADDRESS1_LINE4: string, ADDRESS1_LINE5: string, ACCT_REGS_NM1: string, SRC_SYS_ACCT_KEY: string, AD_SRC_SYS_ACCT_KEY: string, AD_FIRM_ACCT_CD: string, AD_ACCT_NUM: double, AD_ACCT_OWN_TYP_CD: string, AD_ACCT_TYP_CD: string, AD_BRNCH_NUM: int, AD_ACCT_NM: string, AD_ACCT_CLOS_DT: int, AD_CCY_CD: string, AD_ACCT_OPEN_DT: int, AD_ACCT_STAT_CD: string, AD_LAST_TRD_DT: int, AD_BUS_DT: int, AD_BUS_LNE_CD: string, AD_UPDT_DT: int, AD_CREA_DT: int, AD_ACCT_PROD_TYP_NM: string, AD_ACCT_PROD_STYP_NM: string, AD_ACCT_OWN_CTZNSH_CD: string, AD_PRIN_PRTY_ID: string, AD_FRGN_ACCT_IND: string, AD_DOB_DT: int, AD_FRST_NM: string, AD_LAST_NM: string, AD_CASH_ENABLE_IND: string, AD_COD_IND: int, AD_MARG_ENABLE_IND: string, AD_OPTN_TRD_ENBLE_IND: string, AD_ACCT_OPEN_APRV_DT: int, AD_LGL_FORM_NM: string, AD_PHN_1_NUM: bigint, AD_PHN_2_NUM: bigint, AD_SWUNG_FROM_BRNCH_NUM: string, AD_SWUNG_FROM_ACCT_NUM: string, AD_SWUNG_FROM_DT: int, AD_AUTH_AGNT_NM: string, AD_BNFL_NM: string, AD_EMP_RLTD_IND: int, AD_RLTD_ACCT_EMP_ID: string, AD_SALE_REP_RR_NUM: double, AD_SALE_REP_TYP_NM: string, AD_TAX_ID: double, AD_TAX_ID_TYP_ID: int, AD_ACCT_REGS_NM1: string, AD_ACCT_REGS_NM2: string, AD_ACCT_REGS_NM3: string, AD_ACCT_REGS_NM4: string, AD_ACCT_REGS_NM5: string, AD_ACCT_REGS_NM6: string, AD_ACCT_REGS_NM7: string, AD_PROD_SERV_CD: double, AD_ACCT_FRZN_IND: string, AD_BUS_AREA_CD: string, AD_ACCT_REGS_TYP_DESC: string]"
      ]
     },
     "execution_count": 17,
     "metadata": {},
     "output_type": "execute_result"
    }
   ],
   "source": [
    "spark_engine.save_data(data, \"tests/shared/test_ms_pipeline/test_set_trigger_reasons_input.delta\")"
   ]
  },
  {
   "cell_type": "code",
   "execution_count": 18,
   "id": "39717d80-3531-4d3a-9a75-ef11c2f868dc",
   "metadata": {},
   "outputs": [],
   "source": [
    "data = spark_engine.set_trigger_reasons(data) "
   ]
  },
  {
   "cell_type": "code",
   "execution_count": 19,
   "id": "787a2320-f2c6-483a-a88b-ce6b62fb0590",
   "metadata": {},
   "outputs": [
    {
     "name": "stderr",
     "output_type": "stream",
     "text": [
      "/env/ds/anaconda/envs/pipeline/lib/python3.9/site-packages/fuzzywuzzy/fuzz.py:11: UserWarning: Using slow pure-python SequenceMatcher. Install python-Levenshtein to remove this warning\n",
      "  warnings.warn('Using slow pure-python SequenceMatcher. Install python-Levenshtein to remove this warning')\n",
      "/env/ds/anaconda/envs/pipeline/lib/python3.9/site-packages/fuzzywuzzy/fuzz.py:11: UserWarning: Using slow pure-python SequenceMatcher. Install python-Levenshtein to remove this warning\n",
      "  warnings.warn('Using slow pure-python SequenceMatcher. Install python-Levenshtein to remove this warning')\n",
      "/env/ds/anaconda/envs/pipeline/lib/python3.9/site-packages/fuzzywuzzy/fuzz.py:11: UserWarning: Using slow pure-python SequenceMatcher. Install python-Levenshtein to remove this warning\n",
      "  warnings.warn('Using slow pure-python SequenceMatcher. Install python-Levenshtein to remove this warning')\n",
      "/env/ds/anaconda/envs/pipeline/lib/python3.9/site-packages/fuzzywuzzy/fuzz.py:11: UserWarning: Using slow pure-python SequenceMatcher. Install python-Levenshtein to remove this warning\n",
      "  warnings.warn('Using slow pure-python SequenceMatcher. Install python-Levenshtein to remove this warning')\n",
      "/env/ds/anaconda/envs/pipeline/lib/python3.9/site-packages/fuzzywuzzy/fuzz.py:11: UserWarning: Using slow pure-python SequenceMatcher. Install python-Levenshtein to remove this warning\n",
      "  warnings.warn('Using slow pure-python SequenceMatcher. Install python-Levenshtein to remove this warning')\n",
      "/env/ds/anaconda/envs/pipeline/lib/python3.9/site-packages/fuzzywuzzy/fuzz.py:11: UserWarning: Using slow pure-python SequenceMatcher. Install python-Levenshtein to remove this warning\n",
      "  warnings.warn('Using slow pure-python SequenceMatcher. Install python-Levenshtein to remove this warning')\n",
      "/env/ds/anaconda/envs/pipeline/lib/python3.9/site-packages/fuzzywuzzy/fuzz.py:11: UserWarning: Using slow pure-python SequenceMatcher. Install python-Levenshtein to remove this warning\n",
      "  warnings.warn('Using slow pure-python SequenceMatcher. Install python-Levenshtein to remove this warning')\n",
      "/env/ds/anaconda/envs/pipeline/lib/python3.9/site-packages/fuzzywuzzy/fuzz.py:11: UserWarning: Using slow pure-python SequenceMatcher. Install python-Levenshtein to remove this warning\n",
      "  warnings.warn('Using slow pure-python SequenceMatcher. Install python-Levenshtein to remove this warning')\n"
     ]
    },
    {
     "data": {
      "text/plain": [
       "DataFrame[alert_id: bigint, SRC_REF_KEY: string, ACCT_NUM: bigint, PARTY_ID: bigint, ADDRESS_ID: string, TRIGGERED_BY: array<string>, CONCAT_ADDRESS: string, WL_MATCHED_TOKENS: string, ADDRESS1_COUNTRY: string, ADDRESS1_LINE1: string, ADDRESS1_LINE2: string, ADDRESS1_LINE3: string, ADDRESS1_LINE4: string, ADDRESS1_LINE5: string, ACCT_REGS_NM1: string, SRC_SYS_ACCT_KEY: string, AD_SRC_SYS_ACCT_KEY: string, AD_FIRM_ACCT_CD: string, AD_ACCT_NUM: double, AD_ACCT_OWN_TYP_CD: string, AD_ACCT_TYP_CD: string, AD_BRNCH_NUM: int, AD_ACCT_NM: string, AD_ACCT_CLOS_DT: int, AD_CCY_CD: string, AD_ACCT_OPEN_DT: int, AD_ACCT_STAT_CD: string, AD_LAST_TRD_DT: int, AD_BUS_DT: int, AD_BUS_LNE_CD: string, AD_UPDT_DT: int, AD_CREA_DT: int, AD_ACCT_PROD_TYP_NM: string, AD_ACCT_PROD_STYP_NM: string, AD_ACCT_OWN_CTZNSH_CD: string, AD_PRIN_PRTY_ID: string, AD_FRGN_ACCT_IND: string, AD_DOB_DT: int, AD_FRST_NM: string, AD_LAST_NM: string, AD_CASH_ENABLE_IND: string, AD_COD_IND: int, AD_MARG_ENABLE_IND: string, AD_OPTN_TRD_ENBLE_IND: string, AD_ACCT_OPEN_APRV_DT: int, AD_LGL_FORM_NM: string, AD_PHN_1_NUM: bigint, AD_PHN_2_NUM: bigint, AD_SWUNG_FROM_BRNCH_NUM: string, AD_SWUNG_FROM_ACCT_NUM: string, AD_SWUNG_FROM_DT: int, AD_AUTH_AGNT_NM: string, AD_BNFL_NM: string, AD_EMP_RLTD_IND: int, AD_RLTD_ACCT_EMP_ID: string, AD_SALE_REP_RR_NUM: double, AD_SALE_REP_TYP_NM: string, AD_TAX_ID: double, AD_TAX_ID_TYP_ID: int, AD_ACCT_REGS_NM1: string, AD_ACCT_REGS_NM2: string, AD_ACCT_REGS_NM3: string, AD_ACCT_REGS_NM4: string, AD_ACCT_REGS_NM5: string, AD_ACCT_REGS_NM6: string, AD_ACCT_REGS_NM7: string, AD_PROD_SERV_CD: double, AD_ACCT_FRZN_IND: string, AD_BUS_AREA_CD: string, AD_ACCT_REGS_TYP_DESC: string]"
      ]
     },
     "execution_count": 19,
     "metadata": {},
     "output_type": "execute_result"
    }
   ],
   "source": [
    "spark_engine.save_data(data, \"tests/shared/test_ms_pipeline/test_set_trigger_reasons_output.delta\")"
   ]
  },
  {
   "cell_type": "markdown",
   "id": "8fff1ca7-d48c-460a-b101-9332e9682b68",
   "metadata": {
    "tags": []
   },
   "source": [
    "### merge_with_party_and_address_relationships"
   ]
  },
  {
   "cell_type": "code",
   "execution_count": 20,
   "id": "a010c328-a8ec-4103-9543-ce5c7a527f24",
   "metadata": {},
   "outputs": [
    {
     "data": {
      "text/plain": [
       "DataFrame[alert_id: bigint, SRC_REF_KEY: string, ACCT_NUM: bigint, PARTY_ID: bigint, ADDRESS_ID: string, TRIGGERED_BY: array<string>, CONCAT_ADDRESS: string, WL_MATCHED_TOKENS: string, ADDRESS1_COUNTRY: string, ADDRESS1_LINE1: string, ADDRESS1_LINE2: string, ADDRESS1_LINE3: string, ADDRESS1_LINE4: string, ADDRESS1_LINE5: string, ACCT_REGS_NM1: string, SRC_SYS_ACCT_KEY: string, AD_SRC_SYS_ACCT_KEY: string, AD_FIRM_ACCT_CD: string, AD_ACCT_NUM: double, AD_ACCT_OWN_TYP_CD: string, AD_ACCT_TYP_CD: string, AD_BRNCH_NUM: int, AD_ACCT_NM: string, AD_ACCT_CLOS_DT: int, AD_CCY_CD: string, AD_ACCT_OPEN_DT: int, AD_ACCT_STAT_CD: string, AD_LAST_TRD_DT: int, AD_BUS_DT: int, AD_BUS_LNE_CD: string, AD_UPDT_DT: int, AD_CREA_DT: int, AD_ACCT_PROD_TYP_NM: string, AD_ACCT_PROD_STYP_NM: string, AD_ACCT_OWN_CTZNSH_CD: string, AD_PRIN_PRTY_ID: string, AD_FRGN_ACCT_IND: string, AD_DOB_DT: int, AD_FRST_NM: string, AD_LAST_NM: string, AD_CASH_ENABLE_IND: string, AD_COD_IND: int, AD_MARG_ENABLE_IND: string, AD_OPTN_TRD_ENBLE_IND: string, AD_ACCT_OPEN_APRV_DT: int, AD_LGL_FORM_NM: string, AD_PHN_1_NUM: bigint, AD_PHN_2_NUM: bigint, AD_SWUNG_FROM_BRNCH_NUM: string, AD_SWUNG_FROM_ACCT_NUM: string, AD_SWUNG_FROM_DT: int, AD_AUTH_AGNT_NM: string, AD_BNFL_NM: string, AD_EMP_RLTD_IND: int, AD_RLTD_ACCT_EMP_ID: string, AD_SALE_REP_RR_NUM: double, AD_SALE_REP_TYP_NM: string, AD_TAX_ID: double, AD_TAX_ID_TYP_ID: int, AD_ACCT_REGS_NM1: string, AD_ACCT_REGS_NM2: string, AD_ACCT_REGS_NM3: string, AD_ACCT_REGS_NM4: string, AD_ACCT_REGS_NM5: string, AD_ACCT_REGS_NM6: string, AD_ACCT_REGS_NM7: string, AD_PROD_SERV_CD: double, AD_ACCT_FRZN_IND: string, AD_BUS_AREA_CD: string, AD_ACCT_REGS_TYP_DESC: string]"
      ]
     },
     "execution_count": 20,
     "metadata": {},
     "output_type": "execute_result"
    }
   ],
   "source": [
    "spark_engine.save_data(data, \"tests/shared/test_ms_pipeline/test_merge_with_party_and_address_relationships_input.delta\")"
   ]
  },
  {
   "cell_type": "code",
   "execution_count": 21,
   "id": "28788030-31c4-4717-a953-76de7bdb260b",
   "metadata": {},
   "outputs": [],
   "source": [
    "data = spark_engine.merge_with_party_and_address_relationships(data)"
   ]
  },
  {
   "cell_type": "code",
   "execution_count": 22,
   "id": "ed6e7a83-b1c8-4223-a920-5b77e4339abf",
   "metadata": {},
   "outputs": [
    {
     "name": "stderr",
     "output_type": "stream",
     "text": [
      "/env/ds/anaconda/envs/pipeline/lib/python3.9/site-packages/fuzzywuzzy/fuzz.py:11: UserWarning: Using slow pure-python SequenceMatcher. Install python-Levenshtein to remove this warning\n",
      "  warnings.warn('Using slow pure-python SequenceMatcher. Install python-Levenshtein to remove this warning')\n",
      "/env/ds/anaconda/envs/pipeline/lib/python3.9/site-packages/fuzzywuzzy/fuzz.py:11: UserWarning: Using slow pure-python SequenceMatcher. Install python-Levenshtein to remove this warning\n",
      "  warnings.warn('Using slow pure-python SequenceMatcher. Install python-Levenshtein to remove this warning')\n",
      "/env/ds/anaconda/envs/pipeline/lib/python3.9/site-packages/fuzzywuzzy/fuzz.py:11: UserWarning: Using slow pure-python SequenceMatcher. Install python-Levenshtein to remove this warning\n",
      "  warnings.warn('Using slow pure-python SequenceMatcher. Install python-Levenshtein to remove this warning')\n",
      "                                                                                \r"
     ]
    },
    {
     "data": {
      "text/plain": [
       "DataFrame[alert_id: bigint, SRC_SYS_ACCT_KEY: string, ADDRESS_ID: string, SRC_REF_KEY: string, ACCT_NUM: bigint, PARTY_ID: bigint, TRIGGERED_BY: array<string>, CONCAT_ADDRESS: string, WL_MATCHED_TOKENS: string, ADDRESS1_COUNTRY: string, ADDRESS1_LINE1: string, ADDRESS1_LINE2: string, ADDRESS1_LINE3: string, ADDRESS1_LINE4: string, ADDRESS1_LINE5: string, ACCT_REGS_NM1: string, AD_SRC_SYS_ACCT_KEY: string, AD_FIRM_ACCT_CD: string, AD_ACCT_NUM: double, AD_ACCT_OWN_TYP_CD: string, AD_ACCT_TYP_CD: string, AD_BRNCH_NUM: int, AD_ACCT_NM: string, AD_ACCT_CLOS_DT: int, AD_CCY_CD: string, AD_ACCT_OPEN_DT: int, AD_ACCT_STAT_CD: string, AD_LAST_TRD_DT: int, AD_BUS_DT: int, AD_BUS_LNE_CD: string, AD_UPDT_DT: int, AD_CREA_DT: int, AD_ACCT_PROD_TYP_NM: string, AD_ACCT_PROD_STYP_NM: string, AD_ACCT_OWN_CTZNSH_CD: string, AD_PRIN_PRTY_ID: string, AD_FRGN_ACCT_IND: string, AD_DOB_DT: int, AD_FRST_NM: string, AD_LAST_NM: string, AD_CASH_ENABLE_IND: string, AD_COD_IND: int, AD_MARG_ENABLE_IND: string, AD_OPTN_TRD_ENBLE_IND: string, AD_ACCT_OPEN_APRV_DT: int, AD_LGL_FORM_NM: string, AD_PHN_1_NUM: bigint, AD_PHN_2_NUM: bigint, AD_SWUNG_FROM_BRNCH_NUM: string, AD_SWUNG_FROM_ACCT_NUM: string, AD_SWUNG_FROM_DT: int, AD_AUTH_AGNT_NM: string, AD_BNFL_NM: string, AD_EMP_RLTD_IND: int, AD_RLTD_ACCT_EMP_ID: string, AD_SALE_REP_RR_NUM: double, AD_SALE_REP_TYP_NM: string, AD_TAX_ID: double, AD_TAX_ID_TYP_ID: int, AD_ACCT_REGS_NM1: string, AD_ACCT_REGS_NM2: string, AD_ACCT_REGS_NM3: string, AD_ACCT_REGS_NM4: string, AD_ACCT_REGS_NM5: string, AD_ACCT_REGS_NM6: string, AD_ACCT_REGS_NM7: string, AD_PROD_SERV_CD: double, AD_ACCT_FRZN_IND: string, AD_BUS_AREA_CD: string, AD_ACCT_REGS_TYP_DESC: string, ALL_PARTY_DETAILS: array<struct<PRTY_TYP:string,PRTY_NM:string,DOB_DT:string,PRTY_CNTRY_OF_BIRTH:string,PRTY_PRIM_CTZNSH_CNTRY:string,PRTY_RSDNC_CNTRY_CD:string>>, ALL_PARTY_TYPES: array<string>, all_party_names: array<string>, all_party_dobs: array<string>, all_party_birth_countries: array<string>, all_party_citizenship_countries: array<string>, all_party_residency_countries: array<string>, all_connected_parties_names: array<string>]"
      ]
     },
     "execution_count": 22,
     "metadata": {},
     "output_type": "execute_result"
    }
   ],
   "source": [
    "spark_engine.save_data(data, \"tests/shared/test_ms_pipeline/test_merge_with_party_and_address_relationships_output.delta\")"
   ]
  },
  {
   "cell_type": "markdown",
   "id": "32905d5f-7411-4d51-98ab-a15d320d7435",
   "metadata": {
    "tags": []
   },
   "source": [
    "### set_beneficiary_hits"
   ]
  },
  {
   "cell_type": "code",
   "execution_count": 23,
   "id": "e17645f0-a497-4d54-b8f2-5dfd32f4a862",
   "metadata": {},
   "outputs": [
    {
     "name": "stderr",
     "output_type": "stream",
     "text": [
      "/env/ds/anaconda/envs/pipeline/lib/python3.9/site-packages/fuzzywuzzy/fuzz.py:11: UserWarning: Using slow pure-python SequenceMatcher. Install python-Levenshtein to remove this warning\n",
      "  warnings.warn('Using slow pure-python SequenceMatcher. Install python-Levenshtein to remove this warning')\n"
     ]
    },
    {
     "data": {
      "text/plain": [
       "DataFrame[alert_id: bigint, SRC_SYS_ACCT_KEY: string, ADDRESS_ID: string, SRC_REF_KEY: string, ACCT_NUM: bigint, PARTY_ID: bigint, TRIGGERED_BY: array<string>, CONCAT_ADDRESS: string, WL_MATCHED_TOKENS: string, ADDRESS1_COUNTRY: string, ADDRESS1_LINE1: string, ADDRESS1_LINE2: string, ADDRESS1_LINE3: string, ADDRESS1_LINE4: string, ADDRESS1_LINE5: string, ACCT_REGS_NM1: string, AD_SRC_SYS_ACCT_KEY: string, AD_FIRM_ACCT_CD: string, AD_ACCT_NUM: double, AD_ACCT_OWN_TYP_CD: string, AD_ACCT_TYP_CD: string, AD_BRNCH_NUM: int, AD_ACCT_NM: string, AD_ACCT_CLOS_DT: int, AD_CCY_CD: string, AD_ACCT_OPEN_DT: int, AD_ACCT_STAT_CD: string, AD_LAST_TRD_DT: int, AD_BUS_DT: int, AD_BUS_LNE_CD: string, AD_UPDT_DT: int, AD_CREA_DT: int, AD_ACCT_PROD_TYP_NM: string, AD_ACCT_PROD_STYP_NM: string, AD_ACCT_OWN_CTZNSH_CD: string, AD_PRIN_PRTY_ID: string, AD_FRGN_ACCT_IND: string, AD_DOB_DT: int, AD_FRST_NM: string, AD_LAST_NM: string, AD_CASH_ENABLE_IND: string, AD_COD_IND: int, AD_MARG_ENABLE_IND: string, AD_OPTN_TRD_ENBLE_IND: string, AD_ACCT_OPEN_APRV_DT: int, AD_LGL_FORM_NM: string, AD_PHN_1_NUM: bigint, AD_PHN_2_NUM: bigint, AD_SWUNG_FROM_BRNCH_NUM: string, AD_SWUNG_FROM_ACCT_NUM: string, AD_SWUNG_FROM_DT: int, AD_AUTH_AGNT_NM: string, AD_BNFL_NM: string, AD_EMP_RLTD_IND: int, AD_RLTD_ACCT_EMP_ID: string, AD_SALE_REP_RR_NUM: double, AD_SALE_REP_TYP_NM: string, AD_TAX_ID: double, AD_TAX_ID_TYP_ID: int, AD_ACCT_REGS_NM1: string, AD_ACCT_REGS_NM2: string, AD_ACCT_REGS_NM3: string, AD_ACCT_REGS_NM4: string, AD_ACCT_REGS_NM5: string, AD_ACCT_REGS_NM6: string, AD_ACCT_REGS_NM7: string, AD_PROD_SERV_CD: double, AD_ACCT_FRZN_IND: string, AD_BUS_AREA_CD: string, AD_ACCT_REGS_TYP_DESC: string, ALL_PARTY_DETAILS: array<struct<PRTY_TYP:string,PRTY_NM:string,DOB_DT:string,PRTY_CNTRY_OF_BIRTH:string,PRTY_PRIM_CTZNSH_CNTRY:string,PRTY_RSDNC_CNTRY_CD:string>>, ALL_PARTY_TYPES: array<string>, all_party_names: array<string>, all_party_dobs: array<string>, all_party_birth_countries: array<string>, all_party_citizenship_countries: array<string>, all_party_residency_countries: array<string>, all_connected_parties_names: array<string>]"
      ]
     },
     "execution_count": 23,
     "metadata": {},
     "output_type": "execute_result"
    }
   ],
   "source": [
    "spark_engine.save_data(data, \"tests/shared/test_ms_pipeline/test_set_beneficiary_hits_input.delta\")"
   ]
  },
  {
   "cell_type": "code",
   "execution_count": 24,
   "id": "93f88f19-d90d-4834-ae67-98b11e919199",
   "metadata": {},
   "outputs": [],
   "source": [
    "data = spark_engine.set_beneficiary_hits(data)"
   ]
  },
  {
   "cell_type": "code",
   "execution_count": 25,
   "id": "f08069c6-e9fc-4198-bed6-fe8ffadb91fc",
   "metadata": {},
   "outputs": [
    {
     "data": {
      "text/plain": [
       "DataFrame[alert_id: bigint, SRC_SYS_ACCT_KEY: string, ADDRESS_ID: string, SRC_REF_KEY: string, ACCT_NUM: bigint, PARTY_ID: bigint, TRIGGERED_BY: array<string>, CONCAT_ADDRESS: string, WL_MATCHED_TOKENS: string, ADDRESS1_COUNTRY: string, ADDRESS1_LINE1: string, ADDRESS1_LINE2: string, ADDRESS1_LINE3: string, ADDRESS1_LINE4: string, ADDRESS1_LINE5: string, ACCT_REGS_NM1: string, AD_SRC_SYS_ACCT_KEY: string, AD_FIRM_ACCT_CD: string, AD_ACCT_NUM: double, AD_ACCT_OWN_TYP_CD: string, AD_ACCT_TYP_CD: string, AD_BRNCH_NUM: int, AD_ACCT_NM: string, AD_ACCT_CLOS_DT: int, AD_CCY_CD: string, AD_ACCT_OPEN_DT: int, AD_ACCT_STAT_CD: string, AD_LAST_TRD_DT: int, AD_BUS_DT: int, AD_BUS_LNE_CD: string, AD_UPDT_DT: int, AD_CREA_DT: int, AD_ACCT_PROD_TYP_NM: string, AD_ACCT_PROD_STYP_NM: string, AD_ACCT_OWN_CTZNSH_CD: string, AD_PRIN_PRTY_ID: string, AD_FRGN_ACCT_IND: string, AD_DOB_DT: int, AD_FRST_NM: string, AD_LAST_NM: string, AD_CASH_ENABLE_IND: string, AD_COD_IND: int, AD_MARG_ENABLE_IND: string, AD_OPTN_TRD_ENBLE_IND: string, AD_ACCT_OPEN_APRV_DT: int, AD_LGL_FORM_NM: string, AD_PHN_1_NUM: bigint, AD_PHN_2_NUM: bigint, AD_SWUNG_FROM_BRNCH_NUM: string, AD_SWUNG_FROM_ACCT_NUM: string, AD_SWUNG_FROM_DT: int, AD_AUTH_AGNT_NM: string, AD_BNFL_NM: string, AD_EMP_RLTD_IND: int, AD_RLTD_ACCT_EMP_ID: string, AD_SALE_REP_RR_NUM: double, AD_SALE_REP_TYP_NM: string, AD_TAX_ID: double, AD_TAX_ID_TYP_ID: int, AD_ACCT_REGS_NM1: string, AD_ACCT_REGS_NM2: string, AD_ACCT_REGS_NM3: string, AD_ACCT_REGS_NM4: string, AD_ACCT_REGS_NM5: string, AD_ACCT_REGS_NM6: string, AD_ACCT_REGS_NM7: string, AD_PROD_SERV_CD: double, AD_ACCT_FRZN_IND: string, AD_BUS_AREA_CD: string, AD_ACCT_REGS_TYP_DESC: string, ALL_PARTY_DETAILS: array<struct<PRTY_TYP:string,PRTY_NM:string,DOB_DT:string,PRTY_CNTRY_OF_BIRTH:string,PRTY_PRIM_CTZNSH_CNTRY:string,PRTY_RSDNC_CNTRY_CD:string>>, ALL_PARTY_TYPES: array<string>, all_party_names: array<string>, all_party_dobs: array<string>, all_party_birth_countries: array<string>, all_party_citizenship_countries: array<string>, all_party_residency_countries: array<string>, all_connected_parties_names: array<string>, is_beneficiary_hit: boolean]"
      ]
     },
     "execution_count": 25,
     "metadata": {},
     "output_type": "execute_result"
    }
   ],
   "source": [
    "spark_engine.save_data(data, \"tests/shared/test_ms_pipeline/test_set_beneficiary_hits_output.delta\")"
   ]
  },
  {
   "cell_type": "markdown",
   "id": "3f80f402-340d-47b8-90a4-7e6df059be93",
   "metadata": {},
   "source": [
    "### set_clean_names"
   ]
  },
  {
   "cell_type": "code",
   "execution_count": 26,
   "id": "b4b58017-78e6-4e90-9f50-190e98652ae0",
   "metadata": {},
   "outputs": [
    {
     "name": "stderr",
     "output_type": "stream",
     "text": [
      "/env/ds/anaconda/envs/pipeline/lib/python3.9/site-packages/fuzzywuzzy/fuzz.py:11: UserWarning: Using slow pure-python SequenceMatcher. Install python-Levenshtein to remove this warning\n",
      "  warnings.warn('Using slow pure-python SequenceMatcher. Install python-Levenshtein to remove this warning')\n",
      "/env/ds/anaconda/envs/pipeline/lib/python3.9/site-packages/fuzzywuzzy/fuzz.py:11: UserWarning: Using slow pure-python SequenceMatcher. Install python-Levenshtein to remove this warning\n",
      "  warnings.warn('Using slow pure-python SequenceMatcher. Install python-Levenshtein to remove this warning')\n",
      "/env/ds/anaconda/envs/pipeline/lib/python3.9/site-packages/fuzzywuzzy/fuzz.py:11: UserWarning: Using slow pure-python SequenceMatcher. Install python-Levenshtein to remove this warning\n",
      "  warnings.warn('Using slow pure-python SequenceMatcher. Install python-Levenshtein to remove this warning')\n"
     ]
    },
    {
     "data": {
      "text/plain": [
       "DataFrame[alert_id: bigint, SRC_SYS_ACCT_KEY: string, ADDRESS_ID: string, SRC_REF_KEY: string, ACCT_NUM: bigint, PARTY_ID: bigint, TRIGGERED_BY: array<string>, CONCAT_ADDRESS: string, WL_MATCHED_TOKENS: string, ADDRESS1_COUNTRY: string, ADDRESS1_LINE1: string, ADDRESS1_LINE2: string, ADDRESS1_LINE3: string, ADDRESS1_LINE4: string, ADDRESS1_LINE5: string, ACCT_REGS_NM1: string, AD_SRC_SYS_ACCT_KEY: string, AD_FIRM_ACCT_CD: string, AD_ACCT_NUM: double, AD_ACCT_OWN_TYP_CD: string, AD_ACCT_TYP_CD: string, AD_BRNCH_NUM: int, AD_ACCT_NM: string, AD_ACCT_CLOS_DT: int, AD_CCY_CD: string, AD_ACCT_OPEN_DT: int, AD_ACCT_STAT_CD: string, AD_LAST_TRD_DT: int, AD_BUS_DT: int, AD_BUS_LNE_CD: string, AD_UPDT_DT: int, AD_CREA_DT: int, AD_ACCT_PROD_TYP_NM: string, AD_ACCT_PROD_STYP_NM: string, AD_ACCT_OWN_CTZNSH_CD: string, AD_PRIN_PRTY_ID: string, AD_FRGN_ACCT_IND: string, AD_DOB_DT: int, AD_FRST_NM: string, AD_LAST_NM: string, AD_CASH_ENABLE_IND: string, AD_COD_IND: int, AD_MARG_ENABLE_IND: string, AD_OPTN_TRD_ENBLE_IND: string, AD_ACCT_OPEN_APRV_DT: int, AD_LGL_FORM_NM: string, AD_PHN_1_NUM: bigint, AD_PHN_2_NUM: bigint, AD_SWUNG_FROM_BRNCH_NUM: string, AD_SWUNG_FROM_ACCT_NUM: string, AD_SWUNG_FROM_DT: int, AD_AUTH_AGNT_NM: string, AD_BNFL_NM: string, AD_EMP_RLTD_IND: int, AD_RLTD_ACCT_EMP_ID: string, AD_SALE_REP_RR_NUM: double, AD_SALE_REP_TYP_NM: string, AD_TAX_ID: double, AD_TAX_ID_TYP_ID: int, AD_ACCT_REGS_NM1: string, AD_ACCT_REGS_NM2: string, AD_ACCT_REGS_NM3: string, AD_ACCT_REGS_NM4: string, AD_ACCT_REGS_NM5: string, AD_ACCT_REGS_NM6: string, AD_ACCT_REGS_NM7: string, AD_PROD_SERV_CD: double, AD_ACCT_FRZN_IND: string, AD_BUS_AREA_CD: string, AD_ACCT_REGS_TYP_DESC: string, ALL_PARTY_DETAILS: array<struct<PRTY_TYP:string,PRTY_NM:string,DOB_DT:string,PRTY_CNTRY_OF_BIRTH:string,PRTY_PRIM_CTZNSH_CNTRY:string,PRTY_RSDNC_CNTRY_CD:string>>, ALL_PARTY_TYPES: array<string>, all_party_names: array<string>, all_party_dobs: array<string>, all_party_birth_countries: array<string>, all_party_citizenship_countries: array<string>, all_party_residency_countries: array<string>, all_connected_parties_names: array<string>, is_beneficiary_hit: boolean]"
      ]
     },
     "execution_count": 26,
     "metadata": {},
     "output_type": "execute_result"
    }
   ],
   "source": [
    "spark_engine.save_data(data, \"tests/shared/test_ms_pipeline/test_set_clean_names_input.delta\")"
   ]
  },
  {
   "cell_type": "code",
   "execution_count": 27,
   "id": "3d119385-36cf-4b36-bb05-3d30157a1864",
   "metadata": {},
   "outputs": [],
   "source": [
    "data = spark_engine.set_clean_names(data)"
   ]
  },
  {
   "cell_type": "code",
   "execution_count": 28,
   "id": "af2583f0-10ee-4cad-b277-b1a0e2b399b8",
   "metadata": {},
   "outputs": [
    {
     "name": "stderr",
     "output_type": "stream",
     "text": [
      "/env/ds/anaconda/envs/pipeline/lib/python3.9/site-packages/fuzzywuzzy/fuzz.py:11: UserWarning: Using slow pure-python SequenceMatcher. Install python-Levenshtein to remove this warning\n",
      "  warnings.warn('Using slow pure-python SequenceMatcher. Install python-Levenshtein to remove this warning')\n",
      "                                                                                \r"
     ]
    },
    {
     "data": {
      "text/plain": [
       "DataFrame[alert_id: bigint, SRC_SYS_ACCT_KEY: string, ADDRESS_ID: string, SRC_REF_KEY: string, ACCT_NUM: bigint, PARTY_ID: bigint, TRIGGERED_BY: array<string>, CONCAT_ADDRESS: string, WL_MATCHED_TOKENS: string, ADDRESS1_COUNTRY: string, ADDRESS1_LINE1: string, ADDRESS1_LINE2: string, ADDRESS1_LINE3: string, ADDRESS1_LINE4: string, ADDRESS1_LINE5: string, ACCT_REGS_NM1: string, AD_SRC_SYS_ACCT_KEY: string, AD_FIRM_ACCT_CD: string, AD_ACCT_NUM: double, AD_ACCT_OWN_TYP_CD: string, AD_ACCT_TYP_CD: string, AD_BRNCH_NUM: int, AD_ACCT_NM: string, AD_ACCT_CLOS_DT: int, AD_CCY_CD: string, AD_ACCT_OPEN_DT: int, AD_ACCT_STAT_CD: string, AD_LAST_TRD_DT: int, AD_BUS_DT: int, AD_BUS_LNE_CD: string, AD_UPDT_DT: int, AD_CREA_DT: int, AD_ACCT_PROD_TYP_NM: string, AD_ACCT_PROD_STYP_NM: string, AD_ACCT_OWN_CTZNSH_CD: string, AD_PRIN_PRTY_ID: string, AD_FRGN_ACCT_IND: string, AD_DOB_DT: int, AD_FRST_NM: string, AD_LAST_NM: string, AD_CASH_ENABLE_IND: string, AD_COD_IND: int, AD_MARG_ENABLE_IND: string, AD_OPTN_TRD_ENBLE_IND: string, AD_ACCT_OPEN_APRV_DT: int, AD_LGL_FORM_NM: string, AD_PHN_1_NUM: bigint, AD_PHN_2_NUM: bigint, AD_SWUNG_FROM_BRNCH_NUM: string, AD_SWUNG_FROM_ACCT_NUM: string, AD_SWUNG_FROM_DT: int, AD_AUTH_AGNT_NM: string, AD_BNFL_NM: string, AD_EMP_RLTD_IND: int, AD_RLTD_ACCT_EMP_ID: string, AD_SALE_REP_RR_NUM: double, AD_SALE_REP_TYP_NM: string, AD_TAX_ID: double, AD_TAX_ID_TYP_ID: int, AD_ACCT_REGS_NM1: string, AD_ACCT_REGS_NM2: string, AD_ACCT_REGS_NM3: string, AD_ACCT_REGS_NM4: string, AD_ACCT_REGS_NM5: string, AD_ACCT_REGS_NM6: string, AD_ACCT_REGS_NM7: string, AD_PROD_SERV_CD: double, AD_ACCT_FRZN_IND: string, AD_BUS_AREA_CD: string, AD_ACCT_REGS_TYP_DESC: string, ALL_PARTY_DETAILS: array<struct<PRTY_TYP:string,PRTY_NM:string,DOB_DT:string,PRTY_CNTRY_OF_BIRTH:string,PRTY_PRIM_CTZNSH_CNTRY:string,PRTY_RSDNC_CNTRY_CD:string>>, ALL_PARTY_TYPES: array<string>, all_party_names: array<string>, all_party_dobs: array<string>, all_party_birth_countries: array<string>, all_party_citizenship_countries: array<string>, all_party_residency_countries: array<string>, all_connected_parties_names: array<string>, is_beneficiary_hit: boolean, cleaned_names: map<string,string>]"
      ]
     },
     "execution_count": 28,
     "metadata": {},
     "output_type": "execute_result"
    }
   ],
   "source": [
    "spark_engine.save_data(data, \"tests/shared/test_ms_pipeline/test_set_clean_names_output.delta\")"
   ]
  },
  {
   "cell_type": "markdown",
   "id": "6e1aef35-0f64-40ac-b57f-dec3947d510c",
   "metadata": {
    "tags": []
   },
   "source": [
    "### set_concat_residue"
   ]
  },
  {
   "cell_type": "code",
   "execution_count": 29,
   "id": "86be9758-073c-418e-9581-98a188066d0b",
   "metadata": {},
   "outputs": [
    {
     "name": "stderr",
     "output_type": "stream",
     "text": [
      "                                                                                \r"
     ]
    },
    {
     "data": {
      "text/plain": [
       "DataFrame[alert_id: bigint, SRC_SYS_ACCT_KEY: string, ADDRESS_ID: string, SRC_REF_KEY: string, ACCT_NUM: bigint, PARTY_ID: bigint, TRIGGERED_BY: array<string>, CONCAT_ADDRESS: string, WL_MATCHED_TOKENS: string, ADDRESS1_COUNTRY: string, ADDRESS1_LINE1: string, ADDRESS1_LINE2: string, ADDRESS1_LINE3: string, ADDRESS1_LINE4: string, ADDRESS1_LINE5: string, ACCT_REGS_NM1: string, AD_SRC_SYS_ACCT_KEY: string, AD_FIRM_ACCT_CD: string, AD_ACCT_NUM: double, AD_ACCT_OWN_TYP_CD: string, AD_ACCT_TYP_CD: string, AD_BRNCH_NUM: int, AD_ACCT_NM: string, AD_ACCT_CLOS_DT: int, AD_CCY_CD: string, AD_ACCT_OPEN_DT: int, AD_ACCT_STAT_CD: string, AD_LAST_TRD_DT: int, AD_BUS_DT: int, AD_BUS_LNE_CD: string, AD_UPDT_DT: int, AD_CREA_DT: int, AD_ACCT_PROD_TYP_NM: string, AD_ACCT_PROD_STYP_NM: string, AD_ACCT_OWN_CTZNSH_CD: string, AD_PRIN_PRTY_ID: string, AD_FRGN_ACCT_IND: string, AD_DOB_DT: int, AD_FRST_NM: string, AD_LAST_NM: string, AD_CASH_ENABLE_IND: string, AD_COD_IND: int, AD_MARG_ENABLE_IND: string, AD_OPTN_TRD_ENBLE_IND: string, AD_ACCT_OPEN_APRV_DT: int, AD_LGL_FORM_NM: string, AD_PHN_1_NUM: bigint, AD_PHN_2_NUM: bigint, AD_SWUNG_FROM_BRNCH_NUM: string, AD_SWUNG_FROM_ACCT_NUM: string, AD_SWUNG_FROM_DT: int, AD_AUTH_AGNT_NM: string, AD_BNFL_NM: string, AD_EMP_RLTD_IND: int, AD_RLTD_ACCT_EMP_ID: string, AD_SALE_REP_RR_NUM: double, AD_SALE_REP_TYP_NM: string, AD_TAX_ID: double, AD_TAX_ID_TYP_ID: int, AD_ACCT_REGS_NM1: string, AD_ACCT_REGS_NM2: string, AD_ACCT_REGS_NM3: string, AD_ACCT_REGS_NM4: string, AD_ACCT_REGS_NM5: string, AD_ACCT_REGS_NM6: string, AD_ACCT_REGS_NM7: string, AD_PROD_SERV_CD: double, AD_ACCT_FRZN_IND: string, AD_BUS_AREA_CD: string, AD_ACCT_REGS_TYP_DESC: string, ALL_PARTY_DETAILS: array<struct<PRTY_TYP:string,PRTY_NM:string,DOB_DT:string,PRTY_CNTRY_OF_BIRTH:string,PRTY_PRIM_CTZNSH_CNTRY:string,PRTY_RSDNC_CNTRY_CD:string>>, ALL_PARTY_TYPES: array<string>, all_party_names: array<string>, all_party_dobs: array<string>, all_party_birth_countries: array<string>, all_party_citizenship_countries: array<string>, all_party_residency_countries: array<string>, all_connected_parties_names: array<string>, is_beneficiary_hit: boolean, cleaned_names: map<string,string>]"
      ]
     },
     "execution_count": 29,
     "metadata": {},
     "output_type": "execute_result"
    }
   ],
   "source": [
    "spark_engine.save_data(data, \"tests/shared/test_ms_pipeline/test_set_concat_residue_input.delta\")"
   ]
  },
  {
   "cell_type": "code",
   "execution_count": 30,
   "id": "4b3d2368-9900-47dd-8f28-86ce3359d9b1",
   "metadata": {},
   "outputs": [],
   "source": [
    "data = spark_engine.set_concat_residue(data)\n"
   ]
  },
  {
   "cell_type": "code",
   "execution_count": 31,
   "id": "0904b94a-07ac-4aae-9710-1ea25b13e02e",
   "metadata": {},
   "outputs": [
    {
     "name": "stderr",
     "output_type": "stream",
     "text": [
      "                                                                                \r"
     ]
    },
    {
     "data": {
      "text/plain": [
       "DataFrame[alert_id: bigint, SRC_SYS_ACCT_KEY: string, ADDRESS_ID: string, SRC_REF_KEY: string, ACCT_NUM: bigint, PARTY_ID: bigint, TRIGGERED_BY: array<string>, CONCAT_ADDRESS: string, WL_MATCHED_TOKENS: string, ADDRESS1_COUNTRY: string, ADDRESS1_LINE1: string, ADDRESS1_LINE2: string, ADDRESS1_LINE3: string, ADDRESS1_LINE4: string, ADDRESS1_LINE5: string, ACCT_REGS_NM1: string, AD_SRC_SYS_ACCT_KEY: string, AD_FIRM_ACCT_CD: string, AD_ACCT_NUM: double, AD_ACCT_OWN_TYP_CD: string, AD_ACCT_TYP_CD: string, AD_BRNCH_NUM: int, AD_ACCT_NM: string, AD_ACCT_CLOS_DT: int, AD_CCY_CD: string, AD_ACCT_OPEN_DT: int, AD_ACCT_STAT_CD: string, AD_LAST_TRD_DT: int, AD_BUS_DT: int, AD_BUS_LNE_CD: string, AD_UPDT_DT: int, AD_CREA_DT: int, AD_ACCT_PROD_TYP_NM: string, AD_ACCT_PROD_STYP_NM: string, AD_ACCT_OWN_CTZNSH_CD: string, AD_PRIN_PRTY_ID: string, AD_FRGN_ACCT_IND: string, AD_DOB_DT: int, AD_FRST_NM: string, AD_LAST_NM: string, AD_CASH_ENABLE_IND: string, AD_COD_IND: int, AD_MARG_ENABLE_IND: string, AD_OPTN_TRD_ENBLE_IND: string, AD_ACCT_OPEN_APRV_DT: int, AD_LGL_FORM_NM: string, AD_PHN_1_NUM: bigint, AD_PHN_2_NUM: bigint, AD_SWUNG_FROM_BRNCH_NUM: string, AD_SWUNG_FROM_ACCT_NUM: string, AD_SWUNG_FROM_DT: int, AD_AUTH_AGNT_NM: string, AD_BNFL_NM: string, AD_EMP_RLTD_IND: int, AD_RLTD_ACCT_EMP_ID: string, AD_SALE_REP_RR_NUM: double, AD_SALE_REP_TYP_NM: string, AD_TAX_ID: double, AD_TAX_ID_TYP_ID: int, AD_ACCT_REGS_NM1: string, AD_ACCT_REGS_NM2: string, AD_ACCT_REGS_NM3: string, AD_ACCT_REGS_NM4: string, AD_ACCT_REGS_NM5: string, AD_ACCT_REGS_NM6: string, AD_ACCT_REGS_NM7: string, AD_PROD_SERV_CD: double, AD_ACCT_FRZN_IND: string, AD_BUS_AREA_CD: string, AD_ACCT_REGS_TYP_DESC: string, ALL_PARTY_DETAILS: array<struct<PRTY_TYP:string,PRTY_NM:string,DOB_DT:string,PRTY_CNTRY_OF_BIRTH:string,PRTY_PRIM_CTZNSH_CNTRY:string,PRTY_RSDNC_CNTRY_CD:string>>, ALL_PARTY_TYPES: array<string>, all_party_names: array<string>, all_party_dobs: array<string>, all_party_birth_countries: array<string>, all_party_citizenship_countries: array<string>, all_party_residency_countries: array<string>, all_connected_parties_names: array<string>, is_beneficiary_hit: boolean, cleaned_names: map<string,string>, concat_residue: string]"
      ]
     },
     "execution_count": 31,
     "metadata": {},
     "output_type": "execute_result"
    }
   ],
   "source": [
    "spark_engine.save_data(data, \"tests/shared/test_ms_pipeline/test_set_concat_residue_output.delta\")"
   ]
  },
  {
   "cell_type": "markdown",
   "id": "0418ec07-d2d8-4d97-a4af-97570493527f",
   "metadata": {},
   "source": [
    "### set_concat_address_no_change\n"
   ]
  },
  {
   "cell_type": "code",
   "execution_count": 32,
   "id": "5fd74ddc-8e30-481e-aff7-84caafd1623c",
   "metadata": {},
   "outputs": [
    {
     "name": "stderr",
     "output_type": "stream",
     "text": [
      "                                                                                \r"
     ]
    },
    {
     "data": {
      "text/plain": [
       "DataFrame[alert_id: bigint, SRC_SYS_ACCT_KEY: string, ADDRESS_ID: string, SRC_REF_KEY: string, ACCT_NUM: bigint, PARTY_ID: bigint, TRIGGERED_BY: array<string>, CONCAT_ADDRESS: string, WL_MATCHED_TOKENS: string, ADDRESS1_COUNTRY: string, ADDRESS1_LINE1: string, ADDRESS1_LINE2: string, ADDRESS1_LINE3: string, ADDRESS1_LINE4: string, ADDRESS1_LINE5: string, ACCT_REGS_NM1: string, AD_SRC_SYS_ACCT_KEY: string, AD_FIRM_ACCT_CD: string, AD_ACCT_NUM: double, AD_ACCT_OWN_TYP_CD: string, AD_ACCT_TYP_CD: string, AD_BRNCH_NUM: int, AD_ACCT_NM: string, AD_ACCT_CLOS_DT: int, AD_CCY_CD: string, AD_ACCT_OPEN_DT: int, AD_ACCT_STAT_CD: string, AD_LAST_TRD_DT: int, AD_BUS_DT: int, AD_BUS_LNE_CD: string, AD_UPDT_DT: int, AD_CREA_DT: int, AD_ACCT_PROD_TYP_NM: string, AD_ACCT_PROD_STYP_NM: string, AD_ACCT_OWN_CTZNSH_CD: string, AD_PRIN_PRTY_ID: string, AD_FRGN_ACCT_IND: string, AD_DOB_DT: int, AD_FRST_NM: string, AD_LAST_NM: string, AD_CASH_ENABLE_IND: string, AD_COD_IND: int, AD_MARG_ENABLE_IND: string, AD_OPTN_TRD_ENBLE_IND: string, AD_ACCT_OPEN_APRV_DT: int, AD_LGL_FORM_NM: string, AD_PHN_1_NUM: bigint, AD_PHN_2_NUM: bigint, AD_SWUNG_FROM_BRNCH_NUM: string, AD_SWUNG_FROM_ACCT_NUM: string, AD_SWUNG_FROM_DT: int, AD_AUTH_AGNT_NM: string, AD_BNFL_NM: string, AD_EMP_RLTD_IND: int, AD_RLTD_ACCT_EMP_ID: string, AD_SALE_REP_RR_NUM: double, AD_SALE_REP_TYP_NM: string, AD_TAX_ID: double, AD_TAX_ID_TYP_ID: int, AD_ACCT_REGS_NM1: string, AD_ACCT_REGS_NM2: string, AD_ACCT_REGS_NM3: string, AD_ACCT_REGS_NM4: string, AD_ACCT_REGS_NM5: string, AD_ACCT_REGS_NM6: string, AD_ACCT_REGS_NM7: string, AD_PROD_SERV_CD: double, AD_ACCT_FRZN_IND: string, AD_BUS_AREA_CD: string, AD_ACCT_REGS_TYP_DESC: string, ALL_PARTY_DETAILS: array<struct<PRTY_TYP:string,PRTY_NM:string,DOB_DT:string,PRTY_CNTRY_OF_BIRTH:string,PRTY_PRIM_CTZNSH_CNTRY:string,PRTY_RSDNC_CNTRY_CD:string>>, ALL_PARTY_TYPES: array<string>, all_party_names: array<string>, all_party_dobs: array<string>, all_party_birth_countries: array<string>, all_party_citizenship_countries: array<string>, all_party_residency_countries: array<string>, all_connected_parties_names: array<string>, is_beneficiary_hit: boolean, cleaned_names: map<string,string>, concat_residue: string]"
      ]
     },
     "execution_count": 32,
     "metadata": {},
     "output_type": "execute_result"
    }
   ],
   "source": [
    "spark_engine.save_data(data, \"tests/shared/test_ms_pipeline/test_set_concat_address_no_change_input.delta\")"
   ]
  },
  {
   "cell_type": "code",
   "execution_count": 33,
   "id": "c10904ba-96d3-481e-91f9-8c19e2b6e8a5",
   "metadata": {},
   "outputs": [],
   "source": [
    "data = spark_engine.set_concat_address_no_change(data)\n"
   ]
  },
  {
   "cell_type": "code",
   "execution_count": 34,
   "id": "3555e1db-3570-421b-bf64-53d701392224",
   "metadata": {},
   "outputs": [
    {
     "name": "stderr",
     "output_type": "stream",
     "text": [
      "                                                                                \r"
     ]
    },
    {
     "data": {
      "text/plain": [
       "DataFrame[alert_id: bigint, SRC_SYS_ACCT_KEY: string, ADDRESS_ID: string, SRC_REF_KEY: string, ACCT_NUM: bigint, PARTY_ID: bigint, TRIGGERED_BY: array<string>, CONCAT_ADDRESS: string, WL_MATCHED_TOKENS: string, ADDRESS1_COUNTRY: string, ADDRESS1_LINE1: string, ADDRESS1_LINE2: string, ADDRESS1_LINE3: string, ADDRESS1_LINE4: string, ADDRESS1_LINE5: string, ACCT_REGS_NM1: string, AD_SRC_SYS_ACCT_KEY: string, AD_FIRM_ACCT_CD: string, AD_ACCT_NUM: double, AD_ACCT_OWN_TYP_CD: string, AD_ACCT_TYP_CD: string, AD_BRNCH_NUM: int, AD_ACCT_NM: string, AD_ACCT_CLOS_DT: int, AD_CCY_CD: string, AD_ACCT_OPEN_DT: int, AD_ACCT_STAT_CD: string, AD_LAST_TRD_DT: int, AD_BUS_DT: int, AD_BUS_LNE_CD: string, AD_UPDT_DT: int, AD_CREA_DT: int, AD_ACCT_PROD_TYP_NM: string, AD_ACCT_PROD_STYP_NM: string, AD_ACCT_OWN_CTZNSH_CD: string, AD_PRIN_PRTY_ID: string, AD_FRGN_ACCT_IND: string, AD_DOB_DT: int, AD_FRST_NM: string, AD_LAST_NM: string, AD_CASH_ENABLE_IND: string, AD_COD_IND: int, AD_MARG_ENABLE_IND: string, AD_OPTN_TRD_ENBLE_IND: string, AD_ACCT_OPEN_APRV_DT: int, AD_LGL_FORM_NM: string, AD_PHN_1_NUM: bigint, AD_PHN_2_NUM: bigint, AD_SWUNG_FROM_BRNCH_NUM: string, AD_SWUNG_FROM_ACCT_NUM: string, AD_SWUNG_FROM_DT: int, AD_AUTH_AGNT_NM: string, AD_BNFL_NM: string, AD_EMP_RLTD_IND: int, AD_RLTD_ACCT_EMP_ID: string, AD_SALE_REP_RR_NUM: double, AD_SALE_REP_TYP_NM: string, AD_TAX_ID: double, AD_TAX_ID_TYP_ID: int, AD_ACCT_REGS_NM1: string, AD_ACCT_REGS_NM2: string, AD_ACCT_REGS_NM3: string, AD_ACCT_REGS_NM4: string, AD_ACCT_REGS_NM5: string, AD_ACCT_REGS_NM6: string, AD_ACCT_REGS_NM7: string, AD_PROD_SERV_CD: double, AD_ACCT_FRZN_IND: string, AD_BUS_AREA_CD: string, AD_ACCT_REGS_TYP_DESC: string, ALL_PARTY_DETAILS: array<struct<PRTY_TYP:string,PRTY_NM:string,DOB_DT:string,PRTY_CNTRY_OF_BIRTH:string,PRTY_PRIM_CTZNSH_CNTRY:string,PRTY_RSDNC_CNTRY_CD:string>>, ALL_PARTY_TYPES: array<string>, all_party_names: array<string>, all_party_dobs: array<string>, all_party_birth_countries: array<string>, all_party_citizenship_countries: array<string>, all_party_residency_countries: array<string>, all_connected_parties_names: array<string>, is_beneficiary_hit: boolean, cleaned_names: map<string,string>, concat_residue: string, concat_address_no_changes: string]"
      ]
     },
     "execution_count": 34,
     "metadata": {},
     "output_type": "execute_result"
    }
   ],
   "source": [
    "spark_engine.save_data(data, \"tests/shared/test_ms_pipeline/test_set_concat_address_no_change_output.delta\")"
   ]
  },
  {
   "cell_type": "markdown",
   "id": "3f8f9e5b-e9cc-4a1c-9f53-97a49b3c6828",
   "metadata": {
    "tags": []
   },
   "source": [
    "### set discovery tokens"
   ]
  },
  {
   "cell_type": "code",
   "execution_count": 35,
   "id": "4bc3d1c3-a68a-4d44-8249-8cdf3e072003",
   "metadata": {},
   "outputs": [
    {
     "name": "stderr",
     "output_type": "stream",
     "text": [
      "                                                                                \r"
     ]
    },
    {
     "data": {
      "text/plain": [
       "DataFrame[alert_id: bigint, SRC_SYS_ACCT_KEY: string, ADDRESS_ID: string, SRC_REF_KEY: string, ACCT_NUM: bigint, PARTY_ID: bigint, TRIGGERED_BY: array<string>, CONCAT_ADDRESS: string, WL_MATCHED_TOKENS: string, ADDRESS1_COUNTRY: string, ADDRESS1_LINE1: string, ADDRESS1_LINE2: string, ADDRESS1_LINE3: string, ADDRESS1_LINE4: string, ADDRESS1_LINE5: string, ACCT_REGS_NM1: string, AD_SRC_SYS_ACCT_KEY: string, AD_FIRM_ACCT_CD: string, AD_ACCT_NUM: double, AD_ACCT_OWN_TYP_CD: string, AD_ACCT_TYP_CD: string, AD_BRNCH_NUM: int, AD_ACCT_NM: string, AD_ACCT_CLOS_DT: int, AD_CCY_CD: string, AD_ACCT_OPEN_DT: int, AD_ACCT_STAT_CD: string, AD_LAST_TRD_DT: int, AD_BUS_DT: int, AD_BUS_LNE_CD: string, AD_UPDT_DT: int, AD_CREA_DT: int, AD_ACCT_PROD_TYP_NM: string, AD_ACCT_PROD_STYP_NM: string, AD_ACCT_OWN_CTZNSH_CD: string, AD_PRIN_PRTY_ID: string, AD_FRGN_ACCT_IND: string, AD_DOB_DT: int, AD_FRST_NM: string, AD_LAST_NM: string, AD_CASH_ENABLE_IND: string, AD_COD_IND: int, AD_MARG_ENABLE_IND: string, AD_OPTN_TRD_ENBLE_IND: string, AD_ACCT_OPEN_APRV_DT: int, AD_LGL_FORM_NM: string, AD_PHN_1_NUM: bigint, AD_PHN_2_NUM: bigint, AD_SWUNG_FROM_BRNCH_NUM: string, AD_SWUNG_FROM_ACCT_NUM: string, AD_SWUNG_FROM_DT: int, AD_AUTH_AGNT_NM: string, AD_BNFL_NM: string, AD_EMP_RLTD_IND: int, AD_RLTD_ACCT_EMP_ID: string, AD_SALE_REP_RR_NUM: double, AD_SALE_REP_TYP_NM: string, AD_TAX_ID: double, AD_TAX_ID_TYP_ID: int, AD_ACCT_REGS_NM1: string, AD_ACCT_REGS_NM2: string, AD_ACCT_REGS_NM3: string, AD_ACCT_REGS_NM4: string, AD_ACCT_REGS_NM5: string, AD_ACCT_REGS_NM6: string, AD_ACCT_REGS_NM7: string, AD_PROD_SERV_CD: double, AD_ACCT_FRZN_IND: string, AD_BUS_AREA_CD: string, AD_ACCT_REGS_TYP_DESC: string, ALL_PARTY_DETAILS: array<struct<PRTY_TYP:string,PRTY_NM:string,DOB_DT:string,PRTY_CNTRY_OF_BIRTH:string,PRTY_PRIM_CTZNSH_CNTRY:string,PRTY_RSDNC_CNTRY_CD:string>>, ALL_PARTY_TYPES: array<string>, all_party_names: array<string>, all_party_dobs: array<string>, all_party_birth_countries: array<string>, all_party_citizenship_countries: array<string>, all_party_residency_countries: array<string>, all_connected_parties_names: array<string>, is_beneficiary_hit: boolean, cleaned_names: map<string,string>, concat_residue: string, concat_address_no_changes: string]"
      ]
     },
     "execution_count": 35,
     "metadata": {},
     "output_type": "execute_result"
    }
   ],
   "source": [
    "spark_engine.save_data(data, \"tests/shared/test_ms_pipeline/test_set_discovery_tokens_input.delta\")"
   ]
  },
  {
   "cell_type": "code",
   "execution_count": 36,
   "id": "429d7ce8-3695-4663-ab7f-606805098787",
   "metadata": {},
   "outputs": [],
   "source": [
    "data = spark_engine.set_discovery_tokens(data) "
   ]
  },
  {
   "cell_type": "code",
   "execution_count": 37,
   "id": "174acb2d-9350-4363-a777-f4a1c33e5122",
   "metadata": {},
   "outputs": [
    {
     "name": "stderr",
     "output_type": "stream",
     "text": [
      "[\"John B Doe\"]\n",
      "      XXX C/F YYY A ZET (DECD) Agent ZET (BENE) ABC DEF GHI 123 XYZ RD ZET XXX 11111 ['JOHNSON, MICHAEL L', 'JOHNSON, MARY P']  XXX C/F YYY A ZET (DECD) Agent ZET (BENE) ABC DEF GHI 123 XYZ RD ZET XXX 11111 XXX C/F YYY A ZET (DECD) Agent ZET (BENE) ABC DEF GHI 123 XYZ RD ZET XXX 11111 ['MARY P JOHNSON', 'MICHAEL L JOHNSON', 'MARY P JOHNSON']\n",
      "\n",
      "MATCHED TOKENS  ['John B Doe']\n",
      "VALUES_DICT {'CONCAT_ADDRESS': 'XXX C/F YYY A ZET (DECD) Agent ZET (BENE) ABC DEF GHI 123 XYZ RD ZET XXX 11111', 'all_party_names': ['JOHNSON, MICHAEL L', 'JOHNSON, MARY P'], 'concat_residue': 'XXX C/F YYY A ZET (DECD) Agent ZET (BENE) ABC DEF GHI 123 XYZ RD ZET XXX 11111', 'concat_address_no_changes': 'XXX C/F YYY A ZET (DECD) Agent ZET (BENE) ABC DEF GHI 123 XYZ RD ZET XXX 11111', 'all_connected_parties_names': ['MARY P JOHNSON', 'MICHAEL L JOHNSON', 'MARY P JOHNSON']}\n",
      "value XXX C/F YYY A ZET (DECD) Agent ZET (BENE) ABC DEF GHI 123 XYZ RD ZET XXX 11111 John\n",
      "value JOHNSON, MICHAEL L John\n",
      "value JOHNSON, MARY P John\n",
      "value XXX C/F YYY A ZET (DECD) Agent ZET (BENE) ABC DEF GHI 123 XYZ RD ZET XXX 11111 John\n",
      "value XXX C/F YYY A ZET (DECD) Agent ZET (BENE) ABC DEF GHI 123 XYZ RD ZET XXX 11111 John\n",
      "value MARY P JOHNSON John\n",
      "value MICHAEL L JOHNSON John\n",
      "value MARY P JOHNSON John\n",
      "value XXX C/F YYY A ZET (DECD) Agent ZET (BENE) ABC DEF GHI 123 XYZ RD ZET XXX 11111 B\n",
      "value JOHNSON, MICHAEL L B\n",
      "value JOHNSON, MARY P B\n",
      "value XXX C/F YYY A ZET (DECD) Agent ZET (BENE) ABC DEF GHI 123 XYZ RD ZET XXX 11111 B\n",
      "value XXX C/F YYY A ZET (DECD) Agent ZET (BENE) ABC DEF GHI 123 XYZ RD ZET XXX 11111 B\n",
      "value MARY P JOHNSON B\n",
      "value MICHAEL L JOHNSON B\n",
      "value MARY P JOHNSON B\n",
      "value XXX C/F YYY A ZET (DECD) Agent ZET (BENE) ABC DEF GHI 123 XYZ RD ZET XXX 11111 Doe\n",
      "value JOHNSON, MICHAEL L Doe\n",
      "value JOHNSON, MARY P Doe\n",
      "value XXX C/F YYY A ZET (DECD) Agent ZET (BENE) ABC DEF GHI 123 XYZ RD ZET XXX 11111 Doe\n",
      "value XXX C/F YYY A ZET (DECD) Agent ZET (BENE) ABC DEF GHI 123 XYZ RD ZET XXX 11111 Doe\n",
      "value MARY P JOHNSON Doe\n",
      "value MICHAEL L JOHNSON Doe\n",
      "value MARY P JOHNSON Doe\n",
      "[\"John B Doe\"]\n",
      " test     Jane Doe 111 A 11TH ST AAA 1A New Jersey NJ ['Doe, John B']  Jane Doe 111 A 11TH ST AAA 1A New Jersey NJ Jane Doe 111 A 11TH ST AAA 1A New Jersey NJ ['John B Doe', 'John B Doe']\n",
      "\n",
      "MATCHED TOKENS  ['John B Doe']\n",
      "VALUES_DICT {'ADDRESS1_LINE1': 'test', 'CONCAT_ADDRESS': 'Jane Doe 111 A 11TH ST AAA 1A New Jersey NJ', 'all_party_names': ['Doe, John B'], 'concat_residue': 'Jane Doe 111 A 11TH ST AAA 1A New Jersey NJ', 'concat_address_no_changes': 'Jane Doe 111 A 11TH ST AAA 1A New Jersey NJ', 'all_connected_parties_names': ['John B Doe', 'John B Doe']}\n",
      "value test John\n",
      "value Jane Doe 111 A 11TH ST AAA 1A New Jersey NJ John\n",
      "value Doe, John B John\n",
      "value Jane Doe 111 A 11TH ST AAA 1A New Jersey NJ John\n",
      "value Jane Doe 111 A 11TH ST AAA 1A New Jersey NJ John\n",
      "value John B Doe John\n",
      "value John B Doe John\n",
      "value test B\n",
      "value Jane Doe 111 A 11TH ST AAA 1A New Jersey NJ B\n",
      "value Doe, John B B\n",
      "value Jane Doe 111 A 11TH ST AAA 1A New Jersey NJ B\n",
      "value Jane Doe 111 A 11TH ST AAA 1A New Jersey NJ B\n",
      "value John B Doe B\n",
      "value John B Doe B\n",
      "value test Doe\n",
      "value Jane Doe 111 A 11TH ST AAA 1A New Jersey NJ Doe\n",
      "value Doe, John B Doe\n",
      "value Jane Doe 111 A 11TH ST AAA 1A New Jersey NJ Doe\n",
      "value Jane Doe 111 A 11TH ST AAA 1A New Jersey NJ Doe\n",
      "value John B Doe Doe\n",
      "value John B Doe Doe\n",
      "                                                                                \r"
     ]
    },
    {
     "data": {
      "text/plain": [
       "DataFrame[alert_id: bigint, SRC_SYS_ACCT_KEY: string, ADDRESS_ID: string, SRC_REF_KEY: string, ACCT_NUM: bigint, PARTY_ID: bigint, TRIGGERED_BY: array<string>, CONCAT_ADDRESS: string, WL_MATCHED_TOKENS: string, ADDRESS1_COUNTRY: string, ADDRESS1_LINE1: string, ADDRESS1_LINE2: string, ADDRESS1_LINE3: string, ADDRESS1_LINE4: string, ADDRESS1_LINE5: string, ACCT_REGS_NM1: string, AD_SRC_SYS_ACCT_KEY: string, AD_FIRM_ACCT_CD: string, AD_ACCT_NUM: double, AD_ACCT_OWN_TYP_CD: string, AD_ACCT_TYP_CD: string, AD_BRNCH_NUM: int, AD_ACCT_NM: string, AD_ACCT_CLOS_DT: int, AD_CCY_CD: string, AD_ACCT_OPEN_DT: int, AD_ACCT_STAT_CD: string, AD_LAST_TRD_DT: int, AD_BUS_DT: int, AD_BUS_LNE_CD: string, AD_UPDT_DT: int, AD_CREA_DT: int, AD_ACCT_PROD_TYP_NM: string, AD_ACCT_PROD_STYP_NM: string, AD_ACCT_OWN_CTZNSH_CD: string, AD_PRIN_PRTY_ID: string, AD_FRGN_ACCT_IND: string, AD_DOB_DT: int, AD_FRST_NM: string, AD_LAST_NM: string, AD_CASH_ENABLE_IND: string, AD_COD_IND: int, AD_MARG_ENABLE_IND: string, AD_OPTN_TRD_ENBLE_IND: string, AD_ACCT_OPEN_APRV_DT: int, AD_LGL_FORM_NM: string, AD_PHN_1_NUM: bigint, AD_PHN_2_NUM: bigint, AD_SWUNG_FROM_BRNCH_NUM: string, AD_SWUNG_FROM_ACCT_NUM: string, AD_SWUNG_FROM_DT: int, AD_AUTH_AGNT_NM: string, AD_BNFL_NM: string, AD_EMP_RLTD_IND: int, AD_RLTD_ACCT_EMP_ID: string, AD_SALE_REP_RR_NUM: double, AD_SALE_REP_TYP_NM: string, AD_TAX_ID: double, AD_TAX_ID_TYP_ID: int, AD_ACCT_REGS_NM1: string, AD_ACCT_REGS_NM2: string, AD_ACCT_REGS_NM3: string, AD_ACCT_REGS_NM4: string, AD_ACCT_REGS_NM5: string, AD_ACCT_REGS_NM6: string, AD_ACCT_REGS_NM7: string, AD_PROD_SERV_CD: double, AD_ACCT_FRZN_IND: string, AD_BUS_AREA_CD: string, AD_ACCT_REGS_TYP_DESC: string, ALL_PARTY_DETAILS: array<struct<PRTY_TYP:string,PRTY_NM:string,DOB_DT:string,PRTY_CNTRY_OF_BIRTH:string,PRTY_PRIM_CTZNSH_CNTRY:string,PRTY_RSDNC_CNTRY_CD:string>>, ALL_PARTY_TYPES: array<string>, all_party_names: array<string>, all_party_dobs: array<string>, all_party_birth_countries: array<string>, all_party_citizenship_countries: array<string>, all_party_residency_countries: array<string>, all_connected_parties_names: array<string>, is_beneficiary_hit: boolean, cleaned_names: map<string,string>, concat_residue: string, concat_address_no_changes: string, AP_TRIGGERS: map<string,map<string,array<string>>>]"
      ]
     },
     "execution_count": 37,
     "metadata": {},
     "output_type": "execute_result"
    }
   ],
   "source": [
    "spark_engine.save_data(data, \"tests/shared/test_ms_pipeline/test_set_discovery_tokens_output.delta\")"
   ]
  },
  {
   "cell_type": "code",
   "execution_count": 38,
   "id": "dbd183a5-28f9-4208-844f-411b36317190",
   "metadata": {},
   "outputs": [
    {
     "ename": "SyntaxError",
     "evalue": "'break' outside loop (668683560.py, line 1)",
     "output_type": "error",
     "traceback": [
      "\u001b[0;36m  Input \u001b[0;32mIn [38]\u001b[0;36m\u001b[0m\n\u001b[0;31m    break\u001b[0m\n\u001b[0m    ^\u001b[0m\n\u001b[0;31mSyntaxError\u001b[0m\u001b[0;31m:\u001b[0m 'break' outside loop\n"
     ]
    }
   ],
   "source": [
    "break"
   ]
  },
  {
   "cell_type": "code",
   "execution_count": null,
   "id": "ee7ffc20-5d21-4b14-bf3b-d4dcc96f80f7",
   "metadata": {},
   "outputs": [],
   "source": []
  },
  {
   "cell_type": "markdown",
   "id": "9097f982-bead-450b-958a-bc53b07f7327",
   "metadata": {},
   "source": [
    "# Create agent"
   ]
  },
  {
   "cell_type": "code",
   "execution_count": 153,
   "id": "5c2414fd-e416-4e75-b463-05222bfdc710",
   "metadata": {},
   "outputs": [],
   "source": [
    "from main_pipeline import MSPipeline\n",
    "uut = MSPipeline(spark_engine)"
   ]
  },
  {
   "cell_type": "code",
   "execution_count": 154,
   "id": "5620f10d-8a51-4bb3-9680-c903e8c5f9b1",
   "metadata": {},
   "outputs": [],
   "source": [
    "spark_instance = SparkClient(SPARK_CONF)\n",
    "\n",
    "data1 = [\n",
    "    Row(\n",
    "        alert_id=1,\n",
    "        STATUS_DESC=\"AASD\",\n",
    "        WL_NATIONALITY=\"[\\\"American\\\"]\",\n",
    "        ALERT_INTERNAL_ID=\"2\",\n",
    "        ENTITY_ID=1,\n",
    "        ENTITY_VERSION=100,\n",
    "        wl_name=\"test\",\n",
    "\n",
    "    ),\n",
    "    Row(\n",
    "        alert_id=2,\n",
    "        STATUS_DESC=\"AASD\",\n",
    "        WL_NATIONALITY=\"[\\\"American\\\"]\",\n",
    "        ALERT_INTERNAL_ID=\"3\",\n",
    "        ENTITY_ID=2,\n",
    "        ENTITY_VERSION=101,\n",
    "        wl_name=\"test\",\n",
    "\n",
    "    )]"
   ]
  },
  {
   "cell_type": "code",
   "execution_count": 155,
   "id": "30cbf6ad-dbc4-4ce1-a60e-97eeeb99545b",
   "metadata": {},
   "outputs": [],
   "source": [
    "data1 = spark_instance.spark_instance.createDataFrame(data1)"
   ]
  },
  {
   "cell_type": "code",
   "execution_count": 156,
   "id": "ad988ee3-9551-4572-85aa-1b2193afb68b",
   "metadata": {},
   "outputs": [],
   "source": [
    "from pattern import *"
   ]
  },
  {
   "cell_type": "code",
   "execution_count": null,
   "id": "9e94dea4-0e75-46c8-9fed-6849180a6e5d",
   "metadata": {},
   "outputs": [],
   "source": []
  },
  {
   "cell_type": "code",
   "execution_count": 157,
   "id": "197b5801-0228-4b50-a86b-c7cb8c7eb74b",
   "metadata": {},
   "outputs": [],
   "source": [
    "cleansed_alert_df = data.join(data1, ALERT_ID)"
   ]
  },
  {
   "cell_type": "code",
   "execution_count": 158,
   "id": "b01493bd-303c-419d-a07e-c16a77b80ca1",
   "metadata": {},
   "outputs": [
    {
     "name": "stderr",
     "output_type": "stream",
     "text": [
      "/env/ds/anaconda/envs/pipeline/lib/python3.9/site-packages/fuzzywuzzy/fuzz.py:11: UserWarning: Using slow pure-python SequenceMatcher. Install python-Levenshtein to remove this warning\n",
      "  warnings.warn('Using slow pure-python SequenceMatcher. Install python-Levenshtein to remove this warning')\n",
      "/env/ds/anaconda/envs/pipeline/lib/python3.9/site-packages/fuzzywuzzy/fuzz.py:11: UserWarning: Using slow pure-python SequenceMatcher. Install python-Levenshtein to remove this warning\n",
      "  warnings.warn('Using slow pure-python SequenceMatcher. Install python-Levenshtein to remove this warning')\n",
      "/env/ds/anaconda/envs/pipeline/lib/python3.9/site-packages/fuzzywuzzy/fuzz.py:11: UserWarning: Using slow pure-python SequenceMatcher. Install python-Levenshtein to remove this warning\n",
      "  warnings.warn('Using slow pure-python SequenceMatcher. Install python-Levenshtein to remove this warning')\n",
      "/env/ds/anaconda/envs/pipeline/lib/python3.9/site-packages/fuzzywuzzy/fuzz.py:11: UserWarning: Using slow pure-python SequenceMatcher. Install python-Levenshtein to remove this warning\n",
      "  warnings.warn('Using slow pure-python SequenceMatcher. Install python-Levenshtein to remove this warning')\n",
      "/env/ds/anaconda/envs/pipeline/lib/python3.9/site-packages/fuzzywuzzy/fuzz.py:11: UserWarning: Using slow pure-python SequenceMatcher. Install python-Levenshtein to remove this warning\n",
      "  warnings.warn('Using slow pure-python SequenceMatcher. Install python-Levenshtein to remove this warning')\n",
      "/env/ds/anaconda/envs/pipeline/lib/python3.9/site-packages/fuzzywuzzy/fuzz.py:11: UserWarning: Using slow pure-python SequenceMatcher. Install python-Levenshtein to remove this warning\n",
      "  warnings.warn('Using slow pure-python SequenceMatcher. Install python-Levenshtein to remove this warning')\n",
      "/env/ds/anaconda/envs/pipeline/lib/python3.9/site-packages/fuzzywuzzy/fuzz.py:11: UserWarning: Using slow pure-python SequenceMatcher. Install python-Levenshtein to remove this warning\n",
      "  warnings.warn('Using slow pure-python SequenceMatcher. Install python-Levenshtein to remove this warning')\n",
      "/env/ds/anaconda/envs/pipeline/lib/python3.9/site-packages/fuzzywuzzy/fuzz.py:11: UserWarning: Using slow pure-python SequenceMatcher. Install python-Levenshtein to remove this warning\n",
      "  warnings.warn('Using slow pure-python SequenceMatcher. Install python-Levenshtein to remove this warning')\n",
      "/env/ds/anaconda/envs/pipeline/lib/python3.9/site-packages/fuzzywuzzy/fuzz.py:11: UserWarning: Using slow pure-python SequenceMatcher. Install python-Levenshtein to remove this warning\n",
      "  warnings.warn('Using slow pure-python SequenceMatcher. Install python-Levenshtein to remove this warning')\n",
      "/env/ds/anaconda/envs/pipeline/lib/python3.9/site-packages/fuzzywuzzy/fuzz.py:11: UserWarning: Using slow pure-python SequenceMatcher. Install python-Levenshtein to remove this warning\n",
      "  warnings.warn('Using slow pure-python SequenceMatcher. Install python-Levenshtein to remove this warning')\n",
      "/env/ds/anaconda/envs/pipeline/lib/python3.9/site-packages/fuzzywuzzy/fuzz.py:11: UserWarning: Using slow pure-python SequenceMatcher. Install python-Levenshtein to remove this warning\n",
      "  warnings.warn('Using slow pure-python SequenceMatcher. Install python-Levenshtein to remove this warning')\n",
      "/env/ds/anaconda/envs/pipeline/lib/python3.9/site-packages/fuzzywuzzy/fuzz.py:11: UserWarning: Using slow pure-python SequenceMatcher. Install python-Levenshtein to remove this warning\n",
      "  warnings.warn('Using slow pure-python SequenceMatcher. Install python-Levenshtein to remove this warning')\n",
      "/env/ds/anaconda/envs/pipeline/lib/python3.9/site-packages/fuzzywuzzy/fuzz.py:11: UserWarning: Using slow pure-python SequenceMatcher. Install python-Levenshtein to remove this warning\n",
      "  warnings.warn('Using slow pure-python SequenceMatcher. Install python-Levenshtein to remove this warning')\n",
      "/env/ds/anaconda/envs/pipeline/lib/python3.9/site-packages/fuzzywuzzy/fuzz.py:11: UserWarning: Using slow pure-python SequenceMatcher. Install python-Levenshtein to remove this warning\n",
      "  warnings.warn('Using slow pure-python SequenceMatcher. Install python-Levenshtein to remove this warning')\n",
      "/env/ds/anaconda/envs/pipeline/lib/python3.9/site-packages/fuzzywuzzy/fuzz.py:11: UserWarning: Using slow pure-python SequenceMatcher. Install python-Levenshtein to remove this warning\n",
      "  warnings.warn('Using slow pure-python SequenceMatcher. Install python-Levenshtein to remove this warning')\n",
      "/env/ds/anaconda/envs/pipeline/lib/python3.9/site-packages/fuzzywuzzy/fuzz.py:11: UserWarning: Using slow pure-python SequenceMatcher. Install python-Levenshtein to remove this warning\n",
      "  warnings.warn('Using slow pure-python SequenceMatcher. Install python-Levenshtein to remove this warning')\n",
      "[\"John B Doe\"]\n",
      " test     Jane Doe 111 A 11TH ST AAA 1A New Jersey NJ ['Doe, John B']  Jane Doe 111 A 11TH ST AAA 1A New Jersey NJ Jane Doe 111 A 11TH ST AAA 1A New Jersey NJ ['John B Doe', 'John B Doe']\n",
      "\n",
      "MATCHED TOKENS  ['John B Doe']\n",
      "VALUES_DICT {'ADDRESS1_LINE1': 'test', 'CONCAT_ADDRESS': 'Jane Doe 111 A 11TH ST AAA 1A New Jersey NJ', 'all_party_names': ['Doe, John B'], 'concat_residue': 'Jane Doe 111 A 11TH ST AAA 1A New Jersey NJ', 'concat_address_no_changes': 'Jane Doe 111 A 11TH ST AAA 1A New Jersey NJ', 'all_connected_parties_names': ['John B Doe', 'John B Doe']}\n",
      "value test John\n",
      "value Jane Doe 111 A 11TH ST AAA 1A New Jersey NJ John\n",
      "value Doe, John B John\n",
      "value Jane Doe 111 A 11TH ST AAA 1A New Jersey NJ John\n",
      "value Jane Doe 111 A 11TH ST AAA 1A New Jersey NJ John\n",
      "value John B Doe John\n",
      "value John B Doe John\n",
      "value test B\n",
      "value Jane Doe 111 A 11TH ST AAA 1A New Jersey NJ B\n",
      "value Doe, John B B\n",
      "value Jane Doe 111 A 11TH ST AAA 1A New Jersey NJ B\n",
      "value Jane Doe 111 A 11TH ST AAA 1A New Jersey NJ B\n",
      "value John B Doe B\n",
      "value John B Doe B\n",
      "value test Doe\n",
      "value Jane Doe 111 A 11TH ST AAA 1A New Jersey NJ Doe\n",
      "value Doe, John B Doe\n",
      "value Jane Doe 111 A 11TH ST AAA 1A New Jersey NJ Doe\n",
      "value Jane Doe 111 A 11TH ST AAA 1A New Jersey NJ Doe\n",
      "value John B Doe Doe\n",
      "value John B Doe Doe\n",
      "[\"John B Doe\"]\n",
      "      XXX C/F YYY A ZET (DECD) Agent ZET (BENE) ABC DEF GHI 123 XYZ RD ZET XXX 11111 ['JOHNSON, MICHAEL L', 'JOHNSON, MARY P']  XXX C/F YYY A ZET (DECD) Agent ZET (BENE) ABC DEF GHI 123 XYZ RD ZET XXX 11111 XXX C/F YYY A ZET (DECD) Agent ZET (BENE) ABC DEF GHI 123 XYZ RD ZET XXX 11111 ['MARY P JOHNSON', 'MICHAEL L JOHNSON', 'MARY P JOHNSON']\n",
      "\n",
      "MATCHED TOKENS  ['John B Doe']\n",
      "VALUES_DICT {'CONCAT_ADDRESS': 'XXX C/F YYY A ZET (DECD) Agent ZET (BENE) ABC DEF GHI 123 XYZ RD ZET XXX 11111', 'all_party_names': ['JOHNSON, MICHAEL L', 'JOHNSON, MARY P'], 'concat_residue': 'XXX C/F YYY A ZET (DECD) Agent ZET (BENE) ABC DEF GHI 123 XYZ RD ZET XXX 11111', 'concat_address_no_changes': 'XXX C/F YYY A ZET (DECD) Agent ZET (BENE) ABC DEF GHI 123 XYZ RD ZET XXX 11111', 'all_connected_parties_names': ['MARY P JOHNSON', 'MICHAEL L JOHNSON', 'MARY P JOHNSON']}\n",
      "value XXX C/F YYY A ZET (DECD) Agent ZET (BENE) ABC DEF GHI 123 XYZ RD ZET XXX 11111 John\n",
      "value JOHNSON, MICHAEL L John\n",
      "value JOHNSON, MARY P John\n",
      "value XXX C/F YYY A ZET (DECD) Agent ZET (BENE) ABC DEF GHI 123 XYZ RD ZET XXX 11111 John\n",
      "value XXX C/F YYY A ZET (DECD) Agent ZET (BENE) ABC DEF GHI 123 XYZ RD ZET XXX 11111 John\n",
      "value MARY P JOHNSON John\n",
      "value MICHAEL L JOHNSON John\n",
      "value MARY P JOHNSON John\n",
      "value XXX C/F YYY A ZET (DECD) Agent ZET (BENE) ABC DEF GHI 123 XYZ RD ZET XXX 11111 B\n",
      "value JOHNSON, MICHAEL L B\n",
      "value JOHNSON, MARY P B\n",
      "value XXX C/F YYY A ZET (DECD) Agent ZET (BENE) ABC DEF GHI 123 XYZ RD ZET XXX 11111 B\n",
      "value XXX C/F YYY A ZET (DECD) Agent ZET (BENE) ABC DEF GHI 123 XYZ RD ZET XXX 11111 B\n",
      "value MARY P JOHNSON B\n",
      "value MICHAEL L JOHNSON B\n",
      "value MARY P JOHNSON B\n",
      "value XXX C/F YYY A ZET (DECD) Agent ZET (BENE) ABC DEF GHI 123 XYZ RD ZET XXX 11111 Doe\n",
      "value JOHNSON, MICHAEL L Doe\n",
      "value JOHNSON, MARY P Doe\n",
      "value XXX C/F YYY A ZET (DECD) Agent ZET (BENE) ABC DEF GHI 123 XYZ RD ZET XXX 11111 Doe\n",
      "value XXX C/F YYY A ZET (DECD) Agent ZET (BENE) ABC DEF GHI 123 XYZ RD ZET XXX 11111 Doe\n",
      "value MARY P JOHNSON Doe\n",
      "value MICHAEL L JOHNSON Doe\n",
      "value MARY P JOHNSON Doe\n",
      "                                                                                \r"
     ]
    },
    {
     "data": {
      "text/plain": [
       "DataFrame[alert_id: bigint, SRC_SYS_ACCT_KEY: string, ADDRESS_ID: string, SRC_REF_KEY: string, ACCT_NUM: bigint, PARTY_ID: bigint, TRIGGERED_BY: array<string>, CONCAT_ADDRESS: string, WL_MATCHED_TOKENS: string, ADDRESS1_COUNTRY: string, ADDRESS1_LINE1: string, ADDRESS1_LINE2: string, ADDRESS1_LINE3: string, ADDRESS1_LINE4: string, ADDRESS1_LINE5: string, ACCT_REGS_NM1: string, AD_SRC_SYS_ACCT_KEY: string, AD_FIRM_ACCT_CD: string, AD_ACCT_NUM: double, AD_ACCT_OWN_TYP_CD: string, AD_ACCT_TYP_CD: string, AD_BRNCH_NUM: int, AD_ACCT_NM: string, AD_ACCT_CLOS_DT: int, AD_CCY_CD: string, AD_ACCT_OPEN_DT: int, AD_ACCT_STAT_CD: string, AD_LAST_TRD_DT: int, AD_BUS_DT: int, AD_BUS_LNE_CD: string, AD_UPDT_DT: int, AD_CREA_DT: int, AD_ACCT_PROD_TYP_NM: string, AD_ACCT_PROD_STYP_NM: string, AD_ACCT_OWN_CTZNSH_CD: string, AD_PRIN_PRTY_ID: string, AD_FRGN_ACCT_IND: string, AD_DOB_DT: int, AD_FRST_NM: string, AD_LAST_NM: string, AD_CASH_ENABLE_IND: string, AD_COD_IND: int, AD_MARG_ENABLE_IND: string, AD_OPTN_TRD_ENBLE_IND: string, AD_ACCT_OPEN_APRV_DT: int, AD_LGL_FORM_NM: string, AD_PHN_1_NUM: bigint, AD_PHN_2_NUM: bigint, AD_SWUNG_FROM_BRNCH_NUM: string, AD_SWUNG_FROM_ACCT_NUM: string, AD_SWUNG_FROM_DT: int, AD_AUTH_AGNT_NM: string, AD_BNFL_NM: string, AD_EMP_RLTD_IND: int, AD_RLTD_ACCT_EMP_ID: string, AD_SALE_REP_RR_NUM: double, AD_SALE_REP_TYP_NM: string, AD_TAX_ID: double, AD_TAX_ID_TYP_ID: int, AD_ACCT_REGS_NM1: string, AD_ACCT_REGS_NM2: string, AD_ACCT_REGS_NM3: string, AD_ACCT_REGS_NM4: string, AD_ACCT_REGS_NM5: string, AD_ACCT_REGS_NM6: string, AD_ACCT_REGS_NM7: string, AD_PROD_SERV_CD: double, AD_ACCT_FRZN_IND: string, AD_BUS_AREA_CD: string, AD_ACCT_REGS_TYP_DESC: string, ALL_PARTY_DETAILS: array<struct<PRTY_TYP:string,PRTY_NM:string,DOB_DT:string,PRTY_CNTRY_OF_BIRTH:string,PRTY_PRIM_CTZNSH_CNTRY:string,PRTY_RSDNC_CNTRY_CD:string>>, ALL_PARTY_TYPES: array<string>, all_party_names: array<string>, all_party_dobs: array<string>, all_party_birth_countries: array<string>, all_party_citizenship_countries: array<string>, all_party_residency_countries: array<string>, all_connected_parties_names: array<string>, is_beneficiary_hit: boolean, cleaned_names: map<string,string>, concat_residue: string, concat_address_no_changes: string, AP_TRIGGERS: map<string,map<string,array<string>>>, STATUS_DESC: string, WL_NATIONALITY: string, ALERT_INTERNAL_ID: string, ENTITY_ID: bigint, ENTITY_VERSION: bigint, wl_name: string]"
      ]
     },
     "execution_count": 158,
     "metadata": {},
     "output_type": "execute_result"
    }
   ],
   "source": [
    "spark_engine.save_data(cleansed_alert_df, \"tests/shared/test_ms_pipeline/test_cleansed_to_agent_input_input.delta\")"
   ]
  },
  {
   "cell_type": "code",
   "execution_count": 89,
   "id": "9c7e20c1-fd7c-4816-8f0e-7d21d6b559b0",
   "metadata": {},
   "outputs": [],
   "source": [
    "# uut.transform_cleansed_to_application(cleansed_alert_df)\n"
   ]
  },
  {
   "cell_type": "code",
   "execution_count": null,
   "id": "50304f78-3c21-419d-acfb-2761b8b46ea4",
   "metadata": {},
   "outputs": [],
   "source": []
  },
  {
   "cell_type": "code",
   "execution_count": 159,
   "id": "4fe01d21-ba1c-47ab-bcad-7e076d7b938e",
   "metadata": {},
   "outputs": [],
   "source": [
    "\n",
    "cols_to_convert = []\n",
    "ALERT_TYPE = AccountType.WM_ADDRESS\n",
    "if ALERT_TYPE == AccountType.WM_ADDRESS:\n",
    "    cols_to_convert = [\n",
    "        WL_NATIONALITY,\n",
    "        # WL_POB,\n",
    "        # WL_CITIZENSHIP,\n",
    "        # WL_COUNTRY,\n",
    "        # WL_COUNTRYNAME,\n",
    "        # WL_DOB,\n",
    "        # WL_ALIASES,\n",
    "    ]\n",
    "elif ALERT_TYPE == AccountType.ISG_ACCOUNT:\n",
    "    cols_to_convert = [\n",
    "        WL_NATIONALITY,\n",
    "        # WL_POB,\n",
    "        # WL_ALIASES,\n",
    "        # WL_CITIZENSHIP,\n",
    "        # WL_COUNTRY,\n",
    "        # WL_COUNTRYNAME,\n",
    "        # WL_DOB,\n",
    "    ]"
   ]
  },
  {
   "cell_type": "code",
   "execution_count": 160,
   "id": "1acaa0fe-3940-4e26-9b55-2b296434b1ae",
   "metadata": {},
   "outputs": [],
   "source": [
    "from custom.ms.transformations import custom_udf_derive_party_type_from_acct_class_descr, custom_udf_to_analyst_solution, custom_udf_parse_array_from_string, custom_determine_wl_type"
   ]
  },
  {
   "cell_type": "code",
   "execution_count": 161,
   "id": "dc991132-a229-47d9-9885-d0e83b3b6c95",
   "metadata": {},
   "outputs": [],
   "source": [
    "import json\n",
    "def custom_parse_array_from_string(x):\n",
    "    if isinstance(x, str):\n",
    "        return json.loads(x) if x else []\n",
    "    else:\n",
    "        return x\n",
    "\n",
    "\n",
    "@F.udf(returnType=ArrayType(StringType()))\n",
    "def custom_udf_parse_array_from_string(x):\n",
    "    print(x)\n",
    "    return custom_parse_array_from_string(x)"
   ]
  },
  {
   "cell_type": "code",
   "execution_count": 162,
   "id": "32bf5362-c58a-4d94-82c9-8d2c821761b0",
   "metadata": {},
   "outputs": [],
   "source": [
    "for c in cols_to_convert:\n",
    "    cleansed_alert_df = cleansed_alert_df.withColumn(\n",
    "        c, custom_udf_parse_array_from_string(c)\n",
    "    )\n"
   ]
  },
  {
   "cell_type": "code",
   "execution_count": 163,
   "id": "2c4b7a3b-5e41-4e39-9781-82797ddb0fa6",
   "metadata": {},
   "outputs": [],
   "source": [
    "\n",
    "if ALERT_TYPE == AccountType.ISG_ACCOUNT:\n",
    "    cleansed_alert_df = cleansed_alert_df.withColumn(\n",
    "        DELIVERED_ALERTED_PARTY_TYPE,\n",
    "        custom_udf_derive_party_type_from_acct_class_descr(ACCT_CLAS_DESCR),\n",
    "    )\n",
    "    cleansed_alert_df = cleansed_alert_df.withColumn(\n",
    "        WP_TYPE, custom_determine_wl_type(WL_ENTITYTYPE)\n",
    "    )"
   ]
  },
  {
   "cell_type": "code",
   "execution_count": 164,
   "id": "58b72c8d-7db9-40f6-a1d3-b722cff816ca",
   "metadata": {},
   "outputs": [],
   "source": [
    "from pyspark.sql.types import (\n",
    "    ArrayType,\n",
    "    MapType,\n",
    "    StringType,\n",
    "    StructField,\n",
    "    StructType,\n",
    "    TimestampType,\n",
    "    NullType\n",
    ")"
   ]
  },
  {
   "cell_type": "code",
   "execution_count": 165,
   "id": "eceaf83e-de31-48d0-817c-f147a853e1fb",
   "metadata": {},
   "outputs": [],
   "source": [
    "@F.udf\n",
    "def custom_udf_to_analyst_solution(status_desc):\n",
    "    return custom_to_analyst_solution(status_desc)"
   ]
  },
  {
   "cell_type": "code",
   "execution_count": 166,
   "id": "07d70310-3cda-4af1-bfaf-09acea0eb6e7",
   "metadata": {},
   "outputs": [],
   "source": [
    "@F.udf(returnType=StringType())\n",
    "def custom_udf_to_analyst_solution(status_desc):\n",
    "    return custom_to_analyst_solution(status_desc)\n",
    "\n",
    "def custom_to_analyst_solution(status_desc):\n",
    "    status = status_desc.lower()\n",
    "\n",
    "    # ,'L3 Closed No Action - False Positive', 'L2 Closed No Action - False Positive'\n",
    "    if any(\n",
    "        f in status_desc\n",
    "        for f in [\"Risk Accepted\", \"Case Created\", \"L3 Closed No Action - False Positive\"]\n",
    "    ):\n",
    "        return \"TP\"\n",
    "    elif any(\n",
    "        f in status_desc\n",
    "        for f in [\n",
    "            \"False Positive\",\n",
    "            \" Could have been closed L1\",\n",
    "            \"L1 Closed\",\n",
    "            \"L3 Closed No Action - Could have been closed L2\",\n",
    "        ]\n",
    "    ):\n",
    "        return \"FP\"\n",
    "\n",
    "    return status_desc"
   ]
  },
  {
   "cell_type": "code",
   "execution_count": 167,
   "id": "b389642c-a210-4862-8bbe-422d65bf3abd",
   "metadata": {},
   "outputs": [],
   "source": [
    "cleansed_alert_df = cleansed_alert_df.withColumn(\n",
    "    ANALYST_SOLUTION, custom_udf_to_analyst_solution(STATUS_DESC)\n",
    ")"
   ]
  },
  {
   "cell_type": "code",
   "execution_count": 168,
   "id": "e2e8ebdf-9bce-48a0-9320-deecdea67620",
   "metadata": {},
   "outputs": [],
   "source": [
    "if NUMBER_OF_HITS not in cleansed_alert_df.columns:\n",
    "    cleansed_alert_df = cleansed_alert_df.join(\n",
    "        cleansed_alert_df.groupBy(ALERT_ID).count(), ALERT_ID\n",
    "    ).withColumnRenamed(\"count\", NUMBER_OF_HITS)\n",
    "\n",
    "cleansed_alert_df = cleansed_alert_df.withColumn(\n",
    "    MATCH_ID,\n",
    "    F.concat(ALERT_INTERNAL_ID, F.lit(\"_\"), ENTITY_ID, F.lit(\"_\"), ENTITY_VERSION),\n",
    ")"
   ]
  },
  {
   "cell_type": "code",
   "execution_count": 169,
   "id": "60737915-0959-40a1-9acd-a6b7225b6e01",
   "metadata": {},
   "outputs": [],
   "source": [
    "cleansed_alert_df = cleansed_alert_df.dropDuplicates([MATCH_ID])"
   ]
  },
  {
   "cell_type": "code",
   "execution_count": 170,
   "id": "cbd54e33-be02-4b83-a2f3-79db6e8b440a",
   "metadata": {},
   "outputs": [],
   "source": [
    "def create_agent_input():\n",
    "    input_template = {\"ap\": [], \"wl\": []}\n",
    "\n",
    "    agent_list = [\n",
    "        \"party_type_agent\",\n",
    "        \"is_deny_agent\",\n",
    "        \"name_agent\",\n",
    "        \"dob_agent\",\n",
    "        \"national_id_agent\",\n",
    "        \"passport_agent\",\n",
    "        \"document_agent\",\n",
    "        \"gender_agent\",\n",
    "        \"nationality_agent\",\n",
    "        \"residency_agent\",\n",
    "    ]\n",
    "\n",
    "    agent_input_config = {}\n",
    "\n",
    "    for agent in agent_list:\n",
    "        new_input = copy.deepcopy(input_template)\n",
    "        agent_input_config[agent] = new_input\n",
    "\n",
    "    agent_input_config[\"name_agent\"][\"ap_aliases\"] = []\n",
    "    agent_input_config[\"name_agent\"][\"wl_aliases\"] = []\n",
    "\n",
    "    agent_input_config[\"party_type_agent\"][\"ap\"].extend([\"AP_TYPE\"])\n",
    "    if ALERT_TYPE == AccountType.ISG_ACCOUNT:\n",
    "\n",
    "        ## udf_concat_with_space\n",
    "        agent_input_config[\"name_agent\"][\"ap\"].extend(\n",
    "            [\"FRST_NM\", \"LAST_NM\", \"PRIN_OWN_NM\", \"ORD_PLACR_NM\", \"PARTY1_NAME_ALIAS1\"]\n",
    "        )\n",
    "        agent_input_config[\"name_agent\"][\"wl\"].extend([\"WL_NAME\", WL_ALIASES])\n",
    "\n",
    "        # agent_input_config['dob_agent']['ap'].extend()\n",
    "        agent_input_config[\"dob_agent\"][\"wl\"].extend([WL_DOB])\n",
    "\n",
    "        agent_input_config[\"national_id_agent\"][\"ap\"].extend([\"ap_nric\"])\n",
    "        agent_input_config[\"national_id_agent\"][\"wl\"].extend([\"hit_cs_1_data_points.nric\"])\n",
    "\n",
    "        agent_input_config[\"document_agent\"][\"ap\"].extend([\"alert_partyIds_idNumber\"])\n",
    "        agent_input_config[\"document_agent\"][\"wl\"].extend(\n",
    "            [\"hit_ids_idNumber\", \"hit_cs_1_data_points.possible_nric\"]\n",
    "        )\n",
    "\n",
    "        agent_input_config[\"nationality_agent\"][\"ap\"].extend(\n",
    "            [\n",
    "                \"PARTY1_COUNTRY_CITIZENSHIP1\",\n",
    "                \"PARTY1_COUNTRY_DOMICILE1\",\n",
    "                \"COUNTRYCODE\",\n",
    "                \"PARTY1_ADDRESS1_COUNTRY\",\n",
    "            ]\n",
    "        )\n",
    "        agent_input_config[\"nationality_agent\"][\"wl\"].extend(\n",
    "            [WL_NATIONALITY, WL_POB, WL_CITIZENSHIP, WL_COUNTRY, WL_COUNTRYNAME]\n",
    "        )\n",
    "\n",
    "        agent_input_config[\"residency_agent\"][\"ap\"].extend([\"PARTY1_COUNTRY_DOMICILE1\"])\n",
    "        agent_input_config[\"residency_agent\"][\"wl\"].extend([WL_COUNTRY])\n",
    "\n",
    "    if ALERT_TYPE == AccountType.WM_ADDRESS:\n",
    "\n",
    "        ## udf_concat_with_space\n",
    "        # !!! this fiels are missing  because of\n",
    "        # /v/region/na/appl/itlnc/s8/data/uat/datamart_extracts/Sanctions/WM/Party_And_Address_Relationship.csv_MISSING_FILE\n",
    "        # 'AD_BNFL_NM', 'AD_FRST_NM', 'AD_LAST_NM'\n",
    "        agent_input_config[\"name_agent\"][\"ap\"].extend([\"FRST_NM\", \"LAST_NM\", ALL_PARTY_NAMES])\n",
    "        agent_input_config[\"name_agent\"][\"wl\"].extend([\"WL_NAME\", WL_ALIASES])\n",
    "\n",
    "        agent_input_config[\"dob_agent\"][\"ap\"].extend([ALL_PARTY_DOBS])\n",
    "        agent_input_config[\"dob_agent\"][\"wl\"].extend([WL_DOB])\n",
    "\n",
    "        agent_input_config[\"national_id_agent\"][\"ap\"].extend([\"ap_nric\"])\n",
    "        agent_input_config[\"national_id_agent\"][\"wl\"].extend([\"hit_cs_1_data_points.nric\"])\n",
    "\n",
    "        agent_input_config[\"document_agent\"][\"ap\"].extend([\"alert_partyIds_idNumber\"])\n",
    "        agent_input_config[\"document_agent\"][\"wl\"].extend(\n",
    "            [\"hit_ids_idNumber\", \"hit_cs_1_data_points.possible_nric\"]\n",
    "        )\n",
    "\n",
    "        # agent_input_config['nationality_agent']['ap'].extend(['PARTY1_COUNTRY_CITIZENSHIP1', 'PARTY1_COUNTRY_DOMICILE1', 'COUNTRYCODE', 'PARTY1_ADDRESS1_COUNTRY'])\n",
    "        agent_input_config[\"nationality_agent\"][\"wl\"].extend(\n",
    "            [WL_NATIONALITY, WL_POB, WL_CITIZENSHIP, WL_COUNTRY, WL_COUNTRYNAME]\n",
    "        )\n",
    "\n",
    "        agent_input_config[\"residency_agent\"][\"ap\"].extend([ADDRESS1_COUNTRY])\n",
    "        agent_input_config[\"residency_agent\"][\"wl\"].extend([WL_COUNTRY])\n",
    "    return agent_input_config\n"
   ]
  },
  {
   "cell_type": "code",
   "execution_count": 171,
   "id": "4a6d00f2-3929-4910-b276-e6b82af1ddef",
   "metadata": {},
   "outputs": [],
   "source": [
    "import copy"
   ]
  },
  {
   "cell_type": "code",
   "execution_count": 172,
   "id": "30fb789e-01fc-4d0d-a7f9-512b1d018a70",
   "metadata": {},
   "outputs": [],
   "source": [
    "def prepend_agent_name_to_ap_or_wl_or_aliases_key(agent_input_config):\n",
    "    \"\"\"Prepend the agent name (level 1 key) to level 2 key. So the new level 2 key will be\n",
    "\n",
    "    Input:\n",
    "    { 'name_agent': {'ap': ['record_name'],\n",
    "                    'ap_aliases': [],\n",
    "                    'wl': ['name_hit'],\n",
    "                    'wl_aliases': []\n",
    "                    }\n",
    "    }\n",
    "\n",
    "    Output:\n",
    "    { 'name_agent': {'name_agent_ap': ['record_name'],\n",
    "                    'name_agent_ap_aliases': [],\n",
    "                    'name_agent_wl': ['name_hit'],\n",
    "                    'name_agent_wl_aliases': []\n",
    "                    }\n",
    "    }\n",
    "    \"\"\"\n",
    "    result = dict()\n",
    "    for agent_name, config in agent_input_config.items():\n",
    "        result[agent_name] = dict()\n",
    "\n",
    "        for ap_or_wl_or_aliases, source_cols in config.items():\n",
    "            prepended_key_name = \"_\".join([agent_name, ap_or_wl_or_aliases])\n",
    "            result[agent_name][prepended_key_name] = source_cols\n",
    "\n",
    "    return result"
   ]
  },
  {
   "cell_type": "code",
   "execution_count": 173,
   "id": "b397a123-ffeb-4cc6-bae7-3a97da9f7e06",
   "metadata": {},
   "outputs": [],
   "source": [
    "agent_input_config = create_agent_input()\n",
    "agent_input_prepended_agent_name_config = prepend_agent_name_to_ap_or_wl_or_aliases_key(\n",
    "    agent_input_config\n",
    ")"
   ]
  },
  {
   "cell_type": "code",
   "execution_count": 174,
   "id": "05dad411-a491-4390-a80b-5eb239b309bc",
   "metadata": {},
   "outputs": [],
   "source": [
    "def create_agent_input_agg_col_config(agent_input_prepended_agent_name_config):\n",
    "    \"\"\"Create the source and target columns based on the standardized agent input config.\n",
    "\n",
    "    Input:\n",
    "    { 'name_agent': {'name_agent_ap': ['record_name', 'whatever_other_name'],\n",
    "                     'name_agent_ap_aliases': [],\n",
    "                     'name_agent_wl': ['name_hit'],\n",
    "                     'name_agent_wl_aliases': []\n",
    "                    }\n",
    "    }\n",
    "\n",
    "    Output:\n",
    "    {'name_agent': {'ap_all_names_aggregated': ['name_agent_ap', 'name_agent_ap_aliases'],\n",
    "                    'wl_all_names_aggregated': ['name_agent_wl', 'name_agent_wl_aliases']\n",
    "                   }\n",
    "    }\n",
    "    \"\"\"\n",
    "\n",
    "    def _generate_simple_plural(word):\n",
    "        if word.lower().endswith(\"s\"):\n",
    "            return word.lower() + \"es\"\n",
    "        elif word.lower().endswith(\"y\") and word.lower()[-2:] not in [\n",
    "            \"ay\",\n",
    "            \"ey\",\n",
    "            \"iy\",\n",
    "            \"oy\",\n",
    "            \"uy\",\n",
    "        ]:\n",
    "            return word.lower()[:-1] + \"ies\"\n",
    "        else:\n",
    "            return word.lower() + \"s\"\n",
    "\n",
    "    def _get_ap_or_wl_agg_source_cols(level_1_value, party):\n",
    "        source_cols = []\n",
    "        # print(level_1_value)\n",
    "        for col in level_1_value.keys():\n",
    "\n",
    "            if col.endswith(f\"_{party}_aliases\"):\n",
    "                print(col)\n",
    "            if col.endswith(f\"_{party}\") or col.endswith(f\"_{party}_aliases\"):\n",
    "                source_cols.append(col)\n",
    "\n",
    "        return source_cols\n",
    "\n",
    "    agent_input_agg_col_config = dict()\n",
    "\n",
    "    for agent_name, config in agent_input_prepended_agent_name_config.items():\n",
    "        agent_type = agent_name.split(\"_agent\", 1)[0]\n",
    "        print(config)\n",
    "        agent_ap_agg_col = f\"\"\"ap_all_{_generate_simple_plural(agent_type)}_aggregated\"\"\"\n",
    "        agent_wl_agg_col = f\"\"\"wl_all_{_generate_simple_plural(agent_type)}_aggregated\"\"\"\n",
    "\n",
    "        agent_ap_agg_source_cols = _get_ap_or_wl_agg_source_cols(config, \"ap\")\n",
    "        agent_wl_agg_source_cols = _get_ap_or_wl_agg_source_cols(config, \"wl\")\n",
    "\n",
    "        agent_input_agg_col_config[agent_name] = dict()\n",
    "        agent_input_agg_col_config[agent_name][agent_ap_agg_col] = agent_ap_agg_source_cols\n",
    "        agent_input_agg_col_config[agent_name][agent_wl_agg_col] = agent_wl_agg_source_cols\n",
    "\n",
    "    return agent_input_agg_col_config"
   ]
  },
  {
   "cell_type": "code",
   "execution_count": 263,
   "id": "88832fb3-b244-4bf9-a2cd-50aab23b1df6",
   "metadata": {},
   "outputs": [
    {
     "name": "stdout",
     "output_type": "stream",
     "text": [
      "{'party_type_agent_ap': ['AP_TYPE'], 'party_type_agent_wl': []}\n",
      "{'is_deny_agent_ap': [], 'is_deny_agent_wl': []}\n",
      "{'name_agent_ap': ['FRST_NM', 'LAST_NM', 'all_party_names'], 'name_agent_wl': ['WL_NAME', 'WL_ALIASES'], 'name_agent_ap_aliases': [], 'name_agent_wl_aliases': []}\n",
      "name_agent_ap_aliases\n",
      "name_agent_wl_aliases\n",
      "{'dob_agent_ap': ['all_party_dobs'], 'dob_agent_wl': ['WL_DOB']}\n",
      "{'national_id_agent_ap': ['ap_nric'], 'national_id_agent_wl': ['hit_cs_1_data_points.nric']}\n",
      "{'passport_agent_ap': [], 'passport_agent_wl': []}\n",
      "{'document_agent_ap': ['alert_partyIds_idNumber'], 'document_agent_wl': ['hit_ids_idNumber', 'hit_cs_1_data_points.possible_nric']}\n",
      "{'gender_agent_ap': [], 'gender_agent_wl': []}\n",
      "{'nationality_agent_ap': [], 'nationality_agent_wl': ['WL_NATIONALITY', 'WL_POB', 'WL_CITIZENSHIP', 'WL_COUNTRY', 'WL_COUNTRYNAME']}\n",
      "{'residency_agent_ap': ['ADDRESS1_COUNTRY'], 'residency_agent_wl': ['WL_COUNTRY']}\n"
     ]
    }
   ],
   "source": [
    "agent_input_agg_col_config = create_agent_input_agg_col_config(\n",
    "    agent_input_prepended_agent_name_config\n",
    ")\n"
   ]
  },
  {
   "cell_type": "code",
   "execution_count": 264,
   "id": "d805ac2f-a60f-42eb-81b1-ad1d052a8315",
   "metadata": {},
   "outputs": [],
   "source": [
    "import pyspark"
   ]
  },
  {
   "cell_type": "code",
   "execution_count": 265,
   "id": "7f485365-1d9e-4aa1-aa1e-8c3bad6025bd",
   "metadata": {},
   "outputs": [],
   "source": [
    "import re"
   ]
  },
  {
   "cell_type": "code",
   "execution_count": 266,
   "id": "7eb4ab40-ca76-4582-89e6-1ac007dc2e83",
   "metadata": {},
   "outputs": [],
   "source": [
    "def select_wl_names(ap_triggers, wl_all_names_aggregated, wl_name):\n",
    "\n",
    "    tokens = list(ap_triggers.keys())\n",
    "\n",
    "    names = []\n",
    "\n",
    "    for token in tokens:\n",
    "        print(token)\n",
    "        print([name.replace(\" \", \"\") for name in wl_all_names_aggregated])\n",
    "        selected_names = [\n",
    "            name.replace('[\"', \"\").replace('\"]', \"\")\n",
    "            for name in wl_all_names_aggregated\n",
    "            if token in name.replace(\" \", \"\")\n",
    "        ]\n",
    "\n",
    "        for name in selected_names:\n",
    "            print(name)\n",
    "            names.append(name)\n",
    "\n",
    "    names.append(wl_name)\n",
    "\n",
    "    return list(set(names))\n",
    "\n",
    "\n",
    "@F.udf(returnType=ArrayType(StringType()))\n",
    "def udf_select_wl_names(ap_triggers, wl_all_names_aggregated, wl_name):\n",
    "    return select_wl_names(ap_triggers, wl_all_names_aggregated, wl_name)\n"
   ]
  },
  {
   "cell_type": "code",
   "execution_count": 267,
   "id": "3ef5b2e4-7247-407c-8d51-fc840ab67682",
   "metadata": {},
   "outputs": [],
   "source": [
    "def split_ap_names_by_ms_delimiter(concatenated_values):\n",
    "    \"\"\"\n",
    "    for name agent alone ease a bit processing of alerted parties (as long as we don't have FNs)\n",
    "    \"\"\"\n",
    "    names = []\n",
    "\n",
    "    for value in concatenated_values:\n",
    "        if value:\n",
    "            # each time it should take at most names avoiding address\n",
    "            names = names + re.split(\" A/C | ATTN | C/O | ON BHLF OF | U/A | - \", value)[:3]\n",
    "\n",
    "    return names\n",
    "\n",
    "\n",
    "@F.udf(returnType=ArrayType(StringType()))\n",
    "def udf_split_ap_names_by_ms_delimiter(concatenated_values):\n",
    "    if concatenated_values:\n",
    "        return split_ap_names_by_ms_delimiter(concatenated_values)\n",
    "    else:\n",
    "        return []"
   ]
  },
  {
   "cell_type": "code",
   "execution_count": 268,
   "id": "d276a951-f0d8-4e9c-8204-f1ae56f86787",
   "metadata": {},
   "outputs": [],
   "source": [
    "def select_ap_names(d):\n",
    "    names = []\n",
    "    for v in d.values():\n",
    "        for k in v.keys():\n",
    "            if k not in [\n",
    "                \"LAST_USER_NOTE_TEXT\",\n",
    "                CONCAT_ADDRESS,\n",
    "            ]:  # no need to find hits in analyst comment      #\"CONCAT_NAME\",\n",
    "                value = v[k]\n",
    "\n",
    "                if isinstance(value, list):\n",
    "                    names = names + value\n",
    "                else:\n",
    "                    names.append(value)\n",
    "\n",
    "    return list(set(names))\n",
    "\n",
    "\n",
    "@F.udf(returnType=ArrayType(StringType()))\n",
    "def udf_select_ap_names(ap_triggers):\n",
    "    return select_ap_names(ap_triggers)"
   ]
  },
  {
   "cell_type": "code",
   "execution_count": 284,
   "id": "37f13bf3-f7fa-43cc-a633-f8d676db11ba",
   "metadata": {},
   "outputs": [],
   "source": [
    "\n",
    "def create_input_for_agents(\n",
    "    cleansed_alert_df: pyspark.sql.DataFrame, config, agg_config, destination: str\n",
    "):\n",
    "    sql_expression = sql_to_merge_specific_columns_to_standardized(cleansed_alert_df, config)\n",
    "    agent_input_refined_df = cleansed_alert_df.select(\"*\", *sql_expression)\n",
    "    sql_expression = sql_to_merge_specific_columns_to_standardized(\n",
    "        agent_input_refined_df, agg_config, aggregated=True\n",
    "    )\n",
    "    agent_input_agg_df = agent_input_refined_df.select(\"*\", *sql_expression).withColumn(\n",
    "        \"_index\", F.col(MATCH_ID)\n",
    "    )\n",
    "    agent_input_agg_df = agent_input_agg_df.select(\n",
    "        [\n",
    "            F.lit(None).cast(\"string\").alias(i.name)\n",
    "            if isinstance(i.dataType, NullType)\n",
    "            else i.name\n",
    "            for i in agent_input_agg_df.schema\n",
    "        ]\n",
    "    )\n",
    "    agent_input_agg_df = (\n",
    "        agent_input_agg_df.withColumn(\n",
    "            \"wl_all_names_aggregated\",\n",
    "            udf_select_wl_names(AP_TRIGGERS, \"wl_all_names_aggregated\", \"wl_name\"),\n",
    "        )\n",
    "        .withColumn(\"ap_all_names_aggregated\", udf_select_ap_names(AP_TRIGGERS))\n",
    "        .withColumn(\n",
    "            \"ap_all_names_aggregated\",\n",
    "            udf_split_ap_names_by_ms_delimiter(\"ap_all_names_aggregated\"),\n",
    "        )\n",
    "    )\n",
    "    return agent_input_agg_df\n"
   ]
  },
  {
   "cell_type": "code",
   "execution_count": 270,
   "id": "67c8dacc-5d44-4540-86d9-38a80b76c1c2",
   "metadata": {},
   "outputs": [],
   "source": [
    "from etl_pipeline.agent_input_creator.sql import sql_to_merge_specific_columns_to_standardized"
   ]
  },
  {
   "cell_type": "code",
   "execution_count": 271,
   "id": "d3fb7b26-bd9e-4c2f-9611-f2a25e488d17",
   "metadata": {},
   "outputs": [
    {
     "data": {
      "text/plain": [
       "True"
      ]
     },
     "execution_count": 271,
     "metadata": {},
     "output_type": "execute_result"
    }
   ],
   "source": [
    "{'party_type_agent': {'ap_all_party_types_aggregated': ['party_type_agent_ap'], 'wl_all_party_types_aggregated': ['party_type_agent_wl']}, 'is_deny_agent': {'ap_all_is_denies_aggregated': ['is_deny_agent_ap'], 'wl_all_is_denies_aggregated': ['is_deny_agent_wl']}, 'name_agent': {'ap_all_names_aggregated': ['name_agent_ap', 'name_agent_ap_aliases'], 'wl_all_names_aggregated': ['name_agent_wl', 'name_agent_wl_aliases']}, 'dob_agent': {'ap_all_dobs_aggregated': ['dob_agent_ap'], 'wl_all_dobs_aggregated': ['dob_agent_wl']}, 'national_id_agent': {'ap_all_national_ids_aggregated': ['national_id_agent_ap'], 'wl_all_national_ids_aggregated': ['national_id_agent_wl']}, 'passport_agent': {'ap_all_passports_aggregated': ['passport_agent_ap'], 'wl_all_passports_aggregated': ['passport_agent_wl']}, 'document_agent': {'ap_all_documents_aggregated': ['document_agent_ap'], 'wl_all_documents_aggregated': ['document_agent_wl']}, 'gender_agent': {'ap_all_genders_aggregated': ['gender_agent_ap'], 'wl_all_genders_aggregated': ['gender_agent_wl']}, 'nationality_agent': {'ap_all_nationalities_aggregated': ['nationality_agent_ap'], 'wl_all_nationalities_aggregated': ['nationality_agent_wl']}, 'residency_agent': {'ap_all_residencies_aggregated': ['residency_agent_ap'], 'wl_all_residencies_aggregated': ['residency_agent_wl']}} == agent_input_agg_col_config"
   ]
  },
  {
   "cell_type": "code",
   "execution_count": 272,
   "id": "ac5a191b-ec26-4ef8-a87b-783ec4da7774",
   "metadata": {},
   "outputs": [
    {
     "data": {
      "text/plain": [
       "True"
      ]
     },
     "execution_count": 272,
     "metadata": {},
     "output_type": "execute_result"
    }
   ],
   "source": [
    "agent_input_prepended_agent_name_config == {'party_type_agent': {'party_type_agent_ap': ['AP_TYPE'], 'party_type_agent_wl': []}, 'is_deny_agent': {'is_deny_agent_ap': [], 'is_deny_agent_wl': []}, 'name_agent': {'name_agent_ap': ['FRST_NM', 'LAST_NM', 'all_party_names'], 'name_agent_wl': ['WL_NAME', 'WL_ALIASES'], 'name_agent_ap_aliases': [], 'name_agent_wl_aliases': []}, 'dob_agent': {'dob_agent_ap': ['all_party_dobs'], 'dob_agent_wl': ['WL_DOB']}, 'national_id_agent': {'national_id_agent_ap': ['ap_nric'], 'national_id_agent_wl': ['hit_cs_1_data_points.nric']}, 'passport_agent': {'passport_agent_ap': [], 'passport_agent_wl': []}, 'document_agent': {'document_agent_ap': ['alert_partyIds_idNumber'], 'document_agent_wl': ['hit_ids_idNumber', 'hit_cs_1_data_points.possible_nric']}, 'gender_agent': {'gender_agent_ap': [], 'gender_agent_wl': []}, 'nationality_agent': {'nationality_agent_ap': [], 'nationality_agent_wl': ['WL_NATIONALITY', 'WL_POB', 'WL_CITIZENSHIP', 'WL_COUNTRY', 'WL_COUNTRYNAME']}, 'residency_agent': {'residency_agent_ap': ['ADDRESS1_COUNTRY'], 'residency_agent_wl': ['WL_COUNTRY']}}"
   ]
  },
  {
   "cell_type": "code",
   "execution_count": 273,
   "id": "27f2a94a-f875-4489-8606-ebf8997693b6",
   "metadata": {},
   "outputs": [
    {
     "data": {
      "text/plain": [
       "True"
      ]
     },
     "execution_count": 273,
     "metadata": {},
     "output_type": "execute_result"
    }
   ],
   "source": [
    "agent_input_config == {'party_type_agent': {'ap': ['AP_TYPE'], 'wl': []}, 'is_deny_agent': {'ap': [], 'wl': []}, 'name_agent': {'ap': ['FRST_NM', 'LAST_NM', 'all_party_names'], 'wl': ['WL_NAME', 'WL_ALIASES'], 'ap_aliases': [], 'wl_aliases': []}, 'dob_agent': {'ap': ['all_party_dobs'], 'wl': ['WL_DOB']}, 'national_id_agent': {'ap': ['ap_nric'], 'wl': ['hit_cs_1_data_points.nric']}, 'passport_agent': {'ap': [], 'wl': []}, 'document_agent': {'ap': ['alert_partyIds_idNumber'], 'wl': ['hit_ids_idNumber', 'hit_cs_1_data_points.possible_nric']}, 'gender_agent': {'ap': [], 'wl': []}, 'nationality_agent': {'ap': [], 'wl': ['WL_NATIONALITY', 'WL_POB', 'WL_CITIZENSHIP', 'WL_COUNTRY', 'WL_COUNTRYNAME']}, 'residency_agent': {'ap': ['ADDRESS1_COUNTRY'], 'wl': ['WL_COUNTRY']}}"
   ]
  },
  {
   "cell_type": "code",
   "execution_count": 274,
   "id": "852d0a1d-946c-4cb5-912f-a7ad543d7c09",
   "metadata": {},
   "outputs": [
    {
     "data": {
      "text/plain": [
       "True"
      ]
     },
     "execution_count": 274,
     "metadata": {},
     "output_type": "execute_result"
    }
   ],
   "source": [
    "str(cleansed_alert_df) == 'DataFrame[alert_id: bigint, SRC_SYS_ACCT_KEY: string, ADDRESS_ID: string, SRC_REF_KEY: string, ACCT_NUM: bigint, PARTY_ID: bigint, TRIGGERED_BY: array<string>, CONCAT_ADDRESS: string, WL_MATCHED_TOKENS: string, ADDRESS1_COUNTRY: string, ADDRESS1_LINE1: string, ADDRESS1_LINE2: string, ADDRESS1_LINE3: string, ADDRESS1_LINE4: string, ADDRESS1_LINE5: string, ACCT_REGS_NM1: string, AD_SRC_SYS_ACCT_KEY: string, AD_FIRM_ACCT_CD: string, AD_ACCT_NUM: double, AD_ACCT_OWN_TYP_CD: string, AD_ACCT_TYP_CD: string, AD_BRNCH_NUM: int, AD_ACCT_NM: string, AD_ACCT_CLOS_DT: int, AD_CCY_CD: string, AD_ACCT_OPEN_DT: int, AD_ACCT_STAT_CD: string, AD_LAST_TRD_DT: int, AD_BUS_DT: int, AD_BUS_LNE_CD: string, AD_UPDT_DT: int, AD_CREA_DT: int, AD_ACCT_PROD_TYP_NM: string, AD_ACCT_PROD_STYP_NM: string, AD_ACCT_OWN_CTZNSH_CD: string, AD_PRIN_PRTY_ID: string, AD_FRGN_ACCT_IND: string, AD_DOB_DT: int, AD_FRST_NM: string, AD_LAST_NM: string, AD_CASH_ENABLE_IND: string, AD_COD_IND: int, AD_MARG_ENABLE_IND: string, AD_OPTN_TRD_ENBLE_IND: string, AD_ACCT_OPEN_APRV_DT: int, AD_LGL_FORM_NM: string, AD_PHN_1_NUM: bigint, AD_PHN_2_NUM: bigint, AD_SWUNG_FROM_BRNCH_NUM: string, AD_SWUNG_FROM_ACCT_NUM: string, AD_SWUNG_FROM_DT: int, AD_AUTH_AGNT_NM: string, AD_BNFL_NM: string, AD_EMP_RLTD_IND: int, AD_RLTD_ACCT_EMP_ID: string, AD_SALE_REP_RR_NUM: double, AD_SALE_REP_TYP_NM: string, AD_TAX_ID: double, AD_TAX_ID_TYP_ID: int, AD_ACCT_REGS_NM1: string, AD_ACCT_REGS_NM2: string, AD_ACCT_REGS_NM3: string, AD_ACCT_REGS_NM4: string, AD_ACCT_REGS_NM5: string, AD_ACCT_REGS_NM6: string, AD_ACCT_REGS_NM7: string, AD_PROD_SERV_CD: double, AD_ACCT_FRZN_IND: string, AD_BUS_AREA_CD: string, AD_ACCT_REGS_TYP_DESC: string, ALL_PARTY_DETAILS: array<struct<PRTY_TYP:string,PRTY_NM:string,DOB_DT:string,PRTY_CNTRY_OF_BIRTH:string,PRTY_PRIM_CTZNSH_CNTRY:string,PRTY_RSDNC_CNTRY_CD:string>>, ALL_PARTY_TYPES: array<string>, all_party_names: array<string>, all_party_dobs: array<string>, all_party_birth_countries: array<string>, all_party_citizenship_countries: array<string>, all_party_residency_countries: array<string>, all_connected_parties_names: array<string>, is_beneficiary_hit: boolean, cleaned_names: map<string,string>, concat_residue: string, concat_address_no_changes: string, AP_TRIGGERS: map<string,map<string,array<string>>>, STATUS_DESC: string, WL_NATIONALITY: array<string>, ALERT_INTERNAL_ID: string, ENTITY_ID: bigint, ENTITY_VERSION: bigint, wl_name: string, analyst_solution: string, number_of_hits: bigint, match_id: string]'"
   ]
  },
  {
   "cell_type": "code",
   "execution_count": 285,
   "id": "3ea7adf4-2c70-4d92-b9df-12b7f288d1df",
   "metadata": {},
   "outputs": [],
   "source": [
    "agent_input_agg_df = create_input_for_agents(\n",
    "    cleansed_alert_df, agent_input_prepended_agent_name_config, agent_input_agg_col_config, 'bemp'\n",
    ")"
   ]
  },
  {
   "cell_type": "code",
   "execution_count": 286,
   "id": "99fbb9b9-0c32-480f-a672-fc641ea240db",
   "metadata": {},
   "outputs": [],
   "source": [
    "\n",
    "agent_input_agg_df = (\n",
    "    agent_input_agg_df.withColumn(\n",
    "        WL_ALL_NAMES_AGGREGATED,\n",
    "        udf_select_wl_names(AP_TRIGGERS, WL_ALL_NAMES_AGGREGATED, WL_NAME),\n",
    "    )\n",
    "    .withColumn(AP_ALL_NAMES_AGGREGATED, udf_select_ap_names(AP_TRIGGERS))\n",
    "    .withColumn(\n",
    "        AP_ALL_NAMES_AGGREGATED,\n",
    "        udf_split_ap_names_by_ms_delimiter(AP_ALL_NAMES_AGGREGATED),\n",
    "    )\n",
    ")"
   ]
  },
  {
   "cell_type": "code",
   "execution_count": 287,
   "id": "7b77320a-ae37-431c-850e-0ac8700c4ca7",
   "metadata": {},
   "outputs": [
    {
     "name": "stderr",
     "output_type": "stream",
     "text": [
      "[\"John B Doe\"](5 + 0) / 8][Stage 1005:(0 + 0) / 400][Stage 1006:(0 + 0) / 200]8]\n",
      "      XXX C/F YYY A ZET (DECD) Agent ZET (BENE) ABC DEF GHI 123 XYZ RD ZET XXX 11111 ['JOHNSON, MICHAEL L', 'JOHNSON, MARY P']  XXX C/F YYY A ZET (DECD) Agent ZET (BENE) ABC DEF GHI 123 XYZ RD ZET XXX 11111 XXX C/F YYY A ZET (DECD) Agent ZET (BENE) ABC DEF GHI 123 XYZ RD ZET XXX 11111 ['MARY P JOHNSON', 'MICHAEL L JOHNSON', 'MARY P JOHNSON']\n",
      "\n",
      "MATCHED TOKENS  ['John B Doe']\n",
      "VALUES_DICT {'CONCAT_ADDRESS': 'XXX C/F YYY A ZET (DECD) Agent ZET (BENE) ABC DEF GHI 123 XYZ RD ZET XXX 11111', 'all_party_names': ['JOHNSON, MICHAEL L', 'JOHNSON, MARY P'], 'concat_residue': 'XXX C/F YYY A ZET (DECD) Agent ZET (BENE) ABC DEF GHI 123 XYZ RD ZET XXX 11111', 'concat_address_no_changes': 'XXX C/F YYY A ZET (DECD) Agent ZET (BENE) ABC DEF GHI 123 XYZ RD ZET XXX 11111', 'all_connected_parties_names': ['MARY P JOHNSON', 'MICHAEL L JOHNSON', 'MARY P JOHNSON']}\n",
      "value XXX C/F YYY A ZET (DECD) Agent ZET (BENE) ABC DEF GHI 123 XYZ RD ZET XXX 11111 John\n",
      "value JOHNSON, MICHAEL L John\n",
      "value JOHNSON, MARY P John\n",
      "value XXX C/F YYY A ZET (DECD) Agent ZET (BENE) ABC DEF GHI 123 XYZ RD ZET XXX 11111 John\n",
      "value XXX C/F YYY A ZET (DECD) Agent ZET (BENE) ABC DEF GHI 123 XYZ RD ZET XXX 11111 John\n",
      "value MARY P JOHNSON John\n",
      "value MICHAEL L JOHNSON John\n",
      "value MARY P JOHNSON John\n",
      "value XXX C/F YYY A ZET (DECD) Agent ZET (BENE) ABC DEF GHI 123 XYZ RD ZET XXX 11111 B\n",
      "value JOHNSON, MICHAEL L B\n",
      "value JOHNSON, MARY P B\n",
      "value XXX C/F YYY A ZET (DECD) Agent ZET (BENE) ABC DEF GHI 123 XYZ RD ZET XXX 11111 B\n",
      "value XXX C/F YYY A ZET (DECD) Agent ZET (BENE) ABC DEF GHI 123 XYZ RD ZET XXX 11111 B\n",
      "value MARY P JOHNSON B\n",
      "value MICHAEL L JOHNSON B\n",
      "value MARY P JOHNSON B\n",
      "value XXX C/F YYY A ZET (DECD) Agent ZET (BENE) ABC DEF GHI 123 XYZ RD ZET XXX 11111 Doe\n",
      "[\"John B Doe\"]\n",
      " test     Jane Doe 111 A 11TH ST AAA 1A New Jersey NJ ['Doe, John B']  Jane Doe 111 A 11TH ST AAA 1A New Jersey NJ Jane Doe 111 A 11TH ST AAA 1A New Jersey NJ ['John B Doe', 'John B Doe']\n",
      "\n",
      "value JOHNSON, MICHAEL L Doe\n",
      "MATCHED TOKENS  ['John B Doe']\n",
      "VALUES_DICT {'ADDRESS1_LINE1': 'test', 'CONCAT_ADDRESS': 'Jane Doe 111 A 11TH ST AAA 1A New Jersey NJ', 'all_party_names': ['Doe, John B'], 'concat_residue': 'Jane Doe 111 A 11TH ST AAA 1A New Jersey NJ', 'concat_address_no_changes': 'Jane Doe 111 A 11TH ST AAA 1A New Jersey NJ', 'all_connected_parties_names': ['John B Doe', 'John B Doe']}\n",
      "value test John\n",
      "value JOHNSON, MARY P Doe\n",
      "value Jane Doe 111 A 11TH ST AAA 1A New Jersey NJ John\n",
      "value XXX C/F YYY A ZET (DECD) Agent ZET (BENE) ABC DEF GHI 123 XYZ RD ZET XXX 11111 Doe\n",
      "value XXX C/F YYY A ZET (DECD) Agent ZET (BENE) ABC DEF GHI 123 XYZ RD ZET XXX 11111 Doe\n",
      "value Doe, John B John\n",
      "value Jane Doe 111 A 11TH ST AAA 1A New Jersey NJ John\n",
      "value MARY P JOHNSON Doe\n",
      "value MICHAEL L JOHNSON Doe\n",
      "value MARY P JOHNSON Doe\n",
      "value Jane Doe 111 A 11TH ST AAA 1A New Jersey NJ John\n",
      "value John B Doe John\n",
      "value John B Doe John\n",
      "value test B\n",
      "value Jane Doe 111 A 11TH ST AAA 1A New Jersey NJ B\n",
      "value Doe, John B B\n",
      "value Jane Doe 111 A 11TH ST AAA 1A New Jersey NJ B\n",
      "value Jane Doe 111 A 11TH ST AAA 1A New Jersey NJ B\n",
      "value John B Doe B\n",
      "value John B Doe B\n",
      "value test Doe\n",
      "value Jane Doe 111 A 11TH ST AAA 1A New Jersey NJ Doe\n",
      "value Doe, John B Doe\n",
      "value Jane Doe 111 A 11TH ST AAA 1A New Jersey NJ Doe\n",
      "value Jane Doe 111 A 11TH ST AAA 1A New Jersey NJ Doe\n",
      "value John B Doe Doe\n",
      "value John B Doe Doe\n",
      "[\"American\"](187 + 8) / 200][Stage 1005:(28 + 0) / 400][Stage 1006:(0 + 0) / 200]\n",
      "[\"American\"]====>       (162 + 0) / 400][Stage 1006:>             (0 + 0) / 200]\n",
      "Johnge 1005:==========> (361 + 8) / 400][Stage 1006:>             (0 + 0) / 200]0]\n",
      "['test']\n",
      "B\n",
      "['test']\n",
      "Doe\n",
      "['test']\n",
      "John\n",
      "['test']\n",
      "B\n",
      "['test']\n",
      "Doe\n",
      "['test']\n",
      "John\n",
      "['test']\n",
      "B\n",
      "['test']\n",
      "Doe\n",
      "['test']\n",
      "John\n",
      "['test']\n",
      "B\n",
      "['test']\n",
      "Doe\n",
      "['test']\n",
      "                                                                                \r"
     ]
    },
    {
     "data": {
      "text/plain": [
       "DataFrame[alert_id: bigint, SRC_SYS_ACCT_KEY: string, ADDRESS_ID: string, SRC_REF_KEY: string, ACCT_NUM: bigint, PARTY_ID: bigint, TRIGGERED_BY: array<string>, CONCAT_ADDRESS: string, WL_MATCHED_TOKENS: string, ADDRESS1_COUNTRY: string, ADDRESS1_LINE1: string, ADDRESS1_LINE2: string, ADDRESS1_LINE3: string, ADDRESS1_LINE4: string, ADDRESS1_LINE5: string, ACCT_REGS_NM1: string, AD_SRC_SYS_ACCT_KEY: string, AD_FIRM_ACCT_CD: string, AD_ACCT_NUM: double, AD_ACCT_OWN_TYP_CD: string, AD_ACCT_TYP_CD: string, AD_BRNCH_NUM: int, AD_ACCT_NM: string, AD_ACCT_CLOS_DT: int, AD_CCY_CD: string, AD_ACCT_OPEN_DT: int, AD_ACCT_STAT_CD: string, AD_LAST_TRD_DT: int, AD_BUS_DT: int, AD_BUS_LNE_CD: string, AD_UPDT_DT: int, AD_CREA_DT: int, AD_ACCT_PROD_TYP_NM: string, AD_ACCT_PROD_STYP_NM: string, AD_ACCT_OWN_CTZNSH_CD: string, AD_PRIN_PRTY_ID: string, AD_FRGN_ACCT_IND: string, AD_DOB_DT: int, AD_FRST_NM: string, AD_LAST_NM: string, AD_CASH_ENABLE_IND: string, AD_COD_IND: int, AD_MARG_ENABLE_IND: string, AD_OPTN_TRD_ENBLE_IND: string, AD_ACCT_OPEN_APRV_DT: int, AD_LGL_FORM_NM: string, AD_PHN_1_NUM: bigint, AD_PHN_2_NUM: bigint, AD_SWUNG_FROM_BRNCH_NUM: string, AD_SWUNG_FROM_ACCT_NUM: string, AD_SWUNG_FROM_DT: int, AD_AUTH_AGNT_NM: string, AD_BNFL_NM: string, AD_EMP_RLTD_IND: int, AD_RLTD_ACCT_EMP_ID: string, AD_SALE_REP_RR_NUM: double, AD_SALE_REP_TYP_NM: string, AD_TAX_ID: double, AD_TAX_ID_TYP_ID: int, AD_ACCT_REGS_NM1: string, AD_ACCT_REGS_NM2: string, AD_ACCT_REGS_NM3: string, AD_ACCT_REGS_NM4: string, AD_ACCT_REGS_NM5: string, AD_ACCT_REGS_NM6: string, AD_ACCT_REGS_NM7: string, AD_PROD_SERV_CD: double, AD_ACCT_FRZN_IND: string, AD_BUS_AREA_CD: string, AD_ACCT_REGS_TYP_DESC: string, ALL_PARTY_DETAILS: array<struct<PRTY_TYP:string,PRTY_NM:string,DOB_DT:string,PRTY_CNTRY_OF_BIRTH:string,PRTY_PRIM_CTZNSH_CNTRY:string,PRTY_RSDNC_CNTRY_CD:string>>, ALL_PARTY_TYPES: array<string>, all_party_names: array<string>, all_party_dobs: array<string>, all_party_birth_countries: array<string>, all_party_citizenship_countries: array<string>, all_party_residency_countries: array<string>, all_connected_parties_names: array<string>, is_beneficiary_hit: boolean, cleaned_names: map<string,string>, concat_residue: string, concat_address_no_changes: string, AP_TRIGGERS: map<string,map<string,array<string>>>, STATUS_DESC: string, WL_NATIONALITY: array<string>, ALERT_INTERNAL_ID: string, ENTITY_ID: bigint, ENTITY_VERSION: bigint, wl_name: string, analyst_solution: string, number_of_hits: bigint, match_id: string, party_type_agent_ap: string, party_type_agent_wl: string, is_deny_agent_ap: string, is_deny_agent_wl: string, name_agent_ap: array<string>, name_agent_wl: string, name_agent_ap_aliases: string, name_agent_wl_aliases: string, dob_agent_ap: array<string>, dob_agent_wl: string, national_id_agent_ap: string, national_id_agent_wl: string, passport_agent_ap: string, passport_agent_wl: string, document_agent_ap: string, document_agent_wl: string, gender_agent_ap: string, gender_agent_wl: string, nationality_agent_ap: string, nationality_agent_wl: array<string>, residency_agent_ap: string, residency_agent_wl: string, ap_all_party_types_aggregated: array<string>, wl_all_party_types_aggregated: array<string>, ap_all_is_denies_aggregated: array<string>, wl_all_is_denies_aggregated: array<string>, ap_all_names_aggregated: array<string>, wl_all_names_aggregated: array<string>, ap_all_dobs_aggregated: array<string>, wl_all_dobs_aggregated: array<string>, ap_all_national_ids_aggregated: array<string>, wl_all_national_ids_aggregated: array<string>, ap_all_passports_aggregated: array<string>, wl_all_passports_aggregated: array<string>, ap_all_documents_aggregated: array<string>, wl_all_documents_aggregated: array<string>, ap_all_genders_aggregated: array<string>, wl_all_genders_aggregated: array<string>, ap_all_nationalities_aggregated: array<string>, wl_all_nationalities_aggregated: array<string>, ap_all_residencies_aggregated: array<string>, wl_all_residencies_aggregated: array<string>, _index: string]"
      ]
     },
     "execution_count": 287,
     "metadata": {},
     "output_type": "execute_result"
    }
   ],
   "source": [
    "spark_engine.save_data(agent_input_agg_df, \"tests/shared/test_ms_pipeline/test_cleansed_to_agent_input_output.delta\")"
   ]
  },
  {
   "cell_type": "code",
   "execution_count": 17,
   "id": "147a78f3-5ced-4cce-984d-f4d5a04c730e",
   "metadata": {},
   "outputs": [],
   "source": [
    "x = spark_engine.load_data(\"tests/shared/test_ms_pipeline/test_cleansed_to_agent_input_output.delta\")"
   ]
  },
  {
   "cell_type": "code",
   "execution_count": 27,
   "id": "d8b1e0c5-6216-4ba4-84b9-85ea6fd6dc19",
   "metadata": {},
   "outputs": [
    {
     "name": "stderr",
     "output_type": "stream",
     "text": [
      "/env/ds/anaconda/envs/pipeline/lib/python3.9/site-packages/pyspark/sql/pandas/conversion.py:186: PerformanceWarning: DataFrame is highly fragmented.  This is usually the result of calling `frame.insert` many times, which has poor performance.  Consider joining all columns at once using pd.concat(axis=1) instead.  To get a de-fragmented frame, use `newframe = frame.copy()`\n",
      "  df[column_name] = series\n"
     ]
    }
   ],
   "source": [
    "x_pd = x.toPandas()"
   ]
  },
  {
   "cell_type": "code",
   "execution_count": 28,
   "id": "e3e21c2a-5458-41d0-90c4-3d47a0e76517",
   "metadata": {},
   "outputs": [
    {
     "data": {
      "text/html": [
       "<div>\n",
       "<style scoped>\n",
       "    .dataframe tbody tr th:only-of-type {\n",
       "        vertical-align: middle;\n",
       "    }\n",
       "\n",
       "    .dataframe tbody tr th {\n",
       "        vertical-align: top;\n",
       "    }\n",
       "\n",
       "    .dataframe thead th {\n",
       "        text-align: right;\n",
       "    }\n",
       "</style>\n",
       "<table border=\"1\" class=\"dataframe\">\n",
       "  <thead>\n",
       "    <tr style=\"text-align: right;\">\n",
       "      <th></th>\n",
       "      <th>dob_agent_ap</th>\n",
       "      <th>dob_agent_wl</th>\n",
       "      <th>hit_has_dob_id_address_agent_wl</th>\n",
       "      <th>ap_all_dobs_aggregated</th>\n",
       "      <th>wl_all_dobs_aggregated</th>\n",
       "      <th>ap_all_hit_has_dob_id_addresses_aggregated</th>\n",
       "      <th>wl_all_hit_has_dob_id_addresses_aggregated</th>\n",
       "    </tr>\n",
       "  </thead>\n",
       "  <tbody>\n",
       "    <tr>\n",
       "      <th>0</th>\n",
       "      <td>None</td>\n",
       "      <td>[1995-12-08]</td>\n",
       "      <td>[1995-12-08, 91110000100018558M, 544956829, 60...</td>\n",
       "      <td>[]</td>\n",
       "      <td>[1995-12-08]</td>\n",
       "      <td>[]</td>\n",
       "      <td>[1995-12-08, 91110000100018558M, 544956829, 60...</td>\n",
       "    </tr>\n",
       "    <tr>\n",
       "      <th>1</th>\n",
       "      <td>1/1/89</td>\n",
       "      <td>[1992, 1994, 1993, 1995]</td>\n",
       "      <td>[1992, 1994, 1993, 1995, 34712, 3194, Kafia Ki...</td>\n",
       "      <td>[1/1/89]</td>\n",
       "      <td>[1992, 1994, 1993, 1995]</td>\n",
       "      <td>[]</td>\n",
       "      <td>[1992, 1994, 1993, 1995, 34712, 3194, Kafia Ki...</td>\n",
       "    </tr>\n",
       "    <tr>\n",
       "      <th>2</th>\n",
       "      <td>5/12/62</td>\n",
       "      <td>[1964, 1962-08-28]</td>\n",
       "      <td>[1964, 1962-08-28, 290320764, 33845, 1133, 315...</td>\n",
       "      <td>[5/12/62]</td>\n",
       "      <td>[1964, 1962-08-28]</td>\n",
       "      <td>[]</td>\n",
       "      <td>[1964, 1962-08-28, 290320764, 33845, 1133, 315...</td>\n",
       "    </tr>\n",
       "  </tbody>\n",
       "</table>\n",
       "</div>"
      ],
      "text/plain": [
       "  dob_agent_ap              dob_agent_wl  \\\n",
       "0         None              [1995-12-08]   \n",
       "1       1/1/89  [1992, 1994, 1993, 1995]   \n",
       "2      5/12/62        [1964, 1962-08-28]   \n",
       "\n",
       "                     hit_has_dob_id_address_agent_wl ap_all_dobs_aggregated  \\\n",
       "0  [1995-12-08, 91110000100018558M, 544956829, 60...                     []   \n",
       "1  [1992, 1994, 1993, 1995, 34712, 3194, Kafia Ki...               [1/1/89]   \n",
       "2  [1964, 1962-08-28, 290320764, 33845, 1133, 315...              [5/12/62]   \n",
       "\n",
       "     wl_all_dobs_aggregated ap_all_hit_has_dob_id_addresses_aggregated  \\\n",
       "0              [1995-12-08]                                         []   \n",
       "1  [1992, 1994, 1993, 1995]                                         []   \n",
       "2        [1964, 1962-08-28]                                         []   \n",
       "\n",
       "          wl_all_hit_has_dob_id_addresses_aggregated  \n",
       "0  [1995-12-08, 91110000100018558M, 544956829, 60...  \n",
       "1  [1992, 1994, 1993, 1995, 34712, 3194, Kafia Ki...  \n",
       "2  [1964, 1962-08-28, 290320764, 33845, 1133, 315...  "
      ]
     },
     "execution_count": 28,
     "metadata": {},
     "output_type": "execute_result"
    }
   ],
   "source": [
    "x_pd[[i for i in x_pd.columns if \"dob\" in i]]"
   ]
  },
  {
   "cell_type": "code",
   "execution_count": null,
   "id": "d7b5136a-e1a8-479e-8629-8f60f987f7cb",
   "metadata": {},
   "outputs": [],
   "source": []
  },
  {
   "cell_type": "code",
   "execution_count": 26,
   "id": "781adec0-8848-4c15-96f6-03301fe1e693",
   "metadata": {},
   "outputs": [],
   "source": [
    "x = spark_engine.load_data(\"tests/shared/reference/4.application/agent_input_agg_df.delta/\")"
   ]
  },
  {
   "cell_type": "code",
   "execution_count": 233,
   "id": "509e6540-0446-45e6-91dc-7014ea067d72",
   "metadata": {},
   "outputs": [],
   "source": [
    "df_schema_dict = {f.name.lower(): f.dataType for f in result.schema.fields}"
   ]
  },
  {
   "cell_type": "code",
   "execution_count": 242,
   "id": "3248aa6c-8aee-40d3-b367-4135cd64bcff",
   "metadata": {},
   "outputs": [
    {
     "data": {
      "text/plain": [
       "pyspark.sql.types.NullType"
      ]
     },
     "execution_count": 242,
     "metadata": {},
     "output_type": "execute_result"
    }
   ],
   "source": [
    "type(df_schema_dict['party_type_agent_ap'])"
   ]
  },
  {
   "cell_type": "code",
   "execution_count": 246,
   "id": "af1bb77e-0a19-448e-bd42-f411e88d6528",
   "metadata": {},
   "outputs": [],
   "source": [
    "x = [key for key, value in df_schema_dict.items() if not isinstance(value, NullType)]"
   ]
  },
  {
   "cell_type": "code",
   "execution_count": 250,
   "id": "3202ab24-e4f3-4d07-b86f-211551115f25",
   "metadata": {},
   "outputs": [
    {
     "data": {
      "text/plain": [
       "97"
      ]
     },
     "execution_count": 250,
     "metadata": {},
     "output_type": "execute_result"
    }
   ],
   "source": [
    "len(result.select(x).columns)"
   ]
  },
  {
   "cell_type": "code",
   "execution_count": 228,
   "id": "21829d11-8896-4a84-871f-7ca1ef283140",
   "metadata": {},
   "outputs": [
    {
     "data": {
      "text/plain": [
       "NullType"
      ]
     },
     "execution_count": 228,
     "metadata": {},
     "output_type": "execute_result"
    }
   ],
   "source": [
    "spark_engine.spark_instance.get_column_type(agent_input_agg_df, \"residency_agent_wl\")"
   ]
  },
  {
   "cell_type": "code",
   "execution_count": 214,
   "id": "7042209a-ae58-4db2-9c53-a8059a64b79f",
   "metadata": {},
   "outputs": [
    {
     "name": "stderr",
     "output_type": "stream",
     "text": [
      "[\"John B Doe\"] + 0) / 200][Stage 896:>  (0 + 0) / 8][Stage 897:>(0 + 0) / 400]\n",
      "      XXX C/F YYY A ZET (DECD) Agent ZET (BENE) ABC DEF GHI 123 XYZ RD ZET XXX 11111 ['JOHNSON, MICHAEL L', 'JOHNSON, MARY P']  XXX C/F YYY A ZET (DECD) Agent ZET (BENE) ABC DEF GHI 123 XYZ RD ZET XXX 11111 XXX C/F YYY A ZET (DECD) Agent ZET (BENE) ABC DEF GHI 123 XYZ RD ZET XXX 11111 ['MARY P JOHNSON', 'MICHAEL L JOHNSON', 'MARY P JOHNSON']\n",
      "\n",
      "MATCHED TOKENS  ['John B Doe']\n",
      "VALUES_DICT {'CONCAT_ADDRESS': 'XXX C/F YYY A ZET (DECD) Agent ZET (BENE) ABC DEF GHI 123 XYZ RD ZET XXX 11111', 'all_party_names': ['JOHNSON, MICHAEL L', 'JOHNSON, MARY P'], 'concat_residue': 'XXX C/F YYY A ZET (DECD) Agent ZET (BENE) ABC DEF GHI 123 XYZ RD ZET XXX 11111', 'concat_address_no_changes': 'XXX C/F YYY A ZET (DECD) Agent ZET (BENE) ABC DEF GHI 123 XYZ RD ZET XXX 11111', 'all_connected_parties_names': ['MARY P JOHNSON', 'MICHAEL L JOHNSON', 'MARY P JOHNSON']}\n",
      "value XXX C/F YYY A ZET (DECD) Agent ZET (BENE) ABC DEF GHI 123 XYZ RD ZET XXX 11111 John\n",
      "value JOHNSON, MICHAEL L John\n",
      "value JOHNSON, MARY P John\n",
      "value XXX C/F YYY A ZET (DECD) Agent ZET (BENE) ABC DEF GHI 123 XYZ RD ZET XXX 11111 John\n",
      "value XXX C/F YYY A ZET (DECD) Agent ZET (BENE) ABC DEF GHI 123 XYZ RD ZET XXX 11111 John\n",
      "value MARY P JOHNSON John\n",
      "value MICHAEL L JOHNSON John\n",
      "value MARY P JOHNSON John\n",
      "value XXX C/F YYY A ZET (DECD) Agent ZET (BENE) ABC DEF GHI 123 XYZ RD ZET XXX 11111 B\n",
      "value JOHNSON, MICHAEL L B\n",
      "value JOHNSON, MARY P B\n",
      "value XXX C/F YYY A ZET (DECD) Agent ZET (BENE) ABC DEF GHI 123 XYZ RD ZET XXX 11111 B\n",
      "value XXX C/F YYY A ZET (DECD) Agent ZET (BENE) ABC DEF GHI 123 XYZ RD ZET XXX 11111 B\n",
      "value MARY P JOHNSON B\n",
      "value MICHAEL L JOHNSON B\n",
      "value MARY P JOHNSON B\n",
      "value XXX C/F YYY A ZET (DECD) Agent ZET (BENE) ABC DEF GHI 123 XYZ RD ZET XXX 11111 Doe\n",
      "value JOHNSON, MICHAEL L Doe\n",
      "value JOHNSON, MARY P Doe\n",
      "value XXX C/F YYY A ZET (DECD) Agent ZET (BENE) ABC DEF GHI 123 XYZ RD ZET XXX 11111 Doe\n",
      "value XXX C/F YYY A ZET (DECD) Agent ZET (BENE) ABC DEF GHI 123 XYZ RD ZET XXX 11111 Doe\n",
      "value MARY P JOHNSON Doe\n",
      "value MICHAEL L JOHNSON Doe\n",
      "value MARY P JOHNSON Doe\n",
      "[\"John B Doe\"]\n",
      " test     Jane Doe 111 A 11TH ST AAA 1A New Jersey NJ ['Doe, John B']  Jane Doe 111 A 11TH ST AAA 1A New Jersey NJ Jane Doe 111 A 11TH ST AAA 1A New Jersey NJ ['John B Doe', 'John B Doe']\n",
      "\n",
      "MATCHED TOKENS  ['John B Doe']\n",
      "VALUES_DICT {'ADDRESS1_LINE1': 'test', 'CONCAT_ADDRESS': 'Jane Doe 111 A 11TH ST AAA 1A New Jersey NJ', 'all_party_names': ['Doe, John B'], 'concat_residue': 'Jane Doe 111 A 11TH ST AAA 1A New Jersey NJ', 'concat_address_no_changes': 'Jane Doe 111 A 11TH ST AAA 1A New Jersey NJ', 'all_connected_parties_names': ['John B Doe', 'John B Doe']}\n",
      "value test John\n",
      "value Jane Doe 111 A 11TH ST AAA 1A New Jersey NJ John\n",
      "value Doe, John B John\n",
      "value Jane Doe 111 A 11TH ST AAA 1A New Jersey NJ John\n",
      "value Jane Doe 111 A 11TH ST AAA 1A New Jersey NJ John\n",
      "value John B Doe John\n",
      "value John B Doe John\n",
      "value test B\n",
      "value Jane Doe 111 A 11TH ST AAA 1A New Jersey NJ B\n",
      "value Doe, John B B\n",
      "value Jane Doe 111 A 11TH ST AAA 1A New Jersey NJ B\n",
      "value Jane Doe 111 A 11TH ST AAA 1A New Jersey NJ B\n",
      "value John B Doe B\n",
      "value John B Doe B\n",
      "value test Doe\n",
      "value Jane Doe 111 A 11TH ST AAA 1A New Jersey NJ Doe\n",
      "value Doe, John B Doe\n",
      "value Jane Doe 111 A 11TH ST AAA 1A New Jersey NJ Doe\n",
      "value Jane Doe 111 A 11TH ST AAA 1A New Jersey NJ Doe\n",
      "value John B Doe Doe\n",
      "value John B Doe Doe\n",
      "[\"American\"]46 + 8) / 200][Stage 896:>  (0 + 0) / 8][Stage 897:>(0 + 0) / 400]]\n",
      "[\"American\"]\n",
      "                                                                                \r"
     ]
    }
   ],
   "source": [
    "agent_input_agg_df = spark_engine.spark_instance.safe_save_delta(agent_input_agg_df, \"tests/shared/test_ms_pipeline/test_cleansed_to_agent_input_output.delta\")"
   ]
  },
  {
   "cell_type": "markdown",
   "id": "e25b6107-78d7-44e8-99dc-f36b0e499c58",
   "metadata": {},
   "source": [
    "# Trash"
   ]
  },
  {
   "cell_type": "code",
   "execution_count": 82,
   "id": "601d7921-3a30-4faa-bc74-991e60adb8de",
   "metadata": {},
   "outputs": [
    {
     "data": {
      "text/plain": [
       "135"
      ]
     },
     "execution_count": 82,
     "metadata": {},
     "output_type": "execute_result"
    }
   ],
   "source": [
    "len(agent_input_agg_df.columns)"
   ]
  },
  {
   "cell_type": "code",
   "execution_count": null,
   "id": "27a0a40f-1199-4a16-8340-2185e895aba6",
   "metadata": {},
   "outputs": [],
   "source": [
    "from pattern import *\n",
    "ap_columns = [\n",
    "        ADDRESS1_COUNTRY,\n",
    "        ADDRESS1_LINE1,\n",
    "        ADDRESS1_LINE2,\n",
    "        ADDRESS1_LINE3,\n",
    "        ADDRESS1_LINE4,\n",
    "        ADDRESS1_LINE5,\n",
    "        CONCAT_ADDRESS,\n",
    "        ALL_PARTY_NAMES,\n",
    "        ACCT_REGS_NM1,\n",
    "        CONCAT_RESIDUE,\n",
    "        CONCAT_ADDRESS_NO_CHANGES,\n",
    "        ALL_CONNECTED_PARTIES_NAMES,\n",
    "    ]"
   ]
  },
  {
   "cell_type": "code",
   "execution_count": null,
   "id": "b6957b0a-2dad-4483-a72a-f85f5946cef5",
   "metadata": {},
   "outputs": [],
   "source": [
    "x = data.withColumn(AP_TRIGGERS, custom_create_triggered_tokens_discovery_udf(ap_columns)).toPandas()[AP_TRIGGERS].values[0]"
   ]
  },
  {
   "cell_type": "code",
   "execution_count": null,
   "id": "357e3168-08bc-4277-8fd4-441d34afe0ed",
   "metadata": {},
   "outputs": [],
   "source": [
    "x['John']"
   ]
  },
  {
   "cell_type": "code",
   "execution_count": null,
   "id": "922fd3bc-3d80-43dc-ab2e-75a23357f239",
   "metadata": {},
   "outputs": [],
   "source": [
    "spark_engine.set_discovery_tokens(data).toPandas()"
   ]
  },
  {
   "cell_type": "code",
   "execution_count": null,
   "id": "e0e6eabe-a6c7-4b2f-8d72-652df6d54b78",
   "metadata": {},
   "outputs": [],
   "source": [
    "data.withColumn( \n",
    "    AP_TRIGGERS, \n",
    "    custom_create_triggered_tokens_discovery_udf(ap_columns)\n",
    "    ).toPandas()[AP_TRIGGERS]"
   ]
  },
  {
   "cell_type": "code",
   "execution_count": null,
   "id": "a2643621-bc7f-4a48-9b61-73790eca44e5",
   "metadata": {},
   "outputs": [],
   "source": [
    "spark_engine.set_discovery_tokens(data)"
   ]
  },
  {
   "cell_type": "code",
   "execution_count": null,
   "id": "82877bc5-7f49-4126-8544-b67e70845cdd",
   "metadata": {},
   "outputs": [],
   "source": [
    "import custom\n",
    "importlib.reload(custom)"
   ]
  },
  {
   "cell_type": "code",
   "execution_count": null,
   "id": "d49b44d6-2d56-4cdc-aba3-a545bba9d5b3",
   "metadata": {},
   "outputs": [],
   "source": [
    "from custom.ms.config import PARTY_AND_ADDRESS_RELATIONSHIP_INPUT_PATH, WM_PARTIES_IN_SCOPE_INPUT_PATH\n"
   ]
  },
  {
   "cell_type": "code",
   "execution_count": null,
   "id": "b18c8f18-877c-49a1-a508-6dcb35481bf9",
   "metadata": {},
   "outputs": [],
   "source": [
    "custom.ms.config.PARTY_AND_ADDRESS_RELATIONSHIP_INPUT_PATH"
   ]
  },
  {
   "cell_type": "code",
   "execution_count": null,
   "id": "8b111d05-5c58-4eba-9c28-fc723e012842",
   "metadata": {},
   "outputs": [],
   "source": [
    "data.toPandas()"
   ]
  },
  {
   "cell_type": "code",
   "execution_count": null,
   "id": "049d0391",
   "metadata": {},
   "outputs": [],
   "source": [
    "PARTY_AND_ADDRESS_RELATIONSHIP_INPUT_PATH = \"ms-name-screening-poc/test-data/Sanctions/WM/Party_And_Address_Relationship.csv\"\n",
    "WM_PARTIES_IN_SCOPE_INPUT_PATH = \"ms-name-screening-poc/test-data/Sanctions/WM/WM_Parties_In_Scope.csv\""
   ]
  },
  {
   "cell_type": "code",
   "execution_count": null,
   "id": "0b83192b",
   "metadata": {},
   "outputs": [],
   "source": [
    "import pattern\n",
    "import importlib\n",
    "importlib.reload(pattern)"
   ]
  },
  {
   "cell_type": "code",
   "execution_count": null,
   "id": "19f1953b",
   "metadata": {},
   "outputs": [],
   "source": [
    "from custom.ms.config import *"
   ]
  },
  {
   "cell_type": "code",
   "execution_count": null,
   "id": "f68eb979",
   "metadata": {},
   "outputs": [],
   "source": [
    "ap_df = spark_instance.read_csv(\"tests/shared/Party_And_Address_Relationship.csv\")"
   ]
  },
  {
   "cell_type": "code",
   "execution_count": null,
   "id": "da5a8fdc",
   "metadata": {},
   "outputs": [],
   "source": [
    "l = [(51000001, 1,), (32724949, 2,), (32742282, 3,)]"
   ]
  },
  {
   "cell_type": "code",
   "execution_count": null,
   "id": "6787e50d",
   "metadata": {},
   "outputs": [],
   "source": [
    "ACCT_ = spark_instance.spark_instance.createDataFrame(l, [\"PRTY_ID\", \"ACCT_NUM\"])"
   ]
  },
  {
   "cell_type": "code",
   "execution_count": null,
   "id": "523a8f2d",
   "metadata": {},
   "outputs": [],
   "source": [
    "ap_df = ap_df.withColumnRenamed(ACCT_PMH_ADDR_ID, ADDRESS_ID).withColumnRenamed(\n",
    "    PRTY_ID, PARTY_ID\n",
    ")"
   ]
  },
  {
   "cell_type": "code",
   "execution_count": null,
   "id": "2f481e7d-7d07-4a21-9dc1-3d26cf0c04a5",
   "metadata": {},
   "outputs": [],
   "source": [
    "PARTY_AND_ADDRESS_RELATIONSHIP_INPUT_PATH"
   ]
  },
  {
   "cell_type": "code",
   "execution_count": null,
   "id": "c0392316",
   "metadata": {},
   "outputs": [],
   "source": [
    "ap_df.toPandas().to_csv(\"tests/shared/Partyrray<struct<PRTY_TYP:string,PRTY_NM:string,DOB_DT:string,PRTY_CNTRY_OF_BIRTH:string,PRTY_PRIM_CTZNSH_CNTRY:string,PRTY_RSDNC_CNTRY_CD:string>>_And_Address_Relationship.csv\", index=False)"
   ]
  },
  {
   "cell_type": "code",
   "execution_count": null,
   "id": "802bef10",
   "metadata": {},
   "outputs": [],
   "source": [
    "ap_df.registerTempTable(\"ap\")"
   ]
  },
  {
   "cell_type": "code",
   "execution_count": null,
   "id": "fd72d07e-37a9-4ca8-be82-78ddb5eade9f",
   "metadata": {},
   "outputs": [],
   "source": [
    "import custom"
   ]
  },
  {
   "cell_type": "code",
   "execution_count": null,
   "id": "d0c80790-f105-412e-b1da-67e2b97ed43e",
   "metadata": {},
   "outputs": [],
   "source": [
    "from pattern import *"
   ]
  },
  {
   "cell_type": "code",
   "execution_count": null,
   "id": "1d3fe050",
   "metadata": {},
   "outputs": [],
   "source": [
    "parties_in_scope_df = spark_instance.read_csv(custom.ms.config.WM_PARTIES_IN_SCOPE_INPUT_PATH)"
   ]
  },
  {
   "cell_type": "code",
   "execution_count": null,
   "id": "501d996e",
   "metadata": {},
   "outputs": [],
   "source": [
    "parties_in_scope_df = parties_in_scope_df.withColumnRenamed(PRTY_ID, PARTY_ID)\n"
   ]
  },
  {
   "cell_type": "code",
   "execution_count": null,
   "id": "1f86321e",
   "metadata": {},
   "outputs": [],
   "source": [
    "data = data.withColumnRenamed(PARTY_ID, ALERTED_PARTY_NAME)"
   ]
  },
  {
   "cell_type": "code",
   "execution_count": null,
   "id": "37b653df",
   "metadata": {},
   "outputs": [],
   "source": [
    "df_connected_via_account_num = data.groupBy(ALERT_ID, SRC_SYS_ACCT_KEY, ACCT_NUM).count().join(\n",
    "                ap_df,\n",
    "                (ap_df.SRC_SYS_ACCT_KEY == data.SRC_SYS_ACCT_KEY)\n",
    "                & (F.trim(ap_df.ACCT_NUM) == F.trim(data.ACCT_NUM)),\n",
    "            ).join(parties_in_scope_df, [PARTY_ID], \"leftouter\")\\\n",
    "            .select(\n",
    "                ALERT_ID,\n",
    "                PARTY_ID,\n",
    "                PRTY_NM,\n",
    "                F.concat_ws(\" \", F.col(PRTY_FST_NM), F.col(PRTY_MDL_NM), F.col(PRTY_LST_NM)).alias(\n",
    "                    CONNECTED_FULL_NAME\n",
    "                ),\n",
    "                PRTY_TYP,\n",
    "                DOB_DT,\n",
    "                PRTY_CNTRY_OF_BIRTH,\n",
    "                PRTY_PRIM_CTZNSH_CNTRY,\n",
    "                PRTY_RSDNC_CNTRY_CD,\n",
    "            )\n",
    "\n",
    "df_connected_via_account_num.toPandas()"
   ]
  },
  {
   "cell_type": "code",
   "execution_count": null,
   "id": "b8221726",
   "metadata": {},
   "outputs": [],
   "source": [
    "df_connected_via_address_id = data.groupBy(ALERT_ID, SRC_SYS_ACCT_KEY, ADDRESS_ID)\\\n",
    "               .count()\\\n",
    "               .withColumnRenamed(PARTY_ID, ALERTED_PARTY_NAME)\\\n",
    "            .join(\n",
    "                ap_df,\n",
    "                (ap_df.SRC_SYS_ACCT_KEY == data.SRC_SYS_ACCT_KEY)\n",
    "                & (F.trim(ap_df.ADDRESS_ID) == F.trim(data.ADDRESS_ID)),\n",
    "            )\\\n",
    "            .join(parties_in_scope_df, [PARTY_ID], \"leftouter\")\\\n",
    "            .select(\n",
    "                ALERT_ID,\n",
    "                PARTY_ID,\n",
    "                PRTY_NM,\n",
    "                F.concat_ws(\" \", F.col(PRTY_FST_NM), F.col(PRTY_MDL_NM), F.col(PRTY_LST_NM)).alias(\n",
    "                    CONNECTED_FULL_NAME\n",
    "                ),\n",
    "                PRTY_TYP,\n",
    "                DOB_DT,\n",
    "                PRTY_CNTRY_OF_BIRTH,\n",
    "                PRTY_PRIM_CTZNSH_CNTRY,\n",
    "                PRTY_RSDNC_CNTRY_CD,\n",
    "            )\n",
    "        \n"
   ]
  },
  {
   "cell_type": "code",
   "execution_count": null,
   "id": "146a2664",
   "metadata": {},
   "outputs": [],
   "source": [
    "df_connected = df_connected_via_account_num.unionAll(df_connected_via_address_id)"
   ]
  },
  {
   "cell_type": "code",
   "execution_count": null,
   "id": "6350e8b4",
   "metadata": {},
   "outputs": [],
   "source": [
    "connected_details_df = df_connected.groupBy(ALERT_ID).agg(\n",
    "            F.collect_list(CONNECTED_FULL_NAME).alias(ALL_CONNECTED_PARTIES_NAMES)\n",
    "        )"
   ]
  },
  {
   "cell_type": "markdown",
   "id": "b07de1e7",
   "metadata": {},
   "source": [
    "## Output"
   ]
  },
  {
   "cell_type": "code",
   "execution_count": null,
   "id": "27011971",
   "metadata": {
    "scrolled": true
   },
   "outputs": [],
   "source": [
    "enhancement_details_df.toPandas().loc[0]['ALL_PARTY_DETAILS']"
   ]
  },
  {
   "cell_type": "code",
   "execution_count": null,
   "id": "f64151bb",
   "metadata": {},
   "outputs": [],
   "source": [
    "def extract_party_fields(field_name):\n",
    "    return F.expr(f'FILTER(TRANSFORM(ALL_PARTY_DETAILS, x -> x.{field_name}), x -> x != \"\")')\n",
    "\n",
    "to_aggregate = data.join(enhancement_details_df, [ALERT_ID, SRC_SYS_ACCT_KEY, ADDRESS_ID])\n",
    "\n"
   ]
  },
  {
   "cell_type": "code",
   "execution_count": null,
   "id": "9d7a9f30",
   "metadata": {},
   "outputs": [],
   "source": [
    "to_aggregate.withColumn(ALL_PARTY_TYPES, extract_party_fields(PRTY_TYP)).toPandas()[ALL_PARTY_TYPES]"
   ]
  },
  {
   "cell_type": "code",
   "execution_count": null,
   "id": "05c6e1ec-3e05-4159-b57c-9f7574f5e744",
   "metadata": {},
   "outputs": [],
   "source": [
    "to_aggregate"
   ]
  },
  {
   "cell_type": "code",
   "execution_count": null,
   "id": "0147971c-d7da-4a98-a3e3-ac1f277e9ab3",
   "metadata": {},
   "outputs": [],
   "source": [
    "final_df360"
   ]
  },
  {
   "cell_type": "code",
   "execution_count": null,
   "id": "0883c783-fb30-4d7b-8144-c577b68ce9f8",
   "metadata": {},
   "outputs": [],
   "source": []
  },
  {
   "cell_type": "code",
   "execution_count": null,
   "id": "209b42fb",
   "metadata": {},
   "outputs": [],
   "source": [
    "final_df360 = (\n",
    "    to_aggregate.withColumn(ALL_PARTY_TYPES, extract_party_fields(PRTY_TYP))\n",
    "    .withColumn(ALL_PARTY_NAMES, extract_party_fields(PRTY_NM))\n",
    "    .withColumn(ALL_PARTY_DOBS, extract_party_fields(DOB_DT))\n",
    "    .withColumn(ALL_PARTY_BIRTH_COUNTRIES, extract_party_fields(PRTY_CNTRY_OF_BIRTH))\n",
    "    .withColumn(\n",
    "        ALL_PARTY_CITIZENSHIP_COUNTRIES, extract_party_fields(PRTY_PRIM_CTZNSH_CNTRY)\n",
    "    )\n",
    "    .withColumn(ALL_PARTY_RESIDENCY_COUNTRIES, extract_party_fields(PRTY_RSDNC_CNTRY_CD))\n",
    ")"
   ]
  },
  {
   "cell_type": "code",
   "execution_count": null,
   "id": "4687ea4d",
   "metadata": {},
   "outputs": [],
   "source": [
    "final_df360.toPandas().loc[0]"
   ]
  },
  {
   "cell_type": "code",
   "execution_count": null,
   "id": "7e22ae95",
   "metadata": {},
   "outputs": [],
   "source": [
    "final_df360 = final_df360.join(connected_details_df, [ALERT_ID], \"leftouter\")"
   ]
  },
  {
   "cell_type": "code",
   "execution_count": null,
   "id": "dc3e4831",
   "metadata": {},
   "outputs": [],
   "source": [
    "final_df360.toPandas().to_csv(\"data/final_df360.csv\")"
   ]
  },
  {
   "cell_type": "code",
   "execution_count": null,
   "id": "024f29f4",
   "metadata": {},
   "outputs": [],
   "source": []
  },
  {
   "cell_type": "markdown",
   "id": "225b6cdd",
   "metadata": {},
   "source": [
    "# load data"
   ]
  },
  {
   "cell_type": "code",
   "execution_count": null,
   "id": "81bfc8bb",
   "metadata": {},
   "outputs": [],
   "source": [
    "pattern_json.TRIGGERED_BY, AD_BNFL_NM"
   ]
  },
  {
   "cell_type": "code",
   "execution_count": null,
   "id": "b31a885d",
   "metadata": {},
   "outputs": [],
   "source": [
    "import pattern_json\n",
    "final_df360.toPandas()\n",
    "\n",
    "check_beneficiary_hit = F.when(\n",
    "            F.array_contains(F.col(pattern_json.TRIGGERED_BY), F.col(AD_BNFL_NM)), F.lit(True)\n",
    "        ).otherwise(F.lit(False))\n",
    "final_df360 = final_df360.withColumn(IS_BENEFICIARY_HIT, check_beneficiary_hit)\n",
    "\n",
    "\n"
   ]
  },
  {
   "cell_type": "code",
   "execution_count": null,
   "id": "291bbfaa",
   "metadata": {},
   "outputs": [],
   "source": [
    "final_df360.toPandas()"
   ]
  },
  {
   "cell_type": "code",
   "execution_count": null,
   "id": "9cce6829",
   "metadata": {},
   "outputs": [],
   "source": [
    "from typing import Dict\n",
    "from pyspark.sql.types import (\n",
    "    StringType,\n",
    "    MapType,\n",
    ")\n",
    "\n",
    "\n",
    "\n",
    "class ProcessingEngine():\n",
    "    def __init__(self):\n",
    "        self.spark_instance = SparkClient(SPARK_CONF)\n",
    "        \n",
    "    @staticmethod\n",
    "    def get_clean_names_from_concat_name(\n",
    "        concat_field: str, \n",
    "        source_fields: Dict[str, str]):\n",
    "        \n",
    "        distinct_names = []\n",
    "        names = {}\n",
    "        concat_field_residue = concat_field\n",
    "\n",
    "        if concat_field is None:\n",
    "            names[CONCAT_RESIDUE] = None\n",
    "        else:\n",
    "            for key, value in source_fields.items():\n",
    "                if isinstance(value, list):\n",
    "\n",
    "                    for v in value:\n",
    "                        if v and v in concat_field and v not in distinct_names:\n",
    "                            concat_field_residue = concat_field_residue.replace(v, \"\")\n",
    "                            names[key] = v\n",
    "                            distinct_names.append(v)\n",
    "\n",
    "                else:\n",
    "                    if (\n",
    "                        source_fields[key]\n",
    "                        and source_fields[key] in concat_field\n",
    "                        and value not in distinct_names\n",
    "                    ):\n",
    "                        concat_field_residue = concat_field_residue.replace(value, \"\")\n",
    "                        names[key] = value\n",
    "                        distinct_names.append(value)\n",
    "\n",
    "            names[CONCAT_RESIDUE] = concat_field_residue\n",
    "\n",
    "        return names\n",
    "    \n",
    "    @staticmethod\n",
    "    def prepare_and_get_clean_names_from_concat_name(concat_field, *columns):\n",
    "        concat_fields_map = {}\n",
    "        for key, col in enumerate(columns):\n",
    "            concat_fields_map[col] = columns[key]\n",
    "        return ProcessingEngine.get_clean_names_from_concat_name(concat_field, concat_fields_map)\n",
    "\n",
    "class SparkProcessingEngine(ProcessingEngine):\n",
    "    def set_clean_names(self, data):\n",
    "        names_source_cols = [ALL_PARTY_NAMES, ALL_CONNECTED_PARTIES_NAMES]\n",
    "        return data.withColumn(\n",
    "            CLEANED_NAMES,\n",
    "            SparkProcessingEngine.prepare_and_get_clean_names_from_concat_name(\n",
    "                \"CONCAT_ADDRES\", *[F.lit(i) for i in names_source_cols]\n",
    "            ),\n",
    "        )\n",
    "    \n",
    "    @staticmethod\n",
    "    @F.udf(MapType(StringType(), StringType()))\n",
    "    def prepare_and_get_clean_names_from_concat_name(concat_field, *columns):\n",
    "        return ProcessingEngine.prepare_and_get_clean_names_from_concat_name(concat_field, *columns)\n",
    "    "
   ]
  },
  {
   "cell_type": "code",
   "execution_count": null,
   "id": "624238e3",
   "metadata": {},
   "outputs": [],
   "source": [
    "engine = SparkProcessingEngine()"
   ]
  },
  {
   "cell_type": "code",
   "execution_count": null,
   "id": "e0406e69",
   "metadata": {},
   "outputs": [],
   "source": [
    "final_df360 = engine.set_clean_names(final_df360)"
   ]
  },
  {
   "cell_type": "code",
   "execution_count": null,
   "id": "e9e36a89",
   "metadata": {},
   "outputs": [],
   "source": [
    "final_df360.collect()[0][CLEANED_NAMES]"
   ]
  },
  {
   "cell_type": "code",
   "execution_count": null,
   "id": "4e80c1f5",
   "metadata": {},
   "outputs": [],
   "source": []
  }
 ],
 "metadata": {
  "kernelspec": {
   "display_name": "Python 3 (ipykernel)",
   "language": "python",
   "name": "python3"
  },
  "language_info": {
   "codemirror_mode": {
    "name": "ipython",
    "version": 3
   },
   "file_extension": ".py",
   "mimetype": "text/x-python",
   "name": "python",
   "nbconvert_exporter": "python",
   "pygments_lexer": "ipython3",
   "version": "3.7.11"
  }
 },
 "nbformat": 4,
 "nbformat_minor": 5
}
