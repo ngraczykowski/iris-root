{
 "cells": [
  {
   "cell_type": "markdown",
   "metadata": {},
   "source": [
    "# Intro"
   ]
  },
  {
   "cell_type": "markdown",
   "metadata": {},
   "source": [
    "This notebook presents an ETL pipeline flow that maps raw data from AIA Bank to \"agent-friendly\" input.  "
   ]
  },
  {
   "cell_type": "markdown",
   "metadata": {},
   "source": [
    "# Libraries"
   ]
  },
  {
   "cell_type": "code",
   "execution_count": 1,
   "metadata": {},
   "outputs": [],
   "source": [
    "import os\n",
    "os.chdir(\"/app\")\n",
    "import warnings\n",
    "warnings.simplefilter(\"ignore\", ResourceWarning)"
   ]
  },
  {
   "cell_type": "code",
   "execution_count": 2,
   "metadata": {
    "scrolled": true
   },
   "outputs": [
    {
     "name": "stderr",
     "output_type": "stream",
     "text": [
      "WARNING: An illegal reflective access operation has occurred\n",
      "WARNING: Illegal reflective access by org.apache.spark.unsafe.Platform (file:/env/ds/anaconda/envs/pipeline/lib/python3.8/site-packages/pyspark/jars/spark-unsafe_2.12-3.1.1.jar) to constructor java.nio.DirectByteBuffer(long,int)\n",
      "WARNING: Please consider reporting this to the maintainers of org.apache.spark.unsafe.Platform\n",
      "WARNING: Use --illegal-access=warn to enable warnings of further illegal reflective access operations\n",
      "WARNING: All illegal access operations will be denied in a future release\n",
      "Ivy Default Cache set to: /app/dependencies/ivy2/cache\n",
      "The jars for the packages stored in: /app/dependencies/ivy2/jars\n",
      "io.delta#delta-core_2.12 added as a dependency\n",
      ":: resolving dependencies :: org.apache.spark#spark-submit-parent-a5f8e83f-ce6d-4674-8b56-87864991b0d2;1.0\n",
      "\tconfs: [default]\n"
     ]
    },
    {
     "name": "stdout",
     "output_type": "stream",
     "text": [
      ":: loading settings :: url = jar:file:/env/ds/anaconda/envs/pipeline/lib/python3.8/site-packages/pyspark/jars/ivy-2.4.0.jar!/org/apache/ivy/core/settings/ivysettings.xml\n"
     ]
    },
    {
     "name": "stderr",
     "output_type": "stream",
     "text": [
      "\tfound io.delta#delta-core_2.12;1.0.0 in spark-list\n",
      "\tfound org.antlr#antlr4;4.7 in spark-list\n",
      "\tfound org.antlr#antlr4-runtime;4.7 in central\n",
      "\tfound org.antlr#antlr-runtime;3.5.2 in central\n",
      "\tfound org.antlr#ST4;4.0.8 in spark-list\n",
      "\tfound org.abego.treelayout#org.abego.treelayout.core;1.0.3 in spark-list\n",
      "\tfound org.glassfish#javax.json;1.0.4 in spark-list\n",
      "\tfound com.ibm.icu#icu4j;58.2 in central\n",
      ":: resolution report :: resolve 161ms :: artifacts dl 4ms\n",
      "\t:: modules in use:\n",
      "\tcom.ibm.icu#icu4j;58.2 from central in [default]\n",
      "\tio.delta#delta-core_2.12;1.0.0 from spark-list in [default]\n",
      "\torg.abego.treelayout#org.abego.treelayout.core;1.0.3 from spark-list in [default]\n",
      "\torg.antlr#ST4;4.0.8 from spark-list in [default]\n",
      "\torg.antlr#antlr-runtime;3.5.2 from central in [default]\n",
      "\torg.antlr#antlr4;4.7 from spark-list in [default]\n",
      "\torg.antlr#antlr4-runtime;4.7 from central in [default]\n",
      "\torg.glassfish#javax.json;1.0.4 from spark-list in [default]\n",
      "\t---------------------------------------------------------------------\n",
      "\t|                  |            modules            ||   artifacts   |\n",
      "\t|       conf       | number| search|dwnlded|evicted|| number|dwnlded|\n",
      "\t---------------------------------------------------------------------\n",
      "\t|      default     |   8   |   0   |   0   |   0   ||   8   |   0   |\n",
      "\t---------------------------------------------------------------------\n",
      ":: retrieving :: org.apache.spark#spark-submit-parent-a5f8e83f-ce6d-4674-8b56-87864991b0d2\n",
      "\tconfs: [default]\n",
      "\t0 artifacts copied, 8 already retrieved (0kB/5ms)\n",
      "22/01/07 16:36:24 WARN NativeCodeLoader: Unable to load native-hadoop library for your platform... using builtin-java classes where applicable\n",
      "Using Spark's default log4j profile: org/apache/spark/log4j-defaults.properties\n",
      "Setting default log level to \"WARN\".\n",
      "To adjust logging level use sc.setLogLevel(newLevel). For SparkR, use setLogLevel(newLevel).\n",
      "22/01/07 16:36:24 WARN SparkConf: Note that spark.local.dir will be overridden by the value set by the cluster manager (via SPARK_LOCAL_DIRS in mesos/standalone/kubernetes and LOCAL_DIRS in YARN).\n",
      "22/01/07 16:36:25 WARN Utils: Service 'SparkUI' could not bind on port 4040. Attempting port 4041.\n"
     ]
    }
   ],
   "source": [
    "import company_name\n",
    "import pipeline.knowledge_service\n",
    "import xml.etree.ElementTree as ET\n",
    "from company_name import CompanyNameAgent\n",
    "import organization_name_knowledge as org_know\n",
    "from pipeline.preprocessors import (convert_raw_to_standardized, \n",
    "                                    spark_instance, \n",
    "\n",
    "                                    transform_cleansed_to_application,\n",
    "                                    show_files_in_directory,\n",
    "                                    get_pandas_dataframe,\n",
    "                                    transform_standardized_to_cleansed,)\n",
    "import sys\n",
    "sys.path.append(\"spark_manager\")\n",
    "from spark_manager.config.config import (\n",
    "    RAW_DATA_DIR, \n",
    "                                    STANDARDIZED_DATA_DIR, \n",
    "                                    CLEANSED_DATA_DIR,\n",
    "                                    APPLICATION_DATA_DIR,)\n"
   ]
  },
  {
   "cell_type": "markdown",
   "metadata": {},
   "source": [
    "# 1. Convert raw csv data to standardized format "
   ]
  },
  {
   "cell_type": "markdown",
   "metadata": {},
   "source": [
    "## Input (raw data)"
   ]
  },
  {
   "cell_type": "code",
   "execution_count": 3,
   "metadata": {},
   "outputs": [
    {
     "name": "stdout",
     "output_type": "stream",
     "text": [
      "./data/1.raw/ACM_ALERT_NOTES.csv\n",
      "./data/1.raw/ACM_MD_ALERT_STATUSES.csv\n",
      "./data/1.raw/ACM_ITEM_STATUS_HISTORY.csv\n",
      "./data/1.raw/ALERTS.csv\n"
     ]
    }
   ],
   "source": [
    "show_files_in_directory(RAW_DATA_DIR)"
   ]
  },
  {
   "cell_type": "markdown",
   "metadata": {},
   "source": [
    "## Process"
   ]
  },
  {
   "cell_type": "code",
   "execution_count": 4,
   "metadata": {
    "scrolled": false
   },
   "outputs": [],
   "source": [
    "convert_raw_to_standardized(RAW_DATA_DIR, STANDARDIZED_DATA_DIR)"
   ]
  },
  {
   "cell_type": "markdown",
   "metadata": {},
   "source": [
    "## Output (standardized format)"
   ]
  },
  {
   "cell_type": "code",
   "execution_count": 5,
   "metadata": {
    "scrolled": false
   },
   "outputs": [
    {
     "name": "stdout",
     "output_type": "stream",
     "text": [
      "./data/2.standardized/ACM_ALERT_NOTES.delta\n",
      "./data/2.standardized/ACM_ITEM_STATUS_HISTORY.delta\n",
      "./data/2.standardized/ALERTS.delta\n",
      "./data/2.standardized/ACM_MD_ALERT_STATUSES.delta\n"
     ]
    }
   ],
   "source": [
    "show_files_in_directory(STANDARDIZED_DATA_DIR)"
   ]
  },
  {
   "cell_type": "code",
   "execution_count": 10,
   "metadata": {},
   "outputs": [],
   "source": [
    "standardized_data = get_pandas_dataframe(\"./data/2.standardized/ALERTS.delta\")"
   ]
  },
  {
   "cell_type": "code",
   "execution_count": 11,
   "metadata": {},
   "outputs": [
    {
     "data": {
      "text/html": [
       "<div>\n",
       "<style scoped>\n",
       "    .dataframe tbody tr th:only-of-type {\n",
       "        vertical-align: middle;\n",
       "    }\n",
       "\n",
       "    .dataframe tbody tr th {\n",
       "        vertical-align: top;\n",
       "    }\n",
       "\n",
       "    .dataframe thead th {\n",
       "        text-align: right;\n",
       "    }\n",
       "</style>\n",
       "<table border=\"1\" class=\"dataframe\">\n",
       "  <thead>\n",
       "    <tr style=\"text-align: right;\">\n",
       "      <th></th>\n",
       "      <th>ALERT_INTERNAL_ID</th>\n",
       "      <th>ENTITY_TYPE_ID</th>\n",
       "      <th>ALERT_DATE</th>\n",
       "      <th>ALERT_TYPE_ID</th>\n",
       "      <th>STATUS_ID</th>\n",
       "      <th>STATUS_INTERNAL_ID</th>\n",
       "      <th>DELETED</th>\n",
       "      <th>HTML_FILE_KEY</th>\n",
       "      <th>P11</th>\n",
       "      <th>P12</th>\n",
       "      <th>...</th>\n",
       "      <th>CONSOLIDATION_KEY</th>\n",
       "      <th>HIBERNATE_OBJECT_VERSION</th>\n",
       "      <th>OWNER_IDENTIFIER</th>\n",
       "      <th>FL_DOUBT</th>\n",
       "      <th>NUM_EXISTING_ENTITIES</th>\n",
       "      <th>WORKSPACE_INTERNAL_ID</th>\n",
       "      <th>ALERT_NAME</th>\n",
       "      <th>PRIORITY_INTERNAL_ID</th>\n",
       "      <th>DETAILS_FOR_SEARCH</th>\n",
       "      <th>DETAILS\\r</th>\n",
       "    </tr>\n",
       "  </thead>\n",
       "  <tbody>\n",
       "    <tr>\n",
       "      <th>0</th>\n",
       "      <td>1649364</td>\n",
       "      <td>None</td>\n",
       "      <td>24-Feb-20</td>\n",
       "      <td>None</td>\n",
       "      <td>None</td>\n",
       "      <td>7027</td>\n",
       "      <td>0</td>\n",
       "      <td>&lt;?xml version=\"1.0\" encoding=\"UTF16\" standalon...</td>\n",
       "      <td>01-13636</td>\n",
       "      <td>SSBSAPB0025000389</td>\n",
       "      <td>...</td>\n",
       "      <td>None</td>\n",
       "      <td>13</td>\n",
       "      <td>None</td>\n",
       "      <td>0</td>\n",
       "      <td>NaN</td>\n",
       "      <td>None</td>\n",
       "      <td>None</td>\n",
       "      <td>None</td>\n",
       "      <td>None</td>\n",
       "      <td>\\r</td>\n",
       "    </tr>\n",
       "    <tr>\n",
       "      <th>1</th>\n",
       "      <td>1619405</td>\n",
       "      <td>None</td>\n",
       "      <td>8-Oct-18</td>\n",
       "      <td>None</td>\n",
       "      <td>None</td>\n",
       "      <td>7027</td>\n",
       "      <td>0</td>\n",
       "      <td>&lt;?xml version=\"1.0\" encoding=\"UTF16\" standalon...</td>\n",
       "      <td>Jan-97</td>\n",
       "      <td>42823012-P560016505</td>\n",
       "      <td>...</td>\n",
       "      <td>None</td>\n",
       "      <td>9</td>\n",
       "      <td>None</td>\n",
       "      <td>0</td>\n",
       "      <td>0.0</td>\n",
       "      <td>None</td>\n",
       "      <td>None</td>\n",
       "      <td>None</td>\n",
       "      <td>None</td>\n",
       "      <td>\\r</td>\n",
       "    </tr>\n",
       "    <tr>\n",
       "      <th>2</th>\n",
       "      <td>1619436</td>\n",
       "      <td>None</td>\n",
       "      <td>10-Oct-18</td>\n",
       "      <td>None</td>\n",
       "      <td>None</td>\n",
       "      <td>7027</td>\n",
       "      <td>0</td>\n",
       "      <td>&lt;?xml version=\"1.0\" encoding=\"UTF16\" standalon...</td>\n",
       "      <td>Jan-54</td>\n",
       "      <td>SSBPLASC550212199</td>\n",
       "      <td>...</td>\n",
       "      <td>None</td>\n",
       "      <td>9</td>\n",
       "      <td>None</td>\n",
       "      <td>0</td>\n",
       "      <td>0.0</td>\n",
       "      <td>None</td>\n",
       "      <td>None</td>\n",
       "      <td>None</td>\n",
       "      <td>None</td>\n",
       "      <td>None</td>\n",
       "    </tr>\n",
       "  </tbody>\n",
       "</table>\n",
       "<p>3 rows × 98 columns</p>\n",
       "</div>"
      ],
      "text/plain": [
       "   ALERT_INTERNAL_ID ENTITY_TYPE_ID ALERT_DATE ALERT_TYPE_ID STATUS_ID  \\\n",
       "0            1649364           None  24-Feb-20          None      None   \n",
       "1            1619405           None   8-Oct-18          None      None   \n",
       "2            1619436           None  10-Oct-18          None      None   \n",
       "\n",
       "   STATUS_INTERNAL_ID  DELETED  \\\n",
       "0                7027        0   \n",
       "1                7027        0   \n",
       "2                7027        0   \n",
       "\n",
       "                                       HTML_FILE_KEY       P11  \\\n",
       "0  <?xml version=\"1.0\" encoding=\"UTF16\" standalon...  01-13636   \n",
       "1  <?xml version=\"1.0\" encoding=\"UTF16\" standalon...    Jan-97   \n",
       "2  <?xml version=\"1.0\" encoding=\"UTF16\" standalon...    Jan-54   \n",
       "\n",
       "                   P12  ...  CONSOLIDATION_KEY HIBERNATE_OBJECT_VERSION  \\\n",
       "0    SSBSAPB0025000389  ...               None                       13   \n",
       "1  42823012-P560016505  ...               None                        9   \n",
       "2    SSBPLASC550212199  ...               None                        9   \n",
       "\n",
       "  OWNER_IDENTIFIER FL_DOUBT NUM_EXISTING_ENTITIES WORKSPACE_INTERNAL_ID  \\\n",
       "0             None        0                   NaN                  None   \n",
       "1             None        0                   0.0                  None   \n",
       "2             None        0                   0.0                  None   \n",
       "\n",
       "  ALERT_NAME PRIORITY_INTERNAL_ID DETAILS_FOR_SEARCH DETAILS\\r  \n",
       "0       None                 None               None        \\r  \n",
       "1       None                 None               None        \\r  \n",
       "2       None                 None               None      None  \n",
       "\n",
       "[3 rows x 98 columns]"
      ]
     },
     "execution_count": 11,
     "metadata": {},
     "output_type": "execute_result"
    }
   ],
   "source": [
    "get_pandas_dataframe(\"./data/2.standardized/ALERTS.delta/\")"
   ]
  },
  {
   "cell_type": "markdown",
   "metadata": {},
   "source": [
    "# 2. Create cleansed data"
   ]
  },
  {
   "cell_type": "markdown",
   "metadata": {},
   "source": [
    "## Input "
   ]
  },
  {
   "cell_type": "markdown",
   "metadata": {},
   "source": [
    "See: output from previous stage"
   ]
  },
  {
   "cell_type": "markdown",
   "metadata": {},
   "source": [
    "# Process"
   ]
  },
  {
   "cell_type": "code",
   "execution_count": 5,
   "metadata": {
    "scrolled": false
   },
   "outputs": [
    {
     "name": "stderr",
     "output_type": "stream",
     "text": [
      "/env/ds/anaconda/envs/pipeline/lib/python3.8/site-packages/pyspark/sql/pandas/conversion.py:186: PerformanceWarning: DataFrame is highly fragmented.  This is usually the result of calling `frame.insert` many times, which has poor performance.  Consider joining all columns at once using pd.concat(axis=1) instead.  To get a de-fragmented frame, use `newframe = frame.copy()`\n",
      "  df[column_name] = series\n"
     ]
    },
    {
     "name": "stdout",
     "output_type": "stream",
     "text": [
      "> \u001b[0;32m/app/pipeline/preprocessors.py\u001b[0m(211)\u001b[0;36mtransform_standardized_to_cleansed\u001b[0;34m()\u001b[0m\n",
      "\u001b[0;32m    209 \u001b[0;31m    )\n",
      "\u001b[0m\u001b[0;32m    210 \u001b[0;31m    \u001b[0;32mimport\u001b[0m \u001b[0mpdb\u001b[0m\u001b[0;34m;\u001b[0m \u001b[0mpdb\u001b[0m\u001b[0;34m.\u001b[0m\u001b[0mset_trace\u001b[0m\u001b[0;34m(\u001b[0m\u001b[0;34m)\u001b[0m\u001b[0;34m\u001b[0m\u001b[0;34m\u001b[0m\u001b[0m\n",
      "\u001b[0m\u001b[0;32m--> 211 \u001b[0;31m    reordered_columns = spark_instance.reorder_columns(\n",
      "\u001b[0m\u001b[0;32m    212 \u001b[0;31m        \u001b[0mitem_status_history_df\u001b[0m\u001b[0;34m,\u001b[0m \u001b[0;34m\"FROM_STATUS_IDENTIFIER\"\u001b[0m\u001b[0;34m,\u001b[0m \u001b[0;34m[\u001b[0m\u001b[0;34m\"FROM_STATUS_NAME\"\u001b[0m\u001b[0;34m]\u001b[0m\u001b[0;34m\u001b[0m\u001b[0;34m\u001b[0m\u001b[0m\n",
      "\u001b[0m\u001b[0;32m    213 \u001b[0;31m    )\n",
      "\u001b[0m\n",
      "ipdb> c\n"
     ]
    },
    {
     "name": "stderr",
     "output_type": "stream",
     "text": [
      "ANTLR Tool version 4.7 used for code generation does not match the current runtime version 4.8ANTLR Tool version 4.7 used for code generation does not match the current runtime version 4.8"
     ]
    }
   ],
   "source": [
    "# %%capture --no-display --no-stderr --no-stdout\n",
    "transform_standardized_to_cleansed()"
   ]
  },
  {
   "cell_type": "markdown",
   "metadata": {},
   "source": [
    "## Output (cleansed data)"
   ]
  },
  {
   "cell_type": "markdown",
   "metadata": {},
   "source": [
    "Note: \"ACM_MD_ALERT_STATUSES\" table was merged to the content of other tables"
   ]
  },
  {
   "cell_type": "code",
   "execution_count": 6,
   "metadata": {
    "scrolled": false
   },
   "outputs": [
    {
     "name": "stdout",
     "output_type": "stream",
     "text": [
      "./data/3.cleansed/ACM_ALERT_NOTES.delta\n",
      "./data/3.cleansed/ACM_ITEM_STATUS_HISTORY.delta\n",
      "./data/3.cleansed/ALERTS.delta\n"
     ]
    }
   ],
   "source": [
    "show_files_in_directory(CLEANSED_DATA_DIR)"
   ]
  },
  {
   "cell_type": "code",
   "execution_count": 4,
   "metadata": {},
   "outputs": [
    {
     "name": "stderr",
     "output_type": "stream",
     "text": [
      "/env/ds/anaconda/envs/pipeline/lib/python3.8/site-packages/pyspark/sql/pandas/conversion.py:186: PerformanceWarning: DataFrame is highly fragmented.  This is usually the result of calling `frame.insert` many times, which has poor performance.  Consider joining all columns at once using pd.concat(axis=1) instead.  To get a de-fragmented frame, use `newframe = frame.copy()`\n",
      "  df[column_name] = series\n"
     ]
    }
   ],
   "source": [
    "cleansed_data = get_pandas_dataframe(\"./data/3.cleansed/ALERTS.delta\")"
   ]
  },
  {
   "cell_type": "code",
   "execution_count": 7,
   "metadata": {},
   "outputs": [
    {
     "data": {
      "text/html": [
       "<div>\n",
       "<style scoped>\n",
       "    .dataframe tbody tr th:only-of-type {\n",
       "        vertical-align: middle;\n",
       "    }\n",
       "\n",
       "    .dataframe tbody tr th {\n",
       "        vertical-align: top;\n",
       "    }\n",
       "\n",
       "    .dataframe thead th {\n",
       "        text-align: right;\n",
       "    }\n",
       "</style>\n",
       "<table border=\"1\" class=\"dataframe\">\n",
       "  <thead>\n",
       "    <tr style=\"text-align: right;\">\n",
       "      <th></th>\n",
       "      <th>STATUS_INTERNAL_ID</th>\n",
       "      <th>STATUS_NAME</th>\n",
       "      <th>ALERT_INTERNAL_ID</th>\n",
       "      <th>ENTITY_TYPE_ID</th>\n",
       "      <th>ALERT_DATE</th>\n",
       "      <th>ALERT_TYPE_ID</th>\n",
       "      <th>STATUS_ID</th>\n",
       "      <th>DELETED</th>\n",
       "      <th>HTML_FILE_KEY</th>\n",
       "      <th>P11</th>\n",
       "      <th>...</th>\n",
       "      <th>hit_inputExplanations_address_city_inputExplanation</th>\n",
       "      <th>hit_inputExplanations_address_country_inputExplanation</th>\n",
       "      <th>hit_inputExplanations_addresses_stateProvince_inputExplanation</th>\n",
       "      <th>hit_inputExplanations_ids_idNumber_inputExplanation</th>\n",
       "      <th>ap_hit_names</th>\n",
       "      <th>wl_hit_matched_name</th>\n",
       "      <th>wl_hit_aliases_matched_name</th>\n",
       "      <th>wl_hit_names</th>\n",
       "      <th>hit_cs_1_data_points</th>\n",
       "      <th>ap_nric</th>\n",
       "    </tr>\n",
       "  </thead>\n",
       "  <tbody>\n",
       "    <tr>\n",
       "      <th>0</th>\n",
       "      <td>7027</td>\n",
       "      <td>False Positive</td>\n",
       "      <td>1649364</td>\n",
       "      <td>None</td>\n",
       "      <td>24-Feb-20</td>\n",
       "      <td>None</td>\n",
       "      <td>None</td>\n",
       "      <td>0</td>\n",
       "      <td>&lt;?xml version=\"1.0\" encoding=\"UTF16\" standalon...</td>\n",
       "      <td>01-13636</td>\n",
       "      <td>...</td>\n",
       "      <td>[]</td>\n",
       "      <td>[]</td>\n",
       "      <td>[]</td>\n",
       "      <td>[]</td>\n",
       "      <td>[CPF BOARD]</td>\n",
       "      <td>None</td>\n",
       "      <td>[CPF]</td>\n",
       "      <td>[CPF]</td>\n",
       "      <td>{'possible_nric': None, 'nric': None, 'dob': N...</td>\n",
       "      <td>[]</td>\n",
       "    </tr>\n",
       "    <tr>\n",
       "      <th>1</th>\n",
       "      <td>7027</td>\n",
       "      <td>False Positive</td>\n",
       "      <td>1619405</td>\n",
       "      <td>None</td>\n",
       "      <td>8-Oct-18</td>\n",
       "      <td>None</td>\n",
       "      <td>None</td>\n",
       "      <td>0</td>\n",
       "      <td>&lt;?xml version=\"1.0\" encoding=\"UTF16\" standalon...</td>\n",
       "      <td>Jan-97</td>\n",
       "      <td>...</td>\n",
       "      <td>[]</td>\n",
       "      <td>[]</td>\n",
       "      <td>[]</td>\n",
       "      <td>[]</td>\n",
       "      <td>[P ONE]</td>\n",
       "      <td>None</td>\n",
       "      <td>[One P]</td>\n",
       "      <td>[One P]</td>\n",
       "      <td>{'possible_nric': None, 'nric': None, 'dob': N...</td>\n",
       "      <td>[S0135242C]</td>\n",
       "    </tr>\n",
       "    <tr>\n",
       "      <th>2</th>\n",
       "      <td>7027</td>\n",
       "      <td>False Positive</td>\n",
       "      <td>1619436</td>\n",
       "      <td>None</td>\n",
       "      <td>10-Oct-18</td>\n",
       "      <td>None</td>\n",
       "      <td>None</td>\n",
       "      <td>0</td>\n",
       "      <td>&lt;?xml version=\"1.0\" encoding=\"UTF16\" standalon...</td>\n",
       "      <td>Jan-54</td>\n",
       "      <td>...</td>\n",
       "      <td>[]</td>\n",
       "      <td>[]</td>\n",
       "      <td>[]</td>\n",
       "      <td>[]</td>\n",
       "      <td>[KIM]</td>\n",
       "      <td>None</td>\n",
       "      <td>[Kim,]</td>\n",
       "      <td>[Kim,]</td>\n",
       "      <td>{'possible_nric': None, 'nric': None, 'dob': N...</td>\n",
       "      <td>[]</td>\n",
       "    </tr>\n",
       "  </tbody>\n",
       "</table>\n",
       "<p>3 rows × 220 columns</p>\n",
       "</div>"
      ],
      "text/plain": [
       "   STATUS_INTERNAL_ID     STATUS_NAME  ALERT_INTERNAL_ID ENTITY_TYPE_ID  \\\n",
       "0                7027  False Positive            1649364           None   \n",
       "1                7027  False Positive            1619405           None   \n",
       "2                7027  False Positive            1619436           None   \n",
       "\n",
       "  ALERT_DATE ALERT_TYPE_ID STATUS_ID  DELETED  \\\n",
       "0  24-Feb-20          None      None        0   \n",
       "1   8-Oct-18          None      None        0   \n",
       "2  10-Oct-18          None      None        0   \n",
       "\n",
       "                                       HTML_FILE_KEY       P11  ...  \\\n",
       "0  <?xml version=\"1.0\" encoding=\"UTF16\" standalon...  01-13636  ...   \n",
       "1  <?xml version=\"1.0\" encoding=\"UTF16\" standalon...    Jan-97  ...   \n",
       "2  <?xml version=\"1.0\" encoding=\"UTF16\" standalon...    Jan-54  ...   \n",
       "\n",
       "  hit_inputExplanations_address_city_inputExplanation  \\\n",
       "0                                                 []    \n",
       "1                                                 []    \n",
       "2                                                 []    \n",
       "\n",
       "   hit_inputExplanations_address_country_inputExplanation  \\\n",
       "0                                                 []        \n",
       "1                                                 []        \n",
       "2                                                 []        \n",
       "\n",
       "  hit_inputExplanations_addresses_stateProvince_inputExplanation  \\\n",
       "0                                                 []               \n",
       "1                                                 []               \n",
       "2                                                 []               \n",
       "\n",
       "  hit_inputExplanations_ids_idNumber_inputExplanation ap_hit_names  \\\n",
       "0                                                 []   [CPF BOARD]   \n",
       "1                                                 []       [P ONE]   \n",
       "2                                                 []         [KIM]   \n",
       "\n",
       "  wl_hit_matched_name wl_hit_aliases_matched_name wl_hit_names  \\\n",
       "0                None                       [CPF]        [CPF]   \n",
       "1                None                     [One P]      [One P]   \n",
       "2                None                      [Kim,]       [Kim,]   \n",
       "\n",
       "                                hit_cs_1_data_points      ap_nric  \n",
       "0  {'possible_nric': None, 'nric': None, 'dob': N...           []  \n",
       "1  {'possible_nric': None, 'nric': None, 'dob': N...  [S0135242C]  \n",
       "2  {'possible_nric': None, 'nric': None, 'dob': N...           []  \n",
       "\n",
       "[3 rows x 220 columns]"
      ]
     },
     "execution_count": 7,
     "metadata": {},
     "output_type": "execute_result"
    }
   ],
   "source": [
    "cleansed_data"
   ]
  },
  {
   "cell_type": "code",
   "execution_count": 8,
   "metadata": {},
   "outputs": [
    {
     "ename": "NameError",
     "evalue": "name 'standardized_data' is not defined",
     "output_type": "error",
     "traceback": [
      "\u001b[0;31m---------------------------------------------------------------------------\u001b[0m",
      "\u001b[0;31mNameError\u001b[0m                                 Traceback (most recent call last)",
      "\u001b[0;32m/tmp/ipykernel_397359/3209407397.py\u001b[0m in \u001b[0;36m<module>\u001b[0;34m\u001b[0m\n\u001b[0;32m----> 1\u001b[0;31m \u001b[0mnew_columns\u001b[0m \u001b[0;34m=\u001b[0m \u001b[0mset\u001b[0m\u001b[0;34m(\u001b[0m\u001b[0mcleansed_data\u001b[0m\u001b[0;34m.\u001b[0m\u001b[0mcolumns\u001b[0m\u001b[0;34m)\u001b[0m\u001b[0;34m.\u001b[0m\u001b[0mdifference\u001b[0m\u001b[0;34m(\u001b[0m\u001b[0mset\u001b[0m\u001b[0;34m(\u001b[0m\u001b[0mstandardized_data\u001b[0m\u001b[0;34m.\u001b[0m\u001b[0mcolumns\u001b[0m\u001b[0;34m)\u001b[0m\u001b[0;34m)\u001b[0m\u001b[0;34m\u001b[0m\u001b[0;34m\u001b[0m\u001b[0m\n\u001b[0m",
      "\u001b[0;31mNameError\u001b[0m: name 'standardized_data' is not defined"
     ]
    }
   ],
   "source": [
    "new_columns = set(cleansed_data.columns).difference(set(standardized_data.columns))"
   ]
  },
  {
   "cell_type": "code",
   "execution_count": 9,
   "metadata": {},
   "outputs": [
    {
     "ename": "NameError",
     "evalue": "name 'standardized_data' is not defined",
     "output_type": "error",
     "traceback": [
      "\u001b[0;31m---------------------------------------------------------------------------\u001b[0m",
      "\u001b[0;31mNameError\u001b[0m                                 Traceback (most recent call last)",
      "\u001b[0;32m/tmp/ipykernel_397359/1657811319.py\u001b[0m in \u001b[0;36m<module>\u001b[0;34m\u001b[0m\n\u001b[0;32m----> 1\u001b[0;31m \u001b[0mlen\u001b[0m\u001b[0;34m(\u001b[0m\u001b[0mstandardized_data\u001b[0m\u001b[0;34m.\u001b[0m\u001b[0mcolumns\u001b[0m\u001b[0;34m)\u001b[0m\u001b[0;34m,\u001b[0m \u001b[0mlen\u001b[0m\u001b[0;34m(\u001b[0m\u001b[0mcleansed_data\u001b[0m\u001b[0;34m.\u001b[0m\u001b[0mcolumns\u001b[0m\u001b[0;34m)\u001b[0m\u001b[0;34m\u001b[0m\u001b[0;34m\u001b[0m\u001b[0m\n\u001b[0m",
      "\u001b[0;31mNameError\u001b[0m: name 'standardized_data' is not defined"
     ]
    }
   ],
   "source": [
    "len(standardized_data.columns), len(cleansed_data.columns)"
   ]
  },
  {
   "cell_type": "code",
   "execution_count": 17,
   "metadata": {},
   "outputs": [
    {
     "data": {
      "text/plain": [
       "122"
      ]
     },
     "execution_count": 17,
     "metadata": {},
     "output_type": "execute_result"
    }
   ],
   "source": [
    "len(new_columns)"
   ]
  },
  {
   "cell_type": "code",
   "execution_count": 6,
   "metadata": {},
   "outputs": [
    {
     "ename": "KeyError",
     "evalue": "\"['ap_all_party_types_aggregated'] not in index\"",
     "output_type": "error",
     "traceback": [
      "\u001b[0;31m---------------------------------------------------------------------------\u001b[0m",
      "\u001b[0;31mKeyError\u001b[0m                                  Traceback (most recent call last)",
      "\u001b[0;32m/tmp/ipykernel_969948/309677449.py\u001b[0m in \u001b[0;36m<module>\u001b[0;34m\u001b[0m\n\u001b[0;32m----> 1\u001b[0;31m \u001b[0mcleansed_data\u001b[0m\u001b[0;34m[\u001b[0m\u001b[0;34m[\u001b[0m\u001b[0;34m'hit_addresses_country'\u001b[0m\u001b[0;34m,\u001b[0m \u001b[0;34m'hit_datesOfBirth_birthDate'\u001b[0m\u001b[0;34m,\u001b[0m  \u001b[0;34m'wl_hit_names'\u001b[0m\u001b[0;34m,\u001b[0m \u001b[0;34m'ap_all_party_types_aggregated'\u001b[0m\u001b[0;34m]\u001b[0m\u001b[0;34m]\u001b[0m\u001b[0;34m\u001b[0m\u001b[0;34m\u001b[0m\u001b[0m\n\u001b[0m",
      "\u001b[0;32m/env/ds/anaconda/envs/pipeline/lib/python3.8/site-packages/pandas/core/frame.py\u001b[0m in \u001b[0;36m__getitem__\u001b[0;34m(self, key)\u001b[0m\n\u001b[1;32m   3462\u001b[0m             \u001b[0;32mif\u001b[0m \u001b[0mis_iterator\u001b[0m\u001b[0;34m(\u001b[0m\u001b[0mkey\u001b[0m\u001b[0;34m)\u001b[0m\u001b[0;34m:\u001b[0m\u001b[0;34m\u001b[0m\u001b[0;34m\u001b[0m\u001b[0m\n\u001b[1;32m   3463\u001b[0m                 \u001b[0mkey\u001b[0m \u001b[0;34m=\u001b[0m \u001b[0mlist\u001b[0m\u001b[0;34m(\u001b[0m\u001b[0mkey\u001b[0m\u001b[0;34m)\u001b[0m\u001b[0;34m\u001b[0m\u001b[0;34m\u001b[0m\u001b[0m\n\u001b[0;32m-> 3464\u001b[0;31m             \u001b[0mindexer\u001b[0m \u001b[0;34m=\u001b[0m \u001b[0mself\u001b[0m\u001b[0;34m.\u001b[0m\u001b[0mloc\u001b[0m\u001b[0;34m.\u001b[0m\u001b[0m_get_listlike_indexer\u001b[0m\u001b[0;34m(\u001b[0m\u001b[0mkey\u001b[0m\u001b[0;34m,\u001b[0m \u001b[0maxis\u001b[0m\u001b[0;34m=\u001b[0m\u001b[0;36m1\u001b[0m\u001b[0;34m)\u001b[0m\u001b[0;34m[\u001b[0m\u001b[0;36m1\u001b[0m\u001b[0;34m]\u001b[0m\u001b[0;34m\u001b[0m\u001b[0;34m\u001b[0m\u001b[0m\n\u001b[0m\u001b[1;32m   3465\u001b[0m \u001b[0;34m\u001b[0m\u001b[0m\n\u001b[1;32m   3466\u001b[0m         \u001b[0;31m# take() does not accept boolean indexers\u001b[0m\u001b[0;34m\u001b[0m\u001b[0;34m\u001b[0m\u001b[0;34m\u001b[0m\u001b[0m\n",
      "\u001b[0;32m/env/ds/anaconda/envs/pipeline/lib/python3.8/site-packages/pandas/core/indexing.py\u001b[0m in \u001b[0;36m_get_listlike_indexer\u001b[0;34m(self, key, axis)\u001b[0m\n\u001b[1;32m   1312\u001b[0m             \u001b[0mkeyarr\u001b[0m\u001b[0;34m,\u001b[0m \u001b[0mindexer\u001b[0m\u001b[0;34m,\u001b[0m \u001b[0mnew_indexer\u001b[0m \u001b[0;34m=\u001b[0m \u001b[0max\u001b[0m\u001b[0;34m.\u001b[0m\u001b[0m_reindex_non_unique\u001b[0m\u001b[0;34m(\u001b[0m\u001b[0mkeyarr\u001b[0m\u001b[0;34m)\u001b[0m\u001b[0;34m\u001b[0m\u001b[0;34m\u001b[0m\u001b[0m\n\u001b[1;32m   1313\u001b[0m \u001b[0;34m\u001b[0m\u001b[0m\n\u001b[0;32m-> 1314\u001b[0;31m         \u001b[0mself\u001b[0m\u001b[0;34m.\u001b[0m\u001b[0m_validate_read_indexer\u001b[0m\u001b[0;34m(\u001b[0m\u001b[0mkeyarr\u001b[0m\u001b[0;34m,\u001b[0m \u001b[0mindexer\u001b[0m\u001b[0;34m,\u001b[0m \u001b[0maxis\u001b[0m\u001b[0;34m)\u001b[0m\u001b[0;34m\u001b[0m\u001b[0;34m\u001b[0m\u001b[0m\n\u001b[0m\u001b[1;32m   1315\u001b[0m \u001b[0;34m\u001b[0m\u001b[0m\n\u001b[1;32m   1316\u001b[0m         if needs_i8_conversion(ax.dtype) or isinstance(\n",
      "\u001b[0;32m/env/ds/anaconda/envs/pipeline/lib/python3.8/site-packages/pandas/core/indexing.py\u001b[0m in \u001b[0;36m_validate_read_indexer\u001b[0;34m(self, key, indexer, axis)\u001b[0m\n\u001b[1;32m   1375\u001b[0m \u001b[0;34m\u001b[0m\u001b[0m\n\u001b[1;32m   1376\u001b[0m             \u001b[0mnot_found\u001b[0m \u001b[0;34m=\u001b[0m \u001b[0mlist\u001b[0m\u001b[0;34m(\u001b[0m\u001b[0mensure_index\u001b[0m\u001b[0;34m(\u001b[0m\u001b[0mkey\u001b[0m\u001b[0;34m)\u001b[0m\u001b[0;34m[\u001b[0m\u001b[0mmissing_mask\u001b[0m\u001b[0;34m.\u001b[0m\u001b[0mnonzero\u001b[0m\u001b[0;34m(\u001b[0m\u001b[0;34m)\u001b[0m\u001b[0;34m[\u001b[0m\u001b[0;36m0\u001b[0m\u001b[0;34m]\u001b[0m\u001b[0;34m]\u001b[0m\u001b[0;34m.\u001b[0m\u001b[0munique\u001b[0m\u001b[0;34m(\u001b[0m\u001b[0;34m)\u001b[0m\u001b[0;34m)\u001b[0m\u001b[0;34m\u001b[0m\u001b[0;34m\u001b[0m\u001b[0m\n\u001b[0;32m-> 1377\u001b[0;31m             \u001b[0;32mraise\u001b[0m \u001b[0mKeyError\u001b[0m\u001b[0;34m(\u001b[0m\u001b[0;34mf\"{not_found} not in index\"\u001b[0m\u001b[0;34m)\u001b[0m\u001b[0;34m\u001b[0m\u001b[0;34m\u001b[0m\u001b[0m\n\u001b[0m\u001b[1;32m   1378\u001b[0m \u001b[0;34m\u001b[0m\u001b[0m\n\u001b[1;32m   1379\u001b[0m \u001b[0;34m\u001b[0m\u001b[0m\n",
      "\u001b[0;31mKeyError\u001b[0m: \"['ap_all_party_types_aggregated'] not in index\""
     ]
    }
   ],
   "source": [
    "cleansed_data[['hit_addresses_country', 'hit_datesOfBirth_birthDate',  'wl_hit_names', 'party_type_agent_ap']]"
   ]
  },
  {
   "cell_type": "markdown",
   "metadata": {},
   "source": [
    "# 3. Prepare agent inputs"
   ]
  },
  {
   "cell_type": "markdown",
   "metadata": {},
   "source": [
    "## Input"
   ]
  },
  {
   "cell_type": "markdown",
   "metadata": {},
   "source": [
    "See: previous tables"
   ]
  },
  {
   "cell_type": "markdown",
   "metadata": {},
   "source": [
    "## Process"
   ]
  },
  {
   "cell_type": "code",
   "execution_count": 3,
   "metadata": {},
   "outputs": [
    {
     "name": "stderr",
     "output_type": "stream",
     "text": [
      "/env/ds/anaconda/envs/pipeline/lib/python3.8/site-packages/pyspark/sql/pandas/conversion.py:186: PerformanceWarning: DataFrame is highly fragmented.  This is usually the result of calling `frame.insert` many times, which has poor performance.  Consider joining all columns at once using pd.concat(axis=1) instead.  To get a de-fragmented frame, use `newframe = frame.copy()`\n",
      "  df[column_name] = series\n"
     ]
    },
    {
     "name": "stdout",
     "output_type": "stream",
     "text": [
      "> \u001b[0;32m/app/pipeline/preprocessors.py\u001b[0m(449)\u001b[0;36mtransform_cleansed_to_application\u001b[0;34m()\u001b[0m\n",
      "\u001b[0;32m    447 \u001b[0;31m    \u001b[0;32mimport\u001b[0m \u001b[0mpdb\u001b[0m\u001b[0;34m;\u001b[0m \u001b[0mpdb\u001b[0m\u001b[0;34m.\u001b[0m\u001b[0mset_trace\u001b[0m\u001b[0;34m(\u001b[0m\u001b[0;34m)\u001b[0m\u001b[0;34m\u001b[0m\u001b[0;34m\u001b[0m\u001b[0m\n",
      "\u001b[0m\u001b[0;32m    448 \u001b[0;31m    \u001b[0;31m# Agent input creator\u001b[0m\u001b[0;34m\u001b[0m\u001b[0;34m\u001b[0m\u001b[0;34m\u001b[0m\u001b[0m\n",
      "\u001b[0m\u001b[0;32m--> 449 \u001b[0;31m    \u001b[0mkey_cols\u001b[0m \u001b[0;34m=\u001b[0m \u001b[0;34m[\u001b[0m\u001b[0;34m\"_index\"\u001b[0m\u001b[0;34m,\u001b[0m \u001b[0;34m\"ALERT_INTERNAL_ID\"\u001b[0m\u001b[0;34m,\u001b[0m \u001b[0;34m\"ALERT_ID\"\u001b[0m\u001b[0;34m,\u001b[0m \u001b[0;34m\"hit_listId\"\u001b[0m\u001b[0;34m,\u001b[0m \u001b[0;34m\"hit_entryId\"\u001b[0m\u001b[0;34m]\u001b[0m\u001b[0;34m\u001b[0m\u001b[0;34m\u001b[0m\u001b[0m\n",
      "\u001b[0m\u001b[0;32m    450 \u001b[0;31m    \u001b[0;32mfor\u001b[0m \u001b[0magent_name\u001b[0m\u001b[0;34m,\u001b[0m \u001b[0minput_agg_col_config\u001b[0m \u001b[0;32min\u001b[0m \u001b[0magent_input_agg_col_config\u001b[0m\u001b[0;34m.\u001b[0m\u001b[0mitems\u001b[0m\u001b[0;34m(\u001b[0m\u001b[0;34m)\u001b[0m\u001b[0;34m:\u001b[0m\u001b[0;34m\u001b[0m\u001b[0;34m\u001b[0m\u001b[0m\n",
      "\u001b[0m\u001b[0;32m    451 \u001b[0;31m        \u001b[0mstart\u001b[0m \u001b[0;34m=\u001b[0m \u001b[0mtime\u001b[0m\u001b[0;34m.\u001b[0m\u001b[0mtime\u001b[0m\u001b[0;34m(\u001b[0m\u001b[0;34m)\u001b[0m\u001b[0;34m\u001b[0m\u001b[0;34m\u001b[0m\u001b[0m\n",
      "\u001b[0m\n",
      "ipdb> c\n"
     ]
    }
   ],
   "source": [
    "transform_cleansed_to_application()"
   ]
  },
  {
   "cell_type": "markdown",
   "metadata": {},
   "source": [
    "## Output (example)"
   ]
  },
  {
   "cell_type": "code",
   "execution_count": 16,
   "metadata": {},
   "outputs": [
    {
     "name": "stdout",
     "output_type": "stream",
     "text": [
      "./data/4.application/agent-input\n",
      "./data/4.application/agent_input_agg_df.delta\n"
     ]
    }
   ],
   "source": [
    "show_files_in_directory(APPLICATION_DATA_DIR)"
   ]
  },
  {
   "cell_type": "code",
   "execution_count": 17,
   "metadata": {},
   "outputs": [
    {
     "name": "stdout",
     "output_type": "stream",
     "text": [
      "./data/4.application/agent-input/pob_agent_input.delta\n",
      "./data/4.application/agent-input/document_number_agent_input.delta\n",
      "./data/4.application/agent-input/rba_agent_input.delta\n",
      "./data/4.application/agent-input/gender_agent_input.delta\n",
      "./data/4.application/agent-input/hit_has_dob_id_address_agent_input.delta\n",
      "./data/4.application/agent-input/name_agent_input.delta\n",
      "./data/4.application/agent-input/hit_is_deceased_agent_input.delta\n",
      "./data/4.application/agent-input/pep_payment_agent_input.delta\n",
      "./data/4.application/agent-input/historical_decision_name_agent_input.delta\n",
      "./data/4.application/agent-input/party_type_agent_input.delta\n",
      "./data/4.application/agent-input/dob_agent_input.delta\n",
      "./data/4.application/agent-input/national_id_agent_input.delta\n",
      "./data/4.application/agent-input/hit_is_san_agent_input.delta\n",
      "./data/4.application/agent-input/nationality_agent_input.delta\n"
     ]
    }
   ],
   "source": [
    "show_files_in_directory('./data/4.application/agent-input')"
   ]
  },
  {
   "cell_type": "code",
   "execution_count": 4,
   "metadata": {},
   "outputs": [
    {
     "name": "stdout",
     "output_type": "stream",
     "text": [
      "data/4.application/agent-input/pob_agent_input.delta\n",
      "PASSED for \n",
      "- data/4.application/agent-input/pob_agent_input.delta \n",
      " -tests/data/4.application/agent-input/pob_agent_input.delta\n",
      "\n",
      "data/4.application/agent-input/document_number_agent_input.delta\n",
      "PASSED for \n",
      "- data/4.application/agent-input/document_number_agent_input.delta \n",
      " -tests/data/4.application/agent-input/document_number_agent_input.delta\n",
      "\n",
      "data/4.application/agent-input/rba_agent_input.delta\n",
      "PASSED for \n",
      "- data/4.application/agent-input/rba_agent_input.delta \n",
      " -tests/data/4.application/agent-input/rba_agent_input.delta\n",
      "\n",
      "data/4.application/agent-input/gender_agent_input.delta\n",
      "PASSED for \n",
      "- data/4.application/agent-input/gender_agent_input.delta \n",
      " -tests/data/4.application/agent-input/gender_agent_input.delta\n",
      "\n",
      "data/4.application/agent-input/hit_has_dob_id_address_agent_input.delta\n",
      "PASSED for \n",
      "- data/4.application/agent-input/hit_has_dob_id_address_agent_input.delta \n",
      " -tests/data/4.application/agent-input/hit_has_dob_id_address_agent_input.delta\n",
      "\n",
      "data/4.application/agent-input/name_agent_input.delta\n",
      "PASSED for \n",
      "- data/4.application/agent-input/name_agent_input.delta \n",
      " -tests/data/4.application/agent-input/name_agent_input.delta\n",
      "\n",
      "data/4.application/agent-input/hit_is_deceased_agent_input.delta\n",
      "PASSED for \n",
      "- data/4.application/agent-input/hit_is_deceased_agent_input.delta \n",
      " -tests/data/4.application/agent-input/hit_is_deceased_agent_input.delta\n",
      "\n",
      "data/4.application/agent-input/pep_payment_agent_input.delta\n",
      "PASSED for \n",
      "- data/4.application/agent-input/pep_payment_agent_input.delta \n",
      " -tests/data/4.application/agent-input/pep_payment_agent_input.delta\n",
      "\n",
      "data/4.application/agent-input/historical_decision_name_agent_input.delta\n",
      "PASSED for \n",
      "- data/4.application/agent-input/historical_decision_name_agent_input.delta \n",
      " -tests/data/4.application/agent-input/historical_decision_name_agent_input.delta\n",
      "\n",
      "data/4.application/agent-input/party_type_agent_input.delta\n",
      "PASSED for \n",
      "- data/4.application/agent-input/party_type_agent_input.delta \n",
      " -tests/data/4.application/agent-input/party_type_agent_input.delta\n",
      "\n",
      "data/4.application/agent-input/dob_agent_input.delta\n",
      "PASSED for \n",
      "- data/4.application/agent-input/dob_agent_input.delta \n",
      " -tests/data/4.application/agent-input/dob_agent_input.delta\n",
      "\n",
      "data/4.application/agent-input/national_id_agent_input.delta\n",
      "PASSED for \n",
      "- data/4.application/agent-input/national_id_agent_input.delta \n",
      " -tests/data/4.application/agent-input/national_id_agent_input.delta\n",
      "\n",
      "data/4.application/agent-input/hit_is_san_agent_input.delta\n",
      "PASSED for \n",
      "- data/4.application/agent-input/hit_is_san_agent_input.delta \n",
      " -tests/data/4.application/agent-input/hit_is_san_agent_input.delta\n",
      "\n",
      "data/4.application/agent-input/nationality_agent_input.delta\n",
      "PASSED for \n",
      "- data/4.application/agent-input/nationality_agent_input.delta \n",
      " -tests/data/4.application/agent-input/nationality_agent_input.delta\n",
      "\n"
     ]
    }
   ],
   "source": [
    "from glob import glob\n",
    "REFERENCE_DIR = \"tests/data\"\n",
    "for reference in glob(os.path.join(f\"{REFERENCE_DIR}\", \"4.application/agent-input/*delta\")):\n",
    "    rel_path = os.path.relpath(os.path.dirname(reference), \"tests\")\n",
    "    reference_dataframe = spark_instance.read_delta(reference)\n",
    "    if not os.path.exists(os.path.join(rel_path, os.path.basename(reference))):\n",
    "        print(\"not found\", os.path.join(rel_path, os.path.basename(reference)))\n",
    "        continue\n",
    "    tested_dataframe = spark_instance.read_delta(os.path.join(rel_path, os.path.basename(reference)))\n",
    "    print(os.path.join(rel_path, os.path.basename(reference)))\n",
    "    id = \"_index\"\n",
    "    reference_rows = reference_dataframe.sort(id, ascending=False).collect()\n",
    "    tested_rows = tested_dataframe.sort(id, ascending=False).collect()\n",
    "    for tested_row, reference_row in zip(tested_rows, reference_rows):\n",
    "        assert tested_row == reference_row\n",
    "    print(f\"PASSED for \\n- {os.path.join(rel_path, os.path.basename(reference))} \\n -{reference}\\n\")"
   ]
  },
  {
   "cell_type": "code",
   "execution_count": 6,
   "metadata": {},
   "outputs": [
    {
     "data": {
      "text/plain": [
       "True"
      ]
     },
     "execution_count": 6,
     "metadata": {},
     "output_type": "execute_result"
    }
   ],
   "source": [
    "tested_row == reference_row"
   ]
  },
  {
   "cell_type": "code",
   "execution_count": 17,
   "metadata": {},
   "outputs": [
    {
     "data": {
      "text/plain": [
       "DataFrame[_index: bigint, ALERT_INTERNAL_ID: int, ALERT_ID: string, hit_listId: string, hit_entryId: string, ap_all_names_aggregated: array<string>, wl_all_names_aggregated: array<string>, party_type_agent_ap: array<string>, party_type_agent_wl: array<string>]"
      ]
     },
     "execution_count": 17,
     "metadata": {},
     "output_type": "execute_result"
    }
   ],
   "source": [
    "tested_dataframe"
   ]
  },
  {
   "cell_type": "code",
   "execution_count": 23,
   "metadata": {},
   "outputs": [
    {
     "data": {
      "text/plain": [
       "0    Organization\n",
       "1          Person\n",
       "2          Person\n",
       "Name: party_type_agent_ap, dtype: object"
      ]
     },
     "execution_count": 23,
     "metadata": {},
     "output_type": "execute_result"
    }
   ],
   "source": [
    "reference_dataframe.toPandas().party_type_agent_ap"
   ]
  },
  {
   "cell_type": "code",
   "execution_count": 24,
   "metadata": {},
   "outputs": [
    {
     "data": {
      "text/plain": [
       "0    Organization\n",
       "1          Person\n",
       "2          Person\n",
       "Name: party_type_agent_ap, dtype: object"
      ]
     },
     "execution_count": 24,
     "metadata": {},
     "output_type": "execute_result"
    }
   ],
   "source": [
    "reference_dataframe.toPandas().party_type_agent_ap"
   ]
  },
  {
   "cell_type": "code",
   "execution_count": 7,
   "metadata": {
    "scrolled": true
   },
   "outputs": [
    {
     "data": {
      "text/html": [
       "<div>\n",
       "<style scoped>\n",
       "    .dataframe tbody tr th:only-of-type {\n",
       "        vertical-align: middle;\n",
       "    }\n",
       "\n",
       "    .dataframe tbody tr th {\n",
       "        vertical-align: top;\n",
       "    }\n",
       "\n",
       "    .dataframe thead th {\n",
       "        text-align: right;\n",
       "    }\n",
       "</style>\n",
       "<table border=\"1\" class=\"dataframe\">\n",
       "  <thead>\n",
       "    <tr style=\"text-align: right;\">\n",
       "      <th></th>\n",
       "      <th>_index</th>\n",
       "      <th>ALERT_INTERNAL_ID</th>\n",
       "      <th>ALERT_ID</th>\n",
       "      <th>hit_listId</th>\n",
       "      <th>hit_entryId</th>\n",
       "      <th>ap_all_names_aggregated</th>\n",
       "      <th>wl_all_names_aggregated</th>\n",
       "      <th>party_type_agent_ap</th>\n",
       "      <th>party_type_agent_wl</th>\n",
       "    </tr>\n",
       "  </thead>\n",
       "  <tbody>\n",
       "    <tr>\n",
       "      <th>0</th>\n",
       "      <td>0</td>\n",
       "      <td>1649364</td>\n",
       "      <td>WLF101-1363601-89626</td>\n",
       "      <td>FACTIVA_SIE</td>\n",
       "      <td>1091285</td>\n",
       "      <td>[CPF BOARD]</td>\n",
       "      <td>[CPF]</td>\n",
       "      <td>Organization</td>\n",
       "      <td>ORGANIZATION</td>\n",
       "    </tr>\n",
       "    <tr>\n",
       "      <th>1</th>\n",
       "      <td>1</td>\n",
       "      <td>1619405</td>\n",
       "      <td>WLF101-939701-62908</td>\n",
       "      <td>FACTIVA_SAN</td>\n",
       "      <td>4790496</td>\n",
       "      <td>[P ONE]</td>\n",
       "      <td>[One P]</td>\n",
       "      <td>Person</td>\n",
       "      <td>PERSON</td>\n",
       "    </tr>\n",
       "    <tr>\n",
       "      <th>2</th>\n",
       "      <td>2</td>\n",
       "      <td>1619436</td>\n",
       "      <td>WLF101-945401-62939</td>\n",
       "      <td>FACTIVA_SAN</td>\n",
       "      <td>1198704</td>\n",
       "      <td>[KIM]</td>\n",
       "      <td>[Kim,]</td>\n",
       "      <td>Person</td>\n",
       "      <td>PERSON</td>\n",
       "    </tr>\n",
       "  </tbody>\n",
       "</table>\n",
       "</div>"
      ],
      "text/plain": [
       "   _index  ALERT_INTERNAL_ID              ALERT_ID   hit_listId hit_entryId  \\\n",
       "0       0            1649364  WLF101-1363601-89626  FACTIVA_SIE     1091285   \n",
       "1       1            1619405   WLF101-939701-62908  FACTIVA_SAN     4790496   \n",
       "2       2            1619436   WLF101-945401-62939  FACTIVA_SAN     1198704   \n",
       "\n",
       "  ap_all_names_aggregated wl_all_names_aggregated party_type_agent_ap  \\\n",
       "0             [CPF BOARD]                   [CPF]        Organization   \n",
       "1                 [P ONE]                 [One P]              Person   \n",
       "2                   [KIM]                  [Kim,]              Person   \n",
       "\n",
       "  party_type_agent_wl  \n",
       "0        ORGANIZATION  \n",
       "1              PERSON  \n",
       "2              PERSON  "
      ]
     },
     "execution_count": 7,
     "metadata": {},
     "output_type": "execute_result"
    }
   ],
   "source": [
    "get_pandas_dataframe('tests/data/4.application/agent-input/name_agent_input.delta')"
   ]
  },
  {
   "cell_type": "code",
   "execution_count": 18,
   "metadata": {
    "scrolled": true
   },
   "outputs": [
    {
     "data": {
      "text/html": [
       "<div>\n",
       "<style scoped>\n",
       "    .dataframe tbody tr th:only-of-type {\n",
       "        vertical-align: middle;\n",
       "    }\n",
       "\n",
       "    .dataframe tbody tr th {\n",
       "        vertical-align: top;\n",
       "    }\n",
       "\n",
       "    .dataframe thead th {\n",
       "        text-align: right;\n",
       "    }\n",
       "</style>\n",
       "<table border=\"1\" class=\"dataframe\">\n",
       "  <thead>\n",
       "    <tr style=\"text-align: right;\">\n",
       "      <th></th>\n",
       "      <th>_index</th>\n",
       "      <th>ALERT_INTERNAL_ID</th>\n",
       "      <th>ALERT_ID</th>\n",
       "      <th>hit_listId</th>\n",
       "      <th>hit_entryId</th>\n",
       "      <th>ap_all_names_aggregated</th>\n",
       "      <th>wl_all_names_aggregated</th>\n",
       "      <th>party_type_agent_ap</th>\n",
       "      <th>party_type_agent_wl</th>\n",
       "    </tr>\n",
       "  </thead>\n",
       "  <tbody>\n",
       "    <tr>\n",
       "      <th>0</th>\n",
       "      <td>0</td>\n",
       "      <td>1649364</td>\n",
       "      <td>WLF101-1363601-89626</td>\n",
       "      <td>FACTIVA_SIE</td>\n",
       "      <td>1091285</td>\n",
       "      <td>[CPF BOARD]</td>\n",
       "      <td>[CPF]</td>\n",
       "      <td>Organization</td>\n",
       "      <td>ORGANIZATION</td>\n",
       "    </tr>\n",
       "    <tr>\n",
       "      <th>1</th>\n",
       "      <td>1</td>\n",
       "      <td>1619405</td>\n",
       "      <td>WLF101-939701-62908</td>\n",
       "      <td>FACTIVA_SAN</td>\n",
       "      <td>4790496</td>\n",
       "      <td>[P ONE]</td>\n",
       "      <td>[One P]</td>\n",
       "      <td>Person</td>\n",
       "      <td>PERSON</td>\n",
       "    </tr>\n",
       "    <tr>\n",
       "      <th>2</th>\n",
       "      <td>2</td>\n",
       "      <td>1619436</td>\n",
       "      <td>WLF101-945401-62939</td>\n",
       "      <td>FACTIVA_SAN</td>\n",
       "      <td>1198704</td>\n",
       "      <td>[KIM]</td>\n",
       "      <td>[Kim,]</td>\n",
       "      <td>Person</td>\n",
       "      <td>PERSON</td>\n",
       "    </tr>\n",
       "  </tbody>\n",
       "</table>\n",
       "</div>"
      ],
      "text/plain": [
       "   _index  ALERT_INTERNAL_ID              ALERT_ID   hit_listId hit_entryId  \\\n",
       "0       0            1649364  WLF101-1363601-89626  FACTIVA_SIE     1091285   \n",
       "1       1            1619405   WLF101-939701-62908  FACTIVA_SAN     4790496   \n",
       "2       2            1619436   WLF101-945401-62939  FACTIVA_SAN     1198704   \n",
       "\n",
       "  ap_all_names_aggregated wl_all_names_aggregated party_type_agent_ap  \\\n",
       "0             [CPF BOARD]                   [CPF]        Organization   \n",
       "1                 [P ONE]                 [One P]              Person   \n",
       "2                   [KIM]                  [Kim,]              Person   \n",
       "\n",
       "  party_type_agent_wl  \n",
       "0        ORGANIZATION  \n",
       "1              PERSON  \n",
       "2              PERSON  "
      ]
     },
     "execution_count": 18,
     "metadata": {},
     "output_type": "execute_result"
    }
   ],
   "source": [
    "get_pandas_dataframe('./data/4.application/agent-input/name_agent_input.delta')"
   ]
  },
  {
   "cell_type": "code",
   "execution_count": 19,
   "metadata": {},
   "outputs": [
    {
     "data": {
      "text/html": [
       "<div>\n",
       "<style scoped>\n",
       "    .dataframe tbody tr th:only-of-type {\n",
       "        vertical-align: middle;\n",
       "    }\n",
       "\n",
       "    .dataframe tbody tr th {\n",
       "        vertical-align: top;\n",
       "    }\n",
       "\n",
       "    .dataframe thead th {\n",
       "        text-align: right;\n",
       "    }\n",
       "</style>\n",
       "<table border=\"1\" class=\"dataframe\">\n",
       "  <thead>\n",
       "    <tr style=\"text-align: right;\">\n",
       "      <th></th>\n",
       "      <th>_index</th>\n",
       "      <th>ALERT_INTERNAL_ID</th>\n",
       "      <th>ALERT_ID</th>\n",
       "      <th>hit_listId</th>\n",
       "      <th>hit_entryId</th>\n",
       "      <th>ap_all_nationalities_aggregated</th>\n",
       "      <th>wl_all_nationalities_aggregated</th>\n",
       "    </tr>\n",
       "  </thead>\n",
       "  <tbody>\n",
       "    <tr>\n",
       "      <th>0</th>\n",
       "      <td>0</td>\n",
       "      <td>1649364</td>\n",
       "      <td>WLF101-1363601-89626</td>\n",
       "      <td>FACTIVA_SIE</td>\n",
       "      <td>1091285</td>\n",
       "      <td>[]</td>\n",
       "      <td>[CN]</td>\n",
       "    </tr>\n",
       "    <tr>\n",
       "      <th>1</th>\n",
       "      <td>1</td>\n",
       "      <td>1619405</td>\n",
       "      <td>WLF101-939701-62908</td>\n",
       "      <td>FACTIVA_SAN</td>\n",
       "      <td>4790496</td>\n",
       "      <td>[SG]</td>\n",
       "      <td>[]</td>\n",
       "    </tr>\n",
       "    <tr>\n",
       "      <th>2</th>\n",
       "      <td>2</td>\n",
       "      <td>1619436</td>\n",
       "      <td>WLF101-945401-62939</td>\n",
       "      <td>FACTIVA_SAN</td>\n",
       "      <td>1198704</td>\n",
       "      <td>[]</td>\n",
       "      <td>[KP]</td>\n",
       "    </tr>\n",
       "  </tbody>\n",
       "</table>\n",
       "</div>"
      ],
      "text/plain": [
       "   _index  ALERT_INTERNAL_ID              ALERT_ID   hit_listId hit_entryId  \\\n",
       "0       0            1649364  WLF101-1363601-89626  FACTIVA_SIE     1091285   \n",
       "1       1            1619405   WLF101-939701-62908  FACTIVA_SAN     4790496   \n",
       "2       2            1619436   WLF101-945401-62939  FACTIVA_SAN     1198704   \n",
       "\n",
       "  ap_all_nationalities_aggregated wl_all_nationalities_aggregated  \n",
       "0                              []                            [CN]  \n",
       "1                            [SG]                              []  \n",
       "2                              []                            [KP]  "
      ]
     },
     "execution_count": 19,
     "metadata": {},
     "output_type": "execute_result"
    }
   ],
   "source": [
    "get_pandas_dataframe('./data/4.application/agent-input/nationality_agent_input.delta')"
   ]
  },
  {
   "cell_type": "markdown",
   "metadata": {},
   "source": [
    "# 4. Knowledge services"
   ]
  },
  {
   "cell_type": "code",
   "execution_count": 20,
   "metadata": {},
   "outputs": [
    {
     "ename": "NameError",
     "evalue": "name 'Config' is not defined",
     "output_type": "error",
     "traceback": [
      "\u001b[0;31m---------------------------------------------------------------------------\u001b[0m",
      "\u001b[0;31mNameError\u001b[0m                                 Traceback (most recent call last)",
      "\u001b[0;32m/tmp/ipykernel_371802/2216804586.py\u001b[0m in \u001b[0;36m<module>\u001b[0;34m\u001b[0m\n\u001b[0;32m----> 1\u001b[0;31m \u001b[0mconfig\u001b[0m \u001b[0;34m=\u001b[0m \u001b[0mConfig\u001b[0m\u001b[0;34m(\u001b[0m\u001b[0mconfiguration_dirs\u001b[0m\u001b[0;34m=\u001b[0m\u001b[0;34m(\u001b[0m\u001b[0mpathlib\u001b[0m\u001b[0;34m.\u001b[0m\u001b[0mPath\u001b[0m\u001b[0;34m(\u001b[0m\u001b[0;34m\"./config\"\u001b[0m\u001b[0;34m)\u001b[0m\u001b[0;34m,\u001b[0m\u001b[0;34m)\u001b[0m\u001b[0;34m)\u001b[0m\u001b[0;34m\u001b[0m\u001b[0;34m\u001b[0m\u001b[0m\n\u001b[0m\u001b[1;32m      2\u001b[0m \u001b[0morg_name_agent\u001b[0m \u001b[0;34m=\u001b[0m \u001b[0mCompanyNameAgent\u001b[0m\u001b[0;34m(\u001b[0m\u001b[0mconfig\u001b[0m\u001b[0;34m)\u001b[0m\u001b[0;34m\u001b[0m\u001b[0;34m\u001b[0m\u001b[0m\n",
      "\u001b[0;31mNameError\u001b[0m: name 'Config' is not defined"
     ]
    }
   ],
   "source": [
    "config = Config(configuration_dirs=(pathlib.Path(\"./config\"),))\n",
    "org_name_agent = CompanyNameAgent(config)\n"
   ]
  },
  {
   "cell_type": "code",
   "execution_count": null,
   "metadata": {},
   "outputs": [],
   "source": [
    "org_name_agent.resolve([\"China Petroleum Finance Co. Ltd\"], [\"CPF\"])"
   ]
  },
  {
   "cell_type": "code",
   "execution_count": null,
   "metadata": {},
   "outputs": [],
   "source": [
    "company_name.compare(\"China Petroleum Finance Co. Ltd\", \"CPF\")"
   ]
  },
  {
   "cell_type": "markdown",
   "metadata": {},
   "source": [
    "### Data discovery example"
   ]
  },
  {
   "cell_type": "code",
   "execution_count": null,
   "metadata": {},
   "outputs": [],
   "source": [
    "ROW_ID = 0\n",
    "\n",
    "row_tree = ET.ElementTree(ET.fromstring(standardized_data['HTML_FILE_KEY'][ROW_ID]))\n",
    "row_values = standardized_data[[i for i in standardized_data if 'HTML_FILE_KEY' not in i]].loc[ROW_ID]"
   ]
  },
  {
   "cell_type": "code",
   "execution_count": null,
   "metadata": {
    "scrolled": false
   },
   "outputs": [],
   "source": [
    "org_features = pipeline.knowledge_service.get_features(row_tree, org_know.parse_freetext, pipeline.knowledge_service.print_org_results)"
   ]
  },
  {
   "cell_type": "code",
   "execution_count": null,
   "metadata": {},
   "outputs": [],
   "source": [
    "org_features_columns = [pipeline.knowledge_service.get_column_features(column, value, org_know.parse_freetext, pipeline.knowledge_service.print_column_results) for column, value in row_values.to_dict().items()]"
   ]
  },
  {
   "cell_type": "markdown",
   "metadata": {},
   "source": [
    "# 5. Appendix\n",
    "\n",
    "__Detailed implementation__\n",
    "\n",
    "It's rather easy to implement if the goal is just to produce the dataframe for agent to consume. Some interim data need to be created to serve the purpose of analytics.\n",
    "\n",
    "There are 2 main categories of transformations.\n",
    "1. Interface/config transformation: Activities on the agent input config/interface.\n",
    "1. Data transformation: Activities on the data based on the config/interface.\n",
    "\n",
    "Steps\n",
    "1. Create the agent input config.\n",
    "    1. Interface/config transformation. Define agent input template. Each agent's input is a dictionary with 4 key-value pairs.\n",
    "    ```\n",
    "    {\n",
    "        'ap': [],\n",
    "        'ap_aliases': [],\n",
    "        'wl': [] ,\n",
    "        'wl_aliases': []\n",
    "    }\n",
    "    ```\n",
    "\n",
    "        - `ap`: The primary value(s) of alerted party's specific attribute, e.g, name, it could be from one or multiple columns.\n",
    "        - `ap_aliases`: The aliases of alerted party's specific attribute, it could be from one or multiple columns.\n",
    "        - So on and so forth for `wl` and `wl_aliases`.\n",
    "\n",
    "    1. Interface/config transformation. Define the list of agents. __Each agent's name must end with `_agent`.__\n",
    "    ```\n",
    "    agent_list = [\n",
    "        'name_agent',\n",
    "        'gender_agent'\n",
    "    ]\n",
    "    ```\n",
    "\n",
    "    1. Interface/config transformation. Config the agent input by specifying which column(s) should be treated as the input of which agent's which party's primary or aliase value(s). \n",
    "    ```\n",
    "    {\n",
    "        'name_agent': {\n",
    "            'ap': ['record_name', 'short_name'],\n",
    "            'ap_aliases': ['alternate_name'],\n",
    "            'wl': ['name_hit'],\n",
    "            'wl_aliases': []\n",
    "        },\n",
    "        'gender_agent': {'ap': ['record_gender'],\n",
    "                         'ap_aliases': [],\n",
    "                         'wl': ['additional_infos_gender'],\n",
    "                         'wl_aliases': []\n",
    "                        },\n",
    "    }\n",
    "    ```\n",
    "    Certain concepts need to be defined here.\n",
    "        1. `level-1-key`: The name of each agent, it's `name_agent` and `gender_agent`.\n",
    "        1. `level-1-value`: The value of each agent's config, it's a dictionary, e.g, \n",
    "        ```\n",
    "        {\n",
    "            'ap': ['record_name', 'short_name'],\n",
    "            'ap_aliases': ['alternate_name'],\n",
    "            'wl': ['name_hit'],\n",
    "            'wl_aliases': []\n",
    "        }\n",
    "        ```\n",
    "        1. `level-2-key`: The key of each agent config's value, or rather the key of `level-1-value`. It's `ap`, `ap_aliases`, `wl` and `wl_aliases`.\n",
    "        1. `level-2-value`: The list of column names, e.g, `['record_name', 'short_name']`.\n",
    "\n",
    "1. Create the interim agent input config and data. The interface is standardized from here onwards.  In reality, the data format can be more complex, e.g, national IDs we need to consider both type and document number.\n",
    "    1. Interface/config transformation. Prepend `level-1-key` to `level-2-key` so that `level-2-key` can be used as new column names to host the interim data for analytics and/or debugging activites. Take `name_agent` for example.\n",
    "    ```\n",
    "    {\n",
    "        'name_agent': {\n",
    "            'name_agent_ap': ['record_name', 'short_name'],\n",
    "            'name_agent_ap_aliases': ['alternate_name'],\n",
    "            'name_agent_wl': ['name_hit'],\n",
    "            'name_agent_wl_aliases': []\n",
    "        }\n",
    "    }\n",
    "    ```\n",
    "    1. Data transformation. Merge the values from `level-2-value` columns to `level-2-key` column. Below table will be the result.\n",
    "    \n",
    "| uuid | record_name | short_name | alternate_name | wl_primary_name | name_hit |   name_agent_ap   | name_agent_ap_aliases | name_agent_wl | name_agent_wl_aliases |\n",
    "| ---- | :---------: | :--------: | :------------: | :-------------: | :------: | :---------------: | :-------------------: | :-----------: | :-------------------: |\n",
    "| 1234 |  Jim Green  |    J.G.    |      Jim       |   James Greg    |   J.G    | [Jim Green, J.G.] |          Jim          |      J.G      |         None          |\n",
    "\n",
    "1. Create the final agent input config and data based on the standardized interface.\n",
    "    1. Interface/config transformation. Now we have a consistent schema to create the 1 list of alerted party values and 1 list of watchlist party values. We no longer need to worry about the customer specific schema, e.g, `record_name`, `short_name` and etcs. They have been standardized as `name_agent_ap`, `name_agent_ap_aliases` and etcs.\n",
    "    ```\n",
    "    {\n",
    "        'name_agent': {'ap_all_names_aggregated': ['name_agent_ap', 'name_agent_ap_aliases'],\n",
    "                       'wl_all_names_aggregated': ['name_agent_wl', 'name_agent_wl_aliases']\n",
    "                      }\n",
    "    }\n",
    "    ```\n",
    "    1. Data transformation. Merge the values from the primary and alias columns. Below table will be the result.\n",
    "    \n",
    "| uuid | ap_all_names_aggregated | wl_all_names_aggregated |\n",
    "| ---- | :---------------------: | :---------------------: |\n",
    "| 1234 | [Jim Green, J.G., Jim]  |          [J.G]          |"
   ]
  }
 ],
 "metadata": {
  "kernelspec": {
   "display_name": "Python 3 (ipykernel)",
   "language": "python",
   "name": "python3"
  },
  "language_info": {
   "codemirror_mode": {
    "name": "ipython",
    "version": 3
   },
   "file_extension": ".py",
   "mimetype": "text/x-python",
   "name": "python",
   "nbconvert_exporter": "python",
   "pygments_lexer": "ipython3",
   "version": "3.9.7"
  }
 },
 "nbformat": 4,
 "nbformat_minor": 4
}
