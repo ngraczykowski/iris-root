{
 "cells": [
  {
   "cell_type": "code",
   "execution_count": null,
   "id": "1040aa3d",
   "metadata": {},
   "outputs": [],
   "source": [
    "import yaml\n",
    "import re\n",
    "from pprint import pprint as pp\n",
    "\n",
    "from business_layer.business_layer_ns import BusinessLayerNS\n",
    "\n",
    "%load_ext autoreload\n",
    "%autoreload 2"
   ]
  },
  {
   "cell_type": "code",
   "execution_count": null,
   "id": "530af97d",
   "metadata": {},
   "outputs": [],
   "source": [
    "#NS example - mimicking the aggregated application layer from the ETL\n",
    "alert_data = [\n",
    "    {\n",
    "        'ap_all_nationalities_aggregated': ['SG', 'US'], 'wl_all_nationalities_aggregated': ['CN'],\n",
    "        'ap_all_pobs_aggregated': ['PL'], 'wl_all_pobs_aggregated': ['PL'],\n",
    "        'ap_all_residencies_aggregated': [], 'wl_all_residencies_aggregated': ['FR'],\n",
    "        'ap_all_names_aggregated': ['CPF BOARD'], 'wl_all_names_aggregated': ['CPF'],\n",
    "        'ap_all_passports_aggregated': ['123'], 'wl_all_passports_aggregated': ['234'],\n",
    "    },\n",
    "    {\n",
    "        'ap_all_nationalities_aggregated': ['US'], 'wl_all_nationalities_aggregated': ['CN'],\n",
    "        'ap_all_residencies_aggregated': ['RU', 'FR'], 'wl_all_residencies_aggregated': ['FR'],\n",
    "        'ap_all_pobs_aggregated': [], 'wl_all_pobs_aggregated': ['CN'],\n",
    "        'ap_all_names_aggregated': ['CPF BOARD'], 'wl_all_names_aggregated': ['CPF'],\n",
    "        'ap_all_passports_aggregated': ['123'], 'wl_all_passports_aggregated': ['234'],\n",
    "    },\n",
    "    {\n",
    "        'ap_all_nationalities_aggregated': [], 'wl_all_nationalities_aggregated': [],\n",
    "        'ap_all_residencies_aggregated': ['FR'], 'wl_all_residencies_aggregated': ['FR'],\n",
    "        'ap_all_pobs_aggregated': [], 'wl_all_pobs_aggregated': [],\n",
    "        'ap_all_names_aggregated': ['CPF BOARD'], 'wl_all_names_aggregated': ['CPF'],\n",
    "        'ap_all_passports_aggregated': ['123'], 'wl_all_passports_aggregated': ['234'],\n",
    "    }\n",
    "]"
   ]
  },
  {
   "cell_type": "code",
   "execution_count": null,
   "id": "2a2fd2da",
   "metadata": {},
   "outputs": [],
   "source": [
    "#order matters\n",
    "policy_steps = [\n",
    "    {\n",
    "        'decision': 'PTP', \n",
    "        'conditions': [\n",
    "            {'sanctions_residency': ['TRUE']},\n",
    "            {'org_name_name': ['MATCH'], 'geo_nationality': ['COUNTRY_MATCH']}\n",
    "        ]\n",
    "    },\n",
    "    { \n",
    "        'decision': 'FP',\n",
    "        'conditions': [\n",
    "            {'geo_nationality': ['COUNTRY_NO_MATCH'], 'sanctions_residency': ['FALSE']},\n",
    "        ]\n",
    "    }\n",
    "]"
   ]
  },
  {
   "cell_type": "code",
   "execution_count": null,
   "id": "9830bc43",
   "metadata": {},
   "outputs": [],
   "source": [
    "with open('business_layer/config_ns.yaml', 'r') as cfg_file:\n",
    "    cfg = yaml.safe_load(cfg_file)"
   ]
  },
  {
   "cell_type": "code",
   "execution_count": null,
   "id": "0f92c05a",
   "metadata": {},
   "outputs": [],
   "source": [
    "biz_layer = BusinessLayerNS(cfg)"
   ]
  },
  {
   "cell_type": "code",
   "execution_count": null,
   "id": "15b40c29",
   "metadata": {},
   "outputs": [],
   "source": [
    "for data in alert_data:\n",
    "    print(biz_layer.solve_hit(data, policy_steps))\n",
    "    print()"
   ]
  }
 ],
 "metadata": {
  "interpreter": {
   "hash": "b7222c62510c172e945ecd17a80e369989a884ec49fc1143b9b4b052a4120551"
  },
  "kernelspec": {
   "display_name": "Python 3.9.12 ('kmb')",
   "language": "python",
   "name": "python3"
  },
  "language_info": {
   "codemirror_mode": {
    "name": "ipython",
    "version": 3
   },
   "file_extension": ".py",
   "mimetype": "text/x-python",
   "name": "python",
   "nbconvert_exporter": "python",
   "pygments_lexer": "ipython3",
   "version": "3.9.12"
  }
 },
 "nbformat": 4,
 "nbformat_minor": 5
}
