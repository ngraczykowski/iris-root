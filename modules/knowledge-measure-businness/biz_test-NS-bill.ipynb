{
 "cells": [
  {
   "cell_type": "code",
   "execution_count": 1,
   "id": "0ebc3a24",
   "metadata": {},
   "outputs": [],
   "source": [
    "import yaml\n",
    "import re\n",
    "from pprint import pprint as pp\n",
    "\n",
    "from business_layer.business_layer_ns import BusinessLayerNS\n",
    "\n",
    "%load_ext autoreload\n",
    "%autoreload 2"
   ]
  },
  {
   "cell_type": "code",
   "execution_count": 12,
   "id": "51c59791",
   "metadata": {},
   "outputs": [],
   "source": [
    "#order matters\n",
    "POLICY_STEPS = [\n",
    "    {\n",
    "        \"decision\": \"PTP\", \n",
    "        \"conditions\": [\n",
    "            {\n",
    "                \"name_name\": [\"MATCH\", \"STRONG_MATCH\", \"EXACT_MATCH\"], \n",
    "                \"geo_location\": [\"COUNTRY_MATCH\", \"CITY_MATCH\", \"STATE_MATCH\"],\n",
    "            },\n",
    "            {\n",
    "                \"sanctions_location\": \"TRUE\",\n",
    "            },\n",
    "        ],\n",
    "    },\n",
    "    { \n",
    "        \"decision\": \"FP\",\n",
    "        \"conditions\": [\n",
    "            {\n",
    "                \"name_name\": [\"HQ_NO_MATCH\", \"NO_MATCH\", \"WEAK_MATCH\", \"MATCH\"],\n",
    "                \"geo_location\": [\"COUNTRY_NO_MATCH\", \"STATE_NO_MATCH\", \"CITY_NO_MATCH\"],\n",
    "            },\n",
    "            {\n",
    "                \"name_name\": [\"HQ_NO_MATCH\", \"NO_MATCH\", \"WEAK_MATCH\"],\n",
    "                \"geo_location\": [\"NO_DATA\"],\n",
    "            },\n",
    "            {\n",
    "                \"sanctions_location\": \"FALSE\",\n",
    "                \"entity_type_wl_type\": \"OTHER\",\n",
    "            },\n",
    "        ]\n",
    "    }\n",
    "]"
   ]
  },
  {
   "cell_type": "code",
   "execution_count": 13,
   "id": "b5fcdb16",
   "metadata": {
    "scrolled": true
   },
   "outputs": [],
   "source": [
    "with open('business_layer/config_ns_bill_com.yaml', 'r') as cfg_file:\n",
    "    cfg = yaml.safe_load(cfg_file)"
   ]
  },
  {
   "cell_type": "code",
   "execution_count": 14,
   "id": "8ad56e4f",
   "metadata": {
    "scrolled": true
   },
   "outputs": [],
   "source": [
    "biz_layer = BusinessLayerNS(cfg)"
   ]
  },
  {
   "cell_type": "markdown",
   "id": "0f2f49dd",
   "metadata": {},
   "source": [
    "## Example"
   ]
  },
  {
   "cell_type": "code",
   "execution_count": 20,
   "id": "9cea2cbb",
   "metadata": {},
   "outputs": [],
   "source": [
    "#NS example - mimicking the aggregated application layer from the ETL\n",
    "alert_data = [\n",
    "    {\n",
    "        \"ap_all_names_aggregated\": [\"Bill Gats\"], \"wl_all_names_aggregated\": [\"Bill Gates\"],\n",
    "        \"wl_type\": \"INDIVIDUAL\",\n",
    "        \"ap_all_locations_aggregated\": [\"Alabama\"], \"wl_all_locations_aggregated\": [\"Alabama\"]\n",
    "    },\n",
    "    {\n",
    "        \"ap_all_names_aggregated\": [\"Microsoft Ltd\"], \"wl_all_names_aggregated\": [\"Microsoft\"],\n",
    "        \"wl_type\": \"ORGANIZATION\",\n",
    "        \"ap_all_locations_aggregated\": [\"Alabama\"], \"wl_all_locations_aggregated\": [\"Alabama\"]\n",
    "    },\n",
    "    {\n",
    "        \"ap_all_names_aggregated\": [\"Microsoft\"], \"wl_all_names_aggregated\": [\"Facebook\"],\n",
    "        \"wl_type\": \"ORGANIZATION\",\n",
    "        \"ap_all_locations_aggregated\": [\"Redmont, USA\"], \"wl_all_locations_aggregated\": [\"Menlo Park, USA\"]\n",
    "    },\n",
    "    {\n",
    "        \"ap_all_names_aggregated\": [\"Mirkosoft\"], \"wl_all_names_aggregated\": [\"Fejsbuk\"],\n",
    "        \"wl_type\": \"OTHER\",\n",
    "        \"ap_all_locations_aggregated\": [\"Pjongjang, North Korea\"], \n",
    "        \"wl_all_locations_aggregated\": [\"Antofagasta, Chile\"],\n",
    "    },\n",
    "]"
   ]
  },
  {
   "cell_type": "code",
   "execution_count": 22,
   "id": "10276f3b",
   "metadata": {},
   "outputs": [
    {
     "name": "stdout",
     "output_type": "stream",
     "text": [
      "SolvedHit(feature_vector={'geo_location': 'CITY_MATCH', 'entity_type_wl_type': 'INDIVIDUAL', 'name_name': 'MATCH', 'sanctions_location': 'FALSE'}, decision='PTP', comment=\"S8 recommended action: Potential True Positive\\nAlerted Party's name () matches Watchlist Party's name ()\\nAlerted Party's location (Alabama) matches Watchlist Party's location (Alabama)\")\n",
      "\n",
      "SolvedHit(feature_vector={'geo_location': 'CITY_MATCH', 'entity_type_wl_type': 'ORGANIZATION', 'name_name': 'MATCH', 'sanctions_location': 'FALSE'}, decision='PTP', comment=\"S8 recommended action: Potential True Positive\\nAlerted Party's name (Microsoft Ltd) matches Watchlist Party's name (Microsoft)\\nAlerted Party's location (Alabama) matches Watchlist Party's location (Alabama)\")\n",
      "\n",
      "SolvedHit(feature_vector={'geo_location': 'COUNTRY_MATCH', 'entity_type_wl_type': 'ORGANIZATION', 'name_name': 'NO_MATCH', 'sanctions_location': 'FALSE'}, decision='MI', comment='S8 recommended action: Manual Investigation')\n",
      "\n",
      "SolvedHit(feature_vector={'geo_location': 'COUNTRY_NO_MATCH', 'entity_type_wl_type': 'OTHER', 'name_name': 'NOT_APPLICABLE', 'sanctions_location': 'TRUE'}, decision='PTP', comment=\"S8 recommended action: Potential True Positive\\nAlerted Party's location (Pjongjang, North Korea) is on the sanctions list\")\n",
      "\n"
     ]
    }
   ],
   "source": [
    "for data in alert_data:\n",
    "    print(biz_layer.solve_hit(data, POLICY_STEPS))\n",
    "    print()"
   ]
  },
  {
   "cell_type": "markdown",
   "id": "1aa3421c",
   "metadata": {},
   "source": [
    "## Data from bill"
   ]
  },
  {
   "cell_type": "markdown",
   "id": "0787f966",
   "metadata": {},
   "source": [
    "### Loading application data to one list"
   ]
  },
  {
   "cell_type": "code",
   "execution_count": null,
   "id": "8f4b8640",
   "metadata": {},
   "outputs": [],
   "source": [
    "import json\n",
    "import os"
   ]
  },
  {
   "cell_type": "code",
   "execution_count": null,
   "id": "6b168b83",
   "metadata": {},
   "outputs": [],
   "source": [
    "with open(\"../all_matches_application_data.json\", \"r\") as file:\n",
    "    all_matches_application_data = json.load(file)"
   ]
  },
  {
   "cell_type": "markdown",
   "id": "480e7886",
   "metadata": {},
   "source": [
    "### Decision cardinalities"
   ]
  },
  {
   "cell_type": "code",
   "execution_count": null,
   "id": "b94120fd",
   "metadata": {},
   "outputs": [],
   "source": [
    "from collections import Counter"
   ]
  },
  {
   "cell_type": "code",
   "execution_count": null,
   "id": "fc65a813",
   "metadata": {},
   "outputs": [],
   "source": [
    "Counter(match[\"decision\"] for match in all_matches_application_data)"
   ]
  },
  {
   "cell_type": "markdown",
   "id": "7413302b",
   "metadata": {},
   "source": [
    "## Solving using KMB on full dataset"
   ]
  },
  {
   "cell_type": "code",
   "execution_count": null,
   "id": "9e6c81ef",
   "metadata": {},
   "outputs": [],
   "source": [
    "print(\"All matches length\")\n",
    "print(len(all_matches_application_data))"
   ]
  },
  {
   "cell_type": "code",
   "execution_count": null,
   "id": "5718b918",
   "metadata": {},
   "outputs": [],
   "source": [
    "VALID_TYPES = {\"ORGANIZATION\", \"INDIVIDUAL\"}\n",
    "\n",
    "\n",
    "def validate_match(match):\n",
    "    if \"Alert generated in error\" not in match[\"reason\"] and match[\"wl_type\"] in VALID_TYPES:\n",
    "        return True\n",
    "    return False"
   ]
  },
  {
   "cell_type": "code",
   "execution_count": null,
   "id": "4a5a60eb",
   "metadata": {},
   "outputs": [],
   "source": [
    "import time"
   ]
  },
  {
   "cell_type": "code",
   "execution_count": null,
   "id": "82352509",
   "metadata": {},
   "outputs": [],
   "source": [
    "time_0 = time.time()\n",
    "solved_all = [\n",
    "    biz_layer.solve_hit(data=match, policy_steps=POLICY_STEPS)\n",
    "    for match in all_matches_application_data\n",
    "]\n",
    "run_time = time.time() - time_0"
   ]
  },
  {
   "cell_type": "code",
   "execution_count": null,
   "id": "cdd02828",
   "metadata": {},
   "outputs": [],
   "source": [
    "# run time 1000: 42.4 sec\n",
    "run_time"
   ]
  },
  {
   "cell_type": "code",
   "execution_count": null,
   "id": "dc3a397c",
   "metadata": {},
   "outputs": [],
   "source": [
    "2858/60"
   ]
  },
  {
   "cell_type": "code",
   "execution_count": null,
   "id": "0965d9fc",
   "metadata": {},
   "outputs": [],
   "source": [
    "all_results = [\n",
    "    {\n",
    "        **match, \n",
    "        ** solved.feature_vector,\n",
    "        \"kmb_decision\": solved.decision if validate_match(match) else \"MI\",\n",
    "\n",
    "    }\n",
    "for match, solved in zip(all_matches_application_data, solved_all)]\n"
   ]
  },
  {
   "cell_type": "code",
   "execution_count": null,
   "id": "5a239692",
   "metadata": {},
   "outputs": [],
   "source": [
    "with open(\"../output_all_results_name_agent_used.json\", \"w\") as ftw:\n",
    "    json.dump(all_results, ftw)"
   ]
  },
  {
   "cell_type": "code",
   "execution_count": null,
   "id": "d1225b78",
   "metadata": {},
   "outputs": [],
   "source": []
  },
  {
   "cell_type": "markdown",
   "id": "e03607a6",
   "metadata": {},
   "source": [
    "### PTP"
   ]
  },
  {
   "cell_type": "code",
   "execution_count": null,
   "id": "28975ff8",
   "metadata": {},
   "outputs": [],
   "source": [
    "Counter(result[\"kmb_decision\"] for result in all_results)"
   ]
  },
  {
   "cell_type": "code",
   "execution_count": null,
   "id": "e24926b5",
   "metadata": {},
   "outputs": [],
   "source": [
    "name_does_not_match = [sol for sol in all_solutions \n",
    "                       if sol[\"reason\"] == \"Name does not match\" and sol[\"kmb_decision\"] == \"PTP\"]"
   ]
  },
  {
   "cell_type": "code",
   "execution_count": null,
   "id": "83ef5eef",
   "metadata": {},
   "outputs": [],
   "source": [
    "name_does_not_match[0]"
   ]
  },
  {
   "cell_type": "code",
   "execution_count": null,
   "id": "063673a8",
   "metadata": {},
   "outputs": [],
   "source": []
  },
  {
   "cell_type": "code",
   "execution_count": null,
   "id": "59d7de6a",
   "metadata": {},
   "outputs": [],
   "source": [
    "reason_counts_ptp_org = Counter(\n",
    "    sol[\"org_name_solution\"] for sol in all_solutions \n",
    "    if sol[\"kmb_decision\"] == \"PTP\"\n",
    ")\n",
    "reason_counts_ptp_org.most_common(10)"
   ]
  },
  {
   "cell_type": "code",
   "execution_count": null,
   "id": "8ba4c9c8",
   "metadata": {},
   "outputs": [],
   "source": [
    "reason_counts_ptp_geo = Counter(\n",
    "    sol[\"geo_solution\"] for sol in all_solutions \n",
    "    if sol[\"kmb_decision\"] == \"PTP\"\n",
    ")\n",
    "reason_counts_ptp_geo.most_common(10)"
   ]
  },
  {
   "cell_type": "markdown",
   "id": "f983cfa4",
   "metadata": {},
   "source": [
    "### MI"
   ]
  },
  {
   "cell_type": "code",
   "execution_count": null,
   "id": "6ae88d14",
   "metadata": {},
   "outputs": [],
   "source": [
    "reason_counts_mi = Counter(sol[\"reason\"] for sol in all_solutions if sol[\"kmb_decision\"] == \"MI\")\n",
    "reason_counts_mi.most_common(10)"
   ]
  },
  {
   "cell_type": "code",
   "execution_count": null,
   "id": "e84747c9",
   "metadata": {},
   "outputs": [],
   "source": [
    "reason_counts_mi_OTHER = Counter(\n",
    "    sol[\"reason\"] for sol in all_solutions if sol[\"kmb_decision\"] == \"MI\" and sol[\"wl_entity_type\"] == \"OTHER\")\n",
    "reason_counts_mi_OTHER.most_common(10)"
   ]
  },
  {
   "cell_type": "code",
   "execution_count": null,
   "id": "2093f064",
   "metadata": {},
   "outputs": [],
   "source": [
    "reason_counts_mi_org = Counter(\n",
    "    sol[\"org_name_solution\"] for sol in all_solutions \n",
    "    if sol[\"kmb_decision\"] == \"MI\"\n",
    ")\n",
    "reason_counts_mi_org.most_common(10)"
   ]
  },
  {
   "cell_type": "code",
   "execution_count": null,
   "id": "1dcd5a6f",
   "metadata": {},
   "outputs": [],
   "source": [
    "reason_counts_mi_geo = Counter(\n",
    "    sol[\"geo_solution\"] for sol in all_solutions \n",
    "    if sol[\"kmb_decision\"] == \"MI\"\n",
    ")\n",
    "reason_counts_mi_geo.most_common(10)"
   ]
  },
  {
   "cell_type": "code",
   "execution_count": null,
   "id": "624da88c",
   "metadata": {},
   "outputs": [],
   "source": []
  },
  {
   "cell_type": "markdown",
   "id": "a5aedfff",
   "metadata": {},
   "source": [
    "## Reasons comparison"
   ]
  },
  {
   "cell_type": "code",
   "execution_count": null,
   "id": "89d56619",
   "metadata": {},
   "outputs": [],
   "source": [
    "def print_names(row):\n",
    "    print(\"record_id\", row[\"record_id\"],\n",
    "        \"ap: \", row['ap_all_names_aggregated'], \n",
    "          \" wl: \", row[\"wl_all_names_aggregated\"],\n",
    "          \"ap_geo: \", row[\"ap_all_locations_aggregated\"],\n",
    "          \"wl_geo: \", row[\"wl_all_locations_aggregated\"],\n",
    "          \" reason: \",  row['reason'],\n",
    "          \"  KMB decision: \", row[\"kmb_decision\"],\n",
    "         \" org: \", row[\"org_name_solution\"],\n",
    "         \" ind: \", row[\"individual_solution\"],\n",
    "         \" geo: \", row[\"geo_solution\"])"
   ]
  },
  {
   "cell_type": "code",
   "execution_count": null,
   "id": "34e119a5",
   "metadata": {},
   "outputs": [],
   "source": []
  },
  {
   "cell_type": "code",
   "execution_count": null,
   "id": "4051399b",
   "metadata": {},
   "outputs": [],
   "source": [
    "Counter(sol[\"reason\"] for sol in all_solutions).most_common(15)"
   ]
  },
  {
   "cell_type": "code",
   "execution_count": null,
   "id": "4566ea99",
   "metadata": {},
   "outputs": [],
   "source": [
    "def analyze_reason(bill_reason: str, our_reasons):\n",
    "    print(\"REASON: \", bill_reason)\n",
    "    reason_rows = [row for row in all_solutions if bill_reason.lower() in row[\"reason\"].lower()]\n",
    "    print(\"KMB Decision: \", Counter(row[\"kmb_decision\"] for row in reason_rows))\n",
    "    print(\"Org: \", Counter(row[\"org_name_solution\"] for row in reason_rows))\n",
    "    print(\"Individual: \", Counter(row[\"individual_solution\"] for row in reason_rows))\n",
    "    print(\"Geo: \", Counter(row[\"geo_solution\"] for row in reason_rows))\n",
    "    print(\"\\n\")\n",
    "    not_matching_reasons = reason_rows\n",
    "    for agent, solution in our_reasons:\n",
    "        not_matching_reasons = [row for row in not_matching_reasons if row[agent] == solution]\n",
    "    not_matching_len = len(not_matching_reasons)\n",
    "    indexes = [0, \n",
    "               int(not_matching_len * 0.2), \n",
    "               int(not_matching_len * 0.3),\n",
    "               int(not_matching_len * 0.4), \n",
    "               int(not_matching_len * 0.5), \n",
    "               int(not_matching_len * 0.6),\n",
    "               int(not_matching_len * 0.7),\n",
    "               int(not_matching_len * 0.8),\n",
    "               not_matching_len - 1,\n",
    "              ]\n",
    "    for index in indexes:\n",
    "        print_names(not_matching_reasons[index])\n",
    "        print(\"\\n\")    "
   ]
  },
  {
   "cell_type": "code",
   "execution_count": null,
   "id": "0b6f9b26",
   "metadata": {},
   "outputs": [],
   "source": [
    "analyze_reason(\"address does not match\", \n",
    "               [(\"geo_solution\", \"NO_DATA\"), \n",
    "               ])"
   ]
  },
  {
   "cell_type": "code",
   "execution_count": null,
   "id": "54a2d572",
   "metadata": {},
   "outputs": [],
   "source": [
    "analyze_reason(\"country does not match\", \n",
    "               [\n",
    "                 (\"geo_solution\", \"COUNTRY_MATCH\"),\n",
    "               ])"
   ]
  },
  {
   "cell_type": "code",
   "execution_count": null,
   "id": "f31f2211",
   "metadata": {},
   "outputs": [],
   "source": []
  },
  {
   "cell_type": "code",
   "execution_count": null,
   "id": "916a4814",
   "metadata": {},
   "outputs": [],
   "source": [
    "country_match = [match for match in all_matches_application_data if match[\"record_id\"] == \"123\"]"
   ]
  },
  {
   "cell_type": "code",
   "execution_count": null,
   "id": "9ecf17cd",
   "metadata": {},
   "outputs": [],
   "source": [
    "country_match"
   ]
  },
  {
   "cell_type": "code",
   "execution_count": null,
   "id": "d48ba88b",
   "metadata": {},
   "outputs": [],
   "source": [
    "analyze_reason(\"only partial name match\", \n",
    "               [\n",
    "                   (\"org_name_solution\", \"MATCH\"), \n",
    "               ]\n",
    "              )"
   ]
  },
  {
   "cell_type": "code",
   "execution_count": null,
   "id": "5c8cc746",
   "metadata": {},
   "outputs": [],
   "source": [
    "analyze_reason(\"only partial name match\", \n",
    "               [\n",
    "                   (\"individual_solution\", \"MATCH\"), \n",
    "               ]\n",
    "              )"
   ]
  },
  {
   "cell_type": "code",
   "execution_count": null,
   "id": "0d7b0cec",
   "metadata": {
    "scrolled": false
   },
   "outputs": [],
   "source": [
    "analyze_reason(\"name and country do not match\", \n",
    "               [\n",
    "                   (\"geo_solution\", \"COUNTRY_MATCH\"), \n",
    "                   (\"org_name_solution\", \"MATCH\")\n",
    "               ]\n",
    "              )"
   ]
  },
  {
   "cell_type": "code",
   "execution_count": null,
   "id": "b834631d",
   "metadata": {},
   "outputs": [],
   "source": [
    "analyze_reason(\"name and country do not match\", \n",
    "               [\n",
    "                   (\"org_name_solution\", \"MATCH\"), \n",
    "               ]\n",
    "              )"
   ]
  },
  {
   "cell_type": "code",
   "execution_count": null,
   "id": "e458bb40",
   "metadata": {},
   "outputs": [],
   "source": [
    "analyze_reason(\"name and country do not match\", \n",
    "               [\n",
    "                   (\"individual_solution\", \"MATCH\"), \n",
    "               ]\n",
    "              )"
   ]
  },
  {
   "cell_type": "code",
   "execution_count": null,
   "id": "87fc10d7",
   "metadata": {},
   "outputs": [],
   "source": [
    "analyze_reason(\"name and country do not match\", \n",
    "               [\n",
    "                   (\"geo_solution\", \"COUNTRY_MATCH\"), \n",
    "               ]\n",
    "              )"
   ]
  },
  {
   "cell_type": "code",
   "execution_count": null,
   "id": "533fa392",
   "metadata": {},
   "outputs": [],
   "source": []
  },
  {
   "cell_type": "code",
   "execution_count": null,
   "id": "97c905b8",
   "metadata": {},
   "outputs": [],
   "source": [
    "MI = 27_318 + 14923\n",
    "FP = 39_336\n",
    "PTP = 752\n",
    "\n",
    "ALL = MI + FP + PTP\n",
    "\n",
    "print(\"FP: \", FP / ALL)\n",
    "print(\"MI: \", MI / ALL)\n",
    "print(\"PTP: \", PTP / ALL)"
   ]
  }
 ],
 "metadata": {
  "kernelspec": {
   "display_name": "Python 3",
   "language": "python",
   "name": "python3"
  },
  "language_info": {
   "codemirror_mode": {
    "name": "ipython",
    "version": 3
   },
   "file_extension": ".py",
   "mimetype": "text/x-python",
   "name": "python",
   "nbconvert_exporter": "python",
   "pygments_lexer": "ipython3",
   "version": "3.8.8"
  }
 },
 "nbformat": 4,
 "nbformat_minor": 5
}
