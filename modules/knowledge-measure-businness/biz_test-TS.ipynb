{
 "cells": [
  {
   "cell_type": "code",
   "execution_count": null,
   "id": "ec57c35b",
   "metadata": {},
   "outputs": [],
   "source": [
    "import yaml\n",
    "import re\n",
    "from pprint import pprint as pp\n",
    "from typing import List\n",
    "\n",
    "from business_layer.business_layer_ts import BusinessLayerTS\n",
    "\n",
    "%load_ext autoreload\n",
    "%autoreload 2"
   ]
  },
  {
   "cell_type": "code",
   "execution_count": null,
   "id": "9abe8161",
   "metadata": {},
   "outputs": [],
   "source": [
    "#TS example\n",
    "alert_data = [\n",
    "    {\n",
    "        'msg': '[ORIGINATOR     ] IT36701908273410 AC 121140399 BANK OF TIANJIN CO LTD NO.15 YOU YI ROAD,HE XI DISTRICT',\n",
    "        'wl_name': 'another company',\n",
    "        'wl_location': 'COLOMBIA',\n",
    "        'wl_ssn': '123'\n",
    "    }\n",
    "]"
   ]
  },
  {
   "cell_type": "code",
   "execution_count": null,
   "id": "b044972e",
   "metadata": {},
   "outputs": [],
   "source": [
    "#order matters\n",
    "policy_steps = [\n",
    "    {\n",
    "        'decision': 'PTP', \n",
    "        'conditions': [\n",
    "            {'geo_location': ['COUNTRY_MATCH']}\n",
    "        ]\n",
    "    },\n",
    "    { \n",
    "        'decision': 'FP',\n",
    "        'conditions': [\n",
    "            {'geo_location': ['COUNTRY_NO_MATCH', 'CITY_NO_MATCH'], 'org_name_name': ['NO_MATCH']},\n",
    "        ]\n",
    "    }\n",
    "]"
   ]
  },
  {
   "cell_type": "code",
   "execution_count": null,
   "id": "5972fdc5",
   "metadata": {},
   "outputs": [],
   "source": [
    "with open('business_layer/config_ts.yaml', 'r') as cfg_file:\n",
    "    cfg = yaml.safe_load(cfg_file)"
   ]
  },
  {
   "cell_type": "code",
   "execution_count": null,
   "id": "bce4cba1",
   "metadata": {},
   "outputs": [],
   "source": [
    "biz_layer = BusinessLayerTS(cfg)"
   ]
  },
  {
   "cell_type": "code",
   "execution_count": null,
   "id": "dddfd2f4",
   "metadata": {},
   "outputs": [],
   "source": [
    "for alert in alert_data:\n",
    "    result = biz_layer.solve_hit(alert, policy_steps)\n",
    "    pp(result)\n",
    "    print()"
   ]
  },
  {
   "cell_type": "code",
   "execution_count": null,
   "id": "a56ac1fa",
   "metadata": {},
   "outputs": [],
   "source": []
  }
 ],
 "metadata": {
  "interpreter": {
   "hash": "b7222c62510c172e945ecd17a80e369989a884ec49fc1143b9b4b052a4120551"
  },
  "kernelspec": {
   "display_name": "Python 3.9.12 ('kmb')",
   "language": "python",
   "name": "python3"
  },
  "language_info": {
   "codemirror_mode": {
    "name": "ipython",
    "version": 3
   },
   "file_extension": ".py",
   "mimetype": "text/x-python",
   "name": "python",
   "nbconvert_exporter": "python",
   "pygments_lexer": "ipython3",
   "version": "3.9.12"
  }
 },
 "nbformat": 4,
 "nbformat_minor": 5
}
